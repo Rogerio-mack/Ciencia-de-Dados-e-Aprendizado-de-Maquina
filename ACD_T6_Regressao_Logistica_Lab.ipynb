{
  "nbformat": 4,
  "nbformat_minor": 0,
  "metadata": {
    "anaconda-cloud": {},
    "kernelspec": {
      "display_name": "Python 3",
      "language": "python",
      "name": "python3"
    },
    "language_info": {
      "codemirror_mode": {
        "name": "ipython",
        "version": 3
      },
      "file_extension": ".py",
      "mimetype": "text/x-python",
      "name": "python",
      "nbconvert_exporter": "python",
      "pygments_lexer": "ipython3",
      "version": "3.7.4"
    },
    "colab": {
      "name": "ACD_T6_Regressao_Logistica_Lab.ipynb",
      "provenance": [],
      "include_colab_link": true
    }
  },
  "cells": [
    {
      "cell_type": "markdown",
      "metadata": {
        "id": "view-in-github",
        "colab_type": "text"
      },
      "source": [
        "<a href=\"https://colab.research.google.com/github/Rogerio-mack/Ciencia-de-Dados-e-Aprendizado-de-Maquina/blob/main/ACD_T6_Regressao_Logistica_Lab.ipynb\" target=\"_parent\"><img src=\"https://colab.research.google.com/assets/colab-badge.svg\" alt=\"Open In Colab\"/></a>"
      ]
    },
    {
      "cell_type": "markdown",
      "metadata": {
        "id": "gglUriLmo1sR"
      },
      "source": [
        "<head>\n",
        "  <meta name=\"author\" content=\"Rogério de Oliveira\">\n",
        "  <meta institution=\"author\" content=\"Universidade Presbiteriana Mackenzie\">\n",
        "</head>\n",
        "\n",
        "<img src=\"http://meusite.mackenzie.br/rogerio/mackenzie_logo/UPM.2_horizontal_vermelho.jpg\" width=300, align=\"right\"></a>\n",
        "<!-- <h1 align=left><font size = 6, style=\"color:rgb(200,0,0)\"> optional title </font></h1> -->"
      ]
    },
    {
      "cell_type": "markdown",
      "metadata": {
        "id": "x3RSAcU_o1sU"
      },
      "source": [
        "# **Regressão Logistica - LAB**\n",
        "---"
      ]
    },
    {
      "cell_type": "code",
      "metadata": {
        "id": "UPVeFK3a5i6d",
        "colab": {
          "base_uri": "https://localhost:8080/"
        },
        "outputId": "da501614-1022-41fe-8929-792e05f9cc2f"
      },
      "source": [
        "import pandas                  as pd\n",
        "import numpy                   as np\n",
        "import matplotlib.pyplot       as plt\n",
        "import seaborn                 as sns\n",
        "import statsmodels.formula.api as sm\n",
        "import warnings\n",
        "warnings.filterwarnings(\"ignore\")\n",
        "\n",
        "from sklearn.model_selection import train_test_split #para facilitar a separação dos dados..\n",
        "from sklearn.linear_model import LogisticRegression  #para configurar o modelo.. \n",
        "from sklearn import metrics                          #para obter métricas de análise..\n"
      ],
      "execution_count": null,
      "outputs": [
        {
          "output_type": "stream",
          "name": "stderr",
          "text": [
            "/usr/local/lib/python3.7/dist-packages/statsmodels/tools/_testing.py:19: FutureWarning: pandas.util.testing is deprecated. Use the functions in the public API at pandas.testing instead.\n",
            "  import pandas.util.testing as tm\n"
          ]
        }
      ]
    },
    {
      "cell_type": "markdown",
      "metadata": {
        "deletable": true,
        "editable": true,
        "id": "qK4Wi5vshpPc"
      },
      "source": [
        "## Relembrando...\n",
        "\n",
        "Aqui um exemplo de código de uso da regressão logística. Esta célula não executa, é apenas um modelo de código. **Empregue no exercício, os mesmos parâmetros deste exemplo para separar o conjunto de dados de treinamento e teste**.  \n"
      ]
    },
    {
      "cell_type": "code",
      "metadata": {
        "id": "9_7mcJXbFnyU"
      },
      "source": [
        "%%script echo skipping\n",
        "#separando variáveis independentes das dependentes\n",
        "x = df.drop('Y',axis=1)\n",
        "y = df['Y']\n",
        "\n",
        "#montando todos os df necessários\n",
        "X_train, X_test, y_train, y_test = train_test_split(x, y, test_size=0.3, random_state=1)\n",
        "\n",
        "#criando o modelo\n",
        "logreg = LogisticRegression()\n",
        "\n",
        "#treinando o modelo\n",
        "logreg.fit(X_train,y_train)\n",
        "\n",
        "#utilizando o modelo\n",
        "y_pred=logreg.predict(X_test)\n",
        "\n",
        "#visualizando os resultados\n",
        "cnf_matrix = metrics.confusion_matrix(y_test, y_pred)\n",
        "cnf_matrix\n",
        "\n",
        "#verificando com qual probabilidade os dados foram classificados\n",
        "y_pred_prob = logreg.predict_proba(df.drop('Y',axis=1))"
      ],
      "execution_count": null,
      "outputs": []
    },
    {
      "cell_type": "markdown",
      "metadata": {
        "id": "RUkrHCJKSYn3"
      },
      "source": [
        "##CASO: Consumo de combustível em veículos ##\n",
        "\n",
        "Resumo: Informações sobre o consumo de combustível em veículos, medido em milhas por galão (mpg)\n",
        "\n",
        "Para descrição completa dos dados acesse https://archive.ics.uci.edu/ml/datasets/auto+mpg. \n",
        "\n"
      ]
    },
    {
      "cell_type": "code",
      "metadata": {
        "id": "S4n19clB0fvg"
      },
      "source": [
        "mpg = sns.load_dataset('mpg')\n"
      ],
      "execution_count": null,
      "outputs": []
    },
    {
      "cell_type": "code",
      "metadata": {
        "id": "yzrnYiUb3bmX"
      },
      "source": [
        "#Qual o tamanho do df?\n",
        "\n",
        "\n",
        "#existem valores que devem ser excluídos?\n",
        "\n",
        "\n",
        "#se existirem, exclua..\n"
      ],
      "execution_count": null,
      "outputs": []
    },
    {
      "cell_type": "code",
      "source": [
        "# Quantas configurações diferentes de cilindros existem?"
      ],
      "metadata": {
        "id": "X7DHOGRCKSPV"
      },
      "execution_count": null,
      "outputs": []
    },
    {
      "cell_type": "code",
      "source": [
        "# Qual o percentual de veículos com mpg maior que 25?"
      ],
      "metadata": {
        "id": "jm0WWnuZKpQ7"
      },
      "execution_count": null,
      "outputs": []
    },
    {
      "cell_type": "code",
      "source": [
        "# Quantos veículos foram produzidos nos EUA?"
      ],
      "metadata": {
        "id": "EALkvP31K-4M"
      },
      "execution_count": null,
      "outputs": []
    },
    {
      "cell_type": "markdown",
      "metadata": {
        "id": "SDOuWe1Ca9Gx"
      },
      "source": [
        "Vamos alterar a coluna `origin` de modo que ela represente se um veículo foi ou não produzido nos EUA.\n",
        "Dica: utilize:\n",
        "\n",
        "```\n",
        "# df.coluna.replace('antigo','novo')\n",
        "```\n",
        "\n"
      ]
    },
    {
      "cell_type": "code",
      "metadata": {
        "id": "m6Mj132ha8dJ"
      },
      "source": [
        "#trocando os dados\n",
        "\n"
      ],
      "execution_count": null,
      "outputs": []
    },
    {
      "cell_type": "code",
      "metadata": {
        "id": "b5tAB5-Pc2Ja"
      },
      "source": [
        "#quantos veículos da base foram produzidos nos EUA e quantos não?\n",
        "\n",
        "\n",
        "#qual a porcentagem de veículos dos EUA?\n"
      ],
      "execution_count": null,
      "outputs": []
    },
    {
      "cell_type": "markdown",
      "metadata": {
        "id": "b-kj9kcnZME4"
      },
      "source": [
        "O consumo em mpg e o número de cilindros, conseguem classificar se um veículo foi produzido nos EUA ou não?\n",
        "\n",
        "Empregue o modelo de Regressão Logística para classificar a origin dos veículos a partir somente dos valores de mpg e cylinders.\n",
        "\n",
        "Utilize 30% para dados de teste, não estratificados pelo atributo de classe e a semente de geração aleatória (random_state=1).\n",
        "\n",
        "Qual a acuracidade (score) obtido pelo modelo?\n",
        "\n",
        "Dica: Muito Cuidado. Se você não empregar exatamente as configurações acima você vai criar conjuntos de treinamento e testes diferentes e não vai chegar às respostas que encontra nos testes!"
      ]
    },
    {
      "cell_type": "code",
      "metadata": {
        "id": "kRs7qY682YL-"
      },
      "source": [
        "#seu código aqui.."
      ],
      "execution_count": null,
      "outputs": []
    },
    {
      "cell_type": "code",
      "metadata": {
        "id": "Zt4Cw-RQdGga"
      },
      "source": [
        "#resultados..\n",
        "from sklearn.metrics import accuracy_score\n",
        "\n",
        "accuracy_score(y_test,y_pred)"
      ],
      "execution_count": null,
      "outputs": []
    },
    {
      "cell_type": "markdown",
      "metadata": {
        "id": "0_n9V4bweRbV"
      },
      "source": [
        "Construa um modelo de regressão logistica para prever se um veículo foi produzido nos EUA ou não, considerando todas as variáveis possíveis (isto é, todos exceto `name`)."
      ]
    }
  ]
}