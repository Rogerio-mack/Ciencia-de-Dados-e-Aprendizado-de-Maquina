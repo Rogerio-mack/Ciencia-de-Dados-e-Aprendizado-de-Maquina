{
  "nbformat": 4,
  "nbformat_minor": 0,
  "metadata": {
    "kernelspec": {
      "display_name": "Python 3",
      "language": "python",
      "name": "python3"
    },
    "language_info": {
      "codemirror_mode": {
        "name": "ipython",
        "version": 3
      },
      "file_extension": ".py",
      "mimetype": "text/x-python",
      "name": "python",
      "nbconvert_exporter": "python",
      "pygments_lexer": "ipython3",
      "version": "3.7.4"
    },
    "colab": {
      "name": "ACD_T1_ Introducao_Ciencia_de_Dados_e_ML.ipynb",
      "provenance": []
    }
  },
  "cells": [
    {
      "cell_type": "markdown",
      "metadata": {
        "id": "J3LMBfpeHTwb"
      },
      "source": [
        "<head>\n",
        "  <meta name=\"author\" content=\"Rogério de Oliveira\">\n",
        "  <meta institution=\"author\" content=\"Universidade Presbiteriana Mackenzie\">\n",
        "</head>\n",
        "\n",
        "<img src=\"http://meusite.mackenzie.br/rogerio/mackenzie_logo/UPM.2_horizontal_vermelho.jpg\" width=300, align=\"right\"></a>\n",
        "<!-- <h1 align=left><font size = 6, style=\"color:rgb(200,0,0)\"> optional title </font></h1> -->\n"
      ]
    },
    {
      "cell_type": "markdown",
      "metadata": {
        "id": "zQX8WQPeHTwc"
      },
      "source": [
        "<h1 align=left><font size = 6, style=\"color:rgb(200,0,0)\">Introdução</font></h1>\n",
        "<hr>"
      ]
    },
    {
      "cell_type": "markdown",
      "metadata": {
        "id": "7z_FmHQcHTwc"
      },
      "source": [
        "### **Bem vindo!** \n",
        "\n",
        "Aqui faremos uma Introdução à Ciência de Dados e aos ambientes de programação `Python`. Ao final dessa unidade você deve ser capaz de entender a importância e dar exemplos do uso de Ciência de Dados. Poderá explicar os principais termos associados a essa disciplina (como *Machine Learning* e *Big Data*) e reconhecer alguns de seus mitos. Entenderá também as principais fases de um processo de análise de dados e como empregar as plataformas `Colab` e `Jupyter`.  \n"
      ]
    },
    {
      "cell_type": "markdown",
      "metadata": {
        "id": "jXZGMYhSHTwd"
      },
      "source": [
        "<a id=\"OqueéCiênciadeDados\"></a> \n",
        "## O que é a Ciência de Dados?"
      ]
    },
    {
      "cell_type": "markdown",
      "metadata": {
        "id": "yLdBqeN6HTwe"
      },
      "source": [
        "A **Ciência de Dados é uma disciplina que trata de como extrair e aplicar insights de informações à partir de dados**. É uma ciência interdisciplinar que emprega conceitos de Estatística, Aprendizado Máquina e diferentes técnicas Computacionais de obtenção e armazenamento de dados para obter esses insights dando suporte a decisões que podem ser automatizadas ou não.  \n",
        "\n",
        "Ciência de Dados, Aprendizado de Máquina, Mineração e Análise de Dados são normalmente empregados de forma similar. \n",
        "O quê todos trazem em comum? Todos estão relacionadas a fornecer um maior suporte à decisão através de dados.  \n",
        "\n",
        "O `Aprendizado de Máquina` concentra-se em criar algoritmos para extração de padrões dos dados.\n",
        "\n",
        "A `Mineração e Análise de Dados` está em geral associada à análise de dados estruturados com aplicações comerciais.\n",
        "\n",
        "A `Ciência de Dados` inclui todos esses aspectos e incorpora outros desafios como a captura e transformação de grandes volumes de dados (big data), manipulação de dados não estruturados (web, social networks), serviços de computação em nuvem, aspectos de segurança e privacidade etc.\n",
        "\n",
        "Sendo uma abordagem mais atual, damos aqui mais ênfase na Ciência de Dados, com a aplicação de algoritmos de aprendizado de máquina, que a Mineração e Análise de dados tradicionais de dados. \n"
      ]
    },
    {
      "cell_type": "markdown",
      "metadata": {
        "id": "XlHlnG3HHTwe"
      },
      "source": [
        "| Tipo  | Ciência de Dados | Análise Tradicional | \n",
        "| --- | --- | --- |\n",
        "Tipo de Dados | Não estruturados | Estruturados (linhas e colunas) | \n",
        "Volume de Dados | Big Data (centenas de Terabytes) | Dezenas de Terabytes ou menos | \n",
        "Fluxo de Dados | Contínuo, Big Data | Estático |\n",
        "Métodos de Análise | Machine Learning | Visual, Hypothesis-Based |\n",
        "Propósito | Data-base Products | Internal Support Decision | "
      ]
    },
    {
      "cell_type": "markdown",
      "metadata": {
        "id": "khuoEfh8HTwf"
      },
      "source": [
        "### Inteligência Artificial e Ciência de Dados \n",
        "\n",
        "Outro termo que aparece bastante relacionado a Ciência de Dados é o termo Inteligência Artificial. Embora Inteligência Artificial, Ciência de Dados e Machine Learning tenham muito em comum não são exatamente disciplinas idênticas. A figura abaixo busca mostrar como essas disciplinas se relacionam.\n",
        "\n",
        "<br>\n",
        "<img src=\"http://meusite.mackenzie.br/rogerio/DS.png\" width=500, align=\"center\">\n",
        "<h4 align=\"center\">AI, ML, DS e DL</h4>\n",
        "<br>\n",
        "\n",
        "A Inteligência Artificial envolve temas mais abrangentes como Visão Computacional, Robótica, Processamento de Linguagem Natural e outros paradigmas e linguagens de aprendizado. Recentemente muitas dessas tarefas vêem empregando algoritmos de Redes Neurais profundas (´Deep Learning´), modelos de Aprendizado de Máquinas baseados em redes neurais artificiais.\n",
        "\n",
        "\n",
        "### Big Data e Ciência de Dados \n",
        "\n",
        "Também é frequente associarmos a Ciência de Dados a Big Data. Mais adiante você terá uma definição mais clara de Big Data, mas por hora é suficiente sabermos que a Ciência de Dados pode estar ou não associada a um grande volume de dados (Big Data). Embora ela seja essencial para grandes volumes de dados, ela pode ser aplicada a quaiquer conjuntos de dados independentemente do volume. "
      ]
    },
    {
      "cell_type": "markdown",
      "metadata": {
        "id": "kZXTrHNZHTwf"
      },
      "source": [
        "### Padrões\n",
        "\n",
        "Para obter esses \"insights\" sobre os dados a Ciência de Dados busca extrair `padrões` válidos, novos, potencialmente úteis e  compreensíveis sobre os dados.\n",
        "\n",
        "Podemos por exemplo identificar grupos de Clientes com os mesmos *padrões* de comportamento e gostos (**Customer Segmentation**), produtos que são adquiridos frequentemente juntos (**Association-rule Mining**), comportamentos anômalos, como uma operação de crédito fraudulenta, um tráfeco de internet anormal ou o mal comportamento de uma planta de produção (**Anomaly Detection**). Esses padrões podem classificar Clientes sujeitos a Crédito/ou Não Crédito, emails como Spam/Not Spam,  Apólices de Seguro em diferentes classes de risco, ou Peças produzidas com diferentes níveis de qualidade (**Classification**). Um padrão também pode fornecer uma estimativa de valores para formação de preços, como preços de Máquinas produzidas com peças de diferentes fornecedores, e previsão de valores como volumes de Produção e Consumo (**Regressão**).  \n",
        "\n",
        "Embora possamos extrair diferentes tipos de padrões, você sempre vai querer extrair padrões **não óbvios** e **úteis**. Além disso se existe um padrão já conhecido (por exemplo, um modelo físico para prever a velocidade de objeto) não há sentido em buscá-lo à partir dos dados.  \n",
        "\n",
        "[comment]: <> (modelo físico x = x0 + vt + at2/2; easy rule: \"make money easily\" > spam, only one atribute!; customer churn, you also should be able to identify early enough and contact them)\n",
        "\n"
      ]
    },
    {
      "cell_type": "markdown",
      "metadata": {
        "id": "PxLKMAeZHTwg"
      },
      "source": [
        "### Breve Histórico da Ciência de Dados\n",
        "\n",
        "Veja alguns *milestones* da Ciência de Dados.\n",
        "\n",
        "1. **17xx - 18xx** - Summary (desciptive) statistics. Fundamentos da Teoria das Probabilidades (Bernoulli, Bayes, Pascal). Distribuição de Probabilidades, Bayes's Rule (Laplace, Gauss). Least Square Method (Gauss). Bar, line, area and pie charts (William Playfair). \n",
        "\n",
        "1. **19xx - 20xx** - Hypothesis Test (Pearson). Multivariate Analysis (Fisher). Relational Data Model, SQL (Edgar F. Codd, 1970). Turing Machine (Allan Turing). Information Theory (Shannon, 1948). Artificial Neural Model (MCCulloch & Pitts, 1943). Discriminatory Analysis (=classification, Evelyn Fix & Hodges, 1951). First AI Workshop (1956, Dartmouth College).Machine Learning (kmeans, knn, Decision Trees, 1960-70). Computers. Early Internet. Early AI. Perceptron\n",
        "\n",
        "1. **20xx - 20xx** - Humans generate and store the same amount of data produced since inventing of writing every day. Search Engines. Social Networks. Google, Facebook, Spotify, Netflix. SmartPhones. IoT. Big Data (HDFS, Mapreduce). Deep Learning. t-SNE. Indústria 4.0. NoSQL databases. Cloud Computing. GPU. **Pela primeira vez o valor das Empresas de Informação (Google, Facebook etc.) superam o valor das empresas de Petróleo (2018)**\n",
        "\n",
        "\n",
        "\n",
        "\n",
        "\n",
        "\n",
        "\n",
        "\n",
        "\n"
      ]
    },
    {
      "cell_type": "code",
      "metadata": {
        "id": "elb7Hn8fHTwg",
        "outputId": "4f5cd838-07fb-40f3-bf67-23c924dbbc06"
      },
      "source": [
        "from IPython.display import IFrame\n",
        "IFrame('https://medium.com/@zakharkhrystych/data-science-timeline-305ef75dceb6', width='100%', height=500)\n",
        "\n"
      ],
      "execution_count": null,
      "outputs": [
        {
          "output_type": "execute_result",
          "data": {
            "text/html": [
              "\n",
              "        <iframe\n",
              "            width=\"100%\"\n",
              "            height=\"500\"\n",
              "            src=\"https://medium.com/@zakharkhrystych/data-science-timeline-305ef75dceb6\"\n",
              "            frameborder=\"0\"\n",
              "            allowfullscreen\n",
              "        ></iframe>\n",
              "        "
            ],
            "text/plain": [
              "<IPython.lib.display.IFrame at 0x16ebd497c50>"
            ]
          },
          "metadata": {
            "tags": []
          },
          "execution_count": 118
        }
      ]
    },
    {
      "cell_type": "markdown",
      "metadata": {
        "id": "90tUbGn1HTwk"
      },
      "source": [
        "**Breiman, Leo. “Statistical Modeling: The Two Cultures.” (2001).**\n",
        "\n",
        "[comment]: <> (http://localhost:8888/files/Breiman2001StatisticalMT.pdf \n",
        "               Data Analysis: \n",
        "                   Traditional statistic approach = Explanatory\n",
        "                       Identificar o modelo de dados e como ele é gerado\n",
        "                   Algorithmic-modeling Culture\n",
        "                       Create prediction models that area accurate)\n",
        "\n"
      ]
    },
    {
      "cell_type": "code",
      "metadata": {
        "id": "yYsbLFiIHTwl",
        "outputId": "b5d17121-e9bb-42a6-8166-1ba884234855"
      },
      "source": [
        "from IPython.display import IFrame\n",
        "IFrame('https://pdfs.semanticscholar.org/d439/2169f2232e47befe78d79a9879c1cdd079e8.pdf?_ga=2.129927820.140444390.1578333366-1845050950.1578159389', width='100%', height=350)\n",
        "\n"
      ],
      "execution_count": null,
      "outputs": [
        {
          "output_type": "execute_result",
          "data": {
            "text/html": [
              "\n",
              "        <iframe\n",
              "            width=\"100%\"\n",
              "            height=\"350\"\n",
              "            src=\"https://pdfs.semanticscholar.org/d439/2169f2232e47befe78d79a9879c1cdd079e8.pdf?_ga=2.129927820.140444390.1578333366-1845050950.1578159389\"\n",
              "            frameborder=\"0\"\n",
              "            allowfullscreen\n",
              "        ></iframe>\n",
              "        "
            ],
            "text/plain": [
              "<IPython.lib.display.IFrame at 0x16ebd497ef0>"
            ]
          },
          "metadata": {
            "tags": []
          },
          "execution_count": 119
        }
      ]
    },
    {
      "cell_type": "markdown",
      "metadata": {
        "id": "8dJiYIuTHTwn"
      },
      "source": [
        "### Padrões e Aplicações\n",
        "\n",
        "Para obter esses \"insights\" sobre os dados a Ciência de Dados busca extrair `padrões` válidos, novos, potencialmente úteis e  compreensíveis sobre os dados.\n",
        "\n",
        "Podemos por exemplo identificar grupos de Clientes com os mesmos *padrões* de comportamento e gostos (**Customer Segmentation**), produtos que são adquiridos frequentemente juntos (**Association-rule Mining**), comportamentos anômalos, como uma operação de crédito fraudulenta, um tráfeco de internet anormal ou o mal comportamento de uma planta de produção (**Anomaly Detection**). Esses padrões podem classificar Clientes sujeitos a Crédito/ou Não Crédito, emails como Spam/Not Spam,  Apólices de Seguro em diferentes classes de risco, ou Peças produzidas com diferentes níveis de qualidade (**Classification**). Um padrão também pode fornecer uma estimativa de valores para formação de preços, como preços de Máquinas produzidas com peças de diferentes fornecedores, e previsão de valores como volumes de Produção e Consumo (**Regressão**).  \n",
        "\n",
        "Embora possamos extrair diferentes tipos de padrões, você sempre vai querer extrair padrões **não óbvios** e **úteis**. Além disso se existe um padrão já conhecido (por exemplo, um modelo físico para prever a velocidade de objeto) não há sentido em buscá-lo à partir dos dados.  \n",
        "\n",
        "\n",
        "\n",
        "\n"
      ]
    },
    {
      "cell_type": "markdown",
      "metadata": {
        "id": "TJS1HgEbHTwo"
      },
      "source": [
        "<a id=\"Aplicações\"></a> \n",
        "## Aplicações\n",
        "\n",
        "Se você usa um celular, faz compras pela Internet, emprega redes sociais ou faz transações com um cartão de crédito você certamente já teve contato com aplicações de Ciência de Dados. Elas estão presentes quase todos os segmentos Finanças, Robótica, Marketing, Vendas, Indústria, Medicina, Ciências em geral, Governo etc.\n",
        "\n",
        "Um grande número de fatores tem contribuído para o recente crescimento do uso da Ciência de Dados sejam do lado da demanda, com novas aplicações (aplicações móveis, IoT, redes sociais, games, marketing digital, diagnósticos por imagem, aplicações geoespaciais), ou do lado da capacidade das soluções (aumento da capacidade computacional com o uso da computação em nuvem, tecnologias de armazenamento, GPU; grandes avanços no aprendizado de máquinas - *deep learning*, *graphical models*). *Deep Learning* vem trazendo um impacto massivo no segmento de tecnologias de consumo. Google e Baidu empregam DL para o reconhecimento de imagens, em search engines e em soluções de tradução automática. Apple Siri, Amazon Alexa, Microsoft Cortana e Samsung Bixby empregam DL para *speech recognition*.  \n",
        "\n",
        "Você encontrar abaixo alguns casos clássicos da aplicação da Ciência de Dados, aplicações em diferentes áreas, como *Smart Cities* e Eleições, e aplicações no Setor da Manufatura. \n"
      ]
    },
    {
      "cell_type": "markdown",
      "metadata": {
        "id": "V31xyN_rHTwo"
      },
      "source": [
        "### How Target Figured Out A Teen Girl Was Pregnant Before Her Father Did\n",
        "https://www.forbes.com/sites/kashmirhill/2012/02/16/how-target-figured-out-a-teen-girl-was-pregnant-before-her-father-did/#52ff65166668\n",
        "\n",
        "### Beer and Diapers (Nappies)\n",
        "https://bigdatabigworld.wordpress.com/2014/11/25/beer-and-nappies/\n",
        "\n",
        "### The Story of Moneyball Proves Importance of Both Big Data and Big Ideas\n",
        "https://datasciencedegree.wisconsin.edu/blog/moneyball-proves-importance-big-data-big-ideas/\n",
        "\n",
        "### You’ll Never Guess What Surprising Product Walmart Stocks up on Before Big Storms\n",
        "https://www.southernliving.com/news/walmart-strawberry-pop-tarts-hurricane\n",
        "\n",
        "### THE AGE OF ANALYTICS: COMPETING IN A DATA-DRIVEN WORLD (2016)\n",
        "https://www.mckinsey.com/~/media/McKinsey/Business%20Functions/McKinsey%20Analytics/Our%20Insights/The%20age%20of%20analytics%20Competing%20in%20a%20data%20driven%20world/MGI-The-Age-of-Analytics-Executive-summary.ashx"
      ]
    },
    {
      "cell_type": "code",
      "metadata": {
        "id": "ppLZLXK1HTwp",
        "outputId": "c315856b-47dd-41b4-bb1d-80921b95e948"
      },
      "source": [
        "from IPython.display import IFrame\n",
        "IFrame('https://www.edureka.co/blog/data-science-applications/#fraudandriskdetection', width='33%', height=300)"
      ],
      "execution_count": null,
      "outputs": [
        {
          "output_type": "execute_result",
          "data": {
            "text/html": [
              "\n",
              "        <iframe\n",
              "            width=\"33%\"\n",
              "            height=\"300\"\n",
              "            src=\"https://www.edureka.co/blog/data-science-applications/#fraudandriskdetection\"\n",
              "            frameborder=\"0\"\n",
              "            allowfullscreen\n",
              "        ></iframe>\n",
              "        "
            ],
            "text/plain": [
              "<IPython.lib.display.IFrame at 0x16ebd497f98>"
            ]
          },
          "metadata": {
            "tags": []
          },
          "execution_count": 120
        }
      ]
    },
    {
      "cell_type": "code",
      "metadata": {
        "id": "tJtUC59lHTwr",
        "outputId": "9e9818d2-89b4-4e7b-9e98-59d7f058df07"
      },
      "source": [
        "from IPython.display import IFrame\n",
        "IFrame('https://towardsdatascience.com/150-business-data-science-application-in-python-72597d90f928', width='33%', height=350)\n",
        "\n"
      ],
      "execution_count": null,
      "outputs": [
        {
          "output_type": "execute_result",
          "data": {
            "text/html": [
              "\n",
              "        <iframe\n",
              "            width=\"33%\"\n",
              "            height=\"350\"\n",
              "            src=\"https://towardsdatascience.com/150-business-data-science-application-in-python-72597d90f928\"\n",
              "            frameborder=\"0\"\n",
              "            allowfullscreen\n",
              "        ></iframe>\n",
              "        "
            ],
            "text/plain": [
              "<IPython.lib.display.IFrame at 0x16ebd497fd0>"
            ]
          },
          "metadata": {
            "tags": []
          },
          "execution_count": 121
        }
      ]
    },
    {
      "cell_type": "markdown",
      "metadata": {
        "id": "HJJs7eSqHTwu"
      },
      "source": [
        "### Quem é a Cambridge Analytica?\n",
        "\n",
        "https://www.theguardian.com/news/series/cambridge-analytica-files\n",
        "\n"
      ]
    },
    {
      "cell_type": "code",
      "metadata": {
        "id": "-absKHAAHTwu",
        "outputId": "c7d87dea-8bf7-4f26-b704-b6278fbacf19"
      },
      "source": [
        "from IPython.display import IFrame\n",
        "IFrame('https://en.wikipedia.org/wiki/Cambridge_Analytica', width='33%', height=350)\n",
        "\n"
      ],
      "execution_count": null,
      "outputs": [
        {
          "output_type": "execute_result",
          "data": {
            "text/html": [
              "\n",
              "        <iframe\n",
              "            width=\"33%\"\n",
              "            height=\"350\"\n",
              "            src=\"https://en.wikipedia.org/wiki/Cambridge_Analytica\"\n",
              "            frameborder=\"0\"\n",
              "            allowfullscreen\n",
              "        ></iframe>\n",
              "        "
            ],
            "text/plain": [
              "<IPython.lib.display.IFrame at 0x16ebd4a41d0>"
            ]
          },
          "metadata": {
            "tags": []
          },
          "execution_count": 122
        }
      ]
    },
    {
      "cell_type": "markdown",
      "metadata": {
        "id": "py8utaVFHTwx"
      },
      "source": [
        "### How UPS uses AI to deliver holiday gifts in the worst storms\n",
        "\n"
      ]
    },
    {
      "cell_type": "code",
      "metadata": {
        "id": "nhhgG2DUHTwy",
        "outputId": "0de896ee-7eb6-4cef-8875-14670335c5ef"
      },
      "source": [
        "from IPython.display import IFrame\n",
        "IFrame('https://www.technologyreview.com/s/612445/how-ups-uses-ai-to-outsmart-bad-weather/', width='33%', height=350)\n",
        "\n"
      ],
      "execution_count": null,
      "outputs": [
        {
          "output_type": "execute_result",
          "data": {
            "text/html": [
              "\n",
              "        <iframe\n",
              "            width=\"33%\"\n",
              "            height=\"350\"\n",
              "            src=\"https://www.technologyreview.com/s/612445/how-ups-uses-ai-to-outsmart-bad-weather/\"\n",
              "            frameborder=\"0\"\n",
              "            allowfullscreen\n",
              "        ></iframe>\n",
              "        "
            ],
            "text/plain": [
              "<IPython.lib.display.IFrame at 0x16ebd4a4320>"
            ]
          },
          "metadata": {
            "tags": []
          },
          "execution_count": 123
        }
      ]
    },
    {
      "cell_type": "markdown",
      "metadata": {
        "id": "jZG7br5aHTw0"
      },
      "source": [
        "### How Big Data Analysis helped increase Walmarts Sales turnover?\n",
        "\n"
      ]
    },
    {
      "cell_type": "code",
      "metadata": {
        "id": "rvWSE_pHHTw0",
        "outputId": "eaf826b9-0ad0-4af8-87bb-a3f1f9677897"
      },
      "source": [
        "from IPython.display import IFrame\n",
        "IFrame('https://www.dezyre.com/article/how-big-data-analysis-helped-increase-walmarts-sales-turnover/109', width='33%', height=350)\n",
        "\n"
      ],
      "execution_count": null,
      "outputs": [
        {
          "output_type": "execute_result",
          "data": {
            "text/html": [
              "\n",
              "        <iframe\n",
              "            width=\"33%\"\n",
              "            height=\"350\"\n",
              "            src=\"https://www.dezyre.com/article/how-big-data-analysis-helped-increase-walmarts-sales-turnover/109\"\n",
              "            frameborder=\"0\"\n",
              "            allowfullscreen\n",
              "        ></iframe>\n",
              "        "
            ],
            "text/plain": [
              "<IPython.lib.display.IFrame at 0x16ebd4a4400>"
            ]
          },
          "metadata": {
            "tags": []
          },
          "execution_count": 124
        }
      ]
    },
    {
      "cell_type": "markdown",
      "metadata": {
        "id": "n4r4NfgAHTw3"
      },
      "source": [
        "### How is Data Science Used in Manufacturing Companies?\n",
        "\n",
        "- Performance, quality assurance and defect tracking\n",
        "- Predictive and conditional maintenance\n",
        "- Demand and throughput forecasting\n",
        "- Supply chain and supplier relations\n",
        "- Global market pricing\n",
        "- Automation and the design of new facilities\n",
        "- New processes and materials for product development and production techniques\n",
        "- Sustainability and greater energy efficiency"
      ]
    },
    {
      "cell_type": "code",
      "metadata": {
        "id": "p1UJB05rHTw5",
        "outputId": "e3b1e34b-d579-47f8-dc2f-5e9cc3ae81b5"
      },
      "source": [
        "from IPython.display import IFrame\n",
        "IFrame('https://www.sensrtrx.com/how-is-data-science-used-in-manufacturing-companies/', width='33%', height=300)"
      ],
      "execution_count": null,
      "outputs": [
        {
          "output_type": "execute_result",
          "data": {
            "text/html": [
              "\n",
              "        <iframe\n",
              "            width=\"33%\"\n",
              "            height=\"300\"\n",
              "            src=\"https://www.sensrtrx.com/how-is-data-science-used-in-manufacturing-companies/\"\n",
              "            frameborder=\"0\"\n",
              "            allowfullscreen\n",
              "        ></iframe>\n",
              "        "
            ],
            "text/plain": [
              "<IPython.lib.display.IFrame at 0x16ebd4a4780>"
            ]
          },
          "metadata": {
            "tags": []
          },
          "execution_count": 125
        }
      ]
    },
    {
      "cell_type": "markdown",
      "metadata": {
        "id": "o4-17_XzHTw8"
      },
      "source": [
        "### Fault Detection in Power Equipment via an Unmanned Aerial System Using \n",
        "\n",
        "Multi Modal Data\n",
        "Uau! Drones meet Machine Learning!"
      ]
    },
    {
      "cell_type": "code",
      "metadata": {
        "id": "p7nBp8HdHTw8",
        "outputId": "c75e0c11-3168-44c1-c851-edbaef9be680"
      },
      "source": [
        "from IPython.display import IFrame\n",
        "IFrame('https://www.ncbi.nlm.nih.gov/pmc/articles/PMC6650806/', width='33%', height=300)"
      ],
      "execution_count": null,
      "outputs": [
        {
          "output_type": "execute_result",
          "data": {
            "text/html": [
              "\n",
              "        <iframe\n",
              "            width=\"33%\"\n",
              "            height=\"300\"\n",
              "            src=\"https://www.ncbi.nlm.nih.gov/pmc/articles/PMC6650806/\"\n",
              "            frameborder=\"0\"\n",
              "            allowfullscreen\n",
              "        ></iframe>\n",
              "        "
            ],
            "text/plain": [
              "<IPython.lib.display.IFrame at 0x16ebd4a4ac8>"
            ]
          },
          "metadata": {
            "tags": []
          },
          "execution_count": 126
        }
      ]
    },
    {
      "cell_type": "markdown",
      "metadata": {
        "id": "icdTDPtLHTw-"
      },
      "source": [
        "### ENGENHARIA AERONÁUTICA, EmbraerX\n",
        "**A chegada dos carros voadores eVTOL**\n",
        "Projetos impulsionam desenvolvimento de protótipos de eVTOLs no Brasil e no mundo\n",
        "\n",
        "https://revistapesquisa.fapesp.br/2019/12/03/a-chegada-dos-carros-voadores/"
      ]
    },
    {
      "cell_type": "markdown",
      "metadata": {
        "id": "PeyoHA6qHTw_"
      },
      "source": [
        "\n",
        "<img src=\"https://revistapesquisa.fapesp.br/wp-content/uploads/2019/12/068-073_evtol_286-1-IMG.png\" width=500, align=\"center\">\n"
      ]
    },
    {
      "cell_type": "markdown",
      "metadata": {
        "id": "whDH3fIOHTw_"
      },
      "source": [
        "### ENGENHARIA FLORESTAL\n",
        "**Identificação de madeiras**\n",
        "Sistemas de visão computacional indicam a qualidade das tábuas e a espécie da árvore à qual elas pertencem\n",
        "\n",
        "https://revistapesquisa.fapesp.br/2017/07/18/identificacao-de-madeiras/"
      ]
    },
    {
      "cell_type": "markdown",
      "metadata": {
        "id": "XlK3CFlPHTw_"
      },
      "source": [
        "\n",
        "<img src=\"https://revistapesquisa.fapesp.br/wp-content/uploads/2017/07/068-071_madeira_257-3.jpg\" width=500, align=\"center\">\n"
      ]
    },
    {
      "cell_type": "markdown",
      "metadata": {
        "id": "Dm-1cLcxHTxA"
      },
      "source": [
        "### ENERGIA, Petrobrás\n",
        "\n",
        "**O gerenciamento de dados é o novo ‘óleo’ da indústria”, alerta nosso pesquisador em evento de tecnologia**\n",
        "08.Dec.2017\n",
        "\n",
        "Uma plataforma marítima moderna pode ser equipada com até 80 mil sensores, capazes de gerar aproximadamente 15 petabytes, o equivalente a 15 milhões de gigabytes de informação, durante a vida útil da unidade. São informações que abrangem dados de produção, de segurança operacional, de comportamento de reservatório, entre outras. Imagine o quanto esse volume de dados estratégicos - uma vez registrados, interpretados e combinados aos demais dados de outras plataformas, por meio de uma ferramenta como o Big Data, por exemplo - pode gerar de valor para uma companhia de petróleo.  “O gerenciamento de dados é o novo “óleo” da indústria. O maior desafio é como conectar, integrar e extrair valor desse volume de dados imenso\",\n",
        "\n",
        "http://www.petrobras.com.br/fatos-e-dados-1/-o-gerenciamento-de-dados-e-o-novo-oleo-da-industria-alerta-nosso-pesquisador-em-evento-de-tecnologia.htm\n",
        "\n",
        "**Metodologias Big Data aplicadas a modelagem na\n",
        "otimização de processos:** tem por objetivo aplicar\n",
        "técnicas de Big Data e Deep Learning para geração\n",
        "e atualização de modelos em tempo real para serem \n",
        "utilizados em monitoração, controle e otimização\n",
        "das unidades operacionais de refino e exploração e\n",
        "produção. Os benefícios esperados são a maximização da\n",
        "rentabilidade do negócio e o aumento da segurança;\n",
        "\n",
        "**Caracterização expressa de petróleos:** tem por\n",
        "objetivo produzir uma avaliação de petróleo completa,\n",
        "praticamente em tempo real, a partir de um conjunto\n",
        "limitado de características medidas em laboratório,\n",
        "algoritmos bioinspirados de agrupamento e tecnologias\n",
        "do estado da arte em Deep Learning e Machine Learning.\n",
        "Gera como benefícios a redução de custos e o aumento\n",
        "da agilidade na atualização dos dados de petróleo,\n",
        "proporcionando uma melhor programação da operação\n",
        "das unidades de refino;\n",
        "\n",
        "**Sistema supervisório de SMS baseado em Inteligência\n",
        "Artificial:** tem por objetivo reduzir nossa taxa de\n",
        "acidentados registráveis, lançando mão de um sistema\n",
        "de monitoramento de imagens em ambientes de risco\n",
        "operacional com uso de redes neurais profundas,\n",
        "tecnologia conhecida como Intelligent Video Analytics\n",
        "(IVA), detectando riscos e desvios ocupacionais,\n",
        "desencadeando protocolo de alertas e respostas em\n",
        "tempo real ao evento;\n",
        "\n",
        "**Busca semântica e identificação de análogos de\n",
        "reservatório:** tem por objetivo investigar o potencial\n",
        "de uma solução tecnológica baseada em tecnologias\n",
        "digitais para identificar similaridades entre projetos\n",
        "exploratórios e projetos de desenvolvimento da produção\n",
        "de reservatórios de petróleo. Permitirá comparar, de forma\n",
        "eficiente, diferentes reservatórios/projetos exploratórios\n",
        "quanto à estratégia de desenvolvimento adotada e a\n",
        "critérios de desempenho como, por exemplo, fator de\n",
        "recuperação e índice de sucesso exploratório;\n",
        "\n",
        "**Desenvolvimento de ferramenta computacional\n",
        "(SimCAP), que contribui para o aumento de produção\n",
        "de asfalto a partir de petróleos do pré-sal:** a ferramenta\n",
        "foi desenvolvida com base em dados experimentais e\n",
        "inteligência artificial, por meio do uso de técnicas de\n",
        "aprendizagem computacional. Tem como objetivo a\n",
        "otimização do elenco de petróleos para redução das\n",
        "restrições de alocação de pré-sal nas refinarias durante\n",
        "campanha de produção de asfalto, conferindo maior\n",
        "competitividade e garantia no atendimento ao mercado.\n",
        "\n",
        "http://www.petrobras.com.br/lumis/portal/file/fileDownload.jsp?fileId=8A19357668CECA4D0169CAA328CA539B\n"
      ]
    },
    {
      "cell_type": "markdown",
      "metadata": {
        "id": "8cpmyM97HTxA"
      },
      "source": [
        "### VISÃO COMPUTACIONAL na indústria\n",
        "\n",
        "**Cresce o uso de sistemas de processamento de imagem em aplicações industriais**, no auxílio a pessoas com dificuldade de locomoção e no diagnóstico de doenças\n",
        "\n",
        "https://revistapesquisa.fapesp.br/2019/03/14/as-maquinas-que-tudo-veem/"
      ]
    },
    {
      "cell_type": "markdown",
      "metadata": {
        "id": "bKU8jo4BHTxB"
      },
      "source": [
        "\n",
        "<img src=\"https://revistapesquisa.fapesp.br/wp-content/uploads/2019/03/070-073_Vis%C3%A3o-computacional_277-0-1140px-abre.jpg\" width=300, align=\"left\">\n",
        "<img src=\"https://revistapesquisa.fapesp.br/wp-content/uploads/2019/03/070-073_Visa%CC%83o-computacional_277-1-desktop.png\" width=600, align=\"right\">\n",
        "\n"
      ]
    },
    {
      "cell_type": "markdown",
      "metadata": {
        "id": "4NLCI8InHTxB"
      },
      "source": [
        "### CENÁRIOS da Indústria\n",
        "\n",
        "**Requisitos para a sobrevivência da indústria** \n",
        "Especialistas mapeiam riscos e oportunidades gerados por mudanças tecnológicas potencialmente disruptivas\n",
        "\n",
        "https://revistapesquisa.fapesp.br/2018/02/15/requisitos-para-a-sobrevivencia-da-industria/"
      ]
    },
    {
      "cell_type": "markdown",
      "metadata": {
        "id": "EsiU0MX6HTxB"
      },
      "source": [
        "\n",
        "<img src=\"https://revistapesquisa.fapesp.br/wp-content/uploads/2018/02/030-035_industria_264-1.jpg\" width=400, align=\"left\">\n",
        "<img src=\"https://revistapesquisa.fapesp.br/wp-content/uploads/2018/02/030-035_industria_264-7.jpg\" width=400, align=\"right\">\n",
        "\n"
      ]
    },
    {
      "cell_type": "markdown",
      "metadata": {
        "id": "tRlC5v_2HTxC"
      },
      "source": [
        "<a id='MitosdaCiênciadeDados'></a>\n",
        "## Mitos da Ciência de Dados\n",
        "\n",
        "1. **Mito 1.** *A Ciência de Dados é um processo autônomo que pode encontrar unicamente à partir dos dados as respostas aos nossos problemas*\n",
        "Na verdade a melhor Ciência de Dados ocorre quando o conhecimento humano especializado trabalha em conjunto com o poder computacional. Sem pessoas com o skill apropriado projetos de Ciência de Dados tendem a falhar. De fato, um grande desafio das empresas hoje está em buscar e contratar profissionais qualificados.\n",
        "\n",
        "1. **Mito 2.** *Todo projeto de Ciência de Dados requer tecnologias de Big Data e Deep Learning*\n",
        "Projetos de Ciência de Dados podem envolver, por exemplo, predições de sinistros de seguro (<100 ao mês) ou de desistência de alunos matriculados em uma Universidade (<10.000 alunos), e não requerem quaisquer dessas técnicas. É falso também assumirmos que técnicas de *Deep Learning* trazem resultados melhores.\n",
        "\n",
        "1. **Mito 3.** *Os softwares atuais de Ciência de Dados são fáceis de usar, e é fácil fazer*\n",
        "\n",
        "1. **Mito 4.** *Projetos de Ciência de Dados tem ROI em pouco tempo*\n",
        "\n",
        "\n",
        "\n",
        "\n",
        "\n",
        "\n"
      ]
    },
    {
      "cell_type": "markdown",
      "metadata": {
        "id": "fSAgPxIVHTxC"
      },
      "source": [
        "O **Viés do Sobrevivente** (*Survivorship bias*) talvez ilustre ao menos os dois primeiros mitos. \n",
        "\n",
        "https://www.researchgate.net/publication/283791624_Bringing_Down_Cancer_Aircraft_Searching_for_Essential_Hypomutated_Proteins_in_Skin_Melanoma\n",
        "\n",
        "<img src=\"https://www.researchgate.net/profile/Dmitry_Karpov/publication/283791624/figure/fig1/AS:341532658946095@1458439140353/Analogy-between-bullet-free-plane-critical-areas-and-hypomutated-proteins-essential-for.png\" width=600, align=\"center\">\n",
        "\n",
        "[comments]:<> (Do mesmo modo você se chegasse em um hostipal e verificasse todos os sobreviventes atigindos por tiro iria propor coletes à prova de bala para braços e pernas...)\n"
      ]
    },
    {
      "cell_type": "markdown",
      "metadata": {
        "id": "1VBDnLzgHTxD"
      },
      "source": [
        "<a id='oprocessodeciênciadedados'></a>\n",
        "## O Processo de Ciência de Dados\n",
        "\n",
        "O modelo de processo mais comumente empregado pelas empresas para análise de dados é o **CRISP-DM** (Cross Industry Standard Process for Dataming, 2000). Além do mais comum é um modelo independente de qualquer software, fornecedor ou técnica de análise.\n"
      ]
    },
    {
      "cell_type": "code",
      "metadata": {
        "id": "_neGN0ciHTxD",
        "outputId": "861b208c-c290-4680-9226-f440cf8603e9"
      },
      "source": [
        "from IPython.display import IFrame\n",
        "IFrame('https://exde.files.wordpress.com/2009/03/crisp_visualguide.pdf', width='100%', height=800)\n"
      ],
      "execution_count": null,
      "outputs": [
        {
          "output_type": "execute_result",
          "data": {
            "text/html": [
              "\n",
              "        <iframe\n",
              "            width=\"100%\"\n",
              "            height=\"800\"\n",
              "            src=\"https://exde.files.wordpress.com/2009/03/crisp_visualguide.pdf\"\n",
              "            frameborder=\"0\"\n",
              "            allowfullscreen\n",
              "        ></iframe>\n",
              "        "
            ],
            "text/plain": [
              "<IPython.lib.display.IFrame at 0x16ebd4a4cc0>"
            ]
          },
          "metadata": {
            "tags": []
          },
          "execution_count": 131
        }
      ]
    },
    {
      "cell_type": "code",
      "metadata": {
        "id": "mCHDtwh0HTxF",
        "outputId": "96a8ed5a-c3ab-48ae-a1fa-9eefa8d92c68"
      },
      "source": [
        "from IPython.display import IFrame\n",
        "IFrame('https://www.the-modeling-agency.com/crisp-dm.pdf', width='100%', height=500)\n"
      ],
      "execution_count": null,
      "outputs": [
        {
          "output_type": "execute_result",
          "data": {
            "text/html": [
              "\n",
              "        <iframe\n",
              "            width=\"100%\"\n",
              "            height=\"500\"\n",
              "            src=\"https://www.the-modeling-agency.com/crisp-dm.pdf\"\n",
              "            frameborder=\"0\"\n",
              "            allowfullscreen\n",
              "        ></iframe>\n",
              "        "
            ],
            "text/plain": [
              "<IPython.lib.display.IFrame at 0x16ebd4a4da0>"
            ]
          },
          "metadata": {
            "tags": []
          },
          "execution_count": 133
        }
      ]
    },
    {
      "cell_type": "markdown",
      "metadata": {
        "id": "j8rLfNboHTxI"
      },
      "source": [
        "Um erro frequente é pensarmos que o maior esforço deve estar na etapa de *Modeling* em detrimento das demais etapas. Isso por que muitas vezes assume-se que o principal entregável de um projeto de Ciência de Dados é o modelo. Mas o entregável de fato, de todo esse processo, é suportar decisões corretas. O modelo DIKW, também bastante empregado, fornece uma outra perspectiva do processo de análise de dados.\n",
        "\n",
        "<br>\n",
        "\n",
        "<img src=\"https://upload.wikimedia.org/wikipedia/commons/3/33/DIKW_%281%29.png\" width=400, align=\"left\">\n",
        "\n",
        "<img src=\"https://upload.wikimedia.org/wikipedia/commons/thumb/3/3e/KM_Pyramid_Adaptation.png/800px-KM_Pyramid_Adaptation.png\" width=400, align=\"right\">\n",
        "\n",
        "<br>\n",
        "\n",
        "\n",
        "\n"
      ]
    },
    {
      "cell_type": "markdown",
      "metadata": {
        "id": "Xg_nH3JoHTxI"
      },
      "source": [
        "### Comunicação e Dados corretos \n",
        "\n",
        "Dois esforços nesse processo precisam ser destacados: a necessidade de uma boa comunicação e esforço desproporcional que temos para a obtenção dos dados corretos. \n",
        "\n",
        "Um aspecto chave no sucesso de projeto de Ciência de Dados é ser capaz de comunicar a estória dos dados. Não há nenhum retorno do projeto se seus resultados, modelo e padrões não são comunicados de modo que os colegas não técnicos da organização não possam entender e estarem confortáveis com eles.\n",
        "\n",
        "O outro aspecto refere-se a obtenção dos dados corretos.\n",
        "\n",
        "**\"The key to sucess is getting the right data and finding the right attributes\"** (Kelleher, Tierney, 2018).\n",
        "\n",
        "Você não irá identificar padrões úteis a menos que empregue dados corretos (*Garbage in, Garbage out*). É por isso que boa parte do esforço de um projeto de Ciência de Dados está concentrado em obter os dados corretos. Uma pesquisa de 2016 mostra que **78% é dispendido na preparação dos dados**.\n",
        "\n",
        "<br>\n",
        "\n",
        "<img src=\"https://thumbor.forbes.com/thumbor/960x0/https%3A%2F%2Fblogs-images.forbes.com%2Fgilpress%2Ffiles%2F2016%2F03%2FLeast-Enjoyable4-1200x511.jpg\" width=600, align=\"center\">\n",
        "\n",
        "O que reflete no skill dos profissionais buscados para atuar com Ciência de Dados.\n",
        "\n",
        "- SQL\t    56%\n",
        "- Hadoop\t49%\n",
        "- Python\t39%\n",
        "- Java\t    36%\n",
        "- R\t        32%\n",
        "- Hive\t    31%\n",
        "- Mapreduce\t22%\n",
        "- NoSQL\t    18%\n",
        "- Pig\t    16%\n",
        "- SAS\t    16%\n",
        "\n",
        "[comment]:<> (Aqui focamos a maior parte do tempo modelos, pois eles são bastante mais ricos em conceitos enquanto a preparação dos dados tem sua complexidade na diversidade dos casos que trata)\n"
      ]
    },
    {
      "cell_type": "markdown",
      "metadata": {
        "id": "cJQBMBSVHTxJ"
      },
      "source": [
        "<a id='EcoSistemasdeCiênciadeDados'></a> \n",
        "## Eco Sistemas de Ciência de Dados \n",
        "\n",
        "O conjunto de tecnologias empregadas para Ciência de Dados varia para cada organização. Há entretanto um certo consenso em termos dos componentes que estão presentes na maior parte das arquiteturas de Ciência de Dados. Boa parte desse consenso você pode encontrar no framework do *National Institute of Standards and Technology* (que traz modelos também para computação em nuvem, IoT etc.). Esse framework também estabelece definições e termos comuns para a indústria estabelecendo uma arquitetura de referência para as tecnologias de Ciência de Dados.\n",
        "\n",
        "https://nvlpubs.nist.gov/nistpubs/SpecialPublications/NIST.SP.1500-1r2.pdf\n",
        "\n",
        "https://nvlpubs.nist.gov/nistpubs/SpecialPublications/NIST.SP.1500-6r2.pdf"
      ]
    },
    {
      "cell_type": "code",
      "metadata": {
        "id": "GipWq_q6HTxJ",
        "outputId": "b09fb754-d28f-490a-c929-59b1dfbc0699"
      },
      "source": [
        "from IPython.display import IFrame\n",
        "IFrame('http://meusite.mackenzie.br/rogerio/TIC/NIST.SP.1500-1r2.pdf', width='100%', height=500)\n"
      ],
      "execution_count": null,
      "outputs": [
        {
          "output_type": "execute_result",
          "data": {
            "text/html": [
              "\n",
              "        <iframe\n",
              "            width=\"100%\"\n",
              "            height=\"500\"\n",
              "            src=\"http://meusite.mackenzie.br/rogerio/TIC/NIST.SP.1500-1r2.pdf\"\n",
              "            frameborder=\"0\"\n",
              "            allowfullscreen\n",
              "        ></iframe>\n",
              "        "
            ],
            "text/plain": [
              "<IPython.lib.display.IFrame at 0x16ebd4ab550>"
            ]
          },
          "metadata": {
            "tags": []
          },
          "execution_count": 140
        }
      ]
    },
    {
      "cell_type": "code",
      "metadata": {
        "id": "7jKvtRk_HTxM",
        "colab": {
          "base_uri": "https://localhost:8080/",
          "height": 521
        },
        "outputId": "50da673b-b396-4061-97e4-f12cc54bd302"
      },
      "source": [
        "from IPython.display import IFrame\n",
        "IFrame('https://meusite.mackenzie.br/rogerio/TIC/NIST.SP.1500-6r2.pdf', width='100%', height=500)\n"
      ],
      "execution_count": null,
      "outputs": [
        {
          "output_type": "execute_result",
          "data": {
            "text/html": [
              "\n",
              "        <iframe\n",
              "            width=\"100%\"\n",
              "            height=\"500\"\n",
              "            src=\"https://meusite.mackenzie.br/rogerio/TIC/NIST.SP.1500-6r2.pdf\"\n",
              "            frameborder=\"0\"\n",
              "            allowfullscreen\n",
              "        ></iframe>\n",
              "        "
            ],
            "text/plain": [
              "<IPython.lib.display.IFrame at 0x7f1e3b0f8898>"
            ]
          },
          "metadata": {
            "tags": []
          },
          "execution_count": 1
        }
      ]
    },
    {
      "cell_type": "markdown",
      "metadata": {
        "id": "owygj89sHTxO"
      },
      "source": [
        "### Big Data\n",
        "\n",
        "(*NIST Big Data Interoperability Framework: Volume 1*) Dados Big Data se caracterizam por:\n",
        "\n",
        "> - **Volume** (o tamanho dos arquivos de dados);\n",
        "> - **Velocidade** (a taxa em que são produzidos);\n",
        "> - **Variedade** (tipos de dados, domínios, formatos); \n",
        "> - **Veracidade** (refere-se aos dados serem confiáveis ou não). \n",
        "\n",
        "Mesmo com essas características a ideia é que esses dados ainda tenham uma organização que permita o seu processamento.\n",
        "\n",
        "> *The Big Data Paradigm consists of the distribution of data systems across horizontally coupled,\n",
        "independent resources to achieve the scalability needed for the efficient processing of extensive\n",
        "datasets.*\n",
        "\n",
        "É um desafio dos sistemas de Ciência de Dados fazer frente ao enorme volume de dados produzido. \n",
        "\n",
        "https://www.semanticscholar.org/paper/Big-Data%3A-A-Survey-Chen-Mao/b12a264640c86c4b0fb1abb5ea24ad605e84e705\n"
      ]
    },
    {
      "cell_type": "code",
      "metadata": {
        "id": "tkuXukekHTxO",
        "outputId": "520d4511-185b-4aaa-933e-e4ef8d02bfb6"
      },
      "source": [
        "from IPython.display import IFrame\n",
        "IFrame('http://www2.egr.uh.edu/~zhan2/ECE6111/class/BigDataSurvey2014.pdf', width='100%', height=500)\n"
      ],
      "execution_count": null,
      "outputs": [
        {
          "output_type": "execute_result",
          "data": {
            "text/html": [
              "\n",
              "        <iframe\n",
              "            width=\"100%\"\n",
              "            height=\"500\"\n",
              "            src=\"http://www2.egr.uh.edu/~zhan2/ECE6111/class/BigDataSurvey2014.pdf\"\n",
              "            frameborder=\"0\"\n",
              "            allowfullscreen\n",
              "        ></iframe>\n",
              "        "
            ],
            "text/plain": [
              "<IPython.lib.display.IFrame at 0x16ebd4ab860>"
            ]
          },
          "metadata": {
            "tags": []
          },
          "execution_count": 143
        }
      ]
    },
    {
      "cell_type": "markdown",
      "metadata": {
        "id": "142c-UAzHTxQ"
      },
      "source": [
        "### Arquiteturas de Referência\n",
        "\n",
        "Podemos dividir as arquiteturas de análise de dados em arquiteturas de análise tradicional e de ciência de dados. \n",
        "\n",
        "As arquiteturas para a análise tradicional de dados envolvem basicamente o uso de **Bancos de Dados Relacionais** (Oracle, SQL Server, IBM DB2), ferramentas de ETL (**Extration, Transformation and Load**), uso de **SQL** e ferramentas de visualização dos dados e reports, com modelagem multidimensional. É uma arquitetura bastante mais simples e trataremos mais adiante modelos baseados em Bancos de Dados Relacionais.\n",
        "\n",
        "Arquiteturas para Ciência de Dados mais atuais empregam soluções de Big Data, muitas vezes não obstante o volume de dados utilizado. Essas arquiteturas são bastante mais diversas do modelo tradional e podemos encontrar aqui uma proposta resumida de arquitetura. Focaremos aqui apenas em alguns pontos princiais, como HDFS e Mapreduce, retornando para outros pontos mais adiante quando forem necessários.\n",
        "\n",
        "As  Khalifa, Shadi et al. **“The Six Pillars for Building Big Data Analytics Ecosystems.”** \n",
        "\n",
        "https://www.semanticscholar.org/paper/The-Six-Pillars-for-Building-Big-Data-Analytics-Khalifa-Elshater/45f9f16d144998bfa4ed121e986fe3095f48a52e\n",
        "\n",
        "<br>\n",
        "\n",
        "<img src=\"https://d3i71xaburhd42.cloudfront.net/45f9f16d144998bfa4ed121e986fe3095f48a52e/3-Figure1-1.png\" width=700, align=\"center\">\n",
        "\n",
        "<br>\n",
        "\n",
        "<img src=\"https://d3i71xaburhd42.cloudfront.net/45f9f16d144998bfa4ed121e986fe3095f48a52e/27-TableI-1.png\" width=700, align=\"center\">\n",
        "\n",
        "<br>\n",
        "\n",
        "<img src=\"https://d3i71xaburhd42.cloudfront.net/45f9f16d144998bfa4ed121e986fe3095f48a52e/5-Figure2-1.png\" width=400, align=\"left\">\n",
        "\n",
        "<img src=\"https://d3i71xaburhd42.cloudfront.net/45f9f16d144998bfa4ed121e986fe3095f48a52e/8-Figure3-1.png\" width=400, align=\"center\">\n",
        "\n",
        "\n",
        "<br>\n"
      ]
    },
    {
      "cell_type": "markdown",
      "metadata": {
        "id": "0iVOKEqqHTxQ"
      },
      "source": [
        "<a id='Ambientes_Jutpyter_Python_e_R'></a>\n",
        "## Ambientes Python e R\n",
        "\n",
        "Há uma ampla discussão sobre qual a melhor linguagem para Ciência de Dados. Mas essa é uma discussão que parece mais próxima de *qual é o melhor vinho? é o que você gosta*. Alguns critérios podem ajudam a definir Python & R como melhores linguagens que outras a Ciência de Dados, como curva de aprendizado, velocidade de processamento, capacidades de tratamento dos dados, capacidades gráficas e de visualização, confiabilidade no código, uso no mercado e comunidades etc. Todas essas características, embora no conjunto tornem Python e R mais adequadas para Ciência de Dados que outras linguagens de propósito geral (C, C++, Java, PHP, Pearl etc.), aparecem como muito similares quando comparadas as duas linguagens ou sem um consenso. Para dizer um mínimo, R tem capacidades gráficas e de visualização, e uma curva de aprendizado superiores para não programadores; Python, entretanto, vem sendo uma linguagem extremamente popular e grandes desenvolvimentos no aprendizado de máquina na última década, como *deep learning*, são desenvolvidos em Pyhton. O mais correto parece então decidir a *\"melhor linguagem\"* de acordo com a organização e propósito que será empregado.\n",
        "\n",
        "Ainda existem ferramentas do tipo **spreadsheet view of data**, ferramentas que acessam os dados em planilhas que podem ser imediatamente manipuladas pelos usuários (como Tableau, Qlik e outros) e ferramentas do tipo **drag-and-drop**, em que funções pré definidas podem ser arrastadas e coladas para compor um fluxo de processamento (como disponível em ferramentas como o SAS, SAS VA, Tableau, RapidMiner, Weka). Isso tem suas vantagens e desvantagens. Ferramentas visuais buscam aumentar a produtividade, mas o uso de linguagens de programação (código) em geral dá maior flexibilidade e permite maior reuso das soluções. Assim como no caso anterior o uso de uma solução ou outra deve ser analisada caso a caso, de acordo com a organização e propósito para que será empregada, sem necessariamente assumirmos que uma ou outra é a melhor solução.\n",
        "\n",
        "Além disso vamos lembrar que o mercado demanda, além das linguagens, skills que incluem SQL, Spark, Hadoop, Java, Serviços em Nuvem, Scala, Kafka etc.\n",
        "\n",
        "[comment]:<> (1. A análise de dados tem algumas características que a diferem do desenvolvimento mais tradicional de aplicações. Capacidades para desenvolvimento Web - frameworks, páginas responsivas, suporte Ajax etc. - ou aplicações Mobile, presentes em muitas linguagens, são em geral pouco necessárias para aplicações de Ciência de Dados. 2. É uma característica fundamental, presente no Python e no R, serem linguagens interpretadas e Open Source.)\n",
        "\n",
        "### Acessando os Ambiente Jupyter e Google Colab\n",
        "\n",
        "Em Ciência de Dados, e no desenvolvimento com Python e R, é comum o emprego de ambientes do tipo notebook para o desenvolvimento de código aberto e serviços para computação interativa. \n",
        "\n",
        "Empregaremos aqui os ambientes *Jupyter* e *Google Colab*.\n",
        "\n",
        "Você aprenderá aqui:\n",
        "\n",
        "> - Como acessar os ambientes\n",
        "> - O que é um Notebook IPython\n",
        "> - Como criar e executar o seu Notebook IPython\n",
        "\n",
        "**Opcionalmente veja como instalar e empregar o Jupyter Notebook em seu computador e o uso do editor Spyder.**\n",
        "\n"
      ]
    },
    {
      "cell_type": "code",
      "metadata": {
        "id": "YhDMHhhFHTxR",
        "outputId": "b1383f04-2774-4974-f841-7d8adbae5413"
      },
      "source": [
        "from IPython.display import IFrame\n",
        "IFrame('https://jupyter.org/', width='100%', height=500)\n"
      ],
      "execution_count": null,
      "outputs": [
        {
          "output_type": "execute_result",
          "data": {
            "text/html": [
              "\n",
              "        <iframe\n",
              "            width=\"100%\"\n",
              "            height=\"500\"\n",
              "            src=\"https://jupyter.org/\"\n",
              "            frameborder=\"0\"\n",
              "            allowfullscreen\n",
              "        ></iframe>\n",
              "        "
            ],
            "text/plain": [
              "<IPython.lib.display.IFrame at 0x16ebd4ab9e8>"
            ]
          },
          "metadata": {
            "tags": []
          },
          "execution_count": 144
        }
      ]
    },
    {
      "cell_type": "code",
      "metadata": {
        "id": "JmPW_mPI3N9U",
        "colab": {
          "base_uri": "https://localhost:8080/",
          "height": 521
        },
        "outputId": "1b019e79-d7bc-47da-a2e1-56fdcc790571"
      },
      "source": [
        "from IPython.display import IFrame\n",
        "IFrame('https://colab.research.google.com/', width='100%', height=500)"
      ],
      "execution_count": null,
      "outputs": [
        {
          "output_type": "execute_result",
          "data": {
            "text/html": [
              "\n",
              "        <iframe\n",
              "            width=\"100%\"\n",
              "            height=\"500\"\n",
              "            src=\"https://colab.research.google.com/\"\n",
              "            frameborder=\"0\"\n",
              "            allowfullscreen\n",
              "        ></iframe>\n",
              "        "
            ],
            "text/plain": [
              "<IPython.lib.display.IFrame at 0x7f1e3b0f8c18>"
            ]
          },
          "metadata": {
            "tags": []
          },
          "execution_count": 5
        }
      ]
    }
  ]
}