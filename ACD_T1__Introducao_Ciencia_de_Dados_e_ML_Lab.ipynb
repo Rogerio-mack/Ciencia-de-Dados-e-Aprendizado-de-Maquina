{
  "nbformat": 4,
  "nbformat_minor": 0,
  "metadata": {
    "kernelspec": {
      "display_name": "Python 3",
      "language": "python",
      "name": "python3"
    },
    "language_info": {
      "codemirror_mode": {
        "name": "ipython",
        "version": 3
      },
      "file_extension": ".py",
      "mimetype": "text/x-python",
      "name": "python",
      "nbconvert_exporter": "python",
      "pygments_lexer": "ipython3",
      "version": "3.7.4"
    },
    "colab": {
      "name": "ACD_T1_ Introducao_Ciencia_de_Dados_e_ML_Lab.ipynb",
      "provenance": [],
      "collapsed_sections": [
        "BZMmkF32xYEt",
        "bBO8cKayouUr"
      ]
    }
  },
  "cells": [
    {
      "cell_type": "markdown",
      "metadata": {
        "id": "SlUTfujvouT_"
      },
      "source": [
        "<head>\n",
        "  <meta name=\"author\" content=\"Rogério de Oliveira\">\n",
        "  <meta institution=\"author\" content=\"Universidade Presbiteriana Mackenzie\">\n",
        "</head>\n",
        "\n",
        "<img src=\"http://meusite.mackenzie.br/rogerio/mackenzie_logo/UPM.2_horizontal_vermelho.jpg\" width=300, align=\"right\"></a>\n",
        "<!-- <h1 align=left><font size = 6, style=\"color:rgb(200,0,0)\"> optional title </font></h1> -->\n"
      ]
    },
    {
      "cell_type": "markdown",
      "metadata": {
        "id": "qfi9IKjQouUE"
      },
      "source": [
        "<h1 align=left><font size = 6, style=\"color:rgb(200,0,0)\">Lab\n",
        "<hr>"
      ]
    },
    {
      "cell_type": "markdown",
      "metadata": {
        "id": "8XowDN9Etvef"
      },
      "source": [
        "Python é uma linguagem bastante poderosa e com muitos recursos. Nessa introdução de Python para Ciência de Dados vamos aprender apenas um conjunto de recursos mínimos que serão necessários para fazermos a maior parte de nossas análises no curso."
      ]
    },
    {
      "cell_type": "markdown",
      "metadata": {
        "id": "kuSOumUSw142"
      },
      "source": [
        "# Imports básicos *"
      ]
    },
    {
      "cell_type": "code",
      "metadata": {
        "id": "qRTKp_OVwxEq",
        "colab": {
          "base_uri": "https://localhost:8080/",
          "height": 35
        },
        "outputId": "8be79c07-84fb-4e73-c88f-95609d85bf95"
      },
      "source": [
        "import numpy as np\n",
        "import pandas as pd\n",
        "import os          \n",
        "os.getcwd() \n"
      ],
      "execution_count": null,
      "outputs": [
        {
          "output_type": "execute_result",
          "data": {
            "application/vnd.google.colaboratory.intrinsic+json": {
              "type": "string"
            },
            "text/plain": [
              "'/content'"
            ]
          },
          "metadata": {
            "tags": []
          },
          "execution_count": 1
        }
      ]
    },
    {
      "cell_type": "markdown",
      "metadata": {
        "id": "oTM8Qhy2tqPj"
      },
      "source": [
        "# Variáveis e atribuições"
      ]
    },
    {
      "cell_type": "code",
      "metadata": {
        "id": "RyTJOsK5qdtB",
        "colab": {
          "base_uri": "https://localhost:8080/",
          "height": 51
        },
        "outputId": "26cd4e08-a227-4241-81e4-66ad88542e01"
      },
      "source": [
        "inteiro = 123\n",
        "real = np.pi\n",
        "texto1 = '123'\n",
        "texto2 = 'Led Zeppelin'\n",
        "print(type(inteiro), type(real), type(texto1), type(texto2))\n",
        "print(inteiro, real, texto1, texto2)"
      ],
      "execution_count": null,
      "outputs": [
        {
          "output_type": "stream",
          "text": [
            "<class 'int'> <class 'float'> <class 'str'> <class 'str'>\n",
            "123 3.141592653589793 123 Led Zeppelin\n"
          ],
          "name": "stdout"
        }
      ]
    },
    {
      "cell_type": "markdown",
      "metadata": {
        "id": "6IQL_3M1yq5f"
      },
      "source": [
        "## Variáveis no `ipynb` *\n",
        "\n",
        "As células de código em um Python notebook não são programas isolados, mas um só programa. O conteúdo das variáveis do notebook é global. Assim as variáveis e imports de uma célula são os mesmos ao longo de todo notebook."
      ]
    },
    {
      "cell_type": "code",
      "metadata": {
        "id": "5ZXaUya_zghz",
        "colab": {
          "base_uri": "https://localhost:8080/",
          "height": 34
        },
        "outputId": "2ce9991d-bc97-4b7b-ff66-41e609547122"
      },
      "source": [
        "x = 0; x"
      ],
      "execution_count": null,
      "outputs": [
        {
          "output_type": "execute_result",
          "data": {
            "text/plain": [
              "0"
            ]
          },
          "metadata": {
            "tags": []
          },
          "execution_count": 9
        }
      ]
    },
    {
      "cell_type": "code",
      "metadata": {
        "id": "eXmPDrYyzmq2",
        "colab": {
          "base_uri": "https://localhost:8080/",
          "height": 34
        },
        "outputId": "d0738e02-299f-49fd-af6a-9f4ec5b4248e"
      },
      "source": [
        "x = x + 1; x # rexecute várias vezes"
      ],
      "execution_count": null,
      "outputs": [
        {
          "output_type": "execute_result",
          "data": {
            "text/plain": [
              "3"
            ]
          },
          "metadata": {
            "tags": []
          },
          "execution_count": 13
        }
      ]
    },
    {
      "cell_type": "code",
      "metadata": {
        "id": "l10-Tkz5zxLr"
      },
      "source": [
        "del x"
      ],
      "execution_count": null,
      "outputs": []
    },
    {
      "cell_type": "code",
      "metadata": {
        "id": "84MVirBdzymY",
        "colab": {
          "base_uri": "https://localhost:8080/",
          "height": 34
        },
        "outputId": "15749f37-22e0-4353-f341-7739ea0dae73"
      },
      "source": [
        "x # erro! volte execute a célula 'x = 0; x' e em seguida reexecute aqui  "
      ],
      "execution_count": null,
      "outputs": [
        {
          "output_type": "execute_result",
          "data": {
            "text/plain": [
              "0"
            ]
          },
          "metadata": {
            "tags": []
          },
          "execution_count": 10
        }
      ]
    },
    {
      "cell_type": "markdown",
      "metadata": {
        "id": "4JP3gsGP0ZdZ"
      },
      "source": [
        "# Caracteres e Valores Numéricos"
      ]
    },
    {
      "cell_type": "markdown",
      "metadata": {
        "id": "BZMmkF32xYEt"
      },
      "source": [
        "### Funciona"
      ]
    },
    {
      "cell_type": "code",
      "metadata": {
        "id": "5waHa86uur4C",
        "colab": {
          "base_uri": "https://localhost:8080/"
        },
        "outputId": "8cbec286-8fb3-4838-e3a4-e1743bf941ef"
      },
      "source": [
        "inteiro = inteiro + 1\n",
        "real = real + 1\n",
        "exto1 = texto1 + '4'\n",
        "texto2 = texto2 + ': Stairway to Heaven'\n",
        "print(inteiro, real, texto1, texto2)\n",
        "print(inteiro, '\\n', real, '\\n', texto1, '\\n', '\\t'*4 , texto2)\n",
        "print('Valor real {:0.2f}'.format(real))"
      ],
      "execution_count": null,
      "outputs": [
        {
          "output_type": "stream",
          "text": [
            "124 15.141592653589793 1234 Led Zeppelin: Stairway to Heaven\n",
            "124 \n",
            " 15.141592653589793 \n",
            " 1234 \n",
            " \t\t\t\t Led Zeppelin: Stairway to Heaven\n",
            "Valor real 15.14\n"
          ],
          "name": "stdout"
        }
      ]
    },
    {
      "cell_type": "markdown",
      "metadata": {
        "id": "2UCkFdaFyWY-"
      },
      "source": [
        "### Não Funciona"
      ]
    },
    {
      "cell_type": "code",
      "metadata": {
        "id": "FVuC9GeprEtQ"
      },
      "source": [
        "texto1 = texto1 + 4 \n"
      ],
      "execution_count": null,
      "outputs": []
    },
    {
      "cell_type": "markdown",
      "metadata": {
        "id": "bBO8cKayouUr"
      },
      "source": [
        "### Integer, Float-point, Boolean "
      ]
    },
    {
      "cell_type": "code",
      "metadata": {
        "id": "PwIVdvKBouUt",
        "colab": {
          "base_uri": "https://localhost:8080/"
        },
        "outputId": "40e31057-d8de-4c17-e7f4-ac38ee58663c"
      },
      "source": [
        "print(3 * 4, 3 + 4, 3 - 4, 3 / 4, 3.14, 4.2e-4 ) \n",
        "print(type(3 * 4), type(3.14), type(4.2e-4) ) \n",
        "print(3 ** 2, 3 // 4, 3 % 4 ) \n",
        "print(4 > 3, 4 >= 3, 3 == 3.0, 3 != 4, 3 <= 4 )\n",
        "print(1 < 2 < 9) # boolean\n",
        "\n"
      ],
      "execution_count": null,
      "outputs": [
        {
          "output_type": "stream",
          "text": [
            "12 7 -1 0.75 3.14 0.00042\n",
            "<class 'int'> <class 'float'> <class 'float'>\n",
            "9 0 3\n",
            "True True True True True\n",
            "True\n"
          ],
          "name": "stdout"
        }
      ]
    },
    {
      "cell_type": "markdown",
      "metadata": {
        "id": "MwYZaE9rd2Pm"
      },
      "source": [
        "### Math functions"
      ]
    },
    {
      "cell_type": "code",
      "metadata": {
        "id": "Ud0GcfPXouUy",
        "colab": {
          "base_uri": "https://localhost:8080/",
          "height": 85
        },
        "outputId": "52f9ecd1-72c8-49c1-eb49-0f3ff0b119f1"
      },
      "source": [
        "import math               \n",
        "# also in math module: pi, exp, log, sin, cos, tan, ceil, floor, and more\n",
        "\n",
        "print(math.pi)            # pi \n",
        "print(math.exp(1))        # e\n",
        "\n",
        "print(5 % 2)\n",
        "print(np.mod(55,2))\n",
        "\n",
        "\n"
      ],
      "execution_count": null,
      "outputs": [
        {
          "output_type": "stream",
          "text": [
            "3.141592653589793\n",
            "2.718281828459045\n",
            "1\n",
            "1\n"
          ],
          "name": "stdout"
        }
      ]
    },
    {
      "cell_type": "markdown",
      "metadata": {
        "id": "RDwLsBxk1JYj"
      },
      "source": [
        "### Strings *\n",
        "\n",
        "Strings são estruturas **imutáveis**. Além disso note a indexação dos *slices* de strings:\n",
        "\n",
        "`str[ inicio : tamanho ]` \n",
        "ou\n",
        "`str[ inicio : fim+1 ]` \n"
      ]
    },
    {
      "cell_type": "code",
      "metadata": {
        "id": "YfIiwfR71MaH",
        "colab": {
          "base_uri": "https://localhost:8080/",
          "height": 51
        },
        "outputId": "65090ca8-65ba-4c9a-b2ee-e8aa1e4cac98"
      },
      "source": [
        "print(texto2[0:12])\n",
        "print('0123456789012'[0:12])"
      ],
      "execution_count": null,
      "outputs": [
        {
          "output_type": "stream",
          "text": [
            "Led Zeppelin\n",
            "012345678901\n"
          ],
          "name": "stdout"
        }
      ]
    },
    {
      "cell_type": "markdown",
      "metadata": {
        "id": "LbKjbRuaouVL"
      },
      "source": [
        "### String Operations *\n",
        "\n",
        "Aproveite para entender como buscar ajudar aos comandos na internet.\n",
        "\n",
        "Experimente:\n",
        "\n",
        "> **Google**: 'How to change a string to lower case in Python'\n",
        "\n",
        "> **Google**: 'How to find a string in a text in Python' \n",
        "\n",
        "Ou experimente:\n",
        "\n",
        "https://www.w3schools.com/python/default.asp\n",
        "\n",
        "https://docs.python.org/3/ > Library Reference\n"
      ]
    },
    {
      "cell_type": "code",
      "metadata": {
        "scrolled": true,
        "id": "Pugx1dQpouVM",
        "colab": {
          "base_uri": "https://localhost:8080/",
          "height": 187
        },
        "outputId": "ba9099b7-07d9-473b-ef35-400fd177e5cb"
      },
      "source": [
        "str1 ='A arte existe porque a vida não basta. – Ferreira Gullar'\n",
        "\n",
        "print(str1.find('arte'))\n",
        "print(str1.lower())\n",
        "str2 = str1.replace('arte','life')\n",
        "print(str2)\n",
        "\n",
        "print(str(4.2e-4)) \n",
        "\n",
        "# avançado, você pode saltar isso se quiser\n",
        "str1 = 'love'\n",
        "str2 = 'hate'\n",
        "print(str1, str2)\n",
        "print(str1 == str2)\n",
        "print(str1 is str2) \n",
        "str1 = str2\n",
        "print(str1, str2)\n",
        "print(str1 == str2)\n",
        "print(str1 is str2) # e por isso imutável\n"
      ],
      "execution_count": null,
      "outputs": [
        {
          "output_type": "stream",
          "text": [
            "2\n",
            "a arte existe porque a vida não basta. – ferreira gullar\n",
            "A life existe porque a vida não basta. – Ferreira Gullar\n",
            "0.00042\n",
            "love hate\n",
            "False\n",
            "False\n",
            "hate hate\n",
            "True\n",
            "True\n"
          ],
          "name": "stdout"
        }
      ]
    },
    {
      "cell_type": "markdown",
      "metadata": {
        "id": "11Okm16d15H3"
      },
      "source": [
        "### Não funciona"
      ]
    },
    {
      "cell_type": "code",
      "metadata": {
        "id": "A27Bkh2V17bp"
      },
      "source": [
        "texto2[0:2] = 'x'"
      ],
      "execution_count": null,
      "outputs": []
    },
    {
      "cell_type": "markdown",
      "metadata": {
        "id": "j3S7qoJTouUb"
      },
      "source": [
        "# Print & Input\n",
        "\n"
      ]
    },
    {
      "cell_type": "code",
      "metadata": {
        "id": "AajnwWcebwRB",
        "colab": {
          "base_uri": "https://localhost:8080/",
          "height": 102
        },
        "outputId": "94cab25c-cbae-4634-ee0b-a7eaee9dc1ac"
      },
      "source": [
        "# Print & Input...\n",
        "text = input('Entre com um texto: ')\n",
        "print(type(text))\n",
        "numero = float(input('Entre com um número: '))\n",
        "\n",
        "print('Seu texto: ', text, '\\n', 'Seu número: ', numero)"
      ],
      "execution_count": null,
      "outputs": [
        {
          "output_type": "stream",
          "text": [
            "Entre com um texto: 12\n",
            "<class 'str'>\n",
            "Entre com um número: 12\n",
            "Seu texto:  12 \n",
            " Seu número:  12.0\n"
          ],
          "name": "stdout"
        }
      ]
    },
    {
      "cell_type": "markdown",
      "metadata": {
        "id": "ZAvDpRw6N2lT"
      },
      "source": [
        "# Controlando o Fluxo do Programa"
      ]
    },
    {
      "cell_type": "markdown",
      "metadata": {
        "id": "pFNaHFSEtNow"
      },
      "source": [
        "## If-Then-Else *\n",
        "\n",
        "Note que em Python as instruções **aninhadas** são **identadas** (*tab*), o que corresponde ao `{}` de linguagens como Java e C. Assim os comandos *aninhados* à condição ou laço do programa devem estar à direita do comando inicial da condição ou laço.\n",
        "\n",
        "```\n",
        "Condição 1...\n",
        " Comando A...\n",
        " Comando B...\n",
        " Condição 2...\n",
        "   Comando C...\n",
        "\n",
        " Comando D...\n",
        "\n",
        "Comando E \n",
        "```\n",
        "\n",
        "Comando D executa dentro da condição 1, mas fora da condição 2.\n",
        "\n"
      ]
    },
    {
      "cell_type": "code",
      "metadata": {
        "id": "10t2mTyQouWI",
        "colab": {
          "base_uri": "https://localhost:8080/",
          "height": 34
        },
        "outputId": "cdec37ea-0ebf-46b7-f3b8-1fc3364ad4a3"
      },
      "source": [
        "a = 1964\n",
        "b = 1984\n",
        "if b > a:\n",
        "  print(\"b is greater than a\")\n",
        "else:\n",
        "  print(\"a is greater than b\")  \n",
        "\n",
        "# # avançado, você pode saltar isso se quiser  \n",
        "if b > a:\n",
        "  print(\"b is greater than a\")\n",
        "elif a == b:\n",
        "  print(\"a and b are equal\")\n",
        "else:\n",
        "  print(\"a is greater than b\")\n",
        "\n",
        "\n",
        "\n",
        "\n",
        "\n",
        "\n",
        "  \n",
        "\n",
        "  \n",
        "\n",
        "\n",
        "\n"
      ],
      "execution_count": null,
      "outputs": [
        {
          "output_type": "stream",
          "text": [
            "b is greater than a\n"
          ],
          "name": "stdout"
        }
      ]
    },
    {
      "cell_type": "markdown",
      "metadata": {
        "id": "fDIvl1BCouWM"
      },
      "source": [
        "## For & While *\n",
        "\n",
        "Vamos dar preferência ao uso do `for`.\n"
      ]
    },
    {
      "cell_type": "code",
      "metadata": {
        "id": "f4JG3Y2AouWO"
      },
      "source": [
        "for i in range(5): \n",
        "  print(i)\n",
        "  if i == 3:\n",
        "    break\n",
        "\n",
        "for i in [12,18,84]:\n",
        "    print(i)\n",
        "  \n"
      ],
      "execution_count": null,
      "outputs": []
    },
    {
      "cell_type": "code",
      "metadata": {
        "id": "4SBHpLUiPC-D"
      },
      "source": [
        "i = 1\n",
        "while i < 6:\n",
        "  print(i)\n",
        "  if i == 3:\n",
        "    break\n",
        "  i += 1"
      ],
      "execution_count": null,
      "outputs": []
    },
    {
      "cell_type": "markdown",
      "metadata": {
        "id": "5incAwfJouWS"
      },
      "source": [
        "## Funções\n",
        "\n",
        "Nossos programas não precisarão necessariamente de *criar* funções, mas é comum a chamada de funções e o seu uso pode permitir deixar o código mais modular e enxuto. \n"
      ]
    },
    {
      "cell_type": "code",
      "metadata": {
        "id": "43Mk7FeNouWU",
        "colab": {
          "base_uri": "https://localhost:8080/",
          "height": 34
        },
        "outputId": "7a295374-02c4-4bf7-ca1a-237e23dc5a76"
      },
      "source": [
        "\n",
        "def mymax(a,b):\n",
        "  if a > b:\n",
        "    return a\n",
        "  else:\n",
        "    return b\n",
        "\n",
        "mymax(1984,1964)"
      ],
      "execution_count": null,
      "outputs": [
        {
          "output_type": "execute_result",
          "data": {
            "text/plain": [
              "1984"
            ]
          },
          "metadata": {
            "tags": []
          },
          "execution_count": 43
        }
      ]
    },
    {
      "cell_type": "markdown",
      "metadata": {
        "id": "rSR3gzKFPRcH"
      },
      "source": [
        "# Estruturas de Dados *\n",
        "\n",
        "Estruturas de dados como Lists, Sets, Tuples, Sequencies e Dictionary desempenham um papel fundamental tanto para programação em geral como para aplicações mais avançadas como a análise de dados. \n",
        "\n",
        "## Coleções\n",
        "\n",
        "Existem quatro tipos de dados de coleções em Python:\n",
        "\n",
        "- Lista (**list**) é uma coleção que é ordenada e mutável. Permite membros duplicados.\n",
        "- Tupla (**tuple**) é uma coleção que é ordenada e imutável. Permite membros duplicados.\n",
        "- Conjunto (**set**) é uma coleção não ordenada e não indexada. Nenhum membro duplicado.\n",
        "- Dicionário (**dictionary**) é uma coleção desordenada, mutável e indexada. Nenhum membro duplicado.\n",
        "\n",
        "Vamos nos deter aqui apenas nas estruturas de listas e tuplas que terão mais utilidade para os nossos propósitos."
      ]
    },
    {
      "cell_type": "markdown",
      "metadata": {
        "id": "tECT16U2ouVX"
      },
      "source": [
        "## List *\n",
        "\n",
        "Lista (**list**) é uma coleção que é **ordenada** e **mutável**. Permite membros **duplicados**. Associada a lista você encontra uma série métodos que implementam funções úteis para esses objetos. "
      ]
    },
    {
      "cell_type": "code",
      "metadata": {
        "id": "ee3FM2LxR5Ot"
      },
      "source": [
        "# avançado, você pode saltar isso se quiser\n",
        "mylist = ['A', 'B', 'C', 'A', 'B']\n",
        "help(mylist)\n",
        "# dir(mylist)"
      ],
      "execution_count": null,
      "outputs": []
    },
    {
      "cell_type": "code",
      "metadata": {
        "id": "EkLCApTBouVe",
        "colab": {
          "base_uri": "https://localhost:8080/",
          "height": 119
        },
        "outputId": "55446b09-900d-4a20-e216-a0af400862b2"
      },
      "source": [
        "mylist = ['A', 'B', 'C', 'A', 'B']\n",
        "\n",
        "len(mylist)\n",
        "\n",
        "mylist.count('B')\n",
        "\n",
        "mylist.index('B')\n",
        "mylist.index('B', 2)  \n",
        "\n",
        "mylist.append('D')\n",
        "\n",
        "mylist.sort()\n",
        "mylist.insert(1,'X') \n",
        "\n",
        "del mylist[0:1] # o mesmo que del fruits[0]\n",
        "mylist.remove('B') # somente o primeiro elemento\n",
        "\n",
        "mylist[1] = 'ZZ'\n",
        "\n",
        "mylist = ['A', 'B', 'C', 'A', 'B']\n",
        "print('A' in mylist)\n",
        "if 'A' in mylist:\n",
        "  print('Sim, A está na lista')\n",
        "\n",
        "# avançado, você pode saltar isso se quiser\n",
        "mylist = [[1,2,3], [11,22,33], [9,9,9]]\n",
        "print(mylist[1])  # [11,22,33]\n",
        "print(mylist[1][0])  # 11\n",
        "\n",
        "# avançado, você pode saltar isso se quiser\n",
        "mylist = ['A', 'B', 'C', 'A', 'B']\n",
        "mylist1 = mylist            # NÃO USE\n",
        "mylist2 = mylist.copy()     # USE\n",
        "mylist.remove('B')\n",
        "print(mylist1) # ['A', 'C', 'A', 'B']\n",
        "print(mylist2) # ['A', 'B', 'C', 'A', 'B']\n",
        "\n"
      ],
      "execution_count": null,
      "outputs": [
        {
          "output_type": "stream",
          "text": [
            "[11, 22, 33]\n",
            "11\n",
            "True\n",
            "Sim, A está na lista\n",
            "['A', 'C', 'A', 'B']\n",
            "['A', 'B', 'C', 'A', 'B']\n"
          ],
          "name": "stdout"
        }
      ]
    },
    {
      "cell_type": "code",
      "metadata": {
        "id": "1SOQIXp8VIgO",
        "colab": {
          "base_uri": "https://localhost:8080/",
          "height": 371
        },
        "outputId": "def6167a-19ca-4075-eb83-8cf53b326906"
      },
      "source": [
        "# avançado, você pode saltar isso se quiser\n",
        "from IPython.display import IFrame\n",
        "url = \"https://pythontutor.com/iframe-embed.html#code=mylist%20%3D%20%5B'A',%20'B',%20'C',%20'A',%20'B'%5D%0Amylist1%20%3D%20mylist%20%20%20%20%20%20%20%20%20%20%20%20%23%20N%C3%83O%20USE%0Amylist2%20%3D%20mylist.copy%28%29%20%20%20%20%20%23%20USE%0Amylist.remove%28'B'%29%0Aprint%28mylist1%29%20%23%20%5B'A',%20'C',%20'A',%20'B'%5D%0Aprint%28mylist2%29%20%23%20%5B'A',%20'B',%20'C',%20'A',%20'B'%5D&codeDivHeight=400&codeDivWidth=350&cumulative=false&curInstr=0&heapPrimitives=nevernest&origin=opt-frontend.js&py=3&rawInputLstJSON=%5B%5D&textReferences=false\"\n",
        "IFrame(url, width='1000', height=350)\n"
      ],
      "execution_count": null,
      "outputs": [
        {
          "output_type": "execute_result",
          "data": {
            "text/html": [
              "\n",
              "        <iframe\n",
              "            width=\"1000\"\n",
              "            height=\"350\"\n",
              "            src=\"https://pythontutor.com/iframe-embed.html#code=mylist%20%3D%20%5B'A',%20'B',%20'C',%20'A',%20'B'%5D%0Amylist1%20%3D%20mylist%20%20%20%20%20%20%20%20%20%20%20%20%23%20N%C3%83O%20USE%0Amylist2%20%3D%20mylist.copy%28%29%20%20%20%20%20%23%20USE%0Amylist.remove%28'B'%29%0Aprint%28mylist1%29%20%23%20%5B'A',%20'C',%20'A',%20'B'%5D%0Aprint%28mylist2%29%20%23%20%5B'A',%20'B',%20'C',%20'A',%20'B'%5D&codeDivHeight=400&codeDivWidth=350&cumulative=false&curInstr=0&heapPrimitives=nevernest&origin=opt-frontend.js&py=3&rawInputLstJSON=%5B%5D&textReferences=false\"\n",
              "            frameborder=\"0\"\n",
              "            allowfullscreen\n",
              "        ></iframe>\n",
              "        "
            ],
            "text/plain": [
              "<IPython.lib.display.IFrame at 0x7f2162e4acf8>"
            ]
          },
          "metadata": {
            "tags": []
          },
          "execution_count": 53
        }
      ]
    },
    {
      "cell_type": "markdown",
      "metadata": {
        "id": "Zn4bWeeuouVp"
      },
      "source": [
        "## Percorrendo uma lista *\n",
        "\n",
        "Existem basicamente duas forma de percorrer uma lista.\n",
        "\n",
        "* **Por índice**, empregue quando precisar do índice (posição) ou alterar os elementos \n",
        "* **Por iterador**, empregue apenas para recuperar (ler) os elementos\n",
        "\n",
        "\n"
      ]
    },
    {
      "cell_type": "code",
      "metadata": {
        "id": "L2nN1HjGouVq",
        "colab": {
          "base_uri": "https://localhost:8080/",
          "height": 187
        },
        "outputId": "30d50324-20e0-42c8-92de-2e03ecb22859"
      },
      "source": [
        "mylist = ['A', 'B', 'C', 'A', 'B']\n",
        " \n",
        "for i in range(len(mylist)):\n",
        "    print(i, mylist[i])\n",
        "\n",
        "for item in mylist:\n",
        "    print(item) \n",
        "    \n",
        "   "
      ],
      "execution_count": null,
      "outputs": [
        {
          "output_type": "stream",
          "text": [
            "0 A\n",
            "1 B\n",
            "2 C\n",
            "3 A\n",
            "4 B\n",
            "A\n",
            "B\n",
            "C\n",
            "A\n",
            "B\n"
          ],
          "name": "stdout"
        }
      ]
    },
    {
      "cell_type": "code",
      "metadata": {
        "id": "CLZzooKIdxiv",
        "colab": {
          "base_uri": "https://localhost:8080/",
          "height": 371
        },
        "outputId": "b8abcd0d-8771-42a3-8051-51089c5707f6"
      },
      "source": [
        "# avançado, você pode saltar isso se quiser\n",
        "from IPython.display import IFrame\n",
        "url = \"https://pythontutor.com/iframe-embed.html#code=mylist%20%3D%20%5B'A',%20'B',%20'C',%20'A',%20'B'%5D%0A%20%0Afor%20i%20in%20range%28len%28mylist%29%29%3A%0A%20%20%20%20print%28i,%20mylist%5Bi%5D%29%0A%0Afor%20item%20in%20mylist%3A%0A%20%20%20%20print%28item%29%20%0A%0A%20%20%20%20%0A%20%20%20&codeDivHeight=400&codeDivWidth=350&cumulative=false&curInstr=23&heapPrimitives=nevernest&origin=opt-frontend.js&py=3&rawInputLstJSON=%5B%5D&textReferences=false\"\n",
        "IFrame(url, width='1000', height=350)\n"
      ],
      "execution_count": null,
      "outputs": [
        {
          "output_type": "execute_result",
          "data": {
            "text/html": [
              "\n",
              "        <iframe\n",
              "            width=\"1000\"\n",
              "            height=\"350\"\n",
              "            src=\"https://pythontutor.com/iframe-embed.html#code=mylist%20%3D%20%5B'A',%20'B',%20'C',%20'A',%20'B'%5D%0A%20%0Afor%20i%20in%20range%28len%28mylist%29%29%3A%0A%20%20%20%20print%28i,%20mylist%5Bi%5D%29%0A%0Afor%20item%20in%20mylist%3A%0A%20%20%20%20print%28item%29%20%0A%0A%20%20%20%20%0A%20%20%20&codeDivHeight=400&codeDivWidth=350&cumulative=false&curInstr=23&heapPrimitives=nevernest&origin=opt-frontend.js&py=3&rawInputLstJSON=%5B%5D&textReferences=false\"\n",
              "            frameborder=\"0\"\n",
              "            allowfullscreen\n",
              "        ></iframe>\n",
              "        "
            ],
            "text/plain": [
              "<IPython.lib.display.IFrame at 0x7f2162d9bb00>"
            ]
          },
          "metadata": {
            "tags": []
          },
          "execution_count": 64
        }
      ]
    },
    {
      "cell_type": "markdown",
      "metadata": {
        "id": "sC5hqb0fZ3M1"
      },
      "source": [
        "## Populando uma lista *\n"
      ]
    },
    {
      "cell_type": "code",
      "metadata": {
        "id": "wkk_jCtGZ3M5",
        "colab": {
          "base_uri": "https://localhost:8080/",
          "height": 34
        },
        "outputId": "979c7666-3eac-4946-a1a9-9321d678eb62"
      },
      "source": [
        "mylist = []\n",
        " \n",
        "for elem in ['Beatriz', 'Aline', 'Adriana', 'Daniel']:\n",
        "    mylist.append(elem)\n",
        "\n",
        "print(mylist)\n",
        "\n",
        "  "
      ],
      "execution_count": null,
      "outputs": [
        {
          "output_type": "stream",
          "text": [
            "['Beatriz', 'Aline', 'Adriana', 'Daniel']\n"
          ],
          "name": "stdout"
        }
      ]
    },
    {
      "cell_type": "code",
      "metadata": {
        "id": "Q_KiK7VyeWIQ",
        "colab": {
          "base_uri": "https://localhost:8080/",
          "height": 371
        },
        "outputId": "4c4a1625-769c-4d73-a57b-c6b2873c1c41"
      },
      "source": [
        "# avançado, você pode saltar isso se quiser\n",
        "from IPython.display import IFrame\n",
        "url = \"https://pythontutor.com/iframe-embed.html#code=mylist%20%3D%20%5B%5D%0A%20%0Afor%20elem%20in%20%5B'Beatriz',%20'Aline',%20'Adriana',%20'Daniel'%5D%3A%0A%20%20%20%20mylist.append%28elem%29%0A%0Aprint%28mylist%29%0A%20%20%20%20%0A%20%20%20&codeDivHeight=400&codeDivWidth=350&cumulative=false&curInstr=11&heapPrimitives=nevernest&origin=opt-frontend.js&py=3&rawInputLstJSON=%5B%5D&textReferences=false\"\n",
        "IFrame(url, width='1000', height=350)\n"
      ],
      "execution_count": null,
      "outputs": [
        {
          "output_type": "execute_result",
          "data": {
            "text/html": [
              "\n",
              "        <iframe\n",
              "            width=\"1000\"\n",
              "            height=\"350\"\n",
              "            src=\"https://pythontutor.com/iframe-embed.html#code=mylist%20%3D%20%5B%5D%0A%20%0Afor%20elem%20in%20%5B'Beatriz',%20'Aline',%20'Adriana',%20'Daniel'%5D%3A%0A%20%20%20%20mylist.append%28elem%29%0A%0Aprint%28mylist%29%0A%20%20%20%20%0A%20%20%20&codeDivHeight=400&codeDivWidth=350&cumulative=false&curInstr=11&heapPrimitives=nevernest&origin=opt-frontend.js&py=3&rawInputLstJSON=%5B%5D&textReferences=false\"\n",
              "            frameborder=\"0\"\n",
              "            allowfullscreen\n",
              "        ></iframe>\n",
              "        "
            ],
            "text/plain": [
              "<IPython.lib.display.IFrame at 0x7f2162d9b908>"
            ]
          },
          "metadata": {
            "tags": []
          },
          "execution_count": 65
        }
      ]
    },
    {
      "cell_type": "markdown",
      "metadata": {
        "id": "1fJXhUmiouV8"
      },
      "source": [
        "## Dictionary *\n",
        "\n",
        "Dicionário (**dictionary**) é uma coleção desordenada, mutável e indexada. Nenhum membro duplicado. Você já teve algum contato com uma estrutura de dados `JSON` essa uma estrutura bastante semelhante em Python."
      ]
    },
    {
      "cell_type": "code",
      "metadata": {
        "id": "_k8p8tFDouV9",
        "colab": {
          "base_uri": "https://localhost:8080/",
          "height": 51
        },
        "outputId": "e2ece05c-bad6-484f-831f-3212897be514"
      },
      "source": [
        "mydict = {'Beatriz':1978, 'Aline':1987, 'Adriana':1984, 'Daniel':1996} \n",
        "  \n",
        "print(mydict.keys())\n",
        "\n",
        "print(mydict['Adriana'])   \n",
        "\n",
        "\n"
      ],
      "execution_count": null,
      "outputs": [
        {
          "output_type": "stream",
          "text": [
            "dict_keys(['Beatriz', 'Aline', 'Adriana', 'Daniel'])\n",
            "1984\n"
          ],
          "name": "stdout"
        }
      ]
    },
    {
      "cell_type": "markdown",
      "metadata": {
        "id": "XmJSMfvmbQac"
      },
      "source": [
        "## Percorrendo um Dicionário *"
      ]
    },
    {
      "cell_type": "code",
      "metadata": {
        "id": "ytthr2VQbZ3V",
        "colab": {
          "base_uri": "https://localhost:8080/",
          "height": 85
        },
        "outputId": "1f098578-9433-4b23-cfc2-50ea3106bf89"
      },
      "source": [
        "for item in mydict:\n",
        "    print(item, mydict[item])\n",
        "    \n"
      ],
      "execution_count": null,
      "outputs": [
        {
          "output_type": "stream",
          "text": [
            "Beatriz 1978\n",
            "Aline 1987\n",
            "Adriana 1984\n",
            "Daniel 1996\n"
          ],
          "name": "stdout"
        }
      ]
    },
    {
      "cell_type": "markdown",
      "metadata": {
        "id": "iAnghYWGbsP2"
      },
      "source": [
        "## Populando um Dicionário *"
      ]
    },
    {
      "cell_type": "code",
      "metadata": {
        "id": "on7R1B5Xb6IQ",
        "colab": {
          "base_uri": "https://localhost:8080/",
          "height": 34
        },
        "outputId": "2c85b4c5-99e5-457b-f6a6-9f5f69a16c59"
      },
      "source": [
        "lista_nomes = [ 'Carolina', 'Henrique' ]\n",
        "lista_niver = [ 2001, 2005 ]\n",
        "\n",
        "mydict = {}\n",
        "\n",
        "for i in range(len(lista_nomes)): \n",
        "  if lista_nomes[i] not in mydict.keys(): # Se não está no dicionário acrescenta\n",
        "    mydict[lista_nomes[i]] = lista_niver[i]\n",
        "\n",
        "if 'Kate' not in mydict.keys():           # Se não está no dicionário acrescenta\n",
        "  mydict['kate'] = 2002\n",
        "\n",
        "print(mydict)"
      ],
      "execution_count": null,
      "outputs": [
        {
          "output_type": "stream",
          "text": [
            "{'Carolina': 2001, 'Henrique': 2005, 'kate': 2002}\n"
          ],
          "name": "stdout"
        }
      ]
    },
    {
      "cell_type": "markdown",
      "metadata": {
        "id": "hlt2vO94ouWa"
      },
      "source": [
        "## File Handling\n",
        "\n",
        "Operações de arquivos como essa serão pouco comuns pois empregaremos na maior parte do tempo dados no formato de `dataframes` como visto na aula de Teoria. Assim, se quiser, pode deixar esse tópico para mais tarde.\n",
        "\n"
      ]
    },
    {
      "cell_type": "code",
      "metadata": {
        "id": "DEet1o7iouWc",
        "colab": {
          "base_uri": "https://localhost:8080/",
          "height": 34
        },
        "outputId": "0c4a3108-56a2-460f-a20f-b3056570b6ac"
      },
      "source": [
        "note = ['This is a note'] \n",
        "\n",
        "f = open(\"note.txt\", \"w\") \n",
        "for line in note:\n",
        "    f.write(line)\n",
        "f.close()\n",
        "\n",
        "f = open(\"note.txt\", \"r\")\n",
        "for line in f:\n",
        "    print(line)\n",
        "    \n"
      ],
      "execution_count": null,
      "outputs": [
        {
          "output_type": "stream",
          "text": [
            "This is a note\n"
          ],
          "name": "stdout"
        }
      ]
    },
    {
      "cell_type": "markdown",
      "metadata": {
        "id": "JKDJ6cQwouWg"
      },
      "source": [
        "### Acesso dados Web \n",
        "\n",
        "Isso pode ser útil, mas como no item anterior empregaremos na maior parte do tempo dados no formato de `dataframes` como visto na aula de Teoria. Assim, se quiser, pode deixar esse tópico para mais tarde.\n",
        "\n"
      ]
    },
    {
      "cell_type": "code",
      "metadata": {
        "id": "eQhcsWvHouWj",
        "colab": {
          "base_uri": "https://localhost:8080/",
          "height": 527
        },
        "outputId": "2682c0af-ed5b-40f2-a741-d32592629ad2"
      },
      "source": [
        "import urllib.request  \n",
        "\n",
        "data = urllib.request.urlopen('http://meusite.mackenzie.br/rogerio/TIC/PlayBallcsv.csv')\n",
        "\n",
        "for line in data:\n",
        "    print(line.decode('utf-8'))"
      ],
      "execution_count": null,
      "outputs": [
        {
          "output_type": "stream",
          "text": [
            "Day,Outlook,Temperature,Humidity,Wind,Play ball\r\n",
            "\n",
            "D1,Sunny,Hot,High,Weak,No\r\n",
            "\n",
            "D2,Sunny,Hot,High,Strong,No\r\n",
            "\n",
            "D3,Overcast,Hot,High,Weak,Yes\r\n",
            "\n",
            "D4,Rain,Mild,High,Weak,Yes\r\n",
            "\n",
            "D5,Rain,Cool,Normal,Weak,Yes\r\n",
            "\n",
            "D6,Rain,Cool,Normal,Strong,No\r\n",
            "\n",
            "D7,Overcast,Cool,Normal,Strong,Yes\r\n",
            "\n",
            "D8,Sunny,Mild,High,Weak,No\r\n",
            "\n",
            "D9,Sunny,Cool,Normal,Weak,Yes\r\n",
            "\n",
            "D10,Rain,Mild,Normal,Weak,Yes\r\n",
            "\n",
            "D11,Sunny,Mild,Normal,Strong,Yes\r\n",
            "\n",
            "D12,Overcast,Mild,High,Strong,Yes\r\n",
            "\n",
            "D13,Overcast,Hot,Normal,Weak,Yes\r\n",
            "\n",
            "D14,Rain,Mild,High,Strong,No\r\n",
            "\n"
          ],
          "name": "stdout"
        }
      ]
    },
    {
      "cell_type": "markdown",
      "metadata": {
        "id": "yCSClyJ8ouWs"
      },
      "source": [
        "## Numpy *\n",
        "\n",
        "Talvez você não tenha notado. Mas o Python não vetores ou matrizes. A biblioteca `numpy` implementa então essas funções.\n",
        "\n",
        "Para nossos propósitos será suficiente o uso de vetores e algumas poucas funções do `numpy`, mas aplicações mais sofisticadas podem requerem um domínio maior dessa biblioteca numérica.\n",
        "\n",
        "Os vetores do `numpy` operam como listas indexadas e você pode empregar os mesmos códigos de listas para **percorrer** e **popular** vetores `numpy`."
      ]
    },
    {
      "cell_type": "code",
      "metadata": {
        "id": "5YLuCzPDouWt",
        "colab": {
          "base_uri": "https://localhost:8080/",
          "height": 51
        },
        "outputId": "922661db-d525-4458-af0c-85f7358af7ac"
      },
      "source": [
        "import numpy as np\n",
        "\n",
        "x = np.array([1,2,3])\n",
        "x_list = x.tolist()\n",
        "\n",
        "x = x * 2 + 1\n",
        "# x_list = x_list * 2 + 1 # TypeError: can only concatenate list (not \"int\") to list\n",
        "\n",
        "np.random.seed(1984) # semente de geração aleatória\n",
        "x = np.array(np.random.randint(low=1, high=6, size=10))\n",
        "print(x)\n",
        "\n",
        "x = np.array([1,2,3])\n",
        "np.mean(x)\n",
        "np.sum(x)\n",
        "np.power(x,2)\n",
        "\n",
        "x = np.insert(x,len(x),4) # Note: NÂO FAZ INPLACE\n",
        "x = np.delete(x,len(x)-1) # Note: NÂO FAZ INPLACE\n",
        "x = np.append(x,[4,5,6])\n",
        "x[0] = 9 \n",
        "x\n"
      ],
      "execution_count": null,
      "outputs": [
        {
          "output_type": "stream",
          "text": [
            "[5 4 2 1 1 3 3 2 3 1]\n"
          ],
          "name": "stdout"
        },
        {
          "output_type": "execute_result",
          "data": {
            "text/plain": [
              "array([9, 2, 3, 4, 5, 6])"
            ]
          },
          "metadata": {
            "tags": []
          },
          "execution_count": 1
        }
      ]
    },
    {
      "cell_type": "markdown",
      "metadata": {
        "id": "In0DtJKfs_1e"
      },
      "source": [
        "# **Set Up**\n",
        "\n",
        "Em alguns exercícios adiante você irá fazer programas para buscar valores em uma lista `x` ou `x_sorted`. O código abaixo produz essas lista, com 1000 valores aleatórios, e que será empregada nos exercícios seguintes."
      ]
    },
    {
      "cell_type": "code",
      "metadata": {
        "id": "dr8ry0Pkszu6",
        "colab": {
          "base_uri": "https://localhost:8080/",
          "height": 51
        },
        "outputId": "0403dac5-b7f5-4b83-8b49-62dfc0753982"
      },
      "source": [
        "import numpy as np\n",
        "import random\n",
        "random.seed(1984)\n",
        "x = random.sample(range(1, 10000), 1000)\n",
        "x_sorted = np.sort(x)\n",
        "print(x[0:10])\n",
        "print(x_sorted[0:10])"
      ],
      "execution_count": null,
      "outputs": [
        {
          "output_type": "stream",
          "text": [
            "[5957, 8098, 5565, 5015, 3547, 6321, 1159, 3999, 4522, 824]\n",
            "[ 12  24  27  48  55  58  81  99 103 109]\n"
          ],
          "name": "stdout"
        }
      ]
    },
    {
      "cell_type": "markdown",
      "metadata": {
        "id": "rloAubrok_Gn"
      },
      "source": [
        "# **Exercício 1 (resolvido)**\n",
        "\n",
        "Dado o valor de entrada `a`. Encontre a posição, e o primeiro maior valor que `a`, na lista de valores ordenados `x_sorted`."
      ]
    },
    {
      "cell_type": "code",
      "metadata": {
        "id": "fX2Od2smlHNO",
        "colab": {
          "base_uri": "https://localhost:8080/",
          "height": 51
        },
        "outputId": "92c3f6c8-7537-44aa-a7fe-1edaa918d45f"
      },
      "source": [
        "a = int(input('Entre com um valor entre 1 e 9999: '))\n",
        "\n",
        "for i in range(len(x)):\n",
        "  if x_sorted[i] >= a:\n",
        "    print('O ', i, '-ésimo valor, igual a ', x_sorted[i], ' , é o primeiro valor maior que ', a )    \n",
        "    break\n"
      ],
      "execution_count": null,
      "outputs": [
        {
          "output_type": "stream",
          "text": [
            "Entre com um valor entre 1 e 9999: 2020\n",
            "O  204 -ésimo valor, igual a  2045  , é o primeiro valor maior que  2020\n"
          ],
          "name": "stdout"
        }
      ]
    },
    {
      "cell_type": "markdown",
      "metadata": {
        "id": "xmT613e1pkIY"
      },
      "source": [
        "# **Exercício 2**\n",
        "\n",
        "Dado o valor de entrada `a`. Encontre a posição, e o primeiro maior valor que `a`, que seja **PAR**, na lista de valores ordenados `x_sorted`.\n",
        "\n",
        "**DICA:** Para as instruções de `if` empregue as condições entre parênteses e os operadores & ou |. "
      ]
    },
    {
      "cell_type": "code",
      "metadata": {
        "id": "fAKbGx_fpkIZ"
      },
      "source": [
        "# seu código\n"
      ],
      "execution_count": null,
      "outputs": []
    },
    {
      "cell_type": "markdown",
      "metadata": {
        "id": "YY7iAleBsL60"
      },
      "source": [
        "# **Exercício 3**\n",
        "\n",
        "Percorra a lista `x` (note, é `x`, a lista de elementos **não ordenada**) e encontre o maior valor da lista.\n",
        "\n",
        "DICA: Comece assumindo um valor maior = 0, percorra a lista e substitua sempre que encontrar um maior"
      ]
    },
    {
      "cell_type": "code",
      "metadata": {
        "id": "xmumkvwGsL62"
      },
      "source": [
        "# seu código\n"
      ],
      "execution_count": null,
      "outputs": []
    },
    {
      "cell_type": "markdown",
      "metadata": {
        "id": "h_SlBSmtuXuL"
      },
      "source": [
        "# **Exercício 4**\n",
        "\n",
        "A partir da lista inicial `x` crie uma lista com todos os valores pares e então empregue `sum(sualista)` para exibir o resultado da soma desses valores.\n",
        "\n"
      ]
    },
    {
      "cell_type": "code",
      "metadata": {
        "id": "LvS1EGxPuXuL"
      },
      "source": [
        "# seu código\n"
      ],
      "execution_count": null,
      "outputs": []
    },
    {
      "cell_type": "markdown",
      "metadata": {
        "id": "2QQWXF4UvdHi"
      },
      "source": [
        "# **Exercício 5 (resolvido)**\n",
        "\n",
        "Crie um programa para criar uma lista de nomes a partir da entrada.\n",
        "\n"
      ]
    },
    {
      "cell_type": "code",
      "metadata": {
        "id": "sYf7RyjHvdHj",
        "colab": {
          "base_uri": "https://localhost:8080/",
          "height": 102
        },
        "outputId": "161ed90d-832b-464f-db5f-979025d34853"
      },
      "source": [
        "T = True\n",
        "nomes = []\n",
        "\n",
        "while T:\n",
        "  nome = input('Entre com um nome ou \\'END\\' para terminar: ')\n",
        "  if nome != 'END':\n",
        "    nomes.append(nome)\n",
        "  else:\n",
        "    break\n",
        "\n",
        "print(nomes)    \n",
        "\n"
      ],
      "execution_count": null,
      "outputs": [
        {
          "output_type": "stream",
          "text": [
            "Entre com um nome ou 'END' para terminar: Kate\n",
            "Entre com um nome ou 'END' para terminar: Kim\n",
            "Entre com um nome ou 'END' para terminar: Anna\n",
            "Entre com um nome ou 'END' para terminar: END\n",
            "['Kate', 'Kim', 'Anna']\n"
          ],
          "name": "stdout"
        }
      ]
    },
    {
      "cell_type": "markdown",
      "metadata": {
        "id": "CJgSq7IFyGKw"
      },
      "source": [
        "# **Exercício 6**\n",
        "\n",
        "Crie um programa que dado um nome, busca a quantidade de vezes que esse nome aparece em uma lista. Empregue a lista de nomes do exercício anterior ou você pode criar uma nova. \n"
      ]
    },
    {
      "cell_type": "code",
      "metadata": {
        "id": "cCZd_-keyGK0"
      },
      "source": [
        "# seu código\n",
        "\n"
      ],
      "execution_count": null,
      "outputs": []
    },
    {
      "cell_type": "markdown",
      "metadata": {
        "id": "I54fRjNzzTFS"
      },
      "source": [
        "# **Exercício 7, Dicionário de Têrmos**\n",
        "\n",
        "Crie um dicionário de têrmos (palavras) para a biografia da atriz **Kate Beckinsale**. \n",
        "\n",
        "1. A primeira célula obtém o texto da biografia da atriz na variável `texto`. \n",
        "2. Na segunda célula **adapte o código** para criar o dicionário de têrmos com a seguinte estrutura:\n",
        "\n",
        "```\n",
        "  mydict = { 'word1': qty, 'word2': qty, 'word3': qty, ...}\n",
        "```\n",
        "3. A terceira célula apresenta um gráfico de distribuição dos têrmos do seu dicionário\n",
        "\n",
        "<img src=\"https://meusite.mackenzie.br/rogerio/kate_beckinsale.png\" width=300, align=\"right\">\n"
      ]
    },
    {
      "cell_type": "code",
      "metadata": {
        "id": "6gPx3f5gzTFY"
      },
      "source": [
        "# Obtém o texto na lista 'texto'\n",
        "# Não altere este código\n",
        "\n",
        "import urllib.request  # the lib that handles the url stuff\n",
        "\n",
        "texto = []\n",
        "\n",
        "# Moby-Dick, Hermann Melville\n",
        "# https://www.gutenberg.org/files/15/15-0.txt\n",
        "# Ulysses, James Joyce\n",
        "# https://www.gutenberg.org/files/4300/4300-0.txt\n",
        "\n",
        "for line in urllib.request.urlopen('http://meusite.mackenzie.br/rogerio/kate_beckinsale.txt'): \n",
        "#   print(line.decode('utf-8')) #utf-8 or iso8859-1 or whatever the page encoding scheme is\n",
        "    texto.append(line.decode('utf-8'))\n",
        "\n",
        "# f = open('/kate_beckinsale.txt','r')    \n",
        "# for line in f:\n",
        "#    texto.append(line)\n",
        "\n",
        "for i in range(len(texto)):\n",
        "    texto[i] = texto[i].lower() # para unicidade\n",
        "    texto[i] = texto[i].replace('\\n','')\n",
        "    texto[i] = texto[i].replace('.','')\n",
        "    texto[i] = texto[i].replace(',','')\n",
        "    texto[i] = texto[i].replace('(','')\n",
        "    texto[i] = texto[i].replace(')','')\n",
        "    texto[i] = texto[i].replace('?','')\n",
        "    texto[i] = texto[i].replace('\\'','') # elimina ' e \"\n",
        "    \n",
        "# print(texto)\n"
      ],
      "execution_count": null,
      "outputs": []
    },
    {
      "cell_type": "code",
      "metadata": {
        "id": "a5XxpMJe60li"
      },
      "source": [
        "# seu código\n",
        "mydict = {}                          # crie um dicionário vazio\n",
        "\n",
        "for line in texto:                   # para cada linha do texto\n",
        "\n",
        "  line = line.lower()                   # converte para lower\n",
        "  words = line.split()                  # separa cada palavra\n",
        "\n",
        "#  print(words)\n",
        "\n",
        "# seu código aqui\n",
        "                                        # para cada palavra em words\n",
        "                                            # se palavra não está no dicionário \n",
        "                                                # acrescenta a word com o valor 1\n",
        "                                            # senão (a entrada já existe) \n",
        "                                                # apenas soma 1 ao valor já existente\n",
        "\n",
        "print(mydict)    "
      ],
      "execution_count": null,
      "outputs": []
    },
    {
      "cell_type": "code",
      "metadata": {
        "id": "zMy6IqwC9GJt"
      },
      "source": [
        "# plot da frequência de termos\n",
        "# não é necessário alterar esse código\n",
        "import pandas as pd\n",
        "import seaborn as sns\n",
        "import matplotlib as mpl\n",
        "import matplotlib.pyplot as plt\n",
        "\n",
        "df = pd.DataFrame(mydict.items(),  columns=['word', 'count']).sort_values('count',ascending=False)\n",
        "df = df[df['count'] > 4]\n",
        "# df = df.iloc[ np.int(len(df)/2) - 10 : np.int(len(df)/2) + 10 ] # For books\n",
        "\n",
        "plt.figure(figsize=(24,10))\n",
        "mpl.style.use(['seaborn'])\n",
        "sns.barplot(df.word,df['count'])\n",
        "plt.xticks(rotation=90) "
      ],
      "execution_count": null,
      "outputs": []
    },
    {
      "cell_type": "markdown",
      "metadata": {
        "id": "E5NPoFfX0t2a"
      },
      "source": [
        "# **Exercício 8**. Altere a entrada de dados do exercício anterior para empregar o texto Ulisses, de James Joyce. Qual dentre esses nomes é o personagem principal da obra: *bloom*, *ulysses* ou *stephen*? \n",
        "\n",
        "DICA: Empregue a frequência dos têrmos do dicionário para identificar o personagem mais importante."
      ]
    },
    {
      "cell_type": "code",
      "metadata": {
        "id": "yPyfj-Du0sgd"
      },
      "source": [
        "# seu código aqui\n"
      ],
      "execution_count": null,
      "outputs": []
    },
    {
      "cell_type": "code",
      "metadata": {
        "id": "USdo2XEn16XT"
      },
      "source": [
        "print(mydict['bloom'], mydict['ulysses'], mydict['stephen'])"
      ],
      "execution_count": null,
      "outputs": []
    },
    {
      "cell_type": "markdown",
      "metadata": {
        "id": "L2ba7az4Jx9Z"
      },
      "source": [
        "## Luhn e Zipf Law e Ciência de Dados\n",
        "\n",
        "A frequência de termos (quantidade que cada palavra aparece em um texto) tem grande importância em uma série de problemas envolvendo busca, classificação e sumarização automática de documentos.  \n",
        "\n",
        "As palavras que um texto contêm e a frequencia delas pode muito bem dar uma pista do conteúdo do texto  \n",
        "\n",
        "> Hans Peter Luhn (1957): **The weight of a term that occurs in a document is simply proportional to the term frequency**.\n",
        "\n",
        "Entretanto parecem haver termos muito frequentes, como artigos, preposições etc. que parecem contribuir muito pouco para explicar o conteúdo de um texto.\n",
        "\n",
        "> George Kingsley Zipf: **Zipf's law states that given a large sample of words used, the frequency of any word is inversely proportional to its rank in the frequency table. So word number n has a frequency proportional to 1/n.**\n",
        "\n",
        "Isso ocorre em todo o texto de produção humana e, importante, em *qualquer língua*. Esse princípio é empregado desde para decifrar códigos e texto em linguas antigas, como em modernos sistemas de mineração de texto (*search engines*, bibliotecas digitais, classificação automática de conteúdo etc.).\n",
        "\n",
        "Veja alguns textos famosos em diferentes línguas:  "
      ]
    },
    {
      "cell_type": "code",
      "metadata": {
        "id": "xIzCiXsZJn4r",
        "colab": {
          "base_uri": "https://localhost:8080/",
          "height": 621
        },
        "outputId": "8d1726f2-3116-4108-b37e-0a5a63929f5e"
      },
      "source": [
        "from IPython.display import IFrame\n",
        "IFrame('https://demonstrations.wolfram.com/ZipfsLawAppliedToWordAndLetterFrequencies/', width='1000', height=600)"
      ],
      "execution_count": null,
      "outputs": [
        {
          "output_type": "execute_result",
          "data": {
            "text/html": [
              "\n",
              "        <iframe\n",
              "            width=\"1000\"\n",
              "            height=\"600\"\n",
              "            src=\"https://demonstrations.wolfram.com/ZipfsLawAppliedToWordAndLetterFrequencies/\"\n",
              "            frameborder=\"0\"\n",
              "            allowfullscreen\n",
              "        ></iframe>\n",
              "        "
            ],
            "text/plain": [
              "<IPython.lib.display.IFrame at 0x7fde2f2839b0>"
            ]
          },
          "metadata": {
            "tags": []
          },
          "execution_count": 5
        }
      ]
    }
  ]
}