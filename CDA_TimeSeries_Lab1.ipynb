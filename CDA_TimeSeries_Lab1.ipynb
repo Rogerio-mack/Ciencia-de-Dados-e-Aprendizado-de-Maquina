{
  "nbformat": 4,
  "nbformat_minor": 0,
  "metadata": {
    "colab": {
      "name": "CDA_TimeSeries_Lab1.ipynb",
      "provenance": [],
      "collapsed_sections": [],
      "authorship_tag": "ABX9TyNfhOwDwaIYm0xWGSz42JkO",
      "include_colab_link": true
    },
    "kernelspec": {
      "name": "python3",
      "display_name": "Python 3"
    },
    "language_info": {
      "name": "python"
    }
  },
  "cells": [
    {
      "cell_type": "markdown",
      "metadata": {
        "id": "view-in-github",
        "colab_type": "text"
      },
      "source": [
        "<a href=\"https://colab.research.google.com/github/Rogerio-mack/Ciencia-de-Dados-e-Aprendizado-de-Maquina/blob/main/CDA_TimeSeries_Lab1.ipynb\" target=\"_parent\"><img src=\"https://colab.research.google.com/assets/colab-badge.svg\" alt=\"Open In Colab\"/></a>"
      ]
    },
    {
      "cell_type": "markdown",
      "metadata": {
        "id": "gglUriLmo1sR"
      },
      "source": [
        "<head>\n",
        "  <meta name=\"author\" content=\"Rogério de Oliveira\">\n",
        "  <meta institution=\"author\" content=\"Universidade Presbiteriana Mackenzie\">\n",
        "</head>\n",
        "\n",
        "<img src=\"http://meusite.mackenzie.br/rogerio/mackenzie_logo/UPM.2_horizontal_vermelho.jpg\" width=300, align=\"right\"> \n",
        "<!-- <h1 align=left><font size = 6, style=\"color:rgb(200,0,0)\"> optional title </font></h1> -->"
      ]
    },
    {
      "cell_type": "markdown",
      "metadata": {
        "id": "-G7aCMh4r9y1"
      },
      "source": [
        "# Séries Temporais e Forecast"
      ]
    },
    {
      "cell_type": "code",
      "source": [
        "#@markdown imports \n",
        "import numpy as np\n",
        "import pandas as pd\n",
        "import matplotlib.pyplot as plt\n",
        "%matplotlib inline \n",
        "import seaborn as sns\n",
        "import statsmodels.formula.api as sm\n",
        "\n",
        "from statsmodels.graphics.tsaplots import plot_acf\n",
        "from statsmodels.graphics.tsaplots import plot_pacf\n",
        "from statsmodels.tsa.stattools import adfuller\n",
        "from statsmodels.tsa.seasonal import seasonal_decompose\n",
        "from statsmodels.tsa.stattools import periodogram\n"
      ],
      "metadata": {
        "id": "TsrJEUegxvQ_",
        "cellView": "form"
      },
      "execution_count": 126,
      "outputs": []
    },
    {
      "cell_type": "markdown",
      "source": [
        "# CASO: Série Temporal de Temperatura Global. \n",
        "\n",
        "Os dados são obtidos a partir da análise GISS Surface Temperature (GISTEMP) e do componente global do Climate at a Glance (GCAG) com  média mensal global em graus Celsius de 1880 até o presente.\n",
        "\n",
        "Link: https://datahub.io/core/global-temp/r/monthly.csv\n",
        "\n"
      ],
      "metadata": {
        "id": "MWs9C95M19PN"
      }
    },
    {
      "cell_type": "markdown",
      "source": [
        "# 1. Acesse e Explore os Dados\n",
        "\n",
        "Acesse os dados. Selecione somente os dados de temperatura que têm como fonte o *Climate at a Glance*. Crie o índice da Série temporal com o atributo `Date`.\n",
        "\n",
        "Qual a data mais antiga disponível e a média de temperatura de toda a série? "
      ],
      "metadata": {
        "id": "M47b2JEn2WLP"
      }
    },
    {
      "cell_type": "code",
      "source": [
        "# seu código"
      ],
      "metadata": {
        "id": "sH-l6Dj71YMf"
      },
      "execution_count": null,
      "outputs": []
    },
    {
      "cell_type": "markdown",
      "source": [
        "# 2. Visualmente, verifique se a Série é Estacionária\n",
        "\n",
        "Plot os dados. Você diria que essa é uma série estacionária? Verifique as médias e variâncias para os períodos anteriores a 1900, entre 1900 e 2000, e depois de 2000. O que você conclui?   \n",
        "\n"
      ],
      "metadata": {
        "id": "_m_nwzSb4ibD"
      }
    },
    {
      "cell_type": "code",
      "source": [
        "# seu código"
      ],
      "metadata": {
        "id": "TqtWj1xr4lVG"
      },
      "execution_count": null,
      "outputs": []
    },
    {
      "cell_type": "markdown",
      "source": [
        "# 3. Distribuição dos dados\n",
        "\n",
        "Os dados seguem que tipo de distribuição? "
      ],
      "metadata": {
        "id": "Czhf-X5AIKcF"
      }
    },
    {
      "cell_type": "code",
      "source": [
        "# seu código"
      ],
      "metadata": {
        "id": "RdF6zCjiLN0N"
      },
      "execution_count": null,
      "outputs": []
    },
    {
      "cell_type": "markdown",
      "source": [
        "# 4. Modelo Ingênuo de Médias (**RESOLVIDO**)\n",
        "\n",
        "Ao empregar um Modelo Ingênuo de Médias qual seria a sua melhor previsão para o temperatura no final da década de 2020? \n",
        "\n"
      ],
      "metadata": {
        "id": "DTJHxxoaJQp4"
      }
    },
    {
      "cell_type": "code",
      "source": [
        "fig, ax = plt.subplots(1,1,figsize=(10,3.5))\n",
        "\n",
        "data = df[ df.index > pd.to_datetime('2000-01-01', format='%Y-%m-%d') ].copy()\n",
        "data['year'] = data.index.year\n",
        "sns.barplot(x='year', y='Mean', data=data, ax=ax)\n",
        "plt.xticks(rotation=90)\n",
        "\n",
        "plt.hlines( data[ data.index >= pd.to_datetime('2015-01-01', format='%Y-%m-%d') ].Mean.mean(), 0, 17, color='r', linestyle='--' )\n",
        "plt.title('Mean 2015-2016: ' + str( np.round( data[ data.index >= pd.to_datetime('2015-01-01', format='%Y-%m-%d') ].Mean.mean(), 3 ) ) )\n",
        "plt.show()"
      ],
      "metadata": {
        "colab": {
          "base_uri": "https://localhost:8080/",
          "height": 284
        },
        "id": "LkVqueYIJtp1",
        "outputId": "b2e40a8a-c53a-4feb-c403-170f992fa74c"
      },
      "execution_count": 135,
      "outputs": [
        {
          "output_type": "display_data",
          "data": {
            "text/plain": [
              "<Figure size 720x252 with 1 Axes>"
            ],
            "image/png": "[encoded data removed]"
          },
          "metadata": {
            "needs_background": "light"
          }
        }
      ]
    },
    {
      "cell_type": "markdown",
      "source": [
        "# 5. Modelo Ingênuo de Regressão (**RESOLVIDO PARCIAL**)\n",
        "\n",
        "Qual a previsão para daqui 10 anos a partir de um Modelo Ingênuo de Regressão considerando apenas dados de 2020 para cá?"
      ],
      "metadata": {
        "id": "96hVcosuY0Yp"
      }
    },
    {
      "cell_type": "code",
      "source": [
        "#\n",
        "# criando os time_steps... resolvido\n",
        "#\n",
        "data = df[ df.index > pd.to_datetime('2000-01-01', format='%Y-%m-%d') ].copy()\n",
        "data = data.sort_index()\n",
        "\n",
        "data['time'] = np.arange(len(data))\n",
        "data = data.dropna()\n",
        "data.head()"
      ],
      "metadata": {
        "colab": {
          "base_uri": "https://localhost:8080/",
          "height": 237
        },
        "id": "-zvujhsfyReG",
        "outputId": "d87e0b37-e485-4253-f579-bd99da011a6c"
      },
      "execution_count": 136,
      "outputs": [
        {
          "output_type": "execute_result",
          "data": {
            "text/plain": [
              "           Source    Mean  time\n",
              "Date                           \n",
              "2000-01-06   GCAG  0.3467     0\n",
              "2000-02-06   GCAG  0.5439     1\n",
              "2000-03-06   GCAG  0.5561     2\n",
              "2000-04-06   GCAG  0.6311     3\n",
              "2000-05-06   GCAG  0.4657     4"
            ],
            "text/html": [
              "\n",
              "  <div id=\"df-ccdcf299-6cf6-4555-b7fc-e5ca165e1c3d\">\n",
              "    <div class=\"colab-df-container\">\n",
              "      <div>\n",
              "<style scoped>\n",
              "    .dataframe tbody tr th:only-of-type {\n",
              "        vertical-align: middle;\n",
              "    }\n",
              "\n",
              "    .dataframe tbody tr th {\n",
              "        vertical-align: top;\n",
              "    }\n",
              "\n",
              "    .dataframe thead th {\n",
              "        text-align: right;\n",
              "    }\n",
              "</style>\n",
              "<table border=\"1\" class=\"dataframe\">\n",
              "  <thead>\n",
              "    <tr style=\"text-align: right;\">\n",
              "      <th></th>\n",
              "      <th>Source</th>\n",
              "      <th>Mean</th>\n",
              "      <th>time</th>\n",
              "    </tr>\n",
              "    <tr>\n",
              "      <th>Date</th>\n",
              "      <th></th>\n",
              "      <th></th>\n",
              "      <th></th>\n",
              "    </tr>\n",
              "  </thead>\n",
              "  <tbody>\n",
              "    <tr>\n",
              "      <th>2000-01-06</th>\n",
              "      <td>GCAG</td>\n",
              "      <td>0.3467</td>\n",
              "      <td>0</td>\n",
              "    </tr>\n",
              "    <tr>\n",
              "      <th>2000-02-06</th>\n",
              "      <td>GCAG</td>\n",
              "      <td>0.5439</td>\n",
              "      <td>1</td>\n",
              "    </tr>\n",
              "    <tr>\n",
              "      <th>2000-03-06</th>\n",
              "      <td>GCAG</td>\n",
              "      <td>0.5561</td>\n",
              "      <td>2</td>\n",
              "    </tr>\n",
              "    <tr>\n",
              "      <th>2000-04-06</th>\n",
              "      <td>GCAG</td>\n",
              "      <td>0.6311</td>\n",
              "      <td>3</td>\n",
              "    </tr>\n",
              "    <tr>\n",
              "      <th>2000-05-06</th>\n",
              "      <td>GCAG</td>\n",
              "      <td>0.4657</td>\n",
              "      <td>4</td>\n",
              "    </tr>\n",
              "  </tbody>\n",
              "</table>\n",
              "</div>\n",
              "      <button class=\"colab-df-convert\" onclick=\"convertToInteractive('df-ccdcf299-6cf6-4555-b7fc-e5ca165e1c3d')\"\n",
              "              title=\"Convert this dataframe to an interactive table.\"\n",
              "              style=\"display:none;\">\n",
              "        \n",
              "  <svg xmlns=\"http://www.w3.org/2000/svg\" height=\"24px\"viewBox=\"0 0 24 24\"\n",
              "       width=\"24px\">\n",
              "    <path d=\"M0 0h24v24H0V0z\" fill=\"none\"/>\n",
              "    <path d=\"M18.56 5.44l.94 2.06.94-2.06 2.06-.94-2.06-.94-.94-2.06-.94 2.06-2.06.94zm-11 1L8.5 8.5l.94-2.06 2.06-.94-2.06-.94L8.5 2.5l-.94 2.06-2.06.94zm10 10l.94 2.06.94-2.06 2.06-.94-2.06-.94-.94-2.06-.94 2.06-2.06.94z\"/><path d=\"M17.41 7.96l-1.37-1.37c-.4-.4-.92-.59-1.43-.59-.52 0-1.04.2-1.43.59L10.3 9.45l-7.72 7.72c-.78.78-.78 2.05 0 2.83L4 21.41c.39.39.9.59 1.41.59.51 0 1.02-.2 1.41-.59l7.78-7.78 2.81-2.81c.8-.78.8-2.07 0-2.86zM5.41 20L4 18.59l7.72-7.72 1.47 1.35L5.41 20z\"/>\n",
              "  </svg>\n",
              "      </button>\n",
              "      \n",
              "  <style>\n",
              "    .colab-df-container {\n",
              "      display:flex;\n",
              "      flex-wrap:wrap;\n",
              "      gap: 12px;\n",
              "    }\n",
              "\n",
              "    .colab-df-convert {\n",
              "      background-color: #E8F0FE;\n",
              "      border: none;\n",
              "      border-radius: 50%;\n",
              "      cursor: pointer;\n",
              "      display: none;\n",
              "      fill: #1967D2;\n",
              "      height: 32px;\n",
              "      padding: 0 0 0 0;\n",
              "      width: 32px;\n",
              "    }\n",
              "\n",
              "    .colab-df-convert:hover {\n",
              "      background-color: #E2EBFA;\n",
              "      box-shadow: 0px 1px 2px rgba(60, 64, 67, 0.3), 0px 1px 3px 1px rgba(60, 64, 67, 0.15);\n",
              "      fill: #174EA6;\n",
              "    }\n",
              "\n",
              "    [theme=dark] .colab-df-convert {\n",
              "      background-color: #3B4455;\n",
              "      fill: #D2E3FC;\n",
              "    }\n",
              "\n",
              "    [theme=dark] .colab-df-convert:hover {\n",
              "      background-color: #434B5C;\n",
              "      box-shadow: 0px 1px 3px 1px rgba(0, 0, 0, 0.15);\n",
              "      filter: drop-shadow(0px 1px 2px rgba(0, 0, 0, 0.3));\n",
              "      fill: #FFFFFF;\n",
              "    }\n",
              "  </style>\n",
              "\n",
              "      <script>\n",
              "        const buttonEl =\n",
              "          document.querySelector('#df-ccdcf299-6cf6-4555-b7fc-e5ca165e1c3d button.colab-df-convert');\n",
              "        buttonEl.style.display =\n",
              "          google.colab.kernel.accessAllowed ? 'block' : 'none';\n",
              "\n",
              "        async function convertToInteractive(key) {\n",
              "          const element = document.querySelector('#df-ccdcf299-6cf6-4555-b7fc-e5ca165e1c3d');\n",
              "          const dataTable =\n",
              "            await google.colab.kernel.invokeFunction('convertToInteractive',\n",
              "                                                     [key], {});\n",
              "          if (!dataTable) return;\n",
              "\n",
              "          const docLinkHtml = 'Like what you see? Visit the ' +\n",
              "            '<a target=\"_blank\" href=https://colab.research.google.com/notebooks/data_table.ipynb>data table notebook</a>'\n",
              "            + ' to learn more about interactive tables.';\n",
              "          element.innerHTML = '';\n",
              "          dataTable['output_type'] = 'display_data';\n",
              "          await google.colab.output.renderOutput(dataTable, element);\n",
              "          const docLink = document.createElement('div');\n",
              "          docLink.innerHTML = docLinkHtml;\n",
              "          element.appendChild(docLink);\n",
              "        }\n",
              "      </script>\n",
              "    </div>\n",
              "  </div>\n",
              "  "
            ]
          },
          "metadata": {},
          "execution_count": 136
        }
      ]
    },
    {
      "cell_type": "code",
      "source": [
        "plt.figure(figsize=(15,4))\n",
        "\n",
        "plt.title('Variação de Média Global de Temperatura em graus Celsius')\n",
        "sns.regplot(x='time', y='Mean', data=data, scatter_kws=dict(color='k'), line_kws=dict(color='red'))\n",
        "\n",
        "plt.show()"
      ],
      "metadata": {
        "colab": {
          "base_uri": "https://localhost:8080/",
          "height": 295
        },
        "id": "EXwgOEjnybVu",
        "outputId": "efc81ee0-10c7-4209-ed80-70e9aefce25c"
      },
      "execution_count": 137,
      "outputs": [
        {
          "output_type": "display_data",
          "data": {
            "text/plain": [
              "<Figure size 1080x288 with 1 Axes>"
            ],
            "image/png": "[encoded data removed]"
          },
          "metadata": {
            "needs_background": "light"
          }
        }
      ]
    },
    {
      "cell_type": "markdown",
      "source": [
        "## Modelo de Regressão"
      ],
      "metadata": {
        "id": "TeDjV3ZTjEdq"
      }
    },
    {
      "cell_type": "code",
      "metadata": {
        "id": "nFLNCFPcNePO"
      },
      "source": [
        "# seu código\n"
      ],
      "execution_count": null,
      "outputs": []
    },
    {
      "cell_type": "markdown",
      "source": [
        "## Predict 120 meses a frente... "
      ],
      "metadata": {
        "id": "4B-J_M6li_G8"
      }
    },
    {
      "cell_type": "code",
      "source": [
        "# seu código"
      ],
      "metadata": {
        "id": "K_gP8n5K3F-H"
      },
      "execution_count": null,
      "outputs": []
    },
    {
      "cell_type": "markdown",
      "source": [
        "# 6. Decomposição de Séries Temporais\n",
        "\n",
        "Decompomha a Série. Que componente é mais presente?"
      ],
      "metadata": {
        "id": "2OEqvJVNGIrv"
      }
    },
    {
      "cell_type": "code",
      "source": [
        "#@markdown plot_series\n",
        "def plot_series(values, decomp_type='additive', max_lags=30):\n",
        "  #\n",
        "  # values = a pandas series with datetime index\n",
        "  #\n",
        "  import warnings\n",
        "  warnings.filterwarnings('ignore')\n",
        "\n",
        "  import numpy as np\n",
        "  import pandas as pd\n",
        "  import matplotlib.pyplot as plt\n",
        "  %matplotlib inline \n",
        "  import seaborn as sns\n",
        "  import statsmodels.formula.api as sm\n",
        "\n",
        "  from statsmodels.graphics.tsaplots import plot_acf\n",
        "  from statsmodels.graphics.tsaplots import plot_pacf\n",
        "  from statsmodels.tsa.stattools import adfuller\n",
        "  from statsmodels.tsa.seasonal import seasonal_decompose\n",
        "  from statsmodels.tsa.stattools import periodogram\n",
        "\n",
        "  from pylab import rcParams\n",
        "  rcParams['figure.figsize'] = 17,3\n",
        "\n",
        "  plt.plot(values.index, values, c='r')\n",
        "  plt.title('Original | Observed Series')\n",
        "  plt.show()\n",
        "\n",
        "  rcParams['figure.figsize'] = 14,3\n",
        "  fig, ax = plt.subplots(nrows=1, ncols=3, sharey=True)\n",
        "\n",
        "  decomposition = seasonal_decompose(values, model=decomp_type, freq=1)\n",
        "\n",
        "  ax[0].plot(decomposition.trend)\n",
        "  ax[0].set_title('Trend')\n",
        "  ax[1].plot(decomposition.seasonal)\n",
        "  ax[1].set_title('Seasonal')\n",
        "  ax[2].plot(decomposition.resid)\n",
        "  ax[2].set_title('Residuals')\n",
        "\n",
        "  plt.tight_layout()\n",
        "  plt.show()\n",
        "\n",
        "  rcParams['figure.figsize'] = 14,3\n",
        "  fig, ax = plt.subplots(nrows=1, ncols=3)\n",
        "\n",
        "  plot_acf(values, ax=ax[0], lags = max_lags)\n",
        "  plot_pacf(values, ax=ax[1], lags = max_lags)\n",
        "\n",
        "  periods = periodogram(values)\n",
        "  # print(periods)\n",
        "  ax[2].bar(x=range(len(periods)), height=periods)\n",
        "  plt.title('Periodogram')\n",
        "\n",
        "  plt.tight_layout()\n",
        "  plt.show()\n",
        "\n",
        "  warnings.filterwarnings('once')\n",
        "\n",
        "  return \n",
        "\n",
        " \n",
        "\n",
        "\n"
      ],
      "metadata": {
        "id": "-jhs0Vxafeui",
        "cellView": "form"
      },
      "execution_count": 142,
      "outputs": []
    },
    {
      "cell_type": "code",
      "source": [
        "# seu código"
      ],
      "metadata": {
        "id": "r4ojupcDZRgH"
      },
      "execution_count": null,
      "outputs": []
    }
  ]
}