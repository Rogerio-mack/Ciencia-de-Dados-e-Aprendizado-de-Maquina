{
  "nbformat": 4,
  "nbformat_minor": 0,
  "metadata": {
    "colab": {
      "name": "ACD_T2_EDA.ipynb",
      "provenance": [],
      "authorship_tag": "ABX9TyMskLPri1alboNs47Ifsosh",
      "include_colab_link": true
    },
    "kernelspec": {
      "name": "python3",
      "display_name": "Python 3"
    },
    "language_info": {
      "name": "python"
    }
  },
  "cells": [
    {
      "cell_type": "markdown",
      "metadata": {
        "id": "view-in-github",
        "colab_type": "text"
      },
      "source": [
        "<a href=\"https://colab.research.google.com/github/Rogerio-mack/Ciencia-de-Dados-e-Aprendizado-de-Maquina/blob/main/ACD_T2_EDA.ipynb\" target=\"_parent\"><img src=\"https://colab.research.google.com/assets/colab-badge.svg\" alt=\"Open In Colab\"/></a>"
      ]
    },
    {
      "cell_type": "markdown",
      "metadata": {
        "id": "J3LMBfpeHTwb"
      },
      "source": [
        "<head>\n",
        "  <meta name=\"author\" content=\"Rogério de Oliveira\">\n",
        "  <meta institution=\"author\" content=\"Universidade Presbiteriana Mackenzie\">\n",
        "</head>\n",
        "\n",
        "<img src=\"http://meusite.mackenzie.br/rogerio/mackenzie_logo/UPM.2_horizontal_vermelho.jpg\" width=300, align=\"right\">\n",
        "<!-- <h1 align=left><font size = 6, style=\"color:rgb(200,0,0)\"> optional title </font></h1> -->\n"
      ]
    },
    {
      "cell_type": "markdown",
      "metadata": {
        "id": "zQX8WQPeHTwc"
      },
      "source": [
        "# Análise Exploratória de Dados (EDA) \n",
        "---\n"
      ]
    },
    {
      "cell_type": "markdown",
      "metadata": {
        "id": "_7seCjgwiXto"
      },
      "source": [
        "## Introdução\n",
        "\n",
        "A **Análise Exploratória de Dados (EDA)** é uma abordagem para análise de dados que emprega uma variedade de técnicas, incluindo seleções e transformações dos dados e técnicas de visualização para, dentre outras:\n",
        "\n",
        "1. maximizar a percepção dos dados;\n",
        "2. descobrir a estrutura dos dados;\n",
        "3. identificar variáveis ​​importantes;\n",
        "4. identificar valores mais frequentes;\n",
        "5. detectar outliers e anomalias;\n",
        "6. verificar a qualidade dos dados;\n",
        "7. identificar padrões; etc.\n",
        "\n",
        "EDA é um **ciclo iterativo**, de refinamento sucessivo de análise:\n",
        "\n",
        "1. Crie perguntas ou hipóteses sobre os dados\n",
        "> ex. Será que a maior parte dos brasileiros têm renda inferior à renda mínima para declaração de IR? \n",
        "2. Busque as respostas visualizando, transformando e modelando os dados\n",
        "> ex. Você pode obter os quartis de renda ou ainda fazer um gráfico de distribuição dos valores de renda e confrontar com valor mínimo do IR\n",
        "3. Use o que você aprendeu para refinar as perguntas e as respostas\n",
        "> ex. Suponha que você chegue a resposta de que 80% dos brasileiros  não pagam IR (em 2014 eram apenas 15% dos brasileiros que declaravam IR!). Você pode, então, querer refinar a sua busca para buscar esse percentual por região ou estado.\n",
        "\n",
        "O EDA **não é um processo formal** com um conjunto regras pré-definido. O EDA é uma abordagem que, antes de tudo, pressupõe um espírito ou postura crítica sobre os dados. Um espírito quase científico ou investigativo. Como todo processo investigativo **alguns caminhos de análise serão produtivos, outros não**. Os caminhos produtivos podem levar a novas análises, comunicação de resultados ou mesmo a tomada de decisões. Os caminhos infrutíferos são lições aprendidas sobre os dados e também registrarão hipóteses rejeitadas sobre os dados.\n",
        "\n",
        "Esse *espírito investigativo sobre os dados* é mais modernamente representado pela expressão **data thinking**. Nessa abordagem a EDA se diferencia da análise propriamente estatística que busca caracterizar os dados por gráficos e dados estatísticos. Na EDA a ideia predominante é deixar que os dados revelem sua estrutura e seus padrões, produzindo poderosos **insights** sobre os dados. \n",
        "\n",
        "**Exploratory Data Analysis, Tukey, (1977)** é em geral considerado o texto seminal da EDA, e Tukey faz uma série de contribuições à análise de dados que vigoram até hoje (como a rejeição dos gráficos de pizza ou sua criação dos gráficos de caixa).\n",
        "\n",
        "> *“Muito melhor uma resposta aproximada para a pergunta certa, que muitas vezes é vaga, do que uma resposta exata para a pergunta errada, que sempre pode ser precisa”. - John Tukey**\n",
        "\n",
        "## Aplicando o EDA\n",
        "\n",
        "Embora possa diferir em termos de profundidade a **EDA é uma fase importante de qualquer análise de dados, das mais simples em que você busca respostas diretas sobre os dados (qual a média de idade dos desempregados?), até nas análises mais sofisticadas em que são empregados modelos de Aprendizado de Máquina**. Mesmo nos modelos mais simples você sempre precisa investigar a qualidade de seus dados, ou ainda fazer operações de seleção ou limpeza de dados para empregar somente dados que atendem à sua pesquisa. \n",
        "\n",
        "O objetivo da EDA é criar uma compreensão de seus dados e a maneira mais direta de fazer isso é empregar perguntas sobre os dados. Elas irão, então, orientar a investigação definindo a exploração de um certo aspecto dos dados e ajudando a decidir que parte dados será empregada, quais gráficos, e os modelos ou transformações necessárias. Não há regras de que perguntas devem ser feitas e elas podem variar muito em razão do contexto dos dados. Mas os itens no início dessa seção dão uma dica de que tipo de perguntas devemos fazer e ainda podemos perguntar como nossos dados variam, como duas variáveis se relacionam, comparar períodos diferentes dos dados etc.\n"
      ]
    },
    {
      "cell_type": "markdown",
      "metadata": {
        "id": "19PJ83yDz8RQ"
      },
      "source": [
        "# Um roteiro simples para o EDA\n",
        "\n",
        "Empregando técnicas de natureza gráfica e algumas técnicas quantitativas você pode fazer o seguite roteiro fazendo perguntas a associadas a cada item:\n",
        "\n",
        "1. Explore a estrutura dos dados\n",
        "1. Examine então dados brutos e atributos relevantes\n",
        "1. Gere estatísticas simples sobre os dados\n",
        "1. Verifique os valores possíves dos atributos, em especial atributos categóricos\n",
        "1. Responda a perguntas relevantes ou de interesse sobre os dados\n",
        "1. Dependendo do problema você pode então analisar:\n",
        "  1. Evolução ou Tendência dos Dados\n",
        "  1. Distribuições dos Dados\n",
        "  1. Comparativos de Quantidades e Proporções \n",
        "  1. Correlações e Relações entre os Dados\n",
        "\n",
        "Referências: \n",
        "\n",
        "[Engineering Statistics Handbook. Exploratory Data Analysis](https://www.itl.nist.gov/div898/handbook/eda/section1/eda11.htm)\n",
        "\n",
        "[R for Data Science: Import, Tidy, Transform, Visualize, and Model Data 1st Edition by Hadley Wickham, Garrett Grolemund](https://r4ds.had.co.nz/index.html)"
      ]
    },
    {
      "cell_type": "markdown",
      "metadata": {
        "id": "1eltE0sq5ah2"
      },
      "source": [
        "# Antes de começar\n",
        "\n",
        "Para construir Analises Exploratórias dos Dados com Python você irá precisar saber fazer aquisições, seleções e transformações dos dados com Pandas, além de saber obter as principais estatísticas sobre os dados. Você também precisará saber construir gráficos para análise com os pacotes Matplotlib ou Seaborn. Você poderá rever esses conteúdos aqui.\n",
        "\n",
        "[Complementar - Seleção e Organização de Dados com Pandas](https://colab.research.google.com/github/Rogerio-mack/Ciencia-de-Dados-e-Aprendizado-de-Maquina/blob/main/ACD_T2_Pandas.ipynb)\n",
        "\n",
        "[Complementar - Visualização dos Dados com Matplotlib e Seaborn](https://colab.research.google.com/github/Rogerio-mack/Ciencia-de-Dados-e-Aprendizado-de-Maquina/blob/main/ACD_T2_Visualizacao.ipynb)"
      ]
    },
    {
      "cell_type": "markdown",
      "metadata": {
        "_uuid": "9dd9e07c590ca22f0c525222f60f0ebff4e092c6",
        "id": "YndSGlaRBDok"
      },
      "source": [
        "Você você vai aprender um pouco mais sobre o EDA através da exploração e análise de uma base com cerca de 130.000 avaliações de Vinhos. \n",
        "\n",
        "## Caso: **Os Vinhos Brasileiros são bem avaliados e mais baratos que os vinhos de outros países?**\n",
        "\n",
        "Empregue os dados da URL: https://meusite.mackenzie.br/rogerio/TIC/winemag-data-130k-v2.csv\n",
        "\n",
        "Ao final dessa trilha você será capax de responder a várias perguntas relevantes e curiosas sobre o mercado de vinhos. Além da questão de abertura do nosso caso você saberá responder por exemplo que *Que região do Brasil produz mais vinhos dentro dos avaliados?*, *Os vinhos Franceses são mesmo mais caros e mais bem avaliados?*. "
      ]
    },
    {
      "cell_type": "markdown",
      "metadata": {
        "_uuid": "9dd9e07c590ca22f0c525222f60f0ebff4e092c6",
        "id": "JkP8DPsYo1sh"
      },
      "source": [
        "### Imports e Acesso aos Dados\n",
        "Aqui você deve **importar as bibliotecas das ferramentas** que você pretende empregar na sua EDA. A seguir você deve fazer a aquisição dos dados. Lembre-se de verificar a origem dos dados para empregar as funções e parâmetros corretos de leitura dos dados (**extensão do arquivo, headers, separador**).\n"
      ]
    },
    {
      "cell_type": "code",
      "metadata": {
        "id": "W9wrewWBEPbn",
        "colab": {
          "base_uri": "https://localhost:8080/",
          "height": 71
        },
        "outputId": "7ccbecb2-40a8-4534-9458-f168635fb58c"
      },
      "source": [
        "# imports \n",
        "import pandas                  as pd\n",
        "import numpy                   as np\n",
        "import matplotlib.pyplot       as plt\n",
        "import seaborn                 as sns\n",
        "import statsmodels.formula.api as sm\n",
        "import warnings\n",
        "warnings.filterwarnings(\"ignore\")  # Suppress all warnings\n",
        "\n",
        "\n"
      ],
      "execution_count": null,
      "outputs": [
        {
          "output_type": "stream",
          "text": [
            "/usr/local/lib/python3.6/dist-packages/statsmodels/tools/_testing.py:19: FutureWarning: pandas.util.testing is deprecated. Use the functions in the public API at pandas.testing instead.\n",
            "  import pandas.util.testing as tm\n"
          ],
          "name": "stderr"
        }
      ]
    },
    {
      "cell_type": "code",
      "metadata": {
        "id": "VXG-0pmSENoT"
      },
      "source": [
        "# read data\n",
        "wine = pd.read_csv('https://meusite.mackenzie.br/rogerio/TIC/winemag-data-130k-v2.csv')"
      ],
      "execution_count": null,
      "outputs": []
    },
    {
      "cell_type": "markdown",
      "metadata": {
        "id": "rjVq4vdxO_JE"
      },
      "source": [
        "<h1 align=left><font size = 6, style=\"color:rgb(200,100,0)\">Responda as perguntas em SIMPLES PORTUGUÊS antes de prosseguir ;-) </font></h1>\n",
        "<hr>\n",
        "\n",
        "Lembre-se, o *pensamento analítico* precede a ação técnica de codificar e executar as respostas."
      ]
    },
    {
      "cell_type": "markdown",
      "metadata": {
        "id": "uwDKGGzjNvjR"
      },
      "source": [
        "# 1. Explore a Estrutura dos Dados\n",
        "Quantos registros e atributos tem? Qual o aspecto dos dados? Quais os tipos dos dados (categóricos, numéricos)? "
      ]
    },
    {
      "cell_type": "code",
      "metadata": {
        "id": "lpzfcPi-N7qj",
        "colab": {
          "base_uri": "https://localhost:8080/",
          "height": 629
        },
        "outputId": "6c47b3fb-6da0-45fa-911f-d917958d86f1"
      },
      "source": [
        "wine.shape          \n",
        "len(wine)           \n",
        "wine.columns\n",
        "wine.head()\n"
      ],
      "execution_count": null,
      "outputs": [
        {
          "output_type": "execute_result",
          "data": {
            "text/html": [
              "<div>\n",
              "<style scoped>\n",
              "    .dataframe tbody tr th:only-of-type {\n",
              "        vertical-align: middle;\n",
              "    }\n",
              "\n",
              "    .dataframe tbody tr th {\n",
              "        vertical-align: top;\n",
              "    }\n",
              "\n",
              "    .dataframe thead th {\n",
              "        text-align: right;\n",
              "    }\n",
              "</style>\n",
              "<table border=\"1\" class=\"dataframe\">\n",
              "  <thead>\n",
              "    <tr style=\"text-align: right;\">\n",
              "      <th></th>\n",
              "      <th>Unnamed: 0</th>\n",
              "      <th>country</th>\n",
              "      <th>description</th>\n",
              "      <th>designation</th>\n",
              "      <th>points</th>\n",
              "      <th>price</th>\n",
              "      <th>province</th>\n",
              "      <th>region_1</th>\n",
              "      <th>region_2</th>\n",
              "      <th>taster_name</th>\n",
              "      <th>taster_twitter_handle</th>\n",
              "      <th>title</th>\n",
              "      <th>variety</th>\n",
              "      <th>winery</th>\n",
              "    </tr>\n",
              "  </thead>\n",
              "  <tbody>\n",
              "    <tr>\n",
              "      <th>0</th>\n",
              "      <td>0</td>\n",
              "      <td>Italy</td>\n",
              "      <td>Aromas include tropical fruit, broom, brimston...</td>\n",
              "      <td>Vulkà Bianco</td>\n",
              "      <td>87</td>\n",
              "      <td>NaN</td>\n",
              "      <td>Sicily &amp; Sardinia</td>\n",
              "      <td>Etna</td>\n",
              "      <td>NaN</td>\n",
              "      <td>Kerin O’Keefe</td>\n",
              "      <td>@kerinokeefe</td>\n",
              "      <td>Nicosia 2013 Vulkà Bianco  (Etna)</td>\n",
              "      <td>White Blend</td>\n",
              "      <td>Nicosia</td>\n",
              "    </tr>\n",
              "    <tr>\n",
              "      <th>1</th>\n",
              "      <td>1</td>\n",
              "      <td>Portugal</td>\n",
              "      <td>This is ripe and fruity, a wine that is smooth...</td>\n",
              "      <td>Avidagos</td>\n",
              "      <td>87</td>\n",
              "      <td>15.0</td>\n",
              "      <td>Douro</td>\n",
              "      <td>NaN</td>\n",
              "      <td>NaN</td>\n",
              "      <td>Roger Voss</td>\n",
              "      <td>@vossroger</td>\n",
              "      <td>Quinta dos Avidagos 2011 Avidagos Red (Douro)</td>\n",
              "      <td>Portuguese Red</td>\n",
              "      <td>Quinta dos Avidagos</td>\n",
              "    </tr>\n",
              "    <tr>\n",
              "      <th>2</th>\n",
              "      <td>2</td>\n",
              "      <td>US</td>\n",
              "      <td>Tart and snappy, the flavors of lime flesh and...</td>\n",
              "      <td>NaN</td>\n",
              "      <td>87</td>\n",
              "      <td>14.0</td>\n",
              "      <td>Oregon</td>\n",
              "      <td>Willamette Valley</td>\n",
              "      <td>Willamette Valley</td>\n",
              "      <td>Paul Gregutt</td>\n",
              "      <td>@paulgwine</td>\n",
              "      <td>Rainstorm 2013 Pinot Gris (Willamette Valley)</td>\n",
              "      <td>Pinot Gris</td>\n",
              "      <td>Rainstorm</td>\n",
              "    </tr>\n",
              "    <tr>\n",
              "      <th>3</th>\n",
              "      <td>3</td>\n",
              "      <td>US</td>\n",
              "      <td>Pineapple rind, lemon pith and orange blossom ...</td>\n",
              "      <td>Reserve Late Harvest</td>\n",
              "      <td>87</td>\n",
              "      <td>13.0</td>\n",
              "      <td>Michigan</td>\n",
              "      <td>Lake Michigan Shore</td>\n",
              "      <td>NaN</td>\n",
              "      <td>Alexander Peartree</td>\n",
              "      <td>NaN</td>\n",
              "      <td>St. Julian 2013 Reserve Late Harvest Riesling ...</td>\n",
              "      <td>Riesling</td>\n",
              "      <td>St. Julian</td>\n",
              "    </tr>\n",
              "    <tr>\n",
              "      <th>4</th>\n",
              "      <td>4</td>\n",
              "      <td>US</td>\n",
              "      <td>Much like the regular bottling from 2012, this...</td>\n",
              "      <td>Vintner's Reserve Wild Child Block</td>\n",
              "      <td>87</td>\n",
              "      <td>65.0</td>\n",
              "      <td>Oregon</td>\n",
              "      <td>Willamette Valley</td>\n",
              "      <td>Willamette Valley</td>\n",
              "      <td>Paul Gregutt</td>\n",
              "      <td>@paulgwine</td>\n",
              "      <td>Sweet Cheeks 2012 Vintner's Reserve Wild Child...</td>\n",
              "      <td>Pinot Noir</td>\n",
              "      <td>Sweet Cheeks</td>\n",
              "    </tr>\n",
              "  </tbody>\n",
              "</table>\n",
              "</div>"
            ],
            "text/plain": [
              "   Unnamed: 0   country  ...         variety               winery\n",
              "0           0     Italy  ...     White Blend              Nicosia\n",
              "1           1  Portugal  ...  Portuguese Red  Quinta dos Avidagos\n",
              "2           2        US  ...      Pinot Gris            Rainstorm\n",
              "3           3        US  ...        Riesling           St. Julian\n",
              "4           4        US  ...      Pinot Noir         Sweet Cheeks\n",
              "\n",
              "[5 rows x 14 columns]"
            ]
          },
          "metadata": {
            "tags": []
          },
          "execution_count": 3
        }
      ]
    },
    {
      "cell_type": "markdown",
      "metadata": {
        "id": "mQnGQSXzFyDb"
      },
      "source": [
        "# 2. Examine então dados brutos e atributos relevantes\n",
        "  1. Gere estatísticas simples sobre os dados\n",
        "  1. Verifique os valores possíves dos atributos, em especial atributos"
      ]
    },
    {
      "cell_type": "code",
      "metadata": {
        "id": "fnnl_jGJc54m",
        "colab": {
          "base_uri": "https://localhost:8080/",
          "height": 495
        },
        "outputId": "67e8ae6c-0a14-4377-fb30-e2af8d118843"
      },
      "source": [
        "pd.options.display.max_columns = 20 # cuidado com rows\n",
        "wine.describe(include='all')"
      ],
      "execution_count": null,
      "outputs": [
        {
          "output_type": "execute_result",
          "data": {
            "text/html": [
              "<div>\n",
              "<style scoped>\n",
              "    .dataframe tbody tr th:only-of-type {\n",
              "        vertical-align: middle;\n",
              "    }\n",
              "\n",
              "    .dataframe tbody tr th {\n",
              "        vertical-align: top;\n",
              "    }\n",
              "\n",
              "    .dataframe thead th {\n",
              "        text-align: right;\n",
              "    }\n",
              "</style>\n",
              "<table border=\"1\" class=\"dataframe\">\n",
              "  <thead>\n",
              "    <tr style=\"text-align: right;\">\n",
              "      <th></th>\n",
              "      <th>Unnamed: 0</th>\n",
              "      <th>country</th>\n",
              "      <th>description</th>\n",
              "      <th>designation</th>\n",
              "      <th>points</th>\n",
              "      <th>price</th>\n",
              "      <th>province</th>\n",
              "      <th>region_1</th>\n",
              "      <th>region_2</th>\n",
              "      <th>taster_name</th>\n",
              "      <th>taster_twitter_handle</th>\n",
              "      <th>title</th>\n",
              "      <th>variety</th>\n",
              "      <th>winery</th>\n",
              "    </tr>\n",
              "  </thead>\n",
              "  <tbody>\n",
              "    <tr>\n",
              "      <th>count</th>\n",
              "      <td>129971.000000</td>\n",
              "      <td>129908</td>\n",
              "      <td>129971</td>\n",
              "      <td>92506</td>\n",
              "      <td>129971.000000</td>\n",
              "      <td>120975.000000</td>\n",
              "      <td>129908</td>\n",
              "      <td>108724</td>\n",
              "      <td>50511</td>\n",
              "      <td>103727</td>\n",
              "      <td>98758</td>\n",
              "      <td>129971</td>\n",
              "      <td>129970</td>\n",
              "      <td>129971</td>\n",
              "    </tr>\n",
              "    <tr>\n",
              "      <th>unique</th>\n",
              "      <td>NaN</td>\n",
              "      <td>43</td>\n",
              "      <td>119955</td>\n",
              "      <td>37979</td>\n",
              "      <td>NaN</td>\n",
              "      <td>NaN</td>\n",
              "      <td>425</td>\n",
              "      <td>1229</td>\n",
              "      <td>17</td>\n",
              "      <td>19</td>\n",
              "      <td>15</td>\n",
              "      <td>118840</td>\n",
              "      <td>707</td>\n",
              "      <td>16757</td>\n",
              "    </tr>\n",
              "    <tr>\n",
              "      <th>top</th>\n",
              "      <td>NaN</td>\n",
              "      <td>US</td>\n",
              "      <td>Stalky aromas suggest hay and green herbs, wit...</td>\n",
              "      <td>Reserve</td>\n",
              "      <td>NaN</td>\n",
              "      <td>NaN</td>\n",
              "      <td>California</td>\n",
              "      <td>Napa Valley</td>\n",
              "      <td>Central Coast</td>\n",
              "      <td>Roger Voss</td>\n",
              "      <td>@vossroger</td>\n",
              "      <td>Gloria Ferrer NV Sonoma Brut Sparkling (Sonoma...</td>\n",
              "      <td>Pinot Noir</td>\n",
              "      <td>Wines &amp; Winemakers</td>\n",
              "    </tr>\n",
              "    <tr>\n",
              "      <th>freq</th>\n",
              "      <td>NaN</td>\n",
              "      <td>54504</td>\n",
              "      <td>3</td>\n",
              "      <td>2009</td>\n",
              "      <td>NaN</td>\n",
              "      <td>NaN</td>\n",
              "      <td>36247</td>\n",
              "      <td>4480</td>\n",
              "      <td>11065</td>\n",
              "      <td>25514</td>\n",
              "      <td>25514</td>\n",
              "      <td>11</td>\n",
              "      <td>13272</td>\n",
              "      <td>222</td>\n",
              "    </tr>\n",
              "    <tr>\n",
              "      <th>mean</th>\n",
              "      <td>64985.000000</td>\n",
              "      <td>NaN</td>\n",
              "      <td>NaN</td>\n",
              "      <td>NaN</td>\n",
              "      <td>88.447138</td>\n",
              "      <td>35.363389</td>\n",
              "      <td>NaN</td>\n",
              "      <td>NaN</td>\n",
              "      <td>NaN</td>\n",
              "      <td>NaN</td>\n",
              "      <td>NaN</td>\n",
              "      <td>NaN</td>\n",
              "      <td>NaN</td>\n",
              "      <td>NaN</td>\n",
              "    </tr>\n",
              "    <tr>\n",
              "      <th>std</th>\n",
              "      <td>37519.540256</td>\n",
              "      <td>NaN</td>\n",
              "      <td>NaN</td>\n",
              "      <td>NaN</td>\n",
              "      <td>3.039730</td>\n",
              "      <td>41.022218</td>\n",
              "      <td>NaN</td>\n",
              "      <td>NaN</td>\n",
              "      <td>NaN</td>\n",
              "      <td>NaN</td>\n",
              "      <td>NaN</td>\n",
              "      <td>NaN</td>\n",
              "      <td>NaN</td>\n",
              "      <td>NaN</td>\n",
              "    </tr>\n",
              "    <tr>\n",
              "      <th>min</th>\n",
              "      <td>0.000000</td>\n",
              "      <td>NaN</td>\n",
              "      <td>NaN</td>\n",
              "      <td>NaN</td>\n",
              "      <td>80.000000</td>\n",
              "      <td>4.000000</td>\n",
              "      <td>NaN</td>\n",
              "      <td>NaN</td>\n",
              "      <td>NaN</td>\n",
              "      <td>NaN</td>\n",
              "      <td>NaN</td>\n",
              "      <td>NaN</td>\n",
              "      <td>NaN</td>\n",
              "      <td>NaN</td>\n",
              "    </tr>\n",
              "    <tr>\n",
              "      <th>25%</th>\n",
              "      <td>32492.500000</td>\n",
              "      <td>NaN</td>\n",
              "      <td>NaN</td>\n",
              "      <td>NaN</td>\n",
              "      <td>86.000000</td>\n",
              "      <td>17.000000</td>\n",
              "      <td>NaN</td>\n",
              "      <td>NaN</td>\n",
              "      <td>NaN</td>\n",
              "      <td>NaN</td>\n",
              "      <td>NaN</td>\n",
              "      <td>NaN</td>\n",
              "      <td>NaN</td>\n",
              "      <td>NaN</td>\n",
              "    </tr>\n",
              "    <tr>\n",
              "      <th>50%</th>\n",
              "      <td>64985.000000</td>\n",
              "      <td>NaN</td>\n",
              "      <td>NaN</td>\n",
              "      <td>NaN</td>\n",
              "      <td>88.000000</td>\n",
              "      <td>25.000000</td>\n",
              "      <td>NaN</td>\n",
              "      <td>NaN</td>\n",
              "      <td>NaN</td>\n",
              "      <td>NaN</td>\n",
              "      <td>NaN</td>\n",
              "      <td>NaN</td>\n",
              "      <td>NaN</td>\n",
              "      <td>NaN</td>\n",
              "    </tr>\n",
              "    <tr>\n",
              "      <th>75%</th>\n",
              "      <td>97477.500000</td>\n",
              "      <td>NaN</td>\n",
              "      <td>NaN</td>\n",
              "      <td>NaN</td>\n",
              "      <td>91.000000</td>\n",
              "      <td>42.000000</td>\n",
              "      <td>NaN</td>\n",
              "      <td>NaN</td>\n",
              "      <td>NaN</td>\n",
              "      <td>NaN</td>\n",
              "      <td>NaN</td>\n",
              "      <td>NaN</td>\n",
              "      <td>NaN</td>\n",
              "      <td>NaN</td>\n",
              "    </tr>\n",
              "    <tr>\n",
              "      <th>max</th>\n",
              "      <td>129970.000000</td>\n",
              "      <td>NaN</td>\n",
              "      <td>NaN</td>\n",
              "      <td>NaN</td>\n",
              "      <td>100.000000</td>\n",
              "      <td>3300.000000</td>\n",
              "      <td>NaN</td>\n",
              "      <td>NaN</td>\n",
              "      <td>NaN</td>\n",
              "      <td>NaN</td>\n",
              "      <td>NaN</td>\n",
              "      <td>NaN</td>\n",
              "      <td>NaN</td>\n",
              "      <td>NaN</td>\n",
              "    </tr>\n",
              "  </tbody>\n",
              "</table>\n",
              "</div>"
            ],
            "text/plain": [
              "           Unnamed: 0 country  \\\n",
              "count   129971.000000  129908   \n",
              "unique            NaN      43   \n",
              "top               NaN      US   \n",
              "freq              NaN   54504   \n",
              "mean     64985.000000     NaN   \n",
              "std      37519.540256     NaN   \n",
              "min          0.000000     NaN   \n",
              "25%      32492.500000     NaN   \n",
              "50%      64985.000000     NaN   \n",
              "75%      97477.500000     NaN   \n",
              "max     129970.000000     NaN   \n",
              "\n",
              "                                              description designation  \\\n",
              "count                                              129971       92506   \n",
              "unique                                             119955       37979   \n",
              "top     Stalky aromas suggest hay and green herbs, wit...     Reserve   \n",
              "freq                                                    3        2009   \n",
              "mean                                                  NaN         NaN   \n",
              "std                                                   NaN         NaN   \n",
              "min                                                   NaN         NaN   \n",
              "25%                                                   NaN         NaN   \n",
              "50%                                                   NaN         NaN   \n",
              "75%                                                   NaN         NaN   \n",
              "max                                                   NaN         NaN   \n",
              "\n",
              "               points          price    province     region_1       region_2  \\\n",
              "count   129971.000000  120975.000000      129908       108724          50511   \n",
              "unique            NaN            NaN         425         1229             17   \n",
              "top               NaN            NaN  California  Napa Valley  Central Coast   \n",
              "freq              NaN            NaN       36247         4480          11065   \n",
              "mean        88.447138      35.363389         NaN          NaN            NaN   \n",
              "std          3.039730      41.022218         NaN          NaN            NaN   \n",
              "min         80.000000       4.000000         NaN          NaN            NaN   \n",
              "25%         86.000000      17.000000         NaN          NaN            NaN   \n",
              "50%         88.000000      25.000000         NaN          NaN            NaN   \n",
              "75%         91.000000      42.000000         NaN          NaN            NaN   \n",
              "max        100.000000    3300.000000         NaN          NaN            NaN   \n",
              "\n",
              "       taster_name taster_twitter_handle  \\\n",
              "count       103727                 98758   \n",
              "unique          19                    15   \n",
              "top     Roger Voss            @vossroger   \n",
              "freq         25514                 25514   \n",
              "mean           NaN                   NaN   \n",
              "std            NaN                   NaN   \n",
              "min            NaN                   NaN   \n",
              "25%            NaN                   NaN   \n",
              "50%            NaN                   NaN   \n",
              "75%            NaN                   NaN   \n",
              "max            NaN                   NaN   \n",
              "\n",
              "                                                    title     variety  \\\n",
              "count                                              129971      129970   \n",
              "unique                                             118840         707   \n",
              "top     Gloria Ferrer NV Sonoma Brut Sparkling (Sonoma...  Pinot Noir   \n",
              "freq                                                   11       13272   \n",
              "mean                                                  NaN         NaN   \n",
              "std                                                   NaN         NaN   \n",
              "min                                                   NaN         NaN   \n",
              "25%                                                   NaN         NaN   \n",
              "50%                                                   NaN         NaN   \n",
              "75%                                                   NaN         NaN   \n",
              "max                                                   NaN         NaN   \n",
              "\n",
              "                    winery  \n",
              "count               129971  \n",
              "unique               16757  \n",
              "top     Wines & Winemakers  \n",
              "freq                   222  \n",
              "mean                   NaN  \n",
              "std                    NaN  \n",
              "min                    NaN  \n",
              "25%                    NaN  \n",
              "50%                    NaN  \n",
              "75%                    NaN  \n",
              "max                    NaN  "
            ]
          },
          "metadata": {
            "tags": []
          },
          "execution_count": 4
        }
      ]
    },
    {
      "cell_type": "markdown",
      "metadata": {
        "id": "blq2lxLrBLKd"
      },
      "source": [
        "### Verifique dados faltantes"
      ]
    },
    {
      "cell_type": "code",
      "metadata": {
        "id": "pgqL3MHLBWIp",
        "colab": {
          "base_uri": "https://localhost:8080/",
          "height": 272
        },
        "outputId": "70f52234-4105-4f42-ef6d-f9b956543f9a"
      },
      "source": [
        "wine.isnull().sum()"
      ],
      "execution_count": null,
      "outputs": [
        {
          "output_type": "execute_result",
          "data": {
            "text/plain": [
              "Unnamed: 0                   0\n",
              "country                     63\n",
              "description                  0\n",
              "designation              37465\n",
              "points                       0\n",
              "price                     8996\n",
              "province                    63\n",
              "region_1                 21247\n",
              "region_2                 79460\n",
              "taster_name              26244\n",
              "taster_twitter_handle    31213\n",
              "title                        0\n",
              "variety                      1\n",
              "winery                       0\n",
              "dtype: int64"
            ]
          },
          "metadata": {
            "tags": []
          },
          "execution_count": 5
        }
      ]
    },
    {
      "cell_type": "markdown",
      "metadata": {
        "id": "UhBb7PMV5MvE"
      },
      "source": [
        "Existem 3 formas de tratarmos valores nulos:\n",
        "\n",
        "> 1. Eliminando as linhas\n",
        "> 2. Eliminando os atributos\n",
        "> 3. Imputando valores\n",
        "\n",
        "A primeira forma é a mais simples, mas só pode ser usada quando há um número de casos pequeno. A segunda você pode empregar para atributos que não são interesse. A terceira consiste em imputarmos novos valores aos valores  faltantes, como a média ou mediana dos demais. Essa, entretanto é a opção de maior risco para a análise e você verá por quê no laboratório.\n",
        "\n",
        "Mas a informação de Null pode ter um significado e este pode ou não ser útil. Você não deve tomar qualquer ação sem antes entender o por quê dos valores nulos. Por exemplo, a ausência de `region_1` e `region_2` são mesmo relevantes? O do `taster_name` na nossa análise? \n",
        "\n",
        "O atributo `price` parece o único atributo contendo nulos realmente relevante. E nossa opção será de imputarmos os valores médios de `price`.  \n",
        "\n",
        "\n",
        "\n",
        "\n",
        "\n"
      ]
    },
    {
      "cell_type": "code",
      "metadata": {
        "id": "HpyftFgL8ZbH"
      },
      "source": [
        "wine.price = wine.price.fillna(wine.price.mean())\n",
        "# wine.price = wine.price.replace(np.NaN,wine.price.mean())"
      ],
      "execution_count": null,
      "outputs": []
    },
    {
      "cell_type": "markdown",
      "metadata": {
        "id": "WhBIEkyMOBaU"
      },
      "source": [
        "### Qual o país com mais vinhos avaliados e qual a posição do Brasil?\n",
        "\n",
        "Dois comandos úteis para explorar valores de atributos: `pd.value.counts()` e `pd.value.unique()`."
      ]
    },
    {
      "cell_type": "code",
      "metadata": {
        "id": "H3_leHQddWMK",
        "colab": {
          "base_uri": "https://localhost:8080/",
          "height": 782
        },
        "outputId": "7f2bb66f-6480-4f25-8331-903e7d6d4550"
      },
      "source": [
        "wine.country.value_counts()\n",
        "wine.groupby('country').country.count().sort_values(ascending=False)\n",
        "\n",
        "# Se você quiser ir mais fundo...\n",
        "# wine.country.value_counts()['Brazil']\n",
        "# countries = list(wine.country.value_counts().index)\n",
        "# countries.index('Brazil')"
      ],
      "execution_count": null,
      "outputs": [
        {
          "output_type": "execute_result",
          "data": {
            "text/plain": [
              "country\n",
              "US                        54504\n",
              "France                    22093\n",
              "Italy                     19540\n",
              "Spain                      6645\n",
              "Portugal                   5691\n",
              "Chile                      4472\n",
              "Argentina                  3800\n",
              "Austria                    3345\n",
              "Australia                  2329\n",
              "Germany                    2165\n",
              "New Zealand                1419\n",
              "South Africa               1401\n",
              "Israel                      505\n",
              "Greece                      466\n",
              "Canada                      257\n",
              "Hungary                     146\n",
              "Bulgaria                    141\n",
              "Romania                     120\n",
              "Uruguay                     109\n",
              "Turkey                       90\n",
              "Slovenia                     87\n",
              "Georgia                      86\n",
              "England                      74\n",
              "Croatia                      73\n",
              "Mexico                       70\n",
              "Moldova                      59\n",
              "Brazil                       52\n",
              "Lebanon                      35\n",
              "Morocco                      28\n",
              "Peru                         16\n",
              "Ukraine                      14\n",
              "Macedonia                    12\n",
              "Serbia                       12\n",
              "Czech Republic               12\n",
              "Cyprus                       11\n",
              "India                         9\n",
              "Switzerland                   7\n",
              "Luxembourg                    6\n",
              "Bosnia and Herzegovina        2\n",
              "Armenia                       2\n",
              "Egypt                         1\n",
              "Slovakia                      1\n",
              "China                         1\n",
              "Name: country, dtype: int64"
            ]
          },
          "metadata": {
            "tags": []
          },
          "execution_count": 5
        }
      ]
    },
    {
      "cell_type": "markdown",
      "metadata": {
        "id": "th-GwerAOIM7"
      },
      "source": [
        "# 3. Responda a perguntas relevantes ou de interesse sobre os dados\n"
      ]
    },
    {
      "cell_type": "markdown",
      "metadata": {
        "id": "NK6yuvX6HOcU"
      },
      "source": [
        "### Veja graficamente, o Brasil está entre os grandes produtores de vinho?"
      ]
    },
    {
      "cell_type": "code",
      "metadata": {
        "id": "4l6opfAkfTbq",
        "colab": {
          "base_uri": "https://localhost:8080/",
          "height": 446
        },
        "outputId": "0ae52e3b-c539-4a21-cc79-4e2df22af27f"
      },
      "source": [
        "plt.figure(figsize=(12,4))\n",
        "sns.countplot(wine.country)\n",
        "plt.title('Conuntry Wines')\n",
        "plt.xticks(rotation=45)"
      ],
      "execution_count": null,
      "outputs": [
        {
          "output_type": "execute_result",
          "data": {
            "text/plain": [
              "(array([ 0,  1,  2,  3,  4,  5,  6,  7,  8,  9, 10, 11, 12, 13, 14, 15, 16,\n",
              "        17, 18, 19, 20, 21, 22, 23, 24, 25, 26, 27, 28, 29, 30, 31, 32, 33,\n",
              "        34, 35, 36, 37, 38, 39, 40, 41, 42]),\n",
              " <a list of 43 Text major ticklabel objects>)"
            ]
          },
          "metadata": {
            "tags": []
          },
          "execution_count": 6
        },
        {
          "output_type": "display_data",
          "data": {
            "image/png": "[encoded data removed]",
            "text/plain": [
              "<Figure size 864x288 with 1 Axes>"
            ]
          },
          "metadata": {
            "tags": []
          }
        }
      ]
    },
    {
      "cell_type": "code",
      "metadata": {
        "id": "V2RfEtDYHY25",
        "colab": {
          "base_uri": "https://localhost:8080/",
          "height": 432
        },
        "outputId": "c8488ecd-974f-448f-e8fa-beea8ee02027"
      },
      "source": [
        "# Se você quiser ir mais fundo...\n",
        "plt.figure(figsize=(12,4))\n",
        "sns.barplot(wine.country.value_counts().index,wine.country.value_counts())\n",
        "plt.title('Country Wines')\n",
        "plt.xticks(rotation=45)"
      ],
      "execution_count": null,
      "outputs": [
        {
          "output_type": "execute_result",
          "data": {
            "text/plain": [
              "(array([ 0,  1,  2,  3,  4,  5,  6,  7,  8,  9, 10, 11, 12, 13, 14, 15, 16,\n",
              "        17, 18, 19, 20, 21, 22, 23, 24, 25, 26, 27, 28, 29, 30, 31, 32, 33,\n",
              "        34, 35, 36, 37, 38, 39, 40, 41, 42]),\n",
              " <a list of 43 Text major ticklabel objects>)"
            ]
          },
          "metadata": {
            "tags": []
          },
          "execution_count": 7
        },
        {
          "output_type": "display_data",
          "data": {
            "image/png": "[encoded data removed]",
            "text/plain": [
              "<Figure size 864x288 with 1 Axes>"
            ]
          },
          "metadata": {
            "tags": []
          }
        }
      ]
    },
    {
      "cell_type": "markdown",
      "metadata": {
        "id": "1V8E-xgBOOe4"
      },
      "source": [
        "### Qual o vinho mais barato e mais caro avaliados? De que país(es) são esses vinhos?"
      ]
    },
    {
      "cell_type": "code",
      "metadata": {
        "id": "aNngVNc_f74f",
        "colab": {
          "base_uri": "https://localhost:8080/",
          "height": 34
        },
        "outputId": "03e0aa9b-9d51-427e-ed49-1c3faf902768"
      },
      "source": [
        "wine.price.min()\n",
        "wine.price.max()\n"
      ],
      "execution_count": null,
      "outputs": [
        {
          "output_type": "execute_result",
          "data": {
            "text/plain": [
              "3300.0"
            ]
          },
          "metadata": {
            "tags": []
          },
          "execution_count": 8
        }
      ]
    },
    {
      "cell_type": "code",
      "metadata": {
        "id": "TxB9xYL6gJCT",
        "colab": {
          "base_uri": "https://localhost:8080/",
          "height": 51
        },
        "outputId": "1516c675-f2de-4fef-fea7-9e1d98f9ec81"
      },
      "source": [
        "wine[ wine.price == wine.price.min() ].country\n",
        "wine[ wine.price == wine.price.max() ].country"
      ],
      "execution_count": null,
      "outputs": [
        {
          "output_type": "execute_result",
          "data": {
            "text/plain": [
              "80290    France\n",
              "Name: country, dtype: object"
            ]
          },
          "metadata": {
            "tags": []
          },
          "execution_count": 9
        }
      ]
    },
    {
      "cell_type": "markdown",
      "metadata": {
        "id": "QzN_SwNGOTCJ"
      },
      "source": [
        "### Como estão distribuídos os preços dos vinhos avaliados? A grande maioria dos vinhos encontra-se abaixo de que valor?"
      ]
    },
    {
      "cell_type": "code",
      "metadata": {
        "id": "Z19N3weNg-Lb",
        "colab": {
          "base_uri": "https://localhost:8080/",
          "height": 312
        },
        "outputId": "f7b616db-3192-4c39-d6eb-935b60308cf4"
      },
      "source": [
        "wine.price.describe() \n",
        "plt.figure(figsize=(12,4))\n",
        "sns.distplot(wine.price,kde=False)\n",
        "plt.title('Price of Wines')\n",
        "# plt.xlim([0,500])"
      ],
      "execution_count": null,
      "outputs": [
        {
          "output_type": "execute_result",
          "data": {
            "text/plain": [
              "Text(0.5, 1.0, 'Price of Wines')"
            ]
          },
          "metadata": {
            "tags": []
          },
          "execution_count": 7
        },
        {
          "output_type": "display_data",
          "data": {
            "image/png": "[encoded data removed]",
            "text/plain": [
              "<Figure size 864x288 with 1 Axes>"
            ]
          },
          "metadata": {
            "tags": []
          }
        }
      ]
    },
    {
      "cell_type": "code",
      "metadata": {
        "id": "SRfR9YwnISB2",
        "colab": {
          "base_uri": "https://localhost:8080/",
          "height": 312
        },
        "outputId": "c39e00aa-281a-40b7-ba80-8eff6bff6db0"
      },
      "source": [
        "# Se você quiser ir mais fundo\n",
        "plt.figure(figsize=(12,4))\n",
        "sns.distplot(wine.price,kde=False,\n",
        "             bins=[0,20,40,80,100,200,300,400,500,1000,2000,3000])\n",
        "plt.title('Price of Wines')\n",
        "plt.xlim([0,500])"
      ],
      "execution_count": null,
      "outputs": [
        {
          "output_type": "execute_result",
          "data": {
            "text/plain": [
              "(0.0, 500.0)"
            ]
          },
          "metadata": {
            "tags": []
          },
          "execution_count": 8
        },
        {
          "output_type": "display_data",
          "data": {
            "image/png": "[encoded data removed]",
            "text/plain": [
              "<Figure size 864x288 with 1 Axes>"
            ]
          },
          "metadata": {
            "tags": []
          }
        }
      ]
    },
    {
      "cell_type": "markdown",
      "metadata": {
        "id": "mkzO586jOapI"
      },
      "source": [
        "### Qual o preço dos Vinhos Brasileiros avaliados? Vamos exibir graficamente? Eles são mais baratos e o preço dos vinhos mais praticados no mundo? "
      ]
    },
    {
      "cell_type": "code",
      "metadata": {
        "id": "Rf3XxyU-9AMX",
        "colab": {
          "base_uri": "https://localhost:8080/",
          "height": 312
        },
        "outputId": "6386f60a-aed5-4edb-f9f5-c3940289a5b0"
      },
      "source": [
        "plt.figure(figsize=(12,4))\n",
        "sns.distplot(wine[wine.country == 'Brazil'].price,kde=False,label='Brazil')\n",
        "plt.title('Price of Brazil Wines')\n"
      ],
      "execution_count": null,
      "outputs": [
        {
          "output_type": "execute_result",
          "data": {
            "text/plain": [
              "Text(0.5, 1.0, 'Price of Brazil Wines')"
            ]
          },
          "metadata": {
            "tags": []
          },
          "execution_count": 22
        },
        {
          "output_type": "display_data",
          "data": {
            "image/png": "[encoded data removed]",
            "text/plain": [
              "<Figure size 864x288 with 1 Axes>"
            ]
          },
          "metadata": {
            "tags": []
          }
        }
      ]
    },
    {
      "cell_type": "code",
      "metadata": {
        "id": "nBXpcn26_K57",
        "colab": {
          "base_uri": "https://localhost:8080/",
          "height": 312
        },
        "outputId": "78a32dd0-085d-4967-ecdf-746351261470"
      },
      "source": [
        "# Se você quiser ir mais fundo...\n",
        "plt.figure(figsize=(12,4))\n",
        "sns.distplot(wine[wine.country == 'Brazil'].price,kde=True,label='Brazil')\n",
        "sns.distplot(wine.price,kde=True,label='World')\n",
        "plt.title('Price of Brazil Wines and the World')\n",
        "plt.legend(loc=1, ncol=1)\n",
        "plt.xlim([0,500])"
      ],
      "execution_count": null,
      "outputs": [
        {
          "output_type": "execute_result",
          "data": {
            "text/plain": [
              "(0.0, 500.0)"
            ]
          },
          "metadata": {
            "tags": []
          },
          "execution_count": 21
        },
        {
          "output_type": "display_data",
          "data": {
            "image/png": "[encoded data removed]",
            "text/plain": [
              "<Figure size 864x288 with 1 Axes>"
            ]
          },
          "metadata": {
            "tags": []
          }
        }
      ]
    },
    {
      "cell_type": "markdown",
      "metadata": {
        "id": "ojs4zjxNOk4W"
      },
      "source": [
        "### De que regiões vem os vinhos Brasileiros avaliados?\n"
      ]
    },
    {
      "cell_type": "code",
      "metadata": {
        "id": "Ga3GyxmLIh-D",
        "colab": {
          "base_uri": "https://localhost:8080/",
          "height": 68
        },
        "outputId": "0c00648b-d57f-4df7-ab94-7a4c5fc6d867"
      },
      "source": [
        "wine[wine.country == 'Brazil'].province.unique()"
      ],
      "execution_count": null,
      "outputs": [
        {
          "output_type": "execute_result",
          "data": {
            "text/plain": [
              "array(['Pinto Bandeira', 'Santa Catarina', 'Campanha', 'Serra Gaúcha',\n",
              "       'Vale dos Vinhedos', 'Brazil', 'Vale Trentino', 'Serra do Sudeste'],\n",
              "      dtype=object)"
            ]
          },
          "metadata": {
            "tags": []
          },
          "execution_count": 13
        }
      ]
    },
    {
      "cell_type": "markdown",
      "metadata": {
        "id": "g2tAa4BCJNXD"
      },
      "source": [
        "# 4. Explorando relações sobre os dados"
      ]
    },
    {
      "cell_type": "markdown",
      "metadata": {
        "id": "-bP1aXPEO0ZR"
      },
      "source": [
        "### Quantos vinhos vem de cada região?\n",
        " "
      ]
    },
    {
      "cell_type": "code",
      "metadata": {
        "id": "5xGp1sw5IrTy",
        "colab": {
          "base_uri": "https://localhost:8080/",
          "height": 187
        },
        "outputId": "dcd11b0b-bdbd-4646-9fdd-edf48165aa1d"
      },
      "source": [
        "wine[wine.country == 'Brazil'].groupby('province').province.count()"
      ],
      "execution_count": null,
      "outputs": [
        {
          "output_type": "execute_result",
          "data": {
            "text/plain": [
              "province\n",
              "Brazil                7\n",
              "Campanha              4\n",
              "Pinto Bandeira        6\n",
              "Santa Catarina        2\n",
              "Serra Gaúcha         18\n",
              "Serra do Sudeste      1\n",
              "Vale Trentino         5\n",
              "Vale dos Vinhedos     9\n",
              "Name: province, dtype: int64"
            ]
          },
          "metadata": {
            "tags": []
          },
          "execution_count": 14
        }
      ]
    },
    {
      "cell_type": "markdown",
      "metadata": {
        "id": "xj2GmEygO4vs"
      },
      "source": [
        "### Qual a média de preços de cada região? Exiba graficamente.\n"
      ]
    },
    {
      "cell_type": "code",
      "metadata": {
        "id": "UP4JHqr_I57C",
        "colab": {
          "base_uri": "https://localhost:8080/",
          "height": 374
        },
        "outputId": "75542010-8758-4cb9-d62e-ae5ca52feb05"
      },
      "source": [
        "wine[wine.country == 'Brazil'].groupby('province').price.mean()\n",
        "# grupos são uma Série e não um Data Frame\n",
        "wineBR = pd.DataFrame(wine[wine.country == 'Brazil'].groupby('province').price.mean()).reset_index()\n",
        "\n",
        "plt.figure(figsize=(12,4))\n",
        "sns.barplot(wineBR.province, wineBR.price)\n",
        "plt.title('Brazil Wine Prices')\n",
        "plt.xticks(rotation=45)\n"
      ],
      "execution_count": null,
      "outputs": [
        {
          "output_type": "execute_result",
          "data": {
            "text/plain": [
              "(array([0, 1, 2, 3, 4, 5, 6, 7]), <a list of 8 Text major ticklabel objects>)"
            ]
          },
          "metadata": {
            "tags": []
          },
          "execution_count": 15
        },
        {
          "output_type": "display_data",
          "data": {
            "image/png": "[encoded data removed]",
            "text/plain": [
              "<Figure size 864x288 with 1 Axes>"
            ]
          },
          "metadata": {
            "tags": []
          }
        }
      ]
    },
    {
      "cell_type": "markdown",
      "metadata": {
        "id": "ZVPB9VtGO7JV"
      },
      "source": [
        "### Os vinhos mais bem avaliados são os vinhos mais caros? "
      ]
    },
    {
      "cell_type": "code",
      "metadata": {
        "id": "pDXNymetJCAd",
        "colab": {
          "base_uri": "https://localhost:8080/",
          "height": 312
        },
        "outputId": "48374f26-0d96-4f56-a5c4-8903f302425c"
      },
      "source": [
        "plt.figure(figsize=(12,4))\n",
        "sns.scatterplot(wine.points, wine.price)\n",
        "plt.title('Points x Price')\n",
        "# plt.ylim([0,100])\n",
        "# plt.xlim([90,100])"
      ],
      "execution_count": null,
      "outputs": [
        {
          "output_type": "execute_result",
          "data": {
            "text/plain": [
              "Text(0.5, 1.0, 'Points x Price')"
            ]
          },
          "metadata": {
            "tags": []
          },
          "execution_count": 16
        },
        {
          "output_type": "display_data",
          "data": {
            "image/png": "[encoded data removed]",
            "text/plain": [
              "<Figure size 864x288 with 1 Axes>"
            ]
          },
          "metadata": {
            "tags": []
          }
        }
      ]
    },
    {
      "cell_type": "code",
      "metadata": {
        "id": "sSFfbhmeJD-G",
        "colab": {
          "base_uri": "https://localhost:8080/",
          "height": 51
        },
        "outputId": "fde9dc99-710a-4a34-c510-d863ec7cad1b"
      },
      "source": [
        "# Se você quiser ir mais fundo...\n",
        "wine[['points', 'price']].corr()\n",
        "import scipy\n",
        "from scipy.stats import pearsonr\n",
        "wine_nnull = wine.dropna()\n",
        "stat, p = pearsonr(wine_nnull['points'], wine_nnull['price'])\n",
        "print('stat=%.3f, p=%.3f' % (stat, p))\n",
        "if p > 0.05:\n",
        "\tprint('Probably independent')\n",
        "else:\n",
        "\tprint('Probably dependent')\n"
      ],
      "execution_count": null,
      "outputs": [
        {
          "output_type": "stream",
          "text": [
            "stat=0.395, p=0.000\n",
            "Probably dependent\n"
          ],
          "name": "stdout"
        }
      ]
    },
    {
      "cell_type": "markdown",
      "metadata": {
        "id": "h-R2df43O8dP"
      },
      "source": [
        "### Os vinhos Franceses são mesmo os mais caros e bem avaliados?"
      ]
    },
    {
      "cell_type": "code",
      "metadata": {
        "id": "hoL6s_VviOg9",
        "colab": {
          "base_uri": "https://localhost:8080/",
          "height": 782
        },
        "outputId": "d5b2a137-ae29-4ddf-9c4d-63031d438b58"
      },
      "source": [
        "wine.groupby('country').price.mean() > wine.price.mean()\n",
        "# wine.groupby('country').points.mean() > wine.points.mean() "
      ],
      "execution_count": null,
      "outputs": [
        {
          "output_type": "execute_result",
          "data": {
            "text/plain": [
              "country\n",
              "Argentina                 False\n",
              "Armenia                   False\n",
              "Australia                  True\n",
              "Austria                   False\n",
              "Bosnia and Herzegovina    False\n",
              "Brazil                    False\n",
              "Bulgaria                  False\n",
              "Canada                     True\n",
              "Chile                     False\n",
              "China                     False\n",
              "Croatia                   False\n",
              "Cyprus                    False\n",
              "Czech Republic            False\n",
              "Egypt                     False\n",
              "England                    True\n",
              "France                     True\n",
              "Georgia                   False\n",
              "Germany                    True\n",
              "Greece                    False\n",
              "Hungary                    True\n",
              "India                     False\n",
              "Israel                    False\n",
              "Italy                      True\n",
              "Lebanon                   False\n",
              "Luxembourg                False\n",
              "Macedonia                 False\n",
              "Mexico                    False\n",
              "Moldova                   False\n",
              "Morocco                   False\n",
              "New Zealand               False\n",
              "Peru                      False\n",
              "Portugal                  False\n",
              "Romania                   False\n",
              "Serbia                    False\n",
              "Slovakia                  False\n",
              "Slovenia                  False\n",
              "South Africa              False\n",
              "Spain                     False\n",
              "Switzerland                True\n",
              "Turkey                    False\n",
              "US                         True\n",
              "Ukraine                   False\n",
              "Uruguay                   False\n",
              "Name: price, dtype: bool"
            ]
          },
          "metadata": {
            "tags": []
          },
          "execution_count": 18
        }
      ]
    },
    {
      "cell_type": "markdown",
      "metadata": {
        "id": "KlSaA_kXJ3DJ"
      },
      "source": [
        "Embora os vinhos Franceses superem em preço e pontuação as médias globais, uma análise mais detalhada mostra que existem muitos países que parecem apresentar vinhos melhores e mais caros. E você ainda pode explorar as *medianas* (`mean()`,`median()`)."
      ]
    },
    {
      "cell_type": "code",
      "metadata": {
        "id": "BJirta5oh635",
        "colab": {
          "base_uri": "https://localhost:8080/",
          "height": 475
        },
        "outputId": "8350456e-ed56-4931-ac49-a1ab8a15e51e"
      },
      "source": [
        "# Se você quiser ir mais fundo... mas talvez seja mesmo importante saber isso\n",
        "g = wine.groupby('country').price.mean()\n",
        "plt.figure(figsize=(12,4))\n",
        "sns.barplot(g.index, g)\n",
        "plt.title('Points x Price')\n",
        "plt.xticks(rotation=90)\n"
      ],
      "execution_count": null,
      "outputs": [
        {
          "output_type": "execute_result",
          "data": {
            "text/plain": [
              "(array([ 0,  1,  2,  3,  4,  5,  6,  7,  8,  9, 10, 11, 12, 13, 14, 15, 16,\n",
              "        17, 18, 19, 20, 21, 22, 23, 24, 25, 26, 27, 28, 29, 30, 31, 32, 33,\n",
              "        34, 35, 36, 37, 38, 39, 40, 41, 42]),\n",
              " <a list of 43 Text major ticklabel objects>)"
            ]
          },
          "metadata": {
            "tags": []
          },
          "execution_count": 19
        },
        {
          "output_type": "display_data",
          "data": {
            "image/png": "[encoded data removed]",
            "text/plain": [
              "<Figure size 864x288 with 1 Axes>"
            ]
          },
          "metadata": {
            "tags": []
          }
        }
      ]
    },
    {
      "cell_type": "code",
      "metadata": {
        "id": "B35atuk6Kxqb",
        "colab": {
          "base_uri": "https://localhost:8080/",
          "height": 424
        },
        "outputId": "cb017db3-0234-487e-fcc4-0b6999d8a8f9"
      },
      "source": [
        "# Se você quiser ir mais fundo... mas talvez seja mesmo importante saber isso\n",
        "g = wine.groupby('country').points.mean()\n",
        "plt.figure(figsize=(12,4))\n",
        "sns.barplot(g.index, g)\n",
        "plt.title('Points x Price')\n",
        "plt.xticks(rotation=90)\n",
        "plt.ylim([80,95])"
      ],
      "execution_count": null,
      "outputs": [
        {
          "output_type": "execute_result",
          "data": {
            "text/plain": [
              "(80.0, 95.0)"
            ]
          },
          "metadata": {
            "tags": []
          },
          "execution_count": 20
        },
        {
          "output_type": "display_data",
          "data": {
            "image/png": "[encoded data removed]",
            "text/plain": [
              "<Figure size 864x288 with 1 Axes>"
            ]
          },
          "metadata": {
            "tags": []
          }
        }
      ]
    },
    {
      "cell_type": "markdown",
      "metadata": {
        "id": "l_koQK7xLZ1i"
      },
      "source": [
        "# Conclusão\n",
        "\n",
        "Os **vinhos brasileiros** avaliados são produzidos em sua **maioria na região sul** do país. São vinhos **bastante baratos** em comparação ao mercado internacional, mas também vinhos **bastante mal avaliados**.\n",
        "\n",
        "O vinhos o preço e pontuação dos vinhos estão relacionados, mas há uma faixa de vinhos bastante bem avaliados (abaixo de USD 100) que sugere que não é necessário gastar mais do que isso para beber um *excelente* vinho, havendo mesmo ***excelentes* vinhos à partir de USD 40.**\n",
        "\n",
        "Os vinhos **Franceses**, bastante famosos, embora superem em qualidade e preço a média dos demais países, são **surpreendentemente superados por outros países como a Índia, Inglaterra e Alemanha**.  \n",
        "\n",
        "\n",
        "\n"
      ]
    }
  ]
}