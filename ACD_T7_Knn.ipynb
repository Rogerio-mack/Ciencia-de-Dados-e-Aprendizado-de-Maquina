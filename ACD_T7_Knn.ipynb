{
  "nbformat": 4,
  "nbformat_minor": 0,
  "metadata": {
    "anaconda-cloud": {},
    "kernelspec": {
      "display_name": "Python 3",
      "language": "python",
      "name": "python3"
    },
    "language_info": {
      "codemirror_mode": {
        "name": "ipython",
        "version": 3
      },
      "file_extension": ".py",
      "mimetype": "text/x-python",
      "name": "python",
      "nbconvert_exporter": "python",
      "pygments_lexer": "ipython3",
      "version": "3.7.4"
    },
    "colab": {
      "name": "ACD_T7_Knn.ipynb",
      "provenance": [],
      "collapsed_sections": []
    }
  },
  "cells": [
    {
      "cell_type": "markdown",
      "metadata": {
        "id": "gglUriLmo1sR"
      },
      "source": [
        "<head>\n",
        "  <meta name=\"author\" content=\"Rogério de Oliveira\">\n",
        "  <meta institution=\"author\" content=\"Universidade Presbiteriana Mackenzie\">\n",
        "</head>\n",
        "\n",
        "<img src=\"http://meusite.mackenzie.br/rogerio/mackenzie_logo/UPM.2_horizontal_vermelho.jpg\" width=300, align=\"right\"></a>\n",
        "<!-- <h1 align=left><font size = 6, style=\"color:rgb(200,0,0)\"> optional title </font></h1> -->"
      ]
    },
    {
      "cell_type": "markdown",
      "metadata": {
        "id": "x3RSAcU_o1sU"
      },
      "source": [
        "<h1 align=left><font size = 6, style=\"color:rgb(200,0,0)\">K-Nearest Neighbor (KNN)</font></h1>\n",
        "<hr>"
      ]
    },
    {
      "cell_type": "markdown",
      "metadata": {
        "id": "Li1FPlObIQAh"
      },
      "source": [
        "# **Modelos de Predição** \\*\n",
        "\n",
        "Modelagem preditiva é o processo um modelo é criado para prever um resultado. A **Regressão** é um modelo de predição. Também podemos querer predizer uma categoria (como Fraude/Não Fraude, Spam/Não Spam ou Diagnóstico pouco/médio/muito Confiável). A predição de valores categóricos chamamos de **Classificação**.\n",
        "\n",
        "Para a execução dessas tarefas podemos empregar diferentes **Modelos**.\n",
        "\n",
        "> Tarefa: **Regressão**\n",
        ">> Modelo: Linear, Polinomial, Exponencial etc.\n",
        "\n",
        "> Tarefa: **Classificação**\n",
        ">> Modelo: Knn, Árvore de Decisão, Regressão Logística, Redes Neurais etc.\n",
        "\n",
        "## Aprendizado Supervisionado e Não Supervisionado\n",
        "\n",
        "Os Modelos de Regressão e Classificação são em geral modelos de Aprendizado Supervisionado. Os modelos são criados a partir de um conjunto de dados exemplo, denominado **Conjunto de Treinamento**. Por exemplo, o modelo de Regressão Linear, emprega um conjunto de pontos previamente conhecido.\n",
        "\n",
        "O Aprendizado Não Supervisionado, empregado por exemplo para Clusterização, não requer um conjunto de treinamento.\n",
        "\n",
        "\n",
        "\n",
        "\n",
        "\n",
        "\n",
        "\n",
        "\n",
        "\n",
        "\n",
        "\n",
        "\n",
        "\n",
        "\n",
        "\n"
      ]
    },
    {
      "cell_type": "markdown",
      "metadata": {
        "id": "1tt5-FdL8HGS"
      },
      "source": [
        "## Modelo K-Nearest Neighbor (KNN)\n",
        "\n",
        "O K-Vizinhos mais Próximos é um dos modelos mais simples, mas também bastante empregado, para classificação.\n",
        "\n",
        "\n",
        "\n",
        "\n",
        "\n",
        "\n",
        "\n",
        "\n",
        "\n",
        "\n",
        "\n",
        "\n",
        "\n",
        "\n"
      ]
    },
    {
      "cell_type": "markdown",
      "metadata": {
        "id": "llCulsQG4ppX"
      },
      "source": [
        "<img src=\"https://github.com/Rogerio-mack/Ciencia-de-Dados-e-Aprendizado-de-Maquina/raw/main/figuras/KNN.png\" width=500, align=\"center\"></a>\n",
        "\n",
        "\n",
        "\n",
        "\n",
        "\n",
        "\n",
        "\n",
        "\n"
      ]
    },
    {
      "cell_type": "markdown",
      "metadata": {
        "id": "2OOiwi1v8nnv"
      },
      "source": [
        "Basicamente esse modelo consiste na execução de 3 passos:\n",
        "\n",
        "1. Calcular as distancias do elemento desejado para os demais\n",
        "2. Encontrar os vizinhos mais próximos\n",
        "3. Eleger a classe com mais 'votos' (mais representantes entre os vizinhos)"
      ]
    },
    {
      "cell_type": "markdown",
      "metadata": {
        "id": "tFuvujQy9YMB"
      },
      "source": [
        "### Prós\n",
        "* É simples de implementar.\n",
        "* Treinar é mais fácil.\n",
        "* Tem poucos parâmetros.\n",
        "\n",
        "### Limitações\n",
        "* Alto custo de previsão.\n",
        "* Não funciona bem com vários recursos.\n",
        "* Requer o uso de uma **função distância**\n",
        "\n",
        "Esse último item tem uma série de implicações como a necessidade de **atributos numéricos** e, em muitos casos, a **normalização dos dados**.\n"
      ]
    },
    {
      "cell_type": "markdown",
      "metadata": {
        "id": "6NmyNaP_6EvX"
      },
      "source": [
        "## Funções Distância\n",
        "\n",
        "Existem várias funções distância, mas em geral aplicaremos aqui a distância Euclidiana.\n",
        "\n",
        "$$ d(x,y) = \\sqrt{ (x_1 - y_1)^2 + (x_2 - y_2)^2 }$$ \n",
        "\n",
        "\n",
        "\n",
        "\n",
        "\n"
      ]
    },
    {
      "cell_type": "markdown",
      "metadata": {
        "id": "jehT998a_RGS"
      },
      "source": [
        "# CASE: **Aplicar um Empréstimos com Taxa Padrão ou Não?** \\*\n",
        "\n",
        "Empregaremos aqui, para podermos focar no entendimento do modelo, um exemplo bastante simples em que a classificação do **Tipo de Taxa de Empréstismo**, Padrão ou Não, são feitas a partir apenas de dois atributos, a **Idade** do Cliente e o **Valor do Empréstimo**.   \n",
        "\n",
        "\n",
        "### **NOTA IMPORTANTE**: A construção dos dados e a solução *by scratch* aparecem aqui para você entender o modelo e você pode saltar os códigos que fazem essas construções e dar atenção apenas para os seus resultados. As seções mais  importantes e que você deve compreender **inclusive** os códigos aparecem com **'\\*'**. "
      ]
    },
    {
      "cell_type": "code",
      "metadata": {
        "id": "UPVeFK3a5i6d"
      },
      "source": [
        "import pandas                  as pd\n",
        "import numpy                   as np\n",
        "import matplotlib.pyplot       as plt\n",
        "import seaborn                 as sns\n",
        "import statsmodels.formula.api as sm\n",
        "import warnings\n",
        "warnings.filterwarnings(\"ignore\")  "
      ],
      "execution_count": null,
      "outputs": []
    },
    {
      "cell_type": "markdown",
      "metadata": {
        "id": "hsCr050-MUNR"
      },
      "source": [
        "Aqui construímos e exploramos nosso conjunto de dados.\n",
        "\n",
        "Os dados históricos constituem o **conjunto de Treinamento** e com base nele queremos fazer a predição do tipo de Taxa de Empréstimo que deve ser aplicada para um novo caso, `case`.\n",
        "\n"
      ]
    },
    {
      "cell_type": "code",
      "metadata": {
        "id": "-s5TcBJLs5Z0",
        "colab": {
          "base_uri": "https://localhost:8080/",
          "height": 272
        },
        "outputId": "5e53e474-3f58-4d9d-e2a3-4632e17844ee"
      },
      "source": [
        "Loans = pd.DataFrame({'Age':[25,35,45,20,35,52,23,40,60,48,33],\n",
        "                      'Loan':[40000,60000,80000,20000,120000,18000,95000,62000,100000,220000,150000],\n",
        "                      'Type_loan':[1,1,1,1,1,1,0,0,0,0,0] }) # 1=normal 0=especial\n",
        "\n",
        "case  = pd.DataFrame({'Age':[47],\n",
        "                      'Loan':[142000]})\n",
        "\n",
        "print(Loans)\n",
        "print(case)"
      ],
      "execution_count": null,
      "outputs": [
        {
          "output_type": "stream",
          "text": [
            "    Age    Loan  Type_loan\n",
            "0    25   40000          1\n",
            "1    35   60000          1\n",
            "2    45   80000          1\n",
            "3    20   20000          1\n",
            "4    35  120000          1\n",
            "5    52   18000          1\n",
            "6    23   95000          0\n",
            "7    40   62000          0\n",
            "8    60  100000          0\n",
            "9    48  220000          0\n",
            "10   33  150000          0\n",
            "   Age    Loan\n",
            "0   47  142000\n"
          ],
          "name": "stdout"
        }
      ]
    },
    {
      "cell_type": "markdown",
      "metadata": {
        "id": "CZxm4jRmA_Yx"
      },
      "source": [
        "Graficamente:"
      ]
    },
    {
      "cell_type": "code",
      "metadata": {
        "id": "N5ZOp2GIBCen",
        "colab": {
          "base_uri": "https://localhost:8080/",
          "height": 265
        },
        "outputId": "be98d2db-8969-426f-80fb-2676bc58a8ee"
      },
      "source": [
        "# Não se preocupe com este código\n",
        "from matplotlib.colors import ListedColormap\n",
        "cmap_bold = ListedColormap(['darkorange', 'c', 'darkblue'])\n",
        "\n",
        "from matplotlib.colors import ListedColormap\n",
        "plt.scatter(Loans.Age, Loans.Loan, c=Loans.Type_loan, cmap=cmap_bold, edgecolor='k', s=40)\n",
        "plt.scatter(case.Age, case.Loan, c='g', edgecolor='k', s=90)\n",
        "\n",
        "plt.show()"
      ],
      "execution_count": null,
      "outputs": [
        {
          "output_type": "display_data",
          "data": {
            "image/png": "[encoded data removed]",
            "text/plain": [
              "<Figure size 432x288 with 1 Axes>"
            ]
          },
          "metadata": {
            "tags": [],
            "needs_background": "light"
          }
        }
      ]
    },
    {
      "cell_type": "markdown",
      "metadata": {
        "id": "qtVYY7lsB1cm"
      },
      "source": [
        "## Resolução  *by scratch* (do zero) \n",
        "\n",
        "Podemos buscar resolver o problema diretamente aplicando a definição. Isto é, calculando a distância e verificando os vizinhos mais próximos.\n",
        "\n"
      ]
    },
    {
      "cell_type": "code",
      "metadata": {
        "id": "jio4n5FBtBhe",
        "colab": {
          "base_uri": "https://localhost:8080/",
          "height": 235
        },
        "outputId": "1b1a3aed-ac6b-4c77-defc-caaa12e91934"
      },
      "source": [
        "dist = []\n",
        "for i in range(len(Loans)):\n",
        "    d = float( np.sqrt( (Loans.iloc[i].Age - case.Age)**2 + (Loans.iloc[i].Loan - case.Loan)**2 ) )\n",
        "    dist.append(d)\n",
        "    \n",
        "Loans['dist'] = dist    \n",
        "\n",
        "print(Loans.sort_values('dist'))\n"
      ],
      "execution_count": null,
      "outputs": [
        {
          "output_type": "stream",
          "text": [
            "    Age    Loan  Type_loan           dist\n",
            "10   33  150000          0    8000.012250\n",
            "4    35  120000          1   22000.003273\n",
            "8    60  100000          0   42000.002012\n",
            "6    23   95000          0   47000.006128\n",
            "2    45   80000          1   62000.000032\n",
            "9    48  220000          0   78000.000006\n",
            "7    40   62000          0   80000.000306\n",
            "1    35   60000          1   82000.000878\n",
            "0    25   40000          1  102000.002373\n",
            "3    20   20000          1  122000.002988\n",
            "5    52   18000          1  124000.000101\n"
          ],
          "name": "stdout"
        }
      ]
    },
    {
      "cell_type": "markdown",
      "metadata": {
        "id": "l6ow6gZeChSX"
      },
      "source": [
        "## Predição de novos casos\n",
        "\n",
        "> Qual seria nesse caso a classificação do nosso `case = ( Age =47, Loan = 148.000,00)` ?\n",
        "\n",
        "Para um k=3 teríamos `Type_loan = 0`."
      ]
    },
    {
      "cell_type": "markdown",
      "metadata": {
        "id": "gvAO_5XfDRTu"
      },
      "source": [
        "## Scikit-learn \\*\n",
        "\n",
        "Mas nem sempre os modelos são tão simples de implementar do zero e, felizmente, existem bibliotecas que implementam essas tarefas. Vamos ver como esse modelo pode ser construído com a biblioteca https://scikit-learn.org/"
      ]
    },
    {
      "cell_type": "code",
      "metadata": {
        "id": "L45IpgtiDP3e"
      },
      "source": [
        "# imports\n",
        "from sklearn import neighbors"
      ],
      "execution_count": null,
      "outputs": []
    },
    {
      "cell_type": "code",
      "metadata": {
        "id": "SfWjiZ_cDzsT",
        "colab": {
          "base_uri": "https://localhost:8080/",
          "height": 54
        },
        "outputId": "8e7a4225-271b-43da-a3bd-1e01d9a2f143"
      },
      "source": [
        "# Preparando os dados\n",
        "X = Loans[['Age','Loan']]      # X = entrada, variáveis independentes\n",
        "y = Loans.Type_loan            # y = saída, variável dependente \n",
        "\n",
        "# Definindo ou declarando o modelo \n",
        "n_neighbors = 3\n",
        "clf = neighbors.KNeighborsClassifier(n_neighbors)\n",
        "\n",
        "# Aprendizado (construindo ou executando o modelo)\n",
        "clf.fit(X, y)                  # Emprega o conjunto de treinamento \n",
        "\n",
        "# Fazendo a predição\n",
        "Loan_type_pred = clf.predict(case)\n",
        "print('Classificação Knn, k= ', n_neighbors, ' para o empréstimo ', case , ' é ', Loan_type_pred )"
      ],
      "execution_count": null,
      "outputs": [
        {
          "output_type": "stream",
          "text": [
            "Classificação Knn, k=  3  para o empréstimo     Age    Loan\n",
            "0   47  142000  é  [0]\n"
          ],
          "name": "stdout"
        }
      ]
    },
    {
      "cell_type": "markdown",
      "metadata": {
        "id": "gdV5DbBYE-YA"
      },
      "source": [
        "Conseguimos o mesmo resultado anterior? **Sim**! ;-) "
      ]
    },
    {
      "cell_type": "markdown",
      "metadata": {
        "id": "Pxs0RHZfOQKQ"
      },
      "source": [
        "## Normalizando os dados \\*\n",
        "\n",
        "Vamos agora fazer uma pequena modificação nos dados. Vamos normalizar os valores (por que?).\n",
        "\n",
        "\n",
        "\n",
        "\n"
      ]
    },
    {
      "cell_type": "markdown",
      "metadata": {
        "id": "MRDBaHdiNbbJ"
      },
      "source": [
        "### Recriando os dados -"
      ]
    },
    {
      "cell_type": "code",
      "metadata": {
        "id": "nFLNCFPcNePO",
        "colab": {
          "base_uri": "https://localhost:8080/",
          "height": 272
        },
        "outputId": "2b68e52d-2ff5-467c-b48e-a6dd65a5f7db"
      },
      "source": [
        "Loans = pd.DataFrame({'Age':[25,35,45,20,35,52,23,40,60,48,33],\n",
        "                      'Loan':[40000,60000,80000,20000,120000,18000,95000,62000,100000,220000,150000],\n",
        "                      'Type_loan':[1,1,1,1,1,1,0,0,0,0,0] }) # 1=normal 0=especial\n",
        "\n",
        "case  = pd.DataFrame({'Age':[47],\n",
        "                      'Loan':[142000]})"
      ],
      "execution_count": null,
      "outputs": [
        {
          "output_type": "stream",
          "text": [
            "         Age      Loan  Type_loan      dist\n",
            "4   0.583333  0.545455          1  0.223607\n",
            "10  0.550000  0.681818          0  0.236150\n",
            "2   0.750000  0.363636          1  0.283783\n",
            "8   1.000000  0.454545          0  0.288775\n",
            "9   0.800000  1.000000          0  0.354937\n",
            "7   0.666667  0.281818          0  0.381893\n",
            "1   0.583333  0.272727          1  0.422996\n",
            "6   0.383333  0.431818          0  0.453476\n",
            "5   0.866667  0.081818          1  0.569763\n",
            "0   0.416667  0.181818          1  0.591103\n",
            "3   0.333333  0.090909          1  0.714157\n",
            "        Age      Loan\n",
            "0  0.783333  0.645455\n"
          ],
          "name": "stdout"
        }
      ]
    },
    {
      "cell_type": "markdown",
      "metadata": {
        "id": "SS9YZ2UONR0S"
      },
      "source": [
        "### Normalizando os dados \\*"
      ]
    },
    {
      "cell_type": "code",
      "metadata": {
        "id": "UMWs-0wyNEtT"
      },
      "source": [
        "mAge = Loans.Age.max()\n",
        "mLoan =  Loans.Loan.max()\n",
        "\n",
        "case.Age = case.Age / mAge\n",
        "case.Loan = case.Loan / mLoan\n",
        "\n",
        "Loans.Age = Loans.Age / mAge\n",
        "Loans.Loan = Loans.Loan / mLoan\n",
        "\n"
      ],
      "execution_count": null,
      "outputs": []
    },
    {
      "cell_type": "markdown",
      "metadata": {
        "id": "3YJJ0dvfNhMt"
      },
      "source": [
        "### Calculando as Distância *by scratch* -"
      ]
    },
    {
      "cell_type": "code",
      "metadata": {
        "id": "LB6ottPWNJYw"
      },
      "source": [
        "dist = []\n",
        "for i in range(len(Loans)):\n",
        "    d = float( np.sqrt( (Loans.iloc[i].Age - case.Age)**2 + (Loans.iloc[i].Loan - case.Loan)**2 ) )\n",
        "    dist.append(d)\n",
        "    \n",
        "Loans['dist'] = dist    \n",
        "\n",
        "print(Loans.sort_values('dist'))\n",
        "print(case)"
      ],
      "execution_count": null,
      "outputs": []
    },
    {
      "cell_type": "markdown",
      "metadata": {
        "id": "C8tv-wkFNulm"
      },
      "source": [
        "### Agora com o `Sci-kit learn` com os dados normalizados \\*"
      ]
    },
    {
      "cell_type": "markdown",
      "metadata": {
        "id": "liqcuBsHIIrW"
      },
      "source": [
        "Qual a conclusão do modelo agora? Vamos repetir, com o uso do `Sci-kit learn`. "
      ]
    },
    {
      "cell_type": "markdown",
      "metadata": {
        "id": "J-qhspX6N5OD"
      },
      "source": [
        ""
      ]
    },
    {
      "cell_type": "code",
      "metadata": {
        "id": "c-3iMXYENePT",
        "colab": {
          "base_uri": "https://localhost:8080/",
          "height": 54
        },
        "outputId": "35539300-5c01-4b69-f773-cc2c7b566602"
      },
      "source": [
        "# Preparando os dados\n",
        "X = Loans[['Age','Loan']]      # X = entrada, variáveis independentes\n",
        "y = Loans.Type_loan            # y = saída, variável dependente \n",
        "\n",
        "# Definindo ou declarando o modelo \n",
        "n_neighbors = 3\n",
        "clf = neighbors.KNeighborsClassifier(n_neighbors)\n",
        "\n",
        "# Aprendizado (construindo ou executando o modelo)\n",
        "clf.fit(X, y)                  # Emprega o conjunto de treinamento \n",
        "\n",
        "# Fazendo a predição\n",
        "Loan_type_pred = clf.predict(case)\n",
        "print('Classificação Normalizado Knn, k= ', n_neighbors, ' para o empréstimo ', case , ' é ', Loan_type_pred )"
      ],
      "execution_count": null,
      "outputs": [
        {
          "output_type": "stream",
          "text": [
            "Classificação Normalizado Knn, k=  3  para o empréstimo          Age      Loan\n",
            "0  0.783333  0.645455  é  [1]\n"
          ],
          "name": "stdout"
        }
      ]
    },
    {
      "cell_type": "markdown",
      "metadata": {
        "id": "d74Y0n2dq_cx"
      },
      "source": [
        "## Adicionando um atributo categórico\n",
        "\n",
        "Embora o Knn não possa empregar atributos categóricos diretamente, podemos transformar atributos categóricos em numéricos com *hot encode* e então aplicar o modelo sobre esses valores.\n",
        "\n",
        "\n",
        "\n",
        "\n",
        "\n",
        "\n",
        "\n",
        "\n"
      ]
    },
    {
      "cell_type": "code",
      "metadata": {
        "id": "yks0v4wvrS5s",
        "colab": {
          "base_uri": "https://localhost:8080/",
          "height": 272
        },
        "outputId": "6cda8bd0-fc9d-4f05-ef79-38e6893c9ae8"
      },
      "source": [
        "Loans = pd.DataFrame({'Age':[25,35,45,20,35,52,23,40,60,48,33],\n",
        "                      'Loan':[40000,60000,80000,20000,120000,18000,95000,62000,100000,220000,150000],\n",
        "\n",
        "                      'Duration':['Short','Long','Short','Undefined','Long','Short','Long','Short','Undefined','Long', 'Short'],\n",
        "\n",
        "                      'Type_loan':[1,1,1,1,1,1,0,0,0,0,0] }) # 1=normal 0=especial\n",
        "\n",
        "case  = pd.DataFrame({'Age':[47],\n",
        "                      'Duration':['Short'],\n",
        "                      'Loan':[142000]})\n",
        "\n",
        "print(Loans)\n",
        "print(case)\n"
      ],
      "execution_count": null,
      "outputs": [
        {
          "output_type": "stream",
          "text": [
            "    Age    Loan   Duration  Type_loan\n",
            "0    25   40000      Short          1\n",
            "1    35   60000       Long          1\n",
            "2    45   80000      Short          1\n",
            "3    20   20000  Undefined          1\n",
            "4    35  120000       Long          1\n",
            "5    52   18000      Short          1\n",
            "6    23   95000       Long          0\n",
            "7    40   62000      Short          0\n",
            "8    60  100000  Undefined          0\n",
            "9    48  220000       Long          0\n",
            "10   33  150000      Short          0\n",
            "   Age Duration    Loan\n",
            "0   47    Short  142000\n"
          ],
          "name": "stdout"
        }
      ]
    },
    {
      "cell_type": "markdown",
      "metadata": {
        "id": "QyiLFFdgtocI"
      },
      "source": [
        "### Preparando os dados: Hot encode e Normalização \\*\n",
        "\n",
        "A normalização segue do mesmo modo que fizemos anteriormente."
      ]
    },
    {
      "cell_type": "markdown",
      "metadata": {
        "id": "4LBJhWueOYR5"
      },
      "source": [
        "### Normalizando os dados \\*\n",
        "\n",
        "O mesmo que fizemos anteriormente.\n",
        "\n"
      ]
    },
    {
      "cell_type": "code",
      "metadata": {
        "id": "V5K1No9rtmDx",
        "colab": {
          "base_uri": "https://localhost:8080/",
          "height": 272
        },
        "outputId": "7d9bed69-7cfc-4269-8966-0349426177d7"
      },
      "source": [
        "# Normalização \n",
        "\n",
        "mAge = Loans.Age.max()\n",
        "mLoan =  Loans.Loan.max()\n",
        "\n",
        "case.Age = case.Age / mAge\n",
        "case.Loan = case.Loan / mLoan\n",
        "\n",
        "Loans.Age = Loans.Age / mAge\n",
        "Loans.Loan = Loans.Loan / mLoan\n",
        "\n",
        "\n",
        "print(Loans)\n",
        "print(case)"
      ],
      "execution_count": null,
      "outputs": [
        {
          "output_type": "stream",
          "text": [
            "         Age      Loan   Duration  Type_loan\n",
            "0   0.416667  0.181818      Short          1\n",
            "1   0.583333  0.272727       Long          1\n",
            "2   0.750000  0.363636      Short          1\n",
            "3   0.333333  0.090909  Undefined          1\n",
            "4   0.583333  0.545455       Long          1\n",
            "5   0.866667  0.081818      Short          1\n",
            "6   0.383333  0.431818       Long          0\n",
            "7   0.666667  0.281818      Short          0\n",
            "8   1.000000  0.454545  Undefined          0\n",
            "9   0.800000  1.000000       Long          0\n",
            "10  0.550000  0.681818      Short          0\n",
            "        Age Duration      Loan\n",
            "0  0.783333    Short  0.645455\n"
          ],
          "name": "stdout"
        }
      ]
    },
    {
      "cell_type": "markdown",
      "metadata": {
        "id": "NefMJu62uijb"
      },
      "source": [
        "### Hot Encode \\*\n",
        "\n",
        "O **Hot Encode** (ou **Dummy Encode**) é uma transformação importante e a melhor forma de empregar a transaformação de dados categóricos para dados numéricos. Ela é preferível a empregar o **Label Encode** (isto é, associar valores ordinais como 0,1,2,3... para cada categoria).\n",
        "\n",
        "\n"
      ]
    },
    {
      "cell_type": "code",
      "metadata": {
        "id": "F7uO-rUZrXOe",
        "colab": {
          "base_uri": "https://localhost:8080/",
          "height": 508
        },
        "outputId": "22969bab-0ddc-405c-c759-c1ecdc9d3e4d"
      },
      "source": [
        "# Hot encode\n",
        "pd.set_option('display.max_columns', None)\n",
        "\n",
        "dummies = pd.get_dummies(Loans.Duration,prefix='Duration')\n",
        "Loans = pd.concat([Loans, dummies],axis=1)\n",
        "print(Loans)\n",
        "\n",
        "dummies = pd.get_dummies(case.Duration,prefix='Duration')\n",
        "case = pd.concat([case, dummies],axis=1)\n",
        "print(case)\n",
        "\n",
        "\n"
      ],
      "execution_count": null,
      "outputs": [
        {
          "output_type": "stream",
          "text": [
            "         Age      Loan   Duration  Type_loan  Duration_Long  Duration_Short  \\\n",
            "0   0.416667  0.181818      Short          1              0               1   \n",
            "1   0.583333  0.272727       Long          1              1               0   \n",
            "2   0.750000  0.363636      Short          1              0               1   \n",
            "3   0.333333  0.090909  Undefined          1              0               0   \n",
            "4   0.583333  0.545455       Long          1              1               0   \n",
            "5   0.866667  0.081818      Short          1              0               1   \n",
            "6   0.383333  0.431818       Long          0              1               0   \n",
            "7   0.666667  0.281818      Short          0              0               1   \n",
            "8   1.000000  0.454545  Undefined          0              0               0   \n",
            "9   0.800000  1.000000       Long          0              1               0   \n",
            "10  0.550000  0.681818      Short          0              0               1   \n",
            "\n",
            "    Duration_Undefined  \n",
            "0                    0  \n",
            "1                    0  \n",
            "2                    0  \n",
            "3                    1  \n",
            "4                    0  \n",
            "5                    0  \n",
            "6                    0  \n",
            "7                    0  \n",
            "8                    1  \n",
            "9                    0  \n",
            "10                   0  \n",
            "        Age Duration      Loan  Duration_Short\n",
            "0  0.783333    Short  0.645455               1\n"
          ],
          "name": "stdout"
        }
      ]
    },
    {
      "cell_type": "markdown",
      "metadata": {
        "id": "5fCk-HxmxCmR"
      },
      "source": [
        "## Mesma estrutura, Treinamento e Teste *\n",
        "\n",
        "Tando a normalização, como o **hot encode** precisam ser aplicados tanto no conjunto de treinamento como nas novas instâncias ou conjunto de dados de teste (o conjunto que contêm as instâncias que desejamos prever). Isto é:\n",
        "\n",
        "> **Transformações(*X Treinamento*) = Transformações(*X Teste*)**\n",
        "\n",
        "E **Treinamento e Teste** têm as mesmas dimensões e escalas.\n",
        "\n",
        "Como em uma função, os modelos em `scikit-learn` (e de muitos outros pacotes) requer que os conjuntos de treinamento e teste tenham a mesma estrutura. Eles funcionam como uma função matemática bem estruturada. Se você tem uma função (modelo):\n",
        "\n",
        "$$ f(x,y,z) =  x * y + z $$\n",
        "\n",
        "definida com 3 variáveis, você só pode avaliar informando as 3 variáveis:\n",
        "\n",
        "$$ f(1,2,3) =  1 * 2 + 3 = 5 $$\n",
        "\n",
        "Mas não pode avaliar a função deste modo:\n",
        "\n",
        "$$ f(1,2) =  1 * 2 + ?? $$\n",
        "\n",
        "Os modelos em `Python` funcionam do mesmo modo. Assim, os mesmos atributos X do conjunto de treinamento (`Loan`) empregados para definir o modelo, precisam aparecer no também no conjunto de teste (`case`). [1] \n",
        "\n",
        "[1] Nota: X, são os atributos de entrada, como $x,y,z$ da função acima. O y, ou o atributo classe, ou ainda classe preditora, não precisa constar do conjunto de teste.\n"
      ]
    },
    {
      "cell_type": "markdown",
      "metadata": {
        "id": "WRLVEUuaQxYL"
      },
      "source": [
        "### Ajustando a estrutura dos dados de Teste \\*"
      ]
    },
    {
      "cell_type": "code",
      "metadata": {
        "id": "tySAQsLtwnEj",
        "colab": {
          "base_uri": "https://localhost:8080/",
          "height": 108
        },
        "outputId": "c8da525b-5572-481e-bc23-e86be36f07db"
      },
      "source": [
        "print(Loans.columns)\n",
        "\n",
        "# Estes serão os atributos, a estrutura de entrada do nosso modelo, como na definição da nossa função f(x,y,z)\n",
        "X = Loans[['Age','Loan','Duration_Short', 'Duration_Long', 'Duration_Undefined']]      # X = entrada, variáveis independentes\n",
        "print(X.columns)\n",
        "print(case.columns)"
      ],
      "execution_count": null,
      "outputs": [
        {
          "output_type": "stream",
          "text": [
            "Index(['Age', 'Loan', 'Duration', 'Type_loan', 'Duration_Long',\n",
            "       'Duration_Short', 'Duration_Undefined'],\n",
            "      dtype='object')\n",
            "Index(['Age', 'Loan', 'Duration_Short', 'Duration_Long', 'Duration_Undefined'], dtype='object')\n",
            "Index(['Age', 'Duration', 'Loan', 'Duration_Short'], dtype='object')\n"
          ],
          "name": "stdout"
        }
      ]
    },
    {
      "cell_type": "markdown",
      "metadata": {
        "id": "aXhttX1SzDal"
      },
      "source": [
        "Precisamos então adequar nosso `case` a entrada desse modelo:"
      ]
    },
    {
      "cell_type": "code",
      "metadata": {
        "id": "xChy-bq9vJYt",
        "colab": {
          "base_uri": "https://localhost:8080/",
          "height": 72
        },
        "outputId": "7097f8c7-1ca9-484b-c041-0a2f16d590c6"
      },
      "source": [
        "case['Duration_Long'] = 0\n",
        "case['Duration_Undefined'] = 0\n",
        "case = case.drop(columns=['Duration'])\n",
        "\n",
        "print(case)\n",
        "\n",
        "print(case.columns)\n"
      ],
      "execution_count": null,
      "outputs": [
        {
          "output_type": "stream",
          "text": [
            "        Age      Loan  Duration_Short  Duration_Long  Duration_Undefined\n",
            "0  0.783333  0.645455               1              0                   0\n",
            "Index(['Age', 'Loan', 'Duration_Short', 'Duration_Long', 'Duration_Undefined'], dtype='object')\n"
          ],
          "name": "stdout"
        }
      ]
    },
    {
      "cell_type": "markdown",
      "metadata": {
        "id": "qqB62sua0ayC"
      },
      "source": [
        "## Treinando e Aplicando o modelo \\*\n",
        "\n",
        "Agora estamos prontos para aplicar o modelo knn. Note: **É o mesmo código empregado até agora**, a mesma estrutura de programa, apenas alterando as variáveis de entrada."
      ]
    },
    {
      "cell_type": "code",
      "metadata": {
        "id": "TMRM-5-y01wq",
        "colab": {
          "base_uri": "https://localhost:8080/",
          "height": 54
        },
        "outputId": "2557c58e-c84a-496c-f473-dbe7d45f8ed0"
      },
      "source": [
        "# Preparando os dados\n",
        "X = Loans[['Age','Loan','Duration_Short', 'Duration_Long', 'Duration_Undefined']]      # X = entrada, variáveis independentes\n",
        "y = Loans.Type_loan            # y = saída, variável dependente \n",
        "\n",
        "# Definindo ou declarando o modelo \n",
        "n_neighbors = 3\n",
        "clf = neighbors.KNeighborsClassifier(n_neighbors)\n",
        "\n",
        "# Aprendizado (construindo ou executando o modelo)\n",
        "clf.fit(X, y)                  # Emprega o conjunto de treinamento \n",
        "\n",
        "# Fazendo a predição\n",
        "Loan_type_pred = clf.predict(case)\n",
        "print('Classificação Normalizado Knn, k= ', n_neighbors, ' para o empréstimo ', case , ' é ', Loan_type_pred )"
      ],
      "execution_count": null,
      "outputs": [
        {
          "output_type": "stream",
          "text": [
            "Classificação Normalizado Knn, k=  3  para o empréstimo          Age      Loan  Duration_Short  Duration_Long  Duration_Undefined\n",
            "0  0.783333  0.645455               1              0                   0  é  [0]\n"
          ],
          "name": "stdout"
        }
      ]
    }
  ]
}