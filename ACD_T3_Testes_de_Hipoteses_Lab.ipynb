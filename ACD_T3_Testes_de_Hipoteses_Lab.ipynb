{
  "nbformat": 4,
  "nbformat_minor": 0,
  "metadata": {
    "colab": {
      "name": "ACD_T3_Testes_de_Hipoteses_Lab.ipynb",
      "provenance": [],
      "collapsed_sections": []
    },
    "kernelspec": {
      "name": "python3",
      "display_name": "Python 3"
    }
  },
  "cells": [
    {
      "cell_type": "markdown",
      "metadata": {
        "id": "gglUriLmo1sR"
      },
      "source": [
        "<head>\n",
        "  <meta name=\"author\" content=\"Rogério de Oliveira\">\n",
        "  <meta institution=\"author\" content=\"Universidade Presbiteriana Mackenzie\">\n",
        "</head>\n",
        "\n",
        "<img src=\"http://meusite.mackenzie.br/rogerio/mackenzie_logo/UPM.2_horizontal_vermelho.jpg\" width=300, align=\"right\"></a>\n",
        "<!-- <h1 align=left><font size = 6, style=\"color:rgb(200,0,0)\"> optional title </font></h1> -->"
      ]
    },
    {
      "cell_type": "markdown",
      "metadata": {
        "id": "x3RSAcU_o1sU"
      },
      "source": [
        "# Testes de Hipóteses (Lab)"
      ]
    },
    {
      "cell_type": "markdown",
      "metadata": {
        "_uuid": "9dd9e07c590ca22f0c525222f60f0ebff4e092c6",
        "id": "HpKAvplIAYQ3"
      },
      "source": [
        " # **Teste de Hipóteses e Modelos Lineares**\n",
        " ## Instruções\n",
        "\n",
        "1. Empregue para este Laboratório o **material de Teoria da Trilha 7**.  \n",
        "\n",
        "1. **Responda as questões** à medida que você realiza o Lab. As respostas ajudaram a guiá-lo realização do Lab.\n",
        "\n",
        "2. Execute este Lab no **Colab Google**."
      ]
    },
    {
      "cell_type": "markdown",
      "metadata": {
        "_uuid": "9dd9e07c590ca22f0c525222f60f0ebff4e092c6",
        "id": "SLTshJXLA4LT"
      },
      "source": [
        "## Caso: **Mais do Mercado de Imóveis de Melbourne** \n",
        "\n",
        "### 1. **O Mercado de Imóveis de Melbourne ficou \"*esfriou*\" em 2018, com preços significativamente menores que no ano anterior?** \n",
        "\n",
        "### 2. **Você conseguiria estimar, para um Cliente interessado em vender seu imóvel em Melbourne, o preço justo que ele deveria ser ofertado com base em suas características?** \n",
        "\n",
        "Empregue os dados da URL: https://meusite.mackenzie.br/rogerio/TIC/Melbourne_housing_FULL.csv\n",
        "\n",
        "Essas e outras questões podem ser resolvidas com a aplicação de Testes de Hipóteses e Modelos Lineares. "
      ]
    },
    {
      "cell_type": "markdown",
      "metadata": {
        "_uuid": "9dd9e07c590ca22f0c525222f60f0ebff4e092c6",
        "id": "cki3KUOPAN4S"
      },
      "source": [
        "### Imports e Acesso aos Dados\n",
        "Aqui você deve **importar as bibliotecas das ferramentas** que você pretende empregar na sua EDA. A seguir você deve fazer a aquisição dos dados. Lembre-se de verificar a origem dos dados para empregar as funções e parâmetros corretos de leitura dos dados (**extensão do arquivo, headers, separador**).\n",
        "\n",
        "\n"
      ]
    },
    {
      "cell_type": "code",
      "metadata": {
        "id": "8Dgeleq7AN4T"
      },
      "source": [
        "# imports \n",
        "import pandas                  as pd\n",
        "import numpy                   as np\n",
        "import matplotlib.pyplot       as plt\n",
        "import seaborn                 as sns\n",
        "import statsmodels.formula.api as sm\n",
        "import warnings\n",
        "warnings.filterwarnings(\"ignore\")  # Suppress all warnings"
      ],
      "execution_count": null,
      "outputs": []
    },
    {
      "cell_type": "code",
      "metadata": {
        "id": "tI3qI5h_AN4X",
        "colab": {
          "base_uri": "https://localhost:8080/",
          "height": 317
        },
        "outputId": "ac452592-4c6f-4b2d-f52f-c18c687f1918"
      },
      "source": [
        "# read data\n",
        "houses = pd.read_csv('https://meusite.mackenzie.br/rogerio/TIC/Melbourne_housing_FULL.csv')\n",
        "houses.head()\n"
      ],
      "execution_count": null,
      "outputs": [
        {
          "output_type": "execute_result",
          "data": {
            "text/html": [
              "<div>\n",
              "<style scoped>\n",
              "    .dataframe tbody tr th:only-of-type {\n",
              "        vertical-align: middle;\n",
              "    }\n",
              "\n",
              "    .dataframe tbody tr th {\n",
              "        vertical-align: top;\n",
              "    }\n",
              "\n",
              "    .dataframe thead th {\n",
              "        text-align: right;\n",
              "    }\n",
              "</style>\n",
              "<table border=\"1\" class=\"dataframe\">\n",
              "  <thead>\n",
              "    <tr style=\"text-align: right;\">\n",
              "      <th></th>\n",
              "      <th>Suburb</th>\n",
              "      <th>Address</th>\n",
              "      <th>Rooms</th>\n",
              "      <th>Type</th>\n",
              "      <th>Price</th>\n",
              "      <th>Method</th>\n",
              "      <th>SellerG</th>\n",
              "      <th>Date</th>\n",
              "      <th>Distance</th>\n",
              "      <th>Postcode</th>\n",
              "      <th>Bedroom2</th>\n",
              "      <th>Bathroom</th>\n",
              "      <th>Car</th>\n",
              "      <th>Landsize</th>\n",
              "      <th>BuildingArea</th>\n",
              "      <th>YearBuilt</th>\n",
              "      <th>CouncilArea</th>\n",
              "      <th>Lattitude</th>\n",
              "      <th>Longtitude</th>\n",
              "      <th>Regionname</th>\n",
              "      <th>Propertycount</th>\n",
              "    </tr>\n",
              "  </thead>\n",
              "  <tbody>\n",
              "    <tr>\n",
              "      <th>0</th>\n",
              "      <td>Abbotsford</td>\n",
              "      <td>68 Studley St</td>\n",
              "      <td>2</td>\n",
              "      <td>h</td>\n",
              "      <td>NaN</td>\n",
              "      <td>SS</td>\n",
              "      <td>Jellis</td>\n",
              "      <td>3/09/2016</td>\n",
              "      <td>2.5</td>\n",
              "      <td>3067.0</td>\n",
              "      <td>2.0</td>\n",
              "      <td>1.0</td>\n",
              "      <td>1.0</td>\n",
              "      <td>126.0</td>\n",
              "      <td>NaN</td>\n",
              "      <td>NaN</td>\n",
              "      <td>Yarra City Council</td>\n",
              "      <td>-37.8014</td>\n",
              "      <td>144.9958</td>\n",
              "      <td>Northern Metropolitan</td>\n",
              "      <td>4019.0</td>\n",
              "    </tr>\n",
              "    <tr>\n",
              "      <th>1</th>\n",
              "      <td>Abbotsford</td>\n",
              "      <td>85 Turner St</td>\n",
              "      <td>2</td>\n",
              "      <td>h</td>\n",
              "      <td>1480000.0</td>\n",
              "      <td>S</td>\n",
              "      <td>Biggin</td>\n",
              "      <td>3/12/2016</td>\n",
              "      <td>2.5</td>\n",
              "      <td>3067.0</td>\n",
              "      <td>2.0</td>\n",
              "      <td>1.0</td>\n",
              "      <td>1.0</td>\n",
              "      <td>202.0</td>\n",
              "      <td>NaN</td>\n",
              "      <td>NaN</td>\n",
              "      <td>Yarra City Council</td>\n",
              "      <td>-37.7996</td>\n",
              "      <td>144.9984</td>\n",
              "      <td>Northern Metropolitan</td>\n",
              "      <td>4019.0</td>\n",
              "    </tr>\n",
              "    <tr>\n",
              "      <th>2</th>\n",
              "      <td>Abbotsford</td>\n",
              "      <td>25 Bloomburg St</td>\n",
              "      <td>2</td>\n",
              "      <td>h</td>\n",
              "      <td>1035000.0</td>\n",
              "      <td>S</td>\n",
              "      <td>Biggin</td>\n",
              "      <td>4/02/2016</td>\n",
              "      <td>2.5</td>\n",
              "      <td>3067.0</td>\n",
              "      <td>2.0</td>\n",
              "      <td>1.0</td>\n",
              "      <td>0.0</td>\n",
              "      <td>156.0</td>\n",
              "      <td>79.0</td>\n",
              "      <td>1900.0</td>\n",
              "      <td>Yarra City Council</td>\n",
              "      <td>-37.8079</td>\n",
              "      <td>144.9934</td>\n",
              "      <td>Northern Metropolitan</td>\n",
              "      <td>4019.0</td>\n",
              "    </tr>\n",
              "    <tr>\n",
              "      <th>3</th>\n",
              "      <td>Abbotsford</td>\n",
              "      <td>18/659 Victoria St</td>\n",
              "      <td>3</td>\n",
              "      <td>u</td>\n",
              "      <td>NaN</td>\n",
              "      <td>VB</td>\n",
              "      <td>Rounds</td>\n",
              "      <td>4/02/2016</td>\n",
              "      <td>2.5</td>\n",
              "      <td>3067.0</td>\n",
              "      <td>3.0</td>\n",
              "      <td>2.0</td>\n",
              "      <td>1.0</td>\n",
              "      <td>0.0</td>\n",
              "      <td>NaN</td>\n",
              "      <td>NaN</td>\n",
              "      <td>Yarra City Council</td>\n",
              "      <td>-37.8114</td>\n",
              "      <td>145.0116</td>\n",
              "      <td>Northern Metropolitan</td>\n",
              "      <td>4019.0</td>\n",
              "    </tr>\n",
              "    <tr>\n",
              "      <th>4</th>\n",
              "      <td>Abbotsford</td>\n",
              "      <td>5 Charles St</td>\n",
              "      <td>3</td>\n",
              "      <td>h</td>\n",
              "      <td>1465000.0</td>\n",
              "      <td>SP</td>\n",
              "      <td>Biggin</td>\n",
              "      <td>4/03/2017</td>\n",
              "      <td>2.5</td>\n",
              "      <td>3067.0</td>\n",
              "      <td>3.0</td>\n",
              "      <td>2.0</td>\n",
              "      <td>0.0</td>\n",
              "      <td>134.0</td>\n",
              "      <td>150.0</td>\n",
              "      <td>1900.0</td>\n",
              "      <td>Yarra City Council</td>\n",
              "      <td>-37.8093</td>\n",
              "      <td>144.9944</td>\n",
              "      <td>Northern Metropolitan</td>\n",
              "      <td>4019.0</td>\n",
              "    </tr>\n",
              "  </tbody>\n",
              "</table>\n",
              "</div>"
            ],
            "text/plain": [
              "       Suburb             Address  ...             Regionname Propertycount\n",
              "0  Abbotsford       68 Studley St  ...  Northern Metropolitan        4019.0\n",
              "1  Abbotsford        85 Turner St  ...  Northern Metropolitan        4019.0\n",
              "2  Abbotsford     25 Bloomburg St  ...  Northern Metropolitan        4019.0\n",
              "3  Abbotsford  18/659 Victoria St  ...  Northern Metropolitan        4019.0\n",
              "4  Abbotsford        5 Charles St  ...  Northern Metropolitan        4019.0\n",
              "\n",
              "[5 rows x 21 columns]"
            ]
          },
          "metadata": {
            "tags": []
          },
          "execution_count": 18
        }
      ]
    },
    {
      "cell_type": "markdown",
      "metadata": {
        "id": "rH4uPZlSB68R"
      },
      "source": [
        "## Revistando os Valores Nulos\n",
        "\n",
        "Antes de seguirmos vamos revisitar o tratamento de nulos. lembra-se de nossa análise no Lab T5. Nossa estratégia de imputar os valores, embora adequada para aquele momento, não foi uma solução tão boa. Recorda a alternativa discutida?"
      ]
    },
    {
      "cell_type": "code",
      "metadata": {
        "id": "yUEcOPpmBsuH",
        "colab": {
          "base_uri": "https://localhost:8080/",
          "height": 698
        },
        "outputId": "06d5c669-0901-4a88-9fcd-73441b59252e"
      },
      "source": [
        "print(houses.isnull().sum()) \n",
        "pr = pd.DataFrame(houses.Price.dropna())\n",
        "houses.Price = houses.Price.fillna(houses.Price.mean())\n",
        "\n",
        "sns.distplot(pr)\n",
        "sns.distplot(houses.Price)"
      ],
      "execution_count": null,
      "outputs": [
        {
          "output_type": "stream",
          "text": [
            "Suburb               0\n",
            "Address              0\n",
            "Rooms                0\n",
            "Type                 0\n",
            "Price             7610\n",
            "Method               0\n",
            "SellerG              0\n",
            "Date                 0\n",
            "Distance             1\n",
            "Postcode             1\n",
            "Bedroom2          8217\n",
            "Bathroom          8226\n",
            "Car               8728\n",
            "Landsize         11810\n",
            "BuildingArea     21115\n",
            "YearBuilt        19306\n",
            "CouncilArea          3\n",
            "Lattitude         7976\n",
            "Longtitude        7976\n",
            "Regionname           3\n",
            "Propertycount        3\n",
            "dtype: int64\n"
          ],
          "name": "stdout"
        },
        {
          "output_type": "execute_result",
          "data": {
            "text/plain": [
              "<matplotlib.axes._subplots.AxesSubplot at 0x7f16d9f87ef0>"
            ]
          },
          "metadata": {
            "tags": []
          },
          "execution_count": 19
        },
        {
          "output_type": "display_data",
          "data": {
            "image/png": "[encoded data removed]",
            "text/plain": [
              "<Figure size 432x288 with 1 Axes>"
            ]
          },
          "metadata": {
            "tags": [],
            "needs_background": "light"
          }
        }
      ]
    },
    {
      "cell_type": "markdown",
      "metadata": {
        "id": "L0CdJeGzCzqE"
      },
      "source": [
        "### Imputando dados com a mesma distribuição\n",
        "\n",
        "O código aqui é talvez um pouco complexo. Fique a vontade de pular o detalhe do código. Ele não tem maior importância no que segue mas, **concentre-se no conceito e resultado que ele produz**. O mesmo preenchimento é feito para todos os dados nulos.\n",
        "\n"
      ]
    },
    {
      "cell_type": "code",
      "metadata": {
        "id": "Ijddqt30ChBs",
        "colab": {
          "base_uri": "https://localhost:8080/",
          "height": 681
        },
        "outputId": "79088429-c675-47da-a6bc-12eb4498df58"
      },
      "source": [
        "houses = pd.read_csv('https://meusite.mackenzie.br/rogerio/TIC/Melbourne_housing_FULL.csv')\n",
        "\n",
        "def filldist(df,col):\n",
        "    v = pd.DataFrame(df[col].dropna()).reset_index()\n",
        "    df[col] = df[col].fillna(-1)\n",
        "    df[col] = df[col].apply(lambda x: (v.iloc[np.random.randint(len(v))][col]) if x==-1 else x)\n",
        "    return df[col].isnull().sum()\n",
        "\n",
        "filldist(houses,'Price')\n",
        "\n",
        "sns.distplot(pr)\n",
        "sns.distplot(houses.Price)\n",
        "\n",
        "s = houses.isnull().sum()\n",
        "for i in s.index:\n",
        "    if s[i]!=0:\n",
        "        filldist(houses,i)\n",
        "\n",
        "houses.isnull().sum()        "
      ],
      "execution_count": null,
      "outputs": [
        {
          "output_type": "execute_result",
          "data": {
            "text/plain": [
              "Suburb           0\n",
              "Address          0\n",
              "Rooms            0\n",
              "Type             0\n",
              "Price            0\n",
              "Method           0\n",
              "SellerG          0\n",
              "Date             0\n",
              "Distance         0\n",
              "Postcode         0\n",
              "Bedroom2         0\n",
              "Bathroom         0\n",
              "Car              0\n",
              "Landsize         0\n",
              "BuildingArea     0\n",
              "YearBuilt        0\n",
              "CouncilArea      0\n",
              "Lattitude        0\n",
              "Longtitude       0\n",
              "Regionname       0\n",
              "Propertycount    0\n",
              "dtype: int64"
            ]
          },
          "metadata": {
            "tags": []
          },
          "execution_count": 20
        },
        {
          "output_type": "display_data",
          "data": {
            "image/png": "[encoded data removed]",
            "text/plain": [
              "<Figure size 432x288 with 1 Axes>"
            ]
          },
          "metadata": {
            "tags": [],
            "needs_background": "light"
          }
        }
      ]
    },
    {
      "cell_type": "markdown",
      "metadata": {
        "id": "Un2gcHo--gml"
      },
      "source": [
        "De qualquer modo essa estratégia, embora não apresente qualquer distorção na distribuição dos dados, ainda pode introduzir viés na análise dos dados, sendo sempre um risco a introdução artificial dos dados e, tanto maior quanto maior o número de dados introduzidos.\n",
        "\n",
        "Assim para análise à seguir adotaremos a estratégia de simples exclusão dos dados nulos. (Veja a questão 9 para retomar essa análise). "
      ]
    },
    {
      "cell_type": "markdown",
      "metadata": {
        "id": "GXopKz0a_l63"
      },
      "source": [
        "### Retomando os dados\n",
        "\n",
        "Retomamos então os dados originais para análise e resposta às perguntas do caso."
      ]
    },
    {
      "cell_type": "code",
      "metadata": {
        "id": "sJwoMD0p_gSC",
        "colab": {
          "base_uri": "https://localhost:8080/",
          "height": 317
        },
        "outputId": "f1c0693e-f1bf-4d21-da5c-a213cedc5277"
      },
      "source": [
        "houses = pd.read_csv('https://meusite.mackenzie.br/rogerio/TIC/Melbourne_housing_FULL.csv')\n",
        "\n",
        "houses = houses.dropna()\n",
        "houses.head()"
      ],
      "execution_count": null,
      "outputs": [
        {
          "output_type": "execute_result",
          "data": {
            "text/html": [
              "<div>\n",
              "<style scoped>\n",
              "    .dataframe tbody tr th:only-of-type {\n",
              "        vertical-align: middle;\n",
              "    }\n",
              "\n",
              "    .dataframe tbody tr th {\n",
              "        vertical-align: top;\n",
              "    }\n",
              "\n",
              "    .dataframe thead th {\n",
              "        text-align: right;\n",
              "    }\n",
              "</style>\n",
              "<table border=\"1\" class=\"dataframe\">\n",
              "  <thead>\n",
              "    <tr style=\"text-align: right;\">\n",
              "      <th></th>\n",
              "      <th>Suburb</th>\n",
              "      <th>Address</th>\n",
              "      <th>Rooms</th>\n",
              "      <th>Type</th>\n",
              "      <th>Price</th>\n",
              "      <th>Method</th>\n",
              "      <th>SellerG</th>\n",
              "      <th>Date</th>\n",
              "      <th>Distance</th>\n",
              "      <th>Postcode</th>\n",
              "      <th>Bedroom2</th>\n",
              "      <th>Bathroom</th>\n",
              "      <th>Car</th>\n",
              "      <th>Landsize</th>\n",
              "      <th>BuildingArea</th>\n",
              "      <th>YearBuilt</th>\n",
              "      <th>CouncilArea</th>\n",
              "      <th>Lattitude</th>\n",
              "      <th>Longtitude</th>\n",
              "      <th>Regionname</th>\n",
              "      <th>Propertycount</th>\n",
              "    </tr>\n",
              "  </thead>\n",
              "  <tbody>\n",
              "    <tr>\n",
              "      <th>2</th>\n",
              "      <td>Abbotsford</td>\n",
              "      <td>25 Bloomburg St</td>\n",
              "      <td>2</td>\n",
              "      <td>h</td>\n",
              "      <td>1035000.0</td>\n",
              "      <td>S</td>\n",
              "      <td>Biggin</td>\n",
              "      <td>4/02/2016</td>\n",
              "      <td>2.5</td>\n",
              "      <td>3067.0</td>\n",
              "      <td>2.0</td>\n",
              "      <td>1.0</td>\n",
              "      <td>0.0</td>\n",
              "      <td>156.0</td>\n",
              "      <td>79.0</td>\n",
              "      <td>1900.0</td>\n",
              "      <td>Yarra City Council</td>\n",
              "      <td>-37.8079</td>\n",
              "      <td>144.9934</td>\n",
              "      <td>Northern Metropolitan</td>\n",
              "      <td>4019.0</td>\n",
              "    </tr>\n",
              "    <tr>\n",
              "      <th>4</th>\n",
              "      <td>Abbotsford</td>\n",
              "      <td>5 Charles St</td>\n",
              "      <td>3</td>\n",
              "      <td>h</td>\n",
              "      <td>1465000.0</td>\n",
              "      <td>SP</td>\n",
              "      <td>Biggin</td>\n",
              "      <td>4/03/2017</td>\n",
              "      <td>2.5</td>\n",
              "      <td>3067.0</td>\n",
              "      <td>3.0</td>\n",
              "      <td>2.0</td>\n",
              "      <td>0.0</td>\n",
              "      <td>134.0</td>\n",
              "      <td>150.0</td>\n",
              "      <td>1900.0</td>\n",
              "      <td>Yarra City Council</td>\n",
              "      <td>-37.8093</td>\n",
              "      <td>144.9944</td>\n",
              "      <td>Northern Metropolitan</td>\n",
              "      <td>4019.0</td>\n",
              "    </tr>\n",
              "    <tr>\n",
              "      <th>6</th>\n",
              "      <td>Abbotsford</td>\n",
              "      <td>55a Park St</td>\n",
              "      <td>4</td>\n",
              "      <td>h</td>\n",
              "      <td>1600000.0</td>\n",
              "      <td>VB</td>\n",
              "      <td>Nelson</td>\n",
              "      <td>4/06/2016</td>\n",
              "      <td>2.5</td>\n",
              "      <td>3067.0</td>\n",
              "      <td>3.0</td>\n",
              "      <td>1.0</td>\n",
              "      <td>2.0</td>\n",
              "      <td>120.0</td>\n",
              "      <td>142.0</td>\n",
              "      <td>2014.0</td>\n",
              "      <td>Yarra City Council</td>\n",
              "      <td>-37.8072</td>\n",
              "      <td>144.9941</td>\n",
              "      <td>Northern Metropolitan</td>\n",
              "      <td>4019.0</td>\n",
              "    </tr>\n",
              "    <tr>\n",
              "      <th>11</th>\n",
              "      <td>Abbotsford</td>\n",
              "      <td>124 Yarra St</td>\n",
              "      <td>3</td>\n",
              "      <td>h</td>\n",
              "      <td>1876000.0</td>\n",
              "      <td>S</td>\n",
              "      <td>Nelson</td>\n",
              "      <td>7/05/2016</td>\n",
              "      <td>2.5</td>\n",
              "      <td>3067.0</td>\n",
              "      <td>4.0</td>\n",
              "      <td>2.0</td>\n",
              "      <td>0.0</td>\n",
              "      <td>245.0</td>\n",
              "      <td>210.0</td>\n",
              "      <td>1910.0</td>\n",
              "      <td>Yarra City Council</td>\n",
              "      <td>-37.8024</td>\n",
              "      <td>144.9993</td>\n",
              "      <td>Northern Metropolitan</td>\n",
              "      <td>4019.0</td>\n",
              "    </tr>\n",
              "    <tr>\n",
              "      <th>14</th>\n",
              "      <td>Abbotsford</td>\n",
              "      <td>98 Charles St</td>\n",
              "      <td>2</td>\n",
              "      <td>h</td>\n",
              "      <td>1636000.0</td>\n",
              "      <td>S</td>\n",
              "      <td>Nelson</td>\n",
              "      <td>8/10/2016</td>\n",
              "      <td>2.5</td>\n",
              "      <td>3067.0</td>\n",
              "      <td>2.0</td>\n",
              "      <td>1.0</td>\n",
              "      <td>2.0</td>\n",
              "      <td>256.0</td>\n",
              "      <td>107.0</td>\n",
              "      <td>1890.0</td>\n",
              "      <td>Yarra City Council</td>\n",
              "      <td>-37.8060</td>\n",
              "      <td>144.9954</td>\n",
              "      <td>Northern Metropolitan</td>\n",
              "      <td>4019.0</td>\n",
              "    </tr>\n",
              "  </tbody>\n",
              "</table>\n",
              "</div>"
            ],
            "text/plain": [
              "        Suburb          Address  ...             Regionname Propertycount\n",
              "2   Abbotsford  25 Bloomburg St  ...  Northern Metropolitan        4019.0\n",
              "4   Abbotsford     5 Charles St  ...  Northern Metropolitan        4019.0\n",
              "6   Abbotsford      55a Park St  ...  Northern Metropolitan        4019.0\n",
              "11  Abbotsford     124 Yarra St  ...  Northern Metropolitan        4019.0\n",
              "14  Abbotsford    98 Charles St  ...  Northern Metropolitan        4019.0\n",
              "\n",
              "[5 rows x 21 columns]"
            ]
          },
          "metadata": {
            "tags": []
          },
          "execution_count": 21
        }
      ]
    },
    {
      "cell_type": "markdown",
      "metadata": {
        "id": "kpTKHEpsAN4h"
      },
      "source": [
        "### **Q1.** Qual a média de preços dos imóveis por ano? \n",
        "\n",
        "### DICA:\n",
        "1. Empregue `pd.DatetimeIndex(houses.Date).year` para criar um atributo com o ano.\n",
        "2. Empregue então `df.groupby(attr).attr.mean()` \n"
      ]
    },
    {
      "cell_type": "code",
      "metadata": {
        "id": "qu1qdRknAN4i",
        "colab": {
          "base_uri": "https://localhost:8080/",
          "height": 105
        },
        "outputId": "054527b3-b5a9-4623-9153-59df8abbbd99"
      },
      "source": [
        "houses.dtypes\n",
        "from datetime import datetime\n",
        "\n",
        "# Você...\n"
      ],
      "execution_count": null,
      "outputs": [
        {
          "output_type": "stream",
          "text": [
            "Year\n",
            "2016    1.103024e+06\n",
            "2017    1.075872e+06\n",
            "2018    1.130886e+06\n",
            "Name: Price, dtype: float64\n"
          ],
          "name": "stdout"
        }
      ]
    },
    {
      "cell_type": "markdown",
      "metadata": {
        "id": "SCb0HG8fFkCJ"
      },
      "source": [
        "### **Q2.** Alterou-se a distribuição de preços de um ano para o outro? \n",
        "\n",
        "### DICA:\n",
        "1. Empregue `sns.distplot(x)`, sendo x a seleção de dados de Preço para um único ano\n",
        "2. Você pode fazer `sns.displot()` seguidos para sobrepor os gráficos em uma mesma exibição\n"
      ]
    },
    {
      "cell_type": "code",
      "metadata": {
        "id": "PFHlg7eOFDaG",
        "colab": {
          "base_uri": "https://localhost:8080/",
          "height": 307
        },
        "outputId": "33670ae4-9c02-4584-fe64-35b33352d0b4"
      },
      "source": [
        "# Você...\n"
      ],
      "execution_count": null,
      "outputs": [
        {
          "output_type": "execute_result",
          "data": {
            "text/plain": [
              "<matplotlib.axes._subplots.AxesSubplot at 0x7f16d193ecc0>"
            ]
          },
          "metadata": {
            "tags": []
          },
          "execution_count": 23
        },
        {
          "output_type": "display_data",
          "data": {
            "image/png": "[encoded data removed]",
            "text/plain": [
              "<Figure size 432x288 with 1 Axes>"
            ]
          },
          "metadata": {
            "tags": [],
            "needs_background": "light"
          }
        }
      ]
    },
    {
      "cell_type": "markdown",
      "metadata": {
        "id": "7N5TCAD8IHFw"
      },
      "source": [
        "### **Q3.** Qual o % de diferença da média de Preços 2017/2018? A diferença é significativa? \n",
        "\n",
        "### DICA:\n",
        "1. Faça um teste de hipótese, sintaxe\n",
        "\n",
        "`s, p = stats.ttest_ind( serie1 , serie2 , equal_var=False)`\n",
        "\n",
        "onde `serie1` e `serie2` são as séries que você deseja comparar.\n",
        "\n",
        "2. Para valor `p < 0.05` rejeite a Hipótese Nula (médias iguais).\n"
      ]
    },
    {
      "cell_type": "code",
      "metadata": {
        "id": "N9Xg1lHaGqV2",
        "colab": {
          "base_uri": "https://localhost:8080/",
          "height": 34
        },
        "outputId": "a6a2fcad-6ccc-4e27-957c-85967fe4e05f"
      },
      "source": [
        "# imports\n",
        "import statsmodels.api as sm\n",
        "from statsmodels.formula.api import ols\n",
        "import statsmodels\n",
        "from scipy import stats\n",
        "\n",
        "# Você... diferença % das médias? \n"
      ],
      "execution_count": null,
      "outputs": [
        {
          "output_type": "stream",
          "text": [
            "Diferença de preços 2018/2017: 5.11 %\n"
          ],
          "name": "stdout"
        }
      ]
    },
    {
      "cell_type": "code",
      "metadata": {
        "id": "5PLXWnLNGr6F",
        "colab": {
          "base_uri": "https://localhost:8080/",
          "height": 34
        },
        "outputId": "265b8898-86d7-459b-a3e6-e7e00c631152"
      },
      "source": [
        "# Você... \n",
        "\n",
        "s, p = stats.ttest_ind( ... )\n",
        "\n"
      ],
      "execution_count": null,
      "outputs": [
        {
          "output_type": "stream",
          "text": [
            "Rejeita a Hipótese Nula\n"
          ],
          "name": "stdout"
        }
      ]
    },
    {
      "cell_type": "markdown",
      "metadata": {
        "id": "Ejwl4PX2J13h"
      },
      "source": [
        "### **Q4.** Você quer vender um imóvel em Melbourne e acredita que vendas no método 'PI' ('passed in') - digamos, com o uso de um intermediador - não tem qualquer vantagem sobre o método 'S' ('sold') - digamos, venda direta - em termos de preço e que, portanto você estaria perdendo tempo e dinheiro buscando a venda por um intermediário (digamos, corretor). Você estaria correto? \n",
        "\n",
        "### DICA:\n",
        "1. Faça um teste de hipótese, sintaxe\n",
        "\n",
        "`s, p = stats.ttest_ind( serie1 , serie2 , equal_var=False)`\n",
        "\n",
        "onde `serie1` e `serie2` são as séries que você deseja comparar.\n",
        "\n",
        "2. Para valor `p < 0.05` rejeite a Hipótese Nula (médias iguais).\n"
      ]
    },
    {
      "cell_type": "code",
      "metadata": {
        "id": "zK8o8CHxLiEe",
        "colab": {
          "base_uri": "https://localhost:8080/",
          "height": 52
        },
        "outputId": "193914fe-ed57-4058-c8a6-10b5518ff9be"
      },
      "source": [
        "# Você..."
      ],
      "execution_count": null,
      "outputs": [
        {
          "output_type": "stream",
          "text": [
            "Diferença de preços PI/S: 8.83 %\n",
            "Rejeita a Hipótese Nula\n"
          ],
          "name": "stdout"
        }
      ]
    },
    {
      "cell_type": "markdown",
      "metadata": {
        "id": "axU0K7ysOD39"
      },
      "source": [
        "### **Q5.** Faça um modelo linear de preço dos imóveis baseado no seu número de comôdos e área construída? Qual o resultado? \n",
        "\n",
        "### DICA:\n",
        "1. Para um modelo linear:\n",
        "\n",
        "```\n",
        "lm = smf.ols(formula = 'Price ~ Rooms + BuildingArea', data = houses).fit()\n",
        "print(lm.summary())\n",
        "print(lm.params)\n",
        "\n",
        "prediction = lm.predict(houses)\n",
        "```\n",
        "2. Maior R-Square (Coeficiente de Determinação, ou de Correlação, https://en.wikipedia.org/wiki/Coefficient_of_determination) melhor o modelo se ajusta ao modelo linear. "
      ]
    },
    {
      "cell_type": "code",
      "metadata": {
        "id": "yhBmJSH6MtqI",
        "colab": {
          "base_uri": "https://localhost:8080/",
          "height": 1000
        },
        "outputId": "6c953d7d-06c5-4b22-bb94-a5532cb7e035"
      },
      "source": [
        "import statsmodels.formula.api as smf\n",
        "\n",
        "# Você... (basta trazer o código da DICA)\n",
        "\n",
        "\n",
        "\n",
        "#\n",
        "# Os gráficos abaixo são apenas para apresentar a você a interpretação dos resultados \n",
        "# Você pode querer pular os detalhes do código aqui\n",
        "# \n",
        "sns.distplot((prediction - houses.Price)/houses.Price,kde=True)\n",
        "plt.title('% Acertos na Predição de Preços')\n",
        "plt.show()\n",
        "\n",
        "df = pd.concat([houses.Price,prediction],axis=1)\n",
        "df.columns = ['Price', 'PredictedPrice']\n",
        "\n",
        "sns.lmplot('Price','PredictedPrice',data=df,line_kws={'color': 'red'})"
      ],
      "execution_count": null,
      "outputs": [
        {
          "output_type": "stream",
          "text": [
            "                            OLS Regression Results                            \n",
            "==============================================================================\n",
            "Dep. Variable:                  Price   R-squared:                       0.302\n",
            "Model:                            OLS   Adj. R-squared:                  0.301\n",
            "Method:                 Least Squares   F-statistic:                     1918.\n",
            "Date:                Wed, 15 Apr 2020   Prob (F-statistic):               0.00\n",
            "Time:                        18:12:45   Log-Likelihood:            -1.3036e+05\n",
            "No. Observations:                8887   AIC:                         2.607e+05\n",
            "Df Residuals:                    8884   BIC:                         2.607e+05\n",
            "Df Model:                           2                                         \n",
            "Covariance Type:            nonrobust                                         \n",
            "================================================================================\n",
            "                   coef    std err          t      P>|t|      [0.025      0.975]\n",
            "--------------------------------------------------------------------------------\n",
            "Intercept     1.146e+05   2.04e+04      5.628      0.000    7.47e+04    1.55e+05\n",
            "Rooms         1.866e+05   7862.484     23.736      0.000    1.71e+05    2.02e+05\n",
            "BuildingArea  2678.5113     86.184     31.079      0.000    2509.571    2847.451\n",
            "==============================================================================\n",
            "Omnibus:                     4360.039   Durbin-Watson:                   1.424\n",
            "Prob(Omnibus):                  0.000   Jarque-Bera (JB):            95886.773\n",
            "Skew:                           1.855   Prob(JB):                         0.00\n",
            "Kurtosis:                      18.659   Cond. No.                         616.\n",
            "==============================================================================\n",
            "\n",
            "Warnings:\n",
            "[1] Standard Errors assume that the covariance matrix of the errors is correctly specified.\n",
            "Intercept       114649.697750\n",
            "Rooms           186622.096926\n",
            "BuildingArea      2678.511328\n",
            "dtype: float64\n"
          ],
          "name": "stdout"
        },
        {
          "output_type": "display_data",
          "data": {
            "image/png": "[encoded data removed]",
            "text/plain": [
              "<Figure size 432x288 with 1 Axes>"
            ]
          },
          "metadata": {
            "tags": [],
            "needs_background": "light"
          }
        },
        {
          "output_type": "execute_result",
          "data": {
            "text/plain": [
              "<seaborn.axisgrid.FacetGrid at 0x7f16d12d7cc0>"
            ]
          },
          "metadata": {
            "tags": []
          },
          "execution_count": 27
        },
        {
          "output_type": "display_data",
          "data": {
            "image/png": "[encoded data removed]",
            "text/plain": [
              "<Figure size 360x360 with 1 Axes>"
            ]
          },
          "metadata": {
            "tags": [],
            "needs_background": "light"
          }
        }
      ]
    },
    {
      "cell_type": "markdown",
      "metadata": {
        "id": "qYIu4mgqQmZ6"
      },
      "source": [
        "### **Q6.** **(RESOLVIDO)** Inclua no seu modelo agora todas as variáveis numéricas e o Hot Encode de Region. Análise o resultado.  \n",
        "\n",
        "### DICA:\n",
        "1. Para um modelo linear:\n",
        "\n",
        "```\n",
        "lm = smf.ols(formula = 'Price ~ Rooms + BuildingArea', data = houses).fit()\n",
        "print(lm.summary())\n",
        "print(lm.params)\n",
        "\n",
        "prediction = lm.predict(houses)\n",
        "```\n",
        "2. Maior R-Square (Coeficiente de Determinação, ou de Correlação, https://en.wikipedia.org/wiki/Coefficient_of_determination) melhor o modelo se ajusta ao modelo linear. "
      ]
    },
    {
      "cell_type": "code",
      "metadata": {
        "id": "BQkw2kFeP44h",
        "colab": {
          "base_uri": "https://localhost:8080/",
          "height": 567
        },
        "outputId": "6bf8b7ba-0f42-43a7-de0b-33045339584a"
      },
      "source": [
        "pd_dummies = pd.get_dummies(houses['Regionname'], prefix='Reg')\n",
        "pd_dummies.columns\n",
        "\n",
        "# Trata os nomes das colunas, o smf.ols não aceita brancos ou '-', você não precisará se preocupar com isso nos exercícios\n",
        "new_columns = []\n",
        "for col in pd_dummies.columns:\n",
        "    new_columns.append(col.replace('-','_'))\n",
        "pd_dummies.columns = new_columns  \n",
        "\n",
        "new_columns = []\n",
        "for col in pd_dummies.columns:\n",
        "    new_columns.append(col.replace(' ','_'))\n",
        "pd_dummies.columns = new_columns\n",
        "\n",
        "houses = pd.concat([houses,pd_dummies],axis=1)\n",
        "houses.iloc[0]\n",
        "\n",
        "\n"
      ],
      "execution_count": null,
      "outputs": [
        {
          "output_type": "execute_result",
          "data": {
            "text/plain": [
              "Suburb                                       Abbotsford\n",
              "Address                                 25 Bloomburg St\n",
              "Rooms                                                 2\n",
              "Type                                                  h\n",
              "Price                                         1.035e+06\n",
              "Method                                                S\n",
              "SellerG                                          Biggin\n",
              "Date                                          4/02/2016\n",
              "Distance                                            2.5\n",
              "Postcode                                           3067\n",
              "Bedroom2                                              2\n",
              "Bathroom                                              1\n",
              "Car                                                   0\n",
              "Landsize                                            156\n",
              "BuildingArea                                         79\n",
              "YearBuilt                                          1900\n",
              "CouncilArea                          Yarra City Council\n",
              "Lattitude                                      -37.8079\n",
              "Longtitude                                      144.993\n",
              "Regionname                        Northern Metropolitan\n",
              "Propertycount                                      4019\n",
              "Year                                               2016\n",
              "Reg_Eastern_Metropolitan                              0\n",
              "Reg_Eastern_Victoria                                  0\n",
              "Reg_Northern_Metropolitan                             1\n",
              "Reg_Northern_Victoria                                 0\n",
              "Reg_South_Eastern_Metropolitan                        0\n",
              "Reg_Southern_Metropolitan                             0\n",
              "Reg_Western_Metropolitan                              0\n",
              "Reg_Western_Victoria                                  0\n",
              "Name: 2, dtype: object"
            ]
          },
          "metadata": {
            "tags": []
          },
          "execution_count": 28
        }
      ]
    },
    {
      "cell_type": "code",
      "metadata": {
        "id": "0Ky9pfEBPM0Q",
        "colab": {
          "base_uri": "https://localhost:8080/",
          "height": 1000
        },
        "outputId": "57f505c8-5164-4be0-c3a9-f5168d5acbe2"
      },
      "source": [
        "formula = 'Price ~ Rooms' \n",
        "\n",
        "for item in houses.select_dtypes('number').columns[2::]: # skip Rooms e Price :-)\n",
        "    formula = formula + '+' + item\n",
        "\n",
        "print(formula)\n",
        "\n",
        "lm = smf.ols(formula = formula , data = houses).fit()\n",
        "print(lm.summary())\n",
        "print(lm.params)\n",
        "\n",
        "prediction = lm.predict(houses)\n",
        "\n",
        "#\n",
        "# Os gráficos abaixo são apenas para apresentar a você a interpretação dos resultados \n",
        "# Você pode querer pular os detalhes do código aqui\n",
        "# \n",
        "sns.distplot((prediction - houses.Price)/houses.Price,kde=True)\n",
        "plt.title('% Acertos na Predição de Preços')\n",
        "plt.show()\n",
        "\n",
        "df = pd.concat([houses.Price,prediction],axis=1)\n",
        "df.columns = ['Price', 'PredictedPrice']\n",
        "\n",
        "sns.lmplot('Price','PredictedPrice',data=df,line_kws={'color': 'red'})"
      ],
      "execution_count": null,
      "outputs": [
        {
          "output_type": "stream",
          "text": [
            "Price ~ Rooms+Distance+Postcode+Bedroom2+Bathroom+Car+Landsize+BuildingArea+YearBuilt+Lattitude+Longtitude+Propertycount+Year+Reg_Eastern_Metropolitan+Reg_Eastern_Victoria+Reg_Northern_Metropolitan+Reg_Northern_Victoria+Reg_South_Eastern_Metropolitan+Reg_Southern_Metropolitan+Reg_Western_Metropolitan+Reg_Western_Victoria\n",
            "                            OLS Regression Results                            \n",
            "==============================================================================\n",
            "Dep. Variable:                  Price   R-squared:                       0.626\n",
            "Model:                            OLS   Adj. R-squared:                  0.625\n",
            "Method:                 Least Squares   F-statistic:                     741.3\n",
            "Date:                Wed, 15 Apr 2020   Prob (F-statistic):               0.00\n",
            "Time:                        18:12:47   Log-Likelihood:            -1.2758e+05\n",
            "No. Observations:                8887   AIC:                         2.552e+05\n",
            "Df Residuals:                    8866   BIC:                         2.554e+05\n",
            "Df Model:                          20                                         \n",
            "Covariance Type:            nonrobust                                         \n",
            "==================================================================================================\n",
            "                                     coef    std err          t      P>|t|      [0.025      0.975]\n",
            "--------------------------------------------------------------------------------------------------\n",
            "Intercept                      -1.517e+08   1.65e+07     -9.200      0.000   -1.84e+08   -1.19e+08\n",
            "Rooms                            1.61e+05   1.77e+04      9.112      0.000    1.26e+05    1.96e+05\n",
            "Distance                        -3.58e+04   1074.578    -33.313      0.000   -3.79e+04   -3.37e+04\n",
            "Postcode                         192.8055     55.737      3.459      0.001      83.547     302.064\n",
            "Bedroom2                        1.749e+04   1.76e+04      0.994      0.320    -1.7e+04     5.2e+04\n",
            "Bathroom                        1.736e+05   8690.413     19.980      0.000    1.57e+05    1.91e+05\n",
            "Car                             5.722e+04   5116.810     11.182      0.000    4.72e+04    6.72e+04\n",
            "Landsize                          22.7650      4.281      5.318      0.000      14.374      31.156\n",
            "BuildingArea                    1897.2046     66.510     28.525      0.000    1766.830    2027.580\n",
            "YearBuilt                      -4572.4786    134.512    -33.993      0.000   -4836.154   -4308.803\n",
            "Lattitude                      -3.816e+05   8.11e+04     -4.707      0.000    -5.4e+05   -2.23e+05\n",
            "Longtitude                      3.536e+05    7.4e+04      4.781      0.000    2.09e+05    4.99e+05\n",
            "Propertycount                     -0.0072      1.074     -0.007      0.995      -2.113       2.098\n",
            "Year                            5.635e+04   7221.075      7.803      0.000    4.22e+04    7.05e+04\n",
            "Reg_Eastern_Metropolitan       -1.902e+07   2.07e+06     -9.199      0.000   -2.31e+07    -1.5e+07\n",
            "Reg_Eastern_Victoria           -1.894e+07   2.08e+06     -9.120      0.000    -2.3e+07   -1.49e+07\n",
            "Reg_Northern_Metropolitan      -1.915e+07   2.06e+06     -9.296      0.000   -2.32e+07   -1.51e+07\n",
            "Reg_Northern_Victoria          -1.881e+07   2.05e+06     -9.161      0.000   -2.28e+07   -1.48e+07\n",
            "Reg_South_Eastern_Metropolitan -1.893e+07   2.07e+06     -9.141      0.000    -2.3e+07   -1.49e+07\n",
            "Reg_Southern_Metropolitan      -1.879e+07   2.06e+06     -9.109      0.000   -2.28e+07   -1.47e+07\n",
            "Reg_Western_Metropolitan       -1.917e+07   2.06e+06     -9.327      0.000   -2.32e+07   -1.51e+07\n",
            "Reg_Western_Victoria           -1.885e+07   2.04e+06     -9.231      0.000   -2.28e+07   -1.48e+07\n",
            "==============================================================================\n",
            "Omnibus:                     5906.663   Durbin-Watson:                   1.771\n",
            "Prob(Omnibus):                  0.000   Jarque-Bera (JB):           419583.133\n",
            "Skew:                           2.457   Prob(JB):                         0.00\n",
            "Kurtosis:                      36.301   Cond. No.                     3.53e+19\n",
            "==============================================================================\n",
            "\n",
            "Warnings:\n",
            "[1] Standard Errors assume that the covariance matrix of the errors is correctly specified.\n",
            "[2] The smallest eigenvalue is 6.34e-28. This might indicate that there are\n",
            "strong multicollinearity problems or that the design matrix is singular.\n",
            "Intercept                        -1.516583e+08\n",
            "Rooms                             1.609857e+05\n",
            "Distance                         -3.579778e+04\n",
            "Postcode                          1.928055e+02\n",
            "Bedroom2                          1.749004e+04\n",
            "Bathroom                          1.736353e+05\n",
            "Car                               5.721502e+04\n",
            "Landsize                          2.276501e+01\n",
            "BuildingArea                      1.897205e+03\n",
            "YearBuilt                        -4.572479e+03\n",
            "Lattitude                        -3.815604e+05\n",
            "Longtitude                        3.535958e+05\n",
            "Propertycount                    -7.208861e-03\n",
            "Year                              5.634550e+04\n",
            "Reg_Eastern_Metropolitan         -1.902318e+07\n",
            "Reg_Eastern_Victoria             -1.894161e+07\n",
            "Reg_Northern_Metropolitan        -1.914830e+07\n",
            "Reg_Northern_Victoria            -1.880757e+07\n",
            "Reg_South_Eastern_Metropolitan   -1.893255e+07\n",
            "Reg_Southern_Metropolitan        -1.879171e+07\n",
            "Reg_Western_Metropolitan         -1.916779e+07\n",
            "Reg_Western_Victoria             -1.884563e+07\n",
            "dtype: float64\n"
          ],
          "name": "stdout"
        },
        {
          "output_type": "display_data",
          "data": {
            "image/png": "[encoded data removed]",
            "text/plain": [
              "<Figure size 432x288 with 1 Axes>"
            ]
          },
          "metadata": {
            "tags": [],
            "needs_background": "light"
          }
        },
        {
          "output_type": "execute_result",
          "data": {
            "text/plain": [
              "<seaborn.axisgrid.FacetGrid at 0x7f16d126beb8>"
            ]
          },
          "metadata": {
            "tags": []
          },
          "execution_count": 29
        },
        {
          "output_type": "display_data",
          "data": {
            "image/png": "[encoded data removed]",
            "text/plain": [
              "<Figure size 360x360 with 1 Axes>"
            ]
          },
          "metadata": {
            "tags": [],
            "needs_background": "light"
          }
        }
      ]
    },
    {
      "cell_type": "markdown",
      "metadata": {
        "id": "rCrCQ-vwR5aK"
      },
      "source": [
        "### **Q7.** Altere o código anterior para a estimativa do **log** do preço dos imóveis. Qual o resultado? \n",
        "\n",
        "### DICA:\n",
        "1. Para um modelo linear:\n",
        "\n",
        "```\n",
        "lm = smf.ols(formula = 'np.log(Price) ... ', data = houses).fit()\n",
        "print(lm.summary())\n",
        "print(lm.params)\n",
        "\n",
        "prediction = lm.predict(houses)\n",
        "```\n",
        "\n",
        "2. Ajuste as saídas de `price` para `np.logprice` no código anterior.\n"
      ]
    },
    {
      "cell_type": "code",
      "metadata": {
        "id": "KRWrVWMXR5aN",
        "colab": {
          "base_uri": "https://localhost:8080/",
          "height": 1000
        },
        "outputId": "ebcf5eeb-c4ac-4d4c-8e5b-eb809d711834"
      },
      "source": [
        "# Você...\n",
        "\n",
        "#\n",
        "# Os gráficos abaixo são apenas para apresentar a você a interpretação dos resultados \n",
        "# Você pode querer pular os detalhes do código aqui\n",
        "# \n",
        "sns.distplot((prediction - np.log(houses.Price))/np.log(houses.Price),kde=True)\n",
        "plt.title('% Acertos da Predição de Preços incluindo o Hot Codes')\n",
        "plt.show()\n",
        "\n",
        "df = pd.concat([np.log(houses.Price),prediction],axis=1)\n",
        "df.head()\n",
        "df.columns = ['logPrice', 'PredictedlogPrice']\n",
        "\n",
        "sns.lmplot('logPrice','PredictedlogPrice',data=df,line_kws={'color': 'red'})"
      ],
      "execution_count": null,
      "outputs": [
        {
          "output_type": "stream",
          "text": [
            "np.log(Price) ~ Rooms+Distance+Postcode+Bedroom2+Bathroom+Car+Landsize+BuildingArea+YearBuilt+Lattitude+Longtitude+Propertycount+Year+Reg_Eastern_Metropolitan+Reg_Eastern_Victoria+Reg_Northern_Metropolitan+Reg_Northern_Victoria+Reg_South_Eastern_Metropolitan+Reg_Southern_Metropolitan+Reg_Western_Metropolitan+Reg_Western_Victoria\n",
            "                            OLS Regression Results                            \n",
            "==============================================================================\n",
            "Dep. Variable:          np.log(Price)   R-squared:                       0.700\n",
            "Model:                            OLS   Adj. R-squared:                  0.699\n",
            "Method:                 Least Squares   F-statistic:                     1033.\n",
            "Date:                Wed, 15 Apr 2020   Prob (F-statistic):               0.00\n",
            "Time:                        18:12:48   Log-Likelihood:                -1702.1\n",
            "No. Observations:                8887   AIC:                             3446.\n",
            "Df Residuals:                    8866   BIC:                             3595.\n",
            "Df Model:                          20                                         \n",
            "Covariance Type:            nonrobust                                         \n",
            "==================================================================================================\n",
            "                                     coef    std err          t      P>|t|      [0.025      0.975]\n",
            "--------------------------------------------------------------------------------------------------\n",
            "Intercept                       -185.2935     11.625    -15.939      0.000    -208.081    -162.506\n",
            "Rooms                              0.1683      0.012     13.511      0.000       0.144       0.193\n",
            "Distance                          -0.0305      0.001    -40.305      0.000      -0.032      -0.029\n",
            "Postcode                           0.0002   3.93e-05      3.934      0.000    7.76e-05       0.000\n",
            "Bedroom2                           0.0321      0.012      2.589      0.010       0.008       0.056\n",
            "Bathroom                           0.1020      0.006     16.638      0.000       0.090       0.114\n",
            "Car                                0.0452      0.004     12.519      0.000       0.038       0.052\n",
            "Landsize                        1.747e-05   3.02e-06      5.786      0.000    1.15e-05    2.34e-05\n",
            "BuildingArea                       0.0013   4.69e-05     27.482      0.000       0.001       0.001\n",
            "YearBuilt                         -0.0040   9.49e-05    -41.879      0.000      -0.004      -0.004\n",
            "Lattitude                         -0.6782      0.057    -11.863      0.000      -0.790      -0.566\n",
            "Longtitude                         0.6590      0.052     12.637      0.000       0.557       0.761\n",
            "Propertycount                  -3.243e-06   7.57e-07     -4.281      0.000   -4.73e-06   -1.76e-06\n",
            "Year                               0.0534      0.005     10.485      0.000       0.043       0.063\n",
            "Reg_Eastern_Metropolitan         -23.1622      1.458    -15.884      0.000     -26.021     -20.304\n",
            "Reg_Eastern_Victoria             -23.3014      1.465    -15.910      0.000     -26.172     -20.430\n",
            "Reg_Northern_Metropolitan        -23.2482      1.453    -16.004      0.000     -26.096     -20.401\n",
            "Reg_Northern_Victoria            -22.9688      1.448    -15.866      0.000     -25.807     -20.131\n",
            "Reg_South_Eastern_Metropolitan   -23.1898      1.461    -15.877      0.000     -26.053     -20.327\n",
            "Reg_Southern_Metropolitan        -23.0684      1.455    -15.857      0.000     -25.920     -20.217\n",
            "Reg_Western_Metropolitan         -23.2416      1.449    -16.037      0.000     -26.082     -20.401\n",
            "Reg_Western_Victoria             -23.1132      1.440    -16.056      0.000     -25.935     -20.291\n",
            "==============================================================================\n",
            "Omnibus:                     1532.430   Durbin-Watson:                   1.767\n",
            "Prob(Omnibus):                  0.000   Jarque-Bera (JB):            15880.426\n",
            "Skew:                          -0.514   Prob(JB):                         0.00\n",
            "Kurtosis:                       9.468   Cond. No.                     3.53e+19\n",
            "==============================================================================\n",
            "\n",
            "Warnings:\n",
            "[1] Standard Errors assume that the covariance matrix of the errors is correctly specified.\n",
            "[2] The smallest eigenvalue is 6.34e-28. This might indicate that there are\n",
            "strong multicollinearity problems or that the design matrix is singular.\n",
            "Intercept                        -185.293478\n",
            "Rooms                               0.168327\n",
            "Distance                           -0.030541\n",
            "Postcode                            0.000155\n",
            "Bedroom2                            0.032116\n",
            "Bathroom                            0.101959\n",
            "Car                                 0.045171\n",
            "Landsize                            0.000017\n",
            "BuildingArea                        0.001289\n",
            "YearBuilt                          -0.003972\n",
            "Lattitude                          -0.678170\n",
            "Longtitude                          0.658973\n",
            "Propertycount                      -0.000003\n",
            "Year                                0.053388\n",
            "Reg_Eastern_Metropolitan          -23.162199\n",
            "Reg_Eastern_Victoria              -23.301382\n",
            "Reg_Northern_Metropolitan         -23.248188\n",
            "Reg_Northern_Victoria             -22.968800\n",
            "Reg_South_Eastern_Metropolitan    -23.189767\n",
            "Reg_Southern_Metropolitan         -23.068395\n",
            "Reg_Western_Metropolitan          -23.241573\n",
            "Reg_Western_Victoria              -23.113174\n",
            "dtype: float64\n"
          ],
          "name": "stdout"
        },
        {
          "output_type": "display_data",
          "data": {
            "image/png": "[encoded data removed]",
            "text/plain": [
              "<Figure size 432x288 with 1 Axes>"
            ]
          },
          "metadata": {
            "tags": [],
            "needs_background": "light"
          }
        },
        {
          "output_type": "execute_result",
          "data": {
            "text/plain": [
              "<seaborn.axisgrid.FacetGrid at 0x7f16d113fb70>"
            ]
          },
          "metadata": {
            "tags": []
          },
          "execution_count": 30
        },
        {
          "output_type": "display_data",
          "data": {
            "image/png": "[encoded data removed]",
            "text/plain": [
              "<Figure size 360x360 with 1 Axes>"
            ]
          },
          "metadata": {
            "tags": [],
            "needs_background": "light"
          }
        }
      ]
    },
    {
      "cell_type": "markdown",
      "metadata": {
        "id": "N1-yO3jQJZb5"
      },
      "source": [
        "### **Q8.** Tente você. Acrescente o tipo do imóvel no modelo. \n",
        "\n",
        "DICA:\n",
        "1. Inicie fazendo o Hot Encode de `type` à exemplo de `Regionname`\n",
        "2. Retome então à partir daí "
      ]
    },
    {
      "cell_type": "code",
      "metadata": {
        "id": "palb0RSrBoZi",
        "colab": {
          "base_uri": "https://localhost:8080/",
          "height": 621
        },
        "outputId": "5533be3e-7a2c-4f15-8455-a31296772ab8"
      },
      "source": [
        "# Você... Hot Encode de Type"
      ],
      "execution_count": null,
      "outputs": [
        {
          "output_type": "execute_result",
          "data": {
            "text/plain": [
              "Suburb                                       Abbotsford\n",
              "Address                                 25 Bloomburg St\n",
              "Rooms                                                 2\n",
              "Type                                                  h\n",
              "Price                                         1.035e+06\n",
              "Method                                                S\n",
              "SellerG                                          Biggin\n",
              "Date                                          4/02/2016\n",
              "Distance                                            2.5\n",
              "Postcode                                           3067\n",
              "Bedroom2                                              2\n",
              "Bathroom                                              1\n",
              "Car                                                   0\n",
              "Landsize                                            156\n",
              "BuildingArea                                         79\n",
              "YearBuilt                                          1900\n",
              "CouncilArea                          Yarra City Council\n",
              "Lattitude                                      -37.8079\n",
              "Longtitude                                      144.993\n",
              "Regionname                        Northern Metropolitan\n",
              "Propertycount                                      4019\n",
              "Year                                               2016\n",
              "Reg_Eastern_Metropolitan                              0\n",
              "Reg_Eastern_Victoria                                  0\n",
              "Reg_Northern_Metropolitan                             1\n",
              "Reg_Northern_Victoria                                 0\n",
              "Reg_South_Eastern_Metropolitan                        0\n",
              "Reg_Southern_Metropolitan                             0\n",
              "Reg_Western_Metropolitan                              0\n",
              "Reg_Western_Victoria                                  0\n",
              "Type_h                                                1\n",
              "Type_t                                                0\n",
              "Type_u                                                0\n",
              "Name: 2, dtype: object"
            ]
          },
          "metadata": {
            "tags": []
          },
          "execution_count": 31
        }
      ]
    },
    {
      "cell_type": "code",
      "metadata": {
        "id": "tGqym5LFB4-3",
        "colab": {
          "base_uri": "https://localhost:8080/",
          "height": 1000
        },
        "outputId": "ef12bee1-fb02-4380-f194-b04de517312c"
      },
      "source": [
        "# Você... modelo Linear\n",
        "\n",
        "#\n",
        "# Os gráficos abaixo são apenas para apresentar a você a interpretação dos resultados \n",
        "# Você pode querer pular os detalhes do código aqui\n",
        "# \n",
        "sns.distplot((prediction - np.log(houses.Price))/np.log(houses.Price),kde=True)\n",
        "plt.title('% Acertos da Predição de Preços incluindo o Hot Codes')\n",
        "plt.show()\n",
        "\n",
        "df = pd.concat([np.log(houses.Price),prediction],axis=1)\n",
        "df.head()\n",
        "df.columns = ['logPrice', 'PredictedlogPrice']\n",
        "\n",
        "sns.lmplot('logPrice','PredictedlogPrice',data=df,line_kws={'color': 'red'})"
      ],
      "execution_count": null,
      "outputs": [
        {
          "output_type": "stream",
          "text": [
            "np.log(Price) ~ Rooms+Distance+Postcode+Bedroom2+Bathroom+Car+Landsize+BuildingArea+YearBuilt+Lattitude+Longtitude+Propertycount+Year+Reg_Eastern_Metropolitan+Reg_Eastern_Victoria+Reg_Northern_Metropolitan+Reg_Northern_Victoria+Reg_South_Eastern_Metropolitan+Reg_Southern_Metropolitan+Reg_Western_Metropolitan+Reg_Western_Victoria+Type_h+Type_t+Type_u\n",
            "                            OLS Regression Results                            \n",
            "==============================================================================\n",
            "Dep. Variable:          np.log(Price)   R-squared:                       0.763\n",
            "Model:                            OLS   Adj. R-squared:                  0.763\n",
            "Method:                 Least Squares   F-statistic:                     1298.\n",
            "Date:                Wed, 15 Apr 2020   Prob (F-statistic):               0.00\n",
            "Time:                        18:12:49   Log-Likelihood:                -648.12\n",
            "No. Observations:                8887   AIC:                             1342.\n",
            "Df Residuals:                    8864   BIC:                             1505.\n",
            "Df Model:                          22                                         \n",
            "Covariance Type:            nonrobust                                         \n",
            "==================================================================================================\n",
            "                                     coef    std err          t      P>|t|      [0.025      0.975]\n",
            "--------------------------------------------------------------------------------------------------\n",
            "Intercept                       -123.5076      7.976    -15.485      0.000    -139.142    -107.873\n",
            "Rooms                              0.1100      0.011      9.881      0.000       0.088       0.132\n",
            "Distance                          -0.0370      0.001    -53.800      0.000      -0.038      -0.036\n",
            "Postcode                           0.0002   3.49e-05      5.957      0.000       0.000       0.000\n",
            "Bedroom2                           0.0142      0.011      1.291      0.197      -0.007       0.036\n",
            "Bathroom                           0.1015      0.005     18.573      0.000       0.091       0.112\n",
            "Car                                0.0342      0.003     10.625      0.000       0.028       0.040\n",
            "Landsize                        2.358e-05   2.69e-06      8.773      0.000    1.83e-05    2.89e-05\n",
            "BuildingArea                       0.0011    4.2e-05     25.013      0.000       0.001       0.001\n",
            "YearBuilt                         -0.0023   9.55e-05    -23.912      0.000      -0.002      -0.002\n",
            "Lattitude                         -0.7729      0.051    -15.181      0.000      -0.873      -0.673\n",
            "Longtitude                         0.6753      0.046     14.576      0.000       0.584       0.766\n",
            "Propertycount                  -1.284e-06   6.74e-07     -1.904      0.057   -2.61e-06     3.8e-08\n",
            "Year                               0.0348      0.005      7.660      0.000       0.026       0.044\n",
            "Reg_Eastern_Metropolitan         -15.4545      1.002    -15.431      0.000     -17.418     -13.491\n",
            "Reg_Eastern_Victoria             -15.5641      1.007    -15.451      0.000     -17.539     -13.589\n",
            "Reg_Northern_Metropolitan        -15.5686      0.997    -15.623      0.000     -17.522     -13.615\n",
            "Reg_Northern_Victoria            -15.2163      0.992    -15.334      0.000     -17.162     -13.271\n",
            "Reg_South_Eastern_Metropolitan   -15.4695      1.004    -15.413      0.000     -17.437     -13.502\n",
            "Reg_Southern_Metropolitan        -15.3308      0.998    -15.354      0.000     -17.288     -13.374\n",
            "Reg_Western_Metropolitan         -15.5612      0.994    -15.663      0.000     -17.509     -13.614\n",
            "Reg_Western_Victoria             -15.3426      0.985    -15.573      0.000     -17.274     -13.411\n",
            "Type_h                           -40.9601      2.659    -15.405      0.000     -46.172     -35.748\n",
            "Type_t                           -41.1005      2.659    -15.458      0.000     -46.312     -35.889\n",
            "Type_u                           -41.4469      2.658    -15.591      0.000     -46.658     -36.236\n",
            "==============================================================================\n",
            "Omnibus:                     1034.906   Durbin-Watson:                   1.697\n",
            "Prob(Omnibus):                  0.000   Jarque-Bera (JB):             9799.597\n",
            "Skew:                          -0.153   Prob(JB):                         0.00\n",
            "Kurtosis:                       8.135   Cond. No.                     7.22e+19\n",
            "==============================================================================\n",
            "\n",
            "Warnings:\n",
            "[1] Standard Errors assume that the covariance matrix of the errors is correctly specified.\n",
            "[2] The smallest eigenvalue is 1.52e-28. This might indicate that there are\n",
            "strong multicollinearity problems or that the design matrix is singular.\n",
            "Intercept                        -123.507553\n",
            "Rooms                               0.109992\n",
            "Distance                           -0.037019\n",
            "Postcode                            0.000208\n",
            "Bedroom2                            0.014237\n",
            "Bathroom                            0.101502\n",
            "Car                                 0.034170\n",
            "Landsize                            0.000024\n",
            "BuildingArea                        0.001051\n",
            "YearBuilt                          -0.002284\n",
            "Lattitude                          -0.772919\n",
            "Longtitude                          0.675319\n",
            "Propertycount                      -0.000001\n",
            "Year                                0.034781\n",
            "Reg_Eastern_Metropolitan          -15.454527\n",
            "Reg_Eastern_Victoria              -15.564070\n",
            "Reg_Northern_Metropolitan         -15.568551\n",
            "Reg_Northern_Victoria             -15.216346\n",
            "Reg_South_Eastern_Metropolitan    -15.469481\n",
            "Reg_Southern_Metropolitan         -15.330773\n",
            "Reg_Western_Metropolitan          -15.561182\n",
            "Reg_Western_Victoria              -15.342623\n",
            "Type_h                            -40.960074\n",
            "Type_t                            -41.100534\n",
            "Type_u                            -41.446945\n",
            "dtype: float64\n"
          ],
          "name": "stdout"
        },
        {
          "output_type": "display_data",
          "data": {
            "image/png": "[encoded data removed]",
            "text/plain": [
              "<Figure size 432x288 with 1 Axes>"
            ]
          },
          "metadata": {
            "tags": [],
            "needs_background": "light"
          }
        },
        {
          "output_type": "execute_result",
          "data": {
            "text/plain": [
              "<seaborn.axisgrid.FacetGrid at 0x7f16d10b2198>"
            ]
          },
          "metadata": {
            "tags": []
          },
          "execution_count": 32
        },
        {
          "output_type": "display_data",
          "data": {
            "image/png": "[encoded data removed]",
            "text/plain": [
              "<Figure size 360x360 with 1 Axes>"
            ]
          },
          "metadata": {
            "tags": [],
            "needs_background": "light"
          }
        }
      ]
    },
    {
      "cell_type": "markdown",
      "metadata": {
        "id": "-oHM7MnsDuSR"
      },
      "source": [
        "### Conclusão dos Modelos Lineares\n",
        "\n",
        "> `Price ~ Rooms + BuildingArea` R-Square **0.30**\n",
        "\n",
        "> `+ Hot Encode(Regionname) + Numeric Attr` R-Square **0.62**\n",
        "\n",
        "> `+ log(Price)` R-Square **0.70**\n",
        "\n",
        "> `+ Hot Encode(Type)` R-Square **0.76**\n",
        "\n",
        "\n"
      ]
    },
    {
      "cell_type": "markdown",
      "metadata": {
        "id": "EtxETA9xASQw"
      },
      "source": [
        "### **Q9**. Elimine ou comente a célula que executa o `dropna()` e reexecute o notebook. O processamento será feito então com a estratégia de se imputar todos os dados nulos. Como os resultados diferem da análise com os dados nulos excluídos? O modelo obtido é mais ou menos linear? "
      ]
    },
    {
      "cell_type": "markdown",
      "metadata": {
        "id": "tef42hPXA-Gn"
      },
      "source": [
        "Veja o `R-Square` e `sns.lmplot()` produzidos no último modelo e verifique que o modelo é bem menos linear que o anterior."
      ]
    }
  ]
}