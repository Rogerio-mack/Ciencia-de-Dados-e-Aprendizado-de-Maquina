{
  "nbformat": 4,
  "nbformat_minor": 0,
  "metadata": {
    "colab": {
      "name": "ACD_T3_Testes_de_Hipoteses_Lab.ipynb",
      "provenance": [],
      "collapsed_sections": [],
      "toc_visible": true,
      "include_colab_link": true
    },
    "kernelspec": {
      "name": "python3",
      "display_name": "Python 3"
    }
  },
  "cells": [
    {
      "cell_type": "markdown",
      "metadata": {
        "id": "view-in-github",
        "colab_type": "text"
      },
      "source": [
        "<a href=\"https://colab.research.google.com/github/Rogerio-mack/Ciencia-de-Dados-e-Aprendizado-de-Maquina/blob/main/ACD_T3_Testes_de_Hipoteses_Lab.ipynb\" target=\"_parent\"><img src=\"https://colab.research.google.com/assets/colab-badge.svg\" alt=\"Open In Colab\"/></a>"
      ]
    },
    {
      "cell_type": "markdown",
      "metadata": {
        "id": "ul6GaBDBDLCf"
      },
      "source": [
        "<head>\n",
        "  <meta name=\"author\" content=\"Rogério de Oliveira\">\n",
        "  <meta institution=\"author\" content=\"Universidade Presbiteriana Mackenzie\">\n",
        "</head>\n",
        "\n",
        "<img src=\"http://meusite.mackenzie.br/rogerio/mackenzie_logo/UPM.2_horizontal_vermelho.jpg\" width=300, align=\"right\"></a>\n",
        "<!-- <h1 align=left><font size = 6, style=\"color:rgb(200,0,0)\"> optional title </font></h1> -->"
      ]
    },
    {
      "cell_type": "markdown",
      "metadata": {
        "id": "gF2l_2mJDLCy"
      },
      "source": [
        "# Testes de Hipóteses (Lab)"
      ]
    },
    {
      "cell_type": "markdown",
      "metadata": {
        "_uuid": "9dd9e07c590ca22f0c525222f60f0ebff4e092c6",
        "id": "nth-ibybDLCy"
      },
      "source": [
        "# Caso: **Mais do Mercado de Imóveis de Melbourne** \n",
        "\n",
        "**O Mercado de Imóveis de Melbourne ficou \"*esfriou*\" em 2018, com preços significativamente menores que no ano anterior?** \n",
        "\n",
        "Empregue os dados da URL: http://meusite.mackenzie.br/rogerio/TIC/Melbourne_housing_FULL.csv\n",
        "\n"
      ]
    },
    {
      "cell_type": "markdown",
      "metadata": {
        "_uuid": "9dd9e07c590ca22f0c525222f60f0ebff4e092c6",
        "id": "x_Np_zhHDLCz"
      },
      "source": [
        "# **Exercício 0.** Imports e Acesso aos Dados\n",
        "\n",
        "Aqui você deve **importar as bibliotecas das ferramentas** que você pretende empregar na sua EDA. A seguir você deve fazer a aquisição dos dados. Lembre-se de verificar a origem dos dados para empregar as funções e parâmetros corretos de leitura dos dados (**extensão do arquivo, headers, separador**).\n",
        "\n",
        "\n"
      ]
    },
    {
      "cell_type": "code",
      "metadata": {
        "id": "E3YXxh3mDLCz"
      },
      "source": [
        "# seu código\n"
      ],
      "execution_count": null,
      "outputs": []
    },
    {
      "cell_type": "code",
      "metadata": {
        "id": "UMBgBXElDLCz"
      },
      "source": [
        "# seu código\n"
      ],
      "execution_count": null,
      "outputs": []
    },
    {
      "cell_type": "markdown",
      "metadata": {
        "id": "OkXXeFh9DLCz"
      },
      "source": [
        "# **Exercício 1.** Revistando os Valores Nulos (**RESOLVIDO**)\n",
        "\n",
        "Antes de seguirmos vamos revisitar o tratamento de nulos. lembra-se de nossa análise no Lab T5. Nossa estratégia de imputar os valores, embora adequada para aquele momento, não foi uma solução tão boa. Recorda a alternativa discutida?"
      ]
    },
    {
      "cell_type": "code",
      "metadata": {
        "colab": {
          "base_uri": "https://localhost:8080/",
          "height": 708
        },
        "id": "-YOf7xrhDLCz",
        "outputId": "c1ffe877-203c-4bb9-df33-1a1a1cf5eb16"
      },
      "source": [
        "print(houses.isnull().sum()) \n",
        "pr = pd.DataFrame(houses.Price.dropna())\n",
        "houses.Price = houses.Price.fillna(houses.Price.mean())\n",
        "\n",
        "sns.distplot(pr)\n",
        "sns.distplot(houses.Price)"
      ],
      "execution_count": null,
      "outputs": [
        {
          "output_type": "stream",
          "text": [
            "Suburb               0\n",
            "Address              0\n",
            "Rooms                0\n",
            "Type                 0\n",
            "Price             7610\n",
            "Method               0\n",
            "SellerG              0\n",
            "Date                 0\n",
            "Distance             1\n",
            "Postcode             1\n",
            "Bedroom2          8217\n",
            "Bathroom          8226\n",
            "Car               8728\n",
            "Landsize         11810\n",
            "BuildingArea     21115\n",
            "YearBuilt        19306\n",
            "CouncilArea          3\n",
            "Lattitude         7976\n",
            "Longtitude        7976\n",
            "Regionname           3\n",
            "Propertycount        3\n",
            "dtype: int64\n"
          ],
          "name": "stdout"
        },
        {
          "output_type": "execute_result",
          "data": {
            "text/plain": [
              "<matplotlib.axes._subplots.AxesSubplot at 0x7fdca2edc3d0>"
            ]
          },
          "metadata": {},
          "execution_count": 21
        },
        {
          "output_type": "display_data",
          "data": {
            "image/png": "[encoded data removed]",
            "text/plain": [
              "<Figure size 432x288 with 1 Axes>"
            ]
          },
          "metadata": {
            "needs_background": "light"
          }
        }
      ]
    },
    {
      "cell_type": "markdown",
      "metadata": {
        "id": "yT6evLPwDLC0"
      },
      "source": [
        "## Imputando dados com a mesma distribuição\n",
        "\n",
        "O código aqui é talvez um pouco complexo. Fique a vontade de pular o detalhe do código. Ele não tem maior importância no que segue mas, **concentre-se no conceito e resultado que ele produz**. O mesmo preenchimento é feito para todos os dados nulos.\n",
        "\n"
      ]
    },
    {
      "cell_type": "code",
      "metadata": {
        "colab": {
          "base_uri": "https://localhost:8080/",
          "height": 690
        },
        "id": "T_WHPpKtDLC0",
        "outputId": "9957e708-8d2c-4a54-aee6-538b9cbc29f5"
      },
      "source": [
        "houses = pd.read_csv('http://meusite.mackenzie.br/rogerio/TIC/Melbourne_housing_FULL.csv')\n",
        "\n",
        "def filldist(df,col):\n",
        "    v = pd.DataFrame(df[col].dropna()).reset_index()\n",
        "    df[col] = df[col].fillna(-1)\n",
        "    df[col] = df[col].apply(lambda x: (v.iloc[np.random.randint(len(v))][col]) if x==-1 else x)\n",
        "    return df[col].isnull().sum()\n",
        "\n",
        "filldist(houses,'Price')\n",
        "\n",
        "sns.distplot(pr)\n",
        "sns.distplot(houses.Price)\n",
        "\n",
        "s = houses.isnull().sum()\n",
        "for i in s.index:\n",
        "    if s[i]!=0:\n",
        "        filldist(houses,i)\n",
        "\n",
        "houses.isnull().sum()        "
      ],
      "execution_count": null,
      "outputs": [
        {
          "output_type": "execute_result",
          "data": {
            "text/plain": [
              "Suburb           0\n",
              "Address          0\n",
              "Rooms            0\n",
              "Type             0\n",
              "Price            0\n",
              "Method           0\n",
              "SellerG          0\n",
              "Date             0\n",
              "Distance         0\n",
              "Postcode         0\n",
              "Bedroom2         0\n",
              "Bathroom         0\n",
              "Car              0\n",
              "Landsize         0\n",
              "BuildingArea     0\n",
              "YearBuilt        0\n",
              "CouncilArea      0\n",
              "Lattitude        0\n",
              "Longtitude       0\n",
              "Regionname       0\n",
              "Propertycount    0\n",
              "dtype: int64"
            ]
          },
          "metadata": {},
          "execution_count": 22
        },
        {
          "output_type": "display_data",
          "data": {
            "image/png": "[encoded data removed]",
            "text/plain": [
              "<Figure size 432x288 with 1 Axes>"
            ]
          },
          "metadata": {
            "needs_background": "light"
          }
        }
      ]
    },
    {
      "cell_type": "markdown",
      "metadata": {
        "id": "JepGzPDqDLC0"
      },
      "source": [
        "De qualquer modo essa estratégia, embora não apresente qualquer distorção na distribuição dos dados, ainda pode introduzir viés na análise dos dados, sendo sempre um risco a introdução artificial dos dados e, tanto maior quanto maior o número de dados introduzidos.\n",
        "\n",
        "Assim para análise à seguir adotaremos a estratégia de simples exclusão dos dados nulos.  "
      ]
    },
    {
      "cell_type": "markdown",
      "metadata": {
        "id": "MCw63xUcDLC0"
      },
      "source": [
        "Vamos então retomar os dados originais para análise e resposta às perguntas do caso."
      ]
    },
    {
      "cell_type": "code",
      "metadata": {
        "colab": {
          "base_uri": "https://localhost:8080/",
          "height": 329
        },
        "id": "hfmHJnR8DLC0",
        "outputId": "a416952e-7e57-4d05-a74e-ac9cda41130b"
      },
      "source": [
        "houses = pd.read_csv('http://meusite.mackenzie.br/rogerio/TIC/Melbourne_housing_FULL.csv')\n",
        "\n",
        "houses = houses.dropna()\n",
        "houses.head()"
      ],
      "execution_count": null,
      "outputs": [
        {
          "output_type": "execute_result",
          "data": {
            "text/html": [
              "<div>\n",
              "<style scoped>\n",
              "    .dataframe tbody tr th:only-of-type {\n",
              "        vertical-align: middle;\n",
              "    }\n",
              "\n",
              "    .dataframe tbody tr th {\n",
              "        vertical-align: top;\n",
              "    }\n",
              "\n",
              "    .dataframe thead th {\n",
              "        text-align: right;\n",
              "    }\n",
              "</style>\n",
              "<table border=\"1\" class=\"dataframe\">\n",
              "  <thead>\n",
              "    <tr style=\"text-align: right;\">\n",
              "      <th></th>\n",
              "      <th>Suburb</th>\n",
              "      <th>Address</th>\n",
              "      <th>Rooms</th>\n",
              "      <th>Type</th>\n",
              "      <th>Price</th>\n",
              "      <th>Method</th>\n",
              "      <th>SellerG</th>\n",
              "      <th>Date</th>\n",
              "      <th>Distance</th>\n",
              "      <th>Postcode</th>\n",
              "      <th>Bedroom2</th>\n",
              "      <th>Bathroom</th>\n",
              "      <th>Car</th>\n",
              "      <th>Landsize</th>\n",
              "      <th>BuildingArea</th>\n",
              "      <th>YearBuilt</th>\n",
              "      <th>CouncilArea</th>\n",
              "      <th>Lattitude</th>\n",
              "      <th>Longtitude</th>\n",
              "      <th>Regionname</th>\n",
              "      <th>Propertycount</th>\n",
              "    </tr>\n",
              "  </thead>\n",
              "  <tbody>\n",
              "    <tr>\n",
              "      <th>2</th>\n",
              "      <td>Abbotsford</td>\n",
              "      <td>25 Bloomburg St</td>\n",
              "      <td>2</td>\n",
              "      <td>h</td>\n",
              "      <td>1035000.0</td>\n",
              "      <td>S</td>\n",
              "      <td>Biggin</td>\n",
              "      <td>4/02/2016</td>\n",
              "      <td>2.5</td>\n",
              "      <td>3067.0</td>\n",
              "      <td>2.0</td>\n",
              "      <td>1.0</td>\n",
              "      <td>0.0</td>\n",
              "      <td>156.0</td>\n",
              "      <td>79.0</td>\n",
              "      <td>1900.0</td>\n",
              "      <td>Yarra City Council</td>\n",
              "      <td>-37.8079</td>\n",
              "      <td>144.9934</td>\n",
              "      <td>Northern Metropolitan</td>\n",
              "      <td>4019.0</td>\n",
              "    </tr>\n",
              "    <tr>\n",
              "      <th>4</th>\n",
              "      <td>Abbotsford</td>\n",
              "      <td>5 Charles St</td>\n",
              "      <td>3</td>\n",
              "      <td>h</td>\n",
              "      <td>1465000.0</td>\n",
              "      <td>SP</td>\n",
              "      <td>Biggin</td>\n",
              "      <td>4/03/2017</td>\n",
              "      <td>2.5</td>\n",
              "      <td>3067.0</td>\n",
              "      <td>3.0</td>\n",
              "      <td>2.0</td>\n",
              "      <td>0.0</td>\n",
              "      <td>134.0</td>\n",
              "      <td>150.0</td>\n",
              "      <td>1900.0</td>\n",
              "      <td>Yarra City Council</td>\n",
              "      <td>-37.8093</td>\n",
              "      <td>144.9944</td>\n",
              "      <td>Northern Metropolitan</td>\n",
              "      <td>4019.0</td>\n",
              "    </tr>\n",
              "    <tr>\n",
              "      <th>6</th>\n",
              "      <td>Abbotsford</td>\n",
              "      <td>55a Park St</td>\n",
              "      <td>4</td>\n",
              "      <td>h</td>\n",
              "      <td>1600000.0</td>\n",
              "      <td>VB</td>\n",
              "      <td>Nelson</td>\n",
              "      <td>4/06/2016</td>\n",
              "      <td>2.5</td>\n",
              "      <td>3067.0</td>\n",
              "      <td>3.0</td>\n",
              "      <td>1.0</td>\n",
              "      <td>2.0</td>\n",
              "      <td>120.0</td>\n",
              "      <td>142.0</td>\n",
              "      <td>2014.0</td>\n",
              "      <td>Yarra City Council</td>\n",
              "      <td>-37.8072</td>\n",
              "      <td>144.9941</td>\n",
              "      <td>Northern Metropolitan</td>\n",
              "      <td>4019.0</td>\n",
              "    </tr>\n",
              "    <tr>\n",
              "      <th>11</th>\n",
              "      <td>Abbotsford</td>\n",
              "      <td>124 Yarra St</td>\n",
              "      <td>3</td>\n",
              "      <td>h</td>\n",
              "      <td>1876000.0</td>\n",
              "      <td>S</td>\n",
              "      <td>Nelson</td>\n",
              "      <td>7/05/2016</td>\n",
              "      <td>2.5</td>\n",
              "      <td>3067.0</td>\n",
              "      <td>4.0</td>\n",
              "      <td>2.0</td>\n",
              "      <td>0.0</td>\n",
              "      <td>245.0</td>\n",
              "      <td>210.0</td>\n",
              "      <td>1910.0</td>\n",
              "      <td>Yarra City Council</td>\n",
              "      <td>-37.8024</td>\n",
              "      <td>144.9993</td>\n",
              "      <td>Northern Metropolitan</td>\n",
              "      <td>4019.0</td>\n",
              "    </tr>\n",
              "    <tr>\n",
              "      <th>14</th>\n",
              "      <td>Abbotsford</td>\n",
              "      <td>98 Charles St</td>\n",
              "      <td>2</td>\n",
              "      <td>h</td>\n",
              "      <td>1636000.0</td>\n",
              "      <td>S</td>\n",
              "      <td>Nelson</td>\n",
              "      <td>8/10/2016</td>\n",
              "      <td>2.5</td>\n",
              "      <td>3067.0</td>\n",
              "      <td>2.0</td>\n",
              "      <td>1.0</td>\n",
              "      <td>2.0</td>\n",
              "      <td>256.0</td>\n",
              "      <td>107.0</td>\n",
              "      <td>1890.0</td>\n",
              "      <td>Yarra City Council</td>\n",
              "      <td>-37.8060</td>\n",
              "      <td>144.9954</td>\n",
              "      <td>Northern Metropolitan</td>\n",
              "      <td>4019.0</td>\n",
              "    </tr>\n",
              "  </tbody>\n",
              "</table>\n",
              "</div>"
            ],
            "text/plain": [
              "        Suburb          Address  ...             Regionname Propertycount\n",
              "2   Abbotsford  25 Bloomburg St  ...  Northern Metropolitan        4019.0\n",
              "4   Abbotsford     5 Charles St  ...  Northern Metropolitan        4019.0\n",
              "6   Abbotsford      55a Park St  ...  Northern Metropolitan        4019.0\n",
              "11  Abbotsford     124 Yarra St  ...  Northern Metropolitan        4019.0\n",
              "14  Abbotsford    98 Charles St  ...  Northern Metropolitan        4019.0\n",
              "\n",
              "[5 rows x 21 columns]"
            ]
          },
          "metadata": {},
          "execution_count": 23
        }
      ]
    },
    {
      "cell_type": "markdown",
      "metadata": {
        "id": "hdQx8V-iDLC0"
      },
      "source": [
        "# **Exercício 2.** Qual a média de preços dos imóveis por ano? \n",
        "\n",
        "### DICA:\n",
        "1. Empregue `pd.DatetimeIndex(houses.Date).year` para criar um atributo com o ano.\n",
        "2. Empregue então `df.groupby(attr).attr.mean()` \n"
      ]
    },
    {
      "cell_type": "code",
      "metadata": {
        "id": "TDzLbjp6DLC0"
      },
      "source": [
        "# seu código\n",
        "\n"
      ],
      "execution_count": null,
      "outputs": []
    },
    {
      "cell_type": "markdown",
      "metadata": {
        "id": "vg66m3ByDLC1"
      },
      "source": [
        "# **Exercício 3.** Alterou-se a distribuição de preços de um ano para o outro? \n",
        "\n",
        "### DICA:\n",
        "1. Empregue `sns.distplot(x)`, sendo x a seleção de dados de Preço para um único ano\n",
        "2. Você pode fazer `sns.displot()` seguidos para sobrepor os gráficos em uma mesma exibição\n"
      ]
    },
    {
      "cell_type": "code",
      "metadata": {
        "id": "CU5QWjsnDLC1"
      },
      "source": [
        "# seu código\n"
      ],
      "execution_count": null,
      "outputs": []
    },
    {
      "cell_type": "markdown",
      "metadata": {
        "id": "zp41QlC5DLC1"
      },
      "source": [
        "# **Exercício 4.** Qual o % de diferença da média de Preços 2017/2018? A diferença é significativa? \n",
        "\n",
        "### DICA:\n",
        "1. Faça um teste de hipótese, sintaxe\n",
        "\n",
        "`s, p = stats.ttest_ind( serie1 , serie2 , equal_var=False)`\n",
        "\n",
        "onde `serie1` e `serie2` são as séries que você deseja comparar.\n",
        "\n",
        "2. Para valor `p < 0.05` rejeite a Hipótese Nula (médias iguais).\n"
      ]
    },
    {
      "cell_type": "code",
      "metadata": {
        "id": "c0duPeGoDLC1"
      },
      "source": [
        "# seu código"
      ],
      "execution_count": null,
      "outputs": []
    },
    {
      "cell_type": "code",
      "metadata": {
        "id": "RfIGGYqgDLC1"
      },
      "source": [
        "# seu código"
      ],
      "execution_count": null,
      "outputs": []
    },
    {
      "cell_type": "markdown",
      "metadata": {
        "id": "wAtxGbMTDLC2"
      },
      "source": [
        "# **Exercício 5.** Teste de Hipóteses\n",
        "\n",
        "Você quer vender um imóvel em Melbourne e acredita que vendas no método 'PI' ('passed in') - digamos, com o uso de um intermediador - não tem qualquer vantagem sobre o método 'S' ('sold') - digamos, venda direta - em termos de preço e que, portanto você estaria perdendo tempo e dinheiro buscando a venda por um intermediário (digamos, corretor). Você estaria correto? \n",
        "\n",
        "### DICA:\n",
        "1. Faça um teste de hipótese, sintaxe\n",
        "\n",
        "`s, p = stats.ttest_ind( serie1 , serie2 , equal_var=False)`\n",
        "\n",
        "onde `serie1` e `serie2` são as séries que você deseja comparar.\n",
        "\n",
        "2. Para valor `p < 0.05` rejeite a Hipótese Nula (médias iguais).\n"
      ]
    },
    {
      "cell_type": "code",
      "metadata": {
        "id": "z0PL3qw4DLC2"
      },
      "source": [
        "# seu código\n",
        "   "
      ],
      "execution_count": null,
      "outputs": []
    },
    {
      "cell_type": "markdown",
      "metadata": {
        "id": "Qs5fxkNtf90N"
      },
      "source": [
        "# Caso: **`Teste A/B` Udacity, Redução de Cancelamentos pela Alteração do Site**\n",
        "\n",
        "O Teste A/B visa comparar a efetividade de um experimento ou mudança e tem grande aplicação desde testes clínicos a avaliações de e-commerce. \n",
        "\n",
        "Vamos verificar de modo bastante resumido o caso real do site **Udacity**. \n",
        "\n",
        "**Condição Inicial**. As páginas iniciais do curso Udacity têm duas opções: \"iniciar teste gratuito\" e \"acessar materiais do curso\". Clicar em \"Iniciar avaliação gratuita\" solicita que o usuário insira as informações do cartão de crédito, subseqüentemente, inscrevendo-as em uma avaliação gratuita de 14 dias do curso, após o que são cobradas automaticamente. Os usuários que clicarem em \"acessar materiais do curso\" poderão visualizar o conteúdo do curso, mas não receberão suporte de treinamento, certificado verificado ou feedback do projeto.\n",
        "\n",
        "**Mudança**. A Udacity testou uma mudança na qual os usuários que clicaram em \"iniciar a avaliação gratuita\" eram questionados sobre quanto tempo estavam dispostos a dedicar ao curso. Os usuários que escolherem 5 ou mais horas por semana serão submetidos ao processo de check-out, como de costume. Para usuários que indicam menos de 5 horas por semana, uma mensagem seria exibida indicando a necessidade de um compromisso maior de tempo para permitir o sucesso no curso e sugerindo para eles acessarem o conteúdo gratuito. Nesse ponto, o aluno teria a opção de continuar se matriculando na avaliação gratuita ou acessar os materiais do curso gratuitamente.\n",
        "\n",
        "**Ojetivo**. Aumentar a efetividade dos alunos inscritos no teste gratuíto permitindo a empresa focar seus esforços nesses alunos.\n",
        "\n",
        "\n",
        "**Desenho do Experimento**.\n",
        "\n",
        "> **Métricas**\n",
        "\n",
        ">> Invariant Metrics (controle): number of cookies, number of clicks, click-through-probability\n",
        "\n",
        ">> Evaluation Metrics (objetivo): gross conversion, net conversion"
      ]
    },
    {
      "cell_type": "markdown",
      "metadata": {
        "id": "PAOLHZw3342D"
      },
      "source": [
        "# **Exercício 6.** Aquisição e Preparação dos Dados (**RESOLVIDO**)\n",
        "\n",
        "Você pode pular os detalhes se quiser e focar na avaliação dos resultados."
      ]
    },
    {
      "cell_type": "code",
      "metadata": {
        "id": "9ije3_DR3lKO",
        "colab": {
          "base_uri": "https://localhost:8080/"
        },
        "outputId": "23187c96-03a2-4e60-a83c-cccf45fb28ca"
      },
      "source": [
        "path = 'http://meusite.mackenzie.br/rogerio/TIC/udacity_ABTesting-master/data/'\n",
        "df_control = pd.read_csv(path + \"Control.csv\")\n",
        "df_experiment = pd.read_csv(path+ \"Experiment.csv\")\n",
        "\n",
        "df_control.describe() \n",
        "df_experiment.describe()\n",
        "\n",
        "df_control_notnull = df_control[pd.isnull(df_control.Enrollments) != True]\n",
        "df_experiment_notnull = df_experiment[pd.isnull(df_control.Enrollments) != True]\n",
        "\n",
        "df_SignTest = pd.merge(df_control_notnull,df_experiment_notnull,on=\"Date\")\n",
        "df_SignTest['GrossConversion_cont'] = df_SignTest.Enrollments_x/df_SignTest.Clicks_x\n",
        "df_SignTest['GrossConversion_exp'] = df_SignTest.Enrollments_y/df_SignTest.Clicks_y\n",
        "df_SignTest['NetConversion_cont'] = df_SignTest.Payments_x/df_SignTest.Clicks_x\n",
        "df_SignTest['NetConversion_exp'] = df_SignTest.Payments_y/df_SignTest.Clicks_y\n",
        "\n",
        "cols = ['Date','GrossConversion_cont','GrossConversion_exp','NetConversion_cont','NetConversion_exp']\n",
        "\n",
        "df_SignTest = df_SignTest[cols]\n",
        "# df_SignTest.describe()\n",
        "\n",
        "print(df_SignTest)\n",
        "print('NetConversion controle......: {:.2f} %'.format(df_SignTest.NetConversion_cont.mean()*100))\n",
        "print('NetConversion experimento...: {:.2f} %'.format(df_SignTest.NetConversion_exp.mean()*100))\n",
        "\n",
        "print('GrossCoversion controle.....: {:.2f} %'.format(df_SignTest.GrossConversion_cont.mean()*100))\n",
        "print('GrossConversion experimento.: {:.2f} %'.format(df_SignTest.GrossConversion_exp.mean()*100))\n",
        "\n"
      ],
      "execution_count": null,
      "outputs": [
        {
          "output_type": "stream",
          "text": [
            "           Date  GrossConversion_cont  ...  NetConversion_cont  NetConversion_exp\n",
            "0   Sat, Oct 11              0.195051  ...            0.101892           0.049563\n",
            "1   Sun, Oct 12              0.188703  ...            0.089859           0.115924\n",
            "2   Mon, Oct 13              0.183718  ...            0.104510           0.089367\n",
            "3   Tue, Oct 14              0.186603  ...            0.125598           0.111245\n",
            "4   Wed, Oct 15              0.194743  ...            0.076464           0.112981\n",
            "5   Thu, Oct 16              0.167679  ...            0.099635           0.077411\n",
            "6   Fri, Oct 17              0.195187  ...            0.101604           0.056410\n",
            "7   Sat, Oct 18              0.174051  ...            0.110759           0.095092\n",
            "8   Sun, Oct 19              0.189580  ...            0.086831           0.110473\n",
            "9   Mon, Oct 20              0.191638  ...            0.112660           0.113953\n",
            "10  Tue, Oct 21              0.226067  ...            0.121107           0.082176\n",
            "11  Wed, Oct 22              0.193317  ...            0.109785           0.087391\n",
            "12  Thu, Oct 23              0.190977  ...            0.084211           0.105919\n",
            "13  Fri, Oct 24              0.326895  ...            0.181278           0.134864\n",
            "14  Sat, Oct 25              0.254703  ...            0.185239           0.121076\n",
            "15  Sun, Oct 26              0.227401  ...            0.146893           0.145743\n",
            "16  Mon, Oct 27              0.306983  ...            0.163373           0.154345\n",
            "17  Tue, Oct 28              0.209239  ...            0.123641           0.163043\n",
            "18  Wed, Oct 29              0.265223  ...            0.116373           0.132050\n",
            "19  Thu, Oct 30              0.227520  ...            0.102180           0.092033\n",
            "20  Fri, Oct 31              0.246459  ...            0.143059           0.170360\n",
            "21   Sat, Nov 1              0.229075  ...            0.136564           0.143885\n",
            "22   Sun, Nov 2              0.297258  ...            0.096681           0.142265\n",
            "\n",
            "[23 rows x 5 columns]\n",
            "NetConversion controle......: 11.83 %\n",
            "NetConversion experimento...: 11.34 %\n",
            "GrossCoversion controle.....: 22.04 %\n",
            "GrossConversion experimento.: 19.96 %\n"
          ],
          "name": "stdout"
        }
      ]
    },
    {
      "cell_type": "markdown",
      "metadata": {
        "id": "bVZfL9FH4Egh"
      },
      "source": [
        "# **Exercício 7.** Teste de Hipóteses\n",
        "\n",
        "a. Aplique o t-test agora para as duas métricas de avaliação. Quais os resultados para essas duas métricas?\n",
        "\n",
        "b, Qual seria a utilidade de fazer teste nas variáveis de controle e qual o resultado desejado? "
      ]
    },
    {
      "cell_type": "code",
      "metadata": {
        "id": "dxwhKNr0aZ8R",
        "colab": {
          "base_uri": "https://localhost:8080/"
        },
        "outputId": "357c1a74-51cf-40c2-9f44-8b2cea8ab57c"
      },
      "source": [
        "# seu código\n"
      ],
      "execution_count": null,
      "outputs": [
        {
          "output_type": "stream",
          "text": [
            "p-value: 0.1308\n",
            "Aceita a Hipótese Nula\n",
            "p-value: 0.5928\n",
            "Aceita a Hipótese Nula\n"
          ],
          "name": "stdout"
        }
      ]
    },
    {
      "cell_type": "markdown",
      "metadata": {
        "id": "BtGkpqt25VJ2"
      },
      "source": [
        "**Conclusão**: A mudança no site não foi efetiva para aumentar a efetividade dos alunos que aderiam ao teste gratuíto dos cursos."
      ]
    },
    {
      "cell_type": "markdown",
      "metadata": {
        "id": "CVYAug_9CyE6"
      },
      "source": [
        "# Caso: **Covid X Temperatura** "
      ]
    },
    {
      "cell_type": "markdown",
      "metadata": {
        "id": "ZYUfFnBFwTM8"
      },
      "source": [
        "# **Exercício 8.** Empregue o data set abaixo para testar as hipóteses,\n",
        "\n",
        "> $H_0$: a temperatura >= 24 C não afeta o surto de COVID-19\n",
        "\n",
        "> $H_1$: a temperatura >= 24 C afeta o surto de COVID-19\n",
        "\n",
        "**DICA**: Empregue o valor de temperatura para separar os casos confirmados da doença."
      ]
    },
    {
      "cell_type": "code",
      "metadata": {
        "colab": {
          "base_uri": "https://localhost:8080/",
          "height": 329
        },
        "id": "hMkhlBvOsYh7",
        "outputId": "3b5f7c61-d0a6-4f67-c8cd-2e84bba78808"
      },
      "source": [
        "covid = pd.read_csv('http://meusite.mackenzie.br/rogerio/Corona_Updated.csv')\n",
        "covid.head()"
      ],
      "execution_count": null,
      "outputs": [
        {
          "output_type": "execute_result",
          "data": {
            "text/html": [
              "<div>\n",
              "<style scoped>\n",
              "    .dataframe tbody tr th:only-of-type {\n",
              "        vertical-align: middle;\n",
              "    }\n",
              "\n",
              "    .dataframe tbody tr th {\n",
              "        vertical-align: top;\n",
              "    }\n",
              "\n",
              "    .dataframe thead th {\n",
              "        text-align: right;\n",
              "    }\n",
              "</style>\n",
              "<table border=\"1\" class=\"dataframe\">\n",
              "  <thead>\n",
              "    <tr style=\"text-align: right;\">\n",
              "      <th></th>\n",
              "      <th>Province/State</th>\n",
              "      <th>Country/Region</th>\n",
              "      <th>Last Update</th>\n",
              "      <th>Confirmed</th>\n",
              "      <th>Deaths</th>\n",
              "      <th>Recovered</th>\n",
              "      <th>Latitude</th>\n",
              "      <th>Longitude</th>\n",
              "      <th>Temprature</th>\n",
              "      <th>Humidity</th>\n",
              "      <th>Temp_Cat</th>\n",
              "      <th>Humid_Cat</th>\n",
              "    </tr>\n",
              "  </thead>\n",
              "  <tbody>\n",
              "    <tr>\n",
              "      <th>0</th>\n",
              "      <td>Hubei</td>\n",
              "      <td>Mainland China</td>\n",
              "      <td>2020-03-10T15:13:05</td>\n",
              "      <td>67760</td>\n",
              "      <td>3024</td>\n",
              "      <td>47743</td>\n",
              "      <td>30.9756</td>\n",
              "      <td>112.2707</td>\n",
              "      <td>12.5</td>\n",
              "      <td>86</td>\n",
              "      <td>0</td>\n",
              "      <td>1</td>\n",
              "    </tr>\n",
              "    <tr>\n",
              "      <th>1</th>\n",
              "      <td>NaN</td>\n",
              "      <td>Italy</td>\n",
              "      <td>2020-03-10T17:53:02</td>\n",
              "      <td>10149</td>\n",
              "      <td>631</td>\n",
              "      <td>724</td>\n",
              "      <td>43.0000</td>\n",
              "      <td>12.0000</td>\n",
              "      <td>12.9</td>\n",
              "      <td>64</td>\n",
              "      <td>0</td>\n",
              "      <td>1</td>\n",
              "    </tr>\n",
              "    <tr>\n",
              "      <th>2</th>\n",
              "      <td>NaN</td>\n",
              "      <td>Iran (Islamic Republic of)</td>\n",
              "      <td>2020-03-10T19:13:20</td>\n",
              "      <td>8042</td>\n",
              "      <td>291</td>\n",
              "      <td>2731</td>\n",
              "      <td>32.0000</td>\n",
              "      <td>53.0000</td>\n",
              "      <td>11.9</td>\n",
              "      <td>9</td>\n",
              "      <td>0</td>\n",
              "      <td>0</td>\n",
              "    </tr>\n",
              "    <tr>\n",
              "      <th>3</th>\n",
              "      <td>NaN</td>\n",
              "      <td>Republic of Korea</td>\n",
              "      <td>2020-03-10T19:13:20</td>\n",
              "      <td>7513</td>\n",
              "      <td>54</td>\n",
              "      <td>247</td>\n",
              "      <td>36.0000</td>\n",
              "      <td>128.0000</td>\n",
              "      <td>4.9</td>\n",
              "      <td>41</td>\n",
              "      <td>0</td>\n",
              "      <td>0</td>\n",
              "    </tr>\n",
              "    <tr>\n",
              "      <th>4</th>\n",
              "      <td>NaN</td>\n",
              "      <td>France</td>\n",
              "      <td>2020-03-10T18:53:02</td>\n",
              "      <td>1784</td>\n",
              "      <td>33</td>\n",
              "      <td>12</td>\n",
              "      <td>47.0000</td>\n",
              "      <td>2.0000</td>\n",
              "      <td>11.9</td>\n",
              "      <td>93</td>\n",
              "      <td>0</td>\n",
              "      <td>0</td>\n",
              "    </tr>\n",
              "  </tbody>\n",
              "</table>\n",
              "</div>"
            ],
            "text/plain": [
              "  Province/State              Country/Region  ... Temp_Cat  Humid_Cat\n",
              "0          Hubei              Mainland China  ...        0          1\n",
              "1            NaN                       Italy  ...        0          1\n",
              "2            NaN  Iran (Islamic Republic of)  ...        0          0\n",
              "3            NaN           Republic of Korea  ...        0          0\n",
              "4            NaN                      France  ...        0          0\n",
              "\n",
              "[5 rows x 12 columns]"
            ]
          },
          "metadata": {},
          "execution_count": 38
        }
      ]
    },
    {
      "cell_type": "code",
      "metadata": {
        "id": "9NEHHGHUuG0I"
      },
      "source": [
        "# seu código"
      ],
      "execution_count": null,
      "outputs": []
    },
    {
      "cell_type": "code",
      "metadata": {
        "id": "r9qZqD9avu_7"
      },
      "source": [
        "# seu código"
      ],
      "execution_count": null,
      "outputs": []
    }
  ]
}