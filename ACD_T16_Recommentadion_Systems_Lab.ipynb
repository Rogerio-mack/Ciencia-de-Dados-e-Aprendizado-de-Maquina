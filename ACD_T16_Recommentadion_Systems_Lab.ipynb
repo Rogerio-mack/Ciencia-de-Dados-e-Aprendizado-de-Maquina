{
  "nbformat": 4,
  "nbformat_minor": 0,
  "metadata": {
    "colab": {
      "name": "ACD_T16_Recommentadion_Systems_Lab.ipynb",
      "provenance": [],
      "authorship_tag": "ABX9TyOQPh4fSGxdtHoO1eUoEjvq",
      "include_colab_link": true
    },
    "kernelspec": {
      "name": "python3",
      "display_name": "Python 3"
    },
    "language_info": {
      "name": "python"
    }
  },
  "cells": [
    {
      "cell_type": "markdown",
      "metadata": {
        "id": "view-in-github",
        "colab_type": "text"
      },
      "source": [
        "<a href=\"https://colab.research.google.com/github/Rogerio-mack/Ciencia-de-Dados-e-Aprendizado-de-Maquina/blob/main/ACD_T16_Recommentadion_Systems_Lab.ipynb\" target=\"_parent\"><img src=\"https://colab.research.google.com/assets/colab-badge.svg\" alt=\"Open In Colab\"/></a>"
      ]
    },
    {
      "cell_type": "markdown",
      "metadata": {
        "id": "gglUriLmo1sR"
      },
      "source": [
        "<head>\n",
        "  <meta name=\"author\" content=\"Rogério de Oliveira\">\n",
        "  <meta institution=\"author\" content=\"Universidade Presbiteriana Mackenzie\">\n",
        "</head>\n",
        "\n",
        "<img src=\"http://meusite.mackenzie.br/rogerio/mackenzie_logo/UPM.2_horizontal_vermelho.jpg\" width=300, align=\"right\"> \n",
        "<!-- <h1 align=left><font size = 6, style=\"color:rgb(200,0,0)\"> optional title </font></h1> -->"
      ]
    },
    {
      "cell_type": "markdown",
      "metadata": {
        "id": "oVv16BTnwqn2"
      },
      "source": [
        "# Introdução aos Sistemas de Recomendação"
      ]
    },
    {
      "cell_type": "markdown",
      "metadata": {
        "id": "8BUGqxtdPMIk"
      },
      "source": [
        "# **CASE**: *Airbnb* RIO DE JANEIRO \n",
        "\n",
        "Neste laboratório você vai empregar um sistemas baseados em conteúdo (content-based filtering) para recomendar imóveis semelhantes para uma usuário.\n",
        "\n",
        "Empregue aqui os seguintes dados:"
      ]
    },
    {
      "cell_type": "code",
      "metadata": {
        "colab": {
          "base_uri": "https://localhost:8080/",
          "height": 462
        },
        "id": "CGg6YXkRhPBb",
        "outputId": "0f377cd0-1225-4c3b-ebe6-b566a59287be"
      },
      "source": [
        "# from: http://insideairbnb.com/get-the-data.html\n",
        "import pandas as pd\n",
        "df = pd.read_csv('http://data.insideairbnb.com/brazil/rj/rio-de-janeiro/2021-09-28/visualisations/listings.csv')\n",
        "df = df[['id', 'name', \n",
        "       'neighbourhood', 'latitude', 'longitude', 'room_type', 'price',\n",
        "       'minimum_nights', 'number_of_reviews', \n",
        "       'calculated_host_listings_count',\n",
        "       'availability_365', 'number_of_reviews_ltm']]\n",
        "df.head()\n"
      ],
      "execution_count": null,
      "outputs": [
        {
          "output_type": "execute_result",
          "data": {
            "text/html": [
              "<div>\n",
              "<style scoped>\n",
              "    .dataframe tbody tr th:only-of-type {\n",
              "        vertical-align: middle;\n",
              "    }\n",
              "\n",
              "    .dataframe tbody tr th {\n",
              "        vertical-align: top;\n",
              "    }\n",
              "\n",
              "    .dataframe thead th {\n",
              "        text-align: right;\n",
              "    }\n",
              "</style>\n",
              "<table border=\"1\" class=\"dataframe\">\n",
              "  <thead>\n",
              "    <tr style=\"text-align: right;\">\n",
              "      <th></th>\n",
              "      <th>id</th>\n",
              "      <th>name</th>\n",
              "      <th>neighbourhood</th>\n",
              "      <th>latitude</th>\n",
              "      <th>longitude</th>\n",
              "      <th>room_type</th>\n",
              "      <th>price</th>\n",
              "      <th>minimum_nights</th>\n",
              "      <th>number_of_reviews</th>\n",
              "      <th>calculated_host_listings_count</th>\n",
              "      <th>availability_365</th>\n",
              "      <th>number_of_reviews_ltm</th>\n",
              "    </tr>\n",
              "  </thead>\n",
              "  <tbody>\n",
              "    <tr>\n",
              "      <th>0</th>\n",
              "      <td>17878</td>\n",
              "      <td>Very Nice 2Br in Copacabana w. balcony, fast WiFi</td>\n",
              "      <td>Copacabana</td>\n",
              "      <td>-22.96599</td>\n",
              "      <td>-43.17940</td>\n",
              "      <td>Entire home/apt</td>\n",
              "      <td>350</td>\n",
              "      <td>4</td>\n",
              "      <td>265</td>\n",
              "      <td>1</td>\n",
              "      <td>314</td>\n",
              "      <td>12</td>\n",
              "    </tr>\n",
              "    <tr>\n",
              "      <th>1</th>\n",
              "      <td>24480</td>\n",
              "      <td>Nice and cozy near Ipanema Beach, w/ home office</td>\n",
              "      <td>Ipanema</td>\n",
              "      <td>-22.98405</td>\n",
              "      <td>-43.20189</td>\n",
              "      <td>Entire home/apt</td>\n",
              "      <td>297</td>\n",
              "      <td>3</td>\n",
              "      <td>85</td>\n",
              "      <td>1</td>\n",
              "      <td>30</td>\n",
              "      <td>0</td>\n",
              "    </tr>\n",
              "    <tr>\n",
              "      <th>2</th>\n",
              "      <td>25026</td>\n",
              "      <td>Beautiful Modern Decorated Studio in Copa</td>\n",
              "      <td>Copacabana</td>\n",
              "      <td>-22.97735</td>\n",
              "      <td>-43.19105</td>\n",
              "      <td>Entire home/apt</td>\n",
              "      <td>160</td>\n",
              "      <td>7</td>\n",
              "      <td>238</td>\n",
              "      <td>2</td>\n",
              "      <td>266</td>\n",
              "      <td>0</td>\n",
              "    </tr>\n",
              "    <tr>\n",
              "      <th>3</th>\n",
              "      <td>35636</td>\n",
              "      <td>Cosy flat close to Ipanema beach</td>\n",
              "      <td>Ipanema</td>\n",
              "      <td>-22.98839</td>\n",
              "      <td>-43.19232</td>\n",
              "      <td>Entire home/apt</td>\n",
              "      <td>271</td>\n",
              "      <td>2</td>\n",
              "      <td>181</td>\n",
              "      <td>1</td>\n",
              "      <td>151</td>\n",
              "      <td>0</td>\n",
              "    </tr>\n",
              "    <tr>\n",
              "      <th>4</th>\n",
              "      <td>35764</td>\n",
              "      <td>COPACABANA SEA BREEZE  -  RIO - 20 X Superhost</td>\n",
              "      <td>Copacabana</td>\n",
              "      <td>-22.98107</td>\n",
              "      <td>-43.19136</td>\n",
              "      <td>Entire home/apt</td>\n",
              "      <td>121</td>\n",
              "      <td>3</td>\n",
              "      <td>371</td>\n",
              "      <td>1</td>\n",
              "      <td>30</td>\n",
              "      <td>35</td>\n",
              "    </tr>\n",
              "  </tbody>\n",
              "</table>\n",
              "</div>"
            ],
            "text/plain": [
              "      id  ... number_of_reviews_ltm\n",
              "0  17878  ...                    12\n",
              "1  24480  ...                     0\n",
              "2  25026  ...                     0\n",
              "3  35636  ...                     0\n",
              "4  35764  ...                    35\n",
              "\n",
              "[5 rows x 12 columns]"
            ]
          },
          "metadata": {},
          "execution_count": 1
        }
      ]
    },
    {
      "cell_type": "markdown",
      "metadata": {
        "id": "VtNsz2ARQGSM"
      },
      "source": [
        "# Exercício 1.\n",
        "\n",
        "Inspeção inicial dos dados. Quantos imóveis existem? Existem dados nulos que compromentem a análise? Que atributos serão empregados para construir o vetor característico $X$ dos imóveis?"
      ]
    },
    {
      "cell_type": "code",
      "metadata": {
        "id": "GSzusQUvho0s"
      },
      "source": [
        "# Seu código"
      ],
      "execution_count": null,
      "outputs": []
    },
    {
      "cell_type": "markdown",
      "metadata": {
        "id": "y4vGJQPNRzYV"
      },
      "source": [
        "# Exercicio 2.\n",
        "\n",
        "O vetor característico deve ser numérico para podermos empregar o cálculo de distância (vizinhos mais próximos). Faça o hot encode de `room_type`.\n",
        "\n",
        "DICA: empregue `pd.get_dummies()`"
      ]
    },
    {
      "cell_type": "code",
      "metadata": {
        "id": "UgetQAoKndWS"
      },
      "source": [
        "# Seu código"
      ],
      "execution_count": null,
      "outputs": []
    },
    {
      "cell_type": "markdown",
      "metadata": {
        "id": "_CTr5gmMSUaM"
      },
      "source": [
        "# Exercício 3.\n",
        "\n",
        "Verifique o outro atributo categórico `neighbourhood`. Quantos diferentes valores ele possui?  "
      ]
    },
    {
      "cell_type": "code",
      "metadata": {
        "id": "SZuLrg42h2TM"
      },
      "source": [
        "# Seu código"
      ],
      "execution_count": null,
      "outputs": []
    },
    {
      "cell_type": "markdown",
      "metadata": {
        "id": "VgNkRNETSrfc"
      },
      "source": [
        "Não parece muito razoável fazermos o hot encode desse atributo. Vamos então empregar o label encode. O código a seguir fará essa transformação para você."
      ]
    },
    {
      "cell_type": "code",
      "metadata": {
        "id": "v-xBvoQPmuPs"
      },
      "source": [
        "df['neighbourhood'] = df['neighbourhood'].astype('category')\n",
        "# Assigning numerical values and storing in another column\n",
        "df['neighbourhood_code'] = df['neighbourhood'].cat.codes\n",
        "df.head()"
      ],
      "execution_count": null,
      "outputs": []
    },
    {
      "cell_type": "markdown",
      "metadata": {
        "id": "uWTuz-RAS7Ec"
      },
      "source": [
        "# Check...\n",
        "\n",
        "Ao final seu dataframe deve conter as seguintes colunas e tamanho..."
      ]
    },
    {
      "cell_type": "code",
      "metadata": {
        "colab": {
          "base_uri": "https://localhost:8080/"
        },
        "id": "zGMJFqPcoi27",
        "outputId": "6f10ba87-0026-4c58-ad9a-956023545095"
      },
      "source": [
        "df.columns"
      ],
      "execution_count": null,
      "outputs": [
        {
          "output_type": "execute_result",
          "data": {
            "text/plain": [
              "Index(['id', 'name', 'neighbourhood', 'latitude', 'longitude', 'price',\n",
              "       'minimum_nights', 'number_of_reviews', 'calculated_host_listings_count',\n",
              "       'availability_365', 'number_of_reviews_ltm',\n",
              "       'room_type_Entire home/apt', 'room_type_Hotel room',\n",
              "       'room_type_Private room', 'room_type_Shared room',\n",
              "       'neighbourhood_code'],\n",
              "      dtype='object')"
            ]
          },
          "metadata": {},
          "execution_count": 9
        }
      ]
    },
    {
      "cell_type": "code",
      "metadata": {
        "colab": {
          "base_uri": "https://localhost:8080/"
        },
        "id": "AKxrLwsTqneN",
        "outputId": "667b0c3d-6dce-4a9a-d422-f90da2fe0430"
      },
      "source": [
        "len(df)"
      ],
      "execution_count": null,
      "outputs": [
        {
          "output_type": "execute_result",
          "data": {
            "text/plain": [
              "23414"
            ]
          },
          "metadata": {},
          "execution_count": 10
        }
      ]
    },
    {
      "cell_type": "markdown",
      "metadata": {
        "id": "zVbZCENJTO9t"
      },
      "source": [
        "# Exercício 4.\n",
        "\n",
        "Considere que um cliente tenha alugado ou selecionado o seguinte imóvel no Airbnb: "
      ]
    },
    {
      "cell_type": "code",
      "metadata": {
        "colab": {
          "base_uri": "https://localhost:8080/",
          "height": 168
        },
        "id": "pJWVxM4OtRSi",
        "outputId": "3872d16d-ee50-425b-ff82-6606208f5df5"
      },
      "source": [
        "df[ df.id == 41130972 ]"
      ],
      "execution_count": null,
      "outputs": [
        {
          "output_type": "execute_result",
          "data": {
            "text/html": [
              "<div>\n",
              "<style scoped>\n",
              "    .dataframe tbody tr th:only-of-type {\n",
              "        vertical-align: middle;\n",
              "    }\n",
              "\n",
              "    .dataframe tbody tr th {\n",
              "        vertical-align: top;\n",
              "    }\n",
              "\n",
              "    .dataframe thead th {\n",
              "        text-align: right;\n",
              "    }\n",
              "</style>\n",
              "<table border=\"1\" class=\"dataframe\">\n",
              "  <thead>\n",
              "    <tr style=\"text-align: right;\">\n",
              "      <th></th>\n",
              "      <th>id</th>\n",
              "      <th>name</th>\n",
              "      <th>neighbourhood</th>\n",
              "      <th>latitude</th>\n",
              "      <th>longitude</th>\n",
              "      <th>price</th>\n",
              "      <th>minimum_nights</th>\n",
              "      <th>number_of_reviews</th>\n",
              "      <th>calculated_host_listings_count</th>\n",
              "      <th>availability_365</th>\n",
              "      <th>number_of_reviews_ltm</th>\n",
              "      <th>room_type_Entire home/apt</th>\n",
              "      <th>room_type_Hotel room</th>\n",
              "      <th>room_type_Private room</th>\n",
              "      <th>room_type_Shared room</th>\n",
              "      <th>neighbourhood_code</th>\n",
              "    </tr>\n",
              "  </thead>\n",
              "  <tbody>\n",
              "    <tr>\n",
              "      <th>16954</th>\n",
              "      <td>41130972</td>\n",
              "      <td>Studio Posto 4 alugamos anual</td>\n",
              "      <td>Copacabana</td>\n",
              "      <td>-22.9693</td>\n",
              "      <td>-43.18746</td>\n",
              "      <td>250</td>\n",
              "      <td>90</td>\n",
              "      <td>0</td>\n",
              "      <td>60</td>\n",
              "      <td>270</td>\n",
              "      <td>0</td>\n",
              "      <td>1</td>\n",
              "      <td>0</td>\n",
              "      <td>0</td>\n",
              "      <td>0</td>\n",
              "      <td>33</td>\n",
              "    </tr>\n",
              "  </tbody>\n",
              "</table>\n",
              "</div>"
            ],
            "text/plain": [
              "             id  ... neighbourhood_code\n",
              "16954  41130972  ...                 33\n",
              "\n",
              "[1 rows x 16 columns]"
            ]
          },
          "metadata": {},
          "execution_count": 11
        }
      ]
    },
    {
      "cell_type": "markdown",
      "metadata": {
        "id": "qbbNbW8PUg8e"
      },
      "source": [
        "Complete o código abaixo para empregar o modelo de k-vizinhos mais próximos (não supervisionado) para encontrar os 3 imóveis mais semelhantes a esse imóvel para que possam ser recomendados para o cliente. Observe a semelhança de `latitude`,`longitude`,`price` e `minimum_nights`. "
      ]
    },
    {
      "cell_type": "code",
      "metadata": {
        "id": "AyRCGyaBpJG5"
      },
      "source": [
        "from sklearn.neighbors import ...\n",
        "\n",
        "X = ...\n",
        "\n",
        "n_neighbors = ...\n",
        "\n",
        "knn = ...\n",
        "\n",
        "knn.fit( ... )\n",
        "\n",
        "# Select a song from a user\n",
        "item_selected = df[ df.id == 41130972 ]\n",
        "display(item_selected.id)\n",
        "item_selected = item_selected[X.columns] # Você entende o que está sendo feito aqui? Explique\n",
        "\n",
        "# Determine the neighbors\n",
        "d, neighbors = knn.kneighbors(item_selected.values.reshape(1, -1))\n",
        "neighbors = neighbors[0][1::] \n",
        "d = d[0][1::] \n",
        "\n",
        "neighbors_ids = df.iloc[ neighbors ].id\n",
        "\n",
        "print('item_selected:')\n",
        "print(item_selected)\n",
        "print('Neighbors:')\n",
        "print(neighbors)\n",
        "print('Distance:')\n",
        "print(d)\n",
        "print('Neighbors_ids:')\n",
        "print(neighbors_ids)\n",
        "\n",
        "    "
      ],
      "execution_count": null,
      "outputs": []
    },
    {
      "cell_type": "code",
      "metadata": {
        "id": "RiVczIrpsuD4"
      },
      "source": [
        "# Determine the suggested items\n",
        "suggested_items = ...\n",
        "\n",
        "print('Suggested items:')\n",
        "print(suggested_items)\n",
        "print('Suggested items:')\n",
        "display(df[ df.id.isin(suggested_items) ] )"
      ],
      "execution_count": null,
      "outputs": []
    },
    {
      "cell_type": "markdown",
      "metadata": {
        "id": "NplFCwMNVZvO"
      },
      "source": [
        "# Exercício 5.\n",
        "\n",
        "Esse modelo é sensível à normalização? Aplique a normalização `scale` dos dados e verifique. Houve alteração das recomendações? "
      ]
    },
    {
      "cell_type": "code",
      "metadata": {
        "id": "N3sT8C_HuvzU"
      },
      "source": [
        "# seu código"
      ],
      "execution_count": null,
      "outputs": []
    }
  ]
}