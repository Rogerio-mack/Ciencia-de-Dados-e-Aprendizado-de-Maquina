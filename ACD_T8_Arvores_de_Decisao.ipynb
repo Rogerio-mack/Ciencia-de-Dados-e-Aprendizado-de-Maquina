{
  "nbformat": 4,
  "nbformat_minor": 0,
  "metadata": {
    "anaconda-cloud": {},
    "kernelspec": {
      "display_name": "Python 3",
      "language": "python",
      "name": "python3"
    },
    "language_info": {
      "codemirror_mode": {
        "name": "ipython",
        "version": 3
      },
      "file_extension": ".py",
      "mimetype": "text/x-python",
      "name": "python",
      "nbconvert_exporter": "python",
      "pygments_lexer": "ipython3",
      "version": "3.7.4"
    },
    "colab": {
      "name": "ACD_T8_Arvores_de_Decisao.ipynb",
      "provenance": [],
      "collapsed_sections": [],
      "include_colab_link": true
    }
  },
  "cells": [
    {
      "cell_type": "markdown",
      "metadata": {
        "id": "view-in-github",
        "colab_type": "text"
      },
      "source": [
        "<a href=\"https://colab.research.google.com/github/Rogerio-mack/Ciencia-de-Dados-e-Aprendizado-de-Maquina/blob/main/ACD_T8_Arvores_de_Decisao.ipynb\" target=\"_parent\"><img src=\"https://colab.research.google.com/assets/colab-badge.svg\" alt=\"Open In Colab\"/></a>"
      ]
    },
    {
      "cell_type": "markdown",
      "metadata": {
        "id": "gglUriLmo1sR"
      },
      "source": [
        "<head>\n",
        "  <meta name=\"author\" content=\"Rogério de Oliveira\">\n",
        "  <meta institution=\"author\" content=\"Universidade Presbiteriana Mackenzie\">\n",
        "</head>\n",
        "\n",
        "<img src=\"http://meusite.mackenzie.br/rogerio/mackenzie_logo/UPM.2_horizontal_vermelho.jpg\" width=300, align=\"right\"></a>\n",
        "<!-- <h1 align=left><font size = 6, style=\"color:rgb(200,0,0)\"> optional title </font></h1> -->"
      ]
    },
    {
      "cell_type": "markdown",
      "metadata": {
        "id": "-G7aCMh4r9y1"
      },
      "source": [
        "<h1 align=left><font size = 6, style=\"color:rgb(200,0,0)\">Árvores de Decisão</font></h1>\n",
        "<hr>"
      ]
    },
    {
      "cell_type": "markdown",
      "metadata": {
        "_uuid": "9dd9e07c590ca22f0c525222f60f0ebff4e092c6",
        "id": "HpKAvplIAYQ3"
      },
      "source": [
        "# **Árvores de Decisão**\n",
        " \n",
        "Uma Árvore de Decisão permite fazer classificações por **particionamentos sucessivos** dos dados. É uma estrutura que traduz uma tabela de decisão.\n"
      ]
    },
    {
      "cell_type": "markdown",
      "metadata": {
        "id": "shmSY0GyEUNL"
      },
      "source": [
        "<head>\n",
        "  <meta name=\"author\" content=\"Rogério de Oliveira\">\n",
        "  <meta institution=\"author\" content=\"Universidade Presbiteriana Mackenzie\">\n",
        "</head>\n",
        "\n",
        "<img src=\"http://meusite.mackenzie.br/rogerio/TIC/decisiontree.PNG\" width=500, align=\"center\"></a>\n",
        "<!-- <h1 align=left><font size = 6, style=\"color:rgb(200,0,0)\"> optional title </font></h1> -->"
      ]
    },
    {
      "cell_type": "markdown",
      "metadata": {
        "id": "__X2R0BpFnwO"
      },
      "source": [
        "# Algoritmo de Hunt\n",
        "\n",
        "Vejamos um exemplo."
      ]
    },
    {
      "cell_type": "code",
      "metadata": {
        "id": "cep6j5ubGYhi",
        "colab": {
          "base_uri": "https://localhost:8080/",
          "height": 228
        },
        "outputId": "1e928d1d-c820-4cc6-c065-c14e76c65196"
      },
      "source": [
        "import pandas as pd\n",
        "comics = pd.read_csv('http://meusite.mackenzie.br/rogerio/TIC/comics.csv',sep=';')\n",
        "comics"
      ],
      "execution_count": null,
      "outputs": [
        {
          "output_type": "execute_result",
          "data": {
            "text/html": [
              "<div>\n",
              "<style scoped>\n",
              "    .dataframe tbody tr th:only-of-type {\n",
              "        vertical-align: middle;\n",
              "    }\n",
              "\n",
              "    .dataframe tbody tr th {\n",
              "        vertical-align: top;\n",
              "    }\n",
              "\n",
              "    .dataframe thead th {\n",
              "        text-align: right;\n",
              "    }\n",
              "</style>\n",
              "<table border=\"1\" class=\"dataframe\">\n",
              "  <thead>\n",
              "    <tr style=\"text-align: right;\">\n",
              "      <th></th>\n",
              "      <th>Name</th>\n",
              "      <th>sex</th>\n",
              "      <th>smokes</th>\n",
              "      <th>tie</th>\n",
              "      <th>mask</th>\n",
              "      <th>cape</th>\n",
              "      <th>ears</th>\n",
              "      <th>class</th>\n",
              "    </tr>\n",
              "  </thead>\n",
              "  <tbody>\n",
              "    <tr>\n",
              "      <th>0</th>\n",
              "      <td>Batman</td>\n",
              "      <td>male</td>\n",
              "      <td>no</td>\n",
              "      <td>no</td>\n",
              "      <td>yes</td>\n",
              "      <td>yes</td>\n",
              "      <td>yes</td>\n",
              "      <td>good</td>\n",
              "    </tr>\n",
              "    <tr>\n",
              "      <th>1</th>\n",
              "      <td>Robin</td>\n",
              "      <td>male</td>\n",
              "      <td>no</td>\n",
              "      <td>no</td>\n",
              "      <td>yes</td>\n",
              "      <td>yes</td>\n",
              "      <td>yes</td>\n",
              "      <td>good</td>\n",
              "    </tr>\n",
              "    <tr>\n",
              "      <th>2</th>\n",
              "      <td>Catwoman</td>\n",
              "      <td>female</td>\n",
              "      <td>no</td>\n",
              "      <td>no</td>\n",
              "      <td>yes</td>\n",
              "      <td>no</td>\n",
              "      <td>yes</td>\n",
              "      <td>bad</td>\n",
              "    </tr>\n",
              "    <tr>\n",
              "      <th>3</th>\n",
              "      <td>Joker</td>\n",
              "      <td>male</td>\n",
              "      <td>no</td>\n",
              "      <td>no</td>\n",
              "      <td>no</td>\n",
              "      <td>no</td>\n",
              "      <td>no</td>\n",
              "      <td>bad</td>\n",
              "    </tr>\n",
              "    <tr>\n",
              "      <th>4</th>\n",
              "      <td>Alfred</td>\n",
              "      <td>male</td>\n",
              "      <td>no</td>\n",
              "      <td>yes</td>\n",
              "      <td>no</td>\n",
              "      <td>no</td>\n",
              "      <td>no</td>\n",
              "      <td>good</td>\n",
              "    </tr>\n",
              "    <tr>\n",
              "      <th>5</th>\n",
              "      <td>Penguin</td>\n",
              "      <td>male</td>\n",
              "      <td>yes</td>\n",
              "      <td>yes</td>\n",
              "      <td>no</td>\n",
              "      <td>no</td>\n",
              "      <td>no</td>\n",
              "      <td>bad</td>\n",
              "    </tr>\n",
              "  </tbody>\n",
              "</table>\n",
              "</div>"
            ],
            "text/plain": [
              "       Name     sex smokes  tie mask cape ears class\n",
              "0    Batman    male     no   no  yes  yes  yes  good\n",
              "1     Robin    male     no   no  yes  yes  yes  good\n",
              "2  Catwoman  female     no   no  yes   no  yes   bad\n",
              "3     Joker    male     no   no   no   no   no   bad\n",
              "4    Alfred    male     no  yes   no   no   no  good\n",
              "5   Penguin    male    yes  yes   no   no   no   bad"
            ]
          },
          "metadata": {
            "tags": []
          },
          "execution_count": 2
        }
      ]
    },
    {
      "cell_type": "markdown",
      "metadata": {
        "id": "Ba1eLUEvJZj5"
      },
      "source": [
        "Acesse para detalhes http://meusite.mackenzie.br/rogerio/TIC/comics.xlsx"
      ]
    },
    {
      "cell_type": "markdown",
      "metadata": {
        "id": "khvzUrW0HH14"
      },
      "source": [
        "# Ganho de Informação\n",
        "\n",
        "Como você viu diferentes Árvores de Decisão podem ser construídas. A decisão dos Algoritmos para a decisão de que atributos empregar como Raiz e Nós na construção de uma Árvore são feitos com base em medidas do Ganho de Informação.\n",
        "\n",
        "Para o cálculo do **Ganho de Informação** de um atributo existem 3 valores comumente empregados.\n",
        "\n",
        "## **Entropia.**\n",
        "\n",
        "$$ Entropia(s) = - \\sum_i p_i log p_i $$\n",
        "\n",
        "Exemplos:\n",
        "\n",
        "$$ Entropia(CONSTANTE) = 0 $$\n",
        "$$ Entropia(bit) = 1 $$\n",
        "\n",
        "## **Índice Gini.**\n",
        "\n",
        "$$ Gini(s) = 1 - \\sum_i p_i $$ \n",
        "\n",
        "## **Classification Error**\n",
        "\n",
        "$$ ClassificationError = 1 - max p_i $$\n",
        "\n",
        "<br>\n",
        "\n",
        "O ganho de informação é então obtido como:\n",
        "\n",
        "$$ IG(a) = D(T) - \\sum_i p_i D(T | a_i) $$\n",
        "\n",
        "Onde $D()$ é uma das medidas de Entropia, índice *Gini* ou *Classification Error*. "
      ]
    },
    {
      "cell_type": "markdown",
      "metadata": {
        "id": "Za5F-e_RE-Y6"
      },
      "source": [
        "# Prós e Limitações do Modelo\n",
        "\n",
        "## Prós\n",
        "* Não é um modelo *black-box*\n",
        "* É eficiente\n",
        "* **Permite trabalhar diretamente com valores categóricos**\n",
        "\n",
        "## Limitações\n",
        "* Tem um alto custo de treinamento\n",
        "* É sensível a sobreajuste(\\*)\n",
        "\n",
        "(\\*) Para minimizar esse efeito pode-se fazer a *poda* de níveis da Árvore ou emprego de **Random Forests**, entendidas como uma média de Árvores de Decisão.\n"
      ]
    },
    {
      "cell_type": "markdown",
      "metadata": {
        "id": "pdezH1eUfp1Z"
      },
      "source": [
        "# **IMPORTANTE:** Antes de começar \n",
        "\n",
        "Execute a célula final desse Lab. Ela irá **inicializar** o seu ambiente com os datasets requeridos para esse lab que poderão ser então lidos como arquivos locais, isto é `df = pd.read_csv('df.csv')`. \n",
        "\n",
        "Após a execução você pode verificar os datasets criados na aba lateral do Google Colab ou no seu diretório de trabalho."
      ]
    },
    {
      "cell_type": "markdown",
      "metadata": {
        "id": "Li1FPlObIQAh"
      },
      "source": [
        "# Case: **Previsão do Sucesso de novos Projetos**, com Knn e uma Árvore de Decisão\n",
        "\n",
        "Compare verifique que a estrutura de uso dos modelos é a mesma. \n",
        "\n",
        "### IMPORTANTE\n",
        "> A *mesma estrutura* pode ser empregada para diferentes modelos de **Aprendizado Supervisionado**, como **knn**,  **Árvores de Decisão** e ainda NaiveBayes, Logist Regression, Random Forest etc.  \n",
        "\n",
        "> A *mesma estrutura* pode ser empregada para diferentes dados, `projects`, `insurance`, `breast`... em modelos de **Aprendizado Supervisionado**.  \n"
      ]
    },
    {
      "cell_type": "markdown",
      "metadata": {
        "id": "JrusM-Uw11lc"
      },
      "source": [
        "## Solução empregando o modelo Knn\n",
        "\n",
        "Veja abaixo a solução de predição do status de projetos com o modelo `knn`."
      ]
    },
    {
      "cell_type": "code",
      "metadata": {
        "id": "0TC6c46oNkDQ",
        "colab": {
          "base_uri": "https://localhost:8080/",
          "height": 163
        },
        "outputId": "d6425730-7293-4990-8c50-642ffade05bc"
      },
      "source": [
        "# Acessando os dados\n",
        "projects = pd.read_csv('projects.csv')\n",
        "print(projects.head())\n",
        "\n",
        "new_projects = pd.read_csv('new_projects.csv')\n",
        "print(new_projects.head())\n"
      ],
      "execution_count": null,
      "outputs": [
        {
          "output_type": "stream",
          "text": [
            "   Ana  Gabriela  Pedro  Luiz     Status\n",
            "0    1         1      0     1  successed\n",
            "1    1         1      1     1  successed\n",
            "2    0         0      1     0     failed\n",
            "3    0         0      1     1     failed\n",
            "   Ana  Gabriela  Pedro  Luiz Status\n",
            "0    0         1      1     0      ?\n",
            "1    1         1      1     0      ?\n"
          ],
          "name": "stdout"
        }
      ]
    },
    {
      "cell_type": "code",
      "metadata": {
        "id": "BseFI8AaN-_f",
        "colab": {
          "base_uri": "https://localhost:8080/",
          "height": 35
        },
        "outputId": "4364f06d-1db2-4218-8c54-a888e0f1eb55"
      },
      "source": [
        "from sklearn import neighbors\n",
        "\n",
        "# Prepara os dados para o Treinamento\n",
        "X_train = projects.drop(columns=['Status'])           # Entradas\n",
        "y_train = projects['Status']                          # Saída\n",
        "\n",
        "# Declara o Modelo\n",
        "n_neighbors = 3                                       # Parametros do modelo\n",
        "clf = neighbors.KNeighborsClassifier(n_neighbors)     #\n",
        "\n",
        "# Treinamento (Treina o Modelo) \n",
        "clf.fit(X_train, y_train)                             # Treinamento\n",
        "\n",
        "# Predição (Emprega o Modelo) \n",
        "X_test = new_projects.drop(columns=['Status'])        # Dados para predição\n",
        "y_pred = clf.predict(X_test)                          # Resposta do modelo\n",
        "\n",
        "print(y_pred)\n",
        "\n"
      ],
      "execution_count": null,
      "outputs": [
        {
          "output_type": "stream",
          "text": [
            "['failed' 'successed']\n"
          ],
          "name": "stdout"
        }
      ]
    },
    {
      "cell_type": "code",
      "metadata": {
        "id": "XRe2BSjpQRmp",
        "colab": {
          "base_uri": "https://localhost:8080/",
          "height": 72
        },
        "outputId": "4746c2ca-78e1-4945-cdaf-77a0e55fb220"
      },
      "source": [
        "new_projects['Status'] = y_pred\n",
        "print(new_projects)"
      ],
      "execution_count": null,
      "outputs": [
        {
          "output_type": "stream",
          "text": [
            "   Ana  Gabriela  Pedro  Luiz     Status\n",
            "0    0         1      1     0     failed\n",
            "1    1         1      1     0  successed\n"
          ],
          "name": "stdout"
        }
      ]
    },
    {
      "cell_type": "markdown",
      "metadata": {
        "id": "nZISof3V2fws"
      },
      "source": [
        "## Solução empregando Árvore de Decisão\n",
        "\n",
        "Veja agora o mesmo problema com uma **Árvore de Decisão**."
      ]
    },
    {
      "cell_type": "code",
      "metadata": {
        "id": "yW4bn8EB2-MN",
        "colab": {
          "base_uri": "https://localhost:8080/",
          "height": 35
        },
        "outputId": "287188be-9778-412b-eabc-803906899387"
      },
      "source": [
        "from sklearn.tree import DecisionTreeClassifier\n",
        "\n",
        "# Prepara os dados para o Treinamento\n",
        "X_train = projects.drop(columns=['Status'])           # Entradas\n",
        "y_train = projects['Status']                          # Saída\n",
        "\n",
        "# Declara o Modelo\n",
        "clf = DecisionTreeClassifier()\n",
        "'''\n",
        "clf = DecisionTreeClassifier(criterion='gini',\n",
        "#                              min_samples_leaf=5,\n",
        "#                              min_samples_split=5,\n",
        "                              max_depth=None,\n",
        "                              random_state=seed)\n",
        "'''\n",
        "# Treinamento (Treina o Modelo) \n",
        "clf.fit(X_train, y_train)                             # Treinamento\n",
        "\n",
        "# Predição (Emprega o Modelo) \n",
        "X_test = new_projects.drop(columns=['Status'])        # Dados para predição\n",
        "y_pred = clf.predict(X_test)                          # Resposta do modelo\n",
        "\n",
        "print(y_pred)"
      ],
      "execution_count": null,
      "outputs": [
        {
          "output_type": "stream",
          "text": [
            "['successed' 'successed']\n"
          ],
          "name": "stdout"
        }
      ]
    },
    {
      "cell_type": "markdown",
      "metadata": {
        "id": "KdSIiTGw3-l_"
      },
      "source": [
        "## **Experimente você**\n",
        "\n",
        "Empregue os códigos acima e faça a predição de Faixas de Seguros empregando o **modelo de Árvore de Decisão** as bases de `insurances` criadas no Set Up desse notebook.\n",
        "\n",
        "```\n",
        "insurance.csv\n",
        "new_insurance.csv\n",
        "```\n"
      ]
    },
    {
      "cell_type": "markdown",
      "metadata": {
        "id": "OSmMMGekirwp"
      },
      "source": [
        "# Avaliando os modelos\n",
        "\n",
        "Assim como você empregou o `R-Squared` para avaliar um modelo de Regressão Linear é importante termos uma forma de avaliarmos os modelos de Classificação.\n",
        "\n",
        "Vamos então aprender e praticar os seguintes conceitos:\n",
        "\n",
        "1.   **Conjunto de Treinamento** e **Conjunto de Teste** \n",
        "1.   Acuracidade\n",
        "1.   Matriz de Confusão\n",
        "\n",
        "Nossa avaliação dos modelos vai se concentrar na **acuracidade do modelo** e na **matriz de confusão** com seus resultados embora existam muitas outras métricas. \n",
        "\n",
        "Podemos fazer isso medindo a quantidade de acertos do modelo sobre uma **parcela do conjunto de treinamento** que separamos para servir de **Conjunto de Teste**. Como para esses dados temos as respostas, podemos 'medir' o percentual de acerto do nosso modelo.\n",
        "\n",
        "Isso serve para verificar se nosso modelo tem um grau de assertividade aceitável, além de poder ser empregado para:\n",
        "\n",
        "1. **Ajustar os modelos** (*k do knn, profundidade da Árvore em uma Árvore de Decisão*) \n",
        "1. **Selecionar os modelos** (*entre dois modelos para classificação, um knn e outro uma Árvore de Decisão, você pode optar pelo de maior acuracidade*)\n",
        "\n",
        "\n",
        "\n"
      ]
    },
    {
      "cell_type": "markdown",
      "metadata": {
        "_uuid": "9dd9e07c590ca22f0c525222f60f0ebff4e092c6",
        "id": "kIr_4QzOlOOo"
      },
      "source": [
        "# Caso: **Predição de Diagnósticos a partir de Dados de Imagens** \n",
        "\n",
        "Agora vamos ver um caso de dados reais.\n",
        "\n",
        "https://archive.ics.uci.edu/ml/datasets/Breast+Cancer+Wisconsin+(Diagnostic)\n",
        "\n",
        "Features are computed from a digitized image of a fine needle aspirate (FNA) of a breast mass. They describe characteristics of the cell nuclei present in the image. \n",
        "\n",
        "Veja também: https://niklausliu.github.io/files/Yi-Decision%20Tree%20Model%20in%20the%20Diagnosis%20of%20Breast%20Cancer.pdf\n",
        "\n",
        "Os dados estão na URL: https://meusite.mackenzie.br/rogerio/TIC/breast-cancer-wisconsin.csv\n",
        "\n",
        "Mas aqui empregue os dados já tratados no set up do Lab:\n",
        "\n",
        "```\n",
        "breast.csv\n",
        "new_breast.csv\n",
        "```\n",
        "\n"
      ]
    },
    {
      "cell_type": "code",
      "metadata": {
        "id": "6mNBDvj2myoC",
        "colab": {
          "base_uri": "https://localhost:8080/",
          "height": 289
        },
        "outputId": "c0d00dc2-3ed7-4362-ff97-dc5fe26c7840"
      },
      "source": [
        "# Acessando os Dados\n",
        "\n",
        "# Seu código aqui \n",
        "breast = pd.read_csv('breast.csv')\n",
        "print(breast.head())\n",
        "\n",
        "new_breast = pd.read_csv('new_breast.csv')\n",
        "print(new_breast.head())\n"
      ],
      "execution_count": null,
      "outputs": [
        {
          "output_type": "stream",
          "text": [
            "  diagnosis  radius_mean  ...  symmetry_worst  fractal_dimension_worst\n",
            "0         M        17.99  ...          0.4601                  0.11890\n",
            "1         M        20.57  ...          0.2750                  0.08902\n",
            "2         M        19.69  ...          0.3613                  0.08758\n",
            "3         M        11.42  ...          0.6638                  0.17300\n",
            "4         M        20.29  ...          0.2364                  0.07678\n",
            "\n",
            "[5 rows x 31 columns]\n",
            "   radius_mean  texture_mean  ...  fractal_dimension_worst  diagnosis\n",
            "0        6.981          9.71  ...                  0.05504          ?\n",
            "1       11.700         16.17  ...                  0.07146          ?\n",
            "2       13.370         18.84  ...                  0.08004          ?\n",
            "3       15.780         21.80  ...                  0.09208          ?\n",
            "4       28.110         39.28  ...                  0.20750          ?\n",
            "\n",
            "[5 rows x 31 columns]\n"
          ],
          "name": "stdout"
        }
      ]
    },
    {
      "cell_type": "code",
      "metadata": {
        "id": "0RnZRibIn11f",
        "colab": {
          "base_uri": "https://localhost:8080/",
          "height": 599
        },
        "outputId": "85dac5fd-19fe-4c3c-98d5-a8cd9414e4c7"
      },
      "source": [
        "# Explore os dados\n",
        "# Seu código aqui\n",
        "breast.shape\n",
        "breast.diagnosis.value_counts()\n",
        "breast.isnull().sum()\n",
        "breast.dtypes"
      ],
      "execution_count": null,
      "outputs": [
        {
          "output_type": "execute_result",
          "data": {
            "text/plain": [
              "diagnosis                   object\n",
              "radius_mean                float64\n",
              "texture_mean               float64\n",
              "perimeter_mean             float64\n",
              "area_mean                  float64\n",
              "smoothness_mean            float64\n",
              "compactness_mean           float64\n",
              "concavity_mean             float64\n",
              "concave points_mean        float64\n",
              "symmetry_mean              float64\n",
              "fractal_dimension_mean     float64\n",
              "radius_se                  float64\n",
              "texture_se                 float64\n",
              "perimeter_se               float64\n",
              "area_se                    float64\n",
              "smoothness_se              float64\n",
              "compactness_se             float64\n",
              "concavity_se               float64\n",
              "concave points_se          float64\n",
              "symmetry_se                float64\n",
              "fractal_dimension_se       float64\n",
              "radius_worst               float64\n",
              "texture_worst              float64\n",
              "perimeter_worst            float64\n",
              "area_worst                 float64\n",
              "smoothness_worst           float64\n",
              "compactness_worst          float64\n",
              "concavity_worst            float64\n",
              "concave points_worst       float64\n",
              "symmetry_worst             float64\n",
              "fractal_dimension_worst    float64\n",
              "dtype: object"
            ]
          },
          "metadata": {
            "tags": []
          },
          "execution_count": 8
        }
      ]
    },
    {
      "cell_type": "markdown",
      "metadata": {
        "id": "BpoyT0LTsjX8"
      },
      "source": [
        "# **Árvore de Decisão**: Treinamento e Teste\n",
        "\n",
        "Os conjuntos de Treinamento e Teste são produzidos **randomicamente**. O `seed` é a semente de geração aleatória e garante a reprodutibilidade das execuções. "
      ]
    },
    {
      "cell_type": "code",
      "metadata": {
        "id": "JBxlpnAFoovZ",
        "colab": {
          "base_uri": "https://localhost:8080/",
          "height": 187
        },
        "outputId": "bd902760-3222-47ce-e97c-3d59c81ce065"
      },
      "source": [
        "from sklearn.tree import DecisionTreeClassifier\n",
        "from sklearn.model_selection import train_test_split\n",
        "\n",
        "# Preparando os dados\n",
        "X = breast.drop(columns=['diagnosis'])\n",
        "y = breast['diagnosis']\n",
        "\n",
        "# Separando os dados de Treinamento e Teste\n",
        "seed = 1984\n",
        "X_train, X_test, y_train, y_test = train_test_split(X, y, test_size=0.3, stratify=y, random_state=seed)\n",
        "\n",
        "# Declarando o Modelo\n",
        "clf = DecisionTreeClassifier(criterion='gini',\n",
        "#                              min_samples_leaf=5,\n",
        "#                              min_samples_split=5,\n",
        "                              max_depth=None,\n",
        "                              random_state=seed)\n",
        "\n",
        "# Aprendizado \n",
        "clf.fit(X_train, y_train)                  # Emprega o conjunto de treinamento \n",
        "\n",
        "y_pred = clf.predict(X_test)\n",
        "\n",
        "print(y_pred)\n"
      ],
      "execution_count": null,
      "outputs": [
        {
          "output_type": "stream",
          "text": [
            "['M' 'B' 'B' 'M' 'B' 'B' 'B' 'B' 'B' 'B' 'M' 'M' 'B' 'M' 'B' 'M' 'M' 'B'\n",
            " 'B' 'M' 'B' 'B' 'B' 'B' 'B' 'M' 'B' 'B' 'M' 'M' 'B' 'B' 'M' 'B' 'B' 'B'\n",
            " 'M' 'B' 'B' 'B' 'B' 'B' 'B' 'M' 'M' 'M' 'B' 'M' 'B' 'M' 'B' 'B' 'M' 'B'\n",
            " 'B' 'B' 'B' 'B' 'B' 'M' 'M' 'B' 'M' 'B' 'M' 'B' 'B' 'B' 'B' 'M' 'M' 'B'\n",
            " 'M' 'B' 'B' 'B' 'B' 'B' 'B' 'M' 'M' 'B' 'B' 'B' 'M' 'M' 'M' 'B' 'M' 'B'\n",
            " 'B' 'M' 'M' 'B' 'B' 'B' 'B' 'M' 'B' 'B' 'B' 'B' 'B' 'B' 'M' 'B' 'B' 'M'\n",
            " 'B' 'M' 'B' 'M' 'M' 'M' 'M' 'B' 'B' 'B' 'B' 'B' 'M' 'M' 'B' 'M' 'M' 'B'\n",
            " 'B' 'B' 'B' 'M' 'M' 'B' 'M' 'B' 'B' 'M' 'M' 'B' 'M' 'B' 'B' 'M' 'B' 'M'\n",
            " 'B' 'B' 'B' 'B' 'B' 'M' 'M' 'B' 'M' 'M' 'M' 'B' 'M' 'B' 'B' 'M' 'B' 'B'\n",
            " 'B' 'B' 'B' 'B' 'M' 'B' 'B' 'B' 'B']\n"
          ],
          "name": "stdout"
        }
      ]
    },
    {
      "cell_type": "markdown",
      "metadata": {
        "id": "qTAXNzNn1Hnk"
      },
      "source": [
        "# Apresentando os resultados\n",
        "\n",
        "Não se preocupe com este código, ele está aqui apenas para apresentar os resultados para que você entenda o que está acontecendo. "
      ]
    },
    {
      "cell_type": "code",
      "metadata": {
        "id": "V8Z2ck0UwPlN",
        "colab": {
          "base_uri": "https://localhost:8080/",
          "height": 238
        },
        "outputId": "598b05ec-6f4b-4847-ec97-94fc3df43d8b"
      },
      "source": [
        "# pd.set_option('display.max_rows',None)\n",
        "\n",
        "a = pd.DataFrame(y_pred)\n",
        "b = pd.DataFrame(np.array(y_test))\n",
        "c = a == b\n",
        "d = pd.concat([a,b,c],axis=1)\n",
        "\n",
        "d.columns=['Real','Predicted','Equal?']\n",
        "# print(d)\n",
        "print(d[d['Equal?'] == False])\n"
      ],
      "execution_count": null,
      "outputs": [
        {
          "output_type": "stream",
          "text": [
            "    Real Predicted  Equal?\n",
            "14     B         M   False\n",
            "24     B         M   False\n",
            "29     M         B   False\n",
            "32     M         B   False\n",
            "60     M         B   False\n",
            "61     B         M   False\n",
            "78     B         M   False\n",
            "79     M         B   False\n",
            "82     B         M   False\n",
            "100    B         M   False\n",
            "159    M         B   False\n",
            "167    B         M   False\n"
          ],
          "name": "stdout"
        }
      ]
    },
    {
      "cell_type": "markdown",
      "metadata": {
        "id": "aBb4U7kobJJ_"
      },
      "source": [
        "# Interpretando o **`classification_report`**"
      ]
    },
    {
      "cell_type": "code",
      "metadata": {
        "id": "ju5JkXEraF-9",
        "colab": {
          "base_uri": "https://localhost:8080/",
          "height": 221
        },
        "outputId": "cf6a4f38-2bcb-4362-dee6-e06a7a80aa17"
      },
      "source": [
        "from sklearn.metrics import confusion_matrix\n",
        "from sklearn.metrics import classification_report\n",
        "from sklearn.metrics import accuracy_score\n",
        "\n",
        "cm = confusion_matrix(y_test, y_pred)\n",
        "print(cm)\n",
        "    \n",
        "accuracy = accuracy_score(y_test, y_pred)\n",
        "print(accuracy)\n",
        "\n",
        "print(classification_report(y_test, y_pred))"
      ],
      "execution_count": null,
      "outputs": [
        {
          "output_type": "stream",
          "text": [
            "[[102   7]\n",
            " [  5  57]]\n",
            "0.9298245614035088\n",
            "              precision    recall  f1-score   support\n",
            "\n",
            "           B       0.95      0.94      0.94       109\n",
            "           M       0.89      0.92      0.90        62\n",
            "\n",
            "    accuracy                           0.93       171\n",
            "   macro avg       0.92      0.93      0.92       171\n",
            "weighted avg       0.93      0.93      0.93       171\n",
            "\n"
          ],
          "name": "stdout"
        }
      ]
    },
    {
      "cell_type": "markdown",
      "metadata": {
        "id": "E7LO_EZEbtNY"
      },
      "source": [
        "# Exibindo a Árvore\n",
        "\n",
        "Não vamos trabalhar com o gráfico das Árvores. Mas deixamos o código aqui para que você empregue se tiver interesse."
      ]
    },
    {
      "cell_type": "code",
      "metadata": {
        "id": "-cuDidZC_p8X",
        "colab": {
          "base_uri": "https://localhost:8080/",
          "height": 911
        },
        "outputId": "135ec639-13c6-404d-d47b-62fff73d13bf"
      },
      "source": [
        "from sklearn import tree\n",
        "tree.plot_tree(clf)"
      ],
      "execution_count": null,
      "outputs": [
        {
          "output_type": "execute_result",
          "data": {
            "text/plain": [
              "[Text(207.0853448275862, 203.85, 'X[28] <= 0.142\\ngini = 0.467\\nsamples = 398\\nvalue = [250, 148]'),\n",
              " Text(148.6396551724138, 176.67000000000002, 'X[21] <= 17.72\\ngini = 0.148\\nsamples = 261\\nvalue = [240, 21]'),\n",
              " Text(101.01724137931033, 149.49, 'X[14] <= 42.95\\ngini = 0.078\\nsamples = 247\\nvalue = [237, 10]'),\n",
              " Text(63.49655172413793, 122.31, 'X[21] <= 15.77\\ngini = 0.049\\nsamples = 238\\nvalue = [232, 6]'),\n",
              " Text(23.089655172413792, 95.13, 'X[22] <= 33.27\\ngini = 0.01\\nsamples = 205\\nvalue = [204, 1]'),\n",
              " Text(11.544827586206896, 67.94999999999999, 'gini = 0.0\\nsamples = 192\\nvalue = [192, 0]'),\n",
              " Text(34.63448275862069, 67.94999999999999, 'X[2] <= 23.2\\ngini = 0.142\\nsamples = 13\\nvalue = [12, 1]'),\n",
              " Text(23.089655172413792, 40.77000000000001, 'gini = 0.0\\nsamples = 1\\nvalue = [0, 1]'),\n",
              " Text(46.179310344827584, 40.77000000000001, 'gini = 0.0\\nsamples = 12\\nvalue = [12, 0]'),\n",
              " Text(103.90344827586206, 95.13, 'X[25] <= 0.13\\ngini = 0.257\\nsamples = 33\\nvalue = [28, 5]'),\n",
              " Text(80.81379310344828, 67.94999999999999, 'X[4] <= 569.25\\ngini = 0.071\\nsamples = 27\\nvalue = [26, 1]'),\n",
              " Text(69.26896551724138, 40.77000000000001, 'X[1] <= 13.355\\ngini = 0.5\\nsamples = 2\\nvalue = [1, 1]'),\n",
              " Text(57.72413793103448, 13.590000000000003, 'gini = 0.0\\nsamples = 1\\nvalue = [1, 0]'),\n",
              " Text(80.81379310344828, 13.590000000000003, 'gini = 0.0\\nsamples = 1\\nvalue = [0, 1]'),\n",
              " Text(92.35862068965517, 40.77000000000001, 'gini = 0.0\\nsamples = 25\\nvalue = [25, 0]'),\n",
              " Text(126.99310344827586, 67.94999999999999, 'X[3] <= 95.03\\ngini = 0.444\\nsamples = 6\\nvalue = [2, 4]'),\n",
              " Text(115.44827586206895, 40.77000000000001, 'gini = 0.0\\nsamples = 4\\nvalue = [0, 4]'),\n",
              " Text(138.53793103448277, 40.77000000000001, 'gini = 0.0\\nsamples = 2\\nvalue = [2, 0]'),\n",
              " Text(138.53793103448277, 122.31, 'X[20] <= 0.003\\ngini = 0.494\\nsamples = 9\\nvalue = [5, 4]'),\n",
              " Text(126.99310344827586, 95.13, 'gini = 0.0\\nsamples = 4\\nvalue = [0, 4]'),\n",
              " Text(150.08275862068965, 95.13, 'gini = 0.0\\nsamples = 5\\nvalue = [5, 0]'),\n",
              " Text(196.26206896551724, 149.49, 'X[28] <= 0.092\\ngini = 0.337\\nsamples = 14\\nvalue = [3, 11]'),\n",
              " Text(184.71724137931034, 122.31, 'X[28] <= 0.083\\ngini = 0.375\\nsamples = 4\\nvalue = [3, 1]'),\n",
              " Text(173.17241379310343, 95.13, 'gini = 0.0\\nsamples = 1\\nvalue = [0, 1]'),\n",
              " Text(196.26206896551724, 95.13, 'gini = 0.0\\nsamples = 3\\nvalue = [3, 0]'),\n",
              " Text(207.80689655172412, 122.31, 'gini = 0.0\\nsamples = 10\\nvalue = [0, 10]'),\n",
              " Text(265.5310344827586, 176.67000000000002, 'X[14] <= 18.68\\ngini = 0.135\\nsamples = 137\\nvalue = [10, 127]'),\n",
              " Text(242.44137931034481, 149.49, 'X[22] <= 28.38\\ngini = 0.42\\nsamples = 10\\nvalue = [7, 3]'),\n",
              " Text(230.8965517241379, 122.31, 'gini = 0.0\\nsamples = 7\\nvalue = [7, 0]'),\n",
              " Text(253.98620689655172, 122.31, 'gini = 0.0\\nsamples = 3\\nvalue = [0, 3]'),\n",
              " Text(288.6206896551724, 149.49, 'X[24] <= 474.1\\ngini = 0.046\\nsamples = 127\\nvalue = [3, 124]'),\n",
              " Text(277.07586206896553, 122.31, 'gini = 0.0\\nsamples = 1\\nvalue = [1, 0]'),\n",
              " Text(300.1655172413793, 122.31, 'X[7] <= 0.063\\ngini = 0.031\\nsamples = 126\\nvalue = [2, 124]'),\n",
              " Text(288.6206896551724, 95.13, 'gini = 0.0\\nsamples = 1\\nvalue = [1, 0]'),\n",
              " Text(311.7103448275862, 95.13, 'X[11] <= 0.248\\ngini = 0.016\\nsamples = 125\\nvalue = [1, 124]'),\n",
              " Text(300.1655172413793, 67.94999999999999, 'X[14] <= 20.31\\ngini = 0.444\\nsamples = 3\\nvalue = [1, 2]'),\n",
              " Text(288.6206896551724, 40.77000000000001, 'gini = 0.0\\nsamples = 2\\nvalue = [0, 2]'),\n",
              " Text(311.7103448275862, 40.77000000000001, 'gini = 0.0\\nsamples = 1\\nvalue = [1, 0]'),\n",
              " Text(323.2551724137931, 67.94999999999999, 'gini = 0.0\\nsamples = 122\\nvalue = [0, 122]')]"
            ]
          },
          "metadata": {
            "tags": []
          },
          "execution_count": 8
        },
        {
          "output_type": "display_data",
          "data": {
            "image/png": "[encoded data removed]",
            "text/plain": [
              "<Figure size 432x288 with 1 Axes>"
            ]
          },
          "metadata": {
            "tags": [],
            "needs_background": "light"
          }
        }
      ]
    },
    {
      "cell_type": "markdown",
      "metadata": {
        "id": "6_NuX5FQuhOi"
      },
      "source": [
        "# **LAB SET UP**\n",
        "Execute antes de iniciar o Lab."
      ]
    },
    {
      "cell_type": "code",
      "metadata": {
        "id": "V0xgakVgemrH"
      },
      "source": [
        "#\n",
        "# set up environment T9 Lab\n",
        "#\n",
        "\n",
        "#\n",
        "# import basics\n",
        "# \n",
        "\n",
        "import pandas                  as pd\n",
        "import numpy                   as np\n",
        "import matplotlib.pyplot       as plt\n",
        "import warnings\n",
        "import os\n",
        "import seaborn as sns\n",
        "warnings.filterwarnings(\"ignore\") \n",
        "\n",
        "#\n",
        "# Create all files for this lab: \n",
        "#\n",
        "# projects.csv\n",
        "# new_projects.csv\n",
        "# insurance.csv\n",
        "# new_insurance.csv\n",
        "# breast.csv\n",
        "# new_breast.csv\n",
        "#\n",
        "\n",
        "import pandas as pd\n",
        "\n",
        "\n",
        "import pandas as pd\n",
        "projects = pd.DataFrame({ 'Ana':[1,1,0,0],\n",
        "                         'Gabriela':[1,1,0,0],\n",
        "                         'Pedro':[0,1,1,1],\n",
        "                         'Luiz':[1,1,0,1],\n",
        "                         'Status':['successed','successed','failed','failed']})\n",
        "projects.to_csv('projects.csv',index=False)\n",
        "\n",
        "new_projects = pd.DataFrame({ 'Ana':[0,1],\n",
        "                         'Gabriela':[1,1],\n",
        "                         'Pedro':[1,1],\n",
        "                         'Luiz':[0,0],\n",
        "                         'Status':['?','?']})\n",
        "new_projects.to_csv('new_projects.csv',index=False)\n",
        "\n",
        "insurance    = pd.DataFrame({ 'Age':[21,20,35,40],\n",
        "                         'Income':[5,3.5,8,12],\n",
        "                         'Car_Value':[40,40,34,60],\n",
        "                         'Years_Hab':[3,2,10,12],\n",
        "                         'Insurance':['high','high','low','low']})\n",
        "insurance.to_csv('insurance.csv',index=False)\n",
        "\n",
        "new_insurance    = pd.DataFrame({ 'Age':[19,50,23],\n",
        "                         'Income':[5,10,4],\n",
        "                         'Car_Value':[50,45,80],\n",
        "                         'Years_Hab':[1,15,1],\n",
        "                         'Insurance':['?','?','?']})\n",
        "new_insurance.to_csv('new_insurance.csv',index=False)\n",
        "\n",
        "breast = pd.read_csv('http://meusite.mackenzie.br/rogerio/TIC/breast-cancer-wisconsin.csv')\n",
        "breast = breast.drop(columns=['Unnamed: 32'])\n",
        "breast.to_csv('breast.csv',index=False)\n",
        "\n",
        "new_breast = pd.DataFrame(breast.quantile(0)).transpose()\n",
        "new_breast = pd.concat([new_breast, pd.DataFrame(breast.quantile(0.25)).transpose()])\n",
        "new_breast = pd.concat([new_breast, pd.DataFrame(breast.quantile(0.50)).transpose()])\n",
        "new_breast = pd.concat([new_breast, pd.DataFrame(breast.quantile(0.75)).transpose()])\n",
        "new_breast = pd.concat([new_breast, pd.DataFrame(breast.quantile(1.00)).transpose()])\n",
        "new_breast['diagnosis'] = '?'\n",
        "# new_breast.drop(columns=['id'], inplace=True)\n",
        "new_breast.to_csv('new_breast.csv',index=False)\n",
        "\n",
        "from sklearn.tree import export_graphviz\n",
        "import graphviz\n",
        "from sklearn.preprocessing import LabelEncoder\n",
        "\n",
        "le = LabelEncoder()\n",
        "\n",
        "def plot_tree(tree, dataframe, label_col, label_encoder, plot_title):\n",
        "    label_names = pd.unique(dataframe[label_col])\n",
        "    # Obtaining plot data.\n",
        "    graph_data = export_graphviz(tree,\n",
        "        feature_names=dataframe.drop(label_col, axis=1).columns,\n",
        "        class_names=label_names,\n",
        "        filled=True,\n",
        "        rounded=True,\n",
        "        out_file=None)\n",
        "    # Generating plot.\n",
        "    graph = graphviz.Source(graph_data)\n",
        "    graph.render(plot_title)\n",
        "    return graph\n",
        "\n",
        "seed = 1984\n"
      ],
      "execution_count": null,
      "outputs": []
    }
  ]
}