{
  "nbformat": 4,
  "nbformat_minor": 0,
  "metadata": {
    "anaconda-cloud": {},
    "kernelspec": {
      "display_name": "Python 3",
      "language": "python",
      "name": "python3"
    },
    "language_info": {
      "codemirror_mode": {
        "name": "ipython",
        "version": 3
      },
      "file_extension": ".py",
      "mimetype": "text/x-python",
      "name": "python",
      "nbconvert_exporter": "python",
      "pygments_lexer": "ipython3",
      "version": "3.7.4"
    },
    "colab": {
      "name": "ACD_T6_Compare_Regressao_Linear_e_Logistica.ipynb",
      "provenance": [],
      "collapsed_sections": [
        "mGhb-8atV0E-",
        "_LZsmTAEYpHo",
        "IRed5j3hBH3r"
      ],
      "include_colab_link": true
    }
  },
  "cells": [
    {
      "cell_type": "markdown",
      "metadata": {
        "id": "view-in-github",
        "colab_type": "text"
      },
      "source": [
        "<a href=\"https://colab.research.google.com/github/Rogerio-mack/Ciencia-de-Dados-e-Aprendizado-de-Maquina/blob/main/ACD_T6_Compare_Regressao_Linear_e_Logistica.ipynb\" target=\"_parent\"><img src=\"https://colab.research.google.com/assets/colab-badge.svg\" alt=\"Open In Colab\"/></a>"
      ]
    },
    {
      "cell_type": "markdown",
      "metadata": {
        "id": "gglUriLmo1sR"
      },
      "source": [
        "<head>\n",
        "  <meta name=\"author\" content=\"Rogério de Oliveira\">\n",
        "  <meta institution=\"author\" content=\"Universidade Presbiteriana Mackenzie\">\n",
        "</head>\n",
        "\n",
        "<img src=\"http://meusite.mackenzie.br/rogerio/mackenzie_logo/UPM.2_horizontal_vermelho.jpg\" width=300, align=\"right\">\n",
        "<!-- <h1 align=left><font size = 6, style=\"color:rgb(200,0,0)\"> optional title </font></h1> -->"
      ]
    },
    {
      "cell_type": "markdown",
      "metadata": {
        "id": "x3RSAcU_o1sU"
      },
      "source": [
        "# Regressão Linear $\\times$ Regressão Logística\n",
        "---\n",
        "\n",
        "Diferenças e modelos de código."
      ]
    },
    {
      "cell_type": "markdown",
      "metadata": {
        "id": "RUkrHCJKSYn3"
      },
      "source": [
        "# Breast+Cancer+Wisconsin+(Diagnostic)\n",
        "\n",
        "Para descrição dos dados acesse https://archive.ics.uci.edu/ml/datasets/Breast+Cancer+Wisconsin+(Diagnostic)\n",
        "\n",
        "\n"
      ]
    },
    {
      "cell_type": "markdown",
      "metadata": {
        "id": "TK5rvTrugOwz"
      },
      "source": [
        "<img src=\"https://github.com/Rogerio-mack/Ciencia-de-Dados-e-Aprendizado-de-Maquina/blob/main/figuras/linearregressionlogitbreast1.PNG?raw=true\" width=1200, align=\"right\"> "
      ]
    },
    {
      "cell_type": "markdown",
      "metadata": {
        "id": "JdI_KW4hMje1"
      },
      "source": [
        "# Dados"
      ]
    },
    {
      "cell_type": "code",
      "metadata": {
        "id": "gh_2sWzPBk0X"
      },
      "source": [
        "import pandas as pd\n",
        "import numpy as np\n",
        "import matplotlib.pyplot as plt\n",
        "import seaborn as sns"
      ],
      "execution_count": null,
      "outputs": []
    },
    {
      "cell_type": "code",
      "metadata": {
        "id": "LZ9CxKfOrtSy",
        "colab": {
          "base_uri": "https://localhost:8080/",
          "height": 204
        },
        "outputId": "bf52ae6a-d603-45d2-ba43-512b7dbcb922"
      },
      "source": [
        "df = pd.read_csv('http://meusite.mackenzie.br/rogerio/TIC/breast-cancer-wisconsin.csv')\n",
        "df = df[['diagnosis', 'radius_mean', 'texture_mean', 'perimeter_mean', 'area_mean']] # vamos empregar apenas uma parte dos dados\n",
        "df.head()\n"
      ],
      "execution_count": null,
      "outputs": [
        {
          "output_type": "execute_result",
          "data": {
            "text/html": [
              "<div>\n",
              "<style scoped>\n",
              "    .dataframe tbody tr th:only-of-type {\n",
              "        vertical-align: middle;\n",
              "    }\n",
              "\n",
              "    .dataframe tbody tr th {\n",
              "        vertical-align: top;\n",
              "    }\n",
              "\n",
              "    .dataframe thead th {\n",
              "        text-align: right;\n",
              "    }\n",
              "</style>\n",
              "<table border=\"1\" class=\"dataframe\">\n",
              "  <thead>\n",
              "    <tr style=\"text-align: right;\">\n",
              "      <th></th>\n",
              "      <th>diagnosis</th>\n",
              "      <th>radius_mean</th>\n",
              "      <th>texture_mean</th>\n",
              "      <th>perimeter_mean</th>\n",
              "      <th>area_mean</th>\n",
              "    </tr>\n",
              "  </thead>\n",
              "  <tbody>\n",
              "    <tr>\n",
              "      <th>0</th>\n",
              "      <td>M</td>\n",
              "      <td>17.99</td>\n",
              "      <td>10.38</td>\n",
              "      <td>122.80</td>\n",
              "      <td>1001.0</td>\n",
              "    </tr>\n",
              "    <tr>\n",
              "      <th>1</th>\n",
              "      <td>M</td>\n",
              "      <td>20.57</td>\n",
              "      <td>17.77</td>\n",
              "      <td>132.90</td>\n",
              "      <td>1326.0</td>\n",
              "    </tr>\n",
              "    <tr>\n",
              "      <th>2</th>\n",
              "      <td>M</td>\n",
              "      <td>19.69</td>\n",
              "      <td>21.25</td>\n",
              "      <td>130.00</td>\n",
              "      <td>1203.0</td>\n",
              "    </tr>\n",
              "    <tr>\n",
              "      <th>3</th>\n",
              "      <td>M</td>\n",
              "      <td>11.42</td>\n",
              "      <td>20.38</td>\n",
              "      <td>77.58</td>\n",
              "      <td>386.1</td>\n",
              "    </tr>\n",
              "    <tr>\n",
              "      <th>4</th>\n",
              "      <td>M</td>\n",
              "      <td>20.29</td>\n",
              "      <td>14.34</td>\n",
              "      <td>135.10</td>\n",
              "      <td>1297.0</td>\n",
              "    </tr>\n",
              "  </tbody>\n",
              "</table>\n",
              "</div>"
            ],
            "text/plain": [
              "  diagnosis  radius_mean  texture_mean  perimeter_mean  area_mean\n",
              "0         M        17.99         10.38          122.80     1001.0\n",
              "1         M        20.57         17.77          132.90     1326.0\n",
              "2         M        19.69         21.25          130.00     1203.0\n",
              "3         M        11.42         20.38           77.58      386.1\n",
              "4         M        20.29         14.34          135.10     1297.0"
            ]
          },
          "metadata": {},
          "execution_count": 64
        }
      ]
    },
    {
      "cell_type": "markdown",
      "metadata": {
        "id": "nwXdsSkQCbgq"
      },
      "source": [
        "# Regressão Linear"
      ]
    },
    {
      "cell_type": "markdown",
      "metadata": {
        "id": "8Et2s7fQTEno"
      },
      "source": [
        "$$ y_\\text{pred} = \\text{area_mean}_\\text{pred} = a_0 + a_1\t\\text{radius_mean}\t+ a_2 \\text{texture_mean}\t+ a_3 \\text{perimeter_mean} $$"
      ]
    },
    {
      "cell_type": "code",
      "metadata": {
        "id": "KZNENRwGDcSg",
        "colab": {
          "base_uri": "https://localhost:8080/"
        },
        "outputId": "cb9aee1d-d1a0-46b6-a331-b667c832cf0a"
      },
      "source": [
        "import statsmodels.formula.api as sm\n",
        "\n",
        "# Definição\n",
        "lm = sm.ols(formula='area_mean ~ radius_mean + texture_mean\t+ perimeter_mean', data=df)\n",
        "\n",
        "# Treinamento\n",
        "lm = lm.fit()\n",
        "\n",
        "# Avaliação\n",
        "print(lm.summary())\n",
        "\n",
        "# Predição\n",
        "X_new = pd.DataFrame({'radius_mean': [15.1], 'texture_mean': [15.8], 'perimeter_mean': [90]  })\n",
        "y_pred = lm.predict(X_new)\n",
        "\n",
        "print(5*'\\n' + 'x = ' , X_new, '\\npredição = ', y_pred[0])\n",
        "\n"
      ],
      "execution_count": null,
      "outputs": [
        {
          "output_type": "stream",
          "name": "stdout",
          "text": [
            "                            OLS Regression Results                            \n",
            "==============================================================================\n",
            "Dep. Variable:              area_mean   R-squared:                       0.975\n",
            "Model:                            OLS   Adj. R-squared:                  0.975\n",
            "Method:                 Least Squares   F-statistic:                     7421.\n",
            "Date:                Wed, 15 Sep 2021   Prob (F-statistic):               0.00\n",
            "Time:                        03:43:08   Log-Likelihood:                -3090.8\n",
            "No. Observations:                 569   AIC:                             6190.\n",
            "Df Residuals:                     565   BIC:                             6207.\n",
            "Df Model:                           3                                         \n",
            "Covariance Type:            nonrobust                                         \n",
            "==================================================================================\n",
            "                     coef    std err          t      P>|t|      [0.025      0.975]\n",
            "----------------------------------------------------------------------------------\n",
            "Intercept       -714.9150     15.061    -47.468      0.000    -744.497    -685.333\n",
            "radius_mean       69.0603     10.131      6.817      0.000      49.161      88.959\n",
            "texture_mean      -0.0470      0.576     -0.082      0.935      -1.177       1.083\n",
            "perimeter_mean     4.2958      1.472      2.918      0.004       1.404       7.188\n",
            "==============================================================================\n",
            "Omnibus:                      473.868   Durbin-Watson:                   1.933\n",
            "Prob(Omnibus):                  0.000   Jarque-Bera (JB):            14085.580\n",
            "Skew:                           3.474   Prob(JB):                         0.00\n",
            "Kurtosis:                      26.363   Cond. No.                         700.\n",
            "==============================================================================\n",
            "\n",
            "Warnings:\n",
            "[1] Standard Errors assume that the covariance matrix of the errors is correctly specified.\n",
            "\n",
            "\n",
            "\n",
            "\n",
            "\n",
            "x =     radius_mean  texture_mean  perimeter_mean\n",
            "0         15.1          15.8              90 \n",
            "predição =  713.7702034152046\n"
          ]
        }
      ]
    },
    {
      "cell_type": "markdown",
      "metadata": {
        "id": "5S2JH7UBIVDx"
      },
      "source": [
        "# Regressão Logística"
      ]
    },
    {
      "cell_type": "markdown",
      "metadata": {
        "id": "Q9QLV_KTSLbD"
      },
      "source": [
        "$$ y_\\text{pred} = P(\\text{diagnosis}=B) = \\frac{exp( a_0 + a_1\t\\text{radius_mean}\t+ a_2 \\text{texture_mean}\t+ a_3 \\text{perimeter_mean})}{1 + exp( a_0 + a_1\t\\text{radius_mean}\t+ a_2 \\text{texture_mean}\t+ a_3 \\text{perimeter_mean})}$$"
      ]
    },
    {
      "cell_type": "code",
      "metadata": {
        "id": "TBpVZYTGIYJg",
        "colab": {
          "base_uri": "https://localhost:8080/"
        },
        "outputId": "b21d681b-231c-451c-adf4-3d219d16b849"
      },
      "source": [
        "from sklearn.model_selection import train_test_split\n",
        "from sklearn.linear_model import LogisticRegression\n",
        "\n",
        "# Entradas e Saídas\n",
        "X = df[['radius_mean', 'texture_mean', 'perimeter_mean']]\n",
        "y = df['diagnosis']\n",
        "\n",
        "# Separação Treinamento e Teste\n",
        "X_train, X_test, y_train, y_test = train_test_split(X, y, test_size=0.3, random_state=123)\n",
        "\n",
        "# Definição\n",
        "logit = LogisticRegression()\n",
        "\n",
        "# Treinamento\n",
        "logit.fit(X_train,y_train)\n",
        "\n",
        "# Avaliação\n",
        "from sklearn import metrics\n",
        "\n",
        "y_pred = logit.predict(X_test)\n",
        "\n",
        "cm = metrics.confusion_matrix(y_test, y_pred)\n",
        "print(cm)\n",
        "print(metrics.accuracy_score(y_test, y_pred))\n",
        "\n",
        "# Predição\n",
        "X_new = pd.DataFrame({'radius_mean': [15.1], 'texture_mean': [15.8], 'perimeter_mean': [90]  })\n",
        "y_pred = logit.predict(X_new)\n",
        "\n",
        "print(5*'\\n' + 'x = ' , X_new, '\\npredição = ', y_pred[0])\n"
      ],
      "execution_count": null,
      "outputs": [
        {
          "output_type": "stream",
          "name": "stdout",
          "text": [
            "[[101   2]\n",
            " [ 13  55]]\n",
            "0.9122807017543859\n",
            "\n",
            "\n",
            "\n",
            "\n",
            "\n",
            "x =     radius_mean  texture_mean  perimeter_mean\n",
            "0         15.1          15.8              90 \n",
            "predição =  B\n"
          ]
        }
      ]
    },
    {
      "cell_type": "markdown",
      "metadata": {
        "id": "KtQ_Jm5RhFuL"
      },
      "source": [
        "# Conjuntos de Treinamento e Teste\n",
        "\n",
        "Empregue o conjunto de treinamento para o aprendizado do modelo. O conjunto de teste servirá de controle para verificar o resultado do modelo."
      ]
    },
    {
      "cell_type": "markdown",
      "metadata": {
        "id": "S8WqQXRLg499"
      },
      "source": [
        "<img src=\"https://github.com/Rogerio-mack/Ciencia-de-Dados-e-Aprendizado-de-Maquina/blob/main/figuras/linearregressionlogitbreast2.PNG?raw=true\" width=1200, align=\"right\"> "
      ]
    },
    {
      "cell_type": "markdown",
      "metadata": {
        "id": "A0Ogdmhzikp1"
      },
      "source": [
        "# `y_pred = y_test ?`"
      ]
    },
    {
      "cell_type": "code",
      "metadata": {
        "id": "Sq3qis-8hjok",
        "colab": {
          "base_uri": "https://localhost:8080/",
          "height": 419
        },
        "outputId": "bb1231b7-a1b8-4525-891b-70ef665127a8"
      },
      "source": [
        "y_pred = logit.predict(X_test)\n",
        "\n",
        "X_test['diagnosis_pred'] = y_pred\n",
        "X_test['diagnosis'] = y_test\n",
        "X_test['are_equal'] = X_test['diagnosis_pred'] == X_test['diagnosis']\n",
        "\n",
        "X_test"
      ],
      "execution_count": null,
      "outputs": [
        {
          "output_type": "execute_result",
          "data": {
            "text/html": [
              "<div>\n",
              "<style scoped>\n",
              "    .dataframe tbody tr th:only-of-type {\n",
              "        vertical-align: middle;\n",
              "    }\n",
              "\n",
              "    .dataframe tbody tr th {\n",
              "        vertical-align: top;\n",
              "    }\n",
              "\n",
              "    .dataframe thead th {\n",
              "        text-align: right;\n",
              "    }\n",
              "</style>\n",
              "<table border=\"1\" class=\"dataframe\">\n",
              "  <thead>\n",
              "    <tr style=\"text-align: right;\">\n",
              "      <th></th>\n",
              "      <th>radius_mean</th>\n",
              "      <th>texture_mean</th>\n",
              "      <th>perimeter_mean</th>\n",
              "      <th>diagnosis_pred</th>\n",
              "      <th>diagnosis</th>\n",
              "      <th>are_equal</th>\n",
              "    </tr>\n",
              "  </thead>\n",
              "  <tbody>\n",
              "    <tr>\n",
              "      <th>333</th>\n",
              "      <td>11.250</td>\n",
              "      <td>14.78</td>\n",
              "      <td>71.38</td>\n",
              "      <td>B</td>\n",
              "      <td>B</td>\n",
              "      <td>True</td>\n",
              "    </tr>\n",
              "    <tr>\n",
              "      <th>273</th>\n",
              "      <td>9.742</td>\n",
              "      <td>15.67</td>\n",
              "      <td>61.50</td>\n",
              "      <td>B</td>\n",
              "      <td>B</td>\n",
              "      <td>True</td>\n",
              "    </tr>\n",
              "    <tr>\n",
              "      <th>201</th>\n",
              "      <td>17.540</td>\n",
              "      <td>19.32</td>\n",
              "      <td>115.10</td>\n",
              "      <td>M</td>\n",
              "      <td>M</td>\n",
              "      <td>True</td>\n",
              "    </tr>\n",
              "    <tr>\n",
              "      <th>178</th>\n",
              "      <td>13.010</td>\n",
              "      <td>22.22</td>\n",
              "      <td>82.01</td>\n",
              "      <td>B</td>\n",
              "      <td>B</td>\n",
              "      <td>True</td>\n",
              "    </tr>\n",
              "    <tr>\n",
              "      <th>85</th>\n",
              "      <td>18.460</td>\n",
              "      <td>18.52</td>\n",
              "      <td>121.10</td>\n",
              "      <td>M</td>\n",
              "      <td>M</td>\n",
              "      <td>True</td>\n",
              "    </tr>\n",
              "    <tr>\n",
              "      <th>...</th>\n",
              "      <td>...</td>\n",
              "      <td>...</td>\n",
              "      <td>...</td>\n",
              "      <td>...</td>\n",
              "      <td>...</td>\n",
              "      <td>...</td>\n",
              "    </tr>\n",
              "    <tr>\n",
              "      <th>101</th>\n",
              "      <td>6.981</td>\n",
              "      <td>13.43</td>\n",
              "      <td>43.79</td>\n",
              "      <td>B</td>\n",
              "      <td>B</td>\n",
              "      <td>True</td>\n",
              "    </tr>\n",
              "    <tr>\n",
              "      <th>329</th>\n",
              "      <td>16.260</td>\n",
              "      <td>21.88</td>\n",
              "      <td>107.50</td>\n",
              "      <td>M</td>\n",
              "      <td>M</td>\n",
              "      <td>True</td>\n",
              "    </tr>\n",
              "    <tr>\n",
              "      <th>42</th>\n",
              "      <td>19.070</td>\n",
              "      <td>24.81</td>\n",
              "      <td>128.30</td>\n",
              "      <td>M</td>\n",
              "      <td>M</td>\n",
              "      <td>True</td>\n",
              "    </tr>\n",
              "    <tr>\n",
              "      <th>432</th>\n",
              "      <td>20.180</td>\n",
              "      <td>19.54</td>\n",
              "      <td>133.80</td>\n",
              "      <td>M</td>\n",
              "      <td>M</td>\n",
              "      <td>True</td>\n",
              "    </tr>\n",
              "    <tr>\n",
              "      <th>41</th>\n",
              "      <td>10.950</td>\n",
              "      <td>21.35</td>\n",
              "      <td>71.90</td>\n",
              "      <td>B</td>\n",
              "      <td>M</td>\n",
              "      <td>False</td>\n",
              "    </tr>\n",
              "  </tbody>\n",
              "</table>\n",
              "<p>171 rows × 6 columns</p>\n",
              "</div>"
            ],
            "text/plain": [
              "     radius_mean  texture_mean  ...  diagnosis are_equal\n",
              "333       11.250         14.78  ...          B      True\n",
              "273        9.742         15.67  ...          B      True\n",
              "201       17.540         19.32  ...          M      True\n",
              "178       13.010         22.22  ...          B      True\n",
              "85        18.460         18.52  ...          M      True\n",
              "..           ...           ...  ...        ...       ...\n",
              "101        6.981         13.43  ...          B      True\n",
              "329       16.260         21.88  ...          M      True\n",
              "42        19.070         24.81  ...          M      True\n",
              "432       20.180         19.54  ...          M      True\n",
              "41        10.950         21.35  ...          M     False\n",
              "\n",
              "[171 rows x 6 columns]"
            ]
          },
          "metadata": {},
          "execution_count": 67
        }
      ]
    },
    {
      "cell_type": "code",
      "metadata": {
        "id": "bFo66Kpkiv8j",
        "colab": {
          "base_uri": "https://localhost:8080/"
        },
        "outputId": "c29b8775-525e-47b9-88dc-97298be7f13d"
      },
      "source": [
        "X_test['are_equal'].sum() / len(X_test)"
      ],
      "execution_count": null,
      "outputs": [
        {
          "output_type": "execute_result",
          "data": {
            "text/plain": [
              "0.9122807017543859"
            ]
          },
          "metadata": {},
          "execution_count": 69
        }
      ]
    },
    {
      "cell_type": "markdown",
      "metadata": {
        "id": "01t7xzJ2hWBj"
      },
      "source": [
        "# Com os respectivos códigos..."
      ]
    },
    {
      "cell_type": "markdown",
      "metadata": {
        "id": "GiVB1-PIg_00"
      },
      "source": [
        "<img src=\"https://github.com/Rogerio-mack/Ciencia-de-Dados-e-Aprendizado-de-Maquina/blob/main/figuras/linearregressionlogitbreast3.PNG?raw=true\" width=1200, align=\"right\"> "
      ]
    }
  ]
}