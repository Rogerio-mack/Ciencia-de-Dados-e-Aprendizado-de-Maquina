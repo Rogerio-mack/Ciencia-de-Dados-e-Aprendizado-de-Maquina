{
  "nbformat": 4,
  "nbformat_minor": 0,
  "metadata": {
    "kernelspec": {
      "display_name": "Python 3",
      "language": "python",
      "name": "python3"
    },
    "language_info": {
      "codemirror_mode": {
        "name": "ipython",
        "version": 3
      },
      "file_extension": ".py",
      "mimetype": "text/x-python",
      "name": "python",
      "nbconvert_exporter": "python",
      "pygments_lexer": "ipython3",
      "version": "3.7.4"
    },
    "colab": {
      "name": "ACD_T10_Esquema_Geral_de_Classificacao.ipynb",
      "provenance": [],
      "include_colab_link": true
    }
  },
  "cells": [
    {
      "cell_type": "markdown",
      "metadata": {
        "id": "view-in-github",
        "colab_type": "text"
      },
      "source": [
        "<a href=\"https://colab.research.google.com/github/Rogerio-mack/Ciencia-de-Dados-e-Aprendizado-de-Maquina/blob/main/ACD_T10_Esquema_Geral_de_Classificacao.ipynb\" target=\"_parent\"><img src=\"https://colab.research.google.com/assets/colab-badge.svg\" alt=\"Open In Colab\"/></a>"
      ]
    },
    {
      "cell_type": "markdown",
      "metadata": {
        "id": "pqEhMdFQO3A-"
      },
      "source": [
        "<head>\n",
        "  <meta name=\"author\" content=\"Rogério de Oliveira\">\n",
        "  <meta institution=\"author\" content=\"Universidade Presbiteriana Mackenzie\">\n",
        "</head>\n",
        "\n",
        "<img src=\"http://meusite.mackenzie.br/rogerio/mackenzie_logo/UPM.2_horizontal_vermelho.jpg\" width=300, align=\"right\"> \n",
        "<!-- <h1 align=left><font size = 6, style=\"color:rgb(200,0,0)\"> optional title </font></h1> -->"
      ]
    },
    {
      "cell_type": "markdown",
      "metadata": {
        "id": "8JJm3b3CO3BC"
      },
      "source": [
        "# Esquema Geral de Classificadores"
      ]
    },
    {
      "cell_type": "markdown",
      "metadata": {
        "id": "PUuFdoqhHF_b"
      },
      "source": [
        "![imagem](https://github.com/Rogerio-mack/Ciencia-de-Dados-e-Aprendizado-de-Maquina/blob/main/figuras/ML_SUP_Esquema_Geral.png?raw=true)"
      ]
    },
    {
      "cell_type": "markdown",
      "metadata": {
        "id": "ZOkn7SvMHTOp"
      },
      "source": [
        "# Dados"
      ]
    },
    {
      "cell_type": "code",
      "metadata": {
        "id": "iY3TLR1KyRz8",
        "colab": {
          "base_uri": "https://localhost:8080/"
        },
        "outputId": "f9fe24d4-fb15-4419-d30d-65dc1019fb4e"
      },
      "source": [
        "import pandas as pd\n",
        "students = pd.DataFrame({'A':[3, 5, 1, 1, 4, 2, 1, 5, 2, 4, 4, 2, 2, 2, 5, 5, 3, 4, 5, 4],\n",
        "                         'B':[1, 1, 4, 5, 2, 4, 2, 3, 2, 1, 4, 3, 5, 2, 4, 1, 3, 2, 3, 2],\n",
        "                         'C':[2, 1, 5, 3, 3, 1, 3, 4, 1, 4, 2, 4, 4, 1, 4, 1, 5, 1, 4, 3],\n",
        "                         'D':[2, 3, 3, 1, 1, 2, 3, 4, 2, 4, 3, 5, 4, 2, 3, 1, 2, 2, 3, 2],\n",
        "                         'status':['R', 'L', 'R', 'L', 'L', 'L', 'R', 'R', 'L', 'R', 'L', 'R', 'R', 'L', 'L', 'L', 'R', 'L', 'L', 'L']})\n",
        "print(students)\n",
        "new_students = pd.DataFrame({'A':[5, 4, 4, 3],\n",
        "                             'B':[1, 4, 1, 3],\n",
        "                             'C':[1, 1, 2, 3],\n",
        "                             'D':[2, 4, 1, 3],\n",
        "                             'status':['?', '?', '?', '?']})\n",
        "print(new_students)\n"
      ],
      "execution_count": 34,
      "outputs": [
        {
          "output_type": "stream",
          "name": "stdout",
          "text": [
            "    A  B  C  D status\n",
            "0   3  1  2  2      R\n",
            "1   5  1  1  3      L\n",
            "2   1  4  5  3      R\n",
            "3   1  5  3  1      L\n",
            "4   4  2  3  1      L\n",
            "5   2  4  1  2      L\n",
            "6   1  2  3  3      R\n",
            "7   5  3  4  4      R\n",
            "8   2  2  1  2      L\n",
            "9   4  1  4  4      R\n",
            "10  4  4  2  3      L\n",
            "11  2  3  4  5      R\n",
            "12  2  5  4  4      R\n",
            "13  2  2  1  2      L\n",
            "14  5  4  4  3      L\n",
            "15  5  1  1  1      L\n",
            "16  3  3  5  2      R\n",
            "17  4  2  1  2      L\n",
            "18  5  3  4  3      L\n",
            "19  4  2  3  2      L\n",
            "   A  B  C  D status\n",
            "0  5  1  1  2      ?\n",
            "1  4  4  1  4      ?\n",
            "2  4  1  2  1      ?\n",
            "3  3  3  3  3      ?\n"
          ]
        }
      ]
    },
    {
      "cell_type": "markdown",
      "metadata": {
        "id": "RT6oxI5KIp8q"
      },
      "source": [
        "# Esquema Geral com `DecisionTreeClassifier`"
      ]
    },
    {
      "cell_type": "code",
      "metadata": {
        "colab": {
          "base_uri": "https://localhost:8080/"
        },
        "id": "lK7w5IAyHnCC",
        "outputId": "66314ae9-fcb3-44a2-c9c3-cd2a1005595a"
      },
      "source": [
        "from sklearn.tree import DecisionTreeClassifier\n",
        "from sklearn.model_selection import train_test_split\n",
        "from sklearn.metrics import accuracy_score\n",
        "\n",
        "# 1. Variáveis preditoras e objetivo\n",
        "X = students[['A','B','C','D']]       \n",
        "y = students.status\n",
        "\n",
        "# 2. Separação Treinamento e Teste\n",
        "seed = 1984\n",
        "X_train, X_test, y_train, y_test = train_test_split(X, y, test_size=0.3, stratify=y, random_state=seed)\n",
        "\n",
        "# 3. Definição do Modelo\n",
        "clf = DecisionTreeClassifier()\n",
        "\n",
        "# 4. Treinamento\n",
        "clf.fit(X_train, y_train)                  \n",
        "\n",
        "# 5. Avaliação sobre o conjunto de Teste\n",
        "y_pred = clf.predict(X_test)\n",
        "accuracy = accuracy_score(y_test, y_pred)\n",
        "print(accuracy)\n",
        "\n",
        "# 6. Predição de Novos casos\n",
        "X_new = students[['A','B','C','D']]  \n",
        "print( clf.predict(X_new) )\n"
      ],
      "execution_count": 35,
      "outputs": [
        {
          "output_type": "stream",
          "name": "stdout",
          "text": [
            "1.0\n",
            "['R' 'L' 'R' 'L' 'L' 'L' 'R' 'R' 'L' 'R' 'L' 'R' 'R' 'L' 'L' 'L' 'R' 'L'\n",
            " 'L' 'L']\n"
          ]
        }
      ]
    },
    {
      "cell_type": "markdown",
      "metadata": {
        "id": "-ZzY3ceZI6hZ"
      },
      "source": [
        "# Esquema Geral com outros Classificadores"
      ]
    },
    {
      "cell_type": "code",
      "metadata": {
        "colab": {
          "base_uri": "https://localhost:8080/"
        },
        "id": "R29fDhOnIyU0",
        "outputId": "40ab8a22-aaef-4fb7-c70b-2fddcc6dec67"
      },
      "source": [
        "from sklearn.linear_model import LogisticRegression\n",
        "from sklearn.neighbors import KNeighborsClassifier\n",
        "from sklearn.tree import DecisionTreeClassifier\n",
        "from sklearn.model_selection import KFold\n",
        "from sklearn.model_selection import cross_val_score\n",
        "from sklearn.naive_bayes import GaussianNB\n",
        "from sklearn.tree import DecisionTreeClassifier\n",
        "from sklearn.svm import SVC\n",
        "from sklearn.neural_network import MLPClassifier\n",
        "from sklearn.ensemble import RandomForestClassifier\n",
        "from sklearn.ensemble import AdaBoostClassifier\n",
        "from sklearn.ensemble import GradientBoostingClassifier\n",
        "\n",
        "from sklearn.model_selection import train_test_split\n",
        "from sklearn.metrics import accuracy_score\n",
        "\n",
        "# 1. Variáveis preditoras e objetivo\n",
        "X = students[['A','B','C','D']]       \n",
        "y = students.status\n",
        "\n",
        "# 2. Separação Treinamento e Teste\n",
        "seed = 1984\n",
        "X_train, X_test, y_train, y_test = train_test_split(X, y, test_size=0.3, stratify=y, random_state=seed)\n",
        "\n",
        "# 3. Definição do Modelo\n",
        "# clf = DecisionTreeClassifier()       # SEU MODELO\n",
        "# clf = LogisticRegression()\n",
        "clf = KNeighborsClassifier(3)\n",
        "# ...\n",
        "\n",
        "# 4. Treinamento\n",
        "clf.fit(X_train, y_train)                  \n",
        "\n",
        "# 5. Avaliação sobre o conjunto de Teste\n",
        "y_pred = clf.predict(X_test)\n",
        "accuracy = accuracy_score(y_test, y_pred)\n",
        "print(accuracy)\n",
        "\n",
        "# 6. Predição de Novos casos\n",
        "X_new = students[['A','B','C','D']]  \n",
        "print( clf.predict(X_new) )\n"
      ],
      "execution_count": 36,
      "outputs": [
        {
          "output_type": "stream",
          "name": "stdout",
          "text": [
            "0.8333333333333334\n",
            "['L' 'L' 'R' 'R' 'L' 'L' 'R' 'L' 'R' 'R' 'L' 'R' 'R' 'R' 'L' 'L' 'L' 'L'\n",
            " 'L' 'L']\n"
          ]
        }
      ]
    },
    {
      "cell_type": "markdown",
      "metadata": {
        "id": "OTVboQfRKtlK"
      },
      "source": [
        "# Mais Métricas para Avaliação do Modelo"
      ]
    },
    {
      "cell_type": "code",
      "metadata": {
        "colab": {
          "base_uri": "https://localhost:8080/"
        },
        "id": "DIbLHMqfKfFM",
        "outputId": "9305fa94-7249-44b6-8afd-da385ee9d23c"
      },
      "source": [
        "from sklearn.metrics import confusion_matrix\n",
        "from sklearn.metrics import classification_report\n",
        "from sklearn.metrics import accuracy_score\n",
        "\n",
        "cm = confusion_matrix(y_test, y_pred)\n",
        "print(cm)\n",
        "    \n",
        "accuracy = accuracy_score(y_test, y_pred)\n",
        "print(accuracy)\n",
        "\n",
        "print(classification_report(y_test, y_pred))"
      ],
      "execution_count": 37,
      "outputs": [
        {
          "output_type": "stream",
          "name": "stdout",
          "text": [
            "[[3 1]\n",
            " [0 2]]\n",
            "0.8333333333333334\n",
            "              precision    recall  f1-score   support\n",
            "\n",
            "           L       1.00      0.75      0.86         4\n",
            "           R       0.67      1.00      0.80         2\n",
            "\n",
            "    accuracy                           0.83         6\n",
            "   macro avg       0.83      0.88      0.83         6\n",
            "weighted avg       0.89      0.83      0.84         6\n",
            "\n"
          ]
        }
      ]
    },
    {
      "cell_type": "markdown",
      "metadata": {
        "id": "ba6uZvgnLFKc"
      },
      "source": [
        "# Comparando Modelos"
      ]
    },
    {
      "cell_type": "code",
      "metadata": {
        "colab": {
          "base_uri": "https://localhost:8080/"
        },
        "id": "fhQ6t-TNLEHS",
        "outputId": "2264fa59-97f3-4848-8416-1773d007cfde"
      },
      "source": [
        "from sklearn.neighbors import KNeighborsClassifier\n",
        "from sklearn.tree import DecisionTreeClassifier\n",
        "\n",
        "from sklearn.model_selection import train_test_split\n",
        "from sklearn.metrics import accuracy_score\n",
        "\n",
        "# 1. Variáveis preditoras e objetivo\n",
        "X = students[['A','B','C','D']]       \n",
        "y = students.status\n",
        "\n",
        "# 2. Separação Treinamento e Teste\n",
        "seed = 1984\n",
        "X_train, X_test, y_train, y_test = train_test_split(X, y, test_size=0.3, stratify=y, random_state=seed)\n",
        "\n",
        "# 3. Definição do Modelo\n",
        "models = [ DecisionTreeClassifier(),                 \n",
        "           KNeighborsClassifier(3),\n",
        "           KNeighborsClassifier(5) ]\n",
        "\n",
        "# 4. Treinamento\n",
        "for clf in models:\n",
        "  clf.fit(X_train, y_train)                  \n",
        "\n",
        "# 5. Avaliação sobre o conjunto de Teste\n",
        "for clf in models:\n",
        "  y_pred = clf.predict(X_test)\n",
        "  accuracy = accuracy_score(y_test, y_pred)\n",
        "  print(clf, accuracy)\n",
        "\n",
        "# 6. Predição de Novos casos                    # Escolha o Melhor modelo... \n",
        "X_new = students[['A','B','C','D']]  \n",
        "print('\\n')\n",
        "print( clf1.predict(X_new) )\n"
      ],
      "execution_count": 38,
      "outputs": [
        {
          "output_type": "stream",
          "name": "stdout",
          "text": [
            "DecisionTreeClassifier(ccp_alpha=0.0, class_weight=None, criterion='gini',\n",
            "                       max_depth=None, max_features=None, max_leaf_nodes=None,\n",
            "                       min_impurity_decrease=0.0, min_impurity_split=None,\n",
            "                       min_samples_leaf=1, min_samples_split=2,\n",
            "                       min_weight_fraction_leaf=0.0, presort='deprecated',\n",
            "                       random_state=None, splitter='best') 1.0\n",
            "KNeighborsClassifier(algorithm='auto', leaf_size=30, metric='minkowski',\n",
            "                     metric_params=None, n_jobs=None, n_neighbors=3, p=2,\n",
            "                     weights='uniform') 0.8333333333333334\n",
            "KNeighborsClassifier(algorithm='auto', leaf_size=30, metric='minkowski',\n",
            "                     metric_params=None, n_jobs=None, n_neighbors=5, p=2,\n",
            "                     weights='uniform') 0.8333333333333334\n",
            "\n",
            "\n",
            "['R' 'L' 'R' 'L' 'L' 'L' 'R' 'R' 'L' 'R' 'L' 'R' 'R' 'L' 'L' 'L' 'R' 'L'\n",
            " 'L' 'L']\n"
          ]
        }
      ]
    },
    {
      "cell_type": "markdown",
      "metadata": {
        "id": "4L623vOaNLLj"
      },
      "source": [
        "# Aplicando ao dataset `mpg`: Qual a origem dos veículos"
      ]
    },
    {
      "cell_type": "code",
      "metadata": {
        "colab": {
          "base_uri": "https://localhost:8080/",
          "height": 206
        },
        "id": "A1z219JTNKjr",
        "outputId": "57fc4811-1ef9-4c1d-cc3e-294ca8c44478"
      },
      "source": [
        "import seaborn as sns\n",
        "mpg = sns.load_dataset('mpg')\n",
        "mpg.head()\n"
      ],
      "execution_count": 39,
      "outputs": [
        {
          "output_type": "execute_result",
          "data": {
            "text/html": [
              "<div>\n",
              "<style scoped>\n",
              "    .dataframe tbody tr th:only-of-type {\n",
              "        vertical-align: middle;\n",
              "    }\n",
              "\n",
              "    .dataframe tbody tr th {\n",
              "        vertical-align: top;\n",
              "    }\n",
              "\n",
              "    .dataframe thead th {\n",
              "        text-align: right;\n",
              "    }\n",
              "</style>\n",
              "<table border=\"1\" class=\"dataframe\">\n",
              "  <thead>\n",
              "    <tr style=\"text-align: right;\">\n",
              "      <th></th>\n",
              "      <th>mpg</th>\n",
              "      <th>cylinders</th>\n",
              "      <th>displacement</th>\n",
              "      <th>horsepower</th>\n",
              "      <th>weight</th>\n",
              "      <th>acceleration</th>\n",
              "      <th>model_year</th>\n",
              "      <th>origin</th>\n",
              "      <th>name</th>\n",
              "    </tr>\n",
              "  </thead>\n",
              "  <tbody>\n",
              "    <tr>\n",
              "      <th>0</th>\n",
              "      <td>18.0</td>\n",
              "      <td>8</td>\n",
              "      <td>307.0</td>\n",
              "      <td>130.0</td>\n",
              "      <td>3504</td>\n",
              "      <td>12.0</td>\n",
              "      <td>70</td>\n",
              "      <td>usa</td>\n",
              "      <td>chevrolet chevelle malibu</td>\n",
              "    </tr>\n",
              "    <tr>\n",
              "      <th>1</th>\n",
              "      <td>15.0</td>\n",
              "      <td>8</td>\n",
              "      <td>350.0</td>\n",
              "      <td>165.0</td>\n",
              "      <td>3693</td>\n",
              "      <td>11.5</td>\n",
              "      <td>70</td>\n",
              "      <td>usa</td>\n",
              "      <td>buick skylark 320</td>\n",
              "    </tr>\n",
              "    <tr>\n",
              "      <th>2</th>\n",
              "      <td>18.0</td>\n",
              "      <td>8</td>\n",
              "      <td>318.0</td>\n",
              "      <td>150.0</td>\n",
              "      <td>3436</td>\n",
              "      <td>11.0</td>\n",
              "      <td>70</td>\n",
              "      <td>usa</td>\n",
              "      <td>plymouth satellite</td>\n",
              "    </tr>\n",
              "    <tr>\n",
              "      <th>3</th>\n",
              "      <td>16.0</td>\n",
              "      <td>8</td>\n",
              "      <td>304.0</td>\n",
              "      <td>150.0</td>\n",
              "      <td>3433</td>\n",
              "      <td>12.0</td>\n",
              "      <td>70</td>\n",
              "      <td>usa</td>\n",
              "      <td>amc rebel sst</td>\n",
              "    </tr>\n",
              "    <tr>\n",
              "      <th>4</th>\n",
              "      <td>17.0</td>\n",
              "      <td>8</td>\n",
              "      <td>302.0</td>\n",
              "      <td>140.0</td>\n",
              "      <td>3449</td>\n",
              "      <td>10.5</td>\n",
              "      <td>70</td>\n",
              "      <td>usa</td>\n",
              "      <td>ford torino</td>\n",
              "    </tr>\n",
              "  </tbody>\n",
              "</table>\n",
              "</div>"
            ],
            "text/plain": [
              "    mpg  cylinders  displacement  ...  model_year  origin                       name\n",
              "0  18.0          8         307.0  ...          70     usa  chevrolet chevelle malibu\n",
              "1  15.0          8         350.0  ...          70     usa          buick skylark 320\n",
              "2  18.0          8         318.0  ...          70     usa         plymouth satellite\n",
              "3  16.0          8         304.0  ...          70     usa              amc rebel sst\n",
              "4  17.0          8         302.0  ...          70     usa                ford torino\n",
              "\n",
              "[5 rows x 9 columns]"
            ]
          },
          "metadata": {},
          "execution_count": 39
        }
      ]
    },
    {
      "cell_type": "code",
      "metadata": {
        "colab": {
          "base_uri": "https://localhost:8080/"
        },
        "id": "zHPf0qv3OFC7",
        "outputId": "8c46ebc9-9ddd-4050-cb88-318351c0b348"
      },
      "source": [
        "mpg.isnull().sum()"
      ],
      "execution_count": 40,
      "outputs": [
        {
          "output_type": "execute_result",
          "data": {
            "text/plain": [
              "mpg             0\n",
              "cylinders       0\n",
              "displacement    0\n",
              "horsepower      6\n",
              "weight          0\n",
              "acceleration    0\n",
              "model_year      0\n",
              "origin          0\n",
              "name            0\n",
              "dtype: int64"
            ]
          },
          "metadata": {},
          "execution_count": 40
        }
      ]
    },
    {
      "cell_type": "code",
      "metadata": {
        "colab": {
          "base_uri": "https://localhost:8080/"
        },
        "id": "quUd1jpjNreE",
        "outputId": "bd014c88-40a6-4228-bc7c-776be5fd1e43"
      },
      "source": [
        "from sklearn.neighbors import KNeighborsClassifier\n",
        "from sklearn.tree import DecisionTreeClassifier\n",
        "\n",
        "from sklearn.model_selection import train_test_split\n",
        "from sklearn.metrics import accuracy_score\n",
        "\n",
        "# 1. Variáveis preditoras e objetivo\n",
        "mpg = mpg.dropna()\n",
        "\n",
        "X = mpg.drop(columns=['origin','name'])      \n",
        "y = mpg['origin']   \n",
        "\n",
        "# 2. Separação Treinamento e Teste\n",
        "seed = 1984\n",
        "X_train, X_test, y_train, y_test = train_test_split(X, y, test_size=0.3, stratify=y, random_state=seed)\n",
        "\n",
        "# 3. Definição do Modelo\n",
        "models = [ DecisionTreeClassifier(),                 \n",
        "           KNeighborsClassifier(3),\n",
        "           KNeighborsClassifier(5) ]\n",
        "\n",
        "# 4. Treinamento\n",
        "for clf in models:\n",
        "  clf.fit(X_train, y_train)                  \n",
        "\n",
        "# 5. Avaliação sobre o conjunto de Teste\n",
        "acc = []\n",
        "for clf in models:\n",
        "  y_pred = clf.predict(X_test)\n",
        "  \n",
        "  print(120*'*','\\n')\n",
        "  accuracy = accuracy_score(y_test, y_pred)\n",
        "  print(clf, '\\n', accuracy)\n",
        "\n",
        "  acc.append(accuracy)\n",
        "  \n",
        "  cm = confusion_matrix(y_test, y_pred)\n",
        "  print('\\n', cm)\n",
        "    \n",
        "  print('\\n', classification_report(y_test, y_pred))\n",
        "\n"
      ],
      "execution_count": 41,
      "outputs": [
        {
          "output_type": "stream",
          "name": "stdout",
          "text": [
            "************************************************************************************************************************ \n",
            "\n",
            "DecisionTreeClassifier(ccp_alpha=0.0, class_weight=None, criterion='gini',\n",
            "                       max_depth=None, max_features=None, max_leaf_nodes=None,\n",
            "                       min_impurity_decrease=0.0, min_impurity_split=None,\n",
            "                       min_samples_leaf=1, min_samples_split=2,\n",
            "                       min_weight_fraction_leaf=0.0, presort='deprecated',\n",
            "                       random_state=None, splitter='best') \n",
            " 0.8135593220338984\n",
            "\n",
            " [[14  4  2]\n",
            " [ 4 13  7]\n",
            " [ 1  4 69]]\n",
            "\n",
            "               precision    recall  f1-score   support\n",
            "\n",
            "      europe       0.74      0.70      0.72        20\n",
            "       japan       0.62      0.54      0.58        24\n",
            "         usa       0.88      0.93      0.91        74\n",
            "\n",
            "    accuracy                           0.81       118\n",
            "   macro avg       0.75      0.72      0.73       118\n",
            "weighted avg       0.81      0.81      0.81       118\n",
            "\n",
            "************************************************************************************************************************ \n",
            "\n",
            "KNeighborsClassifier(algorithm='auto', leaf_size=30, metric='minkowski',\n",
            "                     metric_params=None, n_jobs=None, n_neighbors=3, p=2,\n",
            "                     weights='uniform') \n",
            " 0.711864406779661\n",
            "\n",
            " [[ 9  7  4]\n",
            " [ 7  9  8]\n",
            " [ 4  4 66]]\n",
            "\n",
            "               precision    recall  f1-score   support\n",
            "\n",
            "      europe       0.45      0.45      0.45        20\n",
            "       japan       0.45      0.38      0.41        24\n",
            "         usa       0.85      0.89      0.87        74\n",
            "\n",
            "    accuracy                           0.71       118\n",
            "   macro avg       0.58      0.57      0.58       118\n",
            "weighted avg       0.70      0.71      0.70       118\n",
            "\n",
            "************************************************************************************************************************ \n",
            "\n",
            "KNeighborsClassifier(algorithm='auto', leaf_size=30, metric='minkowski',\n",
            "                     metric_params=None, n_jobs=None, n_neighbors=5, p=2,\n",
            "                     weights='uniform') \n",
            " 0.7288135593220338\n",
            "\n",
            " [[ 9  6  5]\n",
            " [ 7 12  5]\n",
            " [ 4  5 65]]\n",
            "\n",
            "               precision    recall  f1-score   support\n",
            "\n",
            "      europe       0.45      0.45      0.45        20\n",
            "       japan       0.52      0.50      0.51        24\n",
            "         usa       0.87      0.88      0.87        74\n",
            "\n",
            "    accuracy                           0.73       118\n",
            "   macro avg       0.61      0.61      0.61       118\n",
            "weighted avg       0.73      0.73      0.73       118\n",
            "\n"
          ]
        }
      ]
    },
    {
      "cell_type": "markdown",
      "metadata": {
        "id": "O5QSZQjaQT-t"
      },
      "source": [
        "## Predição com o Melhor Modelo (Acurácia Geral)"
      ]
    },
    {
      "cell_type": "code",
      "metadata": {
        "colab": {
          "base_uri": "https://localhost:8080/"
        },
        "id": "PtBq0I2rQgrF",
        "outputId": "4aed73b0-3e28-4157-c3ba-faf2df692b3c"
      },
      "source": [
        "X_new = pd.DataFrame({'mpg': [23],\n",
        "                      'cylinders':6,\n",
        "                      'displacement':190,\n",
        "                      'horsepower':100,\n",
        "                      'weight':2500,\n",
        "                      'acceleration':16,\n",
        "                      'model_year':74})\n",
        "print(X_new, '\\n')\n",
        "\n",
        "# 6. Predição de Novos casos                   \n",
        "clf = models[acc.index(max(acc))]                # Escolha o Melhor modelo... \n",
        "\n",
        "print( clf.predict(X_new) )"
      ],
      "execution_count": 42,
      "outputs": [
        {
          "output_type": "stream",
          "name": "stdout",
          "text": [
            "   mpg  cylinders  displacement  horsepower  weight  acceleration  model_year\n",
            "0   23          6           190         100    2500            16          74 \n",
            "\n",
            "['usa']\n"
          ]
        }
      ]
    }
  ]
}