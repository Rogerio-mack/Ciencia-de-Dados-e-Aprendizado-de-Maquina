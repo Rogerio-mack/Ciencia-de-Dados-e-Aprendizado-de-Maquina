{
  "nbformat": 4,
  "nbformat_minor": 0,
  "metadata": {
    "colab": {
      "name": "ACD_T16_Recommentadion_Systems.ipynb",
      "provenance": [],
      "collapsed_sections": [],
      "authorship_tag": "ABX9TyMBevgbuTgxdQUbO/Yzf6ac",
      "include_colab_link": true
    },
    "kernelspec": {
      "name": "python3",
      "display_name": "Python 3"
    },
    "language_info": {
      "name": "python"
    }
  },
  "cells": [
    {
      "cell_type": "markdown",
      "metadata": {
        "id": "view-in-github",
        "colab_type": "text"
      },
      "source": [
        "<a href=\"https://colab.research.google.com/github/Rogerio-mack/Ciencia-de-Dados-e-Aprendizado-de-Maquina/blob/main/ACD_T16_Recommentadion_Systems.ipynb\" target=\"_parent\"><img src=\"https://colab.research.google.com/assets/colab-badge.svg\" alt=\"Open In Colab\"/></a>"
      ]
    },
    {
      "cell_type": "markdown",
      "metadata": {
        "id": "gglUriLmo1sR"
      },
      "source": [
        "<head>\n",
        "  <meta name=\"author\" content=\"Rogério de Oliveira\">\n",
        "  <meta institution=\"author\" content=\"Universidade Presbiteriana Mackenzie\">\n",
        "</head>\n",
        "\n",
        "<img src=\"http://meusite.mackenzie.br/rogerio/mackenzie_logo/UPM.2_horizontal_vermelho.jpg\" width=300, align=\"right\"> \n",
        "<!-- <h1 align=left><font size = 6, style=\"color:rgb(200,0,0)\"> optional title </font></h1> -->"
      ]
    },
    {
      "cell_type": "markdown",
      "metadata": {
        "id": "oVv16BTnwqn2"
      },
      "source": [
        "# Introdução aos Sistemas de Recomendação"
      ]
    },
    {
      "cell_type": "markdown",
      "metadata": {
        "id": "XZhk5jBW6C3o"
      },
      "source": [
        "Sistemas de Recomendação são bastante empregados no comércio eletrônico e você já deve ter recebido recomendações em um site de compras como a Amazon, ou ainda plataformas de conteúdo como o Spotify e NetFlix.\n",
        "\n",
        "Em geral os Sistemas de Recomendação empregam dados dos usuários, itens e  feedback implícito (como o fato de tê-los comprado) ou explícito (como a avaliação ou ranking dos produtos para sugerir itens mais adequados ou prever a avaliação para todos os itens ainda não avaliados.\n",
        "\n",
        "\n"
      ]
    },
    {
      "cell_type": "markdown",
      "metadata": {
        "id": "S2pQ6Une78RY"
      },
      "source": [
        "# Abordagens\n",
        "\n",
        "Os sistemas de recomendação podem ser subdivididos em três categorias: \n",
        "\n",
        "* Sistemas baseados em conteúdo (Content-based filtering) \n",
        "* Sistemas de filtragem colaborativa (Collaborative filtering)\n",
        "* Sistemas híbridos (que usam uma combinação dos outros dois)\n",
        "\n",
        "A primeira abordagem baseia-se nas informações dos usuários ou dos produtos. A ideia é associar a um usuário a um grupo de usuários semelhantes para sugerir todos os itens bem avaliados pelos outros usuários, ou agrupar os produtos de acordo com suas características e propor um subconjunto de produtos semelhantes aos já consumidos pelo usuário. \n",
        "\n",
        "A segunda abordagem é mais sofisticada. Ela trabalha com classificações explícitas dos itens de cada usuário para prever esse valor para cada novo par item-usuário. Ela requer muito mais poder computacional (pense em todos os pares possíveis item-usuário), mas essa é a abordagem empregada hoje pela  maior parte dos sistemas de recomendação em tempo real (de modo híbrido) podendo o modelo ser retreinado ou atualizado diariamente. \n",
        "\n",
        "Os sistemas híbridos combinam resultados dos dois modelos e você pode imaginar muitas outras combinações combinando popularidade dos produtos, regras de associação etc.\n",
        "\n",
        "\n"
      ]
    },
    {
      "cell_type": "markdown",
      "metadata": {
        "id": "boLK4zn5_Sg4"
      },
      "source": [
        "# Supervisionado ou Não Supervisionado?\n",
        "\n",
        "Essas diferentes abordagens e as diferentes formas que podem ser implementados os sistemas de recomendação permite encontrarmos sistemas tanto Supervisionados como não Supervisionados e, na maior parte dos casos, essa distinção para Sistemas de Recomendação faz pouco diferença. Como você verá a seguir, nossa primeira implementação é não Supervisionada, mas poderíamos ter empregado outras técnicas e o melhor, se necessária uma classificação é melhor analisar caso a caso."
      ]
    },
    {
      "cell_type": "markdown",
      "metadata": {
        "id": "LbgFMtPSKAfN"
      },
      "source": [
        "![imagem](https://miro.medium.com/max/950/1*0ygb2uJknG6FdYT1vZqnsg.png)"
      ]
    },
    {
      "cell_type": "markdown",
      "metadata": {
        "id": "d4mCadmLKGGr"
      },
      "source": [
        "![imagem](https://miro.medium.com/max/772/1*5z9o9XrN8QCkcVMYwxPHEQ.png)"
      ]
    },
    {
      "cell_type": "code",
      "metadata": {
        "id": "gyTWMF412CkF"
      },
      "source": [
        "import pandas as pd\n",
        "import numpy as np\n",
        "import matplotlib.pyplot as plt\n",
        "%matplotlib inline\n",
        "import seaborn as sns\n",
        "\n",
        "import random"
      ],
      "execution_count": 1,
      "outputs": []
    },
    {
      "cell_type": "markdown",
      "metadata": {
        "id": "NT795K0CCmoR"
      },
      "source": [
        "# Sistemas baseados em conteúdo\n",
        "\n",
        "Vamos considerar o seguinte conjunto de dados para construir modelos de Sistemas de Recomendação:"
      ]
    },
    {
      "cell_type": "code",
      "metadata": {
        "colab": {
          "base_uri": "https://localhost:8080/",
          "height": 879
        },
        "cellView": "form",
        "id": "011GnxEn5mmC",
        "outputId": "61d645a0-1edf-4632-e515-3218064cfa6c"
      },
      "source": [
        "#@title RUN this setup before continue\n",
        "\n",
        "items = pd.read_csv('http://meusite.mackenzie.br/rogerio/data_load/recommendation_spotify_items.csv',index_col=0,nrows=1000) # Lê somente 100 primeiros\n",
        "random.seed(1984)\n",
        "items = items.iloc[ sorted(random.sample(range(len(items)), 20)) ].reset_index() # Seleciona somente 20 itens\n",
        "items = items.rename(columns={'index':'song_id'})\n",
        "\n",
        "print('\\n\\nSong items: items')\n",
        "print(180*'-')\n",
        "display( items.head(4) )\n",
        "print('\\nitems.shape: ',items.shape)\n",
        "\n",
        "users = pd.read_csv('http://meusite.mackenzie.br/rogerio/data_load/recommendation_users.csv',nrows=100,usecols=['ID', 'SEX', 'EDUCATION', 'MARRIAGE', 'AGE']) # Lê somente 100 primeiros\n",
        "random.seed(1984)\n",
        "users = users.iloc[ sorted(random.sample(range(len(users)), 10)) ].reset_index(drop=True) # Seleciona somente 10 users\n",
        "\n",
        "print('\\n\\nUsers: users')\n",
        "print(180*'-')\n",
        "display( users.head(4) )\n",
        "print('\\nusers.shape: ',users.shape)\n",
        "\n",
        "transactions = pd.DataFrame({'ID':[],'song_id':[]})\n",
        "random.seed(1984)\n",
        "for _ , row in users.iterrows():\n",
        "  n_items = random.randint(1,4) # max 4 itens por usuário\n",
        "  for item in random.sample(set(items.song_id), n_items):\n",
        "    transactions = pd.concat([transactions, pd.DataFrame({'ID':[row.ID],'song_id':[item]})]) \n",
        "\n",
        "transactions.reset_index(drop=True,inplace=True)\n",
        "for c in transactions: transactions[c] = transactions[c].astype('int')\n",
        "\n",
        "print('\\n\\nTransactions: transactions')\n",
        "print(180*'-')\n",
        "display( transactions.head(4) )\n",
        "print('\\ntransactions.shape: ',transactions.shape)\n",
        "\n"
      ],
      "execution_count": 2,
      "outputs": [
        {
          "output_type": "stream",
          "name": "stdout",
          "text": [
            "\n",
            "\n",
            "Song items: items\n",
            "------------------------------------------------------------------------------------------------------------------------------------------------------------------------------------\n"
          ]
        },
        {
          "output_type": "display_data",
          "data": {
            "text/html": [
              "<div>\n",
              "<style scoped>\n",
              "    .dataframe tbody tr th:only-of-type {\n",
              "        vertical-align: middle;\n",
              "    }\n",
              "\n",
              "    .dataframe tbody tr th {\n",
              "        vertical-align: top;\n",
              "    }\n",
              "\n",
              "    .dataframe thead th {\n",
              "        text-align: right;\n",
              "    }\n",
              "</style>\n",
              "<table border=\"1\" class=\"dataframe\">\n",
              "  <thead>\n",
              "    <tr style=\"text-align: right;\">\n",
              "      <th></th>\n",
              "      <th>song_id</th>\n",
              "      <th>acousticness</th>\n",
              "      <th>danceability</th>\n",
              "      <th>duration_ms</th>\n",
              "      <th>energy</th>\n",
              "      <th>instrumentalness</th>\n",
              "      <th>key</th>\n",
              "      <th>liveness</th>\n",
              "      <th>loudness</th>\n",
              "      <th>mode</th>\n",
              "      <th>speechiness</th>\n",
              "      <th>tempo</th>\n",
              "      <th>time_signature</th>\n",
              "      <th>valence</th>\n",
              "      <th>target</th>\n",
              "      <th>song_title</th>\n",
              "      <th>artist</th>\n",
              "    </tr>\n",
              "  </thead>\n",
              "  <tbody>\n",
              "    <tr>\n",
              "      <th>0</th>\n",
              "      <td>51</td>\n",
              "      <td>0.0638</td>\n",
              "      <td>0.700</td>\n",
              "      <td>224480</td>\n",
              "      <td>0.840</td>\n",
              "      <td>0.112000</td>\n",
              "      <td>7</td>\n",
              "      <td>0.1410</td>\n",
              "      <td>-6.227</td>\n",
              "      <td>0</td>\n",
              "      <td>0.0292</td>\n",
              "      <td>132.475</td>\n",
              "      <td>4.0</td>\n",
              "      <td>0.745</td>\n",
              "      <td>1</td>\n",
              "      <td>The Chase</td>\n",
              "      <td>Future Islands</td>\n",
              "    </tr>\n",
              "    <tr>\n",
              "      <th>1</th>\n",
              "      <td>72</td>\n",
              "      <td>0.5180</td>\n",
              "      <td>0.683</td>\n",
              "      <td>155133</td>\n",
              "      <td>0.708</td>\n",
              "      <td>0.000021</td>\n",
              "      <td>4</td>\n",
              "      <td>0.1750</td>\n",
              "      <td>-6.852</td>\n",
              "      <td>0</td>\n",
              "      <td>0.0289</td>\n",
              "      <td>106.446</td>\n",
              "      <td>4.0</td>\n",
              "      <td>0.967</td>\n",
              "      <td>1</td>\n",
              "      <td>Spooky</td>\n",
              "      <td>Dusty Springfield</td>\n",
              "    </tr>\n",
              "    <tr>\n",
              "      <th>2</th>\n",
              "      <td>176</td>\n",
              "      <td>0.1410</td>\n",
              "      <td>0.500</td>\n",
              "      <td>256093</td>\n",
              "      <td>0.593</td>\n",
              "      <td>0.000006</td>\n",
              "      <td>1</td>\n",
              "      <td>0.0969</td>\n",
              "      <td>-4.340</td>\n",
              "      <td>1</td>\n",
              "      <td>0.0898</td>\n",
              "      <td>68.456</td>\n",
              "      <td>4.0</td>\n",
              "      <td>0.325</td>\n",
              "      <td>1</td>\n",
              "      <td>New Slaves</td>\n",
              "      <td>Kanye West</td>\n",
              "    </tr>\n",
              "    <tr>\n",
              "      <th>3</th>\n",
              "      <td>221</td>\n",
              "      <td>0.0696</td>\n",
              "      <td>0.512</td>\n",
              "      <td>287147</td>\n",
              "      <td>0.821</td>\n",
              "      <td>0.330000</td>\n",
              "      <td>9</td>\n",
              "      <td>0.0998</td>\n",
              "      <td>-7.442</td>\n",
              "      <td>0</td>\n",
              "      <td>0.0334</td>\n",
              "      <td>149.988</td>\n",
              "      <td>4.0</td>\n",
              "      <td>0.396</td>\n",
              "      <td>1</td>\n",
              "      <td>Light House</td>\n",
              "      <td>Future Islands</td>\n",
              "    </tr>\n",
              "  </tbody>\n",
              "</table>\n",
              "</div>"
            ],
            "text/plain": [
              "   song_id  acousticness  danceability  ...  target   song_title             artist\n",
              "0       51        0.0638         0.700  ...       1    The Chase     Future Islands\n",
              "1       72        0.5180         0.683  ...       1       Spooky  Dusty Springfield\n",
              "2      176        0.1410         0.500  ...       1   New Slaves         Kanye West\n",
              "3      221        0.0696         0.512  ...       1  Light House     Future Islands\n",
              "\n",
              "[4 rows x 17 columns]"
            ]
          },
          "metadata": {}
        },
        {
          "output_type": "stream",
          "name": "stdout",
          "text": [
            "\n",
            "items.shape:  (20, 17)\n",
            "\n",
            "\n",
            "Users: users\n",
            "------------------------------------------------------------------------------------------------------------------------------------------------------------------------------------\n"
          ]
        },
        {
          "output_type": "display_data",
          "data": {
            "text/html": [
              "<div>\n",
              "<style scoped>\n",
              "    .dataframe tbody tr th:only-of-type {\n",
              "        vertical-align: middle;\n",
              "    }\n",
              "\n",
              "    .dataframe tbody tr th {\n",
              "        vertical-align: top;\n",
              "    }\n",
              "\n",
              "    .dataframe thead th {\n",
              "        text-align: right;\n",
              "    }\n",
              "</style>\n",
              "<table border=\"1\" class=\"dataframe\">\n",
              "  <thead>\n",
              "    <tr style=\"text-align: right;\">\n",
              "      <th></th>\n",
              "      <th>ID</th>\n",
              "      <th>SEX</th>\n",
              "      <th>EDUCATION</th>\n",
              "      <th>MARRIAGE</th>\n",
              "      <th>AGE</th>\n",
              "    </tr>\n",
              "  </thead>\n",
              "  <tbody>\n",
              "    <tr>\n",
              "      <th>0</th>\n",
              "      <td>10</td>\n",
              "      <td>1</td>\n",
              "      <td>3</td>\n",
              "      <td>2</td>\n",
              "      <td>35</td>\n",
              "    </tr>\n",
              "    <tr>\n",
              "      <th>1</th>\n",
              "      <td>28</td>\n",
              "      <td>2</td>\n",
              "      <td>3</td>\n",
              "      <td>2</td>\n",
              "      <td>30</td>\n",
              "    </tr>\n",
              "    <tr>\n",
              "      <th>2</th>\n",
              "      <td>32</td>\n",
              "      <td>1</td>\n",
              "      <td>2</td>\n",
              "      <td>2</td>\n",
              "      <td>33</td>\n",
              "    </tr>\n",
              "    <tr>\n",
              "      <th>3</th>\n",
              "      <td>40</td>\n",
              "      <td>1</td>\n",
              "      <td>1</td>\n",
              "      <td>2</td>\n",
              "      <td>31</td>\n",
              "    </tr>\n",
              "  </tbody>\n",
              "</table>\n",
              "</div>"
            ],
            "text/plain": [
              "   ID  SEX  EDUCATION  MARRIAGE  AGE\n",
              "0  10    1          3         2   35\n",
              "1  28    2          3         2   30\n",
              "2  32    1          2         2   33\n",
              "3  40    1          1         2   31"
            ]
          },
          "metadata": {}
        },
        {
          "output_type": "stream",
          "name": "stdout",
          "text": [
            "\n",
            "users.shape:  (10, 5)\n",
            "\n",
            "\n",
            "Transactions: transactions\n",
            "------------------------------------------------------------------------------------------------------------------------------------------------------------------------------------\n"
          ]
        },
        {
          "output_type": "display_data",
          "data": {
            "text/html": [
              "<div>\n",
              "<style scoped>\n",
              "    .dataframe tbody tr th:only-of-type {\n",
              "        vertical-align: middle;\n",
              "    }\n",
              "\n",
              "    .dataframe tbody tr th {\n",
              "        vertical-align: top;\n",
              "    }\n",
              "\n",
              "    .dataframe thead th {\n",
              "        text-align: right;\n",
              "    }\n",
              "</style>\n",
              "<table border=\"1\" class=\"dataframe\">\n",
              "  <thead>\n",
              "    <tr style=\"text-align: right;\">\n",
              "      <th></th>\n",
              "      <th>ID</th>\n",
              "      <th>song_id</th>\n",
              "    </tr>\n",
              "  </thead>\n",
              "  <tbody>\n",
              "    <tr>\n",
              "      <th>0</th>\n",
              "      <td>10</td>\n",
              "      <td>869</td>\n",
              "    </tr>\n",
              "    <tr>\n",
              "      <th>1</th>\n",
              "      <td>10</td>\n",
              "      <td>72</td>\n",
              "    </tr>\n",
              "    <tr>\n",
              "      <th>2</th>\n",
              "      <td>10</td>\n",
              "      <td>826</td>\n",
              "    </tr>\n",
              "    <tr>\n",
              "      <th>3</th>\n",
              "      <td>28</td>\n",
              "      <td>347</td>\n",
              "    </tr>\n",
              "  </tbody>\n",
              "</table>\n",
              "</div>"
            ],
            "text/plain": [
              "   ID  song_id\n",
              "0  10      869\n",
              "1  10       72\n",
              "2  10      826\n",
              "3  28      347"
            ]
          },
          "metadata": {}
        },
        {
          "output_type": "stream",
          "name": "stdout",
          "text": [
            "\n",
            "transactions.shape:  (26, 2)\n"
          ]
        }
      ]
    },
    {
      "cell_type": "markdown",
      "metadata": {
        "id": "4Vopf2_6C9xE"
      },
      "source": [
        "## Popularidade\n",
        "\n",
        "O sistema mais ingênuo pode simplesmente recomendar a todos os usuários o produto mais vendido. É o critério da popularidade."
      ]
    },
    {
      "cell_type": "code",
      "metadata": {
        "colab": {
          "base_uri": "https://localhost:8080/"
        },
        "id": "r3RBhgdB9RN_",
        "outputId": "c2b181f8-405f-4a64-cba0-07eac6c0fc06"
      },
      "source": [
        "transactions.song_id.value_counts()"
      ],
      "execution_count": 3,
      "outputs": [
        {
          "output_type": "execute_result",
          "data": {
            "text/plain": [
              "883    4\n",
              "506    3\n",
              "347    2\n",
              "313    2\n",
              "176    2\n",
              "72     2\n",
              "869    2\n",
              "249    1\n",
              "221    1\n",
              "826    1\n",
              "726    1\n",
              "913    1\n",
              "889    1\n",
              "653    1\n",
              "679    1\n",
              "282    1\n",
              "Name: song_id, dtype: int64"
            ]
          },
          "metadata": {},
          "execution_count": 3
        }
      ]
    },
    {
      "cell_type": "code",
      "metadata": {
        "colab": {
          "base_uri": "https://localhost:8080/",
          "height": 280
        },
        "id": "hG5JT4l2-Zly",
        "outputId": "7a56015e-7dd5-457f-dffc-e70eb974a24a"
      },
      "source": [
        "sns.countplot(x=transactions.song_id)\n",
        "plt.show()"
      ],
      "execution_count": 4,
      "outputs": [
        {
          "output_type": "display_data",
          "data": {
            "image/png": "[encoded data removed]",
            "text/plain": [
              "<Figure size 432x288 with 1 Axes>"
            ]
          },
          "metadata": {
            "needs_background": "light"
          }
        }
      ]
    },
    {
      "cell_type": "code",
      "metadata": {
        "colab": {
          "base_uri": "https://localhost:8080/"
        },
        "id": "t4UW6XMLASyB",
        "outputId": "92faa9d8-5c52-4075-af52-e48c47ec9030"
      },
      "source": [
        "transactions.song_id.mode()[0]"
      ],
      "execution_count": 5,
      "outputs": [
        {
          "output_type": "execute_result",
          "data": {
            "text/plain": [
              "883"
            ]
          },
          "metadata": {},
          "execution_count": 5
        }
      ]
    },
    {
      "cell_type": "code",
      "metadata": {
        "colab": {
          "base_uri": "https://localhost:8080/"
        },
        "id": "o1mFHYXz_ZYb",
        "outputId": "a3a69ebb-7fcb-4eb7-ad81-b4f4bf758b26"
      },
      "source": [
        "print('Suggested items:')\n",
        "print(items[ items.song_id == transactions.song_id.mode()[0] ][ ['song_title','artist'] ])"
      ],
      "execution_count": 6,
      "outputs": [
        {
          "output_type": "stream",
          "name": "stdout",
          "text": [
            "Suggested items:\n",
            "                            song_title        artist\n",
            "17  Something About You - Extended Mix  Hayden James\n"
          ]
        }
      ]
    },
    {
      "cell_type": "markdown",
      "metadata": {
        "id": "xj-SikcyDOVI"
      },
      "source": [
        "Embora ainda empregado, esse tipo de recomendação talvez tenha pouca efetividade, e não personaliza a recomendação para qualquer usuário. De fato, há muito pouca inteligência nessa forma de recomendação."
      ]
    },
    {
      "cell_type": "markdown",
      "metadata": {
        "id": "0t_hcIMfDyIY"
      },
      "source": [
        "# Filtro de Conteúdo por Usuário\n",
        "\n",
        "Podemos obter algo melhor buscando produtos positivamente avaliados ou que são mais comprados por usuários que sejam *semelhantes* ao usuário que queremos fazer uma recomendação. Para encontrar esses usuários *semelhantes* podemos empregar uma aprendizagem não supervisionada de vizinhos mais próximos, e é o que fazemos a seguir com a função `NearestNeighbors` e você deve ter cuidado para não confundir com o classificador de k-vizinhos mais próximos (`KNeighborsClassifier`). O classificador é um modelo supervisionado enquanto, aqui, empregamos um modelo mais próximo da clusterização, um modelo não supervisionado. "
      ]
    },
    {
      "cell_type": "code",
      "metadata": {
        "colab": {
          "base_uri": "https://localhost:8080/"
        },
        "id": "bMr9aEptg5T5",
        "outputId": "899bbb16-f4e5-46a1-8c8b-f0003261cab9"
      },
      "source": [
        "from sklearn.neighbors import NearestNeighbors\n",
        "\n",
        "# Fit k-nearest neighbors\n",
        "X = users.drop(columns='ID')\n",
        "\n",
        "n_neighbors = 3 \n",
        "\n",
        "knn = NearestNeighbors(n_neighbors=n_neighbors+1)\n",
        "knn.fit(X)\n",
        "\n",
        "# Select a user\n",
        "random.seed(1894)\n",
        "print('\\nEscolha de um user aleatório...\\n')\n",
        "user_selected = users[ users.ID == random.sample(set(users.ID), 1)[0] ].drop(columns='ID')\n",
        "\n",
        "# Determine the neighbors\n",
        "d, neighbors = knn.kneighbors(user_selected)\n",
        "neighbors = neighbors[0][1::] \n",
        "d = d[0][1::] \n",
        "\n",
        "neighbors_ids = users.iloc[ neighbors ].ID\n",
        "\n",
        "print('user_selected:')\n",
        "print(user_selected)\n",
        "print('Neighbors:')\n",
        "print(neighbors)\n",
        "print('Distance:')\n",
        "print(d)\n",
        "print('Neighbors_ids:')\n",
        "print(neighbors_ids)\n",
        "\n",
        "    "
      ],
      "execution_count": 7,
      "outputs": [
        {
          "output_type": "stream",
          "name": "stdout",
          "text": [
            "\n",
            "Escolha de um user aleatório...\n",
            "\n",
            "user_selected:\n",
            "   SEX  EDUCATION  MARRIAGE  AGE\n",
            "8    2          1         2   26\n",
            "Neighbors:\n",
            "[6 5 1]\n",
            "Distance:\n",
            "[2.23606798 4.         4.47213595]\n",
            "Neighbors_ids:\n",
            "6    50\n",
            "5    47\n",
            "1    28\n",
            "Name: ID, dtype: int64\n"
          ]
        }
      ]
    },
    {
      "cell_type": "markdown",
      "metadata": {
        "id": "zt8MYmh6Gl_5"
      },
      "source": [
        "**CUIDADO** Note que empregamos $k+1$ vizinhos e eliminamos o primeiro encontrado. Experimente modificar o programa acima e explicar, por quê?"
      ]
    },
    {
      "cell_type": "markdown",
      "metadata": {
        "id": "MDg8mdxmINpZ"
      },
      "source": [
        "Double-click **aqui** para ver a resposta.\n",
        "<!-- Resposta:\n",
        "\n",
        "O primeiro vizinho mais próximo é o próprio elemento com distância zero. Lembre-se que poderiam haver elementos idênticos queremos eliminar apenas o próprio elemento. Aqui, por simplicidade e não havendo elementos idênticos podemos apenas eliminar o primeiro da lista.\n",
        "-->"
      ]
    },
    {
      "cell_type": "markdown",
      "metadata": {
        "id": "595pKqupKP-j"
      },
      "source": [
        "Com base nos usuários semelhantes que você obteve podemos buscar os itens adquiridos por eles e sugerir esses produtos ao usuário selecionado."
      ]
    },
    {
      "cell_type": "code",
      "metadata": {
        "colab": {
          "base_uri": "https://localhost:8080/"
        },
        "id": "MOWMh9IgiY9S",
        "outputId": "cee4942b-e7dc-4f27-b9ea-79116db2d864"
      },
      "source": [
        "# Determine the suggested items\n",
        "suggested_items = []\n",
        "\n",
        "for u in neighbors_ids:\n",
        "  for item in transactions[ transactions.ID == u ].song_id:\n",
        "     if item not in suggested_items:\n",
        "          suggested_items.append(item)\n",
        "\n",
        "print('Suggested items:')\n",
        "print(suggested_items)\n",
        "print('Suggested items:')\n",
        "print(items[ items.song_id.isin(suggested_items) ][ ['song_title','artist'] ])\n"
      ],
      "execution_count": 8,
      "outputs": [
        {
          "output_type": "stream",
          "name": "stdout",
          "text": [
            "Suggested items:\n",
            "[313, 889, 221, 726, 506, 347, 913]\n",
            "Suggested items:\n",
            "                                          song_title          artist\n",
            "3                                        Light House  Future Islands\n",
            "6                                     Had Ten Dollaz  Cherry Glazerr\n",
            "7                                           Pacifier      Young Thug\n",
            "10                               The Kids Were Wrong     Memoryhouse\n",
            "13                                              Open            Rhye\n",
            "18                                    All I Wanna Do  The Beach Boys\n",
            "19  Bizarre Love Triangle - Shep Pettibone 12\" Remix       New Order\n"
          ]
        }
      ]
    },
    {
      "cell_type": "markdown",
      "metadata": {
        "id": "vYURSGZXKyDV"
      },
      "source": [
        "E poderíamos ainda aplicar outros filtros como, por exemplo, estabelecer um número mínimo de vezes que a música foi ouvida pelos usuários, as mais recentemente ouvidas ou de artistas que já tenham sido ouvidos pelo usuário selecionado. As possibilidades são inúmeras."
      ]
    },
    {
      "cell_type": "markdown",
      "metadata": {
        "id": "219XyyFFrD2E"
      },
      "source": [
        "# Filtro de Conteúdo por Item\n",
        "\n",
        "No Filtro de Conteúdo por Usuário buscamos usuários semelhantes e, então, selecionamos itens desses usuários para sugerir itens a um usuário selecionado. Podemos também buscar diretamente itens semelhantes aos que foram consumidos pelo usuário selecionado aplicando a mesma técnica de empregar uma aprendizagem não supervisionada de vizinhos mais próximos,com a função `NearestNeighbors`.\n",
        "\n",
        "Essas são as caraterísticas de uma música, um item consumido:"
      ]
    },
    {
      "cell_type": "code",
      "metadata": {
        "colab": {
          "base_uri": "https://localhost:8080/"
        },
        "id": "V6o_vEaDrVpC",
        "outputId": "4fe9649c-8b63-4bf8-cc9a-75f3bfcbb8f5"
      },
      "source": [
        "items.columns"
      ],
      "execution_count": 9,
      "outputs": [
        {
          "output_type": "execute_result",
          "data": {
            "text/plain": [
              "Index(['song_id', 'acousticness', 'danceability', 'duration_ms', 'energy',\n",
              "       'instrumentalness', 'key', 'liveness', 'loudness', 'mode',\n",
              "       'speechiness', 'tempo', 'time_signature', 'valence', 'target',\n",
              "       'song_title', 'artist'],\n",
              "      dtype='object')"
            ]
          },
          "metadata": {},
          "execution_count": 9
        }
      ]
    },
    {
      "cell_type": "markdown",
      "metadata": {
        "id": "OAKjJo_IMY_z"
      },
      "source": [
        "E podemos definir um item consumido por um usuário, uma música recentemente ou ouvida, ou podemos ainda querer sugerir músicas semelhantes a todos os usuários que tenham ouvido uma determinada faixa.\n"
      ]
    },
    {
      "cell_type": "code",
      "metadata": {
        "colab": {
          "base_uri": "https://localhost:8080/"
        },
        "id": "smTf1wnBPKxL",
        "outputId": "5bec373f-b392-48bd-d19b-4e7fea2e432e"
      },
      "source": [
        "users.iloc[8]"
      ],
      "execution_count": 10,
      "outputs": [
        {
          "output_type": "execute_result",
          "data": {
            "text/plain": [
              "ID           82\n",
              "SEX           2\n",
              "EDUCATION     1\n",
              "MARRIAGE      2\n",
              "AGE          26\n",
              "Name: 8, dtype: int64"
            ]
          },
          "metadata": {},
          "execution_count": 10
        }
      ]
    },
    {
      "cell_type": "code",
      "metadata": {
        "colab": {
          "base_uri": "https://localhost:8080/",
          "height": 202
        },
        "id": "lmYwglnYry47",
        "outputId": "bf8151ea-cd79-4be2-bdc5-31270e59ecfe"
      },
      "source": [
        "print('\\nEscolha da primeira faixa do usuário anterior...\\n')\n",
        "item_selected = items[ items.song_id == transactions[ transactions.ID == users.iloc[8].ID ].song_id.values[0] ]\n",
        "  \n",
        "item_selected"
      ],
      "execution_count": 11,
      "outputs": [
        {
          "output_type": "stream",
          "name": "stdout",
          "text": [
            "\n",
            "Escolha da primeira faixa do usuário anterior...\n",
            "\n"
          ]
        },
        {
          "output_type": "execute_result",
          "data": {
            "text/html": [
              "<div>\n",
              "<style scoped>\n",
              "    .dataframe tbody tr th:only-of-type {\n",
              "        vertical-align: middle;\n",
              "    }\n",
              "\n",
              "    .dataframe tbody tr th {\n",
              "        vertical-align: top;\n",
              "    }\n",
              "\n",
              "    .dataframe thead th {\n",
              "        text-align: right;\n",
              "    }\n",
              "</style>\n",
              "<table border=\"1\" class=\"dataframe\">\n",
              "  <thead>\n",
              "    <tr style=\"text-align: right;\">\n",
              "      <th></th>\n",
              "      <th>song_id</th>\n",
              "      <th>acousticness</th>\n",
              "      <th>danceability</th>\n",
              "      <th>duration_ms</th>\n",
              "      <th>energy</th>\n",
              "      <th>instrumentalness</th>\n",
              "      <th>key</th>\n",
              "      <th>liveness</th>\n",
              "      <th>loudness</th>\n",
              "      <th>mode</th>\n",
              "      <th>speechiness</th>\n",
              "      <th>tempo</th>\n",
              "      <th>time_signature</th>\n",
              "      <th>valence</th>\n",
              "      <th>target</th>\n",
              "      <th>song_title</th>\n",
              "      <th>artist</th>\n",
              "    </tr>\n",
              "  </thead>\n",
              "  <tbody>\n",
              "    <tr>\n",
              "      <th>17</th>\n",
              "      <td>883</td>\n",
              "      <td>0.198</td>\n",
              "      <td>0.89</td>\n",
              "      <td>326318</td>\n",
              "      <td>0.52</td>\n",
              "      <td>0.273</td>\n",
              "      <td>2</td>\n",
              "      <td>0.0638</td>\n",
              "      <td>-6.927</td>\n",
              "      <td>0</td>\n",
              "      <td>0.187</td>\n",
              "      <td>114.959</td>\n",
              "      <td>4.0</td>\n",
              "      <td>0.717</td>\n",
              "      <td>1</td>\n",
              "      <td>Something About You - Extended Mix</td>\n",
              "      <td>Hayden James</td>\n",
              "    </tr>\n",
              "  </tbody>\n",
              "</table>\n",
              "</div>"
            ],
            "text/plain": [
              "    song_id  acousticness  ...                          song_title        artist\n",
              "17      883         0.198  ...  Something About You - Extended Mix  Hayden James\n",
              "\n",
              "[1 rows x 17 columns]"
            ]
          },
          "metadata": {},
          "execution_count": 11
        }
      ]
    },
    {
      "cell_type": "code",
      "metadata": {
        "colab": {
          "base_uri": "https://localhost:8080/"
        },
        "id": "5zdXpN6grDFq",
        "outputId": "c8d8101c-c185-4104-dd7d-1a6324e4c06e"
      },
      "source": [
        "from sklearn.neighbors import NearestNeighbors\n",
        "\n",
        "# Fit k-nearest neighbors\n",
        "X = items[['acousticness', 'danceability', 'duration_ms', 'energy',\n",
        "       'instrumentalness', 'key', 'liveness', 'loudness', 'mode',\n",
        "       'speechiness', 'tempo', 'time_signature', 'valence']]\n",
        "\n",
        "n_neighbors = 3 \n",
        "\n",
        "# metrics = ['euclidean', 'hamming', 'jaccard']\n",
        "knn = NearestNeighbors(n_neighbors=n_neighbors+1, radius=2.0) # , metrics = metrics[0]\n",
        "knn.fit(X)\n",
        "\n",
        "# Select a song from a user\n",
        "random.seed(1894)\n",
        "item_selected = items[ items.song_id == transactions[ transactions.ID == random.sample(set(users.ID), 1)[0] ].song_id.values[0] ]\n",
        "item_selected = item_selected[['acousticness', 'danceability', 'duration_ms', 'energy',\n",
        "       'instrumentalness', 'key', 'liveness', 'loudness', 'mode',\n",
        "       'speechiness', 'tempo', 'time_signature', 'valence']]\n",
        "\n",
        "# Determine the neighbors\n",
        "d, neighbors = knn.kneighbors(item_selected)\n",
        "neighbors = neighbors[0][1::] \n",
        "d = d[0][1::] \n",
        "\n",
        "neighbors_ids = items.iloc[ neighbors ].song_id\n",
        "\n",
        "print('item_selected:')\n",
        "print(item_selected)\n",
        "print('Neighbors:')\n",
        "print(neighbors)\n",
        "print('Distance:')\n",
        "print(d)\n",
        "print('Neighbors_ids:')\n",
        "print(neighbors_ids)\n",
        "\n",
        "    "
      ],
      "execution_count": 12,
      "outputs": [
        {
          "output_type": "stream",
          "name": "stdout",
          "text": [
            "item_selected:\n",
            "    acousticness  danceability  duration_ms  ...    tempo  time_signature  valence\n",
            "17         0.198          0.89       326318  ...  114.959             4.0    0.717\n",
            "\n",
            "[1 rows x 13 columns]\n",
            "Neighbors:\n",
            "[16 15  3]\n",
            "Distance:\n",
            "[  189.25936697 32467.11289657 39171.0162962 ]\n",
            "Neighbors_ids:\n",
            "16    869\n",
            "15    826\n",
            "3     221\n",
            "Name: song_id, dtype: int64\n"
          ]
        }
      ]
    },
    {
      "cell_type": "markdown",
      "metadata": {
        "id": "oPs2j5UdNyOL"
      },
      "source": [
        "Agora os vizinhos são escolhidos entre as faixas, os itens, e selecionamos as faixas próximas."
      ]
    },
    {
      "cell_type": "code",
      "metadata": {
        "colab": {
          "base_uri": "https://localhost:8080/"
        },
        "id": "Eo7b-q_frDF5",
        "outputId": "f740774c-8e02-4848-caed-12799c41ce03"
      },
      "source": [
        "# Determine the suggested items\n",
        "suggested_items2 = neighbors_ids\n",
        "\n",
        "print('Suggested items:')\n",
        "print(suggested_items2)\n",
        "print('Suggested items:')\n",
        "print(items[ items.song_id.isin(suggested_items2) ][ ['song_title','artist'] ])\n"
      ],
      "execution_count": 13,
      "outputs": [
        {
          "output_type": "stream",
          "name": "stdout",
          "text": [
            "Suggested items:\n",
            "16    869\n",
            "15    826\n",
            "3     221\n",
            "Name: song_id, dtype: int64\n",
            "Suggested items:\n",
            "                         song_title            artist\n",
            "3                       Light House    Future Islands\n",
            "15               Living Every Dream            Antwon\n",
            "16  Nobodys Fool - Ben Pearce Remix  Real Connoisseur\n"
          ]
        }
      ]
    },
    {
      "cell_type": "markdown",
      "metadata": {
        "id": "95oFdrMNOCAD"
      },
      "source": [
        "# Mixed...\n",
        "\n",
        "Novamente as possibilidades de filtros são muitas. Você pode por exemplo estabelecer um número mínimo de ouvintes para recomendar uma faixa, ou empregar faixas mais recentes. Apenas para ilustrar essas inúmeras possibilidades vamos fazer a intersecção dos filtros de usuário e de contéudo que fizemos antes."
      ]
    },
    {
      "cell_type": "code",
      "metadata": {
        "colab": {
          "base_uri": "https://localhost:8080/"
        },
        "id": "rl_i3V2Qu48O",
        "outputId": "b5e11ea5-a856-4355-9866-d95abcc1ade7"
      },
      "source": [
        "# Determine the suggested items\n",
        "suggested_items3 = set(suggested_items).intersection(set(suggested_items2))\n",
        "\n",
        "print('Suggested items:')\n",
        "print(suggested_items3)\n",
        "print('Suggested items:')\n",
        "print(items[ items.song_id.isin(suggested_items3) ][ ['song_title','artist'] ])"
      ],
      "execution_count": 14,
      "outputs": [
        {
          "output_type": "stream",
          "name": "stdout",
          "text": [
            "Suggested items:\n",
            "{221}\n",
            "Suggested items:\n",
            "    song_title          artist\n",
            "3  Light House  Future Islands\n"
          ]
        }
      ]
    },
    {
      "cell_type": "markdown",
      "metadata": {
        "id": "C9IOHEvfRPZs"
      },
      "source": [
        "Que é uma faixa que não está na lista das ouvidas do usuário selecionado! Ótima recomendação!!!"
      ]
    },
    {
      "cell_type": "code",
      "metadata": {
        "colab": {
          "base_uri": "https://localhost:8080/",
          "height": 142
        },
        "id": "OvYZi_mEQ-ei",
        "outputId": "0060627c-a756-464a-8fc0-4454dbde241f"
      },
      "source": [
        "transactions[ transactions.ID == 82 ]"
      ],
      "execution_count": 15,
      "outputs": [
        {
          "output_type": "execute_result",
          "data": {
            "text/html": [
              "<div>\n",
              "<style scoped>\n",
              "    .dataframe tbody tr th:only-of-type {\n",
              "        vertical-align: middle;\n",
              "    }\n",
              "\n",
              "    .dataframe tbody tr th {\n",
              "        vertical-align: top;\n",
              "    }\n",
              "\n",
              "    .dataframe thead th {\n",
              "        text-align: right;\n",
              "    }\n",
              "</style>\n",
              "<table border=\"1\" class=\"dataframe\">\n",
              "  <thead>\n",
              "    <tr style=\"text-align: right;\">\n",
              "      <th></th>\n",
              "      <th>ID</th>\n",
              "      <th>song_id</th>\n",
              "    </tr>\n",
              "  </thead>\n",
              "  <tbody>\n",
              "    <tr>\n",
              "      <th>21</th>\n",
              "      <td>82</td>\n",
              "      <td>883</td>\n",
              "    </tr>\n",
              "    <tr>\n",
              "      <th>22</th>\n",
              "      <td>82</td>\n",
              "      <td>249</td>\n",
              "    </tr>\n",
              "    <tr>\n",
              "      <th>23</th>\n",
              "      <td>82</td>\n",
              "      <td>506</td>\n",
              "    </tr>\n",
              "  </tbody>\n",
              "</table>\n",
              "</div>"
            ],
            "text/plain": [
              "    ID  song_id\n",
              "21  82      883\n",
              "22  82      249\n",
              "23  82      506"
            ]
          },
          "metadata": {},
          "execution_count": 15
        }
      ]
    },
    {
      "cell_type": "code",
      "metadata": {
        "colab": {
          "base_uri": "https://localhost:8080/",
          "height": 321
        },
        "id": "FboOqHMbvnAv",
        "outputId": "e2926986-35e6-4dbd-8b9a-15b45d8dd089"
      },
      "source": [
        "from IPython.display import YouTubeVideo\n",
        "YouTubeVideo('VFUZDXIRdlo')"
      ],
      "execution_count": 16,
      "outputs": [
        {
          "output_type": "execute_result",
          "data": {
            "text/html": [
              "\n",
              "        <iframe\n",
              "            width=\"400\"\n",
              "            height=\"300\"\n",
              "            src=\"https://www.youtube.com/embed/VFUZDXIRdlo\"\n",
              "            frameborder=\"0\"\n",
              "            allowfullscreen\n",
              "        ></iframe>\n",
              "        "
            ],
            "text/plain": [
              "<IPython.lib.display.YouTubeVideo at 0x7f5295e6d650>"
            ],
            "image/jpeg": "[encoded data removed]"
          },
          "metadata": {},
          "execution_count": 16
        }
      ]
    },
    {
      "cell_type": "markdown",
      "metadata": {
        "id": "dftXVTZD7qdL"
      },
      "source": [
        "# Collaborative Filtering\n",
        "\n",
        "Os sistemas de filtragem colaborativa usam as ações dos usuários para recomendar itens. Eles empregam uma matriz de ações dos usuários, como uma a avaliação dos itens, pelos itens. Por exemplo, podemos ter uma matriz de *ranking* de $m$ itens para $n$ usuários:\n",
        "\n",
        "![imagem](https://production-media.paperswithcode.com/thumbnails/task/task-0000000592-2508deea.jpg)\n",
        "\n",
        "Do mesmo modo que nos modelos anteriores podemos então buscar usuários, ou itens, semelhantes agora que temos vetores para ambas as dimensões e, dependendo da dimensão empregada teremos **user-based collaborative filtering** ou  **item-based collaborative filtering**. Por exemplo, o item-based filtering é bastante semelhante ao sistema de recomendação de conteúdo que construímos antes. Eles identificam itens semelhantes com base em como as pessoas os classificaram no passado usando isso como características dos produtos. Por exemplo, se Adriana e Daniel deram 5 estrelas para a música Hey Jude e Strawberry Fields Forever o sistema identifica esses itens como semelhantes e alguém que ouvir Hey Jude poderá receber a recomendação de Strawberry Fields Forever.\n",
        "\n",
        "A filtragem colaborativa baseada em itens foi desenvolvida pela Amazon. Em um sistema onde há mais usuários do que itens, a filtragem com base em itens é mais rápida e estável do que com base no usuário. Embora a classificação por usuário parece ser mais efetiva para sistemas de entretenimento (música, filmes etc.)."
      ]
    },
    {
      "cell_type": "code",
      "metadata": {
        "colab": {
          "base_uri": "https://localhost:8080/",
          "height": 204
        },
        "cellView": "form",
        "id": "pcDN5jJyyq1H",
        "outputId": "d27fc187-345d-4f40-f0bf-0bdd942ecf0a"
      },
      "source": [
        "#@title RUN this setup before continue\n",
        "\n",
        "ratings = pd.DataFrame({'ID':[],'song_id':[],'rating':[]})\n",
        "\n",
        "random.seed(1984)\n",
        "for _ , row in users.iterrows():\n",
        "  n_items = random.randint(1,3) # max 3 itens por usuário\n",
        "  for item in random.sample(set(items.song_id), n_items):\n",
        "    ratings = pd.concat([ratings, pd.DataFrame({'ID':[row.ID],'song_id':[item],'rating':[random.randint(1,5)]})]) \n",
        "\n",
        "ratings.reset_index(drop=True,inplace=True)\n",
        "for c in ratings: ratings[c] = ratings[c].astype('int')\n",
        "\n",
        "ratings.head()"
      ],
      "execution_count": 17,
      "outputs": [
        {
          "output_type": "execute_result",
          "data": {
            "text/html": [
              "<div>\n",
              "<style scoped>\n",
              "    .dataframe tbody tr th:only-of-type {\n",
              "        vertical-align: middle;\n",
              "    }\n",
              "\n",
              "    .dataframe tbody tr th {\n",
              "        vertical-align: top;\n",
              "    }\n",
              "\n",
              "    .dataframe thead th {\n",
              "        text-align: right;\n",
              "    }\n",
              "</style>\n",
              "<table border=\"1\" class=\"dataframe\">\n",
              "  <thead>\n",
              "    <tr style=\"text-align: right;\">\n",
              "      <th></th>\n",
              "      <th>ID</th>\n",
              "      <th>song_id</th>\n",
              "      <th>rating</th>\n",
              "    </tr>\n",
              "  </thead>\n",
              "  <tbody>\n",
              "    <tr>\n",
              "      <th>0</th>\n",
              "      <td>10</td>\n",
              "      <td>869</td>\n",
              "      <td>3</td>\n",
              "    </tr>\n",
              "    <tr>\n",
              "      <th>1</th>\n",
              "      <td>10</td>\n",
              "      <td>72</td>\n",
              "      <td>2</td>\n",
              "    </tr>\n",
              "    <tr>\n",
              "      <th>2</th>\n",
              "      <td>28</td>\n",
              "      <td>347</td>\n",
              "      <td>3</td>\n",
              "    </tr>\n",
              "    <tr>\n",
              "      <th>3</th>\n",
              "      <td>28</td>\n",
              "      <td>913</td>\n",
              "      <td>1</td>\n",
              "    </tr>\n",
              "    <tr>\n",
              "      <th>4</th>\n",
              "      <td>28</td>\n",
              "      <td>51</td>\n",
              "      <td>2</td>\n",
              "    </tr>\n",
              "  </tbody>\n",
              "</table>\n",
              "</div>"
            ],
            "text/plain": [
              "   ID  song_id  rating\n",
              "0  10      869       3\n",
              "1  10       72       2\n",
              "2  28      347       3\n",
              "3  28      913       1\n",
              "4  28       51       2"
            ]
          },
          "metadata": {},
          "execution_count": 17
        }
      ]
    },
    {
      "cell_type": "markdown",
      "metadata": {
        "id": "QrLvKLJhDR8x"
      },
      "source": [
        "Com base nas avaliações dos usuários acima podemos construir a matriz de ranking."
      ]
    },
    {
      "cell_type": "code",
      "metadata": {
        "colab": {
          "base_uri": "https://localhost:8080/",
          "height": 514
        },
        "id": "QxjJI8rC0Rfm",
        "outputId": "5be1cb0b-fcf2-43b8-84bd-b61aa6cc84bf"
      },
      "source": [
        "df_ratings = ratings.pivot(\n",
        "    index='song_id',\n",
        "    columns='ID',\n",
        "    values='rating'\n",
        ").fillna(0)\n",
        "\n",
        "df_ratings"
      ],
      "execution_count": 18,
      "outputs": [
        {
          "output_type": "execute_result",
          "data": {
            "text/html": [
              "<div>\n",
              "<style scoped>\n",
              "    .dataframe tbody tr th:only-of-type {\n",
              "        vertical-align: middle;\n",
              "    }\n",
              "\n",
              "    .dataframe tbody tr th {\n",
              "        vertical-align: top;\n",
              "    }\n",
              "\n",
              "    .dataframe thead th {\n",
              "        text-align: right;\n",
              "    }\n",
              "</style>\n",
              "<table border=\"1\" class=\"dataframe\">\n",
              "  <thead>\n",
              "    <tr style=\"text-align: right;\">\n",
              "      <th>ID</th>\n",
              "      <th>10</th>\n",
              "      <th>28</th>\n",
              "      <th>32</th>\n",
              "      <th>40</th>\n",
              "      <th>44</th>\n",
              "      <th>47</th>\n",
              "      <th>50</th>\n",
              "      <th>64</th>\n",
              "      <th>82</th>\n",
              "      <th>100</th>\n",
              "    </tr>\n",
              "    <tr>\n",
              "      <th>song_id</th>\n",
              "      <th></th>\n",
              "      <th></th>\n",
              "      <th></th>\n",
              "      <th></th>\n",
              "      <th></th>\n",
              "      <th></th>\n",
              "      <th></th>\n",
              "      <th></th>\n",
              "      <th></th>\n",
              "      <th></th>\n",
              "    </tr>\n",
              "  </thead>\n",
              "  <tbody>\n",
              "    <tr>\n",
              "      <th>51</th>\n",
              "      <td>0.0</td>\n",
              "      <td>2.0</td>\n",
              "      <td>0.0</td>\n",
              "      <td>0.0</td>\n",
              "      <td>0.0</td>\n",
              "      <td>0.0</td>\n",
              "      <td>0.0</td>\n",
              "      <td>0.0</td>\n",
              "      <td>0.0</td>\n",
              "      <td>0.0</td>\n",
              "    </tr>\n",
              "    <tr>\n",
              "      <th>72</th>\n",
              "      <td>2.0</td>\n",
              "      <td>0.0</td>\n",
              "      <td>0.0</td>\n",
              "      <td>0.0</td>\n",
              "      <td>0.0</td>\n",
              "      <td>0.0</td>\n",
              "      <td>0.0</td>\n",
              "      <td>0.0</td>\n",
              "      <td>0.0</td>\n",
              "      <td>0.0</td>\n",
              "    </tr>\n",
              "    <tr>\n",
              "      <th>176</th>\n",
              "      <td>0.0</td>\n",
              "      <td>0.0</td>\n",
              "      <td>0.0</td>\n",
              "      <td>4.0</td>\n",
              "      <td>0.0</td>\n",
              "      <td>0.0</td>\n",
              "      <td>3.0</td>\n",
              "      <td>0.0</td>\n",
              "      <td>0.0</td>\n",
              "      <td>0.0</td>\n",
              "    </tr>\n",
              "    <tr>\n",
              "      <th>221</th>\n",
              "      <td>0.0</td>\n",
              "      <td>0.0</td>\n",
              "      <td>0.0</td>\n",
              "      <td>0.0</td>\n",
              "      <td>0.0</td>\n",
              "      <td>0.0</td>\n",
              "      <td>0.0</td>\n",
              "      <td>0.0</td>\n",
              "      <td>1.0</td>\n",
              "      <td>0.0</td>\n",
              "    </tr>\n",
              "    <tr>\n",
              "      <th>313</th>\n",
              "      <td>0.0</td>\n",
              "      <td>0.0</td>\n",
              "      <td>0.0</td>\n",
              "      <td>0.0</td>\n",
              "      <td>0.0</td>\n",
              "      <td>4.0</td>\n",
              "      <td>0.0</td>\n",
              "      <td>0.0</td>\n",
              "      <td>0.0</td>\n",
              "      <td>0.0</td>\n",
              "    </tr>\n",
              "    <tr>\n",
              "      <th>347</th>\n",
              "      <td>0.0</td>\n",
              "      <td>3.0</td>\n",
              "      <td>0.0</td>\n",
              "      <td>0.0</td>\n",
              "      <td>0.0</td>\n",
              "      <td>0.0</td>\n",
              "      <td>0.0</td>\n",
              "      <td>0.0</td>\n",
              "      <td>0.0</td>\n",
              "      <td>5.0</td>\n",
              "    </tr>\n",
              "    <tr>\n",
              "      <th>506</th>\n",
              "      <td>0.0</td>\n",
              "      <td>0.0</td>\n",
              "      <td>0.0</td>\n",
              "      <td>0.0</td>\n",
              "      <td>5.0</td>\n",
              "      <td>0.0</td>\n",
              "      <td>0.0</td>\n",
              "      <td>3.0</td>\n",
              "      <td>0.0</td>\n",
              "      <td>0.0</td>\n",
              "    </tr>\n",
              "    <tr>\n",
              "      <th>679</th>\n",
              "      <td>0.0</td>\n",
              "      <td>0.0</td>\n",
              "      <td>0.0</td>\n",
              "      <td>2.0</td>\n",
              "      <td>0.0</td>\n",
              "      <td>0.0</td>\n",
              "      <td>0.0</td>\n",
              "      <td>0.0</td>\n",
              "      <td>0.0</td>\n",
              "      <td>1.0</td>\n",
              "    </tr>\n",
              "    <tr>\n",
              "      <th>726</th>\n",
              "      <td>0.0</td>\n",
              "      <td>0.0</td>\n",
              "      <td>0.0</td>\n",
              "      <td>0.0</td>\n",
              "      <td>5.0</td>\n",
              "      <td>0.0</td>\n",
              "      <td>0.0</td>\n",
              "      <td>0.0</td>\n",
              "      <td>0.0</td>\n",
              "      <td>0.0</td>\n",
              "    </tr>\n",
              "    <tr>\n",
              "      <th>797</th>\n",
              "      <td>0.0</td>\n",
              "      <td>0.0</td>\n",
              "      <td>0.0</td>\n",
              "      <td>0.0</td>\n",
              "      <td>0.0</td>\n",
              "      <td>0.0</td>\n",
              "      <td>0.0</td>\n",
              "      <td>4.0</td>\n",
              "      <td>0.0</td>\n",
              "      <td>4.0</td>\n",
              "    </tr>\n",
              "    <tr>\n",
              "      <th>869</th>\n",
              "      <td>3.0</td>\n",
              "      <td>0.0</td>\n",
              "      <td>0.0</td>\n",
              "      <td>0.0</td>\n",
              "      <td>0.0</td>\n",
              "      <td>0.0</td>\n",
              "      <td>0.0</td>\n",
              "      <td>0.0</td>\n",
              "      <td>0.0</td>\n",
              "      <td>0.0</td>\n",
              "    </tr>\n",
              "    <tr>\n",
              "      <th>883</th>\n",
              "      <td>0.0</td>\n",
              "      <td>0.0</td>\n",
              "      <td>4.0</td>\n",
              "      <td>0.0</td>\n",
              "      <td>5.0</td>\n",
              "      <td>0.0</td>\n",
              "      <td>5.0</td>\n",
              "      <td>5.0</td>\n",
              "      <td>0.0</td>\n",
              "      <td>0.0</td>\n",
              "    </tr>\n",
              "    <tr>\n",
              "      <th>889</th>\n",
              "      <td>0.0</td>\n",
              "      <td>0.0</td>\n",
              "      <td>0.0</td>\n",
              "      <td>0.0</td>\n",
              "      <td>0.0</td>\n",
              "      <td>3.0</td>\n",
              "      <td>0.0</td>\n",
              "      <td>0.0</td>\n",
              "      <td>0.0</td>\n",
              "      <td>0.0</td>\n",
              "    </tr>\n",
              "    <tr>\n",
              "      <th>913</th>\n",
              "      <td>0.0</td>\n",
              "      <td>1.0</td>\n",
              "      <td>0.0</td>\n",
              "      <td>0.0</td>\n",
              "      <td>0.0</td>\n",
              "      <td>0.0</td>\n",
              "      <td>0.0</td>\n",
              "      <td>0.0</td>\n",
              "      <td>0.0</td>\n",
              "      <td>0.0</td>\n",
              "    </tr>\n",
              "  </tbody>\n",
              "</table>\n",
              "</div>"
            ],
            "text/plain": [
              "ID       10   28   32   40   44   47   50   64   82   100\n",
              "song_id                                                  \n",
              "51       0.0  2.0  0.0  0.0  0.0  0.0  0.0  0.0  0.0  0.0\n",
              "72       2.0  0.0  0.0  0.0  0.0  0.0  0.0  0.0  0.0  0.0\n",
              "176      0.0  0.0  0.0  4.0  0.0  0.0  3.0  0.0  0.0  0.0\n",
              "221      0.0  0.0  0.0  0.0  0.0  0.0  0.0  0.0  1.0  0.0\n",
              "313      0.0  0.0  0.0  0.0  0.0  4.0  0.0  0.0  0.0  0.0\n",
              "347      0.0  3.0  0.0  0.0  0.0  0.0  0.0  0.0  0.0  5.0\n",
              "506      0.0  0.0  0.0  0.0  5.0  0.0  0.0  3.0  0.0  0.0\n",
              "679      0.0  0.0  0.0  2.0  0.0  0.0  0.0  0.0  0.0  1.0\n",
              "726      0.0  0.0  0.0  0.0  5.0  0.0  0.0  0.0  0.0  0.0\n",
              "797      0.0  0.0  0.0  0.0  0.0  0.0  0.0  4.0  0.0  4.0\n",
              "869      3.0  0.0  0.0  0.0  0.0  0.0  0.0  0.0  0.0  0.0\n",
              "883      0.0  0.0  4.0  0.0  5.0  0.0  5.0  5.0  0.0  0.0\n",
              "889      0.0  0.0  0.0  0.0  0.0  3.0  0.0  0.0  0.0  0.0\n",
              "913      0.0  1.0  0.0  0.0  0.0  0.0  0.0  0.0  0.0  0.0"
            ]
          },
          "metadata": {},
          "execution_count": 18
        }
      ]
    },
    {
      "cell_type": "markdown",
      "metadata": {
        "id": "7oHJCqluDkfO"
      },
      "source": [
        "Você pode notar que ela será sempre uma matriz bastante esparsa e suas dimensões podem ser realmente um problema mesmo para um pequeno número de itens e usuários. Como apenas $1000$ itens e $1000$ usuários chegamos a uma matriz de com $10^{6}$, ou um milhão de elementos. O que ocorreria então em um sistema como o da Amazon ou Netflix com milhões de usuários e milhares de itens? Você verá isso logo mais adiante."
      ]
    },
    {
      "cell_type": "markdown",
      "metadata": {
        "id": "C0YlzCC-EyU2"
      },
      "source": [
        "A música *Pacifier*, pode ser agora identificada com as seguintes características, "
      ]
    },
    {
      "cell_type": "code",
      "metadata": {
        "colab": {
          "base_uri": "https://localhost:8080/",
          "height": 117
        },
        "id": "n-y3c6u6EnJl",
        "outputId": "9e8d8b21-86ce-4b00-a6a1-5acab36a97a5"
      },
      "source": [
        "items[items.song_id == 347]"
      ],
      "execution_count": 19,
      "outputs": [
        {
          "output_type": "execute_result",
          "data": {
            "text/html": [
              "<div>\n",
              "<style scoped>\n",
              "    .dataframe tbody tr th:only-of-type {\n",
              "        vertical-align: middle;\n",
              "    }\n",
              "\n",
              "    .dataframe tbody tr th {\n",
              "        vertical-align: top;\n",
              "    }\n",
              "\n",
              "    .dataframe thead th {\n",
              "        text-align: right;\n",
              "    }\n",
              "</style>\n",
              "<table border=\"1\" class=\"dataframe\">\n",
              "  <thead>\n",
              "    <tr style=\"text-align: right;\">\n",
              "      <th></th>\n",
              "      <th>song_id</th>\n",
              "      <th>acousticness</th>\n",
              "      <th>danceability</th>\n",
              "      <th>duration_ms</th>\n",
              "      <th>energy</th>\n",
              "      <th>instrumentalness</th>\n",
              "      <th>key</th>\n",
              "      <th>liveness</th>\n",
              "      <th>loudness</th>\n",
              "      <th>mode</th>\n",
              "      <th>speechiness</th>\n",
              "      <th>tempo</th>\n",
              "      <th>time_signature</th>\n",
              "      <th>valence</th>\n",
              "      <th>target</th>\n",
              "      <th>song_title</th>\n",
              "      <th>artist</th>\n",
              "    </tr>\n",
              "  </thead>\n",
              "  <tbody>\n",
              "    <tr>\n",
              "      <th>7</th>\n",
              "      <td>347</td>\n",
              "      <td>0.0469</td>\n",
              "      <td>0.766</td>\n",
              "      <td>237867</td>\n",
              "      <td>0.82</td>\n",
              "      <td>0.0</td>\n",
              "      <td>2</td>\n",
              "      <td>0.336</td>\n",
              "      <td>-5.851</td>\n",
              "      <td>1</td>\n",
              "      <td>0.124</td>\n",
              "      <td>117.012</td>\n",
              "      <td>4.0</td>\n",
              "      <td>0.401</td>\n",
              "      <td>1</td>\n",
              "      <td>Pacifier</td>\n",
              "      <td>Young Thug</td>\n",
              "    </tr>\n",
              "  </tbody>\n",
              "</table>\n",
              "</div>"
            ],
            "text/plain": [
              "   song_id  acousticness  danceability  ...  target  song_title      artist\n",
              "7      347        0.0469         0.766  ...       1    Pacifier  Young Thug\n",
              "\n",
              "[1 rows x 17 columns]"
            ]
          },
          "metadata": {},
          "execution_count": 19
        }
      ]
    },
    {
      "cell_type": "code",
      "metadata": {
        "colab": {
          "base_uri": "https://localhost:8080/",
          "height": 111
        },
        "id": "SPCljEa_4ktX",
        "outputId": "c9bf6f4e-8b67-4a5c-b66d-c85ee8b28255"
      },
      "source": [
        "df_ratings[ df_ratings.index == 347 ]"
      ],
      "execution_count": 20,
      "outputs": [
        {
          "output_type": "execute_result",
          "data": {
            "text/html": [
              "<div>\n",
              "<style scoped>\n",
              "    .dataframe tbody tr th:only-of-type {\n",
              "        vertical-align: middle;\n",
              "    }\n",
              "\n",
              "    .dataframe tbody tr th {\n",
              "        vertical-align: top;\n",
              "    }\n",
              "\n",
              "    .dataframe thead th {\n",
              "        text-align: right;\n",
              "    }\n",
              "</style>\n",
              "<table border=\"1\" class=\"dataframe\">\n",
              "  <thead>\n",
              "    <tr style=\"text-align: right;\">\n",
              "      <th>ID</th>\n",
              "      <th>10</th>\n",
              "      <th>28</th>\n",
              "      <th>32</th>\n",
              "      <th>40</th>\n",
              "      <th>44</th>\n",
              "      <th>47</th>\n",
              "      <th>50</th>\n",
              "      <th>64</th>\n",
              "      <th>82</th>\n",
              "      <th>100</th>\n",
              "    </tr>\n",
              "    <tr>\n",
              "      <th>song_id</th>\n",
              "      <th></th>\n",
              "      <th></th>\n",
              "      <th></th>\n",
              "      <th></th>\n",
              "      <th></th>\n",
              "      <th></th>\n",
              "      <th></th>\n",
              "      <th></th>\n",
              "      <th></th>\n",
              "      <th></th>\n",
              "    </tr>\n",
              "  </thead>\n",
              "  <tbody>\n",
              "    <tr>\n",
              "      <th>347</th>\n",
              "      <td>0.0</td>\n",
              "      <td>3.0</td>\n",
              "      <td>0.0</td>\n",
              "      <td>0.0</td>\n",
              "      <td>0.0</td>\n",
              "      <td>0.0</td>\n",
              "      <td>0.0</td>\n",
              "      <td>0.0</td>\n",
              "      <td>0.0</td>\n",
              "      <td>5.0</td>\n",
              "    </tr>\n",
              "  </tbody>\n",
              "</table>\n",
              "</div>"
            ],
            "text/plain": [
              "ID       10   28   32   40   44   47   50   64   82   100\n",
              "song_id                                                  \n",
              "347      0.0  3.0  0.0  0.0  0.0  0.0  0.0  0.0  0.0  5.0"
            ]
          },
          "metadata": {},
          "execution_count": 20
        }
      ]
    },
    {
      "cell_type": "markdown",
      "metadata": {
        "id": "_mOA8wsmE8jn"
      },
      "source": [
        "E podemos então buscar as músicas *semelhantes* empregando o mesmo método de vizinhos mais próximos que empregamos anteriormente,"
      ]
    },
    {
      "cell_type": "code",
      "metadata": {
        "colab": {
          "base_uri": "https://localhost:8080/"
        },
        "id": "B63p7PYF4T7B",
        "outputId": "53bd1578-c56a-4a0f-c498-698e2307a42c"
      },
      "source": [
        "from sklearn.neighbors import NearestNeighbors\n",
        "\n",
        "# Fit k-nearest neighbors\n",
        "X = df_ratings\n",
        "\n",
        "n_neighbors = 3 \n",
        "\n",
        "# metrics = ['euclidean', 'hamming', 'jaccard']\n",
        "knn = NearestNeighbors(n_neighbors=n_neighbors+1, radius=2.0) # , metrics = metrics[0]\n",
        "knn.fit(X)\n",
        "\n",
        "# Select a song from a user\n",
        "random.seed(1894)\n",
        "df_ratings_selected = df_ratings[ df_ratings.index == 347 ]\n",
        "\n",
        "# Determine the neighbors\n",
        "d, neighbors = knn.kneighbors(df_ratings_selected)\n",
        "neighbors = neighbors[0][1::] \n",
        "d = d[0][1::] \n",
        "\n",
        "neighbors_ids = items.iloc[ neighbors ].song_id\n",
        "\n",
        "print('item_selected:')\n",
        "print(item_selected)\n",
        "print('Neighbors:')\n",
        "print(neighbors)\n",
        "print('Distance:')\n",
        "print(d)\n",
        "print('Neighbors_ids:')\n",
        "print(neighbors_ids)"
      ],
      "execution_count": 21,
      "outputs": [
        {
          "output_type": "stream",
          "name": "stdout",
          "text": [
            "item_selected:\n",
            "    acousticness  danceability  duration_ms  ...    tempo  time_signature  valence\n",
            "17         0.198          0.89       326318  ...  114.959             4.0    0.717\n",
            "\n",
            "[1 rows x 13 columns]\n",
            "Neighbors:\n",
            "[9 0 7]\n",
            "Distance:\n",
            "[5.09901951 5.09901951 5.38516481]\n",
            "Neighbors_ids:\n",
            "9    395\n",
            "0     51\n",
            "7    347\n",
            "Name: song_id, dtype: int64\n"
          ]
        }
      ]
    },
    {
      "cell_type": "code",
      "metadata": {
        "colab": {
          "base_uri": "https://localhost:8080/"
        },
        "id": "mG3r-yOU5X_y",
        "outputId": "73a2d9d5-5805-4a15-947b-878f462293d1"
      },
      "source": [
        "# Determine the suggested items\n",
        "suggested_items4 = neighbors_ids\n",
        "\n",
        "print('Suggested items:')\n",
        "print(suggested_items4)\n",
        "print('Suggested items:')\n",
        "print(items[ items.song_id.isin(suggested_items4) ][ ['song_title','artist'] ])"
      ],
      "execution_count": 22,
      "outputs": [
        {
          "output_type": "stream",
          "name": "stdout",
          "text": [
            "Suggested items:\n",
            "9    395\n",
            "0     51\n",
            "7    347\n",
            "Name: song_id, dtype: int64\n",
            "Suggested items:\n",
            "  song_title            artist\n",
            "0  The Chase    Future Islands\n",
            "7   Pacifier        Young Thug\n",
            "9       5ft7  Tonstartssbandht\n"
          ]
        }
      ]
    },
    {
      "cell_type": "markdown",
      "metadata": {
        "id": "k3gMOWSGFcHW"
      },
      "source": [
        "Neste ponto pode ser importante ressaltarmos que, por se tratar de uma introdução, estamos fazendo uma série de simplificações. Por exemplo não estamos discutindo outras métricas de distância que são empregadas e, talvez interesse saber que a similiridade *cosseno* é nesses casos muito mais comum de ser empregada que a distância euclidiana e que ainda existem outras formas de medir similaridade e distância. Também não tratamos aqui de algumas técnicas para calcular os valores de ranking que, aqui, foram obtidos de forma simples a partir da avaliação direta dos usuários de 1-5. Você pode encontrar uma referência rápida para saber mais [aqui](https://realpython.com/build-recommendation-engine-collaborative-filtering/). "
      ]
    },
    {
      "cell_type": "markdown",
      "metadata": {
        "id": "FLeDoijpHCc-"
      },
      "source": [
        "# Baseado em modelo\n",
        "\n",
        "Um modo de lidar com o problema da alta dimensionalidade da matriz acima consiste em obtermos uma redução de dimensionalidade o que pode melhorar o desempenho do algoritmo em termos de espaço e tempo. Você pode usar vários métodos como fatoração matricial ou autoencodificador para fazer isso.\n",
        "\n",
        "Você pode entender a fatoração matricial como a quebra de uma grande matriz em um produto de menores, algo semelhante à fatorização dos números inteiros ($12 = 3 \\times 2 \\times 2$). No caso de matrizes, uma matriz $A$ de dimensão $m \\times n$ pode ser reduzida ao produto de duas matrizes $X$ e $Y$ com dimensões  $m \\times d$ e $d \\times n$\n",
        "\n",
        "![imagem](https://files.realpython.com/media/dimensionality-reduction.f8686dd52b9c.jpg)\n",
        "\n",
        "As matrizes reduzidas realmente representam os usuários e itens individualmente. \n",
        "\n",
        "![image,](https://cdn-images-1.medium.com/max/800/0*sk4ng-D6cKW_HOT8.)\n",
        "\n",
        "As linhas m na primeira matriz representam os usuários m, e as colunas d lhe contam sobre os recursos ou características dos usuários. O mesmo vale para a matriz de itens com n itens e características d. \n",
        "\n",
        "As duas colunas na matriz de usuário e as duas linhas na matriz de itens são chamadas de **fatores latentes** e são uma indicação de características ocultas sobre os usuários ou os itens. \n",
        "\n",
        "O número de fatores latentes afeta as recomendações de forma que quanto maior o número de fatores, mais personalizadas as recomendações se tornam. Mas muitos fatores podem levar a um excesso de adaptação no modelo (sobreajuste), mas a melhor determinação do número de fatores latentes está além do que podemos tratar em uma introdução ao tema.\n",
        "\n",
        "\n",
        "\n",
        "\n",
        "\n",
        "\n"
      ]
    },
    {
      "cell_type": "markdown",
      "metadata": {
        "id": "rc8mFNGFMDb4"
      },
      "source": [
        "# Algoritmos para Factorização Matricial\n",
        "\n",
        "Um dos algoritmos mais populares para fatorar uma matriz é o **algoritmo de decomposição de valor singular** ou **SVD**, um método que ganhou fama ao empregado em sistemas de recomendação da Netflix, embora existam hoje outros algoritmos que incluem de diferentes variações do PCA a autoencodificadores de  Redes Neurais.\n",
        "\n",
        "Aqui vamos empregar o algoritmo SVD no problema anterior reduzindo as 10 características das trilhas musicais para 3."
      ]
    },
    {
      "cell_type": "code",
      "metadata": {
        "colab": {
          "base_uri": "https://localhost:8080/"
        },
        "id": "IdBwRvSwz9nB",
        "outputId": "a0608fe8-51a3-4672-dc66-c74ea80f81c2"
      },
      "source": [
        "df_ratings.shape"
      ],
      "execution_count": 21,
      "outputs": [
        {
          "output_type": "execute_result",
          "data": {
            "text/plain": [
              "(14, 10)"
            ]
          },
          "metadata": {},
          "execution_count": 21
        }
      ]
    },
    {
      "cell_type": "code",
      "metadata": {
        "colab": {
          "base_uri": "https://localhost:8080/"
        },
        "id": "O3nVylPZ0WeE",
        "outputId": "16236026-895b-4253-9699-86e75305279a"
      },
      "source": [
        "np.matrix(df_ratings)"
      ],
      "execution_count": 23,
      "outputs": [
        {
          "output_type": "execute_result",
          "data": {
            "text/plain": [
              "matrix([[0., 2., 0., 0., 0., 0., 0., 0., 0., 0.],\n",
              "        [2., 0., 0., 0., 0., 0., 0., 0., 0., 0.],\n",
              "        [0., 0., 0., 4., 0., 0., 3., 0., 0., 0.],\n",
              "        [0., 0., 0., 0., 0., 0., 0., 0., 1., 0.],\n",
              "        [0., 0., 0., 0., 0., 4., 0., 0., 0., 0.],\n",
              "        [0., 3., 0., 0., 0., 0., 0., 0., 0., 5.],\n",
              "        [0., 0., 0., 0., 5., 0., 0., 3., 0., 0.],\n",
              "        [0., 0., 0., 2., 0., 0., 0., 0., 0., 1.],\n",
              "        [0., 0., 0., 0., 5., 0., 0., 0., 0., 0.],\n",
              "        [0., 0., 0., 0., 0., 0., 0., 4., 0., 4.],\n",
              "        [3., 0., 0., 0., 0., 0., 0., 0., 0., 0.],\n",
              "        [0., 0., 4., 0., 5., 0., 5., 5., 0., 0.],\n",
              "        [0., 0., 0., 0., 0., 3., 0., 0., 0., 0.],\n",
              "        [0., 1., 0., 0., 0., 0., 0., 0., 0., 0.]])"
            ]
          },
          "metadata": {},
          "execution_count": 23
        }
      ]
    },
    {
      "cell_type": "code",
      "metadata": {
        "colab": {
          "base_uri": "https://localhost:8080/"
        },
        "id": "lWiMqYo50CaD",
        "outputId": "cb57cb0a-f380-4f65-a6b4-1180dfd0b7da"
      },
      "source": [
        "import sklearn\n",
        "from sklearn.decomposition import TruncatedSVD\n",
        "\n",
        "matrix_ratings = np.matrix(df_ratings)\n",
        "SVD = TruncatedSVD(n_components=3, random_state=1984)\n",
        "matrix = SVD.fit_transform(matrix_ratings)\n",
        "matrix.shape"
      ],
      "execution_count": 24,
      "outputs": [
        {
          "output_type": "execute_result",
          "data": {
            "text/plain": [
              "(14, 3)"
            ]
          },
          "metadata": {},
          "execution_count": 24
        }
      ]
    },
    {
      "cell_type": "code",
      "metadata": {
        "colab": {
          "base_uri": "https://localhost:8080/"
        },
        "id": "1IvrZB4J1Qmp",
        "outputId": "bbc7b901-43ab-459a-92c5-f9dd762529a8"
      },
      "source": [
        "matrix"
      ],
      "execution_count": 25,
      "outputs": [
        {
          "output_type": "execute_result",
          "data": {
            "text/plain": [
              "array([[ 2.66894475e-02,  6.84017096e-01, -9.29976365e-02],\n",
              "       [ 5.70235306e-17,  6.53045698e-16, -2.71447461e-16],\n",
              "       [ 1.32609673e+00, -1.67764610e-01,  4.21612139e+00],\n",
              "       [-5.80953054e-18,  6.20565840e-17, -5.41656080e-16],\n",
              "       [-6.28363686e-16,  1.40684735e-15,  8.87330779e-15],\n",
              "       [ 5.56027467e-01,  5.37412688e+00, -4.30927087e-01],\n",
              "       [ 5.03316005e+00, -5.76205291e-01, -2.33761734e+00],\n",
              "       [ 1.90671845e-01,  9.13998132e-01,  1.10466431e+00],\n",
              "       [ 3.38432712e+00, -1.25939745e+00, -2.35085881e+00],\n",
              "       [ 2.61123854e+00,  4.38940386e+00, -2.15489216e-01],\n",
              "       [ 7.85617760e-17, -4.30212236e-16,  1.85090002e-16],\n",
              "       [ 9.18093206e+00, -7.91010966e-01,  1.60391862e+00],\n",
              "       [-4.72853898e-16,  1.05772273e-15,  6.77425971e-15],\n",
              "       [ 1.33447237e-02,  3.42008548e-01, -4.64988182e-02]])"
            ]
          },
          "metadata": {},
          "execution_count": 25
        }
      ]
    },
    {
      "cell_type": "markdown",
      "metadata": {
        "id": "smsksx1lNnvQ"
      },
      "source": [
        "Agora a música Pacifier, é a 5a da lista e pode ser agora identificada com o seguinte vetor característico,"
      ]
    },
    {
      "cell_type": "code",
      "metadata": {
        "colab": {
          "base_uri": "https://localhost:8080/"
        },
        "id": "8JmFiDyb1jSl",
        "outputId": "66bef3e0-35b7-4a86-c877-d737fb58b7ef"
      },
      "source": [
        "df_ratings.index"
      ],
      "execution_count": 26,
      "outputs": [
        {
          "output_type": "execute_result",
          "data": {
            "text/plain": [
              "Int64Index([51, 72, 176, 221, 313, 347, 506, 679, 726, 797, 869, 883, 889,\n",
              "            913],\n",
              "           dtype='int64', name='song_id')"
            ]
          },
          "metadata": {},
          "execution_count": 26
        }
      ]
    },
    {
      "cell_type": "code",
      "metadata": {
        "colab": {
          "base_uri": "https://localhost:8080/"
        },
        "id": "D3YJDL0x18DP",
        "outputId": "993df0e7-6614-4a02-8571-a74b1675f273"
      },
      "source": [
        "df_ratings.index.to_list().index(347)"
      ],
      "execution_count": 34,
      "outputs": [
        {
          "output_type": "execute_result",
          "data": {
            "text/plain": [
              "5"
            ]
          },
          "metadata": {},
          "execution_count": 34
        }
      ]
    },
    {
      "cell_type": "code",
      "metadata": {
        "colab": {
          "base_uri": "https://localhost:8080/"
        },
        "id": "Npy29xgm2fBQ",
        "outputId": "6f3e5edb-42f7-46ae-cb16-8159c97745b7"
      },
      "source": [
        "matrix[df_ratings.index.to_list().index(347),:].reshape(1, -1) "
      ],
      "execution_count": 42,
      "outputs": [
        {
          "output_type": "execute_result",
          "data": {
            "text/plain": [
              "array([[ 0.55602747,  5.37412688, -0.43092709]])"
            ]
          },
          "metadata": {},
          "execution_count": 42
        }
      ]
    },
    {
      "cell_type": "markdown",
      "metadata": {
        "id": "gQteixNsN2Kv"
      },
      "source": [
        "Do mesmo modo que antes vamos identificar os seus vizinhos mais próximos,"
      ]
    },
    {
      "cell_type": "code",
      "metadata": {
        "colab": {
          "base_uri": "https://localhost:8080/"
        },
        "id": "y9PvuNPA1Ak6",
        "outputId": "845165bd-3ae9-4e86-9968-44bb109ff8d2"
      },
      "source": [
        "from sklearn.neighbors import NearestNeighbors\n",
        "\n",
        "# Fit k-nearest neighbors\n",
        "X = matrix\n",
        "\n",
        "n_neighbors = 3 \n",
        "\n",
        "# metrics = ['euclidean', 'hamming', 'jaccard']\n",
        "knn = NearestNeighbors(n_neighbors=n_neighbors+1, radius=2.0) # , metrics = metrics[0]\n",
        "knn.fit(X)\n",
        "\n",
        "# Select a song from a user\n",
        "random.seed(1894)\n",
        "\n",
        "# ValueError: Expected 2D array, got 1D array instead:\n",
        "# array=[ 0.55602747  5.37412688 -0.43092709].\n",
        "# Reshape your data either using array.reshape(-1, 1) if your data has a single feature or array.reshape(1, -1) if it contains a single sample.\n",
        "df_ratings_selected = matrix[df_ratings.index.to_list().index(347),:].reshape(1, -1)  \n",
        "\n",
        "# Determine the neighbors\n",
        "d, neighbors = knn.kneighbors(df_ratings_selected)\n",
        "neighbors = neighbors[0][1::] \n",
        "d = d[0][1::] \n",
        "\n",
        "neighbors_ids = items.iloc[ neighbors ].song_id\n",
        "\n",
        "print('item_selected:')\n",
        "print(item_selected)\n",
        "print('Neighbors:')\n",
        "print(neighbors)\n",
        "print('Distance:')\n",
        "print(d)\n",
        "print('Neighbors_ids:')\n",
        "print(neighbors_ids)"
      ],
      "execution_count": 43,
      "outputs": [
        {
          "output_type": "stream",
          "name": "stdout",
          "text": [
            "item_selected:\n",
            "    acousticness  danceability  duration_ms  ...    tempo  time_signature  valence\n",
            "17         0.198          0.89       326318  ...  114.959             4.0    0.717\n",
            "\n",
            "[1 rows x 13 columns]\n",
            "Neighbors:\n",
            "[9 7 0]\n",
            "Distance:\n",
            "[2.28910145 4.73120218 4.73196838]\n",
            "Neighbors_ids:\n",
            "9    395\n",
            "7    347\n",
            "0     51\n",
            "Name: song_id, dtype: int64\n"
          ]
        }
      ]
    },
    {
      "cell_type": "code",
      "metadata": {
        "colab": {
          "base_uri": "https://localhost:8080/"
        },
        "id": "_dlAJjZE3qES",
        "outputId": "4becd5f4-3225-4889-8394-a1a3a04b281f"
      },
      "source": [
        "# Determine the suggested items\n",
        "suggested_items5 = neighbors_ids\n",
        "\n",
        "print('Suggested items:')\n",
        "print(suggested_items5)\n",
        "print('Suggested items:')\n",
        "print(items[ items.song_id.isin(suggested_items5) ][ ['song_title','artist'] ])"
      ],
      "execution_count": 45,
      "outputs": [
        {
          "output_type": "stream",
          "name": "stdout",
          "text": [
            "Suggested items:\n",
            "9    395\n",
            "7    347\n",
            "0     51\n",
            "Name: song_id, dtype: int64\n",
            "Suggested items:\n",
            "  song_title            artist\n",
            "0  The Chase    Future Islands\n",
            "7   Pacifier        Young Thug\n",
            "9       5ft7  Tonstartssbandht\n"
          ]
        }
      ]
    },
    {
      "cell_type": "markdown",
      "metadata": {
        "id": "H_pMlWg3OBVX"
      },
      "source": [
        "Nenhuma supresa talvez em encontrarmos a banda *Future Islands* novamente..."
      ]
    }
  ]
}