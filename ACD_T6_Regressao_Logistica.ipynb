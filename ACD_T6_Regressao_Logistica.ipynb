{
  "nbformat": 4,
  "nbformat_minor": 0,
  "metadata": {
    "anaconda-cloud": {},
    "kernelspec": {
      "display_name": "Python 3",
      "language": "python",
      "name": "python3"
    },
    "language_info": {
      "codemirror_mode": {
        "name": "ipython",
        "version": 3
      },
      "file_extension": ".py",
      "mimetype": "text/x-python",
      "name": "python",
      "nbconvert_exporter": "python",
      "pygments_lexer": "ipython3",
      "version": "3.7.4"
    },
    "colab": {
      "name": "ACD_T6_Regressao_Logistica.ipynb",
      "provenance": [],
      "collapsed_sections": [
        "mGhb-8atV0E-",
        "_LZsmTAEYpHo",
        "IRed5j3hBH3r"
      ],
      "include_colab_link": true
    }
  },
  "cells": [
    {
      "cell_type": "markdown",
      "metadata": {
        "id": "view-in-github",
        "colab_type": "text"
      },
      "source": [
        "<a href=\"https://colab.research.google.com/github/Rogerio-mack/Ciencia-de-Dados-e-Aprendizado-de-Maquina/blob/main/ACD_T6_Regressao_Logistica.ipynb\" target=\"_parent\"><img src=\"https://colab.research.google.com/assets/colab-badge.svg\" alt=\"Open In Colab\"/></a>"
      ]
    },
    {
      "cell_type": "markdown",
      "metadata": {
        "id": "gglUriLmo1sR"
      },
      "source": [
        "<head>\n",
        "  <meta name=\"author\" content=\"Rogério de Oliveira\">\n",
        "  <meta institution=\"author\" content=\"Universidade Presbiteriana Mackenzie\">\n",
        "</head>\n",
        "\n",
        "<img src=\"http://meusite.mackenzie.br/rogerio/mackenzie_logo/UPM.2_horizontal_vermelho.jpg\" width=300, align=\"right\"></a>\n",
        "<!-- <h1 align=left><font size = 6, style=\"color:rgb(200,0,0)\"> optional title </font></h1> -->"
      ]
    },
    {
      "cell_type": "markdown",
      "metadata": {
        "id": "x3RSAcU_o1sU"
      },
      "source": [
        "# **Regressão Logistica**\n",
        "---"
      ]
    },
    {
      "cell_type": "markdown",
      "metadata": {
        "id": "Li1FPlObIQAh"
      },
      "source": [
        "## Regressão Logistica \n",
        "\n",
        "A Regressão logistica é um processo que modela a probabilidade de ocorrencia de uma variável discreta, dada uma variavel de entrada.\n",
        "Os modelos mais comuns de regressão logistica tem como resultado um valor binário, como 'sim/não', 'verdadeiro/falso', 'sucesso/fracasso' e etc.. Já as variáveis de entrada podem ser categóricas ou métricas.\n",
        "\n",
        " Os modelos de regressão logistica são particularmente úteis em problemas de classificação, onde se deseja estimar em qual categoria os dados devem ser classificados. Como possíveis aplicações pode-se citar as áreas:\n",
        "<br>\n",
        "<br>\n",
        "\n",
        "**Médica:** Determinar as chances de se desenvolver uma determinada doença, baseado em caracteristicas gerais do paciente.\n",
        "\n",
        "**Financeira:** Determinar se um emprestimo pode ser concedido a um cliente ou não.\n",
        "\n",
        "**Social:** Estimar as chances de uma pessoa votar em um candidato ou não.\n",
        "\n",
        "**Industrial:** Estimar as chances de falhas em processos produtivos.\n",
        "\n",
        "**Marketing:** Estimar as chances de um cliente adquirir um determinado protudo ou pacote de serviços.\n",
        "\n",
        "\n",
        "\n",
        "\n",
        "\n",
        "\n",
        "\n",
        "\n"
      ]
    },
    {
      "cell_type": "markdown",
      "metadata": {
        "id": "mGhb-8atV0E-"
      },
      "source": [
        "## Exemplo\n",
        "\n",
        "Suponha que se deseja analisar as chances de um individuo ter problemas com pressão alta. Existem diversos fatores que influênciam este problema, mas para este exemplo vamos considerar apenas dois: idade e peso. Considere que um determinado hospital possuí uma base de dados com 100 pessoas, suas idades e pesos, e também se sofrem de pressão alta ou não. A variável dependente é a ocorrencia de pressão alta. Ter pressão alta é igual a 1 e não ter é igual a 0.\n",
        "As variáveis independentes são idade e peso. Nesse exemplo, o que a regressão logistica se propõe, é a criação de um modelo logistico que possa estimar a probabilidade de um individuo ter problemas de pressão, baseado em sua idade e seu peso.\n",
        "<br>\n",
        "\n",
        " Então, suponha que se deseja estimar a probabilidade de um individuo de 50 anos e com 98Kg ter problemas de pressão alta. Ao inserir os dados no modelo, o resultado vai ser um número entre 0 e 1, representando a probabilidade daquela pessoa ter problemas de pressão.\n"
      ]
    },
    {
      "cell_type": "markdown",
      "metadata": {
        "id": "_LZsmTAEYpHo"
      },
      "source": [
        "##Chance\n",
        "\n",
        "Com a probabilidade calculada, pode-se calcular também as chances de ocorrencia de um evento. \n",
        "No exemplo anterior, se o modelo preve que uma pessoa de 50 anos e 98Kg tem a probabilidade de **p= 0,8** (80%) de desenvolver problemas de pressão alta então podemos dizer que essa pessoa tem a probabilidade de **1-p = 0,2** (20%) de não ter esse problema. \n",
        "A chance é definida como:\n",
        "<br>\n",
        "<br>\n",
        "$$ Chance = p/(1-p)$$ nesse caso, $$Chance = 0,8/0,2$$ $$Chance = 4$$ \n",
        "<br>\n",
        "O que significa uma pessoa nessas condições tem 4x mais chances de desenvolver pressão alta do que de não desenvolver."
      ]
    },
    {
      "cell_type": "markdown",
      "metadata": {
        "id": "IRed5j3hBH3r"
      },
      "source": [
        "## Comparativo\n",
        "\n",
        "**Regressão linear**\n",
        "\n",
        "\n",
        "*   Variáveis contínuas\n",
        "*   Resolve problemas de regressão\n",
        "*   Função é uma reta\n",
        "\n",
        "**Regressão logistica**\n",
        "\n",
        "\n",
        "*   Variáveis categóricas\n",
        "*   Resolve problemas de classificação\n",
        "*   Função S-Curve\n"
      ]
    },
    {
      "cell_type": "markdown",
      "metadata": {
        "deletable": true,
        "editable": true,
        "id": "qK4Wi5vshpPc"
      },
      "source": [
        "## Uma regressão logistica simples\n",
        "\n",
        "Vamos começar com uma regressão simples de valores aleatórios apenas para você se familiarizar com a construção do modelo. "
      ]
    },
    {
      "cell_type": "code",
      "metadata": {
        "id": "UPVeFK3a5i6d",
        "colab": {
          "base_uri": "https://localhost:8080/"
        },
        "outputId": "a799e90b-a9e7-4e7c-8b91-af5baccb8c8b"
      },
      "source": [
        "import pandas                  as pd\n",
        "import numpy                   as np\n",
        "import matplotlib.pyplot       as plt\n",
        "import seaborn                 as sns\n",
        "import statsmodels.formula.api as sm\n",
        "import warnings\n",
        "warnings.filterwarnings(\"ignore\")  "
      ],
      "execution_count": null,
      "outputs": [
        {
          "output_type": "stream",
          "name": "stderr",
          "text": [
            "/usr/local/lib/python3.7/dist-packages/statsmodels/tools/_testing.py:19: FutureWarning: pandas.util.testing is deprecated. Use the functions in the public API at pandas.testing instead.\n",
            "  import pandas.util.testing as tm\n"
          ]
        }
      ]
    },
    {
      "cell_type": "markdown",
      "metadata": {
        "id": "hsCr050-MUNR"
      },
      "source": [
        "Gerando uma amostra de 5 valores \"aleatórios\" a partir de uma função linear.    "
      ]
    },
    {
      "cell_type": "code",
      "metadata": {
        "colab": {
          "base_uri": "https://localhost:8080/"
        },
        "id": "sznpJTvdo5ku",
        "outputId": "44eaa1dd-bf14-403e-c66b-f116c8a71af1"
      },
      "source": [
        "rng = np.random.RandomState(0)\n",
        "notas = []\n",
        "for nota in rng.rand(5)*10:    #gera 5 números aleatórios entre 0 e 1, e multiplica por 10\n",
        "    notas.append(round(nota,1)) #arredonda o resultado para 1 casa deciamal\n",
        "\n",
        "print(notas)"
      ],
      "execution_count": null,
      "outputs": [
        {
          "output_type": "stream",
          "name": "stdout",
          "text": [
            "[5.5, 7.2, 6.0, 5.4, 4.2]\n"
          ]
        }
      ]
    },
    {
      "cell_type": "markdown",
      "metadata": {
        "id": "p1DVCm6eypCh"
      },
      "source": [
        "Vamos definir o critério de aprovação/reprovação em 6, mas o modelo **não** vai ter acesso a esse número.\n",
        "Na verdade, o modelo deve ser capaz de observar os dados e entender o critério que foi adotado."
      ]
    },
    {
      "cell_type": "code",
      "metadata": {
        "colab": {
          "base_uri": "https://localhost:8080/"
        },
        "id": "guN6Czznylm9",
        "outputId": "8f58f022-12dd-4dd3-d714-2b3f56aad95c"
      },
      "source": [
        "situacao = []\n",
        "for nota in notas:\n",
        "    if nota>=6.0:\n",
        "        situacao.append('aprovado')\n",
        "    else:\n",
        "        situacao.append('reprovado')\n",
        "\n",
        "print(situacao)"
      ],
      "execution_count": null,
      "outputs": [
        {
          "output_type": "stream",
          "name": "stdout",
          "text": [
            "['reprovado', 'aprovado', 'aprovado', 'reprovado', 'reprovado']\n"
          ]
        }
      ]
    },
    {
      "cell_type": "code",
      "metadata": {
        "id": "58ZX12zsrbv6"
      },
      "source": [
        "df_notas = pd.DataFrame({'nota':notas})\n",
        "df_situacao = pd.DataFrame({'situacao':situacao})"
      ],
      "execution_count": null,
      "outputs": []
    },
    {
      "cell_type": "code",
      "metadata": {
        "colab": {
          "base_uri": "https://localhost:8080/"
        },
        "id": "mbIFKrpiuN6a",
        "outputId": "1c10ff64-8f6a-4a1c-caf6-361f278158aa"
      },
      "source": [
        "# import da ferramenta\n",
        "from sklearn.linear_model import LogisticRegression\n",
        "\n",
        "# Inicializar o modelo com parametros padrão\n",
        "logreg = LogisticRegression()\n",
        "\n",
        "# ajusta o modelo com as informacoes\n",
        "logreg.fit(df_notas,df_situacao)\n"
      ],
      "execution_count": null,
      "outputs": [
        {
          "output_type": "execute_result",
          "data": {
            "text/plain": [
              "LogisticRegression(C=1.0, class_weight=None, dual=False, fit_intercept=True,\n",
              "                   intercept_scaling=1, l1_ratio=None, max_iter=100,\n",
              "                   multi_class='auto', n_jobs=None, penalty='l2',\n",
              "                   random_state=None, solver='lbfgs', tol=0.0001, verbose=0,\n",
              "                   warm_start=False)"
            ]
          },
          "metadata": {},
          "execution_count": 7
        }
      ]
    },
    {
      "cell_type": "markdown",
      "metadata": {
        "id": "TCBIxm1G0ux8"
      },
      "source": [
        "Vamos agora gerar 100 notas aleatórias, e verificar se o nosso modelo é capaz de determinar quais alunos devem ser aprovados e quais não.."
      ]
    },
    {
      "cell_type": "code",
      "metadata": {
        "id": "UN-AZY0zvEXJ"
      },
      "source": [
        "novosAlunos = []\n",
        "for item in rng.rand(100)*10:    #gera 100 números aleatórios entre 0 e 1, e multiplica por 10\n",
        "    novosAlunos.append(round(item,1)) #arredonda o resultado para 1 casa deciamal\n",
        "\n",
        "\n",
        "#cria um df para os novos alunos, contento inicialmente apenas as notas.\n",
        "df_novosAlunos = pd.DataFrame({'nota':novosAlunos})"
      ],
      "execution_count": null,
      "outputs": []
    },
    {
      "cell_type": "code",
      "metadata": {
        "id": "ZlttfW7avUm3"
      },
      "source": [
        "#utiliza o modelo para prever a situação dos novos alunos\n",
        "y_pred=logreg.predict(df_novosAlunos)\n",
        "\n",
        "#acrescenta uma coluna no df, para representar a situacao prevista dos novos alunos\n",
        "df_novosAlunos['Previsao'] = y_pred"
      ],
      "execution_count": null,
      "outputs": []
    },
    {
      "cell_type": "code",
      "metadata": {
        "id": "fOX_qKSU0Qfk",
        "colab": {
          "base_uri": "https://localhost:8080/",
          "height": 417
        },
        "outputId": "6d4852a8-08ab-4288-a8c3-8e54e90c21e6"
      },
      "source": [
        "df_novosAlunos"
      ],
      "execution_count": null,
      "outputs": [
        {
          "output_type": "execute_result",
          "data": {
            "text/html": [
              "<div>\n",
              "<style scoped>\n",
              "    .dataframe tbody tr th:only-of-type {\n",
              "        vertical-align: middle;\n",
              "    }\n",
              "\n",
              "    .dataframe tbody tr th {\n",
              "        vertical-align: top;\n",
              "    }\n",
              "\n",
              "    .dataframe thead th {\n",
              "        text-align: right;\n",
              "    }\n",
              "</style>\n",
              "<table border=\"1\" class=\"dataframe\">\n",
              "  <thead>\n",
              "    <tr style=\"text-align: right;\">\n",
              "      <th></th>\n",
              "      <th>nota</th>\n",
              "      <th>Previsao</th>\n",
              "    </tr>\n",
              "  </thead>\n",
              "  <tbody>\n",
              "    <tr>\n",
              "      <th>0</th>\n",
              "      <td>6.5</td>\n",
              "      <td>aprovado</td>\n",
              "    </tr>\n",
              "    <tr>\n",
              "      <th>1</th>\n",
              "      <td>4.4</td>\n",
              "      <td>reprovado</td>\n",
              "    </tr>\n",
              "    <tr>\n",
              "      <th>2</th>\n",
              "      <td>8.9</td>\n",
              "      <td>aprovado</td>\n",
              "    </tr>\n",
              "    <tr>\n",
              "      <th>3</th>\n",
              "      <td>9.6</td>\n",
              "      <td>aprovado</td>\n",
              "    </tr>\n",
              "    <tr>\n",
              "      <th>4</th>\n",
              "      <td>3.8</td>\n",
              "      <td>reprovado</td>\n",
              "    </tr>\n",
              "    <tr>\n",
              "      <th>...</th>\n",
              "      <td>...</td>\n",
              "      <td>...</td>\n",
              "    </tr>\n",
              "    <tr>\n",
              "      <th>95</th>\n",
              "      <td>6.8</td>\n",
              "      <td>aprovado</td>\n",
              "    </tr>\n",
              "    <tr>\n",
              "      <th>96</th>\n",
              "      <td>2.7</td>\n",
              "      <td>reprovado</td>\n",
              "    </tr>\n",
              "    <tr>\n",
              "      <th>97</th>\n",
              "      <td>7.4</td>\n",
              "      <td>aprovado</td>\n",
              "    </tr>\n",
              "    <tr>\n",
              "      <th>98</th>\n",
              "      <td>9.6</td>\n",
              "      <td>aprovado</td>\n",
              "    </tr>\n",
              "    <tr>\n",
              "      <th>99</th>\n",
              "      <td>2.5</td>\n",
              "      <td>reprovado</td>\n",
              "    </tr>\n",
              "  </tbody>\n",
              "</table>\n",
              "<p>100 rows × 2 columns</p>\n",
              "</div>"
            ],
            "text/plain": [
              "    nota   Previsao\n",
              "0    6.5   aprovado\n",
              "1    4.4  reprovado\n",
              "2    8.9   aprovado\n",
              "3    9.6   aprovado\n",
              "4    3.8  reprovado\n",
              "..   ...        ...\n",
              "95   6.8   aprovado\n",
              "96   2.7  reprovado\n",
              "97   7.4   aprovado\n",
              "98   9.6   aprovado\n",
              "99   2.5  reprovado\n",
              "\n",
              "[100 rows x 2 columns]"
            ]
          },
          "metadata": {},
          "execution_count": 10
        }
      ]
    },
    {
      "cell_type": "markdown",
      "metadata": {
        "id": "-kb0Y9zm12Zx"
      },
      "source": [
        "Mas será que o modelo funcionou bem? Vamos contar quantas vezes ele errou.."
      ]
    },
    {
      "cell_type": "code",
      "metadata": {
        "id": "H4mUI5FP2DEG",
        "colab": {
          "base_uri": "https://localhost:8080/"
        },
        "outputId": "4d2d2888-ef4f-47e7-e332-60bc86b21143"
      },
      "source": [
        "# erro tipo 1\n",
        "falso_positivo = len(df_novosAlunos[(df_novosAlunos['nota']<6) & (df_novosAlunos['Previsao']=='aprovado') ])\n",
        "\n",
        "# erro tipo 2\n",
        "falso_negativo = len(df_novosAlunos[(df_novosAlunos['nota']>=6) & (df_novosAlunos['Previsao']=='reprovado') ])\n",
        "\n",
        "verdadeiro_positivo = len(df_novosAlunos[(df_novosAlunos['nota']>=6) & (df_novosAlunos['Previsao']=='aprovado') ])\n",
        "verdadeiro_negativo = len(df_novosAlunos[(df_novosAlunos['nota']<6) & (df_novosAlunos['Previsao']=='reprovado') ])\n",
        "\n",
        "acertos = verdadeiro_positivo + verdadeiro_negativo\n",
        "erros = falso_positivo + falso_negativo\n",
        "\n",
        "print('Erros   : ', erros)\n",
        "print('Acertos : ',acertos)\n",
        "print('--------')\n",
        "print('Porcentagem de acertos : ', acertos/(acertos+erros))"
      ],
      "execution_count": null,
      "outputs": [
        {
          "output_type": "stream",
          "name": "stdout",
          "text": [
            "Erros   :  2\n",
            "Acertos :  98\n",
            "--------\n",
            "Porcentagem de acertos :  0.98\n"
          ]
        }
      ]
    },
    {
      "cell_type": "markdown",
      "metadata": {
        "id": "YnlApHv46rbb"
      },
      "source": [
        "Lembre-se, tudo o que modelo tinha para tomar a decisão, eram 5 valores apenas!\n",
        "<br>\n",
        "<br>\n",
        "Mas **Cuidado**, os modelos de regressão logistica não são assim tãao eficiêntes..\n",
        "No caso, utilizamos um exemplo simples onde a variável dependente ('situação') é determinada com base em uma única variável independente ('nota'), e o critério é o de que essa variável deve ser maior que um determinado valor.\n",
        "Esse exemplo, alem de simples, também beneficia o modelo já que este utiliza por padrão, uma equação que se encaixa perfeitamente nesse tipo de situação."
      ]
    },
    {
      "cell_type": "markdown",
      "metadata": {
        "id": "TLiiWTir_tFS"
      },
      "source": [
        "##Uma regressão logistica 'menos simples'\n",
        "Vamos incrementar o nosso exemplo, considerando agora as notas de duas provas, com pesos diferentes, e mais uma nota de participação (entre 0 e 1). \n",
        "<br>\n",
        "<br>\n",
        "A fórmula da média seria:\n",
        "$$média = (0,4*N1 + 0,6*N2) + Part$$\n",
        "<br>\n",
        "Vamos criar 105 conjuntos de dados aleatórios.."
      ]
    },
    {
      "cell_type": "code",
      "metadata": {
        "id": "qLUFggvoAgEl"
      },
      "source": [
        "rng = np.random.RandomState(0)\n",
        "\n",
        "n1 = []\n",
        "for nota in rng.rand(105)*10:    #gera 105 números aleatórios entre 0 e 1, e multiplica por 10\n",
        "    n1.append(round(nota,1))     #arredonda o resultado para 1 casa decimal\n",
        "\n",
        "n2 = []\n",
        "for nota in rng.rand(105)*10:    \n",
        "    n2.append(round(nota,1))\n",
        "\n",
        "part = []\n",
        "for nota in rng.rand(105)*1:    \n",
        "    part.append(round(nota,1))"
      ],
      "execution_count": null,
      "outputs": []
    },
    {
      "cell_type": "markdown",
      "metadata": {
        "id": "nzhVoZi3BnE7"
      },
      "source": [
        "Vamos verificar 'manualmente' se os alunos estão aprovados ou não. Vamos utilizar o critério da média que foi definida, mas novamente o modelo não vai ter acesso a fórmula! \n",
        "O modelo deverá utilizar as notas de 5 alunos para tentar prever os outros 100."
      ]
    },
    {
      "cell_type": "code",
      "metadata": {
        "id": "o42UYYEJBljx"
      },
      "source": [
        "situacao = []\n",
        "\n",
        "for i in range(len(n1)):\n",
        "    avg = (n1[i]*0.4 + n2[i]*0.6) + part[i]\n",
        "    if avg >=6.0:\n",
        "        situacao.append('aprovado')\n",
        "    else:\n",
        "        situacao.append('reprovado')"
      ],
      "execution_count": null,
      "outputs": []
    },
    {
      "cell_type": "markdown",
      "metadata": {
        "id": "Di2rqWXfDMgU"
      },
      "source": [
        "A próxima célula vai construir o data frame com os 105 alunos em questão. Mas Dessa vez vamos adotar um método mais 'profissional' e ao invés de utilizar 2 dataframes ('df_notas' e 'df_situacao'), um para notas e outro para situação, vamos deixar tudo em um dataframe apenas, chamado de 'df_alunos'"
      ]
    },
    {
      "cell_type": "code",
      "metadata": {
        "colab": {
          "base_uri": "https://localhost:8080/",
          "height": 417
        },
        "id": "UnDlzK6eDtLN",
        "outputId": "c6c8ec1d-ee78-4266-ae53-fb8b6916e39d"
      },
      "source": [
        "df_alunos = pd.DataFrame({'n1':n1,'n2':n2,'part':part,'situacao':situacao})\n",
        "df_alunos"
      ],
      "execution_count": null,
      "outputs": [
        {
          "output_type": "execute_result",
          "data": {
            "text/html": [
              "<div>\n",
              "<style scoped>\n",
              "    .dataframe tbody tr th:only-of-type {\n",
              "        vertical-align: middle;\n",
              "    }\n",
              "\n",
              "    .dataframe tbody tr th {\n",
              "        vertical-align: top;\n",
              "    }\n",
              "\n",
              "    .dataframe thead th {\n",
              "        text-align: right;\n",
              "    }\n",
              "</style>\n",
              "<table border=\"1\" class=\"dataframe\">\n",
              "  <thead>\n",
              "    <tr style=\"text-align: right;\">\n",
              "      <th></th>\n",
              "      <th>n1</th>\n",
              "      <th>n2</th>\n",
              "      <th>part</th>\n",
              "      <th>situacao</th>\n",
              "    </tr>\n",
              "  </thead>\n",
              "  <tbody>\n",
              "    <tr>\n",
              "      <th>0</th>\n",
              "      <td>5.5</td>\n",
              "      <td>5.8</td>\n",
              "      <td>1.0</td>\n",
              "      <td>aprovado</td>\n",
              "    </tr>\n",
              "    <tr>\n",
              "      <th>1</th>\n",
              "      <td>7.2</td>\n",
              "      <td>5.9</td>\n",
              "      <td>0.2</td>\n",
              "      <td>aprovado</td>\n",
              "    </tr>\n",
              "    <tr>\n",
              "      <th>2</th>\n",
              "      <td>6.0</td>\n",
              "      <td>5.7</td>\n",
              "      <td>0.7</td>\n",
              "      <td>aprovado</td>\n",
              "    </tr>\n",
              "    <tr>\n",
              "      <th>3</th>\n",
              "      <td>5.4</td>\n",
              "      <td>2.2</td>\n",
              "      <td>0.3</td>\n",
              "      <td>reprovado</td>\n",
              "    </tr>\n",
              "    <tr>\n",
              "      <th>4</th>\n",
              "      <td>4.2</td>\n",
              "      <td>9.5</td>\n",
              "      <td>0.0</td>\n",
              "      <td>aprovado</td>\n",
              "    </tr>\n",
              "    <tr>\n",
              "      <th>...</th>\n",
              "      <td>...</td>\n",
              "      <td>...</td>\n",
              "      <td>...</td>\n",
              "      <td>...</td>\n",
              "    </tr>\n",
              "    <tr>\n",
              "      <th>100</th>\n",
              "      <td>6.8</td>\n",
              "      <td>0.7</td>\n",
              "      <td>0.8</td>\n",
              "      <td>reprovado</td>\n",
              "    </tr>\n",
              "    <tr>\n",
              "      <th>101</th>\n",
              "      <td>2.7</td>\n",
              "      <td>6.8</td>\n",
              "      <td>0.1</td>\n",
              "      <td>reprovado</td>\n",
              "    </tr>\n",
              "    <tr>\n",
              "      <th>102</th>\n",
              "      <td>7.4</td>\n",
              "      <td>4.5</td>\n",
              "      <td>0.1</td>\n",
              "      <td>reprovado</td>\n",
              "    </tr>\n",
              "    <tr>\n",
              "      <th>103</th>\n",
              "      <td>9.6</td>\n",
              "      <td>5.4</td>\n",
              "      <td>0.1</td>\n",
              "      <td>aprovado</td>\n",
              "    </tr>\n",
              "    <tr>\n",
              "      <th>104</th>\n",
              "      <td>2.5</td>\n",
              "      <td>9.0</td>\n",
              "      <td>0.7</td>\n",
              "      <td>aprovado</td>\n",
              "    </tr>\n",
              "  </tbody>\n",
              "</table>\n",
              "<p>105 rows × 4 columns</p>\n",
              "</div>"
            ],
            "text/plain": [
              "      n1   n2  part   situacao\n",
              "0    5.5  5.8   1.0   aprovado\n",
              "1    7.2  5.9   0.2   aprovado\n",
              "2    6.0  5.7   0.7   aprovado\n",
              "3    5.4  2.2   0.3  reprovado\n",
              "4    4.2  9.5   0.0   aprovado\n",
              "..   ...  ...   ...        ...\n",
              "100  6.8  0.7   0.8  reprovado\n",
              "101  2.7  6.8   0.1  reprovado\n",
              "102  7.4  4.5   0.1  reprovado\n",
              "103  9.6  5.4   0.1   aprovado\n",
              "104  2.5  9.0   0.7   aprovado\n",
              "\n",
              "[105 rows x 4 columns]"
            ]
          },
          "metadata": {},
          "execution_count": 14
        }
      ]
    },
    {
      "cell_type": "markdown",
      "metadata": {
        "id": "O0MkDgLLG-Y-"
      },
      "source": [
        "A próxima célula emprega a função 'train_test_split', que vai dividir o nosso dataframe em 4 partes, são elas:\n",
        "\n",
        "1.   **X_train**: um df contento as notas n1, n2 e part de 5 dos 105 alunos\n",
        "2.   **X_test**: um df contento as notas n1, n2 e part de 5 dos 105 alunos\n",
        "<br>\n",
        "<br>\n",
        "3.   **y_train**: um df contento a situação de 100 dos 105 alunos\n",
        "4.   **y_test**: um df contento a situacao de 100 dos 105 alunos\n",
        "\n",
        "A ideia aqui é separar uma parte dos dados para construírmos o modelo, e outra parte para testarmos o modelo. O parâmetro **`test_size = 100`** é que está determinando a quantidade de dados que vai ser utilizada para testes.\n",
        "<br>\n",
        "<br>\n",
        "Na prática, se utiliza uma porcentagem maior dos dados para realizar a função 'fit' e uma parte menor para realizar os teste. Aqui estamos deixando 100 valores para teste e 5 para o fit, apenas para ficar iqual ao exemplo anterior.\n"
      ]
    },
    {
      "cell_type": "code",
      "metadata": {
        "id": "9_7mcJXbFnyU"
      },
      "source": [
        "from sklearn.model_selection import train_test_split\n",
        "x = df_alunos.drop('situacao',axis=1)\n",
        "y = df_alunos['situacao']\n",
        "\n",
        "X_train, X_test, y_train, y_test = train_test_split(x, y, test_size=100, random_state=101)\n"
      ],
      "execution_count": null,
      "outputs": []
    },
    {
      "cell_type": "markdown",
      "metadata": {
        "id": "ETl9whdZIrV7"
      },
      "source": [
        "Agora podemos contruir o modelo.."
      ]
    },
    {
      "cell_type": "code",
      "metadata": {
        "id": "583OKUgAIe_E",
        "colab": {
          "base_uri": "https://localhost:8080/"
        },
        "outputId": "7f174642-fb6e-489e-acb4-8ea630638143"
      },
      "source": [
        "from sklearn.linear_model import LogisticRegression\n",
        "\n",
        "logreg = LogisticRegression()\n",
        "logreg.fit(X_train,y_train)"
      ],
      "execution_count": null,
      "outputs": [
        {
          "output_type": "execute_result",
          "data": {
            "text/plain": [
              "LogisticRegression(C=1.0, class_weight=None, dual=False, fit_intercept=True,\n",
              "                   intercept_scaling=1, l1_ratio=None, max_iter=100,\n",
              "                   multi_class='auto', n_jobs=None, penalty='l2',\n",
              "                   random_state=None, solver='lbfgs', tol=0.0001, verbose=0,\n",
              "                   warm_start=False)"
            ]
          },
          "metadata": {},
          "execution_count": 24
        }
      ]
    },
    {
      "cell_type": "markdown",
      "metadata": {
        "id": "Gy6JADctI8V0"
      },
      "source": [
        "Agora aplicamos o modelo nos dados que foram separados para teste.."
      ]
    },
    {
      "cell_type": "code",
      "metadata": {
        "id": "nh2V15-aJAEe"
      },
      "source": [
        "y_pred=logreg.predict(X_test)"
      ],
      "execution_count": null,
      "outputs": []
    },
    {
      "cell_type": "markdown",
      "metadata": {
        "id": "CfNQ1h8aJoPS"
      },
      "source": [
        "Agora vamos verificar a qualidade do modelo. Dessa vez, ao invés de contar 'manualmente' a quantidade de erros dos tipos 1 e 2, vamos utilizar uma ferramenta pronta!"
      ]
    },
    {
      "cell_type": "code",
      "metadata": {
        "colab": {
          "base_uri": "https://localhost:8080/"
        },
        "id": "rHEkrPB8KFsU",
        "outputId": "0c1066c6-e5f2-4b1e-d5be-c15b3b7332c7"
      },
      "source": [
        "from sklearn import metrics\n",
        "\n",
        "cnf_matrix = metrics.confusion_matrix(y_test, y_pred)\n",
        "cnf_matrix"
      ],
      "execution_count": null,
      "outputs": [
        {
          "output_type": "execute_result",
          "data": {
            "text/plain": [
              "array([[35,  1],\n",
              "       [ 4, 44]])"
            ]
          },
          "metadata": {},
          "execution_count": 26
        }
      ]
    },
    {
      "cell_type": "markdown",
      "metadata": {
        "id": "THGaIIiNKeIW"
      },
      "source": [
        "A célula anterior calculou e apresentou a matrix de confusão, que pode ser interpretada como:![picture](https://diegonogare.net/wp-content/uploads/2020/04/matrizConfusao-600x381.png)\n"
      ]
    },
    {
      "cell_type": "code",
      "metadata": {
        "colab": {
          "base_uri": "https://localhost:8080/"
        },
        "id": "eAQHGXZnLOzv",
        "outputId": "57c2cabf-d3b1-44e7-953d-46d60cc530a8"
      },
      "source": [
        "verdadeiro_positivo = cnf_matrix[0][0]\n",
        "verdadeiro_negativo = cnf_matrix[1][1]\n",
        "\n",
        "falso_positivo = cnf_matrix[0][1] # erro tipo 1\n",
        "falso_negativo = cnf_matrix[1][0] # erro tipo 2\n",
        "\n",
        "acertos = verdadeiro_positivo + verdadeiro_negativo\n",
        "erros = falso_positivo + falso_negativo\n",
        "\n",
        "print('Erros   : ', erros)\n",
        "print('Acertos : ',acertos)\n",
        "print('--------')\n",
        "print('Porcentagem de acertos : ', acertos/(acertos+erros))  "
      ],
      "execution_count": null,
      "outputs": [
        {
          "output_type": "stream",
          "name": "stdout",
          "text": [
            "Erros   :  5\n",
            "Acertos :  79\n",
            "--------\n",
            "Porcentagem de acertos :  0.9404761904761905\n"
          ]
        }
      ]
    },
    {
      "cell_type": "code",
      "metadata": {
        "colab": {
          "base_uri": "https://localhost:8080/",
          "height": 417
        },
        "id": "wZMfH20DNhGt",
        "outputId": "77a7745c-fbf6-43e0-c897-3a17d2f55a1b"
      },
      "source": [
        "df_alunos.head(105)"
      ],
      "execution_count": null,
      "outputs": [
        {
          "output_type": "execute_result",
          "data": {
            "text/html": [
              "<div>\n",
              "<style scoped>\n",
              "    .dataframe tbody tr th:only-of-type {\n",
              "        vertical-align: middle;\n",
              "    }\n",
              "\n",
              "    .dataframe tbody tr th {\n",
              "        vertical-align: top;\n",
              "    }\n",
              "\n",
              "    .dataframe thead th {\n",
              "        text-align: right;\n",
              "    }\n",
              "</style>\n",
              "<table border=\"1\" class=\"dataframe\">\n",
              "  <thead>\n",
              "    <tr style=\"text-align: right;\">\n",
              "      <th></th>\n",
              "      <th>n1</th>\n",
              "      <th>n2</th>\n",
              "      <th>part</th>\n",
              "      <th>situacao</th>\n",
              "      <th>p_aprovado</th>\n",
              "      <th>p_reprovado</th>\n",
              "    </tr>\n",
              "  </thead>\n",
              "  <tbody>\n",
              "    <tr>\n",
              "      <th>0</th>\n",
              "      <td>5.5</td>\n",
              "      <td>5.8</td>\n",
              "      <td>1.0</td>\n",
              "      <td>aprovado</td>\n",
              "      <td>0.814798</td>\n",
              "      <td>0.185202</td>\n",
              "    </tr>\n",
              "    <tr>\n",
              "      <th>1</th>\n",
              "      <td>7.2</td>\n",
              "      <td>5.9</td>\n",
              "      <td>0.2</td>\n",
              "      <td>aprovado</td>\n",
              "      <td>0.686154</td>\n",
              "      <td>0.313846</td>\n",
              "    </tr>\n",
              "    <tr>\n",
              "      <th>2</th>\n",
              "      <td>6.0</td>\n",
              "      <td>5.7</td>\n",
              "      <td>0.7</td>\n",
              "      <td>aprovado</td>\n",
              "      <td>0.800811</td>\n",
              "      <td>0.199189</td>\n",
              "    </tr>\n",
              "    <tr>\n",
              "      <th>3</th>\n",
              "      <td>5.4</td>\n",
              "      <td>2.2</td>\n",
              "      <td>0.3</td>\n",
              "      <td>reprovado</td>\n",
              "      <td>0.990461</td>\n",
              "      <td>0.009539</td>\n",
              "    </tr>\n",
              "    <tr>\n",
              "      <th>4</th>\n",
              "      <td>4.2</td>\n",
              "      <td>9.5</td>\n",
              "      <td>0.0</td>\n",
              "      <td>aprovado</td>\n",
              "      <td>0.257489</td>\n",
              "      <td>0.742511</td>\n",
              "    </tr>\n",
              "    <tr>\n",
              "      <th>...</th>\n",
              "      <td>...</td>\n",
              "      <td>...</td>\n",
              "      <td>...</td>\n",
              "      <td>...</td>\n",
              "      <td>...</td>\n",
              "      <td>...</td>\n",
              "    </tr>\n",
              "    <tr>\n",
              "      <th>100</th>\n",
              "      <td>6.8</td>\n",
              "      <td>0.7</td>\n",
              "      <td>0.8</td>\n",
              "      <td>reprovado</td>\n",
              "      <td>0.995104</td>\n",
              "      <td>0.004896</td>\n",
              "    </tr>\n",
              "    <tr>\n",
              "      <th>101</th>\n",
              "      <td>2.7</td>\n",
              "      <td>6.8</td>\n",
              "      <td>0.1</td>\n",
              "      <td>reprovado</td>\n",
              "      <td>0.861836</td>\n",
              "      <td>0.138164</td>\n",
              "    </tr>\n",
              "    <tr>\n",
              "      <th>102</th>\n",
              "      <td>7.4</td>\n",
              "      <td>4.5</td>\n",
              "      <td>0.1</td>\n",
              "      <td>reprovado</td>\n",
              "      <td>0.870021</td>\n",
              "      <td>0.129979</td>\n",
              "    </tr>\n",
              "    <tr>\n",
              "      <th>103</th>\n",
              "      <td>9.6</td>\n",
              "      <td>5.4</td>\n",
              "      <td>0.1</td>\n",
              "      <td>aprovado</td>\n",
              "      <td>0.562926</td>\n",
              "      <td>0.437074</td>\n",
              "    </tr>\n",
              "    <tr>\n",
              "      <th>104</th>\n",
              "      <td>2.5</td>\n",
              "      <td>9.0</td>\n",
              "      <td>0.7</td>\n",
              "      <td>aprovado</td>\n",
              "      <td>0.497227</td>\n",
              "      <td>0.502773</td>\n",
              "    </tr>\n",
              "  </tbody>\n",
              "</table>\n",
              "<p>105 rows × 6 columns</p>\n",
              "</div>"
            ],
            "text/plain": [
              "      n1   n2  part   situacao  p_aprovado  p_reprovado\n",
              "0    5.5  5.8   1.0   aprovado    0.814798     0.185202\n",
              "1    7.2  5.9   0.2   aprovado    0.686154     0.313846\n",
              "2    6.0  5.7   0.7   aprovado    0.800811     0.199189\n",
              "3    5.4  2.2   0.3  reprovado    0.990461     0.009539\n",
              "4    4.2  9.5   0.0   aprovado    0.257489     0.742511\n",
              "..   ...  ...   ...        ...         ...          ...\n",
              "100  6.8  0.7   0.8  reprovado    0.995104     0.004896\n",
              "101  2.7  6.8   0.1  reprovado    0.861836     0.138164\n",
              "102  7.4  4.5   0.1  reprovado    0.870021     0.129979\n",
              "103  9.6  5.4   0.1   aprovado    0.562926     0.437074\n",
              "104  2.5  9.0   0.7   aprovado    0.497227     0.502773\n",
              "\n",
              "[105 rows x 6 columns]"
            ]
          },
          "metadata": {},
          "execution_count": 28
        }
      ]
    },
    {
      "cell_type": "markdown",
      "metadata": {
        "id": "j3WkgTU5dWnO"
      },
      "source": [
        "##Probabilidade da classificação\n",
        "Também podemos utilizar o modelo para consultar a probabilidade de um aluno estar 'aprovado' ou 'reprovado', utilizando `logmodel.predict_proba`."
      ]
    },
    {
      "cell_type": "code",
      "metadata": {
        "id": "fPpmUa7udt4_"
      },
      "source": [
        "y_pred_prob = logreg.predict_proba(df_alunos.drop('situacao',axis=1))\n",
        "\n",
        "p_aprovado = []\n",
        "p_reprovado = []\n",
        "\n",
        "for linha in y_pred_prob:\n",
        "    p_reprovado.append(linha[0])\n",
        "    p_aprovado.append(linha[1])\n",
        "    \n",
        "\n",
        "df_alunos['p_aprovado'] = p_aprovado\n",
        "df_alunos['p_reprovado'] = p_reprovado"
      ],
      "execution_count": null,
      "outputs": []
    },
    {
      "cell_type": "code",
      "metadata": {
        "colab": {
          "base_uri": "https://localhost:8080/",
          "height": 203
        },
        "id": "y3EqXsbnjRGO",
        "outputId": "433aa541-4fc2-477a-86a6-3b86b2551be8"
      },
      "source": [
        "df_alunos.head()"
      ],
      "execution_count": null,
      "outputs": [
        {
          "output_type": "execute_result",
          "data": {
            "text/html": [
              "<div>\n",
              "<style scoped>\n",
              "    .dataframe tbody tr th:only-of-type {\n",
              "        vertical-align: middle;\n",
              "    }\n",
              "\n",
              "    .dataframe tbody tr th {\n",
              "        vertical-align: top;\n",
              "    }\n",
              "\n",
              "    .dataframe thead th {\n",
              "        text-align: right;\n",
              "    }\n",
              "</style>\n",
              "<table border=\"1\" class=\"dataframe\">\n",
              "  <thead>\n",
              "    <tr style=\"text-align: right;\">\n",
              "      <th></th>\n",
              "      <th>n1</th>\n",
              "      <th>n2</th>\n",
              "      <th>part</th>\n",
              "      <th>situacao</th>\n",
              "      <th>p_aprovado</th>\n",
              "      <th>p_reprovado</th>\n",
              "    </tr>\n",
              "  </thead>\n",
              "  <tbody>\n",
              "    <tr>\n",
              "      <th>0</th>\n",
              "      <td>5.5</td>\n",
              "      <td>5.8</td>\n",
              "      <td>1.0</td>\n",
              "      <td>aprovado</td>\n",
              "      <td>0.220546</td>\n",
              "      <td>0.779454</td>\n",
              "    </tr>\n",
              "    <tr>\n",
              "      <th>1</th>\n",
              "      <td>7.2</td>\n",
              "      <td>5.9</td>\n",
              "      <td>0.2</td>\n",
              "      <td>aprovado</td>\n",
              "      <td>0.067033</td>\n",
              "      <td>0.932967</td>\n",
              "    </tr>\n",
              "    <tr>\n",
              "      <th>2</th>\n",
              "      <td>6.0</td>\n",
              "      <td>5.7</td>\n",
              "      <td>0.7</td>\n",
              "      <td>aprovado</td>\n",
              "      <td>0.184828</td>\n",
              "      <td>0.815172</td>\n",
              "    </tr>\n",
              "    <tr>\n",
              "      <th>3</th>\n",
              "      <td>5.4</td>\n",
              "      <td>2.2</td>\n",
              "      <td>0.3</td>\n",
              "      <td>reprovado</td>\n",
              "      <td>0.970379</td>\n",
              "      <td>0.029621</td>\n",
              "    </tr>\n",
              "    <tr>\n",
              "      <th>4</th>\n",
              "      <td>4.2</td>\n",
              "      <td>9.5</td>\n",
              "      <td>0.0</td>\n",
              "      <td>aprovado</td>\n",
              "      <td>0.008150</td>\n",
              "      <td>0.991850</td>\n",
              "    </tr>\n",
              "  </tbody>\n",
              "</table>\n",
              "</div>"
            ],
            "text/plain": [
              "    n1   n2  part   situacao  p_aprovado  p_reprovado\n",
              "0  5.5  5.8   1.0   aprovado    0.220546     0.779454\n",
              "1  7.2  5.9   0.2   aprovado    0.067033     0.932967\n",
              "2  6.0  5.7   0.7   aprovado    0.184828     0.815172\n",
              "3  5.4  2.2   0.3  reprovado    0.970379     0.029621\n",
              "4  4.2  9.5   0.0   aprovado    0.008150     0.991850"
            ]
          },
          "metadata": {},
          "execution_count": 30
        }
      ]
    },
    {
      "cell_type": "markdown",
      "metadata": {
        "id": "MXgvkuIeQ9Vw"
      },
      "source": [
        "###**Exercício**\n",
        "Repita o exemplo anterior deixanto 80% dos dados para treinamento do modelo e 20% para realização de testes. Qual a nova porcentagem de acertos do modelo?\n",
        "<br>\n",
        "*dica:* se o parâmetro 'test_size' for definido com um número do tipo 'float', a função entende isso como a porcentagem dos dados que devem ser utilizados para testes."
      ]
    },
    {
      "cell_type": "markdown",
      "metadata": {
        "id": "RUkrHCJKSYn3"
      },
      "source": [
        "## CASO: Estimando diagnósticos de cancer de mama\n",
        "\n",
        "Resumo: Informações sobre o resultado da analise de um exame médico realizado em mais de 500 pacientes, com informações sobre o lauso de biopsia realizada em tumores de seio.\n",
        "\n",
        "Para descrição completa dos dados acesse https://archive.ics.uci.edu/ml/datasets/Breast+Cancer+Wisconsin+(Diagnostic). \n",
        "\n"
      ]
    },
    {
      "cell_type": "code",
      "metadata": {
        "id": "LZ9CxKfOrtSy"
      },
      "source": [
        "import pandas as pd\n",
        "df = pd.read_csv('http://meusite.mackenzie.br/rogerio/TIC/breast-cancer-wisconsin.csv')\n",
        "\n",
        "df.head()\n"
      ],
      "execution_count": null,
      "outputs": []
    },
    {
      "cell_type": "markdown",
      "metadata": {
        "id": "4W2zptsMu0Kr"
      },
      "source": [
        "Observem que a última coluna não traz informação nehuma. Devemos remove-la do df."
      ]
    },
    {
      "cell_type": "code",
      "metadata": {
        "id": "gDkqaaeku--q"
      },
      "source": [
        "df = df.drop(columns='Unnamed: 32')\n",
        "df.head()"
      ],
      "execution_count": null,
      "outputs": []
    },
    {
      "cell_type": "code",
      "metadata": {
        "id": "S4n19clB0fvg"
      },
      "source": [
        "import seaborn as sns\n",
        "mpg = sns.load_dataset('mpg')\n",
        "\n",
        "\n",
        "mpg.head()\n",
        "mpg.origin = mpg.origin.replace('europe','non-usa')\n",
        "mpg.origin = mpg.origin.replace('japan','non-usa')"
      ],
      "execution_count": null,
      "outputs": []
    },
    {
      "cell_type": "code",
      "metadata": {
        "colab": {
          "base_uri": "https://localhost:8080/",
          "height": 204
        },
        "id": "yzrnYiUb3bmX",
        "outputId": "83b46daf-4020-427e-bc94-1889139d8fd6"
      },
      "source": [
        "mpg.head()"
      ],
      "execution_count": null,
      "outputs": [
        {
          "output_type": "execute_result",
          "data": {
            "text/html": [
              "<div>\n",
              "<style scoped>\n",
              "    .dataframe tbody tr th:only-of-type {\n",
              "        vertical-align: middle;\n",
              "    }\n",
              "\n",
              "    .dataframe tbody tr th {\n",
              "        vertical-align: top;\n",
              "    }\n",
              "\n",
              "    .dataframe thead th {\n",
              "        text-align: right;\n",
              "    }\n",
              "</style>\n",
              "<table border=\"1\" class=\"dataframe\">\n",
              "  <thead>\n",
              "    <tr style=\"text-align: right;\">\n",
              "      <th></th>\n",
              "      <th>mpg</th>\n",
              "      <th>cylinders</th>\n",
              "      <th>displacement</th>\n",
              "      <th>horsepower</th>\n",
              "      <th>weight</th>\n",
              "      <th>acceleration</th>\n",
              "      <th>model_year</th>\n",
              "      <th>origin</th>\n",
              "      <th>name</th>\n",
              "    </tr>\n",
              "  </thead>\n",
              "  <tbody>\n",
              "    <tr>\n",
              "      <th>0</th>\n",
              "      <td>18.0</td>\n",
              "      <td>8</td>\n",
              "      <td>307.0</td>\n",
              "      <td>130.0</td>\n",
              "      <td>3504</td>\n",
              "      <td>12.0</td>\n",
              "      <td>70</td>\n",
              "      <td>usa</td>\n",
              "      <td>chevrolet chevelle malibu</td>\n",
              "    </tr>\n",
              "    <tr>\n",
              "      <th>1</th>\n",
              "      <td>15.0</td>\n",
              "      <td>8</td>\n",
              "      <td>350.0</td>\n",
              "      <td>165.0</td>\n",
              "      <td>3693</td>\n",
              "      <td>11.5</td>\n",
              "      <td>70</td>\n",
              "      <td>usa</td>\n",
              "      <td>buick skylark 320</td>\n",
              "    </tr>\n",
              "    <tr>\n",
              "      <th>2</th>\n",
              "      <td>18.0</td>\n",
              "      <td>8</td>\n",
              "      <td>318.0</td>\n",
              "      <td>150.0</td>\n",
              "      <td>3436</td>\n",
              "      <td>11.0</td>\n",
              "      <td>70</td>\n",
              "      <td>usa</td>\n",
              "      <td>plymouth satellite</td>\n",
              "    </tr>\n",
              "    <tr>\n",
              "      <th>3</th>\n",
              "      <td>16.0</td>\n",
              "      <td>8</td>\n",
              "      <td>304.0</td>\n",
              "      <td>150.0</td>\n",
              "      <td>3433</td>\n",
              "      <td>12.0</td>\n",
              "      <td>70</td>\n",
              "      <td>usa</td>\n",
              "      <td>amc rebel sst</td>\n",
              "    </tr>\n",
              "    <tr>\n",
              "      <th>4</th>\n",
              "      <td>17.0</td>\n",
              "      <td>8</td>\n",
              "      <td>302.0</td>\n",
              "      <td>140.0</td>\n",
              "      <td>3449</td>\n",
              "      <td>10.5</td>\n",
              "      <td>70</td>\n",
              "      <td>usa</td>\n",
              "      <td>ford torino</td>\n",
              "    </tr>\n",
              "  </tbody>\n",
              "</table>\n",
              "</div>"
            ],
            "text/plain": [
              "    mpg  cylinders  displacement  ...  model_year  origin                       name\n",
              "0  18.0          8         307.0  ...          70     usa  chevrolet chevelle malibu\n",
              "1  15.0          8         350.0  ...          70     usa          buick skylark 320\n",
              "2  18.0          8         318.0  ...          70     usa         plymouth satellite\n",
              "3  16.0          8         304.0  ...          70     usa              amc rebel sst\n",
              "4  17.0          8         302.0  ...          70     usa                ford torino\n",
              "\n",
              "[5 rows x 9 columns]"
            ]
          },
          "metadata": {},
          "execution_count": 117
        }
      ]
    },
    {
      "cell_type": "code",
      "metadata": {
        "id": "kRs7qY682YL-"
      },
      "source": [
        "mpg = mpg.dropna()\n",
        "x = mpg.drop(columns=['name','origin'])\n",
        "y = mpg['origin']\n",
        "X_train, X_test, y_train, y_test = train_test_split(x, y, test_size=0.3, random_state=1)"
      ],
      "execution_count": null,
      "outputs": []
    },
    {
      "cell_type": "code",
      "metadata": {
        "colab": {
          "base_uri": "https://localhost:8080/"
        },
        "id": "570uz7Mk26jy",
        "outputId": "aa29ad7c-fc12-43fe-88bd-a3bf57f65e89"
      },
      "source": [
        "mpg.origin.value_counts()"
      ],
      "execution_count": null,
      "outputs": [
        {
          "output_type": "execute_result",
          "data": {
            "text/plain": [
              "usa        249\n",
              "non-usa    149\n",
              "Name: origin, dtype: int64"
            ]
          },
          "metadata": {},
          "execution_count": 118
        }
      ]
    },
    {
      "cell_type": "markdown",
      "metadata": {
        "id": "WAyBLe4m2spp"
      },
      "source": [
        "##Exercício\n",
        "Como podemos construir um modelo para determinar se os resultados de uma amostra, representam um tumor maligno ou benigno?"
      ]
    },
    {
      "cell_type": "code",
      "metadata": {
        "id": "Fdu0Bx3-29YZ"
      },
      "source": [
        "#preparando os dados..\n",
        "x = df.drop(columns=['id','diagnosis'])\n",
        "y = df['diagnosis']\n",
        "X_train, X_test, y_train, y_test = train_test_split(x, y, test_size=0.3, random_state=1)"
      ],
      "execution_count": null,
      "outputs": []
    },
    {
      "cell_type": "code",
      "metadata": {
        "id": "oAeJWxJL4f5Q"
      },
      "source": [
        "#construindo e ajustando o modelo..\n",
        "logreg = LogisticRegression()\n",
        "logreg.fit(X_train,y_train)\n",
        "\n",
        "X_train, X_test, y_train, y_test = train_test_split(x,y,test_size=0.3, random_state = 1)"
      ],
      "execution_count": null,
      "outputs": []
    },
    {
      "cell_type": "code",
      "metadata": {
        "id": "BYNnHnuL4x8s"
      },
      "source": [
        "#estimando os valores de teste\n",
        "y_pred=logreg.predict(X_test)"
      ],
      "execution_count": null,
      "outputs": []
    },
    {
      "cell_type": "code",
      "metadata": {
        "colab": {
          "base_uri": "https://localhost:8080/"
        },
        "id": "1Fc9g21d5CsC",
        "outputId": "47ae9923-f011-4776-f857-649e75b6f7bc"
      },
      "source": [
        "#avaliando o modelo\n",
        "cnf_matrix = metrics.confusion_matrix(y_test, y_pred)\n",
        "cnf_matrix"
      ],
      "execution_count": null,
      "outputs": [
        {
          "output_type": "execute_result",
          "data": {
            "text/plain": [
              "array([[102,   6],\n",
              "       [  5,  58]])"
            ]
          },
          "metadata": {},
          "execution_count": 36
        }
      ]
    },
    {
      "cell_type": "code",
      "metadata": {
        "colab": {
          "base_uri": "https://localhost:8080/"
        },
        "id": "LacZYuqE5NRe",
        "outputId": "34e40629-6a65-4bd5-8a3d-5d68c89d3a9e"
      },
      "source": [
        "#contabilizando os erros.. (essa célula poderia virar uma funcao..)\n",
        "verdadeiro_positivo = cnf_matrix[0][0]\n",
        "verdadeiro_negativo = cnf_matrix[1][1]\n",
        "\n",
        "falso_positivo = cnf_matrix[0][1] # erro tipo 1\n",
        "falso_negativo = cnf_matrix[1][0] # erro tipo 2\n",
        "\n",
        "acertos = verdadeiro_positivo + verdadeiro_negativo\n",
        "erros = falso_positivo + falso_negativo\n",
        "\n",
        "print('Erros   : ', erros)\n",
        "print('Acertos : ',acertos)\n",
        "print('--------')\n",
        "print('Porcentagem de acertos : ', acertos/(acertos+erros))  \n",
        "\n",
        "#dica..teste o comando:\n",
        "#accuracy_score(y_test,y_pred)"
      ],
      "execution_count": null,
      "outputs": [
        {
          "output_type": "stream",
          "name": "stdout",
          "text": [
            "Erros   :  11\n",
            "Acertos :  160\n",
            "--------\n",
            "Porcentagem de acertos :  0.935672514619883\n"
          ]
        }
      ]
    },
    {
      "cell_type": "markdown",
      "metadata": {
        "id": "za0A5iryIN6B"
      },
      "source": [
        "## Conclusão\n",
        "\n",
        "1. Modelos de Regressão Logistica simples são bem definidos (determinísticos).\n",
        "1. Funcionam para quaisquer dimensões.\n",
        "1. Podem ser aplicados a quaisquer conjunto de dados, desde que a variável dependente seja dicotômica.\n",
        "1. São muito empregados em problemas de classificação."
      ]
    }
  ]
}