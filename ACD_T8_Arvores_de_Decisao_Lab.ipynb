{
  "nbformat": 4,
  "nbformat_minor": 0,
  "metadata": {
    "anaconda-cloud": {},
    "kernelspec": {
      "display_name": "Python 3",
      "language": "python",
      "name": "python3"
    },
    "language_info": {
      "codemirror_mode": {
        "name": "ipython",
        "version": 3
      },
      "file_extension": ".py",
      "mimetype": "text/x-python",
      "name": "python",
      "nbconvert_exporter": "python",
      "pygments_lexer": "ipython3",
      "version": "3.7.4"
    },
    "colab": {
      "name": "ACD_T8_Arvores_de_Decisao_Lab.ipynb",
      "provenance": [],
      "collapsed_sections": []
    }
  },
  "cells": [
    {
      "cell_type": "markdown",
      "metadata": {
        "id": "gglUriLmo1sR"
      },
      "source": [
        "<head>\n",
        "  <meta name=\"author\" content=\"Rogério de Oliveira\">\n",
        "  <meta institution=\"author\" content=\"Universidade Presbiteriana Mackenzie\">\n",
        "</head>\n",
        "\n",
        "<img src=\"http://meusite.mackenzie.br/rogerio/mackenzie_logo/UPM.2_horizontal_vermelho.jpg\" width=300, align=\"right\"></a>\n",
        "<!-- <h1 align=left><font size = 6, style=\"color:rgb(200,0,0)\"> optional title </font></h1> -->"
      ]
    },
    {
      "cell_type": "markdown",
      "metadata": {
        "id": "-G7aCMh4r9y1"
      },
      "source": [
        "<h1 align=left><font size = 6, style=\"color:rgb(200,0,0)\">Lab</font></h1>\n",
        "<hr>"
      ]
    },
    {
      "cell_type": "markdown",
      "metadata": {
        "_uuid": "9dd9e07c590ca22f0c525222f60f0ebff4e092c6",
        "id": "HpKAvplIAYQ3"
      },
      "source": [
        " # **Árvores de Decisão e Modelos Supervisionados em Geral**\n",
        " ## Instruções\n",
        "\n",
        "1. Empregue para este Laboratório o **material de Teoria**.\n",
        "\n",
        "1. **Responda as questões** à medida que você realiza o Lab. \n",
        "\n",
        "2. Execute este Lab no **Colab Google**."
      ]
    },
    {
      "cell_type": "markdown",
      "metadata": {
        "_uuid": "9dd9e07c590ca22f0c525222f60f0ebff4e092c6",
        "id": "SLTshJXLA4LT"
      },
      "source": [
        "<img src=\"http://meusite.mackenzie.br/rogerio/TIC/SUP_ML.png\" width=800, align=\"center\"></a>\n",
        "<h1 align=left><font size = 2, style=\"color:rgb(200,0,0)\"> Fig. 1.Esquema Geral para Modelos Supervisionados </font></h1> \n",
        "\n",
        "<small><b>ERRATA: na figura considere confusion_matrix(y_test, y_pred)\n"
      ]
    },
    {
      "cell_type": "markdown",
      "metadata": {
        "_uuid": "9dd9e07c590ca22f0c525222f60f0ebff4e092c6",
        "id": "kIr_4QzOlOOo"
      },
      "source": [
        "# Caso: **Propensão de Compra de Clientes por Telemarketing** \n",
        "\n",
        "https://archive.ics.uci.edu/ml/datasets/Bank+Marketing\n",
        "\n",
        "Os dados estão relacionados com campanhas de marketing direto de uma instituição bancária portuguesa. As campanhas de marketing foram baseadas em telefonemas. Freqüentemente, era necessário mais de um contato para o mesmo cliente, para acessar se o produto (depósito bancário) seria ('yes') ou não ('no') assinado.\n",
        "\n",
        "Os dados estão na URL: http://meusite.mackenzie.br/rogerio/TIC/bank-full.csv\n",
        "\n",
        "\n"
      ]
    },
    {
      "cell_type": "markdown",
      "metadata": {
        "id": "YeiT9oXumyn8"
      },
      "source": [
        "# Exercício. Acesse e Explore os dados \n",
        "\n",
        "1. Qual o atributo **classe**?\n",
        "1. Quantos registros de cada **classe**?\n",
        "1. Todos os dados são numéricos? (por quê?)\n",
        "1. Os dados encontram-se na mesma escala?\n",
        "1. Qual o tamanho dos dados? (linhas e atributos)\n",
        "1. Existem valores nulos?\n"
      ]
    },
    {
      "cell_type": "code",
      "metadata": {
        "id": "1srfzIVBqv7y"
      },
      "source": [
        "# imports\n",
        "\n",
        "import pandas                  as pd\n",
        "import numpy                   as np\n",
        "import matplotlib.pyplot       as plt\n",
        "import warnings\n",
        "import os\n",
        "import seaborn as sns\n",
        "warnings.filterwarnings(\"ignore\") "
      ],
      "execution_count": null,
      "outputs": []
    },
    {
      "cell_type": "code",
      "metadata": {
        "id": "6mNBDvj2myoC"
      },
      "source": [
        "# Seu código\n",
        "\n",
        "bank = pd.read_csv(..."
      ],
      "execution_count": null,
      "outputs": []
    },
    {
      "cell_type": "markdown",
      "metadata": {
        "id": "6EXMwDrYtXFR"
      },
      "source": [
        "# Exercício. (**RESOLVIDO**)\n",
        "\n",
        "Aqui verificamos se existem valores ausentes nos dados. Valores ausentes trazem em geral problemas (por quê?) e precisam ser tratados antes de empregarmos modelos. Veremos mais adiante como podemos tratar isso. "
      ]
    },
    {
      "cell_type": "code",
      "metadata": {
        "id": "VfzbuvaJtEY2",
        "colab": {
          "base_uri": "https://localhost:8080/",
          "height": 323
        },
        "outputId": "ac7ee624-8c75-4cd5-bb1a-5c304d7a9d4f"
      },
      "source": [
        "bank.isnull().sum()"
      ],
      "execution_count": null,
      "outputs": [
        {
          "output_type": "execute_result",
          "data": {
            "text/plain": [
              "age          0\n",
              "job          0\n",
              "marital      0\n",
              "education    0\n",
              "default      0\n",
              "balance      0\n",
              "housing      0\n",
              "loan         0\n",
              "contact      0\n",
              "day          0\n",
              "month        0\n",
              "duration     0\n",
              "campaign     0\n",
              "pdays        0\n",
              "previous     0\n",
              "poutcome     0\n",
              "y            0\n",
              "dtype: int64"
            ]
          },
          "metadata": {
            "tags": []
          },
          "execution_count": 3
        }
      ]
    },
    {
      "cell_type": "code",
      "metadata": {
        "id": "B1Lrfj8Ft3pa",
        "colab": {
          "base_uri": "https://localhost:8080/",
          "height": 34
        },
        "outputId": "35d3d12b-395d-4e6b-f999-4f5f78cce3e8"
      },
      "source": [
        "if (bank.isnull().sum().sum()) == 0:\n",
        "  print('Não existem valores ausentes (nulos)')"
      ],
      "execution_count": null,
      "outputs": [
        {
          "output_type": "stream",
          "text": [
            "Não existem valores ausentes (nulos)\n"
          ],
          "name": "stdout"
        }
      ]
    },
    {
      "cell_type": "markdown",
      "metadata": {
        "id": "hFxyggo552J7"
      },
      "source": [
        "# Exercício. Defina as entradas `X` e saída `y` modelo\n",
        "\n",
        "Lembre-se, em um modelo de classificação $X$ são as variáveis preditoras (*independentes*) e $y$ sua variável objetivo (*dependente*)."
      ]
    },
    {
      "cell_type": "code",
      "metadata": {
        "id": "cKqbsZ1vn5Bo"
      },
      "source": [
        "# Seu código\n",
        "\n",
        "X = ...\n",
        "y = ..."
      ],
      "execution_count": null,
      "outputs": []
    },
    {
      "cell_type": "markdown",
      "metadata": {
        "id": "UKA9v3OwsYXn"
      },
      "source": [
        "# Preparação dos Dados\n",
        "\n",
        "A **Preparação dos Dados** consiste em transformações dos dados que são necessárias ou úteis para preparar os dados para uso dos modelos. Encontram-se entre essas transformações:\n",
        "\n",
        "1. Tratamento de valores faltantes\n",
        "2. Normalizações\n",
        "3. Codificação de Valores categóricos para numéricos (*encode*)\n",
        "4. Codificação de Valores numéricos para classes de valores (discretização ou *binning*)\n",
        "5. etc.\n",
        "\n",
        "Vamos fazer aqui duas operações sobre os dados:\n",
        "\n",
        "1. **Label encode**. Embora Árvores de Decisão possam empregar atributos categóricos, o `scikit-learn` requer que esses atributos sejam `label_encode`. É um requerimento da tecnologia, não do modelo.\n",
        "\n",
        "1. **Normalização**. Árvores de Decisão também não são sensíveis a variação de escala (por quê?), mas vamos reescalar os dados para que você aprenda mais essa técnica e empregá-la no modelo `knn` mais adiante.\n",
        "\n",
        "A primeira transformação é meramente técnica e faremos para você."
      ]
    },
    {
      "cell_type": "markdown",
      "metadata": {
        "id": "fI_noNByti5i"
      },
      "source": [
        "# Exercício. **Label Encode (RESOLVIDO)** \n",
        "\n",
        "Podemos fazer isso de diversas formas, mas o `scikit-learn` traz funções para isso."
      ]
    },
    {
      "cell_type": "code",
      "metadata": {
        "id": "BJrGFncFtria",
        "colab": {
          "base_uri": "https://localhost:8080/",
          "height": 425
        },
        "outputId": "bc65cf4f-9164-409b-a41a-236b4184aec3"
      },
      "source": [
        "from sklearn.preprocessing import LabelEncoder\n",
        "\n",
        "df_categorical = X.select_dtypes(exclude='number')\n",
        "#  label encoding to all the columns \n",
        "\n",
        "print('Label Encode attributes: ', df_categorical)\n",
        "\n",
        "print('education, valores antes: ', X.education.value_counts())\n",
        "\n",
        "label_encoders = {}\n",
        "for col in df_categorical:\n",
        "  le = LabelEncoder()\n",
        "  le.fit(X[col])\n",
        "  X[col] = le.transform(X[col])\n",
        "  label_encoders[col] = le # salva para empregar para novas instâncias\n",
        "\n",
        "print('education, valores depois: ', X.education.value_counts())  "
      ],
      "execution_count": null,
      "outputs": [
        {
          "output_type": "stream",
          "text": [
            "Label Encode attributes:                  job   marital  education default  ... loan    contact month poutcome\n",
            "0        management   married   tertiary      no  ...   no    unknown   may  unknown\n",
            "1        technician    single  secondary      no  ...   no    unknown   may  unknown\n",
            "2      entrepreneur   married  secondary      no  ...  yes    unknown   may  unknown\n",
            "3       blue-collar   married    unknown      no  ...   no    unknown   may  unknown\n",
            "4           unknown    single    unknown      no  ...   no    unknown   may  unknown\n",
            "...             ...       ...        ...     ...  ...  ...        ...   ...      ...\n",
            "45206    technician   married   tertiary      no  ...   no   cellular   nov  unknown\n",
            "45207       retired  divorced    primary      no  ...   no   cellular   nov  unknown\n",
            "45208       retired   married  secondary      no  ...   no   cellular   nov  success\n",
            "45209   blue-collar   married  secondary      no  ...   no  telephone   nov  unknown\n",
            "45210  entrepreneur   married  secondary      no  ...   no   cellular   nov    other\n",
            "\n",
            "[45211 rows x 9 columns]\n",
            "education, valores antes:  secondary    23202\n",
            "tertiary     13301\n",
            "primary       6851\n",
            "unknown       1857\n",
            "Name: education, dtype: int64\n",
            "education, valores depois:  1    23202\n",
            "2    13301\n",
            "0     6851\n",
            "3     1857\n",
            "Name: education, dtype: int64\n"
          ],
          "name": "stdout"
        }
      ]
    },
    {
      "cell_type": "markdown",
      "metadata": {
        "id": "PA0a-38QudWG"
      },
      "source": [
        "# Exercício. Explore as técnicas de *Scale*\n",
        "\n",
        "Verifique qual dos métodos abaixo corresponde a normalização:\n",
        "\n",
        "$$ X_s = (X - X_{min}) / (X_{max} - X_{min}) $$"
      ]
    },
    {
      "cell_type": "code",
      "metadata": {
        "id": "g5ZlWkKMuGug"
      },
      "source": [
        "from sklearn.preprocessing import StandardScaler\n",
        "from sklearn.preprocessing import Normalizer\n",
        "from sklearn.preprocessing import MaxAbsScaler\n",
        "from sklearn.preprocessing import MinMaxScaler\n"
      ],
      "execution_count": null,
      "outputs": []
    },
    {
      "cell_type": "code",
      "metadata": {
        "id": "ZKYFfbP-vJvO",
        "colab": {
          "base_uri": "https://localhost:8080/",
          "height": 85
        },
        "outputId": "e2f64fed-ebf9-450d-f028-22e8d11c1c2a"
      },
      "source": [
        "data = [[-1, 2], [-0.5, 6], [0, 10], [1, 18]]\n",
        "\n",
        "scaler = StandardScaler() # SUBSTITUA AQUI O MÉTODO\n",
        "scaler.fit(data)\n",
        "print(scaler.transform(data))"
      ],
      "execution_count": null,
      "outputs": [
        {
          "output_type": "stream",
          "text": [
            "[[-1.18321596 -1.18321596]\n",
            " [-0.50709255 -0.50709255]\n",
            " [ 0.16903085  0.16903085]\n",
            " [ 1.52127766  1.52127766]]\n"
          ],
          "name": "stdout"
        }
      ]
    },
    {
      "cell_type": "markdown",
      "metadata": {
        "id": "YnAQY3-gv1cS"
      },
      "source": [
        "# Exercício. Aplique o `StandardScaler` aos dados\n",
        "\n",
        "Qual o a média e o desvido padrão dos valores de `X` depois da transformação?"
      ]
    },
    {
      "cell_type": "code",
      "metadata": {
        "id": "3_NxTv-zwD0n"
      },
      "source": [
        "# Seu código\n",
        "\n",
        "# Seu dado de entrada é X. Atribua a saída transformada para X_matrix.\n",
        "\n",
        "\n",
        "X_matrix = ...\n",
        "\n",
        "# Os dados transformados são então empregados para reconstruir o dataframe X. \n",
        "\n",
        "X = pd.DataFrame(X_matrix,columns=X.columns) # nada a fazer aqui, aqui a linha de código está pronta\n",
        "\n",
        "# Exame em seguida os valores produzidos\n",
        "\n",
        "..."
      ],
      "execution_count": null,
      "outputs": []
    },
    {
      "cell_type": "markdown",
      "metadata": {
        "id": "1UYMbBPh629m"
      },
      "source": [
        "# Exercício. Separe os Conjuntos de Treinamento `X_train`, `y_train` e Test `X_test`, `y_test`\n"
      ]
    },
    {
      "cell_type": "code",
      "metadata": {
        "id": "_RUlSbz9n-3t"
      },
      "source": [
        "# Seu código\n",
        "from sklearn.model_selection import train_test_split\n",
        "seed = 1984 # empregue este\n",
        "\n",
        "\n"
      ],
      "execution_count": null,
      "outputs": []
    },
    {
      "cell_type": "markdown",
      "metadata": {
        "id": "m1nJnjw3zLHz"
      },
      "source": [
        "Qual a dimensão dos conjuntos `X_train, X_test, y_train, y_test`?"
      ]
    },
    {
      "cell_type": "code",
      "metadata": {
        "id": "MdCRuzqszUGj",
        "colab": {
          "base_uri": "https://localhost:8080/",
          "height": 34
        },
        "outputId": "67cea8c0-2cb3-41b7-a8f1-fa1c3df41c47"
      },
      "source": [
        "# Seu código \n",
        "\n"
      ],
      "execution_count": null,
      "outputs": [
        {
          "output_type": "stream",
          "text": [
            "(31647, 16) (13564, 16) (31647,) (13564,)\n"
          ],
          "name": "stdout"
        }
      ]
    },
    {
      "cell_type": "markdown",
      "metadata": {
        "id": "wVjKsa_T0ZG1"
      },
      "source": [
        "Exiba os primeiros regitros de `X_train`. Qual o primeiro registro que aparece?"
      ]
    },
    {
      "cell_type": "code",
      "metadata": {
        "id": "7TmstwbG0c_L"
      },
      "source": [
        "# Seu código \n",
        "\n"
      ],
      "execution_count": null,
      "outputs": []
    },
    {
      "cell_type": "markdown",
      "metadata": {
        "id": "yIT7NhApIFaU"
      },
      "source": [
        "# Exercício. Declare o modelo e seus parâmetros `clf = model`\n",
        "\n",
        "Declare um modelo de Árvore de decisão com o critério `gini` e o `seed` já empregado antes."
      ]
    },
    {
      "cell_type": "code",
      "metadata": {
        "id": "z33_qVJioAhI"
      },
      "source": [
        "# Seu código\n",
        "\n"
      ],
      "execution_count": null,
      "outputs": []
    },
    {
      "cell_type": "markdown",
      "metadata": {
        "id": "V1DnUqOiJlvF"
      },
      "source": [
        "# Exercício. Treine o modelo `clf.train(X_train, y_train)` e aplique ao conjunto de Teste `clf.pred(X_test)` \n"
      ]
    },
    {
      "cell_type": "code",
      "metadata": {
        "id": "NJcbS3-xoBUi"
      },
      "source": [
        "# Seu código\n",
        "\n"
      ],
      "execution_count": null,
      "outputs": []
    },
    {
      "cell_type": "markdown",
      "metadata": {
        "id": "PMkXyVE71N68"
      },
      "source": [
        "Qual a previsão para os 3 primeiros casos?"
      ]
    },
    {
      "cell_type": "code",
      "metadata": {
        "id": "58emVKZE1NJe"
      },
      "source": [
        "# Seu código"
      ],
      "execution_count": null,
      "outputs": []
    },
    {
      "cell_type": "markdown",
      "metadata": {
        "id": "LpuEBp0J1WAF"
      },
      "source": [
        "Quantos casos foram classificados como 'yes'?\n"
      ]
    },
    {
      "cell_type": "code",
      "metadata": {
        "id": "3jV4JyEt1cYx"
      },
      "source": [
        "# Seu código"
      ],
      "execution_count": null,
      "outputs": []
    },
    {
      "cell_type": "markdown",
      "metadata": {
        "id": "X_H0GnqnJxyX"
      },
      "source": [
        "# Exercício. Verifique os resultados, `<metric>(y_pred, y_test)`"
      ]
    },
    {
      "cell_type": "code",
      "metadata": {
        "id": "UYPl5ERfoCr2"
      },
      "source": [
        "# Seu código\n",
        "\n"
      ],
      "execution_count": null,
      "outputs": []
    },
    {
      "cell_type": "markdown",
      "metadata": {
        "id": "Q_PtDJBe2S9w"
      },
      "source": [
        "Qual a acuracidade total e qual classe apresenta pior resultado de classificação?"
      ]
    },
    {
      "cell_type": "markdown",
      "metadata": {
        "id": "03Xnf-QR4duy"
      },
      "source": [
        "# Exercício. Crie um novo modelo `clf2` a partir do modelo anterior, alterando o método de seleção dos nós para `entropy` e a profundidade máxima da árvore para 16.\n",
        "\n",
        "O resultado é melhor ou pior que o modelo anterior?"
      ]
    },
    {
      "cell_type": "code",
      "metadata": {
        "id": "X1_5AUpT2nzz"
      },
      "source": [
        "# Seu código\n",
        "\n"
      ],
      "execution_count": null,
      "outputs": []
    },
    {
      "cell_type": "markdown",
      "metadata": {
        "id": "edZyPJc749s3"
      },
      "source": [
        "# Exercício. Crie um novo modelo `clf3` do tipo k-vizinhos k=5 mais próximos\n",
        "\n",
        "O resultado é melhor ou pior que o modelo anterior?"
      ]
    },
    {
      "cell_type": "code",
      "metadata": {
        "id": "29hl7mP-3U9V"
      },
      "source": [
        "# Seu código\n",
        "\n"
      ],
      "execution_count": null,
      "outputs": []
    },
    {
      "cell_type": "markdown",
      "metadata": {
        "id": "0tJ4Fm88J4Gu"
      },
      "source": [
        "# Exercício. Selecione o Modelo `clf2` e aplique a novos casos, `clf2.predict(X_new)` **RESOLVIDO**"
      ]
    },
    {
      "cell_type": "markdown",
      "metadata": {
        "id": "IPaOyKS4xnm0"
      },
      "source": [
        "Os novos casos aqui são gerados como permutação dos dados já presentes na base. Basta executar e fazer em seguida a previsão."
      ]
    },
    {
      "cell_type": "code",
      "metadata": {
        "id": "RZQlYC3Txlxc"
      },
      "source": [
        "seed1 = 1964 \n",
        "new_bank = bank.sample(10,random_state=seed1)\n",
        "new_bank = new_bank.sample(frac = 1)\n",
        "new_bank.y = '?'\n",
        "new_bank.head()\n",
        "\n",
        "X_new = new_bank.drop(columns=['y'])\n",
        "\n",
        "for col in df_categorical:\n",
        "  le = label_encoders[col] # usando as transformações salvas anteriormente\n",
        "  X_new[col] = le.transform(X_new[col])\n",
        "\n",
        "X_new_matrix = scaler.transform(X_new)\n",
        "X_new = pd.DataFrame(X_new_matrix,columns=X_new.columns)"
      ],
      "execution_count": null,
      "outputs": []
    },
    {
      "cell_type": "markdown",
      "metadata": {
        "id": "SBSC3jd4yCjI"
      },
      "source": [
        "A predição..."
      ]
    },
    {
      "cell_type": "code",
      "metadata": {
        "id": "yIj_7UIuoDhG",
        "colab": {
          "base_uri": "https://localhost:8080/",
          "height": 238
        },
        "outputId": "786cd1b2-02b8-450e-c82f-af3d347133c7"
      },
      "source": [
        "# Seu código\n",
        "\n",
        "y_pred = clf2.predict(X_new)\n",
        "\n",
        "new_bank.y = y_pred\n",
        "\n",
        "print(new_bank)"
      ],
      "execution_count": null,
      "outputs": [
        {
          "output_type": "stream",
          "text": [
            "       age          job   marital  education  ... pdays  previous poutcome    y\n",
            "40638   30   management    single   tertiary  ...    -1         0  unknown   no\n",
            "33634   34     services   married  secondary  ...   350         1  failure   no\n",
            "27994   31   technician    single   tertiary  ...    -1         0  unknown   no\n",
            "2961    28  blue-collar   married  secondary  ...    -1         0  unknown   no\n",
            "12804   40   technician   married    unknown  ...    -1         0  unknown   no\n",
            "10622   36   management    single   tertiary  ...    -1         0  unknown   no\n",
            "19488   31   technician   married  secondary  ...    -1         0  unknown   no\n",
            "14648   32   management  divorced   tertiary  ...    -1         0  unknown  yes\n",
            "24138   36       admin.   married  secondary  ...    -1         0  unknown   no\n",
            "888     32   management   married   tertiary  ...    -1         0  unknown   no\n",
            "\n",
            "[10 rows x 17 columns]\n"
          ],
          "name": "stdout"
        }
      ]
    },
    {
      "cell_type": "markdown",
      "metadata": {
        "id": "PHyo2RTlyMRp"
      },
      "source": [
        "# Exercício. Plote sua Árvore de Decisão **RESOLVIDO**\n",
        "\n"
      ]
    },
    {
      "cell_type": "code",
      "metadata": {
        "id": "YKTwmuD6yShb",
        "colab": {
          "base_uri": "https://localhost:8080/",
          "height": 1000
        },
        "outputId": "211107a6-f221-47b7-8811-0d9dbc462c50"
      },
      "source": [
        "from sklearn import tree\n",
        "tree.plot_tree(clf2)"
      ],
      "execution_count": null,
      "outputs": [
        {
          "output_type": "execute_result",
          "data": {
            "text/plain": [
              "[Text(230.33346388402106, 214.0425, 'X[11] <= 1.023\\ngini = 0.207\\nsamples = 31647\\nvalue = [27945, 3702]'),\n",
              " Text(177.0316492490433, 207.2475, 'X[10] <= 1.323\\ngini = 0.144\\nsamples = 28187\\nvalue = [25986, 2201]'),\n",
              " Text(139.90489302475518, 200.4525, 'X[13] <= -0.307\\ngini = 0.126\\nsamples = 27376\\nvalue = [25523, 1853]'),\n",
              " Text(99.02705956897819, 193.6575, 'X[0] <= 1.842\\ngini = 0.087\\nsamples = 22622\\nvalue = [21592, 1030]'),\n",
              " Text(60.68554691152321, 186.8625, 'X[11] <= -0.135\\ngini = 0.078\\nsamples = 22264\\nvalue = [21362, 902]'),\n",
              " Text(14.67717407971636, 180.0675, 'X[10] <= -1.671\\ngini = 0.039\\nsamples = 15228\\nvalue = [14922, 306]'),\n",
              " Text(5.09984441696254, 173.2725, 'X[6] <= -0.112\\ngini = 0.206\\nsamples = 575\\nvalue = [508, 67]'),\n",
              " Text(2.880488291379104, 166.4775, 'X[9] <= 0.924\\ngini = 0.4\\nsamples = 203\\nvalue = [147, 56]'),\n",
              " Text(1.6294570550923524, 159.6825, 'X[11] <= -0.603\\ngini = 0.471\\nsamples = 137\\nvalue = [85, 52]'),\n",
              " Text(0.5698647624366697, 152.8875, 'X[5] <= 3.001\\ngini = 0.097\\nsamples = 39\\nvalue = [37, 2]'),\n",
              " Text(0.28493238121833486, 146.0925, 'X[11] <= -0.628\\ngini = 0.053\\nsamples = 37\\nvalue = [36, 1]'),\n",
              " Text(0.14246619060916743, 139.2975, 'gini = 0.0\\nsamples = 28\\nvalue = [28, 0]'),\n",
              " Text(0.4273985718275023, 139.2975, 'X[11] <= -0.624\\ngini = 0.198\\nsamples = 9\\nvalue = [8, 1]'),\n",
              " Text(0.28493238121833486, 132.5025, 'X[9] <= -0.337\\ngini = 0.5\\nsamples = 2\\nvalue = [1, 1]'),\n",
              " Text(0.14246619060916743, 125.7075, 'gini = 0.0\\nsamples = 1\\nvalue = [1, 0]'),\n",
              " Text(0.4273985718275023, 125.7075, 'gini = 0.0\\nsamples = 1\\nvalue = [0, 1]'),\n",
              " Text(0.5698647624366697, 132.5025, 'gini = 0.0\\nsamples = 7\\nvalue = [7, 0]'),\n",
              " Text(0.8547971436550046, 146.0925, 'X[8] <= -0.156\\ngini = 0.5\\nsamples = 2\\nvalue = [1, 1]'),\n",
              " Text(0.7123309530458372, 139.2975, 'gini = 0.0\\nsamples = 1\\nvalue = [0, 1]'),\n",
              " Text(0.997263334264172, 139.2975, 'gini = 0.0\\nsamples = 1\\nvalue = [1, 0]'),\n",
              " Text(2.689049347748035, 152.8875, 'X[0] <= 0.147\\ngini = 0.5\\nsamples = 98\\nvalue = [48, 50]'),\n",
              " Text(1.6739777396577173, 146.0925, 'X[0] <= -1.925\\ngini = 0.488\\nsamples = 78\\nvalue = [33, 45]'),\n",
              " Text(1.5315115490485498, 139.2975, 'gini = 0.0\\nsamples = 4\\nvalue = [4, 0]'),\n",
              " Text(1.8164439302668847, 139.2975, 'X[1] <= 0.66\\ngini = 0.477\\nsamples = 74\\nvalue = [29, 45]'),\n",
              " Text(1.0684964295687558, 132.5025, 'X[12] <= -0.408\\ngini = 0.5\\nsamples = 44\\nvalue = [22, 22]'),\n",
              " Text(0.7123309530458372, 125.7075, 'X[11] <= -0.579\\ngini = 0.461\\nsamples = 25\\nvalue = [9, 16]'),\n",
              " Text(0.5698647624366697, 118.9125, 'gini = 0.0\\nsamples = 2\\nvalue = [2, 0]'),\n",
              " Text(0.8547971436550046, 118.9125, 'X[8] <= -0.156\\ngini = 0.423\\nsamples = 23\\nvalue = [7, 16]'),\n",
              " Text(0.7123309530458372, 112.11749999999999, 'X[11] <= -0.335\\ngini = 0.363\\nsamples = 21\\nvalue = [5, 16]'),\n",
              " Text(0.4273985718275023, 105.3225, 'X[1] <= 0.202\\ngini = 0.142\\nsamples = 13\\nvalue = [1, 12]'),\n",
              " Text(0.28493238121833486, 98.5275, 'gini = 0.0\\nsamples = 11\\nvalue = [0, 11]'),\n",
              " Text(0.5698647624366697, 98.5275, 'X[5] <= 2.026\\ngini = 0.5\\nsamples = 2\\nvalue = [1, 1]'),\n",
              " Text(0.4273985718275023, 91.7325, 'gini = 0.0\\nsamples = 1\\nvalue = [0, 1]'),\n",
              " Text(0.7123309530458372, 91.7325, 'gini = 0.0\\nsamples = 1\\nvalue = [1, 0]'),\n",
              " Text(0.997263334264172, 105.3225, 'X[5] <= -0.386\\ngini = 0.5\\nsamples = 8\\nvalue = [4, 4]'),\n",
              " Text(0.8547971436550046, 98.5275, 'gini = 0.0\\nsamples = 3\\nvalue = [3, 0]'),\n",
              " Text(1.1397295248733395, 98.5275, 'X[0] <= -1.454\\ngini = 0.32\\nsamples = 5\\nvalue = [1, 4]'),\n",
              " Text(0.997263334264172, 91.7325, 'gini = 0.0\\nsamples = 1\\nvalue = [1, 0]'),\n",
              " Text(1.2821957154825068, 91.7325, 'gini = 0.0\\nsamples = 4\\nvalue = [0, 4]'),\n",
              " Text(0.997263334264172, 112.11749999999999, 'gini = 0.0\\nsamples = 2\\nvalue = [2, 0]'),\n",
              " Text(1.4246619060916743, 125.7075, 'X[5] <= -0.423\\ngini = 0.432\\nsamples = 19\\nvalue = [13, 6]'),\n",
              " Text(1.2821957154825068, 118.9125, 'gini = 0.0\\nsamples = 5\\nvalue = [5, 0]'),\n",
              " Text(1.5671280967008419, 118.9125, 'X[11] <= -0.395\\ngini = 0.49\\nsamples = 14\\nvalue = [8, 6]'),\n",
              " Text(1.4246619060916743, 112.11749999999999, 'X[5] <= -0.199\\ngini = 0.48\\nsamples = 10\\nvalue = [4, 6]'),\n",
              " Text(1.2821957154825068, 105.3225, 'gini = 0.0\\nsamples = 4\\nvalue = [0, 4]'),\n",
              " Text(1.5671280967008419, 105.3225, 'X[11] <= -0.48\\ngini = 0.444\\nsamples = 6\\nvalue = [4, 2]'),\n",
              " Text(1.4246619060916743, 98.5275, 'gini = 0.0\\nsamples = 4\\nvalue = [4, 0]'),\n",
              " Text(1.7095942873100092, 98.5275, 'gini = 0.0\\nsamples = 2\\nvalue = [0, 2]'),\n",
              " Text(1.7095942873100092, 112.11749999999999, 'gini = 0.0\\nsamples = 4\\nvalue = [4, 0]'),\n",
              " Text(2.5643914309650135, 132.5025, 'X[12] <= 0.883\\ngini = 0.358\\nsamples = 30\\nvalue = [7, 23]'),\n",
              " Text(2.421925240355846, 125.7075, 'X[2] <= 0.546\\ngini = 0.328\\nsamples = 29\\nvalue = [6, 23]'),\n",
              " Text(2.1369928591375116, 118.9125, 'X[0] <= -0.418\\ngini = 0.494\\nsamples = 9\\nvalue = [4, 5]'),\n",
              " Text(1.994526668528344, 112.11749999999999, 'X[11] <= -0.538\\ngini = 0.444\\nsamples = 6\\nvalue = [4, 2]'),\n",
              " Text(1.8520604779191765, 105.3225, 'gini = 0.0\\nsamples = 2\\nvalue = [0, 2]'),\n",
              " Text(2.1369928591375116, 105.3225, 'gini = 0.0\\nsamples = 4\\nvalue = [4, 0]'),\n",
              " Text(2.279459049746679, 112.11749999999999, 'gini = 0.0\\nsamples = 3\\nvalue = [0, 3]'),\n",
              " Text(2.7068576215741813, 118.9125, 'X[8] <= -0.156\\ngini = 0.18\\nsamples = 20\\nvalue = [2, 18]'),\n",
              " Text(2.5643914309650135, 112.11749999999999, 'X[1] <= 1.577\\ngini = 0.1\\nsamples = 19\\nvalue = [1, 18]'),\n",
              " Text(2.421925240355846, 105.3225, 'gini = 0.0\\nsamples = 16\\nvalue = [0, 16]'),\n",
              " Text(2.7068576215741813, 105.3225, 'X[0] <= -1.077\\ngini = 0.444\\nsamples = 3\\nvalue = [1, 2]'),\n",
              " Text(2.5643914309650135, 98.5275, 'gini = 0.0\\nsamples = 2\\nvalue = [0, 2]'),\n",
              " Text(2.8493238121833486, 98.5275, 'gini = 0.0\\nsamples = 1\\nvalue = [1, 0]'),\n",
              " Text(2.8493238121833486, 112.11749999999999, 'gini = 0.0\\nsamples = 1\\nvalue = [1, 0]'),\n",
              " Text(2.7068576215741813, 125.7075, 'gini = 0.0\\nsamples = 1\\nvalue = [1, 0]'),\n",
              " Text(3.704120955838353, 146.0925, 'X[5] <= 1.016\\ngini = 0.375\\nsamples = 20\\nvalue = [15, 5]'),\n",
              " Text(3.4191885746200184, 139.2975, 'X[0] <= 1.56\\ngini = 0.291\\nsamples = 17\\nvalue = [14, 3]'),\n",
              " Text(3.276722384010851, 132.5025, 'X[8] <= 0.957\\ngini = 0.219\\nsamples = 16\\nvalue = [14, 2]'),\n",
              " Text(3.1342561934016837, 125.7075, 'X[11] <= -0.255\\ngini = 0.124\\nsamples = 15\\nvalue = [14, 1]'),\n",
              " Text(2.991790002792516, 118.9125, 'gini = 0.0\\nsamples = 12\\nvalue = [12, 0]'),\n",
              " Text(3.276722384010851, 118.9125, 'X[3] <= 0.368\\ngini = 0.444\\nsamples = 3\\nvalue = [2, 1]'),\n",
              " Text(3.1342561934016837, 112.11749999999999, 'gini = 0.0\\nsamples = 2\\nvalue = [2, 0]'),\n",
              " Text(3.4191885746200184, 112.11749999999999, 'gini = 0.0\\nsamples = 1\\nvalue = [0, 1]'),\n",
              " Text(3.4191885746200184, 125.7075, 'gini = 0.0\\nsamples = 1\\nvalue = [0, 1]'),\n",
              " Text(3.5616547652291857, 132.5025, 'gini = 0.0\\nsamples = 1\\nvalue = [0, 1]'),\n",
              " Text(3.989053337056688, 139.2975, 'X[9] <= -0.277\\ngini = 0.444\\nsamples = 3\\nvalue = [1, 2]'),\n",
              " Text(3.8465871464475208, 132.5025, 'gini = 0.0\\nsamples = 2\\nvalue = [0, 2]'),\n",
              " Text(4.131519527665856, 132.5025, 'gini = 0.0\\nsamples = 1\\nvalue = [1, 0]'),\n",
              " Text(4.131519527665856, 159.6825, 'X[0] <= -1.548\\ngini = 0.114\\nsamples = 66\\nvalue = [62, 4]'),\n",
              " Text(3.989053337056688, 152.8875, 'gini = 0.0\\nsamples = 1\\nvalue = [0, 1]'),\n",
              " Text(4.273985718275023, 152.8875, 'X[11] <= -0.337\\ngini = 0.088\\nsamples = 65\\nvalue = [62, 3]'),\n",
              " Text(4.131519527665856, 146.0925, 'gini = 0.0\\nsamples = 52\\nvalue = [52, 0]'),\n",
              " Text(4.4164519088841905, 146.0925, 'X[9] <= 1.645\\ngini = 0.355\\nsamples = 13\\nvalue = [10, 3]'),\n",
              " Text(4.273985718275023, 139.2975, 'gini = 0.0\\nsamples = 2\\nvalue = [0, 2]'),\n",
              " Text(4.558918099493358, 139.2975, 'X[0] <= -0.889\\ngini = 0.165\\nsamples = 11\\nvalue = [10, 1]'),\n",
              " Text(4.4164519088841905, 132.5025, 'X[11] <= -0.166\\ngini = 0.5\\nsamples = 2\\nvalue = [1, 1]'),\n",
              " Text(4.273985718275023, 125.7075, 'gini = 0.0\\nsamples = 1\\nvalue = [0, 1]'),\n",
              " Text(4.558918099493358, 125.7075, 'gini = 0.0\\nsamples = 1\\nvalue = [1, 0]'),\n",
              " Text(4.701384290102525, 132.5025, 'gini = 0.0\\nsamples = 9\\nvalue = [9, 0]'),\n",
              " Text(7.3192005425459765, 166.4775, 'X[9] <= 0.924\\ngini = 0.057\\nsamples = 372\\nvalue = [361, 11]'),\n",
              " Text(6.232895839151075, 159.6825, 'X[11] <= -0.177\\ngini = 0.034\\nsamples = 345\\nvalue = [339, 6]'),\n",
              " Text(5.484948338452946, 152.8875, 'X[3] <= 0.368\\ngini = 0.018\\nsamples = 322\\nvalue = [319, 3]'),\n",
              " Text(4.98631667132086, 146.0925, 'X[5] <= 0.404\\ngini = 0.008\\nsamples = 245\\nvalue = [244, 1]'),\n",
              " Text(4.843850480711692, 139.2975, 'gini = 0.0\\nsamples = 223\\nvalue = [223, 0]'),\n",
              " Text(5.128782861930027, 139.2975, 'X[5] <= 0.45\\ngini = 0.087\\nsamples = 22\\nvalue = [21, 1]'),\n",
              " Text(4.98631667132086, 132.5025, 'gini = 0.0\\nsamples = 1\\nvalue = [0, 1]'),\n",
              " Text(5.271249052539195, 132.5025, 'gini = 0.0\\nsamples = 21\\nvalue = [21, 0]'),\n",
              " Text(5.983580005585032, 146.0925, 'X[5] <= -0.434\\ngini = 0.051\\nsamples = 77\\nvalue = [75, 2]'),\n",
              " Text(5.698647624366697, 139.2975, 'X[1] <= 0.202\\ngini = 0.219\\nsamples = 8\\nvalue = [7, 1]'),\n",
              " Text(5.55618143375753, 132.5025, 'gini = 0.0\\nsamples = 7\\nvalue = [7, 0]'),\n",
              " Text(5.841113814975865, 132.5025, 'gini = 0.0\\nsamples = 1\\nvalue = [0, 1]'),\n",
              " Text(6.268512386803367, 139.2975, 'X[0] <= -0.794\\ngini = 0.029\\nsamples = 69\\nvalue = [68, 1]'),\n",
              " Text(6.126046196194199, 132.5025, 'X[5] <= -0.172\\ngini = 0.087\\nsamples = 22\\nvalue = [21, 1]'),\n",
              " Text(5.983580005585032, 125.7075, 'X[5] <= -0.197\\ngini = 0.219\\nsamples = 8\\nvalue = [7, 1]'),\n",
              " Text(5.841113814975865, 118.9125, 'gini = 0.0\\nsamples = 7\\nvalue = [7, 0]'),\n",
              " Text(6.126046196194199, 118.9125, 'gini = 0.0\\nsamples = 1\\nvalue = [0, 1]'),\n",
              " Text(6.268512386803367, 125.7075, 'gini = 0.0\\nsamples = 14\\nvalue = [14, 0]'),\n",
              " Text(6.410978577412535, 132.5025, 'gini = 0.0\\nsamples = 47\\nvalue = [47, 0]'),\n",
              " Text(6.980843339849204, 152.8875, 'X[11] <= -0.17\\ngini = 0.227\\nsamples = 23\\nvalue = [20, 3]'),\n",
              " Text(6.695910958630869, 146.0925, 'X[12] <= 0.238\\ngini = 0.444\\nsamples = 3\\nvalue = [1, 2]'),\n",
              " Text(6.553444768021702, 139.2975, 'gini = 0.0\\nsamples = 2\\nvalue = [0, 2]'),\n",
              " Text(6.838377149240037, 139.2975, 'gini = 0.0\\nsamples = 1\\nvalue = [1, 0]'),\n",
              " Text(7.265775721067539, 146.0925, 'X[0] <= 1.23\\ngini = 0.095\\nsamples = 20\\nvalue = [19, 1]'),\n",
              " Text(7.123309530458371, 139.2975, 'gini = 0.0\\nsamples = 19\\nvalue = [19, 0]'),\n",
              " Text(7.408241911676706, 139.2975, 'gini = 0.0\\nsamples = 1\\nvalue = [0, 1]'),\n",
              " Text(8.405505245940878, 159.6825, 'X[0] <= 1.466\\ngini = 0.302\\nsamples = 27\\nvalue = [22, 5]'),\n",
              " Text(8.120572864722543, 152.8875, 'X[5] <= 0.754\\ngini = 0.219\\nsamples = 24\\nvalue = [21, 3]'),\n",
              " Text(7.978106674113376, 146.0925, 'X[11] <= -0.338\\ngini = 0.159\\nsamples = 23\\nvalue = [21, 2]'),\n",
              " Text(7.6931742928950415, 139.2975, 'X[12] <= 1.529\\ngini = 0.091\\nsamples = 21\\nvalue = [20, 1]'),\n",
              " Text(7.550708102285874, 132.5025, 'gini = 0.0\\nsamples = 19\\nvalue = [19, 0]'),\n",
              " Text(7.835640483504209, 132.5025, 'X[0] <= 0.477\\ngini = 0.5\\nsamples = 2\\nvalue = [1, 1]'),\n",
              " Text(7.6931742928950415, 125.7075, 'gini = 0.0\\nsamples = 1\\nvalue = [1, 0]'),\n",
              " Text(7.978106674113376, 125.7075, 'gini = 0.0\\nsamples = 1\\nvalue = [0, 1]'),\n",
              " Text(8.263039055331712, 139.2975, 'X[11] <= -0.263\\ngini = 0.5\\nsamples = 2\\nvalue = [1, 1]'),\n",
              " Text(8.120572864722543, 132.5025, 'gini = 0.0\\nsamples = 1\\nvalue = [0, 1]'),\n",
              " Text(8.405505245940878, 132.5025, 'gini = 0.0\\nsamples = 1\\nvalue = [1, 0]'),\n",
              " Text(8.263039055331712, 146.0925, 'gini = 0.0\\nsamples = 1\\nvalue = [0, 1]'),\n",
              " Text(8.690437627159213, 152.8875, 'X[12] <= 0.399\\ngini = 0.444\\nsamples = 3\\nvalue = [1, 2]'),\n",
              " Text(8.547971436550046, 146.0925, 'gini = 0.0\\nsamples = 2\\nvalue = [0, 2]'),\n",
              " Text(8.832903817768381, 146.0925, 'gini = 0.0\\nsamples = 1\\nvalue = [1, 0]'),\n",
              " Text(24.25450374247018, 173.2725, 'X[0] <= -1.454\\ngini = 0.032\\nsamples = 14653\\nvalue = [14414, 239]'),\n",
              " Text(12.683943032672438, 166.4775, 'X[6] <= -0.112\\ngini = 0.162\\nsamples = 359\\nvalue = [327, 32]'),\n",
              " Text(11.2637331950373, 159.6825, 'X[11] <= -0.348\\ngini = 0.332\\nsamples = 143\\nvalue = [113, 30]'),\n",
              " Text(9.919208521163283, 152.8875, 'X[11] <= -0.659\\ngini = 0.25\\nsamples = 116\\nvalue = [99, 17]'),\n",
              " Text(9.117836198986716, 146.0925, 'X[10] <= 0.99\\ngini = 0.046\\nsamples = 42\\nvalue = [41, 1]'),\n",
              " Text(8.975370008377547, 139.2975, 'gini = 0.0\\nsamples = 40\\nvalue = [40, 0]'),\n",
              " Text(9.260302389595884, 139.2975, 'X[8] <= -0.156\\ngini = 0.5\\nsamples = 2\\nvalue = [1, 1]'),\n",
              " Text(9.117836198986716, 132.5025, 'gini = 0.0\\nsamples = 1\\nvalue = [1, 0]'),\n",
              " Text(9.40276858020505, 132.5025, 'gini = 0.0\\nsamples = 1\\nvalue = [0, 1]'),\n",
              " Text(10.72058084333985, 146.0925, 'X[5] <= -0.353\\ngini = 0.339\\nsamples = 74\\nvalue = [58, 16]'),\n",
              " Text(10.043866437946305, 139.2975, 'X[10] <= -0.34\\ngini = 0.471\\nsamples = 29\\nvalue = [18, 11]'),\n",
              " Text(9.687700961423385, 132.5025, 'X[11] <= -0.575\\ngini = 0.375\\nsamples = 8\\nvalue = [2, 6]'),\n",
              " Text(9.545234770814218, 125.7075, 'X[11] <= -0.612\\ngini = 0.444\\nsamples = 3\\nvalue = [2, 1]'),\n",
              " Text(9.40276858020505, 118.9125, 'gini = 0.0\\nsamples = 1\\nvalue = [0, 1]'),\n",
              " Text(9.687700961423385, 118.9125, 'gini = 0.0\\nsamples = 2\\nvalue = [2, 0]'),\n",
              " Text(9.830167152032553, 125.7075, 'gini = 0.0\\nsamples = 5\\nvalue = [0, 5]'),\n",
              " Text(10.400031914469222, 132.5025, 'X[11] <= -0.603\\ngini = 0.363\\nsamples = 21\\nvalue = [16, 5]'),\n",
              " Text(10.115099533250888, 125.7075, 'X[11] <= -0.636\\ngini = 0.444\\nsamples = 3\\nvalue = [1, 2]'),\n",
              " Text(9.97263334264172, 118.9125, 'gini = 0.0\\nsamples = 1\\nvalue = [1, 0]'),\n",
              " Text(10.257565723860054, 118.9125, 'gini = 0.0\\nsamples = 2\\nvalue = [0, 2]'),\n",
              " Text(10.684964295687557, 125.7075, 'X[12] <= 0.722\\ngini = 0.278\\nsamples = 18\\nvalue = [15, 3]'),\n",
              " Text(10.54249810507839, 118.9125, 'X[10] <= 0.99\\ngini = 0.208\\nsamples = 17\\nvalue = [15, 2]'),\n",
              " Text(10.400031914469222, 112.11749999999999, 'X[5] <= -0.39\\ngini = 0.117\\nsamples = 16\\nvalue = [15, 1]'),\n",
              " Text(10.257565723860054, 105.3225, 'gini = 0.0\\nsamples = 11\\nvalue = [11, 0]'),\n",
              " Text(10.54249810507839, 105.3225, 'X[10] <= -0.008\\ngini = 0.32\\nsamples = 5\\nvalue = [4, 1]'),\n",
              " Text(10.400031914469222, 98.5275, 'gini = 0.0\\nsamples = 1\\nvalue = [0, 1]'),\n",
              " Text(10.684964295687557, 98.5275, 'gini = 0.0\\nsamples = 4\\nvalue = [4, 0]'),\n",
              " Text(10.684964295687557, 112.11749999999999, 'gini = 0.0\\nsamples = 1\\nvalue = [0, 1]'),\n",
              " Text(10.827430486296725, 118.9125, 'gini = 0.0\\nsamples = 1\\nvalue = [0, 1]'),\n",
              " Text(11.397295248733395, 139.2975, 'X[11] <= -0.639\\ngini = 0.198\\nsamples = 45\\nvalue = [40, 5]'),\n",
              " Text(11.11236286751506, 132.5025, 'X[9] <= -1.539\\ngini = 0.444\\nsamples = 3\\nvalue = [1, 2]'),\n",
              " Text(10.969896676905892, 125.7075, 'gini = 0.0\\nsamples = 1\\nvalue = [1, 0]'),\n",
              " Text(11.254829058124226, 125.7075, 'gini = 0.0\\nsamples = 2\\nvalue = [0, 2]'),\n",
              " Text(11.68222762995173, 132.5025, 'X[10] <= -0.008\\ngini = 0.133\\nsamples = 42\\nvalue = [39, 3]'),\n",
              " Text(11.539761439342563, 125.7075, 'gini = 0.0\\nsamples = 21\\nvalue = [21, 0]'),\n",
              " Text(11.824693820560897, 125.7075, 'X[10] <= 0.657\\ngini = 0.245\\nsamples = 21\\nvalue = [18, 3]'),\n",
              " Text(11.68222762995173, 118.9125, 'X[11] <= -0.48\\ngini = 0.397\\nsamples = 11\\nvalue = [8, 3]'),\n",
              " Text(11.539761439342563, 112.11749999999999, 'X[9] <= 0.624\\ngini = 0.32\\nsamples = 10\\nvalue = [8, 2]'),\n",
              " Text(11.397295248733395, 105.3225, 'X[10] <= 0.325\\ngini = 0.198\\nsamples = 9\\nvalue = [8, 1]'),\n",
              " Text(11.254829058124226, 98.5275, 'gini = 0.0\\nsamples = 6\\nvalue = [6, 0]'),\n",
              " Text(11.539761439342563, 98.5275, 'X[12] <= 1.045\\ngini = 0.444\\nsamples = 3\\nvalue = [2, 1]'),\n",
              " Text(11.397295248733395, 91.7325, 'gini = 0.0\\nsamples = 1\\nvalue = [0, 1]'),\n",
              " Text(11.68222762995173, 91.7325, 'gini = 0.0\\nsamples = 2\\nvalue = [2, 0]'),\n",
              " Text(11.68222762995173, 105.3225, 'gini = 0.0\\nsamples = 1\\nvalue = [0, 1]'),\n",
              " Text(11.824693820560897, 112.11749999999999, 'gini = 0.0\\nsamples = 1\\nvalue = [0, 1]'),\n",
              " Text(11.967160011170064, 118.9125, 'gini = 0.0\\nsamples = 10\\nvalue = [10, 0]'),\n",
              " Text(12.608257868911318, 152.8875, 'X[10] <= -0.34\\ngini = 0.499\\nsamples = 27\\nvalue = [14, 13]'),\n",
              " Text(11.967160011170064, 146.0925, 'X[11] <= -0.253\\ngini = 0.397\\nsamples = 11\\nvalue = [3, 8]'),\n",
              " Text(11.824693820560897, 139.2975, 'gini = 0.0\\nsamples = 5\\nvalue = [0, 5]'),\n",
              " Text(12.109626201779232, 139.2975, 'X[0] <= -1.783\\ngini = 0.5\\nsamples = 6\\nvalue = [3, 3]'),\n",
              " Text(11.967160011170064, 132.5025, 'gini = 0.0\\nsamples = 2\\nvalue = [2, 0]'),\n",
              " Text(12.252092392388398, 132.5025, 'X[10] <= -1.172\\ngini = 0.375\\nsamples = 4\\nvalue = [1, 3]'),\n",
              " Text(12.109626201779232, 125.7075, 'gini = 0.0\\nsamples = 3\\nvalue = [0, 3]'),\n",
              " Text(12.394558582997567, 125.7075, 'gini = 0.0\\nsamples = 1\\nvalue = [1, 0]'),\n",
              " Text(13.24935572665257, 146.0925, 'X[11] <= -0.241\\ngini = 0.43\\nsamples = 16\\nvalue = [11, 5]'),\n",
              " Text(12.964423345434236, 139.2975, 'X[5] <= 0.43\\ngini = 0.5\\nsamples = 8\\nvalue = [4, 4]'),\n",
              " Text(12.82195715482507, 132.5025, 'X[9] <= 0.203\\ngini = 0.444\\nsamples = 6\\nvalue = [2, 4]'),\n",
              " Text(12.679490964215901, 125.7075, 'X[11] <= -0.282\\ngini = 0.444\\nsamples = 3\\nvalue = [2, 1]'),\n",
              " Text(12.537024773606735, 118.9125, 'gini = 0.0\\nsamples = 2\\nvalue = [2, 0]'),\n",
              " Text(12.82195715482507, 118.9125, 'gini = 0.0\\nsamples = 1\\nvalue = [0, 1]'),\n",
              " Text(12.964423345434236, 125.7075, 'gini = 0.0\\nsamples = 3\\nvalue = [0, 3]'),\n",
              " Text(13.106889536043404, 132.5025, 'gini = 0.0\\nsamples = 2\\nvalue = [2, 0]'),\n",
              " Text(13.534288107870905, 139.2975, 'X[5] <= 0.326\\ngini = 0.219\\nsamples = 8\\nvalue = [7, 1]'),\n",
              " Text(13.391821917261739, 132.5025, 'gini = 0.0\\nsamples = 7\\nvalue = [7, 0]'),\n",
              " Text(13.676754298480073, 132.5025, 'gini = 0.0\\nsamples = 1\\nvalue = [0, 1]'),\n",
              " Text(14.104152870307576, 159.6825, 'X[10] <= -0.507\\ngini = 0.018\\nsamples = 216\\nvalue = [214, 2]'),\n",
              " Text(13.819220489089242, 152.8875, 'X[0] <= -1.642\\ngini = 0.5\\nsamples = 2\\nvalue = [1, 1]'),\n",
              " Text(13.676754298480073, 146.0925, 'gini = 0.0\\nsamples = 1\\nvalue = [0, 1]'),\n",
              " Text(13.961686679698408, 146.0925, 'gini = 0.0\\nsamples = 1\\nvalue = [1, 0]'),\n",
              " Text(14.389085251525911, 152.8875, 'X[1] <= -1.173\\ngini = 0.009\\nsamples = 214\\nvalue = [213, 1]'),\n",
              " Text(14.246619060916743, 146.0925, 'X[5] <= -0.447\\ngini = 0.059\\nsamples = 33\\nvalue = [32, 1]'),\n",
              " Text(14.104152870307576, 139.2975, 'X[5] <= -0.452\\ngini = 0.375\\nsamples = 4\\nvalue = [3, 1]'),\n",
              " Text(13.961686679698408, 132.5025, 'gini = 0.0\\nsamples = 3\\nvalue = [3, 0]'),\n",
              " Text(14.246619060916743, 132.5025, 'gini = 0.0\\nsamples = 1\\nvalue = [0, 1]'),\n",
              " Text(14.389085251525911, 139.2975, 'gini = 0.0\\nsamples = 29\\nvalue = [29, 0]'),\n",
              " Text(14.531551442135077, 146.0925, 'gini = 0.0\\nsamples = 181\\nvalue = [181, 0]'),\n",
              " Text(35.825064452267924, 166.4775, 'X[11] <= -0.476\\ngini = 0.029\\nsamples = 14294\\nvalue = [14087, 207]'),\n",
              " Text(25.113283400486697, 159.6825, 'X[14] <= 0.833\\ngini = 0.014\\nsamples = 8873\\nvalue = [8811, 62]'),\n",
              " Text(22.939839230861292, 152.8875, 'X[12] <= -0.408\\ngini = 0.013\\nsamples = 8858\\nvalue = [8798, 60]'),\n",
              " Text(19.020349463437988, 146.0925, 'X[10] <= 0.657\\ngini = 0.027\\nsamples = 2843\\nvalue = [2804, 39]'),\n",
              " Text(17.09816890732836, 139.2975, 'X[10] <= 0.325\\ngini = 0.046\\nsamples = 1441\\nvalue = [1407, 34]'),\n",
              " Text(14.536003510591614, 132.5025, 'X[0] <= -1.36\\ngini = 0.031\\nsamples = 1412\\nvalue = [1390, 22]'),\n",
              " Text(13.24935572665257, 125.7075, 'X[11] <= -0.505\\ngini = 0.236\\nsamples = 22\\nvalue = [19, 3]'),\n",
              " Text(13.106889536043404, 118.9125, 'X[5] <= 2.37\\ngini = 0.172\\nsamples = 21\\nvalue = [19, 2]'),\n",
              " Text(12.964423345434236, 112.11749999999999, 'X[1] <= 0.966\\ngini = 0.095\\nsamples = 20\\nvalue = [19, 1]'),\n",
              " Text(12.82195715482507, 105.3225, 'gini = 0.0\\nsamples = 16\\nvalue = [16, 0]'),\n",
              " Text(13.106889536043404, 105.3225, 'X[10] <= -0.673\\ngini = 0.375\\nsamples = 4\\nvalue = [3, 1]'),\n",
              " Text(12.964423345434236, 98.5275, 'X[10] <= -1.172\\ngini = 0.5\\nsamples = 2\\nvalue = [1, 1]'),\n",
              " Text(12.82195715482507, 91.7325, 'gini = 0.0\\nsamples = 1\\nvalue = [1, 0]'),\n",
              " Text(13.106889536043404, 91.7325, 'gini = 0.0\\nsamples = 1\\nvalue = [0, 1]'),\n",
              " Text(13.24935572665257, 98.5275, 'gini = 0.0\\nsamples = 2\\nvalue = [2, 0]'),\n",
              " Text(13.24935572665257, 112.11749999999999, 'gini = 0.0\\nsamples = 1\\nvalue = [0, 1]'),\n",
              " Text(13.391821917261739, 118.9125, 'gini = 0.0\\nsamples = 1\\nvalue = [0, 1]'),\n",
              " Text(15.822651294530658, 125.7075, 'X[5] <= -0.243\\ngini = 0.027\\nsamples = 1390\\nvalue = [1371, 19]'),\n",
              " Text(14.780867275701121, 118.9125, 'X[1] <= -0.868\\ngini = 0.012\\nsamples = 851\\nvalue = [846, 5]'),\n",
              " Text(14.17538596561216, 112.11749999999999, 'X[10] <= -1.172\\ngini = 0.031\\nsamples = 256\\nvalue = [252, 4]'),\n",
              " Text(13.676754298480073, 105.3225, 'X[0] <= 1.277\\ngini = 0.133\\nsamples = 14\\nvalue = [13, 1]'),\n",
              " Text(13.534288107870905, 98.5275, 'gini = 0.0\\nsamples = 11\\nvalue = [11, 0]'),\n",
              " Text(13.819220489089242, 98.5275, 'X[11] <= -0.698\\ngini = 0.444\\nsamples = 3\\nvalue = [2, 1]'),\n",
              " Text(13.676754298480073, 91.7325, 'gini = 0.0\\nsamples = 2\\nvalue = [2, 0]'),\n",
              " Text(13.961686679698408, 91.7325, 'gini = 0.0\\nsamples = 1\\nvalue = [0, 1]'),\n",
              " Text(14.674017632744246, 105.3225, 'X[9] <= -0.638\\ngini = 0.024\\nsamples = 242\\nvalue = [239, 3]'),\n",
              " Text(14.531551442135077, 98.5275, 'X[9] <= -0.758\\ngini = 0.045\\nsamples = 129\\nvalue = [126, 3]'),\n",
              " Text(14.246619060916743, 91.7325, 'X[11] <= -0.591\\ngini = 0.033\\nsamples = 120\\nvalue = [118, 2]'),\n",
              " Text(14.104152870307576, 84.9375, 'gini = 0.0\\nsamples = 86\\nvalue = [86, 0]'),\n",
              " Text(14.389085251525911, 84.9375, 'X[11] <= -0.585\\ngini = 0.111\\nsamples = 34\\nvalue = [32, 2]'),\n",
              " Text(14.246619060916743, 78.14250000000001, 'gini = 0.0\\nsamples = 1\\nvalue = [0, 1]'),\n",
              " Text(14.531551442135077, 78.14250000000001, 'X[0] <= -0.983\\ngini = 0.059\\nsamples = 33\\nvalue = [32, 1]'),\n",
              " Text(14.389085251525911, 71.3475, 'X[9] <= -0.998\\ngini = 0.375\\nsamples = 4\\nvalue = [3, 1]'),\n",
              " Text(14.246619060916743, 64.55250000000001, 'gini = 0.0\\nsamples = 3\\nvalue = [3, 0]'),\n",
              " Text(14.531551442135077, 64.55250000000001, 'gini = 0.0\\nsamples = 1\\nvalue = [0, 1]'),\n",
              " Text(14.674017632744246, 71.3475, 'gini = 0.0\\nsamples = 29\\nvalue = [29, 0]'),\n",
              " Text(14.816483823353412, 91.7325, 'X[0] <= 0.43\\ngini = 0.198\\nsamples = 9\\nvalue = [8, 1]'),\n",
              " Text(14.674017632744246, 84.9375, 'gini = 0.0\\nsamples = 7\\nvalue = [7, 0]'),\n",
              " Text(14.95895001396258, 84.9375, 'X[8] <= -0.156\\ngini = 0.5\\nsamples = 2\\nvalue = [1, 1]'),\n",
              " Text(14.816483823353412, 78.14250000000001, 'gini = 0.0\\nsamples = 1\\nvalue = [1, 0]'),\n",
              " Text(15.101416204571748, 78.14250000000001, 'gini = 0.0\\nsamples = 1\\nvalue = [0, 1]'),\n",
              " Text(14.816483823353412, 98.5275, 'gini = 0.0\\nsamples = 113\\nvalue = [113, 0]'),\n",
              " Text(15.386348585790083, 112.11749999999999, 'X[0] <= -1.265\\ngini = 0.003\\nsamples = 595\\nvalue = [594, 1]'),\n",
              " Text(15.243882395180915, 105.3225, 'X[1] <= 1.271\\ngini = 0.1\\nsamples = 19\\nvalue = [18, 1]'),\n",
              " Text(15.101416204571748, 98.5275, 'gini = 0.0\\nsamples = 15\\nvalue = [15, 0]'),\n",
              " Text(15.386348585790083, 98.5275, 'X[5] <= -0.344\\ngini = 0.375\\nsamples = 4\\nvalue = [3, 1]'),\n",
              " Text(15.243882395180915, 91.7325, 'gini = 0.0\\nsamples = 3\\nvalue = [3, 0]'),\n",
              " Text(15.52881477639925, 91.7325, 'gini = 0.0\\nsamples = 1\\nvalue = [0, 1]'),\n",
              " Text(15.52881477639925, 105.3225, 'gini = 0.0\\nsamples = 576\\nvalue = [576, 0]'),\n",
              " Text(16.864435313360193, 118.9125, 'X[5] <= -0.242\\ngini = 0.051\\nsamples = 539\\nvalue = [525, 14]'),\n",
              " Text(16.169912634140502, 112.11749999999999, 'X[3] <= -0.301\\ngini = 0.5\\nsamples = 2\\nvalue = [1, 1]'),\n",
              " Text(16.027446443531336, 105.3225, 'gini = 0.0\\nsamples = 1\\nvalue = [1, 0]'),\n",
              " Text(16.312378824749672, 105.3225, 'gini = 0.0\\nsamples = 1\\nvalue = [0, 1]'),\n",
              " Text(17.558957992579884, 112.11749999999999, 'X[9] <= 1.165\\ngini = 0.047\\nsamples = 537\\nvalue = [524, 13]'),\n",
              " Text(16.597311205968005, 105.3225, 'X[5] <= -0.199\\ngini = 0.034\\nsamples = 468\\nvalue = [460, 8]'),\n",
              " Text(16.09867953883592, 98.5275, 'X[5] <= -0.2\\ngini = 0.145\\nsamples = 51\\nvalue = [47, 4]'),\n",
              " Text(15.956213348226752, 91.7325, 'X[1] <= -1.173\\ngini = 0.113\\nsamples = 50\\nvalue = [47, 3]'),\n",
              " Text(15.52881477639925, 84.9375, 'X[5] <= -0.234\\ngini = 0.346\\nsamples = 9\\nvalue = [7, 2]'),\n",
              " Text(15.386348585790083, 78.14250000000001, 'gini = 0.0\\nsamples = 4\\nvalue = [4, 0]'),\n",
              " Text(15.671280967008418, 78.14250000000001, 'X[6] <= -0.112\\ngini = 0.48\\nsamples = 5\\nvalue = [3, 2]'),\n",
              " Text(15.52881477639925, 71.3475, 'gini = 0.0\\nsamples = 2\\nvalue = [0, 2]'),\n",
              " Text(15.813747157617584, 71.3475, 'gini = 0.0\\nsamples = 3\\nvalue = [3, 0]'),\n",
              " Text(16.383611920054253, 84.9375, 'X[0] <= -0.747\\ngini = 0.048\\nsamples = 41\\nvalue = [40, 1]'),\n",
              " Text(16.241145729445087, 78.14250000000001, 'X[0] <= -0.889\\ngini = 0.198\\nsamples = 9\\nvalue = [8, 1]'),\n",
              " Text(16.09867953883592, 71.3475, 'gini = 0.0\\nsamples = 8\\nvalue = [8, 0]'),\n",
              " Text(16.383611920054253, 71.3475, 'gini = 0.0\\nsamples = 1\\nvalue = [0, 1]'),\n",
              " Text(16.526078110663423, 78.14250000000001, 'gini = 0.0\\nsamples = 32\\nvalue = [32, 0]'),\n",
              " Text(16.241145729445087, 91.7325, 'gini = 0.0\\nsamples = 1\\nvalue = [0, 1]'),\n",
              " Text(17.095942873100093, 98.5275, 'X[9] <= -1.719\\ngini = 0.019\\nsamples = 417\\nvalue = [413, 4]'),\n",
              " Text(16.811010491881756, 91.7325, 'X[5] <= 1.054\\ngini = 0.245\\nsamples = 7\\nvalue = [6, 1]'),\n",
              " Text(16.66854430127259, 84.9375, 'gini = 0.0\\nsamples = 6\\nvalue = [6, 0]'),\n",
              " Text(16.953476682490923, 84.9375, 'gini = 0.0\\nsamples = 1\\nvalue = [0, 1]'),\n",
              " Text(17.380875254318426, 91.7325, 'X[11] <= -0.546\\ngini = 0.015\\nsamples = 410\\nvalue = [407, 3]'),\n",
              " Text(17.23840906370926, 84.9375, 'gini = 0.0\\nsamples = 351\\nvalue = [351, 0]'),\n",
              " Text(17.523341444927595, 84.9375, 'X[11] <= -0.538\\ngini = 0.097\\nsamples = 59\\nvalue = [56, 3]'),\n",
              " Text(17.23840906370926, 78.14250000000001, 'X[10] <= -0.34\\ngini = 0.346\\nsamples = 9\\nvalue = [7, 2]'),\n",
              " Text(17.095942873100093, 71.3475, 'X[9] <= -1.359\\ngini = 0.444\\nsamples = 3\\nvalue = [1, 2]'),\n",
              " Text(16.953476682490923, 64.55250000000001, 'gini = 0.0\\nsamples = 1\\nvalue = [1, 0]'),\n",
              " Text(17.23840906370926, 64.55250000000001, 'gini = 0.0\\nsamples = 2\\nvalue = [0, 2]'),\n",
              " Text(17.380875254318426, 71.3475, 'gini = 0.0\\nsamples = 6\\nvalue = [6, 0]'),\n",
              " Text(17.80827382614593, 78.14250000000001, 'X[5] <= 1.614\\ngini = 0.039\\nsamples = 50\\nvalue = [49, 1]'),\n",
              " Text(17.665807635536762, 71.3475, 'gini = 0.0\\nsamples = 43\\nvalue = [43, 0]'),\n",
              " Text(17.950740016755095, 71.3475, 'X[5] <= 1.915\\ngini = 0.245\\nsamples = 7\\nvalue = [6, 1]'),\n",
              " Text(17.80827382614593, 64.55250000000001, 'gini = 0.0\\nsamples = 1\\nvalue = [0, 1]'),\n",
              " Text(18.093206207364265, 64.55250000000001, 'gini = 0.0\\nsamples = 6\\nvalue = [6, 0]'),\n",
              " Text(18.520604779191768, 105.3225, 'X[10] <= -0.673\\ngini = 0.134\\nsamples = 69\\nvalue = [64, 5]'),\n",
              " Text(18.23567239797343, 98.5275, 'X[10] <= -1.172\\ngini = 0.463\\nsamples = 11\\nvalue = [7, 4]'),\n",
              " Text(18.093206207364265, 91.7325, 'gini = 0.0\\nsamples = 5\\nvalue = [5, 0]'),\n",
              " Text(18.378138588582598, 91.7325, 'X[11] <= -0.711\\ngini = 0.444\\nsamples = 6\\nvalue = [2, 4]'),\n",
              " Text(18.23567239797343, 84.9375, 'X[0] <= -1.171\\ngini = 0.444\\nsamples = 3\\nvalue = [2, 1]'),\n",
              " Text(18.093206207364265, 78.14250000000001, 'gini = 0.0\\nsamples = 1\\nvalue = [0, 1]'),\n",
              " Text(18.378138588582598, 78.14250000000001, 'gini = 0.0\\nsamples = 2\\nvalue = [2, 0]'),\n",
              " Text(18.520604779191768, 84.9375, 'gini = 0.0\\nsamples = 3\\nvalue = [0, 3]'),\n",
              " Text(18.8055371604101, 98.5275, 'X[11] <= -0.505\\ngini = 0.034\\nsamples = 58\\nvalue = [57, 1]'),\n",
              " Text(18.663070969800934, 91.7325, 'gini = 0.0\\nsamples = 57\\nvalue = [57, 0]'),\n",
              " Text(18.948003351019267, 91.7325, 'gini = 0.0\\nsamples = 1\\nvalue = [0, 1]'),\n",
              " Text(19.660334304065106, 132.5025, 'X[11] <= -0.593\\ngini = 0.485\\nsamples = 29\\nvalue = [17, 12]'),\n",
              " Text(19.37540192284677, 125.7075, 'X[5] <= -0.453\\ngini = 0.388\\nsamples = 19\\nvalue = [14, 5]'),\n",
              " Text(19.232935732237603, 118.9125, 'gini = 0.0\\nsamples = 1\\nvalue = [0, 1]'),\n",
              " Text(19.51786811345594, 118.9125, 'X[11] <= -0.63\\ngini = 0.346\\nsamples = 18\\nvalue = [14, 4]'),\n",
              " Text(19.37540192284677, 112.11749999999999, 'X[11] <= -0.703\\ngini = 0.444\\nsamples = 12\\nvalue = [8, 4]'),\n",
              " Text(19.232935732237603, 105.3225, 'gini = 0.0\\nsamples = 3\\nvalue = [3, 0]'),\n",
              " Text(19.51786811345594, 105.3225, 'X[9] <= 0.864\\ngini = 0.494\\nsamples = 9\\nvalue = [5, 4]'),\n",
              " Text(19.37540192284677, 98.5275, 'X[5] <= -0.255\\ngini = 0.444\\nsamples = 6\\nvalue = [2, 4]'),\n",
              " Text(19.232935732237603, 91.7325, 'gini = 0.0\\nsamples = 3\\nvalue = [0, 3]'),\n",
              " Text(19.51786811345594, 91.7325, 'X[3] <= 0.368\\ngini = 0.444\\nsamples = 3\\nvalue = [2, 1]'),\n",
              " Text(19.37540192284677, 84.9375, 'gini = 0.0\\nsamples = 2\\nvalue = [2, 0]'),\n",
              " Text(19.660334304065106, 84.9375, 'gini = 0.0\\nsamples = 1\\nvalue = [0, 1]'),\n",
              " Text(19.660334304065106, 98.5275, 'gini = 0.0\\nsamples = 3\\nvalue = [3, 0]'),\n",
              " Text(19.660334304065106, 112.11749999999999, 'gini = 0.0\\nsamples = 6\\nvalue = [6, 0]'),\n",
              " Text(19.94526668528344, 125.7075, 'X[11] <= -0.531\\ngini = 0.42\\nsamples = 10\\nvalue = [3, 7]'),\n",
              " Text(19.802800494674273, 118.9125, 'gini = 0.0\\nsamples = 5\\nvalue = [0, 5]'),\n",
              " Text(20.08773287589261, 118.9125, 'X[5] <= -0.094\\ngini = 0.48\\nsamples = 5\\nvalue = [3, 2]'),\n",
              " Text(19.94526668528344, 112.11749999999999, 'gini = 0.0\\nsamples = 2\\nvalue = [0, 2]'),\n",
              " Text(20.230199066501775, 112.11749999999999, 'gini = 0.0\\nsamples = 3\\nvalue = [3, 0]'),\n",
              " Text(20.94253001954761, 139.2975, 'X[9] <= -1.479\\ngini = 0.007\\nsamples = 1402\\nvalue = [1397, 5]'),\n",
              " Text(20.800063828938445, 132.5025, 'gini = 0.0\\nsamples = 1\\nvalue = [0, 1]'),\n",
              " Text(21.08499621015678, 132.5025, 'X[0] <= -1.077\\ngini = 0.006\\nsamples = 1401\\nvalue = [1397, 4]'),\n",
              " Text(20.800063828938445, 125.7075, 'X[6] <= -0.112\\ngini = 0.034\\nsamples = 114\\nvalue = [112, 2]'),\n",
              " Text(20.65759763832928, 118.9125, 'X[11] <= -0.552\\ngini = 0.165\\nsamples = 22\\nvalue = [20, 2]'),\n",
              " Text(20.51513144772011, 112.11749999999999, 'gini = 0.0\\nsamples = 17\\nvalue = [17, 0]'),\n",
              " Text(20.800063828938445, 112.11749999999999, 'X[11] <= -0.519\\ngini = 0.48\\nsamples = 5\\nvalue = [3, 2]'),\n",
              " Text(20.65759763832928, 105.3225, 'gini = 0.0\\nsamples = 2\\nvalue = [0, 2]'),\n",
              " Text(20.94253001954761, 105.3225, 'gini = 0.0\\nsamples = 3\\nvalue = [3, 0]'),\n",
              " Text(20.94253001954761, 118.9125, 'gini = 0.0\\nsamples = 92\\nvalue = [92, 0]'),\n",
              " Text(21.369928591375114, 125.7075, 'X[3] <= 0.368\\ngini = 0.003\\nsamples = 1287\\nvalue = [1285, 2]'),\n",
              " Text(21.227462400765948, 118.9125, 'gini = 0.0\\nsamples = 872\\nvalue = [872, 0]'),\n",
              " Text(21.51239478198428, 118.9125, 'X[1] <= -0.868\\ngini = 0.01\\nsamples = 415\\nvalue = [413, 2]'),\n",
              " Text(21.369928591375114, 112.11749999999999, 'X[10] <= 0.99\\ngini = 0.081\\nsamples = 47\\nvalue = [45, 2]'),\n",
              " Text(21.227462400765948, 105.3225, 'gini = 0.0\\nsamples = 31\\nvalue = [31, 0]'),\n",
              " Text(21.51239478198428, 105.3225, 'X[8] <= 0.401\\ngini = 0.219\\nsamples = 16\\nvalue = [14, 2]'),\n",
              " Text(21.369928591375114, 98.5275, 'gini = 0.0\\nsamples = 14\\nvalue = [14, 0]'),\n",
              " Text(21.65486097259345, 98.5275, 'gini = 0.0\\nsamples = 2\\nvalue = [0, 2]'),\n",
              " Text(21.65486097259345, 112.11749999999999, 'gini = 0.0\\nsamples = 368\\nvalue = [368, 0]'),\n",
              " Text(26.859328998284596, 146.0925, 'X[6] <= -0.112\\ngini = 0.007\\nsamples = 6015\\nvalue = [5994, 21]'),\n",
              " Text(24.156923445166953, 139.2975, 'X[9] <= -1.479\\ngini = 0.012\\nsamples = 3063\\nvalue = [3045, 18]'),\n",
              " Text(22.082259544420953, 132.5025, 'X[10] <= 0.325\\ngini = 0.074\\nsamples = 78\\nvalue = [75, 3]'),\n",
              " Text(21.939793353811783, 125.7075, 'gini = 0.0\\nsamples = 70\\nvalue = [70, 0]'),\n",
              " Text(22.22472573503012, 125.7075, 'X[11] <= -0.566\\ngini = 0.469\\nsamples = 8\\nvalue = [5, 3]'),\n",
              " Text(22.082259544420953, 118.9125, 'X[5] <= -0.228\\ngini = 0.408\\nsamples = 7\\nvalue = [5, 2]'),\n",
              " Text(21.939793353811783, 112.11749999999999, 'gini = 0.0\\nsamples = 1\\nvalue = [0, 1]'),\n",
              " Text(22.22472573503012, 112.11749999999999, 'X[5] <= 2.779\\ngini = 0.278\\nsamples = 6\\nvalue = [5, 1]'),\n",
              " Text(22.082259544420953, 105.3225, 'gini = 0.0\\nsamples = 5\\nvalue = [5, 0]'),\n",
              " Text(22.367191925639286, 105.3225, 'gini = 0.0\\nsamples = 1\\nvalue = [0, 1]'),\n",
              " Text(22.367191925639286, 118.9125, 'gini = 0.0\\nsamples = 1\\nvalue = [0, 1]'),\n",
              " Text(26.231587345912953, 132.5025, 'X[9] <= 0.324\\ngini = 0.01\\nsamples = 2985\\nvalue = [2970, 15]'),\n",
              " Text(24.53980133242909, 125.7075, 'X[0] <= -0.794\\ngini = 0.019\\nsamples = 1281\\nvalue = [1269, 12]'),\n",
              " Text(23.57815454581721, 118.9125, 'X[10] <= -0.008\\ngini = 0.057\\nsamples = 203\\nvalue = [197, 6]'),\n",
              " Text(22.937056688075955, 112.11749999999999, 'X[5] <= 0.318\\ngini = 0.035\\nsamples = 167\\nvalue = [164, 3]'),\n",
              " Text(22.652124306857623, 105.3225, 'X[11] <= -0.507\\ngini = 0.013\\nsamples = 149\\nvalue = [148, 1]'),\n",
              " Text(22.509658116248453, 98.5275, 'gini = 0.0\\nsamples = 132\\nvalue = [132, 0]'),\n",
              " Text(22.79459049746679, 98.5275, 'X[0] <= -1.171\\ngini = 0.111\\nsamples = 17\\nvalue = [16, 1]'),\n",
              " Text(22.652124306857623, 91.7325, 'X[5] <= -0.265\\ngini = 0.444\\nsamples = 3\\nvalue = [2, 1]'),\n",
              " Text(22.509658116248453, 84.9375, 'gini = 0.0\\nsamples = 1\\nvalue = [0, 1]'),\n",
              " Text(22.79459049746679, 84.9375, 'gini = 0.0\\nsamples = 2\\nvalue = [2, 0]'),\n",
              " Text(22.937056688075955, 91.7325, 'gini = 0.0\\nsamples = 14\\nvalue = [14, 0]'),\n",
              " Text(23.221989069294292, 105.3225, 'X[5] <= 0.323\\ngini = 0.198\\nsamples = 18\\nvalue = [16, 2]'),\n",
              " Text(23.079522878685125, 98.5275, 'gini = 0.0\\nsamples = 1\\nvalue = [0, 1]'),\n",
              " Text(23.36445525990346, 98.5275, 'X[1] <= -0.715\\ngini = 0.111\\nsamples = 17\\nvalue = [16, 1]'),\n",
              " Text(23.221989069294292, 91.7325, 'X[0] <= -1.171\\ngini = 0.5\\nsamples = 2\\nvalue = [1, 1]'),\n",
              " Text(23.079522878685125, 84.9375, 'gini = 0.0\\nsamples = 1\\nvalue = [1, 0]'),\n",
              " Text(23.36445525990346, 84.9375, 'gini = 0.0\\nsamples = 1\\nvalue = [0, 1]'),\n",
              " Text(23.506921450512625, 91.7325, 'gini = 0.0\\nsamples = 15\\nvalue = [15, 0]'),\n",
              " Text(24.219252403558464, 112.11749999999999, 'X[10] <= 0.657\\ngini = 0.153\\nsamples = 36\\nvalue = [33, 3]'),\n",
              " Text(24.076786212949298, 105.3225, 'X[11] <= -0.585\\ngini = 0.375\\nsamples = 12\\nvalue = [9, 3]'),\n",
              " Text(23.934320022340128, 98.5275, 'X[9] <= -0.758\\ngini = 0.5\\nsamples = 6\\nvalue = [3, 3]'),\n",
              " Text(23.79185383173096, 91.7325, 'gini = 0.0\\nsamples = 2\\nvalue = [0, 2]'),\n",
              " Text(24.076786212949298, 91.7325, 'X[0] <= -1.218\\ngini = 0.375\\nsamples = 4\\nvalue = [3, 1]'),\n",
              " Text(23.934320022340128, 84.9375, 'gini = 0.0\\nsamples = 1\\nvalue = [0, 1]'),\n",
              " Text(24.219252403558464, 84.9375, 'gini = 0.0\\nsamples = 3\\nvalue = [3, 0]'),\n",
              " Text(24.219252403558464, 98.5275, 'gini = 0.0\\nsamples = 6\\nvalue = [6, 0]'),\n",
              " Text(24.36171859416763, 105.3225, 'gini = 0.0\\nsamples = 24\\nvalue = [24, 0]'),\n",
              " Text(25.50144811904097, 118.9125, 'X[5] <= 0.161\\ngini = 0.011\\nsamples = 1078\\nvalue = [1072, 6]'),\n",
              " Text(24.9315833566043, 112.11749999999999, 'X[1] <= 1.577\\ngini = 0.005\\nsamples = 824\\nvalue = [822, 2]'),\n",
              " Text(24.646650975385967, 105.3225, 'X[10] <= 0.325\\ngini = 0.003\\nsamples = 789\\nvalue = [788, 1]'),\n",
              " Text(24.504184784776797, 98.5275, 'gini = 0.0\\nsamples = 705\\nvalue = [705, 0]'),\n",
              " Text(24.789117165995133, 98.5275, 'X[10] <= 0.657\\ngini = 0.024\\nsamples = 84\\nvalue = [83, 1]'),\n",
              " Text(24.646650975385967, 91.7325, 'X[5] <= -0.403\\ngini = 0.444\\nsamples = 3\\nvalue = [2, 1]'),\n",
              " Text(24.504184784776797, 84.9375, 'gini = 0.0\\nsamples = 1\\nvalue = [0, 1]'),\n",
              " Text(24.789117165995133, 84.9375, 'gini = 0.0\\nsamples = 2\\nvalue = [2, 0]'),\n",
              " Text(24.9315833566043, 91.7325, 'gini = 0.0\\nsamples = 81\\nvalue = [81, 0]'),\n",
              " Text(25.216515737822636, 105.3225, 'X[0] <= 1.654\\ngini = 0.056\\nsamples = 35\\nvalue = [34, 1]'),\n",
              " Text(25.07404954721347, 98.5275, 'gini = 0.0\\nsamples = 33\\nvalue = [33, 0]'),\n",
              " Text(25.358981928431803, 98.5275, 'X[10] <= -0.507\\ngini = 0.5\\nsamples = 2\\nvalue = [1, 1]'),\n",
              " Text(25.216515737822636, 91.7325, 'gini = 0.0\\nsamples = 1\\nvalue = [0, 1]'),\n",
              " Text(25.50144811904097, 91.7325, 'gini = 0.0\\nsamples = 1\\nvalue = [1, 0]'),\n",
              " Text(26.07131288147764, 112.11749999999999, 'X[5] <= 0.162\\ngini = 0.031\\nsamples = 254\\nvalue = [250, 4]'),\n",
              " Text(25.928846690868472, 105.3225, 'gini = 0.0\\nsamples = 1\\nvalue = [0, 1]'),\n",
              " Text(26.21377907208681, 105.3225, 'X[10] <= 0.99\\ngini = 0.023\\nsamples = 253\\nvalue = [250, 3]'),\n",
              " Text(25.928846690868472, 98.5275, 'X[5] <= 0.435\\ngini = 0.016\\nsamples = 243\\nvalue = [241, 2]'),\n",
              " Text(25.786380500259305, 91.7325, 'X[5] <= 0.429\\ngini = 0.056\\nsamples = 70\\nvalue = [68, 2]'),\n",
              " Text(25.64391430965014, 84.9375, 'X[0] <= -0.324\\ngini = 0.029\\nsamples = 69\\nvalue = [68, 1]'),\n",
              " Text(25.50144811904097, 78.14250000000001, 'X[0] <= -0.418\\ngini = 0.219\\nsamples = 8\\nvalue = [7, 1]'),\n",
              " Text(25.358981928431803, 71.3475, 'gini = 0.0\\nsamples = 6\\nvalue = [6, 0]'),\n",
              " Text(25.64391430965014, 71.3475, 'X[9] <= -0.578\\ngini = 0.5\\nsamples = 2\\nvalue = [1, 1]'),\n",
              " Text(25.50144811904097, 64.55250000000001, 'gini = 0.0\\nsamples = 1\\nvalue = [1, 0]'),\n",
              " Text(25.786380500259305, 64.55250000000001, 'gini = 0.0\\nsamples = 1\\nvalue = [0, 1]'),\n",
              " Text(25.786380500259305, 78.14250000000001, 'gini = 0.0\\nsamples = 61\\nvalue = [61, 0]'),\n",
              " Text(25.928846690868472, 84.9375, 'gini = 0.0\\nsamples = 1\\nvalue = [0, 1]'),\n",
              " Text(26.07131288147764, 91.7325, 'gini = 0.0\\nsamples = 173\\nvalue = [173, 0]'),\n",
              " Text(26.49871145330514, 98.5275, 'X[9] <= -0.217\\ngini = 0.18\\nsamples = 10\\nvalue = [9, 1]'),\n",
              " Text(26.356245262695975, 91.7325, 'gini = 0.0\\nsamples = 1\\nvalue = [0, 1]'),\n",
              " Text(26.64117764391431, 91.7325, 'gini = 0.0\\nsamples = 9\\nvalue = [9, 0]'),\n",
              " Text(27.923373359396816, 125.7075, 'X[0] <= 1.654\\ngini = 0.004\\nsamples = 1704\\nvalue = [1701, 3]'),\n",
              " Text(27.638440978178483, 118.9125, 'X[0] <= -0.606\\ngini = 0.002\\nsamples = 1634\\nvalue = [1632, 2]'),\n",
              " Text(27.495974787569313, 112.11749999999999, 'X[1] <= -1.173\\ngini = 0.01\\nsamples = 404\\nvalue = [402, 2]'),\n",
              " Text(27.21104240635098, 105.3225, 'X[10] <= -0.673\\ngini = 0.1\\nsamples = 19\\nvalue = [18, 1]'),\n",
              " Text(27.06857621574181, 98.5275, 'X[10] <= -1.005\\ngini = 0.375\\nsamples = 4\\nvalue = [3, 1]'),\n",
              " Text(26.926110025132644, 91.7325, 'gini = 0.0\\nsamples = 3\\nvalue = [3, 0]'),\n",
              " Text(27.21104240635098, 91.7325, 'gini = 0.0\\nsamples = 1\\nvalue = [0, 1]'),\n",
              " Text(27.353508596960147, 98.5275, 'gini = 0.0\\nsamples = 15\\nvalue = [15, 0]'),\n",
              " Text(27.78090716878765, 105.3225, 'X[0] <= -0.7\\ngini = 0.005\\nsamples = 385\\nvalue = [384, 1]'),\n",
              " Text(27.638440978178483, 98.5275, 'gini = 0.0\\nsamples = 326\\nvalue = [326, 0]'),\n",
              " Text(27.923373359396816, 98.5275, 'X[9] <= 0.564\\ngini = 0.033\\nsamples = 59\\nvalue = [58, 1]'),\n",
              " Text(27.78090716878765, 91.7325, 'X[11] <= -0.676\\ngini = 0.142\\nsamples = 13\\nvalue = [12, 1]'),\n",
              " Text(27.638440978178483, 84.9375, 'X[1] <= 0.507\\ngini = 0.5\\nsamples = 2\\nvalue = [1, 1]'),\n",
              " Text(27.495974787569313, 78.14250000000001, 'gini = 0.0\\nsamples = 1\\nvalue = [1, 0]'),\n",
              " Text(27.78090716878765, 78.14250000000001, 'gini = 0.0\\nsamples = 1\\nvalue = [0, 1]'),\n",
              " Text(27.923373359396816, 84.9375, 'gini = 0.0\\nsamples = 11\\nvalue = [11, 0]'),\n",
              " Text(28.065839550005983, 91.7325, 'gini = 0.0\\nsamples = 46\\nvalue = [46, 0]'),\n",
              " Text(27.78090716878765, 112.11749999999999, 'gini = 0.0\\nsamples = 1230\\nvalue = [1230, 0]'),\n",
              " Text(28.208305740615153, 118.9125, 'X[11] <= -0.533\\ngini = 0.028\\nsamples = 70\\nvalue = [69, 1]'),\n",
              " Text(28.065839550005983, 112.11749999999999, 'gini = 0.0\\nsamples = 63\\nvalue = [63, 0]'),\n",
              " Text(28.35077193122432, 112.11749999999999, 'X[9] <= 0.564\\ngini = 0.245\\nsamples = 7\\nvalue = [6, 1]'),\n",
              " Text(28.208305740615153, 105.3225, 'gini = 0.0\\nsamples = 1\\nvalue = [0, 1]'),\n",
              " Text(28.493238121833485, 105.3225, 'gini = 0.0\\nsamples = 6\\nvalue = [6, 0]'),\n",
              " Text(29.561734551402242, 139.2975, 'X[10] <= -0.673\\ngini = 0.002\\nsamples = 2952\\nvalue = [2949, 3]'),\n",
              " Text(28.920636693660988, 132.5025, 'X[0] <= -1.077\\ngini = 0.011\\nsamples = 360\\nvalue = [358, 2]'),\n",
              " Text(28.635704312442655, 125.7075, 'X[5] <= 0.013\\ngini = 0.105\\nsamples = 18\\nvalue = [17, 1]'),\n",
              " Text(28.493238121833485, 118.9125, 'gini = 0.0\\nsamples = 17\\nvalue = [17, 0]'),\n",
              " Text(28.778170503051822, 118.9125, 'gini = 0.0\\nsamples = 1\\nvalue = [0, 1]'),\n",
              " Text(29.205569074879325, 125.7075, 'X[9] <= 1.285\\ngini = 0.006\\nsamples = 342\\nvalue = [341, 1]'),\n",
              " Text(29.063102884270155, 118.9125, 'gini = 0.0\\nsamples = 288\\nvalue = [288, 0]'),\n",
              " Text(29.34803526548849, 118.9125, 'X[10] <= -1.005\\ngini = 0.036\\nsamples = 54\\nvalue = [53, 1]'),\n",
              " Text(29.205569074879325, 112.11749999999999, 'gini = 0.0\\nsamples = 52\\nvalue = [52, 0]'),\n",
              " Text(29.490501456097657, 112.11749999999999, 'X[5] <= -0.467\\ngini = 0.5\\nsamples = 2\\nvalue = [1, 1]'),\n",
              " Text(29.34803526548849, 105.3225, 'gini = 0.0\\nsamples = 1\\nvalue = [1, 0]'),\n",
              " Text(29.632967646706824, 105.3225, 'gini = 0.0\\nsamples = 1\\nvalue = [0, 1]'),\n",
              " Text(30.202832409143497, 132.5025, 'X[2] <= -1.098\\ngini = 0.001\\nsamples = 2592\\nvalue = [2591, 1]'),\n",
              " Text(30.060366218534327, 125.7075, 'X[9] <= -1.118\\ngini = 0.007\\nsamples = 279\\nvalue = [278, 1]'),\n",
              " Text(29.91790002792516, 118.9125, 'X[9] <= -1.238\\ngini = 0.054\\nsamples = 36\\nvalue = [35, 1]'),\n",
              " Text(29.775433837315994, 112.11749999999999, 'gini = 0.0\\nsamples = 29\\nvalue = [29, 0]'),\n",
              " Text(30.060366218534327, 112.11749999999999, 'X[1] <= -1.173\\ngini = 0.245\\nsamples = 7\\nvalue = [6, 1]'),\n",
              " Text(29.91790002792516, 105.3225, 'gini = 0.0\\nsamples = 1\\nvalue = [0, 1]'),\n",
              " Text(30.202832409143497, 105.3225, 'gini = 0.0\\nsamples = 6\\nvalue = [6, 0]'),\n",
              " Text(30.202832409143497, 118.9125, 'gini = 0.0\\nsamples = 243\\nvalue = [243, 0]'),\n",
              " Text(30.345298599752663, 125.7075, 'gini = 0.0\\nsamples = 2313\\nvalue = [2313, 0]'),\n",
              " Text(27.2867275701121, 152.8875, 'X[15] <= -1.072\\ngini = 0.231\\nsamples = 15\\nvalue = [13, 2]'),\n",
              " Text(27.144261379502932, 146.0925, 'gini = 0.0\\nsamples = 13\\nvalue = [13, 0]'),\n",
              " Text(27.429193760721265, 146.0925, 'gini = 0.0\\nsamples = 2\\nvalue = [0, 2]'),\n",
              " Text(46.53684550404915, 159.6825, 'X[8] <= 0.957\\ngini = 0.052\\nsamples = 5421\\nvalue = [5276, 145]'),\n",
              " Text(38.08174143295967, 152.8875, 'X[9] <= -1.479\\ngini = 0.082\\nsamples = 3261\\nvalue = [3122, 139]'),\n",
              " Text(32.143934256193404, 146.0925, 'X[10] <= -0.507\\ngini = 0.299\\nsamples = 164\\nvalue = [134, 30]'),\n",
              " Text(31.342561934016835, 139.2975, 'X[5] <= 0.864\\ngini = 0.079\\nsamples = 97\\nvalue = [93, 4]'),\n",
              " Text(31.0576295527985, 132.5025, 'X[5] <= -0.379\\ngini = 0.044\\nsamples = 88\\nvalue = [86, 2]'),\n",
              " Text(30.915163362189332, 125.7075, 'X[5] <= -0.382\\ngini = 0.114\\nsamples = 33\\nvalue = [31, 2]'),\n",
              " Text(30.772697171580166, 118.9125, 'X[0] <= -1.077\\ngini = 0.061\\nsamples = 32\\nvalue = [31, 1]'),\n",
              " Text(30.630230980970996, 112.11749999999999, 'X[11] <= -0.286\\ngini = 0.32\\nsamples = 5\\nvalue = [4, 1]'),\n",
              " Text(30.48776479036183, 105.3225, 'gini = 0.0\\nsamples = 1\\nvalue = [0, 1]'),\n",
              " Text(30.772697171580166, 105.3225, 'gini = 0.0\\nsamples = 4\\nvalue = [4, 0]'),\n",
              " Text(30.915163362189332, 112.11749999999999, 'gini = 0.0\\nsamples = 27\\nvalue = [27, 0]'),\n",
              " Text(31.0576295527985, 118.9125, 'gini = 0.0\\nsamples = 1\\nvalue = [0, 1]'),\n",
              " Text(31.20009574340767, 125.7075, 'gini = 0.0\\nsamples = 55\\nvalue = [55, 0]'),\n",
              " Text(31.627494315235168, 132.5025, 'X[5] <= 1.571\\ngini = 0.346\\nsamples = 9\\nvalue = [7, 2]'),\n",
              " Text(31.485028124626, 125.7075, 'X[11] <= -0.311\\ngini = 0.444\\nsamples = 3\\nvalue = [1, 2]'),\n",
              " Text(31.342561934016835, 118.9125, 'gini = 0.0\\nsamples = 1\\nvalue = [1, 0]'),\n",
              " Text(31.627494315235168, 118.9125, 'gini = 0.0\\nsamples = 2\\nvalue = [0, 2]'),\n",
              " Text(31.769960505844338, 125.7075, 'gini = 0.0\\nsamples = 6\\nvalue = [6, 0]'),\n",
              " Text(32.945306578369966, 139.2975, 'X[3] <= 0.368\\ngini = 0.475\\nsamples = 67\\nvalue = [41, 26]'),\n",
              " Text(32.19735907767184, 132.5025, 'X[5] <= -0.425\\ngini = 0.496\\nsamples = 35\\nvalue = [16, 19]'),\n",
              " Text(32.05489288706267, 125.7075, 'gini = 0.0\\nsamples = 5\\nvalue = [5, 0]'),\n",
              " Text(32.339825268281004, 125.7075, 'X[11] <= -0.457\\ngini = 0.464\\nsamples = 30\\nvalue = [11, 19]'),\n",
              " Text(32.19735907767184, 118.9125, 'gini = 0.0\\nsamples = 2\\nvalue = [2, 0]'),\n",
              " Text(32.482291458890174, 118.9125, 'X[7] <= 0.926\\ngini = 0.436\\nsamples = 28\\nvalue = [9, 19]'),\n",
              " Text(32.339825268281004, 112.11749999999999, 'X[11] <= -0.193\\ngini = 0.393\\nsamples = 26\\nvalue = [7, 19]'),\n",
              " Text(32.05489288706267, 105.3225, 'X[11] <= -0.375\\ngini = 0.266\\nsamples = 19\\nvalue = [3, 16]'),\n",
              " Text(31.912426696453505, 98.5275, 'X[1] <= 0.355\\ngini = 0.49\\nsamples = 7\\nvalue = [3, 4]'),\n",
              " Text(31.769960505844338, 91.7325, 'X[11] <= -0.432\\ngini = 0.375\\nsamples = 4\\nvalue = [3, 1]'),\n",
              " Text(31.627494315235168, 84.9375, 'gini = 0.0\\nsamples = 1\\nvalue = [0, 1]'),\n",
              " Text(31.912426696453505, 84.9375, 'gini = 0.0\\nsamples = 3\\nvalue = [3, 0]'),\n",
              " Text(32.05489288706267, 91.7325, 'gini = 0.0\\nsamples = 3\\nvalue = [0, 3]'),\n",
              " Text(32.19735907767184, 98.5275, 'gini = 0.0\\nsamples = 12\\nvalue = [0, 12]'),\n",
              " Text(32.624757649499344, 105.3225, 'X[11] <= -0.171\\ngini = 0.49\\nsamples = 7\\nvalue = [4, 3]'),\n",
              " Text(32.482291458890174, 98.5275, 'gini = 0.0\\nsamples = 3\\nvalue = [3, 0]'),\n",
              " Text(32.76722384010851, 98.5275, 'X[11] <= -0.15\\ngini = 0.375\\nsamples = 4\\nvalue = [1, 3]'),\n",
              " Text(32.624757649499344, 91.7325, 'gini = 0.0\\nsamples = 3\\nvalue = [0, 3]'),\n",
              " Text(32.90969003071768, 91.7325, 'gini = 0.0\\nsamples = 1\\nvalue = [1, 0]'),\n",
              " Text(32.624757649499344, 112.11749999999999, 'gini = 0.0\\nsamples = 2\\nvalue = [2, 0]'),\n",
              " Text(33.6932540790681, 132.5025, 'X[11] <= -0.201\\ngini = 0.342\\nsamples = 32\\nvalue = [25, 7]'),\n",
              " Text(33.55078788845893, 125.7075, 'X[12] <= 0.399\\ngini = 0.278\\nsamples = 30\\nvalue = [25, 5]'),\n",
              " Text(33.408321697849765, 118.9125, 'X[11] <= -0.455\\ngini = 0.238\\nsamples = 29\\nvalue = [25, 4]'),\n",
              " Text(33.265855507240595, 112.11749999999999, 'gini = 0.0\\nsamples = 1\\nvalue = [0, 1]'),\n",
              " Text(33.55078788845893, 112.11749999999999, 'X[2] <= -1.098\\ngini = 0.191\\nsamples = 28\\nvalue = [25, 3]'),\n",
              " Text(33.19462241193601, 105.3225, 'X[0] <= -0.606\\ngini = 0.5\\nsamples = 2\\nvalue = [1, 1]'),\n",
              " Text(33.05215622132685, 98.5275, 'gini = 0.0\\nsamples = 1\\nvalue = [0, 1]'),\n",
              " Text(33.33708860254518, 98.5275, 'gini = 0.0\\nsamples = 1\\nvalue = [1, 0]'),\n",
              " Text(33.906953364981845, 105.3225, 'X[0] <= 0.901\\ngini = 0.142\\nsamples = 26\\nvalue = [24, 2]'),\n",
              " Text(33.62202098376351, 98.5275, 'X[10] <= 0.824\\ngini = 0.08\\nsamples = 24\\nvalue = [23, 1]'),\n",
              " Text(33.47955479315435, 91.7325, 'gini = 0.0\\nsamples = 20\\nvalue = [20, 0]'),\n",
              " Text(33.76448717437268, 91.7325, 'X[5] <= -0.346\\ngini = 0.375\\nsamples = 4\\nvalue = [3, 1]'),\n",
              " Text(33.62202098376351, 84.9375, 'gini = 0.0\\nsamples = 1\\nvalue = [0, 1]'),\n",
              " Text(33.906953364981845, 84.9375, 'gini = 0.0\\nsamples = 3\\nvalue = [3, 0]'),\n",
              " Text(34.191885746200185, 98.5275, 'X[11] <= -0.346\\ngini = 0.5\\nsamples = 2\\nvalue = [1, 1]'),\n",
              " Text(34.049419555591015, 91.7325, 'gini = 0.0\\nsamples = 1\\nvalue = [1, 0]'),\n",
              " Text(34.33435193680935, 91.7325, 'gini = 0.0\\nsamples = 1\\nvalue = [0, 1]'),\n",
              " Text(33.6932540790681, 118.9125, 'gini = 0.0\\nsamples = 1\\nvalue = [0, 1]'),\n",
              " Text(33.83572026967727, 125.7075, 'gini = 0.0\\nsamples = 2\\nvalue = [0, 2]'),\n",
              " Text(44.01954860972594, 146.0925, 'X[5] <= -0.351\\ngini = 0.068\\nsamples = 3097\\nvalue = [2988, 109]'),\n",
              " Text(38.52820042286672, 139.2975, 'X[12] <= 5.402\\ngini = 0.029\\nsamples = 1417\\nvalue = [1396, 21]'),\n",
              " Text(37.50422467786333, 132.5025, 'X[10] <= -0.008\\ngini = 0.028\\nsamples = 1413\\nvalue = [1393, 20]'),\n",
              " Text(35.88367175968405, 125.7075, 'X[0] <= -1.265\\ngini = 0.014\\nsamples = 1022\\nvalue = [1015, 7]'),\n",
              " Text(35.189149080464354, 118.9125, 'X[10] <= -0.673\\ngini = 0.071\\nsamples = 54\\nvalue = [52, 2]'),\n",
              " Text(35.04668288985519, 112.11749999999999, 'X[11] <= -0.224\\ngini = 0.408\\nsamples = 7\\nvalue = [5, 2]'),\n",
              " Text(34.90421669924602, 105.3225, 'X[1] <= -0.715\\ngini = 0.278\\nsamples = 6\\nvalue = [5, 1]'),\n",
              " Text(34.76175050863685, 98.5275, 'X[6] <= -0.112\\ngini = 0.5\\nsamples = 2\\nvalue = [1, 1]'),\n",
              " Text(34.61928431802769, 91.7325, 'gini = 0.0\\nsamples = 1\\nvalue = [0, 1]'),\n",
              " Text(34.90421669924602, 91.7325, 'gini = 0.0\\nsamples = 1\\nvalue = [1, 0]'),\n",
              " Text(35.04668288985519, 98.5275, 'gini = 0.0\\nsamples = 4\\nvalue = [4, 0]'),\n",
              " Text(35.189149080464354, 105.3225, 'gini = 0.0\\nsamples = 1\\nvalue = [0, 1]'),\n",
              " Text(35.331615271073524, 112.11749999999999, 'gini = 0.0\\nsamples = 47\\nvalue = [47, 0]'),\n",
              " Text(36.578194438903736, 118.9125, 'X[11] <= -0.43\\ngini = 0.01\\nsamples = 968\\nvalue = [963, 5]'),\n",
              " Text(35.972713128814775, 112.11749999999999, 'X[1] <= 1.577\\ngini = 0.037\\nsamples = 160\\nvalue = [157, 3]'),\n",
              " Text(35.61654765229186, 105.3225, 'X[0] <= -0.983\\ngini = 0.026\\nsamples = 154\\nvalue = [152, 2]'),\n",
              " Text(35.331615271073524, 98.5275, 'X[5] <= -0.376\\ngini = 0.245\\nsamples = 7\\nvalue = [6, 1]'),\n",
              " Text(35.189149080464354, 91.7325, 'gini = 0.0\\nsamples = 6\\nvalue = [6, 0]'),\n",
              " Text(35.474081461682694, 91.7325, 'gini = 0.0\\nsamples = 1\\nvalue = [0, 1]'),\n",
              " Text(35.90148003351019, 98.5275, 'X[11] <= -0.434\\ngini = 0.014\\nsamples = 147\\nvalue = [146, 1]'),\n",
              " Text(35.75901384290103, 91.7325, 'gini = 0.0\\nsamples = 135\\nvalue = [135, 0]'),\n",
              " Text(36.04394622411936, 91.7325, 'X[9] <= -0.638\\ngini = 0.153\\nsamples = 12\\nvalue = [11, 1]'),\n",
              " Text(35.90148003351019, 84.9375, 'X[0] <= 0.901\\ngini = 0.5\\nsamples = 2\\nvalue = [1, 1]'),\n",
              " Text(35.75901384290103, 78.14250000000001, 'gini = 0.0\\nsamples = 1\\nvalue = [0, 1]'),\n",
              " Text(36.04394622411936, 78.14250000000001, 'gini = 0.0\\nsamples = 1\\nvalue = [1, 0]'),\n",
              " Text(36.18641241472853, 84.9375, 'gini = 0.0\\nsamples = 10\\nvalue = [10, 0]'),\n",
              " Text(36.32887860533769, 105.3225, 'X[5] <= -0.395\\ngini = 0.278\\nsamples = 6\\nvalue = [5, 1]'),\n",
              " Text(36.18641241472853, 98.5275, 'gini = 0.0\\nsamples = 5\\nvalue = [5, 0]'),\n",
              " Text(36.47134479594686, 98.5275, 'gini = 0.0\\nsamples = 1\\nvalue = [0, 1]'),\n",
              " Text(37.1836757489927, 112.11749999999999, 'X[12] <= 1.206\\ngini = 0.005\\nsamples = 808\\nvalue = [806, 2]'),\n",
              " Text(36.898743367774365, 105.3225, 'X[9] <= -1.118\\ngini = 0.003\\nsamples = 740\\nvalue = [739, 1]'),\n",
              " Text(36.756277177165195, 98.5275, 'X[0] <= -0.653\\ngini = 0.029\\nsamples = 69\\nvalue = [68, 1]'),\n",
              " Text(36.61381098655603, 91.7325, 'X[5] <= -0.397\\ngini = 0.111\\nsamples = 17\\nvalue = [16, 1]'),\n",
              " Text(36.47134479594686, 84.9375, 'gini = 0.0\\nsamples = 15\\nvalue = [15, 0]'),\n",
              " Text(36.756277177165195, 84.9375, 'X[7] <= 0.926\\ngini = 0.5\\nsamples = 2\\nvalue = [1, 1]'),\n",
              " Text(36.61381098655603, 78.14250000000001, 'gini = 0.0\\nsamples = 1\\nvalue = [0, 1]'),\n",
              " Text(36.898743367774365, 78.14250000000001, 'gini = 0.0\\nsamples = 1\\nvalue = [1, 0]'),\n",
              " Text(36.898743367774365, 91.7325, 'gini = 0.0\\nsamples = 52\\nvalue = [52, 0]'),\n",
              " Text(37.041209558383535, 98.5275, 'gini = 0.0\\nsamples = 671\\nvalue = [671, 0]'),\n",
              " Text(37.46860813021103, 105.3225, 'X[9] <= -0.157\\ngini = 0.029\\nsamples = 68\\nvalue = [67, 1]'),\n",
              " Text(37.32614193960187, 98.5275, 'X[2] <= 0.546\\ngini = 0.219\\nsamples = 8\\nvalue = [7, 1]'),\n",
              " Text(37.1836757489927, 91.7325, 'gini = 0.0\\nsamples = 7\\nvalue = [7, 0]'),\n",
              " Text(37.46860813021103, 91.7325, 'gini = 0.0\\nsamples = 1\\nvalue = [0, 1]'),\n",
              " Text(37.6110743208202, 98.5275, 'gini = 0.0\\nsamples = 60\\nvalue = [60, 0]'),\n",
              " Text(39.124777596042605, 125.7075, 'X[10] <= 0.657\\ngini = 0.064\\nsamples = 391\\nvalue = [378, 13]'),\n",
              " Text(38.32340527386604, 118.9125, 'X[0] <= 0.336\\ngini = 0.486\\nsamples = 12\\nvalue = [7, 5]'),\n",
              " Text(38.180939083256874, 112.11749999999999, 'X[0] <= -0.7\\ngini = 0.469\\nsamples = 8\\nvalue = [3, 5]'),\n",
              " Text(38.038472892647704, 105.3225, 'X[11] <= -0.389\\ngini = 0.375\\nsamples = 4\\nvalue = [3, 1]'),\n",
              " Text(37.896006702038534, 98.5275, 'gini = 0.0\\nsamples = 1\\nvalue = [0, 1]'),\n",
              " Text(38.180939083256874, 98.5275, 'gini = 0.0\\nsamples = 3\\nvalue = [3, 0]'),\n",
              " Text(38.32340527386604, 105.3225, 'gini = 0.0\\nsamples = 4\\nvalue = [0, 4]'),\n",
              " Text(38.46587146447521, 112.11749999999999, 'gini = 0.0\\nsamples = 4\\nvalue = [4, 0]'),\n",
              " Text(39.926149918219174, 118.9125, 'X[9] <= 0.684\\ngini = 0.041\\nsamples = 379\\nvalue = [371, 8]'),\n",
              " Text(39.24943551282563, 112.11749999999999, 'X[8] <= -0.156\\ngini = 0.027\\nsamples = 360\\nvalue = [355, 5]'),\n",
              " Text(38.75080384569354, 105.3225, 'X[9] <= -1.359\\ngini = 0.012\\nsamples = 335\\nvalue = [333, 2]'),\n",
              " Text(38.46587146447521, 98.5275, 'X[5] <= -0.41\\ngini = 0.444\\nsamples = 3\\nvalue = [2, 1]'),\n",
              " Text(38.32340527386604, 91.7325, 'gini = 0.0\\nsamples = 2\\nvalue = [2, 0]'),\n",
              " Text(38.60833765508438, 91.7325, 'gini = 0.0\\nsamples = 1\\nvalue = [0, 1]'),\n",
              " Text(39.03573622691188, 98.5275, 'X[11] <= -0.406\\ngini = 0.006\\nsamples = 332\\nvalue = [331, 1]'),\n",
              " Text(38.89327003630271, 91.7325, 'X[11] <= -0.41\\ngini = 0.028\\nsamples = 70\\nvalue = [69, 1]'),\n",
              " Text(38.75080384569354, 84.9375, 'gini = 0.0\\nsamples = 65\\nvalue = [65, 0]'),\n",
              " Text(39.03573622691188, 84.9375, 'X[12] <= -0.408\\ngini = 0.32\\nsamples = 5\\nvalue = [4, 1]'),\n",
              " Text(38.89327003630271, 78.14250000000001, 'gini = 0.0\\nsamples = 3\\nvalue = [3, 0]'),\n",
              " Text(39.17820241752104, 78.14250000000001, 'X[9] <= -0.578\\ngini = 0.5\\nsamples = 2\\nvalue = [1, 1]'),\n",
              " Text(39.03573622691188, 71.3475, 'gini = 0.0\\nsamples = 1\\nvalue = [1, 0]'),\n",
              " Text(39.32066860813021, 71.3475, 'gini = 0.0\\nsamples = 1\\nvalue = [0, 1]'),\n",
              " Text(39.17820241752104, 91.7325, 'gini = 0.0\\nsamples = 262\\nvalue = [262, 0]'),\n",
              " Text(39.748067179957715, 105.3225, 'X[12] <= -0.408\\ngini = 0.211\\nsamples = 25\\nvalue = [22, 3]'),\n",
              " Text(39.605600989348545, 98.5275, 'X[0] <= -0.842\\ngini = 0.444\\nsamples = 9\\nvalue = [6, 3]'),\n",
              " Text(39.463134798739375, 91.7325, 'gini = 0.0\\nsamples = 1\\nvalue = [0, 1]'),\n",
              " Text(39.748067179957715, 91.7325, 'X[1] <= 1.577\\ngini = 0.375\\nsamples = 8\\nvalue = [6, 2]'),\n",
              " Text(39.605600989348545, 84.9375, 'X[5] <= -0.373\\ngini = 0.245\\nsamples = 7\\nvalue = [6, 1]'),\n",
              " Text(39.463134798739375, 78.14250000000001, 'gini = 0.0\\nsamples = 6\\nvalue = [6, 0]'),\n",
              " Text(39.748067179957715, 78.14250000000001, 'gini = 0.0\\nsamples = 1\\nvalue = [0, 1]'),\n",
              " Text(39.89053337056688, 84.9375, 'gini = 0.0\\nsamples = 1\\nvalue = [0, 1]'),\n",
              " Text(39.89053337056688, 98.5275, 'gini = 0.0\\nsamples = 16\\nvalue = [16, 0]'),\n",
              " Text(40.60286432361272, 112.11749999999999, 'X[1] <= -1.021\\ngini = 0.266\\nsamples = 19\\nvalue = [16, 3]'),\n",
              " Text(40.31793194239438, 105.3225, 'X[11] <= -0.253\\ngini = 0.444\\nsamples = 3\\nvalue = [1, 2]'),\n",
              " Text(40.17546575178522, 98.5275, 'gini = 0.0\\nsamples = 2\\nvalue = [0, 2]'),\n",
              " Text(40.46039813300355, 98.5275, 'gini = 0.0\\nsamples = 1\\nvalue = [1, 0]'),\n",
              " Text(40.887796704831054, 105.3225, 'X[1] <= 0.66\\ngini = 0.117\\nsamples = 16\\nvalue = [15, 1]'),\n",
              " Text(40.745330514221884, 98.5275, 'gini = 0.0\\nsamples = 12\\nvalue = [12, 0]'),\n",
              " Text(41.03026289544022, 98.5275, 'X[0] <= -0.794\\ngini = 0.375\\nsamples = 4\\nvalue = [3, 1]'),\n",
              " Text(40.887796704831054, 91.7325, 'gini = 0.0\\nsamples = 1\\nvalue = [0, 1]'),\n",
              " Text(41.17272908604939, 91.7325, 'gini = 0.0\\nsamples = 3\\nvalue = [3, 0]'),\n",
              " Text(39.55217616787011, 132.5025, 'X[11] <= -0.203\\ngini = 0.375\\nsamples = 4\\nvalue = [3, 1]'),\n",
              " Text(39.40970997726094, 125.7075, 'gini = 0.0\\nsamples = 3\\nvalue = [3, 0]'),\n",
              " Text(39.69464235847928, 125.7075, 'gini = 0.0\\nsamples = 1\\nvalue = [0, 1]'),\n",
              " Text(49.51089679658515, 139.2975, 'X[6] <= -0.112\\ngini = 0.099\\nsamples = 1680\\nvalue = [1592, 88]'),\n",
              " Text(45.976510950652255, 132.5025, 'X[10] <= -0.008\\ngini = 0.141\\nsamples = 953\\nvalue = [880, 73]'),\n",
              " Text(42.730953045837154, 125.7075, 'X[0] <= -1.36\\ngini = 0.095\\nsamples = 740\\nvalue = [703, 37]'),\n",
              " Text(41.45766146726772, 118.9125, 'X[5] <= -0.338\\ngini = 0.426\\nsamples = 13\\nvalue = [9, 4]'),\n",
              " Text(41.31519527665856, 112.11749999999999, 'gini = 0.0\\nsamples = 2\\nvalue = [0, 2]'),\n",
              " Text(41.60012765787689, 112.11749999999999, 'X[11] <= -0.16\\ngini = 0.298\\nsamples = 11\\nvalue = [9, 2]'),\n",
              " Text(41.45766146726772, 105.3225, 'X[5] <= 0.132\\ngini = 0.18\\nsamples = 10\\nvalue = [9, 1]'),\n",
              " Text(41.31519527665856, 98.5275, 'gini = 0.0\\nsamples = 7\\nvalue = [7, 0]'),\n",
              " Text(41.60012765787689, 98.5275, 'X[5] <= 0.287\\ngini = 0.444\\nsamples = 3\\nvalue = [2, 1]'),\n",
              " Text(41.45766146726772, 91.7325, 'gini = 0.0\\nsamples = 1\\nvalue = [0, 1]'),\n",
              " Text(41.74259384848606, 91.7325, 'gini = 0.0\\nsamples = 2\\nvalue = [2, 0]'),\n",
              " Text(41.74259384848606, 105.3225, 'gini = 0.0\\nsamples = 1\\nvalue = [0, 1]'),\n",
              " Text(44.00424462440659, 118.9125, 'X[10] <= -1.338\\ngini = 0.087\\nsamples = 727\\nvalue = [694, 33]'),\n",
              " Text(42.38369170622731, 112.11749999999999, 'X[15] <= -0.061\\ngini = 0.043\\nsamples = 406\\nvalue = [397, 9]'),\n",
              " Text(42.24122551561814, 105.3225, 'gini = 0.0\\nsamples = 1\\nvalue = [0, 1]'),\n",
              " Text(42.52615789683648, 105.3225, 'X[2] <= -1.098\\ngini = 0.039\\nsamples = 405\\nvalue = [397, 8]'),\n",
              " Text(42.16999242031356, 98.5275, 'X[12] <= -0.408\\ngini = 0.185\\nsamples = 29\\nvalue = [26, 3]'),\n",
              " Text(42.02752622970439, 91.7325, 'X[1] <= 0.66\\ngini = 0.375\\nsamples = 4\\nvalue = [1, 3]'),\n",
              " Text(41.88506003909522, 84.9375, 'gini = 0.0\\nsamples = 3\\nvalue = [0, 3]'),\n",
              " Text(42.16999242031356, 84.9375, 'gini = 0.0\\nsamples = 1\\nvalue = [1, 0]'),\n",
              " Text(42.312458610922725, 91.7325, 'gini = 0.0\\nsamples = 25\\nvalue = [25, 0]'),\n",
              " Text(42.8823233733594, 98.5275, 'X[5] <= 3.194\\ngini = 0.026\\nsamples = 376\\nvalue = [371, 5]'),\n",
              " Text(42.597390992141065, 91.7325, 'X[5] <= -0.041\\ngini = 0.022\\nsamples = 367\\nvalue = [363, 4]'),\n",
              " Text(42.454924801531895, 84.9375, 'gini = 0.0\\nsamples = 198\\nvalue = [198, 0]'),\n",
              " Text(42.73985718275023, 84.9375, 'X[5] <= -0.04\\ngini = 0.046\\nsamples = 169\\nvalue = [165, 4]'),\n",
              " Text(42.597390992141065, 78.14250000000001, 'gini = 0.0\\nsamples = 1\\nvalue = [0, 1]'),\n",
              " Text(42.8823233733594, 78.14250000000001, 'X[5] <= -0.024\\ngini = 0.035\\nsamples = 168\\nvalue = [165, 3]'),\n",
              " Text(42.454924801531895, 71.3475, 'X[5] <= -0.029\\ngini = 0.32\\nsamples = 5\\nvalue = [4, 1]'),\n",
              " Text(42.312458610922725, 64.55250000000001, 'gini = 0.0\\nsamples = 4\\nvalue = [4, 0]'),\n",
              " Text(42.597390992141065, 64.55250000000001, 'gini = 0.0\\nsamples = 1\\nvalue = [0, 1]'),\n",
              " Text(43.3097219451869, 71.3475, 'X[1] <= -1.173\\ngini = 0.024\\nsamples = 163\\nvalue = [161, 2]'),\n",
              " Text(42.8823233733594, 64.55250000000001, 'X[3] <= 0.368\\ngini = 0.18\\nsamples = 10\\nvalue = [9, 1]'),\n",
              " Text(42.73985718275023, 57.75749999999999, 'gini = 0.0\\nsamples = 7\\nvalue = [7, 0]'),\n",
              " Text(43.02478956396856, 57.75749999999999, 'X[5] <= 0.583\\ngini = 0.444\\nsamples = 3\\nvalue = [2, 1]'),\n",
              " Text(42.8823233733594, 50.962500000000006, 'gini = 0.0\\nsamples = 2\\nvalue = [2, 0]'),\n",
              " Text(43.16725575457773, 50.962500000000006, 'gini = 0.0\\nsamples = 1\\nvalue = [0, 1]'),\n",
              " Text(43.737120517014404, 64.55250000000001, 'X[5] <= 0.053\\ngini = 0.013\\nsamples = 153\\nvalue = [152, 1]'),\n",
              " Text(43.594654326405234, 57.75749999999999, 'X[5] <= 0.048\\ngini = 0.1\\nsamples = 19\\nvalue = [18, 1]'),\n",
              " Text(43.452188135796064, 50.962500000000006, 'gini = 0.0\\nsamples = 17\\nvalue = [17, 0]'),\n",
              " Text(43.737120517014404, 50.962500000000006, 'X[9] <= -0.638\\ngini = 0.5\\nsamples = 2\\nvalue = [1, 1]'),\n",
              " Text(43.594654326405234, 44.16749999999999, 'gini = 0.0\\nsamples = 1\\nvalue = [0, 1]'),\n",
              " Text(43.87958670762357, 44.16749999999999, 'gini = 0.0\\nsamples = 1\\nvalue = [1, 0]'),\n",
              " Text(43.87958670762357, 57.75749999999999, 'gini = 0.0\\nsamples = 134\\nvalue = [134, 0]'),\n",
              " Text(43.16725575457773, 91.7325, 'X[12] <= -0.408\\ngini = 0.198\\nsamples = 9\\nvalue = [8, 1]'),\n",
              " Text(43.02478956396856, 84.9375, 'gini = 0.0\\nsamples = 1\\nvalue = [0, 1]'),\n",
              " Text(43.3097219451869, 84.9375, 'gini = 0.0\\nsamples = 8\\nvalue = [8, 0]'),\n",
              " Text(45.62479754258587, 112.11749999999999, 'X[10] <= -0.673\\ngini = 0.138\\nsamples = 321\\nvalue = [297, 24]'),\n",
              " Text(44.59191766066941, 105.3225, 'X[9] <= -0.758\\ngini = 0.408\\nsamples = 70\\nvalue = [50, 20]'),\n",
              " Text(44.02205289823274, 98.5275, 'X[11] <= -0.434\\ngini = 0.177\\nsamples = 51\\nvalue = [46, 5]'),\n",
              " Text(43.737120517014404, 91.7325, 'X[0] <= -0.324\\ngini = 0.5\\nsamples = 4\\nvalue = [2, 2]'),\n",
              " Text(43.594654326405234, 84.9375, 'gini = 0.0\\nsamples = 2\\nvalue = [0, 2]'),\n",
              " Text(43.87958670762357, 84.9375, 'gini = 0.0\\nsamples = 2\\nvalue = [2, 0]'),\n",
              " Text(44.30698527945107, 91.7325, 'X[3] <= 0.368\\ngini = 0.12\\nsamples = 47\\nvalue = [44, 3]'),\n",
              " Text(44.16451908884191, 84.9375, 'gini = 0.0\\nsamples = 31\\nvalue = [31, 0]'),\n",
              " Text(44.44945147006024, 84.9375, 'X[0] <= 0.759\\ngini = 0.305\\nsamples = 16\\nvalue = [13, 3]'),\n",
              " Text(44.30698527945107, 78.14250000000001, 'gini = 0.0\\nsamples = 10\\nvalue = [10, 0]'),\n",
              " Text(44.59191766066941, 78.14250000000001, 'X[11] <= -0.307\\ngini = 0.5\\nsamples = 6\\nvalue = [3, 3]'),\n",
              " Text(44.44945147006024, 71.3475, 'gini = 0.0\\nsamples = 3\\nvalue = [0, 3]'),\n",
              " Text(44.73438385127857, 71.3475, 'gini = 0.0\\nsamples = 3\\nvalue = [3, 0]'),\n",
              " Text(45.161782423106075, 98.5275, 'X[0] <= 1.183\\ngini = 0.332\\nsamples = 19\\nvalue = [4, 15]'),\n",
              " Text(44.87685004188774, 91.7325, 'X[11] <= -0.255\\ngini = 0.124\\nsamples = 15\\nvalue = [1, 14]'),\n",
              " Text(44.73438385127857, 84.9375, 'gini = 0.0\\nsamples = 12\\nvalue = [0, 12]'),\n",
              " Text(45.019316232496905, 84.9375, 'X[12] <= -0.247\\ngini = 0.444\\nsamples = 3\\nvalue = [1, 2]'),\n",
              " Text(44.87685004188774, 78.14250000000001, 'gini = 0.0\\nsamples = 1\\nvalue = [1, 0]'),\n",
              " Text(45.161782423106075, 78.14250000000001, 'gini = 0.0\\nsamples = 2\\nvalue = [0, 2]'),\n",
              " Text(45.44671480432441, 91.7325, 'X[3] <= -0.969\\ngini = 0.375\\nsamples = 4\\nvalue = [3, 1]'),\n",
              " Text(45.304248613715245, 84.9375, 'gini = 0.0\\nsamples = 1\\nvalue = [0, 1]'),\n",
              " Text(45.58918099493358, 84.9375, 'gini = 0.0\\nsamples = 3\\nvalue = [3, 0]'),\n",
              " Text(46.65767742450233, 105.3225, 'X[11] <= -0.138\\ngini = 0.031\\nsamples = 251\\nvalue = [247, 4]'),\n",
              " Text(46.301511947979414, 98.5275, 'X[12] <= 2.497\\ngini = 0.024\\nsamples = 249\\nvalue = [246, 3]'),\n",
              " Text(46.01657956676108, 91.7325, 'X[1] <= 1.271\\ngini = 0.016\\nsamples = 245\\nvalue = [243, 2]'),\n",
              " Text(45.87411337615191, 84.9375, 'gini = 0.0\\nsamples = 197\\nvalue = [197, 0]'),\n",
              " Text(46.15904575737025, 84.9375, 'X[9] <= -0.998\\ngini = 0.08\\nsamples = 48\\nvalue = [46, 2]'),\n",
              " Text(45.87411337615191, 78.14250000000001, 'X[5] <= -0.273\\ngini = 0.5\\nsamples = 2\\nvalue = [1, 1]'),\n",
              " Text(45.73164718554275, 71.3475, 'gini = 0.0\\nsamples = 1\\nvalue = [0, 1]'),\n",
              " Text(46.01657956676108, 71.3475, 'gini = 0.0\\nsamples = 1\\nvalue = [1, 0]'),\n",
              " Text(46.443978138588584, 78.14250000000001, 'X[3] <= 1.705\\ngini = 0.043\\nsamples = 46\\nvalue = [45, 1]'),\n",
              " Text(46.301511947979414, 71.3475, 'gini = 0.0\\nsamples = 43\\nvalue = [43, 0]'),\n",
              " Text(46.58644432919775, 71.3475, 'X[11] <= -0.191\\ngini = 0.444\\nsamples = 3\\nvalue = [2, 1]'),\n",
              " Text(46.443978138588584, 64.55250000000001, 'gini = 0.0\\nsamples = 2\\nvalue = [2, 0]'),\n",
              " Text(46.72891051980692, 64.55250000000001, 'gini = 0.0\\nsamples = 1\\nvalue = [0, 1]'),\n",
              " Text(46.58644432919775, 91.7325, 'X[9] <= 0.564\\ngini = 0.375\\nsamples = 4\\nvalue = [3, 1]'),\n",
              " Text(46.443978138588584, 84.9375, 'gini = 0.0\\nsamples = 1\\nvalue = [0, 1]'),\n",
              " Text(46.72891051980692, 84.9375, 'gini = 0.0\\nsamples = 3\\nvalue = [3, 0]'),\n",
              " Text(47.01384290102525, 98.5275, 'X[9] <= 1.525\\ngini = 0.5\\nsamples = 2\\nvalue = [1, 1]'),\n",
              " Text(46.87137671041609, 91.7325, 'gini = 0.0\\nsamples = 1\\nvalue = [0, 1]'),\n",
              " Text(47.15630909163442, 91.7325, 'gini = 0.0\\nsamples = 1\\nvalue = [1, 0]'),\n",
              " Text(49.22206885546735, 125.7075, 'X[10] <= 0.657\\ngini = 0.281\\nsamples = 213\\nvalue = [177, 36]'),\n",
              " Text(48.29603861650776, 118.9125, 'X[0] <= -1.36\\ngini = 0.5\\nsamples = 46\\nvalue = [23, 23]'),\n",
              " Text(48.153572425898595, 112.11749999999999, 'gini = 0.0\\nsamples = 5\\nvalue = [5, 0]'),\n",
              " Text(48.43850480711693, 112.11749999999999, 'X[0] <= 0.995\\ngini = 0.493\\nsamples = 41\\nvalue = [18, 23]'),\n",
              " Text(48.011106235289425, 105.3225, 'X[10] <= 0.325\\ngini = 0.437\\nsamples = 31\\nvalue = [10, 21]'),\n",
              " Text(47.58370766346192, 98.5275, 'X[5] <= -0.292\\ngini = 0.494\\nsamples = 18\\nvalue = [8, 10]'),\n",
              " Text(47.44124147285275, 91.7325, 'gini = 0.0\\nsamples = 4\\nvalue = [4, 0]'),\n",
              " Text(47.72617385407109, 91.7325, 'X[0] <= -0.889\\ngini = 0.408\\nsamples = 14\\nvalue = [4, 10]'),\n",
              " Text(47.58370766346192, 84.9375, 'X[0] <= -1.171\\ngini = 0.5\\nsamples = 8\\nvalue = [4, 4]'),\n",
              " Text(47.44124147285275, 78.14250000000001, 'gini = 0.0\\nsamples = 4\\nvalue = [0, 4]'),\n",
              " Text(47.72617385407109, 78.14250000000001, 'gini = 0.0\\nsamples = 4\\nvalue = [4, 0]'),\n",
              " Text(47.868640044680255, 84.9375, 'gini = 0.0\\nsamples = 6\\nvalue = [0, 6]'),\n",
              " Text(48.43850480711693, 98.5275, 'X[12] <= 1.367\\ngini = 0.26\\nsamples = 13\\nvalue = [2, 11]'),\n",
              " Text(48.29603861650776, 91.7325, 'X[11] <= -0.321\\ngini = 0.153\\nsamples = 12\\nvalue = [1, 11]'),\n",
              " Text(48.153572425898595, 84.9375, 'X[11] <= -0.377\\ngini = 0.375\\nsamples = 4\\nvalue = [1, 3]'),\n",
              " Text(48.011106235289425, 78.14250000000001, 'gini = 0.0\\nsamples = 3\\nvalue = [0, 3]'),\n",
              " Text(48.29603861650776, 78.14250000000001, 'gini = 0.0\\nsamples = 1\\nvalue = [1, 0]'),\n",
              " Text(48.43850480711693, 84.9375, 'gini = 0.0\\nsamples = 8\\nvalue = [0, 8]'),\n",
              " Text(48.58097099772609, 91.7325, 'gini = 0.0\\nsamples = 1\\nvalue = [1, 0]'),\n",
              " Text(48.86590337894443, 105.3225, 'X[5] <= 0.848\\ngini = 0.32\\nsamples = 10\\nvalue = [8, 2]'),\n",
              " Text(48.72343718833526, 98.5275, 'gini = 0.0\\nsamples = 7\\nvalue = [7, 0]'),\n",
              " Text(49.008369569553594, 98.5275, 'X[2] <= 0.546\\ngini = 0.444\\nsamples = 3\\nvalue = [1, 2]'),\n",
              " Text(48.86590337894443, 91.7325, 'gini = 0.0\\nsamples = 2\\nvalue = [0, 2]'),\n",
              " Text(49.150835760162764, 91.7325, 'gini = 0.0\\nsamples = 1\\nvalue = [1, 0]'),\n",
              " Text(50.14809909442694, 118.9125, 'X[9] <= -0.157\\ngini = 0.144\\nsamples = 167\\nvalue = [154, 13]'),\n",
              " Text(49.8631667132086, 112.11749999999999, 'X[10] <= 0.99\\ngini = 0.49\\nsamples = 14\\nvalue = [8, 6]'),\n",
              " Text(49.72070052259944, 105.3225, 'X[5] <= -0.236\\ngini = 0.32\\nsamples = 10\\nvalue = [8, 2]'),\n",
              " Text(49.57823433199027, 98.5275, 'X[1] <= 0.355\\ngini = 0.5\\nsamples = 4\\nvalue = [2, 2]'),\n",
              " Text(49.4357681413811, 91.7325, 'gini = 0.0\\nsamples = 2\\nvalue = [2, 0]'),\n",
              " Text(49.72070052259944, 91.7325, 'gini = 0.0\\nsamples = 2\\nvalue = [0, 2]'),\n",
              " Text(49.8631667132086, 98.5275, 'gini = 0.0\\nsamples = 6\\nvalue = [6, 0]'),\n",
              " Text(50.00563290381777, 105.3225, 'gini = 0.0\\nsamples = 4\\nvalue = [0, 4]'),\n",
              " Text(50.43303147564527, 112.11749999999999, 'X[10] <= 0.99\\ngini = 0.087\\nsamples = 153\\nvalue = [146, 7]'),\n",
              " Text(50.2905652850361, 105.3225, 'X[2] <= 0.546\\ngini = 0.375\\nsamples = 28\\nvalue = [21, 7]'),\n",
              " Text(50.14809909442694, 98.5275, 'gini = 0.0\\nsamples = 14\\nvalue = [14, 0]'),\n",
              " Text(50.43303147564527, 98.5275, 'X[5] <= 0.558\\ngini = 0.5\\nsamples = 14\\nvalue = [7, 7]'),\n",
              " Text(50.2905652850361, 91.7325, 'X[0] <= -0.7\\ngini = 0.42\\nsamples = 10\\nvalue = [7, 3]'),\n",
              " Text(50.14809909442694, 84.9375, 'gini = 0.0\\nsamples = 6\\nvalue = [6, 0]'),\n",
              " Text(50.43303147564527, 84.9375, 'X[5] <= 0.195\\ngini = 0.375\\nsamples = 4\\nvalue = [1, 3]'),\n",
              " Text(50.2905652850361, 78.14250000000001, 'gini = 0.0\\nsamples = 3\\nvalue = [0, 3]'),\n",
              " Text(50.575497666254435, 78.14250000000001, 'gini = 0.0\\nsamples = 1\\nvalue = [1, 0]'),\n",
              " Text(50.575497666254435, 91.7325, 'gini = 0.0\\nsamples = 4\\nvalue = [0, 4]'),\n",
              " Text(50.575497666254435, 105.3225, 'gini = 0.0\\nsamples = 125\\nvalue = [125, 0]'),\n",
              " Text(53.04528264251805, 132.5025, 'X[11] <= -0.472\\ngini = 0.04\\nsamples = 727\\nvalue = [712, 15]'),\n",
              " Text(52.53885985558703, 125.7075, 'X[10] <= -0.507\\ngini = 0.32\\nsamples = 10\\nvalue = [8, 2]'),\n",
              " Text(52.39639366497786, 118.9125, 'gini = 0.0\\nsamples = 2\\nvalue = [0, 2]'),\n",
              " Text(52.6813260461962, 118.9125, 'gini = 0.0\\nsamples = 8\\nvalue = [8, 0]'),\n",
              " Text(53.55170542944908, 125.7075, 'X[14] <= 0.399\\ngini = 0.036\\nsamples = 717\\nvalue = [704, 13]'),\n",
              " Text(52.96625842741453, 118.9125, 'X[12] <= -0.408\\ngini = 0.033\\nsamples = 714\\nvalue = [702, 12]'),\n",
              " Text(52.222762995172936, 112.11749999999999, 'X[11] <= -0.17\\ngini = 0.06\\nsamples = 289\\nvalue = [280, 9]'),\n",
              " Text(51.66180236964934, 105.3225, 'X[9] <= 1.285\\ngini = 0.044\\nsamples = 264\\nvalue = [258, 6]'),\n",
              " Text(51.25221207164798, 98.5275, 'X[3] <= 0.368\\ngini = 0.032\\nsamples = 243\\nvalue = [239, 4]'),\n",
              " Text(51.10974588103882, 91.7325, 'gini = 0.0\\nsamples = 151\\nvalue = [151, 0]'),\n",
              " Text(51.39467826225715, 91.7325, 'X[1] <= -1.173\\ngini = 0.083\\nsamples = 92\\nvalue = [88, 4]'),\n",
              " Text(51.00289623808194, 84.9375, 'X[9] <= 0.504\\ngini = 0.444\\nsamples = 3\\nvalue = [2, 1]'),\n",
              " Text(50.860430047472775, 78.14250000000001, 'gini = 0.0\\nsamples = 1\\nvalue = [0, 1]'),\n",
              " Text(51.14536242869111, 78.14250000000001, 'gini = 0.0\\nsamples = 2\\nvalue = [2, 0]'),\n",
              " Text(51.78646028643236, 84.9375, 'X[8] <= -0.156\\ngini = 0.065\\nsamples = 89\\nvalue = [86, 3]'),\n",
              " Text(51.43029480990944, 78.14250000000001, 'X[5] <= 3.137\\ngini = 0.045\\nsamples = 86\\nvalue = [84, 2]'),\n",
              " Text(51.14536242869111, 71.3475, 'X[1] <= -0.257\\ngini = 0.024\\nsamples = 81\\nvalue = [80, 1]'),\n",
              " Text(51.00289623808194, 64.55250000000001, 'X[2] <= 0.546\\ngini = 0.18\\nsamples = 10\\nvalue = [9, 1]'),\n",
              " Text(50.860430047472775, 57.75749999999999, 'gini = 0.0\\nsamples = 9\\nvalue = [9, 0]'),\n",
              " Text(51.14536242869111, 57.75749999999999, 'gini = 0.0\\nsamples = 1\\nvalue = [0, 1]'),\n",
              " Text(51.28782861930028, 64.55250000000001, 'gini = 0.0\\nsamples = 71\\nvalue = [71, 0]'),\n",
              " Text(51.71522719112778, 71.3475, 'X[11] <= -0.395\\ngini = 0.32\\nsamples = 5\\nvalue = [4, 1]'),\n",
              " Text(51.57276100051861, 64.55250000000001, 'gini = 0.0\\nsamples = 1\\nvalue = [0, 1]'),\n",
              " Text(51.857693381736944, 64.55250000000001, 'gini = 0.0\\nsamples = 4\\nvalue = [4, 0]'),\n",
              " Text(52.14262576295528, 78.14250000000001, 'X[11] <= -0.342\\ngini = 0.444\\nsamples = 3\\nvalue = [2, 1]'),\n",
              " Text(52.000159572346114, 71.3475, 'gini = 0.0\\nsamples = 1\\nvalue = [0, 1]'),\n",
              " Text(52.28509195356445, 71.3475, 'gini = 0.0\\nsamples = 2\\nvalue = [2, 0]'),\n",
              " Text(52.0713926676507, 98.5275, 'X[10] <= 0.325\\ngini = 0.172\\nsamples = 21\\nvalue = [19, 2]'),\n",
              " Text(51.92892647704153, 91.7325, 'gini = 0.0\\nsamples = 18\\nvalue = [18, 0]'),\n",
              " Text(52.21385885825986, 91.7325, 'X[11] <= -0.379\\ngini = 0.444\\nsamples = 3\\nvalue = [1, 2]'),\n",
              " Text(52.0713926676507, 84.9375, 'gini = 0.0\\nsamples = 2\\nvalue = [0, 2]'),\n",
              " Text(52.35632504886903, 84.9375, 'gini = 0.0\\nsamples = 1\\nvalue = [1, 0]'),\n",
              " Text(52.783723620696534, 105.3225, 'X[11] <= -0.162\\ngini = 0.211\\nsamples = 25\\nvalue = [22, 3]'),\n",
              " Text(52.641257430087364, 98.5275, 'gini = 0.0\\nsamples = 2\\nvalue = [0, 2]'),\n",
              " Text(52.9261898113057, 98.5275, 'X[9] <= -1.359\\ngini = 0.083\\nsamples = 23\\nvalue = [22, 1]'),\n",
              " Text(52.783723620696534, 91.7325, 'X[5] <= -0.093\\ngini = 0.5\\nsamples = 2\\nvalue = [1, 1]'),\n",
              " Text(52.641257430087364, 84.9375, 'gini = 0.0\\nsamples = 1\\nvalue = [1, 0]'),\n",
              " Text(52.9261898113057, 84.9375, 'gini = 0.0\\nsamples = 1\\nvalue = [0, 1]'),\n",
              " Text(53.06865600191487, 91.7325, 'gini = 0.0\\nsamples = 21\\nvalue = [21, 0]'),\n",
              " Text(53.709753859656125, 112.11749999999999, 'X[11] <= -0.465\\ngini = 0.014\\nsamples = 425\\nvalue = [422, 3]'),\n",
              " Text(53.3535883831332, 105.3225, 'X[1] <= 0.66\\ngini = 0.117\\nsamples = 16\\nvalue = [15, 1]'),\n",
              " Text(53.21112219252404, 98.5275, 'gini = 0.0\\nsamples = 13\\nvalue = [13, 0]'),\n",
              " Text(53.49605457374237, 98.5275, 'X[10] <= -0.507\\ngini = 0.444\\nsamples = 3\\nvalue = [2, 1]'),\n",
              " Text(53.3535883831332, 91.7325, 'gini = 0.0\\nsamples = 1\\nvalue = [0, 1]'),\n",
              " Text(53.63852076435154, 91.7325, 'gini = 0.0\\nsamples = 2\\nvalue = [2, 0]'),\n",
              " Text(54.06591933617904, 105.3225, 'X[7] <= 0.926\\ngini = 0.01\\nsamples = 409\\nvalue = [407, 2]'),\n",
              " Text(53.92345314556987, 98.5275, 'gini = 0.0\\nsamples = 349\\nvalue = [349, 0]'),\n",
              " Text(54.208385526788206, 98.5275, 'X[5] <= -0.328\\ngini = 0.064\\nsamples = 60\\nvalue = [58, 2]'),\n",
              " Text(53.92345314556987, 91.7325, 'X[3] <= 0.368\\ngini = 0.5\\nsamples = 2\\nvalue = [1, 1]'),\n",
              " Text(53.7809869549607, 84.9375, 'gini = 0.0\\nsamples = 1\\nvalue = [1, 0]'),\n",
              " Text(54.06591933617904, 84.9375, 'gini = 0.0\\nsamples = 1\\nvalue = [0, 1]'),\n",
              " Text(54.493317908006546, 91.7325, 'X[0] <= -0.794\\ngini = 0.034\\nsamples = 58\\nvalue = [57, 1]'),\n",
              " Text(54.350851717397376, 84.9375, 'X[0] <= -0.889\\ngini = 0.198\\nsamples = 9\\nvalue = [8, 1]'),\n",
              " Text(54.208385526788206, 78.14250000000001, 'gini = 0.0\\nsamples = 7\\nvalue = [7, 0]'),\n",
              " Text(54.493317908006546, 78.14250000000001, 'X[11] <= -0.265\\ngini = 0.5\\nsamples = 2\\nvalue = [1, 1]'),\n",
              " Text(54.350851717397376, 71.3475, 'gini = 0.0\\nsamples = 1\\nvalue = [0, 1]'),\n",
              " Text(54.63578409861571, 71.3475, 'gini = 0.0\\nsamples = 1\\nvalue = [1, 0]'),\n",
              " Text(54.63578409861571, 84.9375, 'gini = 0.0\\nsamples = 49\\nvalue = [49, 0]'),\n",
              " Text(54.13715243148362, 118.9125, 'X[14] <= 0.833\\ngini = 0.444\\nsamples = 3\\nvalue = [2, 1]'),\n",
              " Text(53.99468624087446, 112.11749999999999, 'gini = 0.0\\nsamples = 1\\nvalue = [0, 1]'),\n",
              " Text(54.27961862209279, 112.11749999999999, 'gini = 0.0\\nsamples = 2\\nvalue = [2, 0]'),\n",
              " Text(54.99194957513863, 152.8875, 'X[10] <= 0.99\\ngini = 0.006\\nsamples = 2160\\nvalue = [2154, 6]'),\n",
              " Text(54.564551003311124, 146.0925, 'X[10] <= -0.008\\ngini = 0.003\\nsamples = 2154\\nvalue = [2151, 3]'),\n",
              " Text(54.13715243148362, 139.2975, 'X[5] <= -0.015\\ngini = 0.049\\nsamples = 40\\nvalue = [39, 1]'),\n",
              " Text(53.99468624087446, 132.5025, 'gini = 0.0\\nsamples = 37\\nvalue = [37, 0]'),\n",
              " Text(54.27961862209279, 132.5025, 'X[0] <= -0.088\\ngini = 0.444\\nsamples = 3\\nvalue = [2, 1]'),\n",
              " Text(54.13715243148362, 125.7075, 'gini = 0.0\\nsamples = 2\\nvalue = [2, 0]'),\n",
              " Text(54.42208481270196, 125.7075, 'gini = 0.0\\nsamples = 1\\nvalue = [0, 1]'),\n",
              " Text(54.99194957513863, 139.2975, 'X[0] <= -0.418\\ngini = 0.002\\nsamples = 2114\\nvalue = [2112, 2]'),\n",
              " Text(54.849483384529464, 132.5025, 'X[11] <= -0.298\\ngini = 0.005\\nsamples = 756\\nvalue = [754, 2]'),\n",
              " Text(54.707017193920294, 125.7075, 'gini = 0.0\\nsamples = 431\\nvalue = [431, 0]'),\n",
              " Text(54.99194957513863, 125.7075, 'X[11] <= -0.294\\ngini = 0.012\\nsamples = 325\\nvalue = [323, 2]'),\n",
              " Text(54.707017193920294, 118.9125, 'X[12] <= -0.408\\ngini = 0.278\\nsamples = 6\\nvalue = [5, 1]'),\n",
              " Text(54.564551003311124, 112.11749999999999, 'gini = 0.0\\nsamples = 4\\nvalue = [4, 0]'),\n",
              " Text(54.849483384529464, 112.11749999999999, 'X[9] <= 1.045\\ngini = 0.5\\nsamples = 2\\nvalue = [1, 1]'),\n",
              " Text(54.707017193920294, 105.3225, 'gini = 0.0\\nsamples = 1\\nvalue = [0, 1]'),\n",
              " Text(54.99194957513863, 105.3225, 'gini = 0.0\\nsamples = 1\\nvalue = [1, 0]'),\n",
              " Text(55.276881956356966, 118.9125, 'X[0] <= -0.512\\ngini = 0.006\\nsamples = 319\\nvalue = [318, 1]'),\n",
              " Text(55.1344157657478, 112.11749999999999, 'gini = 0.0\\nsamples = 279\\nvalue = [279, 0]'),\n",
              " Text(55.41934814696613, 112.11749999999999, 'X[9] <= -1.238\\ngini = 0.049\\nsamples = 40\\nvalue = [39, 1]'),\n",
              " Text(55.276881956356966, 105.3225, 'X[5] <= -0.1\\ngini = 0.375\\nsamples = 4\\nvalue = [3, 1]'),\n",
              " Text(55.1344157657478, 98.5275, 'gini = 0.0\\nsamples = 3\\nvalue = [3, 0]'),\n",
              " Text(55.41934814696613, 98.5275, 'gini = 0.0\\nsamples = 1\\nvalue = [0, 1]'),\n",
              " Text(55.5618143375753, 105.3225, 'gini = 0.0\\nsamples = 36\\nvalue = [36, 0]'),\n",
              " Text(55.1344157657478, 132.5025, 'gini = 0.0\\nsamples = 1358\\nvalue = [1358, 0]'),\n",
              " Text(55.41934814696613, 146.0925, 'X[5] <= -0.198\\ngini = 0.5\\nsamples = 6\\nvalue = [3, 3]'),\n",
              " Text(55.276881956356966, 139.2975, 'gini = 0.0\\nsamples = 3\\nvalue = [3, 0]'),\n",
              " Text(55.5618143375753, 139.2975, 'gini = 0.0\\nsamples = 3\\nvalue = [0, 3]'),\n",
              " Text(106.69391974333006, 180.0675, 'X[8] <= 0.957\\ngini = 0.155\\nsamples = 7036\\nvalue = [6440, 596]'),\n",
              " Text(87.87735159421189, 173.2725, 'X[6] <= -0.112\\ngini = 0.216\\nsamples = 4445\\nvalue = [3897, 548]'),\n",
              " Text(68.09408813676222, 166.4775, 'X[10] <= -1.671\\ngini = 0.286\\nsamples = 2373\\nvalue = [1962, 411]'),\n",
              " Text(56.768324889296686, 159.6825, 'X[5] <= -0.439\\ngini = 0.486\\nsamples = 132\\nvalue = [55, 77]'),\n",
              " Text(56.16729564766426, 152.8875, 'X[1] <= 1.271\\ngini = 0.32\\nsamples = 10\\nvalue = [8, 2]'),\n",
              " Text(56.02482945705509, 146.0925, 'gini = 0.0\\nsamples = 8\\nvalue = [8, 0]'),\n",
              " Text(56.309761838273424, 146.0925, 'gini = 0.0\\nsamples = 2\\nvalue = [0, 2]'),\n",
              " Text(57.36935413092911, 152.8875, 'X[11] <= 0.151\\ngini = 0.474\\nsamples = 122\\nvalue = [47, 75]'),\n",
              " Text(56.594694219491764, 146.0925, 'X[0] <= 1.089\\ngini = 0.5\\nsamples = 45\\nvalue = [23, 22]'),\n",
              " Text(56.20291219531655, 139.2975, 'X[5] <= -0.202\\ngini = 0.482\\nsamples = 37\\nvalue = [22, 15]'),\n",
              " Text(55.84674671879363, 132.5025, 'X[9] <= 0.924\\ngini = 0.459\\nsamples = 14\\nvalue = [5, 9]'),\n",
              " Text(55.70428052818446, 125.7075, 'X[12] <= -0.408\\ngini = 0.408\\nsamples = 7\\nvalue = [5, 2]'),\n",
              " Text(55.5618143375753, 118.9125, 'gini = 0.0\\nsamples = 5\\nvalue = [5, 0]'),\n",
              " Text(55.84674671879363, 118.9125, 'gini = 0.0\\nsamples = 2\\nvalue = [0, 2]'),\n",
              " Text(55.9892129094028, 125.7075, 'gini = 0.0\\nsamples = 7\\nvalue = [0, 7]'),\n",
              " Text(56.55907767183947, 132.5025, 'X[0] <= -1.077\\ngini = 0.386\\nsamples = 23\\nvalue = [17, 6]'),\n",
              " Text(56.274145290621135, 125.7075, 'X[9] <= 1.645\\ngini = 0.469\\nsamples = 8\\nvalue = [3, 5]'),\n",
              " Text(56.131679100011965, 118.9125, 'X[9] <= -1.238\\ngini = 0.278\\nsamples = 6\\nvalue = [1, 5]'),\n",
              " Text(55.9892129094028, 112.11749999999999, 'gini = 0.0\\nsamples = 1\\nvalue = [1, 0]'),\n",
              " Text(56.274145290621135, 112.11749999999999, 'gini = 0.0\\nsamples = 5\\nvalue = [0, 5]'),\n",
              " Text(56.416611481230305, 118.9125, 'gini = 0.0\\nsamples = 2\\nvalue = [2, 0]'),\n",
              " Text(56.84401005305781, 125.7075, 'X[3] <= 0.368\\ngini = 0.124\\nsamples = 15\\nvalue = [14, 1]'),\n",
              " Text(56.70154386244864, 118.9125, 'gini = 0.0\\nsamples = 12\\nvalue = [12, 0]'),\n",
              " Text(56.98647624366697, 118.9125, 'X[1] <= 0.355\\ngini = 0.444\\nsamples = 3\\nvalue = [2, 1]'),\n",
              " Text(56.84401005305781, 112.11749999999999, 'gini = 0.0\\nsamples = 1\\nvalue = [0, 1]'),\n",
              " Text(57.12894243427614, 112.11749999999999, 'gini = 0.0\\nsamples = 2\\nvalue = [2, 0]'),\n",
              " Text(56.98647624366697, 139.2975, 'X[11] <= 0.052\\ngini = 0.219\\nsamples = 8\\nvalue = [1, 7]'),\n",
              " Text(56.84401005305781, 132.5025, 'gini = 0.0\\nsamples = 7\\nvalue = [0, 7]'),\n",
              " Text(57.12894243427614, 132.5025, 'gini = 0.0\\nsamples = 1\\nvalue = [1, 0]'),\n",
              " Text(58.14401404236646, 146.0925, 'X[11] <= 0.298\\ngini = 0.429\\nsamples = 77\\nvalue = [24, 53]'),\n",
              " Text(57.556341006103644, 139.2975, 'X[5] <= 0.955\\ngini = 0.117\\nsamples = 16\\nvalue = [1, 15]'),\n",
              " Text(57.413874815494474, 132.5025, 'gini = 0.0\\nsamples = 15\\nvalue = [0, 15]'),\n",
              " Text(57.698807196712806, 132.5025, 'gini = 0.0\\nsamples = 1\\nvalue = [1, 0]'),\n",
              " Text(58.73168707862927, 139.2975, 'X[9] <= 0.804\\ngini = 0.47\\nsamples = 61\\nvalue = [23, 38]'),\n",
              " Text(57.983739577931146, 132.5025, 'X[0] <= 0.336\\ngini = 0.497\\nsamples = 28\\nvalue = [15, 13]'),\n",
              " Text(57.556341006103644, 125.7075, 'X[1] <= -0.257\\ngini = 0.432\\nsamples = 19\\nvalue = [13, 6]'),\n",
              " Text(57.413874815494474, 118.9125, 'gini = 0.0\\nsamples = 6\\nvalue = [6, 0]'),\n",
              " Text(57.698807196712806, 118.9125, 'X[0] <= -0.229\\ngini = 0.497\\nsamples = 13\\nvalue = [7, 6]'),\n",
              " Text(57.556341006103644, 112.11749999999999, 'X[12] <= -0.085\\ngini = 0.444\\nsamples = 9\\nvalue = [3, 6]'),\n",
              " Text(57.413874815494474, 105.3225, 'X[11] <= 0.962\\ngini = 0.245\\nsamples = 7\\nvalue = [1, 6]'),\n",
              " Text(57.27140862488531, 98.5275, 'gini = 0.0\\nsamples = 6\\nvalue = [0, 6]'),\n",
              " Text(57.556341006103644, 98.5275, 'gini = 0.0\\nsamples = 1\\nvalue = [1, 0]'),\n",
              " Text(57.698807196712806, 105.3225, 'gini = 0.0\\nsamples = 2\\nvalue = [2, 0]'),\n",
              " Text(57.841273387321976, 112.11749999999999, 'gini = 0.0\\nsamples = 4\\nvalue = [4, 0]'),\n",
              " Text(58.41113814975865, 125.7075, 'X[12] <= 0.238\\ngini = 0.346\\nsamples = 9\\nvalue = [2, 7]'),\n",
              " Text(58.26867195914948, 118.9125, 'X[5] <= -0.326\\ngini = 0.219\\nsamples = 8\\nvalue = [1, 7]'),\n",
              " Text(58.12620576854031, 112.11749999999999, 'gini = 0.0\\nsamples = 1\\nvalue = [1, 0]'),\n",
              " Text(58.41113814975865, 112.11749999999999, 'gini = 0.0\\nsamples = 7\\nvalue = [0, 7]'),\n",
              " Text(58.55360434036781, 118.9125, 'gini = 0.0\\nsamples = 1\\nvalue = [1, 0]'),\n",
              " Text(59.4796345793274, 132.5025, 'X[3] <= 1.705\\ngini = 0.367\\nsamples = 33\\nvalue = [8, 25]'),\n",
              " Text(59.123469102804485, 125.7075, 'X[12] <= -0.085\\ngini = 0.293\\nsamples = 28\\nvalue = [5, 23]'),\n",
              " Text(58.83853672158615, 118.9125, 'X[1] <= 1.271\\ngini = 0.211\\nsamples = 25\\nvalue = [3, 22]'),\n",
              " Text(58.69607053097698, 112.11749999999999, 'gini = 0.0\\nsamples = 15\\nvalue = [0, 15]'),\n",
              " Text(58.981002912195315, 112.11749999999999, 'X[2] <= 0.546\\ngini = 0.42\\nsamples = 10\\nvalue = [3, 7]'),\n",
              " Text(58.83853672158615, 105.3225, 'X[5] <= -0.143\\ngini = 0.5\\nsamples = 6\\nvalue = [3, 3]'),\n",
              " Text(58.69607053097698, 98.5275, 'gini = 0.0\\nsamples = 3\\nvalue = [3, 0]'),\n",
              " Text(58.981002912195315, 98.5275, 'gini = 0.0\\nsamples = 3\\nvalue = [0, 3]'),\n",
              " Text(59.123469102804485, 105.3225, 'gini = 0.0\\nsamples = 4\\nvalue = [0, 4]'),\n",
              " Text(59.40840148402282, 118.9125, 'X[11] <= 0.741\\ngini = 0.444\\nsamples = 3\\nvalue = [2, 1]'),\n",
              " Text(59.26593529341365, 112.11749999999999, 'gini = 0.0\\nsamples = 2\\nvalue = [2, 0]'),\n",
              " Text(59.55086767463199, 112.11749999999999, 'gini = 0.0\\nsamples = 1\\nvalue = [0, 1]'),\n",
              " Text(59.83580005585032, 125.7075, 'X[0] <= 0.43\\ngini = 0.48\\nsamples = 5\\nvalue = [3, 2]'),\n",
              " Text(59.69333386524115, 118.9125, 'gini = 0.0\\nsamples = 2\\nvalue = [0, 2]'),\n",
              " Text(59.97826624645949, 118.9125, 'gini = 0.0\\nsamples = 3\\nvalue = [3, 0]'),\n",
              " Text(79.41985138422777, 159.6825, 'X[10] <= -0.008\\ngini = 0.254\\nsamples = 2241\\nvalue = [1907, 334]'),\n",
              " Text(66.14596797769478, 152.8875, 'X[0] <= -1.454\\ngini = 0.185\\nsamples = 1761\\nvalue = [1579, 182]'),\n",
              " Text(61.26046196194199, 146.0925, 'X[5] <= 0.185\\ngini = 0.489\\nsamples = 47\\nvalue = [27, 20]'),\n",
              " Text(61.11799577133283, 139.2975, 'X[0] <= -1.642\\ngini = 0.45\\nsamples = 41\\nvalue = [27, 14]'),\n",
              " Text(60.690597199505326, 132.5025, 'X[11] <= 0.586\\ngini = 0.499\\nsamples = 19\\nvalue = [9, 10]'),\n",
              " Text(60.548131008896156, 125.7075, 'X[5] <= -0.267\\ngini = 0.48\\nsamples = 15\\nvalue = [9, 6]'),\n",
              " Text(60.26319862767782, 118.9125, 'X[11] <= -0.102\\ngini = 0.245\\nsamples = 7\\nvalue = [6, 1]'),\n",
              " Text(60.120732437068654, 112.11749999999999, 'gini = 0.0\\nsamples = 1\\nvalue = [0, 1]'),\n",
              " Text(60.40566481828699, 112.11749999999999, 'gini = 0.0\\nsamples = 6\\nvalue = [6, 0]'),\n",
              " Text(60.833063390114496, 118.9125, 'X[5] <= -0.103\\ngini = 0.469\\nsamples = 8\\nvalue = [3, 5]'),\n",
              " Text(60.690597199505326, 112.11749999999999, 'gini = 0.0\\nsamples = 5\\nvalue = [0, 5]'),\n",
              " Text(60.97552958072366, 112.11749999999999, 'gini = 0.0\\nsamples = 3\\nvalue = [3, 0]'),\n",
              " Text(60.833063390114496, 125.7075, 'gini = 0.0\\nsamples = 4\\nvalue = [0, 4]'),\n",
              " Text(61.54539434316033, 132.5025, 'X[10] <= -1.338\\ngini = 0.298\\nsamples = 22\\nvalue = [18, 4]'),\n",
              " Text(61.26046196194199, 125.7075, 'X[0] <= -1.548\\ngini = 0.444\\nsamples = 3\\nvalue = [1, 2]'),\n",
              " Text(61.11799577133283, 118.9125, 'gini = 0.0\\nsamples = 1\\nvalue = [1, 0]'),\n",
              " Text(61.40292815255116, 118.9125, 'gini = 0.0\\nsamples = 2\\nvalue = [0, 2]'),\n",
              " Text(61.830326724378665, 125.7075, 'X[11] <= 0.768\\ngini = 0.188\\nsamples = 19\\nvalue = [17, 2]'),\n",
              " Text(61.687860533769495, 118.9125, 'X[11] <= 0.005\\ngini = 0.105\\nsamples = 18\\nvalue = [17, 1]'),\n",
              " Text(61.54539434316033, 112.11749999999999, 'X[3] <= 0.368\\ngini = 0.5\\nsamples = 2\\nvalue = [1, 1]'),\n",
              " Text(61.40292815255116, 105.3225, 'gini = 0.0\\nsamples = 1\\nvalue = [1, 0]'),\n",
              " Text(61.687860533769495, 105.3225, 'gini = 0.0\\nsamples = 1\\nvalue = [0, 1]'),\n",
              " Text(61.830326724378665, 112.11749999999999, 'gini = 0.0\\nsamples = 16\\nvalue = [16, 0]'),\n",
              " Text(61.972792914987835, 118.9125, 'gini = 0.0\\nsamples = 1\\nvalue = [0, 1]'),\n",
              " Text(61.40292815255116, 139.2975, 'gini = 0.0\\nsamples = 6\\nvalue = [0, 6]'),\n",
              " Text(71.03147399344756, 146.0925, 'X[9] <= -1.479\\ngini = 0.171\\nsamples = 1714\\nvalue = [1552, 162]'),\n",
              " Text(62.88101488012128, 139.2975, 'X[10] <= -0.507\\ngini = 0.385\\nsamples = 100\\nvalue = [74, 26]'),\n",
              " Text(62.29334184385846, 132.5025, 'X[10] <= -1.005\\ngini = 0.293\\nsamples = 84\\nvalue = [69, 15]'),\n",
              " Text(62.150875653249294, 125.7075, 'gini = 0.0\\nsamples = 4\\nvalue = [0, 4]'),\n",
              " Text(62.43580803446763, 125.7075, 'X[11] <= 1.009\\ngini = 0.237\\nsamples = 80\\nvalue = [69, 11]'),\n",
              " Text(62.29334184385846, 118.9125, 'X[9] <= -1.719\\ngini = 0.221\\nsamples = 79\\nvalue = [69, 10]'),\n",
              " Text(62.150875653249294, 112.11749999999999, 'gini = 0.0\\nsamples = 1\\nvalue = [0, 1]'),\n",
              " Text(62.43580803446763, 112.11749999999999, 'X[11] <= 0.098\\ngini = 0.204\\nsamples = 78\\nvalue = [69, 9]'),\n",
              " Text(61.972792914987835, 105.3225, 'X[0] <= -0.324\\ngini = 0.054\\nsamples = 36\\nvalue = [35, 1]'),\n",
              " Text(61.830326724378665, 98.5275, 'gini = 0.0\\nsamples = 26\\nvalue = [26, 0]'),\n",
              " Text(62.115259105597, 98.5275, 'X[0] <= -0.229\\ngini = 0.18\\nsamples = 10\\nvalue = [9, 1]'),\n",
              " Text(61.972792914987835, 91.7325, 'gini = 0.0\\nsamples = 1\\nvalue = [0, 1]'),\n",
              " Text(62.25772529620617, 91.7325, 'gini = 0.0\\nsamples = 9\\nvalue = [9, 0]'),\n",
              " Text(62.89882315394742, 105.3225, 'X[11] <= 0.11\\ngini = 0.308\\nsamples = 42\\nvalue = [34, 8]'),\n",
              " Text(62.756356963338256, 98.5275, 'gini = 0.0\\nsamples = 1\\nvalue = [0, 1]'),\n",
              " Text(63.04128934455659, 98.5275, 'X[5] <= -0.363\\ngini = 0.283\\nsamples = 41\\nvalue = [34, 7]'),\n",
              " Text(62.5426576774245, 91.7325, 'X[5] <= -0.416\\ngini = 0.444\\nsamples = 12\\nvalue = [8, 4]'),\n",
              " Text(62.40019148681534, 84.9375, 'gini = 0.0\\nsamples = 5\\nvalue = [5, 0]'),\n",
              " Text(62.68512386803367, 84.9375, 'X[2] <= 0.546\\ngini = 0.49\\nsamples = 7\\nvalue = [3, 4]'),\n",
              " Text(62.5426576774245, 78.14250000000001, 'gini = 0.0\\nsamples = 4\\nvalue = [0, 4]'),\n",
              " Text(62.82759005864284, 78.14250000000001, 'gini = 0.0\\nsamples = 3\\nvalue = [3, 0]'),\n",
              " Text(63.539921011688676, 91.7325, 'X[11] <= 0.673\\ngini = 0.185\\nsamples = 29\\nvalue = [26, 3]'),\n",
              " Text(63.254988630470336, 84.9375, 'X[11] <= 0.155\\ngini = 0.087\\nsamples = 22\\nvalue = [21, 1]'),\n",
              " Text(63.11252243986117, 78.14250000000001, 'X[0] <= -0.889\\ngini = 0.32\\nsamples = 5\\nvalue = [4, 1]'),\n",
              " Text(62.970056249252, 71.3475, 'gini = 0.0\\nsamples = 1\\nvalue = [0, 1]'),\n",
              " Text(63.254988630470336, 71.3475, 'gini = 0.0\\nsamples = 4\\nvalue = [4, 0]'),\n",
              " Text(63.397454821079506, 78.14250000000001, 'gini = 0.0\\nsamples = 17\\nvalue = [17, 0]'),\n",
              " Text(63.82485339290701, 84.9375, 'X[11] <= 0.78\\ngini = 0.408\\nsamples = 7\\nvalue = [5, 2]'),\n",
              " Text(63.68238720229784, 78.14250000000001, 'gini = 0.0\\nsamples = 2\\nvalue = [0, 2]'),\n",
              " Text(63.96731958351618, 78.14250000000001, 'gini = 0.0\\nsamples = 5\\nvalue = [5, 0]'),\n",
              " Text(62.5782742250768, 118.9125, 'gini = 0.0\\nsamples = 1\\nvalue = [0, 1]'),\n",
              " Text(63.46868791638409, 132.5025, 'X[11] <= 0.283\\ngini = 0.43\\nsamples = 16\\nvalue = [5, 11]'),\n",
              " Text(63.32622172577492, 125.7075, 'X[1] <= -0.562\\ngini = 0.494\\nsamples = 9\\nvalue = [5, 4]'),\n",
              " Text(63.18375553516576, 118.9125, 'gini = 0.0\\nsamples = 2\\nvalue = [0, 2]'),\n",
              " Text(63.46868791638409, 118.9125, 'X[2] <= -1.098\\ngini = 0.408\\nsamples = 7\\nvalue = [5, 2]'),\n",
              " Text(63.32622172577492, 112.11749999999999, 'gini = 0.0\\nsamples = 1\\nvalue = [0, 1]'),\n",
              " Text(63.61115410699326, 112.11749999999999, 'X[12] <= -0.408\\ngini = 0.278\\nsamples = 6\\nvalue = [5, 1]'),\n",
              " Text(63.46868791638409, 105.3225, 'X[11] <= 0.143\\ngini = 0.5\\nsamples = 2\\nvalue = [1, 1]'),\n",
              " Text(63.32622172577492, 98.5275, 'gini = 0.0\\nsamples = 1\\nvalue = [1, 0]'),\n",
              " Text(63.61115410699326, 98.5275, 'gini = 0.0\\nsamples = 1\\nvalue = [0, 1]'),\n",
              " Text(63.753620297602424, 105.3225, 'gini = 0.0\\nsamples = 4\\nvalue = [4, 0]'),\n",
              " Text(63.61115410699326, 125.7075, 'gini = 0.0\\nsamples = 7\\nvalue = [0, 7]'),\n",
              " Text(79.18193310677384, 139.2975, 'X[11] <= 0.58\\ngini = 0.154\\nsamples = 1614\\nvalue = [1478, 136]'),\n",
              " Text(73.6365514172019, 132.5025, 'X[5] <= 0.025\\ngini = 0.121\\nsamples = 1286\\nvalue = [1203, 83]'),\n",
              " Text(70.49273023297563, 125.7075, 'X[9] <= 0.684\\ngini = 0.095\\nsamples = 1024\\nvalue = [973, 51]'),\n",
              " Text(68.35886773447162, 118.9125, 'X[12] <= -0.408\\ngini = 0.125\\nsamples = 672\\nvalue = [627, 45]'),\n",
              " Text(65.65910559700004, 112.11749999999999, 'X[9] <= -0.517\\ngini = 0.21\\nsamples = 193\\nvalue = [170, 23]'),\n",
              " Text(64.85773327482347, 105.3225, 'X[11] <= 0.071\\ngini = 0.141\\nsamples = 144\\nvalue = [133, 11]'),\n",
              " Text(64.7152670842143, 98.5275, 'gini = 0.0\\nsamples = 56\\nvalue = [56, 0]'),\n",
              " Text(65.00019946543264, 98.5275, 'X[10] <= -1.338\\ngini = 0.219\\nsamples = 88\\nvalue = [77, 11]'),\n",
              " Text(64.25225196473451, 91.7325, 'X[1] <= -1.173\\ngini = 0.42\\nsamples = 20\\nvalue = [14, 6]'),\n",
              " Text(64.10978577412534, 84.9375, 'gini = 0.0\\nsamples = 3\\nvalue = [0, 3]'),\n",
              " Text(64.39471815534368, 84.9375, 'X[0] <= -1.312\\ngini = 0.291\\nsamples = 17\\nvalue = [14, 3]'),\n",
              " Text(64.25225196473451, 78.14250000000001, 'gini = 0.0\\nsamples = 1\\nvalue = [0, 1]'),\n",
              " Text(64.53718434595285, 78.14250000000001, 'X[0] <= 1.419\\ngini = 0.219\\nsamples = 16\\nvalue = [14, 2]'),\n",
              " Text(64.39471815534368, 71.3475, 'X[0] <= -0.418\\ngini = 0.124\\nsamples = 15\\nvalue = [14, 1]'),\n",
              " Text(64.25225196473451, 64.55250000000001, 'X[0] <= -0.512\\ngini = 0.278\\nsamples = 6\\nvalue = [5, 1]'),\n",
              " Text(64.10978577412534, 57.75749999999999, 'gini = 0.0\\nsamples = 5\\nvalue = [5, 0]'),\n",
              " Text(64.39471815534368, 57.75749999999999, 'gini = 0.0\\nsamples = 1\\nvalue = [0, 1]'),\n",
              " Text(64.53718434595285, 64.55250000000001, 'gini = 0.0\\nsamples = 9\\nvalue = [9, 0]'),\n",
              " Text(64.67965053656201, 71.3475, 'gini = 0.0\\nsamples = 1\\nvalue = [0, 1]'),\n",
              " Text(65.74814696613078, 91.7325, 'X[2] <= 0.546\\ngini = 0.136\\nsamples = 68\\nvalue = [63, 5]'),\n",
              " Text(65.6056807755216, 84.9375, 'X[5] <= -0.17\\ngini = 0.229\\nsamples = 38\\nvalue = [33, 5]'),\n",
              " Text(65.24951529899869, 78.14250000000001, 'X[11] <= 0.077\\ngini = 0.161\\nsamples = 34\\nvalue = [31, 3]'),\n",
              " Text(64.96458291778035, 71.3475, 'X[5] <= -0.435\\ngini = 0.5\\nsamples = 2\\nvalue = [1, 1]'),\n",
              " Text(64.82211672717118, 64.55250000000001, 'gini = 0.0\\nsamples = 1\\nvalue = [1, 0]'),\n",
              " Text(65.10704910838952, 64.55250000000001, 'gini = 0.0\\nsamples = 1\\nvalue = [0, 1]'),\n",
              " Text(65.53444768021701, 71.3475, 'X[3] <= 0.368\\ngini = 0.117\\nsamples = 32\\nvalue = [30, 2]'),\n",
              " Text(65.39198148960786, 64.55250000000001, 'gini = 0.0\\nsamples = 25\\nvalue = [25, 0]'),\n",
              " Text(65.67691387082618, 64.55250000000001, 'X[9] <= -1.058\\ngini = 0.408\\nsamples = 7\\nvalue = [5, 2]'),\n",
              " Text(65.53444768021701, 57.75749999999999, 'X[0] <= -0.559\\ngini = 0.444\\nsamples = 3\\nvalue = [1, 2]'),\n",
              " Text(65.39198148960786, 50.962500000000006, 'gini = 0.0\\nsamples = 1\\nvalue = [1, 0]'),\n",
              " Text(65.67691387082618, 50.962500000000006, 'gini = 0.0\\nsamples = 2\\nvalue = [0, 2]'),\n",
              " Text(65.81938006143535, 57.75749999999999, 'gini = 0.0\\nsamples = 4\\nvalue = [4, 0]'),\n",
              " Text(65.96184625204452, 78.14250000000001, 'X[9] <= -0.938\\ngini = 0.5\\nsamples = 4\\nvalue = [2, 2]'),\n",
              " Text(65.81938006143535, 71.3475, 'gini = 0.0\\nsamples = 2\\nvalue = [0, 2]'),\n",
              " Text(66.1043124426537, 71.3475, 'gini = 0.0\\nsamples = 2\\nvalue = [2, 0]'),\n",
              " Text(65.89061315673993, 84.9375, 'gini = 0.0\\nsamples = 30\\nvalue = [30, 0]'),\n",
              " Text(66.46047791917661, 105.3225, 'X[11] <= -0.123\\ngini = 0.37\\nsamples = 49\\nvalue = [37, 12]'),\n",
              " Text(66.31801172856744, 98.5275, 'gini = 0.0\\nsamples = 2\\nvalue = [0, 2]'),\n",
              " Text(66.60294410978577, 98.5275, 'X[9] <= -0.397\\ngini = 0.335\\nsamples = 47\\nvalue = [37, 10]'),\n",
              " Text(66.46047791917661, 91.7325, 'gini = 0.0\\nsamples = 2\\nvalue = [0, 2]'),\n",
              " Text(66.74541030039494, 91.7325, 'X[0] <= -1.265\\ngini = 0.292\\nsamples = 45\\nvalue = [37, 8]'),\n",
              " Text(66.38924482387202, 84.9375, 'X[5] <= -0.431\\ngini = 0.444\\nsamples = 3\\nvalue = [1, 2]'),\n",
              " Text(66.24677863326285, 78.14250000000001, 'gini = 0.0\\nsamples = 1\\nvalue = [1, 0]'),\n",
              " Text(66.53171101448119, 78.14250000000001, 'gini = 0.0\\nsamples = 2\\nvalue = [0, 2]'),\n",
              " Text(67.10157577691785, 84.9375, 'X[3] <= 0.368\\ngini = 0.245\\nsamples = 42\\nvalue = [36, 6]'),\n",
              " Text(66.81664339569953, 78.14250000000001, 'X[9] <= -0.277\\ngini = 0.08\\nsamples = 24\\nvalue = [23, 1]'),\n",
              " Text(66.67417720509036, 71.3475, 'X[11] <= -0.039\\ngini = 0.444\\nsamples = 3\\nvalue = [2, 1]'),\n",
              " Text(66.53171101448119, 64.55250000000001, 'gini = 0.0\\nsamples = 1\\nvalue = [0, 1]'),\n",
              " Text(66.81664339569953, 64.55250000000001, 'gini = 0.0\\nsamples = 2\\nvalue = [2, 0]'),\n",
              " Text(66.9591095863087, 71.3475, 'gini = 0.0\\nsamples = 21\\nvalue = [21, 0]'),\n",
              " Text(67.3865081581362, 78.14250000000001, 'X[0] <= -1.124\\ngini = 0.401\\nsamples = 18\\nvalue = [13, 5]'),\n",
              " ...]"
            ]
          },
          "metadata": {
            "tags": []
          },
          "execution_count": 37
        },
        {
          "output_type": "display_data",
          "data": {
            "image/png": "[encoded data removed]",
            "text/plain": [
              "<Figure size 432x288 with 1 Axes>"
            ]
          },
          "metadata": {
            "tags": [],
            "needs_background": "light"
          }
        }
      ]
    }
  ]
}