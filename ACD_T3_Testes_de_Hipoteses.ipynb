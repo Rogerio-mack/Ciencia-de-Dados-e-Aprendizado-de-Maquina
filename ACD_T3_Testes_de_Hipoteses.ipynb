{
  "nbformat": 4,
  "nbformat_minor": 0,
  "metadata": {
    "anaconda-cloud": {},
    "kernelspec": {
      "display_name": "Python 3",
      "language": "python",
      "name": "python3"
    },
    "language_info": {
      "codemirror_mode": {
        "name": "ipython",
        "version": 3
      },
      "file_extension": ".py",
      "mimetype": "text/x-python",
      "name": "python",
      "nbconvert_exporter": "python",
      "pygments_lexer": "ipython3",
      "version": "3.7.4"
    },
    "colab": {
      "name": "ACD_T3_Testes_de_Hipoteses.ipynb",
      "provenance": [],
      "collapsed_sections": []
    }
  },
  "cells": [
    {
      "cell_type": "markdown",
      "metadata": {
        "id": "gglUriLmo1sR"
      },
      "source": [
        "<head>\n",
        "  <meta name=\"author\" content=\"Rogério de Oliveira\">\n",
        "  <meta institution=\"author\" content=\"Universidade Presbiteriana Mackenzie\">\n",
        "</head>\n",
        "\n",
        "<img src=\"http://meusite.mackenzie.br/rogerio/mackenzie_logo/UPM.2_horizontal_vermelho.jpg\" width=300, align=\"right\">\n",
        "<!-- <h1 align=left><font size = 6, style=\"color:rgb(200,0,0)\"> optional title </font></h1> -->"
      ]
    },
    {
      "cell_type": "markdown",
      "metadata": {
        "id": "x3RSAcU_o1sU"
      },
      "source": [
        "# Testes de Hipóteses "
      ]
    },
    {
      "cell_type": "markdown",
      "metadata": {
        "id": "Li1FPlObIQAh"
      },
      "source": [
        "Embora tenham surgido muito antes do termo Ciência de Dados Testes de Hipóteses e Modelos Lineares apresentam boa parte das características de muitos outros modelos da Ciência de Dados e são bastante aplicados.\n",
        "\n",
        "Aqui você vai aprender algumas das aplicações práticas de Testes de Hipóteses, incluindo Testes A/B, e como aplicar modelos de regressão múltipla com entradas numéricas (veja o complemento da trilha anterior para o uso de variáveis categóricas).\n",
        "\n",
        "**Nota importante**: Faremos aqui um abordagem prática. Nossa apresentação de Testes de Hipóteses e Modelos Lineares será, portanto, bastante *informal* supondo que o você já tem algum conhecimento sobre Testes de Hipóteses e Regressão Linear. Para um maior aprofundamento verifique as referências. \n",
        "\n",
        "\n"
      ]
    },
    {
      "cell_type": "markdown",
      "metadata": {
        "id": "SRfw66YCVM6w"
      },
      "source": [
        "# Testes de Hipóteses \n",
        "\n",
        "Os **Testes de Hipóteses** são procedimentos estatísticos que permitem tomar uma decisão de aceitar ou rejeitar a hipótese nula $H_0$ entre duas ou mais hipóteses alternativas $H_i$ utilizando os dados observados.\n",
        "\n",
        "## Test t\n",
        "\n",
        "O **Teste t**, ou **Teste T de Student**, é um teste de Hipótese em que podemos comparar médias de duas populações verificando se a hipótese nula $H_0: \\mu_1 = \\mu_2$ é aceita ou rejeitada, aceitando então a hipótese alternativa $H_a: \\mu_1 \\neq \\mu_2$. Isso tem uma série de usos práticos que você verá a seguir.\n",
        "\n",
        "* Premissas \n",
        "\n",
        "> 1. As observações em cada amostra são independentes e identicamente distribuídas \n",
        "> 2. As observações em cada amostra são normalmente distribuídas.\n",
        "\n",
        "* t-score\n",
        "\n",
        "> O t-escore é a razão entre a diferença entre dois grupos e a diferença dentro dos grupos. Uma pontuação t grande indica que os grupos são diferentes. Um pequeno t-score indica que os grupos são semelhantes. Quando você executa um teste t, quanto maior o valor t, maior a probabilidade de os resultados serem repetíveis. \n",
        "\n",
        "* p-value\n",
        "\n",
        "> Todo valor t tem um valor p para acompanhar. Um valor-p é a probabilidade de os resultados dos dados da amostra ocorrerem por acaso. Os valores P são de 0% a 100%. Por exemplo, um valor p de 0,05 significa que há apenas uma probabilidade de 5% de que os resultados de um experimento tenham acontecido por acaso.\n",
        "\n",
        "* Tipos de Testes t?\n",
        "\n",
        "> Existem vários tipos de Testes t, aqui para os nossos propósitos nos concentramos em dois tipos de teste: \n",
        "\n",
        "> 1. Um teste t de uma amostra testa a média de um único grupo em relação a uma média conhecida.\n",
        "> 1. Um teste t de amostras independentes compara as médias de dois grupos\n",
        "\n",
        "\n",
        "\n",
        "\n"
      ]
    },
    {
      "cell_type": "markdown",
      "metadata": {
        "id": "ax7rMJ_IjmA5"
      },
      "source": [
        "## Testes A/B \n",
        "\n",
        "Suponha que você deseja testar a eficiência de um certo medicamento para um tipo de gripe comum. Você pode administrar o medicamento a um grupo de pacientes (grupo de pacientes) e um placebo a outro grupo (chamado grupo de controle). Você pode então comparar os resultados, por exemplo o tempo médio de recuperação dos dois grupos. O **Test t** é então uma das formas de avaliar a diferença entre os grupos para a realização de **Testes A/B**. \n",
        "\n",
        "Os **Teste A/B** obviamente são bem mais complexos que isso e, principalmente, requerem um bom desenho dos experimentos incluido a definição das variáveis de controle do experimento. O exemplo que você verá fornecer apenas uma pequena ideia de como lidar com esses testes."
      ]
    },
    {
      "cell_type": "markdown",
      "metadata": {
        "id": "nCbYgnC8jsjR"
      },
      "source": [
        "## Testes de Correlação \n",
        "\n",
        "Ou **Pearson's Correlation Test** é um teste de Hipótese em que queremos verificar se duas amostras são **linearmente dependentes**. As hipóteses são: \n",
        "\n",
        "$H_0: $ não são linearmente dependentes \n",
        "\n",
        "$H_a: $ são linearmente dependentes\n",
        "\n",
        "Esse teste é fundamental para aplicarmos ou avaliarmos modelos lineares como você verá seguir. \n",
        "\n",
        "**Nota**: A correlação verifica apenas a dependência linear. Não obstante sua importância, rejeitar a hipótese de linearmente dependentes não elimina muitas outras formas de dependência (se quiser, pense em $y = x^2$, $y = cos(x)$ ou no quarteto de Anscomble).    "
      ]
    },
    {
      "cell_type": "markdown",
      "metadata": {
        "id": "PuASyhpmiLM-"
      },
      "source": [
        "### Nota final\n",
        "\n",
        "Inúmeros importantes detalhes estão omitidos nessa apresentação informal, não só as fórmulas, mas aspectos importantes como as premissas de distribuição, tamanho de amostras diferentes etc. \n",
        "\n",
        "Existem também muitos outros tipos de Testes de Hipóteses, e podem ser de particular interesse seu testes que evolvem mais de duas amostras (**ANOVA**, ou Análise de Variância) ou ainda valores categóricos (**Chi-square**). Quaisquer desses testes, entretanto, seguem procedimentos análogos ao que apresentamos aqui. "
      ]
    },
    {
      "cell_type": "markdown",
      "metadata": {
        "id": "IaomNuTiiAqW"
      },
      "source": [
        "### Referências\n",
        "\n",
        "1. https://observablehq.com/@bluprince13/an-interactive-explanation-of-the-t-test-to-compare-means\n",
        "3. https://machinelearningmastery.com/statistical-hypothesis-tests-in-python-cheat-sheet/\n",
        "1. https://en.wikipedia.org/wiki/Statistical_hypothesis_testing\n",
        "2. https://en.wikipedia.org/wiki/Student%27s_t-test"
      ]
    },
    {
      "cell_type": "markdown",
      "metadata": {
        "id": "5rzbTdBlObN5"
      },
      "source": [
        "## Modelo Linear\n",
        "\n",
        "Basicamente um Modelo Linear aproxima uma variável objetivo por meio de uma combinação linear de entradas. Por exemplo, aproximar o Preço de um imóvel a partir do seu Tamanho, Idade e número de Cômodos: \n",
        "\n",
        "$P_{e} = a_{0} + a_{1}T + a_{2}I + a_{3}C$\n",
        "\n",
        "Como isso não corresponde ao Preço real podemos escrever \n",
        "\n",
        "$P = a_{0} + a_{1}T + a_{2}I + a_{3}C + Error(P)$\n",
        "\n",
        "Para aplicar esse modelo, você nota que as variáveis são necessariamente numéricas. Mas ele pode ser aplicado também com variáveis categóricas. Para isso a transformação ideal empregada é o **Hot Enconde** (ou também chamado de *Dummy Encode*). Assim, poderíamos querer adicionar no nosso modelo de Preços a Região (N, S, L, O) para que o nosso modelo incorpora-se também a influência da região sobre os preços. O atributo Região seria então substituído pelos atributos binários de cada valor:\n",
        "\n",
        "$P_{e} = a_{0} + a_{1}T + a_{2}I + a_{3}C + a_{4}R_N + a_{5}R_S + a_{6}R_L + a_{7}R_O$\n",
        "\n",
        "Os coeficientes para o modelo são obtidos a partir de um conjunto de dados conhecido de Preços, Tamanho, etc.\n",
        "\n",
        "\n",
        "\n",
        "\n",
        "\n",
        "\n",
        "\n",
        "\n"
      ]
    },
    {
      "cell_type": "markdown",
      "metadata": {
        "id": "JqUR8hjvUAkI"
      },
      "source": [
        "### Referências\n",
        "\n",
        "1. https://en.wikipedia.org/wiki/Simple_linear_regression\n",
        "2. https://en.wikipedia.org/wiki/Linear_regression\n"
      ]
    },
    {
      "cell_type": "markdown",
      "metadata": {
        "id": "iDvnDtmm-_bs"
      },
      "source": [
        "## **Caso:** `t-test` **Glassdoor Salaries**, A diferença de salário entre Homens e Mulheres é suficientemente significava?\n",
        "\n",
        "Diferença da média salarial entre homens e mulheres na base Glassdoor é de 8514.73 ou 8.65 %. É uma diferença que, a primeira vista, parece ser significativa e nos levar a pensar que homens são privilegiados na companhia. Mas antes de respondermos que compara médias de diferentes grupos, vamos responder a uma outra pergunta que compara a média de salários (`income`) com uma média conhecida. "
      ]
    },
    {
      "cell_type": "code",
      "metadata": {
        "id": "5QqiF1W6p4Te",
        "colab": {
          "base_uri": "https://localhost:8080/",
          "height": 258
        },
        "outputId": "d21cd04b-147a-4b1e-9d34-fa5abeef245a"
      },
      "source": [
        "import pandas                  as pd\n",
        "import numpy                   as np\n",
        "import matplotlib.pyplot       as plt\n",
        "import seaborn                 as sns\n",
        "%matplotlib inline\n",
        "plt.style.use('ggplot')\n",
        "\n",
        "data = pd.read_csv('http://meusite.mackenzie.br/rogerio/TIC/Projects/glassdoordata.csv')\n",
        "data.head()\n"
      ],
      "execution_count": null,
      "outputs": [
        {
          "output_type": "stream",
          "text": [
            "/usr/local/lib/python3.6/dist-packages/statsmodels/tools/_testing.py:19: FutureWarning: pandas.util.testing is deprecated. Use the functions in the public API at pandas.testing instead.\n",
            "  import pandas.util.testing as tm\n"
          ],
          "name": "stderr"
        },
        {
          "output_type": "execute_result",
          "data": {
            "text/html": [
              "<div>\n",
              "<style scoped>\n",
              "    .dataframe tbody tr th:only-of-type {\n",
              "        vertical-align: middle;\n",
              "    }\n",
              "\n",
              "    .dataframe tbody tr th {\n",
              "        vertical-align: top;\n",
              "    }\n",
              "\n",
              "    .dataframe thead th {\n",
              "        text-align: right;\n",
              "    }\n",
              "</style>\n",
              "<table border=\"1\" class=\"dataframe\">\n",
              "  <thead>\n",
              "    <tr style=\"text-align: right;\">\n",
              "      <th></th>\n",
              "      <th>jobtitle</th>\n",
              "      <th>gender</th>\n",
              "      <th>age</th>\n",
              "      <th>performance</th>\n",
              "      <th>education</th>\n",
              "      <th>department</th>\n",
              "      <th>seniority</th>\n",
              "      <th>income</th>\n",
              "      <th>bonus</th>\n",
              "    </tr>\n",
              "  </thead>\n",
              "  <tbody>\n",
              "    <tr>\n",
              "      <th>0</th>\n",
              "      <td>Graphic Designer</td>\n",
              "      <td>Female</td>\n",
              "      <td>18</td>\n",
              "      <td>5</td>\n",
              "      <td>College</td>\n",
              "      <td>Operations</td>\n",
              "      <td>2</td>\n",
              "      <td>42363</td>\n",
              "      <td>9938</td>\n",
              "    </tr>\n",
              "    <tr>\n",
              "      <th>1</th>\n",
              "      <td>Software Engineer</td>\n",
              "      <td>Male</td>\n",
              "      <td>21</td>\n",
              "      <td>5</td>\n",
              "      <td>College</td>\n",
              "      <td>Management</td>\n",
              "      <td>5</td>\n",
              "      <td>108476</td>\n",
              "      <td>11128</td>\n",
              "    </tr>\n",
              "    <tr>\n",
              "      <th>2</th>\n",
              "      <td>Warehouse Associate</td>\n",
              "      <td>Female</td>\n",
              "      <td>19</td>\n",
              "      <td>4</td>\n",
              "      <td>PhD</td>\n",
              "      <td>Administration</td>\n",
              "      <td>5</td>\n",
              "      <td>90208</td>\n",
              "      <td>9268</td>\n",
              "    </tr>\n",
              "    <tr>\n",
              "      <th>3</th>\n",
              "      <td>Software Engineer</td>\n",
              "      <td>Male</td>\n",
              "      <td>20</td>\n",
              "      <td>5</td>\n",
              "      <td>Masters</td>\n",
              "      <td>Sales</td>\n",
              "      <td>4</td>\n",
              "      <td>108080</td>\n",
              "      <td>10154</td>\n",
              "    </tr>\n",
              "    <tr>\n",
              "      <th>4</th>\n",
              "      <td>Graphic Designer</td>\n",
              "      <td>Male</td>\n",
              "      <td>26</td>\n",
              "      <td>5</td>\n",
              "      <td>Masters</td>\n",
              "      <td>Engineering</td>\n",
              "      <td>5</td>\n",
              "      <td>99464</td>\n",
              "      <td>9319</td>\n",
              "    </tr>\n",
              "  </tbody>\n",
              "</table>\n",
              "</div>"
            ],
            "text/plain": [
              "              jobtitle  gender  age  ...  seniority  income  bonus\n",
              "0     Graphic Designer  Female   18  ...          2   42363   9938\n",
              "1    Software Engineer    Male   21  ...          5  108476  11128\n",
              "2  Warehouse Associate  Female   19  ...          5   90208   9268\n",
              "3    Software Engineer    Male   20  ...          4  108080  10154\n",
              "4     Graphic Designer    Male   26  ...          5   99464   9319\n",
              "\n",
              "[5 rows x 9 columns]"
            ]
          },
          "metadata": {
            "tags": []
          },
          "execution_count": 1
        }
      ]
    },
    {
      "cell_type": "markdown",
      "metadata": {
        "id": "oSP1kzxhqCx2"
      },
      "source": [
        "#### **Pergunta 1**: O Salário médio da empresa no ano passado foi de 96.000. A empresa fez uma série de ações no campo da remuneração para reduzir custos este ano (base atual) e tornar-se mais competitiva. Essas ações tiveram um efeito  significativo?"
      ]
    },
    {
      "cell_type": "code",
      "metadata": {
        "id": "17OGHaV6tjno"
      },
      "source": [
        "print('Média de Salário atual: ', data.income.mean())"
      ],
      "execution_count": null,
      "outputs": []
    },
    {
      "cell_type": "code",
      "metadata": {
        "id": "LyOCwl1ApueO",
        "colab": {
          "base_uri": "https://localhost:8080/",
          "height": 51
        },
        "outputId": "f894fd32-8d09-4819-f951-926fb086d2ea"
      },
      "source": [
        "# import statistics\n",
        "import statsmodels.api as sm\n",
        "from statsmodels.formula.api import ols\n",
        "import statsmodels\n",
        "from scipy import stats\n",
        "\n",
        "# t-test\n",
        "s, p = stats.ttest_1samp(data.income, popmean=96000)\n",
        "print('p-value: {:.4f}'.format(p))\n",
        "\n",
        "if p < 0.05:\n",
        "\tprint('Rejeita a Hipótese Nula')\n",
        "else:\n",
        "\tprint('Aceita a Hipótese Nula')"
      ],
      "execution_count": null,
      "outputs": [
        {
          "output_type": "stream",
          "text": [
            "p-value: 0.0569\n",
            "Aceita a Hipótese Nula\n"
          ],
          "name": "stdout"
        }
      ]
    },
    {
      "cell_type": "markdown",
      "metadata": {
        "id": "HbHlxTJVuLMh"
      },
      "source": [
        "**Conclusão**: Concluímos, portanto, que a medidas tomadas não foram efetivas na redução da média salarial sendo a redução, resultado unicamente da variação natural dos valores. \n",
        "\n",
        "Obviamente essa análise está sujeita a uma série de críticas não considerando uma série de fatores como inflação, alterações do mercado de trabalho, aumento de custos de MO etc.\n",
        "\n",
        "Veja a interpretação da análise."
      ]
    },
    {
      "cell_type": "code",
      "metadata": {
        "id": "6pIfRWpBuJPA"
      },
      "source": [
        "i = 0\n",
        "pvalues = []\n",
        "ivalues = []\n",
        "for v in range(90000,100000,100):\n",
        "    s, p = stats.ttest_1samp(data.income, popmean=v)\n",
        "    ivalues.append(v)\n",
        "    pvalues.append(p)\n",
        "    i = i + 1\n",
        "    \n",
        "sns.lineplot(ivalues,pvalues)    \n",
        "sns.lineplot([90000,99900],[0.05,0.05])\n",
        "plt.text(98000,0.07,'p critical value')\n",
        "plt.title('t-test values')\n",
        "plt.xlabel('income')\n",
        "plt.ylabel('p-values')\n",
        "plt.show()\n",
        "\n",
        "\n"
      ],
      "execution_count": null,
      "outputs": []
    },
    {
      "cell_type": "markdown",
      "metadata": {
        "id": "_PFP-X5muVtH"
      },
      "source": [
        "### **Pergunta 2:** A diferença de salário entre Homens e Mulheres é suficientemente significava?\n",
        "\n",
        "Vamos agora a nossa pergunta inicial. A diferença da média salarial entre homens e mulheres na base Glassdoor é de 8514.73 ou 8.65 %. Essa é mesmo uma diferença significativa? "
      ]
    },
    {
      "cell_type": "code",
      "metadata": {
        "id": "DMFc_O2Eu0z8",
        "colab": {
          "base_uri": "https://localhost:8080/",
          "height": 375
        },
        "outputId": "31d9bc8f-d49f-4fed-b93b-91f778938ba7"
      },
      "source": [
        "# EDA...\n",
        "\n",
        "incomeFemale = data[data.gender == 'Female'].income\n",
        "incomeMale = data[data.gender == 'Male'].income\n",
        "\n",
        "print('...Média de Salários')\n",
        "print('Homens {:.2f}'.format(incomeMale.mean()))\n",
        "print('Mulheres {:.2f}'.format(incomeFemale.mean()))\n",
        "print('Diferença da média salarial é de {:.2f} ou {:.2f} %'.format(\n",
        "        incomeMale.mean() - incomeFemale.mean(), 100*(incomeMale.mean() - incomeFemale.mean())/ incomeMale.mean()))\n",
        "\n",
        "sns.distplot(incomeFemale)\n",
        "sns.distplot(incomeMale)"
      ],
      "execution_count": null,
      "outputs": [
        {
          "output_type": "stream",
          "text": [
            "...Média de Salários\n",
            "Homens 98457.55\n",
            "Mulheres 89942.82\n",
            "Diferença da média salarial é de 8514.73 ou 8.65 %\n"
          ],
          "name": "stdout"
        },
        {
          "output_type": "execute_result",
          "data": {
            "text/plain": [
              "<matplotlib.axes._subplots.AxesSubplot at 0x7fd96ce605f8>"
            ]
          },
          "metadata": {
            "tags": []
          },
          "execution_count": 6
        },
        {
          "output_type": "display_data",
          "data": {
            "image/png": "[encoded data removed]",
            "text/plain": [
              "<Figure size 432x288 with 1 Axes>"
            ]
          },
          "metadata": {
            "tags": [],
            "needs_background": "light"
          }
        }
      ]
    },
    {
      "cell_type": "code",
      "metadata": {
        "id": "zr4kvn6HvFi_",
        "colab": {
          "base_uri": "https://localhost:8080/",
          "height": 51
        },
        "outputId": "26d3052e-26a8-44b3-c59f-8492c598a94a"
      },
      "source": [
        "s, p = stats.ttest_ind(incomeFemale, incomeMale, equal_var=False)\n",
        "s, p\n",
        "\n",
        "print('p-value: {:.4f}'.format(p))\n",
        "\n",
        "if p < 0.05:\n",
        "\tprint('Rejeita a Hipótese Nula')\n",
        "else:\n",
        "\tprint('Aceita a Hipótese Nula')"
      ],
      "execution_count": null,
      "outputs": [
        {
          "output_type": "stream",
          "text": [
            "p-value: 0.0000\n",
            "Rejeita a Hipótese Nula\n"
          ],
          "name": "stdout"
        }
      ]
    },
    {
      "cell_type": "markdown",
      "metadata": {
        "id": "8CkRVCSmvqmh"
      },
      "source": [
        "**Conclusão**: Concluímos, portanto, que não há diferença significativa entre a remuneração de homens e mulheres na empresa."
      ]
    },
    {
      "cell_type": "markdown",
      "metadata": {
        "id": "Qs5fxkNtf90N"
      },
      "source": [
        "## **Caso**: `Teste A/B` **Udacity**, Redução de Cancelamentos pela Alteração do Site\n",
        "\n",
        "O Teste A/B visa comparar a efetividade de um experimento ou mudança e tem grande aplicação desde testes clínicos a avaliações de e-commerce. \n",
        "\n",
        "Vamos verificar de modo bastante resumido o caso real do site **Udacity**. \n",
        "\n",
        "**Condição Inicial**. As páginas iniciais do curso Udacity têm duas opções: \"iniciar teste gratuito\" e \"acessar materiais do curso\". Clicar em \"Iniciar avaliação gratuita\" solicita que o usuário insira as informações do cartão de crédito, subseqüentemente, inscrevendo-as em uma avaliação gratuita de 14 dias do curso, após o que são cobradas automaticamente. Os usuários que clicarem em \"acessar materiais do curso\" poderão visualizar o conteúdo do curso, mas não receberão suporte de treinamento, certificado verificado ou feedback do projeto.\n",
        "\n",
        "**Mudança**. A Udacity testou uma mudança na qual os usuários que clicaram em \"iniciar a avaliação gratuita\" eram questionados sobre quanto tempo estavam dispostos a dedicar ao curso. Os usuários que escolherem 5 ou mais horas por semana serão submetidos ao processo de check-out, como de costume. Para usuários que indicam menos de 5 horas por semana, uma mensagem seria exibida indicando a necessidade de um compromisso maior de tempo para permitir o sucesso no curso e sugerindo para eles acessarem o conteúdo gratuito. Nesse ponto, o aluno teria a opção de continuar se matriculando na avaliação gratuita ou acessar os materiais do curso gratuitamente.\n",
        "\n",
        "**Ojetivo**. Aumentar a efetividade dos alunos inscritos no teste gratuíto permitindo a empresa focar seus esforços nesses alunos.\n",
        "\n",
        "\n",
        "**Desenho do Experimento**.\n",
        "\n",
        "> **Métricas**\n",
        "\n",
        ">> Invariant Metrics (controle): number of cookies, number of clicks, click-through-probability\n",
        "\n",
        ">> Evaluation Metrics (objetivo): gross conversion, net conversion"
      ]
    },
    {
      "cell_type": "markdown",
      "metadata": {
        "id": "zY1gpTkelAbK"
      },
      "source": [
        "## **Caso**: (Teste A/B) **Udacity**, Efetividade da Redução de Cancelamentos de Curso com a Alteração do Site\n",
        "\n",
        "O Teste A/B visa comparar a efetividade de um experimento e tem grande aplicação desde testes clínicos como em e-commerce. \n",
        "\n",
        "**Condição Inicial**. No momento do experimento descrito aqui, as páginas iniciais do curso Udacity têm duas opções: \"iniciar teste gratuito\" e \"acessar materiais do curso\". Clicar em \"Iniciar avaliação gratuita\" solicita que o usuário insira as informações do cartão de crédito, subseqüentemente, inscrevendo-as em uma avaliação gratuita de 14 dias do curso, após o que são cobradas automaticamente. Os usuários que clicarem em \"acessar materiais do curso\" poderão visualizar o conteúdo do curso, mas não receberão suporte de treinamento, certificado verificado ou feedback do projeto.\n",
        "\n",
        "**Experimento**. Para esse experimento, a Udacity testou uma mudança na qual os usuários que clicaram em \"iniciar a avaliação gratuita\" foram questionados quanto tempo estavam dispostos a dedicar ao curso. Os usuários que escolherem 5 ou mais horas por semana serão submetidos ao processo de check-out, como de costume. Para usuários que indicam menos de 5 horas por semana, uma mensagem seria exibida indicando a necessidade de um compromisso maior de tempo para permitir o sucesso e sugerindo que eles gostariam de acessar o conteúdo gratuito. Nesse ponto, o aluno teria a opção de continuar se matriculando na avaliação gratuita ou acessar os materiais do curso gratuitamente.\n",
        "\n",
        "**Desenho do Experimento**.\n",
        "\n",
        "> **Métricas**\n",
        "\n",
        ">> Invariant Metrics: number of cookies, number of clicks, click-through-probability\n",
        "\n",
        ">> Evaluation Metrics: gross conversion, net conversion"
      ]
    },
    {
      "cell_type": "markdown",
      "metadata": {
        "id": "PAOLHZw3342D"
      },
      "source": [
        "### Aquisição e Preparação dos Dados\n",
        "\n",
        "Você pode pular os detalhes se quiser e focar na avaliação dos resultados."
      ]
    },
    {
      "cell_type": "code",
      "metadata": {
        "id": "9ije3_DR3lKO",
        "colab": {
          "base_uri": "https://localhost:8080/",
          "height": 527
        },
        "outputId": "2a538026-95e1-4610-9e8b-e193760654fc"
      },
      "source": [
        "path = 'http://meusite.mackenzie.br/rogerio/TIC/udacity_ABTesting-master/data/'\n",
        "df_control = pd.read_csv(path + \"Control.csv\")\n",
        "df_experiment = pd.read_csv(path+ \"Experiment.csv\")\n",
        "\n",
        "df_control.describe() \n",
        "df_experiment.describe()\n",
        "\n",
        "df_control_notnull = df_control[pd.isnull(df_control.Enrollments) != True]\n",
        "df_experiment_notnull = df_experiment[pd.isnull(df_control.Enrollments) != True]\n",
        "\n",
        "df_SignTest = pd.merge(df_control_notnull,df_experiment_notnull,on=\"Date\")\n",
        "df_SignTest['GrossConversion_cont'] = df_SignTest.Enrollments_x/df_SignTest.Clicks_x\n",
        "df_SignTest['GrossConversion_exp'] = df_SignTest.Enrollments_y/df_SignTest.Clicks_y\n",
        "df_SignTest['NetConversion_cont'] = df_SignTest.Payments_x/df_SignTest.Clicks_x\n",
        "df_SignTest['NetConversion_exp'] = df_SignTest.Payments_y/df_SignTest.Clicks_y\n",
        "\n",
        "cols = ['Date','GrossConversion_cont','GrossConversion_exp','NetConversion_cont','NetConversion_exp']\n",
        "\n",
        "df_SignTest = df_SignTest[cols]\n",
        "# df_SignTest.describe()\n",
        "\n",
        "print(df_SignTest)\n",
        "print('NetConversion controle......: {:.2f} %'.format(df_SignTest.NetConversion_cont.mean()*100))\n",
        "print('NetConversion experimento...: {:.2f} %'.format(df_SignTest.NetConversion_exp.mean()*100))\n",
        "\n",
        "print('GrossCoversion controle.....: {:.2f} %'.format(df_SignTest.GrossConversion_cont.mean()*100))\n",
        "print('GrossConversion experimento.: {:.2f} %'.format(df_SignTest.GrossConversion_exp.mean()*100))\n",
        "\n"
      ],
      "execution_count": null,
      "outputs": [
        {
          "output_type": "stream",
          "text": [
            "           Date  GrossConversion_cont  ...  NetConversion_cont  NetConversion_exp\n",
            "0   Sat, Oct 11              0.195051  ...            0.101892           0.049563\n",
            "1   Sun, Oct 12              0.188703  ...            0.089859           0.115924\n",
            "2   Mon, Oct 13              0.183718  ...            0.104510           0.089367\n",
            "3   Tue, Oct 14              0.186603  ...            0.125598           0.111245\n",
            "4   Wed, Oct 15              0.194743  ...            0.076464           0.112981\n",
            "5   Thu, Oct 16              0.167679  ...            0.099635           0.077411\n",
            "6   Fri, Oct 17              0.195187  ...            0.101604           0.056410\n",
            "7   Sat, Oct 18              0.174051  ...            0.110759           0.095092\n",
            "8   Sun, Oct 19              0.189580  ...            0.086831           0.110473\n",
            "9   Mon, Oct 20              0.191638  ...            0.112660           0.113953\n",
            "10  Tue, Oct 21              0.226067  ...            0.121107           0.082176\n",
            "11  Wed, Oct 22              0.193317  ...            0.109785           0.087391\n",
            "12  Thu, Oct 23              0.190977  ...            0.084211           0.105919\n",
            "13  Fri, Oct 24              0.326895  ...            0.181278           0.134864\n",
            "14  Sat, Oct 25              0.254703  ...            0.185239           0.121076\n",
            "15  Sun, Oct 26              0.227401  ...            0.146893           0.145743\n",
            "16  Mon, Oct 27              0.306983  ...            0.163373           0.154345\n",
            "17  Tue, Oct 28              0.209239  ...            0.123641           0.163043\n",
            "18  Wed, Oct 29              0.265223  ...            0.116373           0.132050\n",
            "19  Thu, Oct 30              0.227520  ...            0.102180           0.092033\n",
            "20  Fri, Oct 31              0.246459  ...            0.143059           0.170360\n",
            "21   Sat, Nov 1              0.229075  ...            0.136564           0.143885\n",
            "22   Sun, Nov 2              0.297258  ...            0.096681           0.142265\n",
            "\n",
            "[23 rows x 5 columns]\n",
            "NetConversion controle......: 11.83 %\n",
            "NetConversion experimento...: 11.34 %\n",
            "GrossCoversion controle.....: 22.04 %\n",
            "GrossConversion experimento.: 19.96 %\n"
          ],
          "name": "stdout"
        }
      ]
    },
    {
      "cell_type": "markdown",
      "metadata": {
        "id": "bVZfL9FH4Egh"
      },
      "source": [
        "### Avaliação do Experimento `t-Teste`"
      ]
    },
    {
      "cell_type": "code",
      "metadata": {
        "id": "dxwhKNr0aZ8R",
        "colab": {
          "base_uri": "https://localhost:8080/",
          "height": 85
        },
        "outputId": "32c4d0f7-163d-4d19-e914-97f835b0f456"
      },
      "source": [
        "s, p = stats.ttest_ind(df_SignTest.GrossConversion_cont,\n",
        "                                    df_SignTest.GrossConversion_exp, equal_var=False)\n",
        "print('p-value: {:.4f}'.format(p))\n",
        "\n",
        "if p < 0.05:\n",
        "\tprint('Rejeita a Hipótese Nula')\n",
        "else:\n",
        "\tprint('Aceita a Hipótese Nula')\n",
        "    \n",
        "s, p = stats.ttest_ind(df_SignTest.NetConversion_cont,\n",
        "                                    df_SignTest.NetConversion_exp, equal_var=False)\n",
        "\n",
        "print('p-value: {:.4f}'.format(p))\n",
        "\n",
        "if p < 0.05:\n",
        "\tprint('Rejeita a Hipótese Nula')\n",
        "else:\n",
        "\tprint('Aceita a Hipótese Nula')\n"
      ],
      "execution_count": null,
      "outputs": [
        {
          "output_type": "stream",
          "text": [
            "p-value: 0.1308\n",
            "Aceita a Hipótese Nula\n",
            "p-value: 0.5928\n",
            "Aceita a Hipótese Nula\n"
          ],
          "name": "stdout"
        }
      ]
    },
    {
      "cell_type": "markdown",
      "metadata": {
        "id": "BtGkpqt25VJ2"
      },
      "source": [
        "**Conclusão**: A mudança no site não foi efetiva para aumentar a efetividade dos alunos que aderiam ao teste gratuíto dos cursos."
      ]
    }
  ]
}