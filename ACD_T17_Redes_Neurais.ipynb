{
  "nbformat": 4,
  "nbformat_minor": 0,
  "metadata": {
    "anaconda-cloud": {},
    "kernelspec": {
      "display_name": "Python 3",
      "language": "python",
      "name": "python3"
    },
    "language_info": {
      "codemirror_mode": {
        "name": "ipython",
        "version": 3
      },
      "file_extension": ".py",
      "mimetype": "text/x-python",
      "name": "python",
      "nbconvert_exporter": "python",
      "pygments_lexer": "ipython3",
      "version": "3.7.4"
    },
    "colab": {
      "name": "ACD_T17_Redes_Neurais.ipynb",
      "provenance": [],
      "collapsed_sections": []
    }
  },
  "cells": [
    {
      "cell_type": "markdown",
      "metadata": {
        "id": "gglUriLmo1sR"
      },
      "source": [
        "<head>\n",
        "  <meta name=\"author\" content=\"Rogério de Oliveira\">\n",
        "  <meta institution=\"author\" content=\"Universidade Presbiteriana Mackenzie\">\n",
        "</head>\n",
        "\n",
        "<img src=\"http://meusite.mackenzie.br/rogerio/mackenzie_logo/UPM.2_horizontal_vermelho.jpg\" width=300, align=\"right\"></a>\n",
        "<!-- <h1 align=left><font size = 6, style=\"color:rgb(200,0,0)\"> optional title </font></h1> -->"
      ]
    },
    {
      "cell_type": "markdown",
      "metadata": {
        "id": "-G7aCMh4r9y1"
      },
      "source": [
        "<h1 align=left><font size = 6, style=\"color:rgb(200,0,0)\">Redes Neurais</font></h1>\n",
        "<hr>"
      ]
    },
    {
      "cell_type": "markdown",
      "metadata": {
        "id": "pdezH1eUfp1Z"
      },
      "source": [
        "# **IMPORTANTE:** Antes de começar \n",
        "\n",
        "Execute a célula final desse Lab. Ela irá **inicializar** o seu ambiente com rotinas que são empregadas aqui."
      ]
    },
    {
      "cell_type": "markdown",
      "metadata": {
        "_uuid": "9dd9e07c590ca22f0c525222f60f0ebff4e092c6",
        "id": "HpKAvplIAYQ3"
      },
      "source": [
        "## Neurônio simples\n",
        " \n",
        "Um neurônio artificial nada mais é do que um artefato de software que faz uma combinação linear das entradas e aplica um função de ativação como a função $sign$, $tanh$ ou $relu$ para produzir uma saída.\n",
        "\n",
        "$$ f(X) = sign( w_0 + w_1 x_1 + ... + w_n x_n ) $$\n",
        "\n",
        "O treinamento do neurônio é feito ajustando-se os pesos $w_n$ de acordo com o erro de predição obtido para se estimar a saída $f(X) \\cong y$.\n",
        "\n",
        "$$ \\min_{W} \\sum || f(X)- y || $$\n"
      ]
    },
    {
      "cell_type": "markdown",
      "metadata": {
        "id": "N0ZYb-_Dn3IP"
      },
      "source": [
        "## Treinando a função **OR**\n",
        "\n",
        "O código abaixo mostra o treinamento da função **OR** com um único neurônio com função de ativação $sign$ (função sinal).\n",
        "\n",
        "Função $OR(X) \\rightarrow y$:\n",
        "\n",
        "```\n",
        "  X     y\n",
        " 0 0    0\n",
        " 0 1    1\n",
        " 1 0    1\n",
        " 1 0    1\n",
        "```"
      ]
    },
    {
      "cell_type": "code",
      "metadata": {
        "id": "kyYa_XuqqDjL",
        "colab": {
          "base_uri": "https://localhost:8080/",
          "height": 366
        },
        "outputId": "c4d084d4-b940-4827-c1af-bf71bc2f6f01"
      },
      "source": [
        "X = np.matrix([ [0,0], [1,0], [0,1], [1,1] ])\n",
        "y = np.matrix( [-1, 1, 1, 1] )\n",
        "\n",
        "error = []\n",
        "W1 = np.matrix([ [0.4,0.4] ])               # initial Weigths\n",
        "W0 = -0.5\n",
        "y_pred = np.sign( W1*X.T + W0 )\n",
        "print(y_pred)\n",
        "error.append(np.abs( (y_pred - y).sum() ))\n",
        "\n",
        "W1 = np.matrix([ [0.4,0.5] ])\n",
        "W0 = -0.5\n",
        "y_pred = np.sign( W1*X.T + W0 )\n",
        "print(y_pred)\n",
        "error.append(np.abs( (y_pred - y).sum() ))\n",
        "\n",
        "W1 = np.matrix([ [0.5,0.5] ])\n",
        "W0 = -0.5\n",
        "y_pred = np.sign( W1*X.T + W0 )\n",
        "print(y_pred)\n",
        "error.append(np.abs( (y_pred - y).sum() ))\n",
        "\n",
        "W1 = np.matrix([ [0.5,0.5] ])\n",
        "W0 = -0.4\n",
        "y_pred = np.sign( W1*X.T + W0 )\n",
        "print(y_pred)\n",
        "error.append(np.abs( (y_pred - y).sum() ))\n",
        "\n",
        "sns.lineplot(range(4),error)\n",
        "plt.title('Training Error')"
      ],
      "execution_count": null,
      "outputs": [
        {
          "output_type": "stream",
          "text": [
            "[[-1. -1. -1.  1.]]\n",
            "[[-1. -1.  0.  1.]]\n",
            "[[-1.  0.  0.  1.]]\n",
            "[[-1.  1.  1.  1.]]\n"
          ],
          "name": "stdout"
        },
        {
          "output_type": "execute_result",
          "data": {
            "text/plain": [
              "Text(0.5, 1.0, 'Training Error')"
            ]
          },
          "metadata": {
            "tags": []
          },
          "execution_count": 2
        },
        {
          "output_type": "display_data",
          "data": {
            "image/png": "[encoded data removed]",
            "text/plain": [
              "<Figure size 432x288 with 1 Axes>"
            ]
          },
          "metadata": {
            "tags": [],
            "needs_background": "light"
          }
        }
      ]
    },
    {
      "cell_type": "markdown",
      "metadata": {
        "_uuid": "9dd9e07c590ca22f0c525222f60f0ebff4e092c6",
        "id": "y_DVV_CJMMuC"
      },
      "source": [
        "## Redes neurais \n",
        " \n",
        "Um único neurônio entretanto tem uma capacidade limitada de aprendizado. Por exemplo, ele não consegue aprender a função **XOR**.\n",
        "\n",
        "\n",
        "Função $XOR(X) \\rightarrow y$:\n",
        "\n",
        "```\n",
        "  X     y\n",
        " 0 0    0\n",
        " 0 1    1\n",
        " 1 0    1\n",
        " 1 0    0\n",
        "```\n",
        "\n",
        "Pois um único neurônio somente tem capacidade para fazer a separação de conjuntos linearmente separáveis.\n",
        "\n",
        "Para resolver essa limitação podemos então trabalhar com múltiplos neurônios em camadas. As saídas dos neurônios de uma camada são então empregadas como entradas para a camada seguinte. As camadas entre a camada inicial de neurônios (de entrada) e a camada final (de saída) constitui as camadas ocultas da rede.\n",
        "\n",
        "O treinamento da rede segue o mesmo princípio, embora mais complexo, ajustando os pesos $w_n$ de acordo com o erro de predição obtido para se estimar a saída $f(X) \\cong y$.\n",
        "\n",
        "$$ \\min_{W} \\sum || f(X)- y || $$\n",
        "\n",
        "Chamamos esse aprendizado de *backpropagation* ou *retropropagação*.\n",
        "\n",
        "Acesse agora http://playground.tensorflow.org/ para uma demonstração."
      ]
    },
    {
      "cell_type": "markdown",
      "metadata": {
        "id": "Li1FPlObIQAh"
      },
      "source": [
        "## **Case**: Detecção de Fraude em Operações de Cartão de Crédito\n",
        "\n",
        "http://meusite.mackenzie.br/rogerio/ML/The-InfoQ-eMag-Introduction-to-Machine-Learning.pdf\n",
        "\n",
        "Esse artigo trás uma ótima introdução ao Aprendizado de Máquina. O artigo demonstra a aplicação de dois modelos de classificação,**Árvores de Decisão e Regressão Logística**, para um conjunto de dado simples para detecção de fraude em operações de cartões de crédito. \n",
        "\n",
        "Aqui você vai empregar o mesmo conjunto de dados para um aprendizado de Deep Learning com **TensorFlow+Keras**. \n",
        "\n",
        "URL: https://meusite.mackenzie.br/rogerio/ML/qconlondon2016_sample_data.csv\n",
        "\n",
        "**IMPORTANTE** \n",
        "O uso de deeplearning pode ser bastante complexo e exigiria um bom tempo para estarmos aptos a empregar suas funções em diferentes problemas. Entenda esse exemplo como uma *degustação* do deep learning apenas para que você possa fixar os conceitos dessa técnica."
      ]
    },
    {
      "cell_type": "markdown",
      "metadata": {
        "id": "yjsISOzrZzPg"
      },
      "source": [
        "## Explorando os dados\n"
      ]
    },
    {
      "cell_type": "code",
      "metadata": {
        "id": "WUYc-QJxugaZ"
      },
      "source": [
        "# imports\n",
        "import numpy as np \n",
        "import pandas as pd \n",
        "import matplotlib.pyplot as plt \n",
        "import seaborn as sns \n",
        "import warnings\n",
        "import os\n",
        "warnings.filterwarnings(\"ignore\")\n",
        "\n",
        "from sklearn.model_selection import train_test_split\n",
        "from sklearn.metrics import confusion_matrix\n",
        "from sklearn.metrics import classification_report\n",
        "\n",
        "from tensorflow import keras\n",
        "from tensorflow.keras import layers\n",
        "from keras import Sequential, layers\n",
        "import tensorflow as tf"
      ],
      "execution_count": null,
      "outputs": []
    },
    {
      "cell_type": "code",
      "metadata": {
        "id": "SIeEbP1HZxop",
        "colab": {
          "base_uri": "https://localhost:8080/"
        },
        "outputId": "76682338-9922-4f74-9a75-1a55739f62a6"
      },
      "source": [
        "fraud = pd.read_csv(\"https://meusite.mackenzie.br/rogerio/ML/qconlondon2016_sample_data.csv\")\n",
        "fraud.drop(columns=['charge_time'],inplace=True) # por simplicidade excluímos esse dado do treinamento\n",
        "                     \n",
        "print(fraud.head())\n",
        "print(fraud.shape) \n",
        "\n"
      ],
      "execution_count": null,
      "outputs": [
        {
          "output_type": "stream",
          "text": [
            "   fraudulent  amount card_country  card_use_24h\n",
            "0       False   20484           US             0\n",
            "1       False    1211           US             0\n",
            "2       False    8396           US             1\n",
            "3       False    2359           US             0\n",
            "4       False    1480           US             3\n",
            "(89393, 4)\n"
          ],
          "name": "stdout"
        }
      ]
    },
    {
      "cell_type": "markdown",
      "metadata": {
        "id": "oeRSk9LpaisT"
      },
      "source": [
        "## Preparando os dados `X` e `y`\n",
        "\n",
        "A preparação dos dados pode ser bastante complexa. Aqui ela envolve o **hot encode** dos atributos não numéricos, o rescaling dos dados e ainda a formatação dos dados para os padrões do **TensorFlow/Keras** (formato de matrizes e não dataframes)."
      ]
    },
    {
      "cell_type": "markdown",
      "metadata": {
        "id": "qiu60pVtxFN-"
      },
      "source": [
        "**Preparando a entrada `X` (hot encode, Scaler).**"
      ]
    },
    {
      "cell_type": "code",
      "metadata": {
        "id": "WSLEWuI0a9go",
        "colab": {
          "base_uri": "https://localhost:8080/",
          "height": 297
        },
        "outputId": "35d49856-6259-4228-e438-0a3469651c8a"
      },
      "source": [
        "X = fraud.drop(columns=['fraudulent'])\n",
        "    \n",
        "X_number = X.select_dtypes(include='number')\n",
        "X_categorical = X.select_dtypes(exclude='number')\n",
        "    \n",
        "dummies = [pd.get_dummies(X[c],prefix=c, prefix_sep='_') for c in X_categorical.columns]\n",
        "X = pd.concat(dummies, axis=1)\n",
        "    \n",
        "frames = [X_number,X]\n",
        "X = pd.concat(frames, axis=1)\n",
        "X.iloc[0]\n",
        "\n",
        "from sklearn.preprocessing import StandardScaler\n",
        "\n",
        "scaler = StandardScaler()\n",
        "scaler.fit(X)\n",
        "X_matrix = scaler.transform(X)\n",
        "temp = X.index\n",
        "X = pd.DataFrame(X_matrix,columns=X.columns)\n",
        "X.index = temp\n",
        "X.describe()\n"
      ],
      "execution_count": null,
      "outputs": [
        {
          "output_type": "execute_result",
          "data": {
            "text/html": [
              "<div>\n",
              "<style scoped>\n",
              "    .dataframe tbody tr th:only-of-type {\n",
              "        vertical-align: middle;\n",
              "    }\n",
              "\n",
              "    .dataframe tbody tr th {\n",
              "        vertical-align: top;\n",
              "    }\n",
              "\n",
              "    .dataframe thead th {\n",
              "        text-align: right;\n",
              "    }\n",
              "</style>\n",
              "<table border=\"1\" class=\"dataframe\">\n",
              "  <thead>\n",
              "    <tr style=\"text-align: right;\">\n",
              "      <th></th>\n",
              "      <th>amount</th>\n",
              "      <th>card_use_24h</th>\n",
              "      <th>card_country_AU</th>\n",
              "      <th>card_country_GB</th>\n",
              "      <th>card_country_US</th>\n",
              "    </tr>\n",
              "  </thead>\n",
              "  <tbody>\n",
              "    <tr>\n",
              "      <th>count</th>\n",
              "      <td>8.939300e+04</td>\n",
              "      <td>8.939300e+04</td>\n",
              "      <td>8.939300e+04</td>\n",
              "      <td>8.939300e+04</td>\n",
              "      <td>8.939300e+04</td>\n",
              "    </tr>\n",
              "    <tr>\n",
              "      <th>mean</th>\n",
              "      <td>3.053817e-16</td>\n",
              "      <td>-1.729873e-14</td>\n",
              "      <td>-9.032136e-18</td>\n",
              "      <td>4.297227e-14</td>\n",
              "      <td>-9.967645e-14</td>\n",
              "    </tr>\n",
              "    <tr>\n",
              "      <th>std</th>\n",
              "      <td>1.000006e+00</td>\n",
              "      <td>1.000006e+00</td>\n",
              "      <td>1.000006e+00</td>\n",
              "      <td>1.000006e+00</td>\n",
              "      <td>1.000006e+00</td>\n",
              "    </tr>\n",
              "    <tr>\n",
              "      <th>min</th>\n",
              "      <td>-2.372910e-01</td>\n",
              "      <td>-1.729671e-01</td>\n",
              "      <td>-1.567963e-01</td>\n",
              "      <td>-1.782893e-01</td>\n",
              "      <td>-4.152974e+00</td>\n",
              "    </tr>\n",
              "    <tr>\n",
              "      <th>25%</th>\n",
              "      <td>-1.981673e-01</td>\n",
              "      <td>-1.729671e-01</td>\n",
              "      <td>-1.567963e-01</td>\n",
              "      <td>-1.782893e-01</td>\n",
              "      <td>2.407913e-01</td>\n",
              "    </tr>\n",
              "    <tr>\n",
              "      <th>50%</th>\n",
              "      <td>-1.619712e-01</td>\n",
              "      <td>-1.280861e-01</td>\n",
              "      <td>-1.567963e-01</td>\n",
              "      <td>-1.782893e-01</td>\n",
              "      <td>2.407913e-01</td>\n",
              "    </tr>\n",
              "    <tr>\n",
              "      <th>75%</th>\n",
              "      <td>-7.765084e-02</td>\n",
              "      <td>-3.832406e-02</td>\n",
              "      <td>-1.567963e-01</td>\n",
              "      <td>-1.782893e-01</td>\n",
              "      <td>2.407913e-01</td>\n",
              "    </tr>\n",
              "    <tr>\n",
              "      <th>max</th>\n",
              "      <td>1.153412e+02</td>\n",
              "      <td>3.869400e+01</td>\n",
              "      <td>6.377700e+00</td>\n",
              "      <td>5.608862e+00</td>\n",
              "      <td>2.407913e-01</td>\n",
              "    </tr>\n",
              "  </tbody>\n",
              "</table>\n",
              "</div>"
            ],
            "text/plain": [
              "             amount  card_use_24h  ...  card_country_GB  card_country_US\n",
              "count  8.939300e+04  8.939300e+04  ...     8.939300e+04     8.939300e+04\n",
              "mean   3.053817e-16 -1.729873e-14  ...     4.297227e-14    -9.967645e-14\n",
              "std    1.000006e+00  1.000006e+00  ...     1.000006e+00     1.000006e+00\n",
              "min   -2.372910e-01 -1.729671e-01  ...    -1.782893e-01    -4.152974e+00\n",
              "25%   -1.981673e-01 -1.729671e-01  ...    -1.782893e-01     2.407913e-01\n",
              "50%   -1.619712e-01 -1.280861e-01  ...    -1.782893e-01     2.407913e-01\n",
              "75%   -7.765084e-02 -3.832406e-02  ...    -1.782893e-01     2.407913e-01\n",
              "max    1.153412e+02  3.869400e+01  ...     5.608862e+00     2.407913e-01\n",
              "\n",
              "[8 rows x 5 columns]"
            ]
          },
          "metadata": {
            "tags": []
          },
          "execution_count": 5
        }
      ]
    },
    {
      "cell_type": "markdown",
      "metadata": {
        "id": "enCMBD5YxXiU"
      },
      "source": [
        "**Preparando a saída `y`**\n",
        "\n",
        "Valores numéricos para a saída de rede."
      ]
    },
    {
      "cell_type": "code",
      "metadata": {
        "id": "qf1XLBOHxbzd"
      },
      "source": [
        "fraud.fraudulent = fraud.fraudulent.replace(True,1)\n",
        "fraud.fraudulent = fraud.fraudulent.replace(False,0)\n",
        "\n",
        "y = fraud.fraudulent"
      ],
      "execution_count": null,
      "outputs": []
    },
    {
      "cell_type": "markdown",
      "metadata": {
        "id": "L40cJF1ccN5C"
      },
      "source": [
        "## Separando os dados de Treinamento e Teste"
      ]
    },
    {
      "cell_type": "code",
      "metadata": {
        "id": "RdElnvhvcSAe"
      },
      "source": [
        "seed = 1984\n",
        "X_train, X_test, y_train, y_test = train_test_split(X, y, test_size=0.3, stratify=y, random_state=seed)\n"
      ],
      "execution_count": null,
      "outputs": []
    },
    {
      "cell_type": "markdown",
      "metadata": {
        "id": "rfOUECSdyENj"
      },
      "source": [
        "## Adequando os dados para o `Keras`\n",
        "\n",
        "Os dados são reformatados em matrizes e a saída em uma matriz binária."
      ]
    },
    {
      "cell_type": "code",
      "metadata": {
        "id": "GNQYR8xQyWeD"
      },
      "source": [
        "Xm = X_train\n",
        "Xm = np.matrix(Xm)\n",
        "\n",
        "ym = y_train\n",
        "ym = np.transpose(np.matrix(ym))\n",
        "\n",
        "from keras.utils import to_categorical\n",
        "y_binary = to_categorical(ym)\n"
      ],
      "execution_count": null,
      "outputs": []
    },
    {
      "cell_type": "markdown",
      "metadata": {
        "id": "zoKFbY_gyf2Z"
      },
      "source": [
        "## Configuração e Treinamento da Rede DeepLearning\n",
        "\n",
        "Nossa rede terá 5 neurônios de entrada, correspondendo a cada atributo de entrada, duas camadas ocultas de 8 neurônios, e uma camada de saída com 2 neurônios correspondendo às duas classes de saída.\n",
        "\n",
        "```\n",
        "model = Sequential([layers.Dense(Xm.shape[1], activation='sigmoid', input_shape=[Xm.shape[1],])]) \n",
        "\n",
        "model.add(layers.Dense(8, activation='sigmoid'))\n",
        "model.add(layers.Dense(8, activation='sigmoid'))\n",
        "model.add(layers.Dense(2, activation='sigmoid'))\n",
        "```\n",
        "\n"
      ]
    },
    {
      "cell_type": "code",
      "metadata": {
        "id": "YVUC8oWhylEQ",
        "colab": {
          "base_uri": "https://localhost:8080/"
        },
        "outputId": "7e1dac6b-27e5-442b-a8d2-877821caa340"
      },
      "source": [
        "all_results = [] \n",
        "\n",
        "# Definição\n",
        "\n",
        "model = Sequential([layers.Dense(Xm.shape[1], activation='sigmoid', input_shape=[Xm.shape[1],])]) \n",
        "\n",
        "model.add(layers.Dense(8, activation='sigmoid'))\n",
        "model.add(layers.Dense(8, activation='sigmoid'))\n",
        "model.add(layers.Dense(2, activation='sigmoid'))\n",
        "model.compile(loss='categorical_crossentropy', optimizer='adam', metrics=['accuracy'])\n",
        "\n",
        "# Treinamento\n",
        "history = model.fit(Xm, y_binary, validation_split=0.2, epochs=100)\n"
      ],
      "execution_count": null,
      "outputs": [
        {
          "output_type": "stream",
          "text": [
            "Epoch 1/100\n",
            "1565/1565 [==============================] - 2s 1ms/step - loss: 0.6861 - accuracy: 0.5691 - val_loss: 0.6626 - val_accuracy: 0.6320\n",
            "Epoch 2/100\n",
            "1565/1565 [==============================] - 2s 1ms/step - loss: 0.6306 - accuracy: 0.6630 - val_loss: 0.6147 - val_accuracy: 0.6690\n",
            "Epoch 3/100\n",
            "1565/1565 [==============================] - 2s 1ms/step - loss: 0.6108 - accuracy: 0.6716 - val_loss: 0.6108 - val_accuracy: 0.6731\n",
            "Epoch 4/100\n",
            "1565/1565 [==============================] - 2s 1ms/step - loss: 0.6096 - accuracy: 0.6719 - val_loss: 0.6104 - val_accuracy: 0.6703\n",
            "Epoch 5/100\n",
            "1565/1565 [==============================] - 2s 1ms/step - loss: 0.6091 - accuracy: 0.6715 - val_loss: 0.6116 - val_accuracy: 0.6673\n",
            "Epoch 6/100\n",
            "1565/1565 [==============================] - 2s 1ms/step - loss: 0.6087 - accuracy: 0.6715 - val_loss: 0.6097 - val_accuracy: 0.6718\n",
            "Epoch 7/100\n",
            "1565/1565 [==============================] - 2s 1ms/step - loss: 0.6085 - accuracy: 0.6720 - val_loss: 0.6094 - val_accuracy: 0.6714\n",
            "Epoch 8/100\n",
            "1565/1565 [==============================] - 2s 1ms/step - loss: 0.6080 - accuracy: 0.6726 - val_loss: 0.6090 - val_accuracy: 0.6726\n",
            "Epoch 9/100\n",
            "1565/1565 [==============================] - 2s 1ms/step - loss: 0.6079 - accuracy: 0.6722 - val_loss: 0.6105 - val_accuracy: 0.6652\n",
            "Epoch 10/100\n",
            "1565/1565 [==============================] - 2s 1ms/step - loss: 0.6075 - accuracy: 0.6727 - val_loss: 0.6095 - val_accuracy: 0.6689\n",
            "Epoch 11/100\n",
            "1565/1565 [==============================] - 2s 1ms/step - loss: 0.6074 - accuracy: 0.6721 - val_loss: 0.6080 - val_accuracy: 0.6734\n",
            "Epoch 12/100\n",
            "1565/1565 [==============================] - 2s 1ms/step - loss: 0.6072 - accuracy: 0.6732 - val_loss: 0.6077 - val_accuracy: 0.6737\n",
            "Epoch 13/100\n",
            "1565/1565 [==============================] - 2s 1ms/step - loss: 0.6070 - accuracy: 0.6739 - val_loss: 0.6079 - val_accuracy: 0.6730\n",
            "Epoch 14/100\n",
            "1565/1565 [==============================] - 2s 1ms/step - loss: 0.6068 - accuracy: 0.6736 - val_loss: 0.6073 - val_accuracy: 0.6743\n",
            "Epoch 15/100\n",
            "1565/1565 [==============================] - 2s 1ms/step - loss: 0.6067 - accuracy: 0.6730 - val_loss: 0.6075 - val_accuracy: 0.6738\n",
            "Epoch 16/100\n",
            "1565/1565 [==============================] - 2s 1ms/step - loss: 0.6067 - accuracy: 0.6724 - val_loss: 0.6070 - val_accuracy: 0.6735\n",
            "Epoch 17/100\n",
            "1565/1565 [==============================] - 2s 1ms/step - loss: 0.6066 - accuracy: 0.6730 - val_loss: 0.6081 - val_accuracy: 0.6714\n",
            "Epoch 18/100\n",
            "1565/1565 [==============================] - 2s 1ms/step - loss: 0.6065 - accuracy: 0.6735 - val_loss: 0.6073 - val_accuracy: 0.6730\n",
            "Epoch 19/100\n",
            "1565/1565 [==============================] - 2s 1ms/step - loss: 0.6065 - accuracy: 0.6726 - val_loss: 0.6083 - val_accuracy: 0.6715\n",
            "Epoch 20/100\n",
            "1565/1565 [==============================] - 2s 1ms/step - loss: 0.6064 - accuracy: 0.6747 - val_loss: 0.6069 - val_accuracy: 0.6740\n",
            "Epoch 21/100\n",
            "1565/1565 [==============================] - 2s 1ms/step - loss: 0.6063 - accuracy: 0.6734 - val_loss: 0.6079 - val_accuracy: 0.6719\n",
            "Epoch 22/100\n",
            "1565/1565 [==============================] - 2s 1ms/step - loss: 0.6062 - accuracy: 0.6732 - val_loss: 0.6073 - val_accuracy: 0.6729\n",
            "Epoch 23/100\n",
            "1565/1565 [==============================] - 2s 1ms/step - loss: 0.6061 - accuracy: 0.6728 - val_loss: 0.6069 - val_accuracy: 0.6731\n",
            "Epoch 24/100\n",
            "1565/1565 [==============================] - 2s 1ms/step - loss: 0.6061 - accuracy: 0.6725 - val_loss: 0.6065 - val_accuracy: 0.6742\n",
            "Epoch 25/100\n",
            "1565/1565 [==============================] - 2s 1ms/step - loss: 0.6060 - accuracy: 0.6726 - val_loss: 0.6068 - val_accuracy: 0.6737\n",
            "Epoch 26/100\n",
            "1565/1565 [==============================] - 2s 1ms/step - loss: 0.6060 - accuracy: 0.6733 - val_loss: 0.6068 - val_accuracy: 0.6741\n",
            "Epoch 27/100\n",
            "1565/1565 [==============================] - 2s 1ms/step - loss: 0.6059 - accuracy: 0.6731 - val_loss: 0.6066 - val_accuracy: 0.6729\n",
            "Epoch 28/100\n",
            "1565/1565 [==============================] - 2s 1ms/step - loss: 0.6058 - accuracy: 0.6736 - val_loss: 0.6072 - val_accuracy: 0.6761\n",
            "Epoch 29/100\n",
            "1565/1565 [==============================] - 2s 1ms/step - loss: 0.6059 - accuracy: 0.6730 - val_loss: 0.6071 - val_accuracy: 0.6718\n",
            "Epoch 30/100\n",
            "1565/1565 [==============================] - 2s 1ms/step - loss: 0.6057 - accuracy: 0.6733 - val_loss: 0.6064 - val_accuracy: 0.6742\n",
            "Epoch 31/100\n",
            "1565/1565 [==============================] - 2s 1ms/step - loss: 0.6057 - accuracy: 0.6735 - val_loss: 0.6064 - val_accuracy: 0.6768\n",
            "Epoch 32/100\n",
            "1565/1565 [==============================] - 2s 1ms/step - loss: 0.6057 - accuracy: 0.6726 - val_loss: 0.6078 - val_accuracy: 0.6730\n",
            "Epoch 33/100\n",
            "1565/1565 [==============================] - 2s 1ms/step - loss: 0.6057 - accuracy: 0.6736 - val_loss: 0.6067 - val_accuracy: 0.6751\n",
            "Epoch 34/100\n",
            "1565/1565 [==============================] - 2s 1ms/step - loss: 0.6057 - accuracy: 0.6726 - val_loss: 0.6063 - val_accuracy: 0.6746\n",
            "Epoch 35/100\n",
            "1565/1565 [==============================] - 2s 1ms/step - loss: 0.6056 - accuracy: 0.6740 - val_loss: 0.6081 - val_accuracy: 0.6724\n",
            "Epoch 36/100\n",
            "1565/1565 [==============================] - 2s 1ms/step - loss: 0.6055 - accuracy: 0.6740 - val_loss: 0.6070 - val_accuracy: 0.6722\n",
            "Epoch 37/100\n",
            "1565/1565 [==============================] - 2s 1ms/step - loss: 0.6057 - accuracy: 0.6737 - val_loss: 0.6062 - val_accuracy: 0.6750\n",
            "Epoch 38/100\n",
            "1565/1565 [==============================] - 2s 1ms/step - loss: 0.6057 - accuracy: 0.6734 - val_loss: 0.6061 - val_accuracy: 0.6756\n",
            "Epoch 39/100\n",
            "1565/1565 [==============================] - 2s 1ms/step - loss: 0.6056 - accuracy: 0.6733 - val_loss: 0.6063 - val_accuracy: 0.6738\n",
            "Epoch 40/100\n",
            "1565/1565 [==============================] - 2s 1ms/step - loss: 0.6055 - accuracy: 0.6733 - val_loss: 0.6076 - val_accuracy: 0.6726\n",
            "Epoch 41/100\n",
            "1565/1565 [==============================] - 2s 1ms/step - loss: 0.6055 - accuracy: 0.6731 - val_loss: 0.6061 - val_accuracy: 0.6744\n",
            "Epoch 42/100\n",
            "1565/1565 [==============================] - 2s 1ms/step - loss: 0.6055 - accuracy: 0.6739 - val_loss: 0.6062 - val_accuracy: 0.6743\n",
            "Epoch 43/100\n",
            "1565/1565 [==============================] - 2s 1ms/step - loss: 0.6056 - accuracy: 0.6733 - val_loss: 0.6071 - val_accuracy: 0.6718\n",
            "Epoch 44/100\n",
            "1565/1565 [==============================] - 2s 1ms/step - loss: 0.6055 - accuracy: 0.6735 - val_loss: 0.6061 - val_accuracy: 0.6753\n",
            "Epoch 45/100\n",
            "1565/1565 [==============================] - 2s 1ms/step - loss: 0.6053 - accuracy: 0.6732 - val_loss: 0.6063 - val_accuracy: 0.6737\n",
            "Epoch 46/100\n",
            "1565/1565 [==============================] - 2s 1ms/step - loss: 0.6054 - accuracy: 0.6736 - val_loss: 0.6077 - val_accuracy: 0.6739\n",
            "Epoch 47/100\n",
            "1565/1565 [==============================] - 2s 1ms/step - loss: 0.6055 - accuracy: 0.6738 - val_loss: 0.6062 - val_accuracy: 0.6745\n",
            "Epoch 48/100\n",
            "1565/1565 [==============================] - 2s 1ms/step - loss: 0.6055 - accuracy: 0.6728 - val_loss: 0.6064 - val_accuracy: 0.6734\n",
            "Epoch 49/100\n",
            "1565/1565 [==============================] - 2s 1ms/step - loss: 0.6054 - accuracy: 0.6727 - val_loss: 0.6070 - val_accuracy: 0.6718\n",
            "Epoch 50/100\n",
            "1565/1565 [==============================] - 2s 1ms/step - loss: 0.6054 - accuracy: 0.6742 - val_loss: 0.6062 - val_accuracy: 0.6764\n",
            "Epoch 51/100\n",
            "1565/1565 [==============================] - 2s 1ms/step - loss: 0.6054 - accuracy: 0.6732 - val_loss: 0.6085 - val_accuracy: 0.6717\n",
            "Epoch 52/100\n",
            "1565/1565 [==============================] - 2s 1ms/step - loss: 0.6054 - accuracy: 0.6734 - val_loss: 0.6066 - val_accuracy: 0.6769\n",
            "Epoch 53/100\n",
            "1565/1565 [==============================] - 2s 1ms/step - loss: 0.6054 - accuracy: 0.6738 - val_loss: 0.6059 - val_accuracy: 0.6742\n",
            "Epoch 54/100\n",
            "1565/1565 [==============================] - 2s 1ms/step - loss: 0.6054 - accuracy: 0.6740 - val_loss: 0.6062 - val_accuracy: 0.6749\n",
            "Epoch 55/100\n",
            "1565/1565 [==============================] - 2s 1ms/step - loss: 0.6053 - accuracy: 0.6739 - val_loss: 0.6063 - val_accuracy: 0.6735\n",
            "Epoch 56/100\n",
            "1565/1565 [==============================] - 2s 1ms/step - loss: 0.6055 - accuracy: 0.6737 - val_loss: 0.6059 - val_accuracy: 0.6746\n",
            "Epoch 57/100\n",
            "1565/1565 [==============================] - 2s 1ms/step - loss: 0.6054 - accuracy: 0.6740 - val_loss: 0.6059 - val_accuracy: 0.6757\n",
            "Epoch 58/100\n",
            "1565/1565 [==============================] - 2s 1ms/step - loss: 0.6053 - accuracy: 0.6738 - val_loss: 0.6063 - val_accuracy: 0.6743\n",
            "Epoch 59/100\n",
            "1565/1565 [==============================] - 2s 1ms/step - loss: 0.6054 - accuracy: 0.6727 - val_loss: 0.6059 - val_accuracy: 0.6748\n",
            "Epoch 60/100\n",
            "1565/1565 [==============================] - 2s 1ms/step - loss: 0.6053 - accuracy: 0.6729 - val_loss: 0.6064 - val_accuracy: 0.6759\n",
            "Epoch 61/100\n",
            "1565/1565 [==============================] - 2s 1ms/step - loss: 0.6054 - accuracy: 0.6724 - val_loss: 0.6060 - val_accuracy: 0.6761\n",
            "Epoch 62/100\n",
            "1565/1565 [==============================] - 2s 1ms/step - loss: 0.6053 - accuracy: 0.6745 - val_loss: 0.6059 - val_accuracy: 0.6747\n",
            "Epoch 63/100\n",
            "1565/1565 [==============================] - 2s 1ms/step - loss: 0.6052 - accuracy: 0.6742 - val_loss: 0.6062 - val_accuracy: 0.6740\n",
            "Epoch 64/100\n",
            "1565/1565 [==============================] - 2s 1ms/step - loss: 0.6054 - accuracy: 0.6734 - val_loss: 0.6065 - val_accuracy: 0.6780\n",
            "Epoch 65/100\n",
            "1565/1565 [==============================] - 2s 1ms/step - loss: 0.6054 - accuracy: 0.6728 - val_loss: 0.6060 - val_accuracy: 0.6763\n",
            "Epoch 66/100\n",
            "1565/1565 [==============================] - 2s 1ms/step - loss: 0.6054 - accuracy: 0.6732 - val_loss: 0.6059 - val_accuracy: 0.6752\n",
            "Epoch 67/100\n",
            "1565/1565 [==============================] - 2s 1ms/step - loss: 0.6054 - accuracy: 0.6733 - val_loss: 0.6061 - val_accuracy: 0.6756\n",
            "Epoch 68/100\n",
            "1565/1565 [==============================] - 2s 1ms/step - loss: 0.6053 - accuracy: 0.6733 - val_loss: 0.6062 - val_accuracy: 0.6739\n",
            "Epoch 69/100\n",
            "1565/1565 [==============================] - 2s 1ms/step - loss: 0.6052 - accuracy: 0.6747 - val_loss: 0.6058 - val_accuracy: 0.6748\n",
            "Epoch 70/100\n",
            "1565/1565 [==============================] - 2s 1ms/step - loss: 0.6054 - accuracy: 0.6730 - val_loss: 0.6064 - val_accuracy: 0.6770\n",
            "Epoch 71/100\n",
            "1565/1565 [==============================] - 2s 1ms/step - loss: 0.6053 - accuracy: 0.6741 - val_loss: 0.6062 - val_accuracy: 0.6744\n",
            "Epoch 72/100\n",
            "1565/1565 [==============================] - 2s 1ms/step - loss: 0.6052 - accuracy: 0.6734 - val_loss: 0.6061 - val_accuracy: 0.6742\n",
            "Epoch 73/100\n",
            "1565/1565 [==============================] - 2s 1ms/step - loss: 0.6053 - accuracy: 0.6740 - val_loss: 0.6058 - val_accuracy: 0.6759\n",
            "Epoch 74/100\n",
            "1565/1565 [==============================] - 2s 1ms/step - loss: 0.6053 - accuracy: 0.6732 - val_loss: 0.6059 - val_accuracy: 0.6738\n",
            "Epoch 75/100\n",
            "1565/1565 [==============================] - 2s 1ms/step - loss: 0.6052 - accuracy: 0.6728 - val_loss: 0.6060 - val_accuracy: 0.6757\n",
            "Epoch 76/100\n",
            "1565/1565 [==============================] - 2s 1ms/step - loss: 0.6053 - accuracy: 0.6733 - val_loss: 0.6059 - val_accuracy: 0.6746\n",
            "Epoch 77/100\n",
            "1565/1565 [==============================] - 2s 1ms/step - loss: 0.6053 - accuracy: 0.6730 - val_loss: 0.6060 - val_accuracy: 0.6748\n",
            "Epoch 78/100\n",
            "1565/1565 [==============================] - 2s 1ms/step - loss: 0.6052 - accuracy: 0.6740 - val_loss: 0.6061 - val_accuracy: 0.6744\n",
            "Epoch 79/100\n",
            "1565/1565 [==============================] - 2s 1ms/step - loss: 0.6053 - accuracy: 0.6734 - val_loss: 0.6058 - val_accuracy: 0.6747\n",
            "Epoch 80/100\n",
            "1565/1565 [==============================] - 2s 1ms/step - loss: 0.6052 - accuracy: 0.6741 - val_loss: 0.6057 - val_accuracy: 0.6750\n",
            "Epoch 81/100\n",
            "1565/1565 [==============================] - 2s 1ms/step - loss: 0.6053 - accuracy: 0.6730 - val_loss: 0.6058 - val_accuracy: 0.6755\n",
            "Epoch 82/100\n",
            "1565/1565 [==============================] - 2s 1ms/step - loss: 0.6052 - accuracy: 0.6742 - val_loss: 0.6057 - val_accuracy: 0.6746\n",
            "Epoch 83/100\n",
            "1565/1565 [==============================] - 2s 1ms/step - loss: 0.6052 - accuracy: 0.6735 - val_loss: 0.6060 - val_accuracy: 0.6762\n",
            "Epoch 84/100\n",
            "1565/1565 [==============================] - 2s 1ms/step - loss: 0.6052 - accuracy: 0.6736 - val_loss: 0.6059 - val_accuracy: 0.6749\n",
            "Epoch 85/100\n",
            "1565/1565 [==============================] - 2s 1ms/step - loss: 0.6053 - accuracy: 0.6730 - val_loss: 0.6072 - val_accuracy: 0.6722\n",
            "Epoch 86/100\n",
            "1565/1565 [==============================] - 2s 1ms/step - loss: 0.6052 - accuracy: 0.6741 - val_loss: 0.6063 - val_accuracy: 0.6732\n",
            "Epoch 87/100\n",
            "1565/1565 [==============================] - 2s 1ms/step - loss: 0.6051 - accuracy: 0.6727 - val_loss: 0.6058 - val_accuracy: 0.6742\n",
            "Epoch 88/100\n",
            "1565/1565 [==============================] - 2s 1ms/step - loss: 0.6050 - accuracy: 0.6735 - val_loss: 0.6058 - val_accuracy: 0.6743\n",
            "Epoch 89/100\n",
            "1565/1565 [==============================] - 2s 1ms/step - loss: 0.6052 - accuracy: 0.6743 - val_loss: 0.6064 - val_accuracy: 0.6728\n",
            "Epoch 90/100\n",
            "1565/1565 [==============================] - 2s 1ms/step - loss: 0.6051 - accuracy: 0.6747 - val_loss: 0.6056 - val_accuracy: 0.6742\n",
            "Epoch 91/100\n",
            "1565/1565 [==============================] - 2s 1ms/step - loss: 0.6051 - accuracy: 0.6730 - val_loss: 0.6062 - val_accuracy: 0.6739\n",
            "Epoch 92/100\n",
            "1565/1565 [==============================] - 2s 1ms/step - loss: 0.6051 - accuracy: 0.6741 - val_loss: 0.6057 - val_accuracy: 0.6761\n",
            "Epoch 93/100\n",
            "1565/1565 [==============================] - 2s 1ms/step - loss: 0.6051 - accuracy: 0.6733 - val_loss: 0.6075 - val_accuracy: 0.6721\n",
            "Epoch 94/100\n",
            "1565/1565 [==============================] - 2s 1ms/step - loss: 0.6052 - accuracy: 0.6737 - val_loss: 0.6058 - val_accuracy: 0.6760\n",
            "Epoch 95/100\n",
            "1565/1565 [==============================] - 2s 1ms/step - loss: 0.6052 - accuracy: 0.6730 - val_loss: 0.6064 - val_accuracy: 0.6732\n",
            "Epoch 96/100\n",
            "1565/1565 [==============================] - 2s 1ms/step - loss: 0.6051 - accuracy: 0.6738 - val_loss: 0.6068 - val_accuracy: 0.6723\n",
            "Epoch 97/100\n",
            "1565/1565 [==============================] - 2s 1ms/step - loss: 0.6051 - accuracy: 0.6733 - val_loss: 0.6064 - val_accuracy: 0.6762\n",
            "Epoch 98/100\n",
            "1565/1565 [==============================] - 2s 1ms/step - loss: 0.6052 - accuracy: 0.6740 - val_loss: 0.6063 - val_accuracy: 0.6740\n",
            "Epoch 99/100\n",
            "1565/1565 [==============================] - 2s 1ms/step - loss: 0.6051 - accuracy: 0.6752 - val_loss: 0.6058 - val_accuracy: 0.6760\n",
            "Epoch 100/100\n",
            "1565/1565 [==============================] - 2s 1ms/step - loss: 0.6051 - accuracy: 0.6733 - val_loss: 0.6059 - val_accuracy: 0.6750\n"
          ],
          "name": "stdout"
        }
      ]
    },
    {
      "cell_type": "markdown",
      "metadata": {
        "id": "pmfPcs6J0ZFC"
      },
      "source": [
        "O Treinamento busca a cada etapa minimizar o erro (aumentar a acuracidade). Isso entretanto não ocorre de maneira regular. \n",
        "\n",
        "O Treinamento pode ser concluído quando se chega a uma determinado erro desejado ou após um certo número de iterações, uma vez que o modelo pode não convergir."
      ]
    },
    {
      "cell_type": "code",
      "metadata": {
        "id": "zrkQMDRzzmJq",
        "colab": {
          "base_uri": "https://localhost:8080/",
          "height": 700
        },
        "outputId": "bffe96cc-645e-4538-f050-d1a86b7aeea2"
      },
      "source": [
        "loss, val_loss, acc, val_acc = plot_loss_acc(history,'Two Hidden Layer Neural Network 5,8,8,2 (sigmoid)')\n"
      ],
      "execution_count": null,
      "outputs": [
        {
          "output_type": "display_data",
          "data": {
            "image/png": "[encoded data removed]",
            "text/plain": [
              "<Figure size 576x360 with 1 Axes>"
            ]
          },
          "metadata": {
            "tags": [],
            "needs_background": "light"
          }
        },
        {
          "output_type": "display_data",
          "data": {
            "image/png": "[encoded data removed]",
            "text/plain": [
              "<Figure size 576x360 with 1 Axes>"
            ]
          },
          "metadata": {
            "tags": [],
            "needs_background": "light"
          }
        },
        {
          "output_type": "stream",
          "text": [
            "Two Hidden Layer Neural Network 5,8,8,2 (sigmoid)Accuracy Train: 67.33 %, Accuracy Test: 67.50 %\n"
          ],
          "name": "stdout"
        }
      ]
    },
    {
      "cell_type": "markdown",
      "metadata": {
        "id": "5Oc0b8_O05yj"
      },
      "source": [
        "Em cada neurônio de saída a rede retorna a probabilidade da classe. A seleção do neurônio de maior valor a classe mais provável (`np.argmax()`)."
      ]
    },
    {
      "cell_type": "code",
      "metadata": {
        "id": "O0df3TPl1B2b",
        "colab": {
          "base_uri": "https://localhost:8080/"
        },
        "outputId": "c416a02d-bdd4-499b-f65b-585d5d153d17"
      },
      "source": [
        "# Predict\n",
        "\n",
        "# Transforma as entradas em matriz para o Keras\n",
        "Xm = X_test \n",
        "Xm = np.matrix(Xm)\n",
        "\n",
        "# Predição\n",
        "y_pred = np.argmax(model.predict(Xm), axis=-1)\n",
        "    \n",
        "print(confusion_matrix(y_test,y_pred))\n",
        "print(classification_report(y_test,y_pred))"
      ],
      "execution_count": null,
      "outputs": [
        {
          "output_type": "stream",
          "text": [
            "[[10497  3055]\n",
            " [ 5838  7428]]\n",
            "              precision    recall  f1-score   support\n",
            "\n",
            "         0.0       0.64      0.77      0.70     13552\n",
            "         1.0       0.71      0.56      0.63     13266\n",
            "\n",
            "    accuracy                           0.67     26818\n",
            "   macro avg       0.68      0.67      0.66     26818\n",
            "weighted avg       0.68      0.67      0.66     26818\n",
            "\n"
          ],
          "name": "stdout"
        }
      ]
    },
    {
      "cell_type": "markdown",
      "metadata": {
        "id": "RHTqgXUb1Ydm"
      },
      "source": [
        "# **DESAFIO** $\\rightarrow$ **Ganhe 0.5 adicional na N2**\n",
        "\n",
        "Altere os códigos acima e **busque uma configuração da rede Deep Learning para obter uma acuracidade maior que 75%**.\n",
        "\n",
        "Você pode:\n",
        "\n",
        "1. Adicionar camadas\n",
        "1. Alterar as funções de ativação\n",
        "1. Alterar o número de neurônios de cada camada\n",
        " \n",
        "Ou ainda quaisquer outros parâmetros que você pode encontrar em  configurações em https://keras.io/. Só não é permitido alterar o número de épocas do treinamento que deve permanecer em 100. Os conjuntos de Treinamento e Teste devem também ser mantidos, respeitando o seed 1984.\n",
        "\n",
        "#### Entrega Individual\n",
        "0.5 adicional na N1 para o aluno de cada turma que obtiver a maior acuracidade com valor mínimo de 75%. No caso de empate o 0.5 ponto adicional será dado para os alunos desde que as configurações sejam diferentes ou ao primeiro a fazer a entrega. Para configurações iguais somente a primeira entrega será considerada. \n",
        "\n",
        "Postar no canal **#geral** do Slack mensagem com **texto** contendo o valor de acuracidade obtido, turma e nome dos participantes, anexo ao  seu **ipynb** executável da solução.  \n",
        "\n",
        "# **Bom Desafio!**"
      ]
    },
    {
      "cell_type": "markdown",
      "metadata": {
        "id": "6_NuX5FQuhOi"
      },
      "source": [
        "## **LAB SET UP**\n",
        "Execute antes de iniciar o Lab."
      ]
    },
    {
      "cell_type": "code",
      "metadata": {
        "id": "Fqxk5xmJqYpa",
        "colab": {
          "base_uri": "https://localhost:8080/"
        },
        "outputId": "56bfe815-d3ea-4a4a-efa0-543c5145997b"
      },
      "source": [
        "import numpy as np # linear algebra\n",
        "import pandas as pd # data processing, CSV file I/O (e.g. pd.read_csv)\n",
        "import matplotlib.pyplot as plt \n",
        "import seaborn as sns \n",
        "import warnings\n",
        "import os\n",
        "warnings.filterwarnings(\"ignore\")\n",
        "\n",
        "from tensorflow import keras\n",
        "from tensorflow.keras import layers\n",
        "from keras import Sequential, layers\n",
        "import tensorflow as tf\n",
        "\n",
        "from sklearn.model_selection import train_test_split\n",
        "from sklearn.metrics import confusion_matrix\n",
        "from sklearn.metrics import classification_report\n",
        "\n",
        "\n",
        "def plot_loss_acc(history,more_title=''):\n",
        "    \n",
        "    loss = history.history['loss']\n",
        "    val_loss = history.history['val_loss']\n",
        "    epochs = range(1, len(loss) + 1)\n",
        "    plt.figure(figsize=(8,5))\n",
        "    plt.plot(epochs, loss, 'y', label='Training loss')\n",
        "    plt.plot(epochs, val_loss, 'r', label='Validation loss')\n",
        "    plt.title('Training and validation loss' + ' ' + more_title)\n",
        "    plt.xlabel('Epochs')\n",
        "    plt.ylabel('Loss')\n",
        "    plt.legend()\n",
        "    plt.show()\n",
        "    \n",
        "    acc = history.history['accuracy']\n",
        "    val_acc = history.history['val_accuracy']\n",
        "    plt.figure(figsize=(8,5))\n",
        "    plt.plot(epochs, acc, 'y', label='Training acc')\n",
        "    plt.plot(epochs, val_acc, 'r', label='Validation acc')\n",
        "    plt.title('Training and validation accuracy' + ' ' + more_title)\n",
        "    plt.xlabel('Epochs')\n",
        "    plt.ylabel('Accuracy')\n",
        "    plt.legend()\n",
        "    plt.show()\n",
        "\n",
        "    print(more_title + 'Accuracy Train: {:.2f} %, Accuracy Test: {:.2f} %'.format(acc[len(acc)-1] *100, val_acc[len(val_acc)-1]*100))\n",
        "\n",
        "    return loss, val_loss, acc, val_acc\n",
        "\n",
        "print('T12 Set Up completed!')    "
      ],
      "execution_count": null,
      "outputs": [
        {
          "output_type": "stream",
          "text": [
            "T12 Set Up completed!\n"
          ],
          "name": "stdout"
        }
      ]
    }
  ]
}