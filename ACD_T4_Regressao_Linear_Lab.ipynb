{
  "nbformat": 4,
  "nbformat_minor": 0,
  "metadata": {
    "anaconda-cloud": {},
    "kernelspec": {
      "display_name": "Python 3",
      "language": "python",
      "name": "python3"
    },
    "language_info": {
      "codemirror_mode": {
        "name": "ipython",
        "version": 3
      },
      "file_extension": ".py",
      "mimetype": "text/x-python",
      "name": "python",
      "nbconvert_exporter": "python",
      "pygments_lexer": "ipython3",
      "version": "3.7.4"
    },
    "colab": {
      "name": "ACD_T4_Regressao_Linear_Lab.ipynb",
      "provenance": [],
      "collapsed_sections": []
    }
  },
  "cells": [
    {
      "cell_type": "markdown",
      "metadata": {
        "id": "gglUriLmo1sR"
      },
      "source": [
        "<head>\n",
        "  <meta name=\"author\" content=\"Rogério de Oliveira\">\n",
        "  <meta institution=\"author\" content=\"Universidade Presbiteriana Mackenzie\">\n",
        "</head>\n",
        "\n",
        "<img src=\"http://meusite.mackenzie.br/rogerio/mackenzie_logo/UPM.2_horizontal_vermelho.jpg\" width=300, align=\"right\"></a>\n",
        "<!-- <h1 align=left><font size = 6, style=\"color:rgb(200,0,0)\"> optional title </font></h1> -->"
      ]
    },
    {
      "cell_type": "markdown",
      "metadata": {
        "_uuid": "9dd9e07c590ca22f0c525222f60f0ebff4e092c6",
        "id": "HpKAvplIAYQ3"
      },
      "source": [
        " # **Regressão Linear (Lab)**\n",
        " ---\n",
        " \n"
      ]
    },
    {
      "cell_type": "markdown",
      "metadata": {
        "_uuid": "9dd9e07c590ca22f0c525222f60f0ebff4e092c6",
        "id": "SLTshJXLA4LT"
      },
      "source": [
        "# Caso: **Como estimar a emissão de gases CO2 de um motor?** \n",
        "\n",
        "Empregue os dados da URL: https://meusite.mackenzie.br/rogerio/TIC/FuelConsumptionCo2.csv\n",
        "\n",
        "Neste Lab você vai estimar as emissões de CO2 de modelos de veículos a partir de suas características empregando modelos de regressão linear e avaliar esses modelos. "
      ]
    },
    {
      "cell_type": "markdown",
      "metadata": {
        "button": false,
        "deletable": true,
        "new_sheet": false,
        "run_control": {
          "read_only": false
        },
        "id": "LFkgl__JfYUD"
      },
      "source": [
        "### `FuelConsumption.csv`:\n",
        "**`FuelConsumption.csv`**, contém informações do consumo de combustível, outras características dos modelos e as emissões de dióxido de carbono para vários novos veículos comerciais leves no Canadá.\n",
        "\n",
        "- **MODELYEAR** ex. 2014\n",
        "- **MAKE** ex. Acura\n",
        "- **MODEL** ex. ILX\n",
        "- **VEHICLE CLASS** ex. SUV\n",
        "- **ENGINE SIZE** ex. 4.7\n",
        "- **CYLINDERS** ex. 6\n",
        "- **TRANSMISSION** ex. A6\n",
        "- **FUEL CONSUMPTION in CITY(L/100 km)** ex. 9.9\n",
        "- **FUEL CONSUMPTION in HWY (L/100 km)** ex. 8.9\n",
        "- **FUEL CONSUMPTION COMB (L/100 km)** ex. 9.2\n",
        "- **CO2 EMISSIONS (g/km)** ex. 182 \n"
      ]
    },
    {
      "cell_type": "markdown",
      "metadata": {
        "id": "Li1FPlObIQAh"
      },
      "source": [
        "# Regressão Linear. Vamos lembrar?\n",
        "\n",
        "Um modelo linear aproxima o valor de variável objetivo $Y$ a partir de uma combinação linear das variáveis preditoras $X$. \n",
        "\n",
        "$  \\widehat Y = a_0 + a_{1} X_{1} + a_{2} X_{2} + ... + a_{n} X_{n} $ \n",
        " \n",
        "A cada variável preditora corresponde um coeficiente $a_n$, havendo um coeficiente independente que corresponte ao valor de $\\widehat Y$ para $X=0$ (*intercept*). \n",
        "\n",
        "\n",
        "\n",
        "\n"
      ]
    },
    {
      "cell_type": "markdown",
      "metadata": {
        "deletable": true,
        "editable": true,
        "id": "qK4Wi5vshpPc"
      },
      "source": [
        "## Uma regressão linear simples\n",
        "\n",
        "Vamos começar com uma regressão simples de valores aleatórios apenas para você se familiarizar com a construção do modelo. "
      ]
    },
    {
      "cell_type": "code",
      "metadata": {
        "id": "UPVeFK3a5i6d",
        "colab": {
          "base_uri": "https://localhost:8080/",
          "height": 71
        },
        "outputId": "aad7adcf-8180-49a1-90a7-8849f501dac5"
      },
      "source": [
        "import pandas                  as pd\n",
        "import numpy                   as np\n",
        "import matplotlib.pyplot       as plt\n",
        "import seaborn                 as sns\n",
        "import statsmodels.formula.api as sm\n",
        "import warnings\n",
        "warnings.filterwarnings(\"ignore\")  "
      ],
      "execution_count": null,
      "outputs": [
        {
          "output_type": "stream",
          "text": [
            "/usr/local/lib/python3.6/dist-packages/statsmodels/tools/_testing.py:19: FutureWarning: pandas.util.testing is deprecated. Use the functions in the public API at pandas.testing instead.\n",
            "  import pandas.util.testing as tm\n"
          ],
          "name": "stderr"
        }
      ]
    },
    {
      "cell_type": "markdown",
      "metadata": {
        "id": "hsCr050-MUNR"
      },
      "source": [
        "Gerando uma amostra de 50 valores \"aleatórios\" a partir de uma função linear.    "
      ]
    },
    {
      "cell_type": "code",
      "metadata": {
        "id": "-s5TcBJLs5Z0",
        "colab": {
          "base_uri": "https://localhost:8080/",
          "height": 282
        },
        "outputId": "68dacd4f-244f-4ec9-dfff-5d075828f529"
      },
      "source": [
        "rng = np.random.RandomState(1)\n",
        "x = 10 * rng.rand(50)\n",
        "y = 2 * x - 5 + rng.randn(50)\n",
        "sns.scatterplot(x, y)"
      ],
      "execution_count": null,
      "outputs": [
        {
          "output_type": "execute_result",
          "data": {
            "text/plain": [
              "<matplotlib.axes._subplots.AxesSubplot at 0x7f9d00d543c8>"
            ]
          },
          "metadata": {
            "tags": []
          },
          "execution_count": 20
        },
        {
          "output_type": "display_data",
          "data": {
            "image/png": "[encoded data removed]",
            "text/plain": [
              "<Figure size 432x288 with 1 Axes>"
            ]
          },
          "metadata": {
            "tags": [],
            "needs_background": "light"
          }
        }
      ]
    },
    {
      "cell_type": "markdown",
      "metadata": {
        "id": "bIc_ES-gL-ix"
      },
      "source": [
        "Podemos ainda traçar uma linha de aproximação linear com a função `sns.lmplot()`."
      ]
    },
    {
      "cell_type": "code",
      "metadata": {
        "id": "jio4n5FBtBhe",
        "colab": {
          "base_uri": "https://localhost:8080/",
          "height": 1000
        },
        "outputId": "3290cef0-a495-48d4-aa19-aa9d8cd750a0"
      },
      "source": [
        "df = pd.DataFrame({'x':x,'y':y}) \n",
        "sns.lmplot('x','y',data=df)\n",
        "plt.show()\n",
        "\n",
        "print(df)\n"
      ],
      "execution_count": null,
      "outputs": [
        {
          "output_type": "display_data",
          "data": {
            "image/png": "[encoded data removed]",
            "text/plain": [
              "<Figure size 360x360 with 1 Axes>"
            ]
          },
          "metadata": {
            "tags": [],
            "needs_background": "light"
          }
        },
        {
          "output_type": "stream",
          "text": [
            "           x          y\n",
            "0   4.170220   2.653267\n",
            "1   7.203245   8.561284\n",
            "2   0.001144  -5.668959\n",
            "3   3.023326   1.033987\n",
            "4   1.467559  -3.182193\n",
            "5   0.923386  -2.918812\n",
            "6   1.862602   0.385006\n",
            "7   3.455607   2.653259\n",
            "8   3.967675   2.743514\n",
            "9   5.388167   4.888706\n",
            "10  4.191945   2.636732\n",
            "11  6.852195  10.396845\n",
            "12  2.044522  -0.860147\n",
            "13  8.781174  11.925353\n",
            "14  0.273876  -4.261333\n",
            "15  6.704675  10.509605\n",
            "16  4.173048   3.466255\n",
            "17  5.586898   6.791000\n",
            "18  1.403869  -1.892091\n",
            "19  1.981015  -1.390220\n",
            "20  8.007446   9.872373\n",
            "21  9.682616  14.015889\n",
            "22  3.134242   1.059589\n",
            "23  6.923226   9.433076\n",
            "24  8.763892  13.366766\n",
            "25  8.946067  13.823235\n",
            "26  0.850442  -3.013528\n",
            "27  0.390548  -3.333763\n",
            "28  1.698304  -2.357790\n",
            "29  8.781425  13.815718\n",
            "30  0.983468  -2.520134\n",
            "31  4.211076   3.124060\n",
            "32  9.578895  14.646309\n",
            "33  5.331653   5.587734\n",
            "34  6.918771   9.969172\n",
            "35  3.155156   2.830129\n",
            "36  6.865009  10.915594\n",
            "37  8.346257  10.296017\n",
            "38  0.182883  -6.078348\n",
            "39  7.501443   9.498420\n",
            "40  9.888611  14.937259\n",
            "41  7.481657  10.839482\n",
            "42  2.804440   0.924515\n",
            "43  7.892793   8.763385\n",
            "44  1.032260  -3.241684\n",
            "45  4.478935   4.785845\n",
            "46  9.085955  13.402005\n",
            "47  2.936141   1.634294\n",
            "48  2.877753   0.533179\n",
            "49  1.300286  -2.600187\n"
          ],
          "name": "stdout"
        }
      ]
    },
    {
      "cell_type": "markdown",
      "metadata": {
        "id": "Pxs0RHZfOQKQ"
      },
      "source": [
        "## Construindo o modelo linear, `sm.ols(formula = , data= )`\n",
        "\n",
        "Um conjunto de dados é informado e o parâmetro `formula` indica as variáveis objetivo e preditoras.\n",
        "\n",
        "````\n",
        "                                                              formula = 'y ~ x' \n",
        "````\n",
        "significa\n",
        "\n",
        "$$ y \\leftarrow  x $$\n",
        "\n",
        "para um modelo\n",
        "\n",
        "$$ \\widehat y = a_0 + b_1 x $$\n",
        "\n"
      ]
    },
    {
      "cell_type": "code",
      "metadata": {
        "id": "nFLNCFPcNePO"
      },
      "source": [
        "model = sm.ols(formula='y ~ x', data=df)\n"
      ],
      "execution_count": null,
      "outputs": []
    },
    {
      "cell_type": "code",
      "metadata": {
        "id": "c-3iMXYENePT",
        "colab": {
          "base_uri": "https://localhost:8080/",
          "height": 442
        },
        "outputId": "5f0ae41e-67d9-4f2c-ba4e-c12fd3abda22"
      },
      "source": [
        "result = model.fit()\n",
        "print(result.summary())"
      ],
      "execution_count": null,
      "outputs": [
        {
          "output_type": "stream",
          "text": [
            "                            OLS Regression Results                            \n",
            "==============================================================================\n",
            "Dep. Variable:                      y   R-squared:                       0.979\n",
            "Model:                            OLS   Adj. R-squared:                  0.979\n",
            "Method:                 Least Squares   F-statistic:                     2246.\n",
            "Date:                Tue, 20 Oct 2020   Prob (F-statistic):           5.71e-42\n",
            "Time:                        19:20:51   Log-Likelihood:                -65.935\n",
            "No. Observations:                  50   AIC:                             135.9\n",
            "Df Residuals:                      48   BIC:                             139.7\n",
            "Df Model:                           1                                         \n",
            "Covariance Type:            nonrobust                                         \n",
            "==============================================================================\n",
            "                 coef    std err          t      P>|t|      [0.025      0.975]\n",
            "------------------------------------------------------------------------------\n",
            "Intercept     -4.9986      0.239    -20.948      0.000      -5.478      -4.519\n",
            "x              2.0272      0.043     47.397      0.000       1.941       2.113\n",
            "==============================================================================\n",
            "Omnibus:                        0.058   Durbin-Watson:                   1.590\n",
            "Prob(Omnibus):                  0.971   Jarque-Bera (JB):                0.057\n",
            "Skew:                           0.048   Prob(JB):                        0.972\n",
            "Kurtosis:                       2.865   Cond. No.                         10.4\n",
            "==============================================================================\n",
            "\n",
            "Warnings:\n",
            "[1] Standard Errors assume that the covariance matrix of the errors is correctly specified.\n"
          ],
          "name": "stdout"
        }
      ]
    },
    {
      "cell_type": "markdown",
      "metadata": {
        "id": "Xjaa4yXuQSkg"
      },
      "source": [
        "E desse modo a aproximação linear é dada por:\n",
        "\n",
        "$$ y = -4.9986 + 2.0272 x $$\n",
        "\n",
        "Empregamos então o modelo para estimar os valores de $y$, isto é $\\bar y$, a partir do modelo linear. Podemos então comparar os valores de $y$ e $\\bar y$ (`predicted`). \n"
      ]
    },
    {
      "cell_type": "code",
      "metadata": {
        "id": "U_A0fYshQqOb"
      },
      "source": [
        "df['predicted'] = result.predict(df.x)"
      ],
      "execution_count": null,
      "outputs": []
    },
    {
      "cell_type": "code",
      "metadata": {
        "id": "yMYyQouNRpXq",
        "colab": {
          "base_uri": "https://localhost:8080/",
          "height": 279
        },
        "outputId": "907be07e-064d-442c-a240-1bdfcf26e27a"
      },
      "source": [
        "sns.scatterplot('x','y',data=df)\n",
        "sns.scatterplot('x','predicted',data=df)\n",
        "sns.lineplot('x','predicted',data=df,color='red')\n",
        "plt.show()"
      ],
      "execution_count": null,
      "outputs": [
        {
          "output_type": "display_data",
          "data": {
            "image/png": "[encoded data removed]",
            "text/plain": [
              "<Figure size 432x288 with 1 Axes>"
            ]
          },
          "metadata": {
            "tags": [],
            "needs_background": "light"
          }
        }
      ]
    },
    {
      "cell_type": "markdown",
      "metadata": {
        "id": "RUkrHCJKSYn3"
      },
      "source": [
        "## Caso: **Como estimar a emissão de gases CO2 de um motor?** \n",
        "\n",
        "Empregue os dados da URL: https://meusite.mackenzie.br/rogerio/TIC/FuelConsumptionCo2.csv\n"
      ]
    },
    {
      "cell_type": "markdown",
      "metadata": {
        "id": "zEpuYqjxwStL"
      },
      "source": [
        "# Exercício. Explorando os dados.\n",
        "\n",
        "Acesse e explore os dados **FuelConsumptionCo2.csv**. Você pode querer verificar os imports, mas eles já devem estar feitos se você executou os código anteriores. Caso contrário refaça aqui."
      ]
    },
    {
      "cell_type": "code",
      "metadata": {
        "id": "V5gWRJ945fCy",
        "colab": {
          "base_uri": "https://localhost:8080/",
          "height": 275
        },
        "outputId": "d841ee5b-d764-4753-bc5a-f441f303058f"
      },
      "source": [
        "# Insira aqui seu código\n",
        "\n",
        "import pandas                  as pd\n",
        "import numpy                   as np\n",
        "import matplotlib.pyplot       as plt\n",
        "import seaborn                 as sns\n",
        "import statsmodels.formula.api as sm\n",
        "import warnings\n",
        "warnings.filterwarnings(\"ignore\")  \n",
        "\n",
        "df = pd.read_csv(\"https://meusite.mackenzie.br/rogerio/TIC/FuelConsumptionCo2.csv\")\n",
        "df.head()"
      ],
      "execution_count": null,
      "outputs": [
        {
          "output_type": "execute_result",
          "data": {
            "text/html": [
              "<div>\n",
              "<style scoped>\n",
              "    .dataframe tbody tr th:only-of-type {\n",
              "        vertical-align: middle;\n",
              "    }\n",
              "\n",
              "    .dataframe tbody tr th {\n",
              "        vertical-align: top;\n",
              "    }\n",
              "\n",
              "    .dataframe thead th {\n",
              "        text-align: right;\n",
              "    }\n",
              "</style>\n",
              "<table border=\"1\" class=\"dataframe\">\n",
              "  <thead>\n",
              "    <tr style=\"text-align: right;\">\n",
              "      <th></th>\n",
              "      <th>MODELYEAR</th>\n",
              "      <th>MAKE</th>\n",
              "      <th>MODEL</th>\n",
              "      <th>VEHICLECLASS</th>\n",
              "      <th>ENGINESIZE</th>\n",
              "      <th>CYLINDERS</th>\n",
              "      <th>TRANSMISSION</th>\n",
              "      <th>FUELTYPE</th>\n",
              "      <th>FUELCONSUMPTION_CITY</th>\n",
              "      <th>FUELCONSUMPTION_HWY</th>\n",
              "      <th>FUELCONSUMPTION_COMB</th>\n",
              "      <th>FUELCONSUMPTION_COMB_MPG</th>\n",
              "      <th>CO2EMISSIONS</th>\n",
              "    </tr>\n",
              "  </thead>\n",
              "  <tbody>\n",
              "    <tr>\n",
              "      <th>0</th>\n",
              "      <td>2014</td>\n",
              "      <td>ACURA</td>\n",
              "      <td>ILX</td>\n",
              "      <td>COMPACT</td>\n",
              "      <td>2.0</td>\n",
              "      <td>4</td>\n",
              "      <td>AS5</td>\n",
              "      <td>Z</td>\n",
              "      <td>9.9</td>\n",
              "      <td>6.7</td>\n",
              "      <td>8.5</td>\n",
              "      <td>33</td>\n",
              "      <td>196</td>\n",
              "    </tr>\n",
              "    <tr>\n",
              "      <th>1</th>\n",
              "      <td>2014</td>\n",
              "      <td>ACURA</td>\n",
              "      <td>ILX</td>\n",
              "      <td>COMPACT</td>\n",
              "      <td>2.4</td>\n",
              "      <td>4</td>\n",
              "      <td>M6</td>\n",
              "      <td>Z</td>\n",
              "      <td>11.2</td>\n",
              "      <td>7.7</td>\n",
              "      <td>9.6</td>\n",
              "      <td>29</td>\n",
              "      <td>221</td>\n",
              "    </tr>\n",
              "    <tr>\n",
              "      <th>2</th>\n",
              "      <td>2014</td>\n",
              "      <td>ACURA</td>\n",
              "      <td>ILX HYBRID</td>\n",
              "      <td>COMPACT</td>\n",
              "      <td>1.5</td>\n",
              "      <td>4</td>\n",
              "      <td>AV7</td>\n",
              "      <td>Z</td>\n",
              "      <td>6.0</td>\n",
              "      <td>5.8</td>\n",
              "      <td>5.9</td>\n",
              "      <td>48</td>\n",
              "      <td>136</td>\n",
              "    </tr>\n",
              "    <tr>\n",
              "      <th>3</th>\n",
              "      <td>2014</td>\n",
              "      <td>ACURA</td>\n",
              "      <td>MDX 4WD</td>\n",
              "      <td>SUV - SMALL</td>\n",
              "      <td>3.5</td>\n",
              "      <td>6</td>\n",
              "      <td>AS6</td>\n",
              "      <td>Z</td>\n",
              "      <td>12.7</td>\n",
              "      <td>9.1</td>\n",
              "      <td>11.1</td>\n",
              "      <td>25</td>\n",
              "      <td>255</td>\n",
              "    </tr>\n",
              "    <tr>\n",
              "      <th>4</th>\n",
              "      <td>2014</td>\n",
              "      <td>ACURA</td>\n",
              "      <td>RDX AWD</td>\n",
              "      <td>SUV - SMALL</td>\n",
              "      <td>3.5</td>\n",
              "      <td>6</td>\n",
              "      <td>AS6</td>\n",
              "      <td>Z</td>\n",
              "      <td>12.1</td>\n",
              "      <td>8.7</td>\n",
              "      <td>10.6</td>\n",
              "      <td>27</td>\n",
              "      <td>244</td>\n",
              "    </tr>\n",
              "  </tbody>\n",
              "</table>\n",
              "</div>"
            ],
            "text/plain": [
              "   MODELYEAR   MAKE  ... FUELCONSUMPTION_COMB_MPG CO2EMISSIONS\n",
              "0       2014  ACURA  ...                       33          196\n",
              "1       2014  ACURA  ...                       29          221\n",
              "2       2014  ACURA  ...                       48          136\n",
              "3       2014  ACURA  ...                       25          255\n",
              "4       2014  ACURA  ...                       27          244\n",
              "\n",
              "[5 rows x 13 columns]"
            ]
          },
          "metadata": {
            "tags": []
          },
          "execution_count": 26
        }
      ]
    },
    {
      "cell_type": "markdown",
      "metadata": {
        "id": "p1Bze9msxNEh"
      },
      "source": [
        "# Exercício. `CO2EMISSIONS`\n",
        "\n",
        "Explore a relação das demais variáveis com `CO2EMISSIONS`\n",
        "\n",
        "### DICA: \n",
        "Embora o `sns.scatterplot(x,y)` possa ser usado para verificar a relação de cada par de variáveis, o `sns.pairplot(df)` permite você criar vários `scatterplots` simultâneos. \n",
        "\n"
      ]
    },
    {
      "cell_type": "code",
      "metadata": {
        "id": "_AgJXt_DWS3a"
      },
      "source": [
        "# Insira aqui seu código\n",
        "\n"
      ],
      "execution_count": null,
      "outputs": []
    },
    {
      "cell_type": "markdown",
      "metadata": {
        "id": "dPcQ68i-yjSN"
      },
      "source": [
        "# Exercício. `FUELCONSUMPTION_COM` X `CO2EMISSIONS`\n",
        "Explore a relação de `FUELCONSUMPTION_COM` com  `CO2EMISSIONS`\n",
        "\n",
        "### DICA: \n",
        "Embora o `sns.scatterplot(x,y)` possa ser usado para verificar a relação de cada par de variáveis, o `sns.lmplot('x','y',data=df)` vai ainda permitir você visualizar a linha de tendência dos dados. \n",
        "\n"
      ]
    },
    {
      "cell_type": "code",
      "metadata": {
        "id": "7Sz5KJzRh3um"
      },
      "source": [
        "# Insira aqui seu código\n",
        "\n"
      ],
      "execution_count": null,
      "outputs": []
    },
    {
      "cell_type": "markdown",
      "metadata": {
        "id": "FykA8-V1zYVw"
      },
      "source": [
        "# Exercício. Regressão Simples\n",
        "\n",
        "Crie um modelo regressão para obter `CO2EMISSIONS` a partir de `FUELCONSUMPTION_COMB`\n",
        "\n",
        "### DICA: \n",
        "Lembre-se \n",
        "\n",
        "  `model = sm.ols(formula='y ~ x', data=df)`\n",
        "\n"
      ]
    },
    {
      "cell_type": "code",
      "metadata": {
        "id": "cFBs6P51kKHB"
      },
      "source": [
        "# Insira aqui seu código\n",
        "\n"
      ],
      "execution_count": null,
      "outputs": []
    },
    {
      "cell_type": "markdown",
      "metadata": {
        "id": "V9WqMv_i0X34"
      },
      "source": [
        "# Exercício. Resultados\n",
        "Verifique os resultados do modelo obtido\n",
        "\n",
        "### DICA: \n",
        "Lembre-se \n",
        "\n",
        "```\n",
        "result = model.fit()\n",
        "print(result.summary())\n",
        "```\n"
      ]
    },
    {
      "cell_type": "code",
      "metadata": {
        "id": "oIwL-5zA6mWi",
        "colab": {
          "base_uri": "https://localhost:8080/",
          "height": 442
        },
        "outputId": "a0f26996-9253-40ab-996f-f1d579113915"
      },
      "source": [
        "# Insira aqui seu código\n",
        "\n"
      ],
      "execution_count": null,
      "outputs": [
        {
          "output_type": "stream",
          "text": [
            "                            OLS Regression Results                            \n",
            "==============================================================================\n",
            "Dep. Variable:           CO2EMISSIONS   R-squared:                       0.796\n",
            "Model:                            OLS   Adj. R-squared:                  0.796\n",
            "Method:                 Least Squares   F-statistic:                     4153.\n",
            "Date:                Tue, 20 Oct 2020   Prob (F-statistic):               0.00\n",
            "Time:                        19:40:20   Log-Likelihood:                -5092.7\n",
            "No. Observations:                1067   AIC:                         1.019e+04\n",
            "Df Residuals:                    1065   BIC:                         1.020e+04\n",
            "Df Model:                           1                                         \n",
            "Covariance Type:            nonrobust                                         \n",
            "========================================================================================\n",
            "                           coef    std err          t      P>|t|      [0.025      0.975]\n",
            "----------------------------------------------------------------------------------------\n",
            "Intercept               68.3871      3.044     22.467      0.000      62.414      74.360\n",
            "FUELCONSUMPTION_COMB    16.2200      0.252     64.443      0.000      15.726      16.714\n",
            "==============================================================================\n",
            "Omnibus:                      152.161   Durbin-Watson:                   2.195\n",
            "Prob(Omnibus):                  0.000   Jarque-Bera (JB):              240.073\n",
            "Skew:                          -0.954   Prob(JB):                     7.39e-53\n",
            "Kurtosis:                       4.325   Cond. No.                         42.2\n",
            "==============================================================================\n",
            "\n",
            "Warnings:\n",
            "[1] Standard Errors assume that the covariance matrix of the errors is correctly specified.\n"
          ],
          "name": "stdout"
        }
      ]
    },
    {
      "cell_type": "markdown",
      "metadata": {
        "id": "123_FRbZ6v0Y"
      },
      "source": [
        "# Exercício. Modelo final\n",
        "\n",
        "...insira no texto abaixo os coeficientes obtidos.\n",
        "\n",
        "\n",
        " \n",
        "\n"
      ]
    },
    {
      "cell_type": "markdown",
      "metadata": {
        "id": "L0qzss_Q1AQb"
      },
      "source": [
        "$$ \\widehat{CO2EMISSIONS} = ____ + ____ \\times FUELCONSUMPTIONCOMB $$\n",
        " \n",
        "\n"
      ]
    },
    {
      "cell_type": "markdown",
      "metadata": {
        "id": "9UiFiUPW1x46"
      },
      "source": [
        "# Exercício. Predição\n",
        "A partir do seu modelo empregue a função `result.predict(x)` para estimar a emissão de gases por veículos novos que apresentam consumo de combustível no valor de 4 e 28, e que não existem nos dados originais. \n",
        "\n",
        "### DICA:\n",
        "\n",
        "A entrada x deve ser um dataframe no mesmo formato e nome dos atributos de entrada no modelo. \n",
        " \n",
        "\n"
      ]
    },
    {
      "cell_type": "code",
      "metadata": {
        "id": "Rc7ckqg98J8V"
      },
      "source": [
        "# Seu código"
      ],
      "execution_count": null,
      "outputs": []
    },
    {
      "cell_type": "markdown",
      "metadata": {
        "id": "RPZI1rIGYKyE"
      },
      "source": [
        "# Exercício. Verificação Visual **(RESOLVIDO)**"
      ]
    },
    {
      "cell_type": "code",
      "metadata": {
        "id": "Zo48GSLV7bEQ",
        "colab": {
          "base_uri": "https://localhost:8080/",
          "height": 281
        },
        "outputId": "7cc96cb5-b323-4d27-cd2f-33c92892907a"
      },
      "source": [
        "df['predicted'] = result.predict()\n",
        "\n",
        "sns.scatterplot('FUELCONSUMPTION_COMB', 'CO2EMISSIONS', data=df)\n",
        "sns.lineplot('FUELCONSUMPTION_COMB', 'predicted', data=df, color='red')\n",
        "plt.xlabel(\"FUELCONSUMPTION_COMB\")\n",
        "plt.ylabel(\"Emission\")\n",
        "plt.show()\n",
        "\n",
        "\n"
      ],
      "execution_count": null,
      "outputs": [
        {
          "output_type": "display_data",
          "data": {
            "image/png": "[encoded data removed]",
            "text/plain": [
              "<Figure size 432x288 with 1 Axes>"
            ]
          },
          "metadata": {
            "tags": [],
            "needs_background": "light"
          }
        }
      ]
    },
    {
      "cell_type": "markdown",
      "metadata": {
        "id": "t6OVHqka4UOv"
      },
      "source": [
        "# Exercício. Tudo junto...\n",
        "\n",
        "Coloque todo o código empregado para estimar as emissões de `FUELCONSUMPTION_COMB` aqui."
      ]
    },
    {
      "cell_type": "code",
      "metadata": {
        "id": "oPda60GN4UO0",
        "colab": {
          "base_uri": "https://localhost:8080/",
          "height": 860
        },
        "outputId": "0781b8d2-d155-4c27-b1e4-593aec2b27f6"
      },
      "source": [
        "# Insira aqui seu código\n",
        "\n",
        "\n"
      ],
      "execution_count": null,
      "outputs": [
        {
          "output_type": "display_data",
          "data": {
            "image/png": "[encoded data removed]",
            "text/plain": [
              "<Figure size 360x360 with 1 Axes>"
            ]
          },
          "metadata": {
            "tags": [],
            "needs_background": "light"
          }
        },
        {
          "output_type": "stream",
          "text": [
            "                            OLS Regression Results                            \n",
            "==============================================================================\n",
            "Dep. Variable:           CO2EMISSIONS   R-squared:                       0.796\n",
            "Model:                            OLS   Adj. R-squared:                  0.796\n",
            "Method:                 Least Squares   F-statistic:                     4153.\n",
            "Date:                Tue, 20 Oct 2020   Prob (F-statistic):               0.00\n",
            "Time:                        19:43:24   Log-Likelihood:                -5092.7\n",
            "No. Observations:                1067   AIC:                         1.019e+04\n",
            "Df Residuals:                    1065   BIC:                         1.020e+04\n",
            "Df Model:                           1                                         \n",
            "Covariance Type:            nonrobust                                         \n",
            "========================================================================================\n",
            "                           coef    std err          t      P>|t|      [0.025      0.975]\n",
            "----------------------------------------------------------------------------------------\n",
            "Intercept               68.3871      3.044     22.467      0.000      62.414      74.360\n",
            "FUELCONSUMPTION_COMB    16.2200      0.252     64.443      0.000      15.726      16.714\n",
            "==============================================================================\n",
            "Omnibus:                      152.161   Durbin-Watson:                   2.195\n",
            "Prob(Omnibus):                  0.000   Jarque-Bera (JB):              240.073\n",
            "Skew:                          -0.954   Prob(JB):                     7.39e-53\n",
            "Kurtosis:                       4.325   Cond. No.                         42.2\n",
            "==============================================================================\n",
            "\n",
            "Warnings:\n",
            "[1] Standard Errors assume that the covariance matrix of the errors is correctly specified.\n",
            "0    133.267015\n",
            "1    522.546301\n",
            "dtype: float64\n"
          ],
          "name": "stdout"
        }
      ]
    },
    {
      "cell_type": "markdown",
      "metadata": {
        "id": "bEF8Bdde3NE5"
      },
      "source": [
        "# Exercício. Regressão Múltipla\n",
        "\n",
        "Faça agora um modelo de regressão múltipla para estimar as emissões de CO2 a partir de `FUELCONSUMPTION_COMB` e `ENGINESIZE`. \n",
        "\n",
        "Faça então uma predição de emissões para um veículo com `FUELCONSUMPTION_COMB` = 10 e `ENGINESIZE` = 2. "
      ]
    },
    {
      "cell_type": "code",
      "metadata": {
        "id": "kOapb27G3cPj"
      },
      "source": [
        "# Insira aqui seu código\n",
        "\n"
      ],
      "execution_count": null,
      "outputs": []
    },
    {
      "cell_type": "markdown",
      "metadata": {
        "id": "9_P8FpOI8CDN"
      },
      "source": [
        "### Solução: O modelo obtido é\n",
        "\n",
        "$$ \\widehat{CO2EMISSIONS} = ____ + ____ \\times ENGINESIZE + ____ \\times FUELCONSUMPTIONCOMB $$\n",
        "\n",
        "E apresenta Coeficiente de Determinação e p-values\n",
        "\n",
        "$$ R^2 = ____ $$\n",
        "$$ p-values < ____ $$\n",
        "\n",
        "melhor que os modelos unidimensionais."
      ]
    },
    {
      "cell_type": "markdown",
      "metadata": {
        "id": "9JqOhO0IlYut"
      },
      "source": [
        "# Exercício. Regressão com Atributos Categóricos\n",
        "\n",
        "Faça agora um modelo de Regressão Múltipla empregando o atributo categórico `VEHICLECLASS`. Sendo um atributo categórico você deve fazer o `hot encode` antes.\n",
        "\n",
        "DICA: (IMPORTANTE) ajuste o nome das colunas, não são aceitos para fórmula do statsmodel atributos com ' ' (brancos) no nome das colunas."
      ]
    },
    {
      "cell_type": "code",
      "metadata": {
        "id": "YP6SCjeIl3Xg"
      },
      "source": [
        "# Seu código aqui"
      ],
      "execution_count": null,
      "outputs": []
    },
    {
      "cell_type": "markdown",
      "metadata": {
        "id": "ml_COLNBm1Pw"
      },
      "source": [
        "# Exercício. Atributos Categóricos diretos\n",
        "\n",
        "A biblioteca `statsmodel` permite empregar atributos categóricos diretamente para a regressão linear. Ela \n",
        " faz internamente o `hot encode`. Faça a regressão linear anterior informando o atributo `VEHICLECLASS` diretamente, sem o `hot encode`. Existe diferenças com relação ao  resultado anterior? Qual?"
      ]
    },
    {
      "cell_type": "code",
      "metadata": {
        "id": "EFp3PkVGl3YC"
      },
      "source": [
        "# Seu código aqui\n"
      ],
      "execution_count": null,
      "outputs": []
    },
    {
      "cell_type": "markdown",
      "metadata": {
        "id": "zizAtotHsEkD"
      },
      "source": [
        "## Sua conclusão  aqui:"
      ]
    }
  ]
}