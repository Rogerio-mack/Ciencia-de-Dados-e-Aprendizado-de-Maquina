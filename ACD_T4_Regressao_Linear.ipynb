{
  "nbformat": 4,
  "nbformat_minor": 0,
  "metadata": {
    "anaconda-cloud": {},
    "kernelspec": {
      "display_name": "Python 3",
      "language": "python",
      "name": "python3"
    },
    "language_info": {
      "codemirror_mode": {
        "name": "ipython",
        "version": 3
      },
      "file_extension": ".py",
      "mimetype": "text/x-python",
      "name": "python",
      "nbconvert_exporter": "python",
      "pygments_lexer": "ipython3",
      "version": "3.7.4"
    },
    "colab": {
      "name": "ACD_T4_Regressao_Linear.ipynb",
      "provenance": [],
      "collapsed_sections": []
    }
  },
  "cells": [
    {
      "cell_type": "markdown",
      "metadata": {
        "id": "gglUriLmo1sR"
      },
      "source": [
        "<head>\n",
        "  <meta name=\"author\" content=\"Rogério de Oliveira\">\n",
        "  <meta institution=\"author\" content=\"Universidade Presbiteriana Mackenzie\">\n",
        "</head>\n",
        "\n",
        "<img src=\"http://meusite.mackenzie.br/rogerio/mackenzie_logo/UPM.2_horizontal_vermelho.jpg\" width=300, align=\"right\"></a>\n",
        "<!-- <h1 align=left><font size = 6, style=\"color:rgb(200,0,0)\"> optional title </font></h1> -->"
      ]
    },
    {
      "cell_type": "markdown",
      "metadata": {
        "id": "x3RSAcU_o1sU"
      },
      "source": [
        "# **Regressão Linear**\n",
        "---"
      ]
    },
    {
      "cell_type": "markdown",
      "metadata": {
        "id": "Li1FPlObIQAh"
      },
      "source": [
        "## Regressão Linear \n",
        "\n",
        "Um modelo linear aproxima o valor de variável objetivo $Y$ a partir de uma combinação linear das variáveis preditoras $X$. \n",
        "\n",
        "$  \\widehat Y = a_0 + a_{1} X_{1} + a_{2} X_{2} + ... + a_{n} X_{n} $ \n",
        " \n",
        "A cada variável preditora corresponde um coeficiente $a_n$, havendo um coeficiente independente que corresponte ao valor de $\\widehat Y$ para $X=0$ (*intercept*). \n",
        "\n",
        "\n",
        "\n",
        "\n"
      ]
    },
    {
      "cell_type": "markdown",
      "metadata": {
        "id": "6NmyNaP_6EvX"
      },
      "source": [
        "## Obtendo os Coeficiente $a_n$, Método dos Mínimos Quadrados\n",
        "\n",
        "Os coeficientes $a_n$ podem ser obtidos minimizando-se a soma da distância entre os valores reais $Y$ e os valores estimados $\\widehat Y$. \n",
        "\n",
        "Para uma única variável $X$, podemos escrever:\n",
        "\n",
        "$$min \\sum d(Y, \\widehat Y) = $$\n",
        "\n",
        "$$ min \\sum (y_i - \\widehat y_i )^2 = $$ \n",
        "\n",
        "$$ min \\sum (y_i - a_0 - a_i x_i )^2 $$ \n",
        "\n",
        "Esta é uma função convexa e os pontos de mínimo com relação aos valores coeficientes podem ser obtidos derivando-se a função. O resultado será: \n",
        "\n",
        "$$a_1 =  \\frac{COV(x,y)}{VAR(x)} $$\n",
        "\n",
        "$$ a_0 = \\bar y - a_1 \\bar x $$\n",
        "\n",
        "Para mais detalhes veja: \n",
        "1. https://en.wikipedia.org/wiki/Regression_analysis\n",
        "2. https://pt.wikipedia.org/wiki/M%C3%A9todo_dos_m%C3%ADnimos_quadrados\n",
        "\n",
        "\n",
        "\n",
        "\n",
        "\n",
        "\n"
      ]
    },
    {
      "cell_type": "markdown",
      "metadata": {
        "id": "IRed5j3hBH3r"
      },
      "source": [
        "## Notas Práticas\n",
        "\n",
        "1. Este é um modelo de Ciência de Dados? Note que regressão linear extrai de um conjunto de dados um modelo, um padrão para os dados, não óbvio e a partir do qual podemos fazer inferências úteis... reveja então nossa definição de Ciência de Dados. \n",
        "1. Note que quaisquer conjuntos de pontos apresentam podem ter os coeficientes da regressão calculados, mesmo não tendo uma aproximação linear.\n",
        "1. O procedimento acima, para uma dimensão, se aplica a qualquer número de dimensões. \n",
        "1. Para a regressão linear o método dos mínimos quadrados permite a solução analítica. Em outros tipo de regressão, polinimial por exemplo, pode não haver uma solução analítica. O procedimento, entretanto, de se buscar um mínimo dos quadrados (uma função convexa) pode ainda ser aplicado (como, você tem alguma sugestão?)"
      ]
    },
    {
      "cell_type": "markdown",
      "metadata": {
        "deletable": true,
        "editable": true,
        "id": "qK4Wi5vshpPc"
      },
      "source": [
        "## Uma regressão linear simples\n",
        "\n",
        "Vamos começar com uma regressão simples de valores aleatórios apenas para você se familiarizar com a construção do modelo. "
      ]
    },
    {
      "cell_type": "code",
      "metadata": {
        "id": "UPVeFK3a5i6d",
        "colab": {
          "base_uri": "https://localhost:8080/",
          "height": 71
        },
        "outputId": "f55e531e-20ce-420c-e2cd-224643defed5"
      },
      "source": [
        "import pandas                  as pd\n",
        "import numpy                   as np\n",
        "import matplotlib.pyplot       as plt\n",
        "import seaborn                 as sns\n",
        "import statsmodels.formula.api as sm\n",
        "import warnings\n",
        "warnings.filterwarnings(\"ignore\")  "
      ],
      "execution_count": null,
      "outputs": [
        {
          "output_type": "stream",
          "text": [
            "/usr/local/lib/python3.6/dist-packages/statsmodels/tools/_testing.py:19: FutureWarning: pandas.util.testing is deprecated. Use the functions in the public API at pandas.testing instead.\n",
            "  import pandas.util.testing as tm\n"
          ],
          "name": "stderr"
        }
      ]
    },
    {
      "cell_type": "markdown",
      "metadata": {
        "id": "hsCr050-MUNR"
      },
      "source": [
        "Gerando uma amostra de 50 valores \"aleatórios\" a partir de uma função linear.    "
      ]
    },
    {
      "cell_type": "code",
      "metadata": {
        "id": "-s5TcBJLs5Z0",
        "colab": {
          "base_uri": "https://localhost:8080/",
          "height": 282
        },
        "outputId": "4aa5a2db-7ddb-4af7-b560-2269756050ad"
      },
      "source": [
        "rng = np.random.RandomState(1)\n",
        "x = 10 * rng.rand(50)\n",
        "y = 2 * x - 5 + rng.randn(50)\n",
        "sns.scatterplot(x, y)"
      ],
      "execution_count": null,
      "outputs": [
        {
          "output_type": "execute_result",
          "data": {
            "text/plain": [
              "<matplotlib.axes._subplots.AxesSubplot at 0x7ff9a10d7eb8>"
            ]
          },
          "metadata": {
            "tags": []
          },
          "execution_count": 2
        },
        {
          "output_type": "display_data",
          "data": {
            "image/png": "[encoded data removed]",
            "text/plain": [
              "<Figure size 432x288 with 1 Axes>"
            ]
          },
          "metadata": {
            "tags": [],
            "needs_background": "light"
          }
        }
      ]
    },
    {
      "cell_type": "markdown",
      "metadata": {
        "id": "bIc_ES-gL-ix"
      },
      "source": [
        "Podemos ainda traçar uma linha de aproximação linear com a função `sns.lmplot()`."
      ]
    },
    {
      "cell_type": "code",
      "metadata": {
        "id": "jio4n5FBtBhe",
        "colab": {
          "base_uri": "https://localhost:8080/",
          "height": 400
        },
        "outputId": "96fdc1dc-0845-4ec8-ff6a-50e11bc8f013"
      },
      "source": [
        "df = pd.DataFrame({'x':x,'y':y}) \n",
        "sns.lmplot('x','y',data=df)\n"
      ],
      "execution_count": null,
      "outputs": [
        {
          "output_type": "execute_result",
          "data": {
            "text/plain": [
              "<seaborn.axisgrid.FacetGrid at 0x7ff9a694d390>"
            ]
          },
          "metadata": {
            "tags": []
          },
          "execution_count": 3
        },
        {
          "output_type": "display_data",
          "data": {
            "image/png": "[encoded data removed]",
            "text/plain": [
              "<Figure size 360x360 with 1 Axes>"
            ]
          },
          "metadata": {
            "tags": [],
            "needs_background": "light"
          }
        }
      ]
    },
    {
      "cell_type": "markdown",
      "metadata": {
        "id": "Pxs0RHZfOQKQ"
      },
      "source": [
        "## Construindo o modelo linear, `sm.ols(formula = , data= )`\n",
        "\n",
        "Um conjunto de dados é informado e o parâmetro `formula` indica as variáveis objetivo e preditoras.\n",
        "\n",
        "````\n",
        "                                                              formula = 'y ~ x' \n",
        "````\n",
        "significa\n",
        "\n",
        "$$ y \\leftarrow  x $$\n",
        "\n",
        "para um modelo\n",
        "\n",
        "$$ \\widehat y = a_0 + b_1 x $$\n",
        "\n"
      ]
    },
    {
      "cell_type": "code",
      "metadata": {
        "id": "nFLNCFPcNePO"
      },
      "source": [
        "model = sm.ols(formula='y ~ x', data=df)\n"
      ],
      "execution_count": null,
      "outputs": []
    },
    {
      "cell_type": "code",
      "metadata": {
        "id": "c-3iMXYENePT",
        "colab": {
          "base_uri": "https://localhost:8080/",
          "height": 442
        },
        "outputId": "82ca9c46-7891-4c58-bb65-65f2f0bc5728"
      },
      "source": [
        "result = model.fit()\n",
        "print(result.summary())"
      ],
      "execution_count": null,
      "outputs": [
        {
          "output_type": "stream",
          "text": [
            "                            OLS Regression Results                            \n",
            "==============================================================================\n",
            "Dep. Variable:                      y   R-squared:                       0.979\n",
            "Model:                            OLS   Adj. R-squared:                  0.979\n",
            "Method:                 Least Squares   F-statistic:                     2246.\n",
            "Date:                Wed, 14 Oct 2020   Prob (F-statistic):           5.71e-42\n",
            "Time:                        14:14:02   Log-Likelihood:                -65.935\n",
            "No. Observations:                  50   AIC:                             135.9\n",
            "Df Residuals:                      48   BIC:                             139.7\n",
            "Df Model:                           1                                         \n",
            "Covariance Type:            nonrobust                                         \n",
            "==============================================================================\n",
            "                 coef    std err          t      P>|t|      [0.025      0.975]\n",
            "------------------------------------------------------------------------------\n",
            "Intercept     -4.9986      0.239    -20.948      0.000      -5.478      -4.519\n",
            "x              2.0272      0.043     47.397      0.000       1.941       2.113\n",
            "==============================================================================\n",
            "Omnibus:                        0.058   Durbin-Watson:                   1.590\n",
            "Prob(Omnibus):                  0.971   Jarque-Bera (JB):                0.057\n",
            "Skew:                           0.048   Prob(JB):                        0.972\n",
            "Kurtosis:                       2.865   Cond. No.                         10.4\n",
            "==============================================================================\n",
            "\n",
            "Warnings:\n",
            "[1] Standard Errors assume that the covariance matrix of the errors is correctly specified.\n"
          ],
          "name": "stdout"
        }
      ]
    },
    {
      "cell_type": "markdown",
      "metadata": {
        "id": "Xjaa4yXuQSkg"
      },
      "source": [
        "E desse modo a aproximação linear é dada por:\n",
        "\n",
        "$$ y = -4.9986 + 2.0272 x $$\n",
        "\n",
        "Empregamos então o modelo para estimar os valores de $y$, isto é $\\bar y$, a partir do modelo linear. Podemos então comparar os valores de $y$ e $\\bar y$ (`predicted`). \n"
      ]
    },
    {
      "cell_type": "code",
      "metadata": {
        "id": "U_A0fYshQqOb"
      },
      "source": [
        "df['predicted'] = result.predict(df.x)"
      ],
      "execution_count": null,
      "outputs": []
    },
    {
      "cell_type": "code",
      "metadata": {
        "id": "yMYyQouNRpXq",
        "colab": {
          "base_uri": "https://localhost:8080/",
          "height": 279
        },
        "outputId": "45177d6d-0452-4c6c-f862-8f7c81e9e303"
      },
      "source": [
        "sns.scatterplot('x','y',data=df)\n",
        "sns.scatterplot('x','predicted',data=df)\n",
        "sns.lineplot('x','predicted',data=df,color='red')\n",
        "plt.show()"
      ],
      "execution_count": null,
      "outputs": [
        {
          "output_type": "display_data",
          "data": {
            "image/png": "[encoded data removed]",
            "text/plain": [
              "<Figure size 432x288 with 1 Axes>"
            ]
          },
          "metadata": {
            "tags": [],
            "needs_background": "light"
          }
        }
      ]
    },
    {
      "cell_type": "markdown",
      "metadata": {
        "id": "_pfvh1wCUxc6"
      },
      "source": [
        "### Exercício\n",
        "\n",
        "Faça o mesmo procedimento acima alterando a função inicial\n",
        "\n",
        "```\n",
        "y = 2 * x - 5 + rng.randn(50)\n",
        "```\n",
        "Por uma função não linear. Qual a sua conclusão?\n",
        "\n"
      ]
    },
    {
      "cell_type": "markdown",
      "metadata": {
        "id": "RUkrHCJKSYn3"
      },
      "source": [
        "## CASO: Estimando a economia de combustível de veículos na cidade\n",
        "\n",
        "**Fuel economy data from 1999 and 2008 for 38 popular models of car**. Para descrição dos dados acesse https://vincentarelbundock.github.io/Rdatasets/doc/ggplot2/mpg.html. \n",
        "\n",
        "\n",
        "Para dados mais recentes e detalhados veja:\n",
        "\n",
        "1. https://www.epa.gov/compliance-and-fuel-economy-data/data-cars-used-testing-fuel-economy"
      ]
    },
    {
      "cell_type": "code",
      "metadata": {
        "id": "V5gWRJ945fCy",
        "colab": {
          "base_uri": "https://localhost:8080/",
          "height": 204
        },
        "outputId": "e8829b65-56ff-4fe7-dd71-8aa813b432a4"
      },
      "source": [
        "df = pd.read_csv(\"https://vincentarelbundock.github.io/Rdatasets/csv/ggplot2/mpg.csv\")\n",
        "df.head()"
      ],
      "execution_count": null,
      "outputs": [
        {
          "output_type": "execute_result",
          "data": {
            "text/html": [
              "<div>\n",
              "<style scoped>\n",
              "    .dataframe tbody tr th:only-of-type {\n",
              "        vertical-align: middle;\n",
              "    }\n",
              "\n",
              "    .dataframe tbody tr th {\n",
              "        vertical-align: top;\n",
              "    }\n",
              "\n",
              "    .dataframe thead th {\n",
              "        text-align: right;\n",
              "    }\n",
              "</style>\n",
              "<table border=\"1\" class=\"dataframe\">\n",
              "  <thead>\n",
              "    <tr style=\"text-align: right;\">\n",
              "      <th></th>\n",
              "      <th>Unnamed: 0</th>\n",
              "      <th>manufacturer</th>\n",
              "      <th>model</th>\n",
              "      <th>displ</th>\n",
              "      <th>year</th>\n",
              "      <th>cyl</th>\n",
              "      <th>trans</th>\n",
              "      <th>drv</th>\n",
              "      <th>cty</th>\n",
              "      <th>hwy</th>\n",
              "      <th>fl</th>\n",
              "      <th>class</th>\n",
              "    </tr>\n",
              "  </thead>\n",
              "  <tbody>\n",
              "    <tr>\n",
              "      <th>0</th>\n",
              "      <td>1</td>\n",
              "      <td>audi</td>\n",
              "      <td>a4</td>\n",
              "      <td>1.8</td>\n",
              "      <td>1999</td>\n",
              "      <td>4</td>\n",
              "      <td>auto(l5)</td>\n",
              "      <td>f</td>\n",
              "      <td>18</td>\n",
              "      <td>29</td>\n",
              "      <td>p</td>\n",
              "      <td>compact</td>\n",
              "    </tr>\n",
              "    <tr>\n",
              "      <th>1</th>\n",
              "      <td>2</td>\n",
              "      <td>audi</td>\n",
              "      <td>a4</td>\n",
              "      <td>1.8</td>\n",
              "      <td>1999</td>\n",
              "      <td>4</td>\n",
              "      <td>manual(m5)</td>\n",
              "      <td>f</td>\n",
              "      <td>21</td>\n",
              "      <td>29</td>\n",
              "      <td>p</td>\n",
              "      <td>compact</td>\n",
              "    </tr>\n",
              "    <tr>\n",
              "      <th>2</th>\n",
              "      <td>3</td>\n",
              "      <td>audi</td>\n",
              "      <td>a4</td>\n",
              "      <td>2.0</td>\n",
              "      <td>2008</td>\n",
              "      <td>4</td>\n",
              "      <td>manual(m6)</td>\n",
              "      <td>f</td>\n",
              "      <td>20</td>\n",
              "      <td>31</td>\n",
              "      <td>p</td>\n",
              "      <td>compact</td>\n",
              "    </tr>\n",
              "    <tr>\n",
              "      <th>3</th>\n",
              "      <td>4</td>\n",
              "      <td>audi</td>\n",
              "      <td>a4</td>\n",
              "      <td>2.0</td>\n",
              "      <td>2008</td>\n",
              "      <td>4</td>\n",
              "      <td>auto(av)</td>\n",
              "      <td>f</td>\n",
              "      <td>21</td>\n",
              "      <td>30</td>\n",
              "      <td>p</td>\n",
              "      <td>compact</td>\n",
              "    </tr>\n",
              "    <tr>\n",
              "      <th>4</th>\n",
              "      <td>5</td>\n",
              "      <td>audi</td>\n",
              "      <td>a4</td>\n",
              "      <td>2.8</td>\n",
              "      <td>1999</td>\n",
              "      <td>6</td>\n",
              "      <td>auto(l5)</td>\n",
              "      <td>f</td>\n",
              "      <td>16</td>\n",
              "      <td>26</td>\n",
              "      <td>p</td>\n",
              "      <td>compact</td>\n",
              "    </tr>\n",
              "  </tbody>\n",
              "</table>\n",
              "</div>"
            ],
            "text/plain": [
              "   Unnamed: 0 manufacturer model  displ  year  ...  drv cty hwy  fl    class\n",
              "0           1         audi    a4    1.8  1999  ...    f  18  29   p  compact\n",
              "1           2         audi    a4    1.8  1999  ...    f  21  29   p  compact\n",
              "2           3         audi    a4    2.0  2008  ...    f  20  31   p  compact\n",
              "3           4         audi    a4    2.0  2008  ...    f  21  30   p  compact\n",
              "4           5         audi    a4    2.8  1999  ...    f  16  26   p  compact\n",
              "\n",
              "[5 rows x 12 columns]"
            ]
          },
          "metadata": {
            "tags": []
          },
          "execution_count": 8
        }
      ]
    },
    {
      "cell_type": "markdown",
      "metadata": {
        "id": "FdCovytDWnRM"
      },
      "source": [
        "Inicialmente vamos verificar como se relacionam as demais **variáveis numéricas** (mais adiante vamos tirar essa limitação!) com a variável objetivo `cyl`(o consumo dos veículos na cidade).  "
      ]
    },
    {
      "cell_type": "code",
      "metadata": {
        "id": "_AgJXt_DWS3a",
        "colab": {
          "base_uri": "https://localhost:8080/",
          "height": 743
        },
        "outputId": "5295b9f5-19bf-4db3-a80e-be5bc98f1407"
      },
      "source": [
        "sns.pairplot(df[['cty','hwy','cyl','displ']])"
      ],
      "execution_count": null,
      "outputs": [
        {
          "output_type": "execute_result",
          "data": {
            "text/plain": [
              "<seaborn.axisgrid.PairGrid at 0x7ff99d83e8d0>"
            ]
          },
          "metadata": {
            "tags": []
          },
          "execution_count": 9
        },
        {
          "output_type": "display_data",
          "data": {
            "image/png": "[encoded data removed]",
            "text/plain": [
              "<Figure size 720x720 with 20 Axes>"
            ]
          },
          "metadata": {
            "tags": [],
            "needs_background": "light"
          }
        }
      ]
    },
    {
      "cell_type": "markdown",
      "metadata": {
        "id": "llKd1p1FVRop"
      },
      "source": [
        "`hwy` parece ser a variável que mais se aproxima de uma relação linear com `cyl`. Vamos, portanto, tentar determinar o consumo de combustível na cidade `cty` a partir, inicialmente, somente do atributo de consumo dos veículos na estrada, o atributo `hwy`. Isto é, vamos criar um modelo:\n",
        "\n",
        "$$ \\widehat{cty} =  a_0 + a_1 hwy $$\n",
        "\n"
      ]
    },
    {
      "cell_type": "code",
      "metadata": {
        "id": "aZd6MsQF5wi4",
        "colab": {
          "base_uri": "https://localhost:8080/",
          "height": 400
        },
        "outputId": "3d13b86a-36b8-496c-a6e0-0f8929aa403c"
      },
      "source": [
        "sns.lmplot('hwy', 'cty', data=df)"
      ],
      "execution_count": null,
      "outputs": [
        {
          "output_type": "execute_result",
          "data": {
            "text/plain": [
              "<seaborn.axisgrid.FacetGrid at 0x7ff99d28a0f0>"
            ]
          },
          "metadata": {
            "tags": []
          },
          "execution_count": 10
        },
        {
          "output_type": "display_data",
          "data": {
            "image/png": "[encoded data removed]",
            "text/plain": [
              "<Figure size 360x360 with 1 Axes>"
            ]
          },
          "metadata": {
            "tags": [],
            "needs_background": "light"
          }
        }
      ]
    },
    {
      "cell_type": "code",
      "metadata": {
        "id": "eISSxlPk6Xkq"
      },
      "source": [
        "model = sm.ols(formula=\"cty ~ hwy \", data=df)\n"
      ],
      "execution_count": null,
      "outputs": []
    },
    {
      "cell_type": "code",
      "metadata": {
        "id": "oIwL-5zA6mWi",
        "colab": {
          "base_uri": "https://localhost:8080/",
          "height": 442
        },
        "outputId": "ff0375e3-d753-4493-bfe2-5dd933bd23da"
      },
      "source": [
        "result = model.fit()\n",
        "print(result.summary())"
      ],
      "execution_count": null,
      "outputs": [
        {
          "output_type": "stream",
          "text": [
            "                            OLS Regression Results                            \n",
            "==============================================================================\n",
            "Dep. Variable:                    cty   R-squared:                       0.914\n",
            "Model:                            OLS   Adj. R-squared:                  0.913\n",
            "Method:                 Least Squares   F-statistic:                     2459.\n",
            "Date:                Wed, 14 Oct 2020   Prob (F-statistic):          1.87e-125\n",
            "Time:                        14:14:08   Log-Likelihood:                -383.69\n",
            "No. Observations:                 234   AIC:                             771.4\n",
            "Df Residuals:                     232   BIC:                             778.3\n",
            "Df Model:                           1                                         \n",
            "Covariance Type:            nonrobust                                         \n",
            "==============================================================================\n",
            "                 coef    std err          t      P>|t|      [0.025      0.975]\n",
            "------------------------------------------------------------------------------\n",
            "Intercept      0.8442      0.333      2.534      0.012       0.188       1.501\n",
            "hwy            0.6832      0.014     49.585      0.000       0.656       0.710\n",
            "==============================================================================\n",
            "Omnibus:                        3.986   Durbin-Watson:                   1.093\n",
            "Prob(Omnibus):                  0.136   Jarque-Bera (JB):                4.565\n",
            "Skew:                           0.114   Prob(JB):                        0.102\n",
            "Kurtosis:                       3.645   Cond. No.                         98.6\n",
            "==============================================================================\n",
            "\n",
            "Warnings:\n",
            "[1] Standard Errors assume that the covariance matrix of the errors is correctly specified.\n"
          ],
          "name": "stdout"
        }
      ]
    },
    {
      "cell_type": "markdown",
      "metadata": {
        "id": "123_FRbZ6v0Y"
      },
      "source": [
        "Obtemos assim o modelo:\n",
        "\n",
        "$$ \\widehat{cty} = 0.8442 + 0.6832 \\times hwy  $$\n",
        " \n",
        "\n"
      ]
    },
    {
      "cell_type": "markdown",
      "metadata": {
        "id": "UArNPQQOYppn"
      },
      "source": [
        "## Predição de novos valores, `predict(x)`\n",
        "\n",
        "Podemos agora empregar nosso modelo para estimar o consumo de um novo veículo na cidade, que não conhecemos, mas conhecemos o seu consumo na estrada. Digamos para `hwy = 12` ou ainda `hwy=52`.  "
      ]
    },
    {
      "cell_type": "code",
      "metadata": {
        "id": "Rc7ckqg98J8V",
        "colab": {
          "base_uri": "https://localhost:8080/",
          "height": 68
        },
        "outputId": "17add73b-4960-4614-8365-09238fdb204a"
      },
      "source": [
        "x = pd.DataFrame({'hwy': [52,12]})\n",
        "result.predict(x)"
      ],
      "execution_count": null,
      "outputs": [
        {
          "output_type": "execute_result",
          "data": {
            "text/plain": [
              "0    36.371595\n",
              "1     9.042831\n",
              "dtype: float64"
            ]
          },
          "metadata": {
            "tags": []
          },
          "execution_count": 13
        }
      ]
    },
    {
      "cell_type": "markdown",
      "metadata": {
        "id": "XyRl09f4Zne7"
      },
      "source": [
        "**Mas será esse um bom modelo?**"
      ]
    },
    {
      "cell_type": "markdown",
      "metadata": {
        "id": "RPZI1rIGYKyE"
      },
      "source": [
        "## Verificação Visual"
      ]
    },
    {
      "cell_type": "code",
      "metadata": {
        "id": "_wgtCaq_7IuB"
      },
      "source": [
        "df['predicted'] = result.predict()"
      ],
      "execution_count": null,
      "outputs": []
    },
    {
      "cell_type": "code",
      "metadata": {
        "id": "Zo48GSLV7bEQ",
        "colab": {
          "base_uri": "https://localhost:8080/",
          "height": 279
        },
        "outputId": "d55b2e51-7ad4-4551-e176-7f10c2ddf3bb"
      },
      "source": [
        "sns.scatterplot('hwy', 'cty', data=df)\n",
        "sns.lineplot('hwy', 'predicted', data=df, color='red')\n",
        "plt.show()\n"
      ],
      "execution_count": null,
      "outputs": [
        {
          "output_type": "display_data",
          "data": {
            "image/png": "[encoded data removed]",
            "text/plain": [
              "<Figure size 432x288 with 1 Axes>"
            ]
          },
          "metadata": {
            "tags": [],
            "needs_background": "light"
          }
        }
      ]
    },
    {
      "cell_type": "markdown",
      "metadata": {
        "id": "wcN3EJtSaHBz"
      },
      "source": [
        "A inspeção visual entretanto é bastante limitada e, no máximo, pode permitir a avaliação de modelos de até 3 dimensões."
      ]
    },
    {
      "cell_type": "markdown",
      "metadata": {
        "id": "pQJkyzjaDODK"
      },
      "source": [
        "# Coeficiente de Determinação, $R^2$\n",
        "\n",
        "O Coeficiente de Determinação, Coeficiente de Correlação, ou ainda $R-$Square é uma medida de $[0,1]$ que indica o quanto um modelo linear explica um conjunto de dados. Quanto mais próximo de 1, mais os dados se aproximam de um modelo linear.\n",
        "\n",
        "$$ R^2 = 1 - \\frac{SS_e}{SS_{total}} $$\n",
        "\n",
        "onde \n",
        "\n",
        "$$SS_e = \\sum (y_i - \\widehat y_i )^2 $$ é o (erro) *resíduo* e,\n",
        "\n",
        "$$SS_{total} = \\sum (y_i - \\bar y )^2 $$ \n",
        "\n",
        "o *erro total*.\n",
        "\n",
        "\n",
        "Para mais detalhes veja:\n",
        "1. https://en.wikipedia.org/wiki/Coefficient_of_determination\n"
      ]
    },
    {
      "cell_type": "markdown",
      "metadata": {
        "id": "aGEg-ivcGM-t"
      },
      "source": [
        "## $p-value$  dos Coeficientes\n",
        "\n",
        "Outra medida importante sobre o *p-value* dos coeficientes. Assumindo a hipótese nula do coeficiente ser igual a zero, buscamos coeficientes cujo *p-value* rejeitem a hipótese nula.\n",
        "\n",
        "$$ H_0: a_i = 0 $$\n",
        "$$ H_a: a_i \\neq 0 $$\n",
        "\n"
      ]
    },
    {
      "cell_type": "markdown",
      "metadata": {
        "id": "N_QG594xKr5_"
      },
      "source": [
        "## Intervalo de Confiança dos Coeficientes\n",
        "\n",
        "O Intervalo de Confiança dos Coeficientes possui duas definições equivalentes:\n",
        "\n",
        "1. O intervalo é o conjunto de valores para os quais um teste de hipótese para o nível de 5% não pode ser rejeitado.\n",
        "1. O intervalo tem uma probabilidade de 95% de conter o verdadeiro valor de $a_i$ ou ainda, em 95% de todas as amostras que poderiam ser coletadas, o intervalo de confiança cobrirá o valor real de $a_i$.\n",
        "\n",
        "Para mais detalhes dos intervalos de confiança e p-value, veja:\n",
        "\n",
        "1. https://www.econometrics-with-r.org/4-3-measures-of-fit.html#application-to-the-test-score-data"
      ]
    },
    {
      "cell_type": "markdown",
      "metadata": {
        "id": "zCBxb243aavi"
      },
      "source": [
        "## Analisando os dados do modelo\n",
        "\n",
        "$$ R^2 = 0.914 $$\n",
        "$$ p-values < 0.05 $$\n",
        "\n",
        "Podemos ver que esse é um modelo bastante confiável. \n",
        "\n",
        "(o intervalo de confiança é uma verificação adicional. Ele dá um range de valores de cada coeficiente, podemos empregá-lo para identificar possíveis desvios nos coeficientes). "
      ]
    },
    {
      "cell_type": "code",
      "metadata": {
        "id": "CeUTmXybaj5C",
        "colab": {
          "base_uri": "https://localhost:8080/",
          "height": 442
        },
        "outputId": "48b9c64a-4153-480e-c558-3db7fb626d2c"
      },
      "source": [
        "print(result.summary())"
      ],
      "execution_count": null,
      "outputs": [
        {
          "output_type": "stream",
          "text": [
            "                            OLS Regression Results                            \n",
            "==============================================================================\n",
            "Dep. Variable:                    cty   R-squared:                       0.914\n",
            "Model:                            OLS   Adj. R-squared:                  0.913\n",
            "Method:                 Least Squares   F-statistic:                     2459.\n",
            "Date:                Wed, 14 Oct 2020   Prob (F-statistic):          1.87e-125\n",
            "Time:                        14:14:08   Log-Likelihood:                -383.69\n",
            "No. Observations:                 234   AIC:                             771.4\n",
            "Df Residuals:                     232   BIC:                             778.3\n",
            "Df Model:                           1                                         \n",
            "Covariance Type:            nonrobust                                         \n",
            "==============================================================================\n",
            "                 coef    std err          t      P>|t|      [0.025      0.975]\n",
            "------------------------------------------------------------------------------\n",
            "Intercept      0.8442      0.333      2.534      0.012       0.188       1.501\n",
            "hwy            0.6832      0.014     49.585      0.000       0.656       0.710\n",
            "==============================================================================\n",
            "Omnibus:                        3.986   Durbin-Watson:                   1.093\n",
            "Prob(Omnibus):                  0.136   Jarque-Bera (JB):                4.565\n",
            "Skew:                           0.114   Prob(JB):                        0.102\n",
            "Kurtosis:                       3.645   Cond. No.                         98.6\n",
            "==============================================================================\n",
            "\n",
            "Warnings:\n",
            "[1] Standard Errors assume that the covariance matrix of the errors is correctly specified.\n"
          ],
          "name": "stdout"
        }
      ]
    },
    {
      "cell_type": "markdown",
      "metadata": {
        "id": "Y6suW5Jtb3fv"
      },
      "source": [
        "## Adicionando variáveis ao modelo\n",
        "\n",
        "Vamos agora adicionar ao nosso modelo a variável preditora de cilindradas do motor (`displ`). "
      ]
    },
    {
      "cell_type": "code",
      "metadata": {
        "id": "Q1YXxDVo70fN",
        "colab": {
          "base_uri": "https://localhost:8080/",
          "height": 459
        },
        "outputId": "57b917df-2feb-493a-f568-8be842bc66e5"
      },
      "source": [
        "model = sm.ols(formula=\"cty ~ hwy + displ\", data=df)\n",
        "result = model.fit()\n",
        "print(result.summary())"
      ],
      "execution_count": null,
      "outputs": [
        {
          "output_type": "stream",
          "text": [
            "                            OLS Regression Results                            \n",
            "==============================================================================\n",
            "Dep. Variable:                    cty   R-squared:                       0.924\n",
            "Model:                            OLS   Adj. R-squared:                  0.924\n",
            "Method:                 Least Squares   F-statistic:                     1412.\n",
            "Date:                Wed, 14 Oct 2020   Prob (F-statistic):          2.93e-130\n",
            "Time:                        14:14:08   Log-Likelihood:                -368.30\n",
            "No. Observations:                 234   AIC:                             742.6\n",
            "Df Residuals:                     231   BIC:                             753.0\n",
            "Df Model:                           2                                         \n",
            "Covariance Type:            nonrobust                                         \n",
            "==============================================================================\n",
            "                 coef    std err          t      P>|t|      [0.025      0.975]\n",
            "------------------------------------------------------------------------------\n",
            "Intercept      4.7368      0.751      6.306      0.000       3.257       6.217\n",
            "hwy            0.5954      0.020     29.602      0.000       0.556       0.635\n",
            "displ         -0.5283      0.093     -5.699      0.000      -0.711      -0.346\n",
            "==============================================================================\n",
            "Omnibus:                       18.031   Durbin-Watson:                   1.207\n",
            "Prob(Omnibus):                  0.000   Jarque-Bera (JB):               43.047\n",
            "Skew:                           0.302   Prob(JB):                     4.49e-10\n",
            "Kurtosis:                       5.012   Cond. No.                         240.\n",
            "==============================================================================\n",
            "\n",
            "Warnings:\n",
            "[1] Standard Errors assume that the covariance matrix of the errors is correctly specified.\n"
          ],
          "name": "stdout"
        }
      ]
    },
    {
      "cell_type": "markdown",
      "metadata": {
        "id": "MjEtnWBHGVdj"
      },
      "source": [
        "Agora o modelo obtido é:\n",
        "\n",
        "$$cty = 4.7368 + 0.5954 \\times hwy - 0.5283 \\times displ$$\n",
        "\n",
        "(por simplicidade adotamos agora $cty$ no lugar de $\\widehat{cty}$. Qual a diferença?)"
      ]
    },
    {
      "cell_type": "markdown",
      "metadata": {
        "id": "Vdl5fnNjdbYj"
      },
      "source": [
        "## Analisando os dados do modelo\n",
        "\n",
        "$$ R^2 = 0.924 $$\n",
        "$$ p-values < 0.05 $$\n",
        "\n",
        "Podemos ver que esse é um modelo bastante confiável apresentando um erro menor ainda que o modelo anterior (por que?). \n"
      ]
    },
    {
      "cell_type": "markdown",
      "metadata": {
        "id": "usZqMG0ReRuJ"
      },
      "source": [
        "### Exercício\n",
        "\n",
        "Refaça o modelo incluindo o atributo `cyl`. O modelo obtido é melhor?"
      ]
    },
    {
      "cell_type": "markdown",
      "metadata": {
        "id": "za0A5iryIN6B"
      },
      "source": [
        "## Conclusão\n",
        "\n",
        "1. Modelos de Regressão Lineares são bem definidos (determinísticos), os coeficientes só dependendo das médias dos valores e das variâncias e covariância dos valores.\n",
        "1. Funcionam para quaisquer dimensões.\n",
        "1. Podem aplicados a quaisquer conjunto de dados, por isso é necessário avaliar o quanto o modelo de fato se ajusta ao dados (r-square, p-value e intervalo de confiança)\n",
        "1. O modelo de regressão linear pode ser associado a transformações, como por exemplo a aplicação de $log()$:\n",
        "\n",
        "$$ Log(y) = a_0 + a_1 x_1 + a_2 x_2 + ...$$\n",
        "\n",
        "Ou ainda, o método de mínimos quadrados empregado para obter coeficientes de regressões polinomiais e de composição com outras funções:\n",
        "\n",
        "\n",
        "$$ y = a_0 + a_1 x_1^2 + a_2 x_2^2 + ...$$\n",
        "\n",
        "ou \n",
        "\n",
        "$$ y = a_0 + a_{11} x_1 + a_{12} x_1^2 + a_{21} x_2 + a_{22} x_2^2 +...$$"
      ]
    },
    {
      "cell_type": "markdown",
      "metadata": {
        "id": "UeF40Tx_e-k2"
      },
      "source": [
        "### Valores Categóricos\n",
        "\n",
        "Para o emprego de valores categóricos na regressão linear é necessária a codificação dos valores para numérico. Veja no material complementar da T6 o uso do **hot encode** e a aplicação de um modelo de regressão linear para várias variáveis categóricas."
      ]
    },
    {
      "cell_type": "markdown",
      "metadata": {
        "id": "6EzmHB-gfm1a"
      },
      "source": [
        "### Exercício\n",
        "\n",
        "Adicione ao último modelo a variável `drv` aplicando o **hot encode** e compare os resultados. "
      ]
    }
  ]
}