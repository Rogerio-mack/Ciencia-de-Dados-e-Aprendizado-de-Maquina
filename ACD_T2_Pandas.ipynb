{
  "nbformat": 4,
  "nbformat_minor": 0,
  "metadata": {
    "kernelspec": {
      "display_name": "Python 3",
      "language": "python",
      "name": "python3"
    },
    "language_info": {
      "codemirror_mode": {
        "name": "ipython",
        "version": 3
      },
      "file_extension": ".py",
      "mimetype": "text/x-python",
      "name": "python",
      "nbconvert_exporter": "python",
      "pygments_lexer": "ipython3",
      "version": "3.7.4"
    },
    "colab": {
      "name": "ACD_T2_Pandas.ipynb",
      "provenance": [],
      "collapsed_sections": [],
      "include_colab_link": true
    }
  },
  "cells": [
    {
      "cell_type": "markdown",
      "metadata": {
        "id": "view-in-github",
        "colab_type": "text"
      },
      "source": [
        "<a href=\"https://colab.research.google.com/github/Rogerio-mack/Ciencia-de-Dados-e-Aprendizado-de-Maquina/blob/main/ACD_T2_Pandas.ipynb\" target=\"_parent\"><img src=\"https://colab.research.google.com/assets/colab-badge.svg\" alt=\"Open In Colab\"/></a>"
      ]
    },
    {
      "cell_type": "markdown",
      "metadata": {
        "id": "J3LMBfpeHTwb"
      },
      "source": [
        "<head>\n",
        "  <meta name=\"author\" content=\"Rogério de Oliveira\">\n",
        "  <meta institution=\"author\" content=\"Universidade Presbiteriana Mackenzie\">\n",
        "</head>\n",
        "\n",
        "<img src=\"http://meusite.mackenzie.br/rogerio/mackenzie_logo/UPM.2_horizontal_vermelho.jpg\" width=300, align=\"right\">\n",
        "<!-- <h1 align=left><font size = 6, style=\"color:rgb(200,0,0)\"> optional title </font></h1> -->\n"
      ]
    },
    {
      "cell_type": "markdown",
      "metadata": {
        "id": "zQX8WQPeHTwc"
      },
      "source": [
        "# Complementar - Seleção e Organização de Dados com Pandas\n",
        "---\n"
      ]
    },
    {
      "cell_type": "markdown",
      "metadata": {
        "id": "FfoH5pfWzRuL"
      },
      "source": [
        "# Introdução \n",
        "\n",
        "Aqui você vai aprender como empregar o pacote Pandas do `Python` para adquirir dados, selecionar dados de interesse e fazer transformações úteis sobre os dados. \n",
        "\n",
        "O `Pandas` é uma biblioteca para manipulação e análise de dados orientada a colunas. Ele organiza os dados em formato de tabelas, semelhante ao que você encontra em bancos de dados relacionais ou mesmo em sistemas de planilhas. Sobre essas estruturas e ele fornece uma série de operações que tornam ele o principal pacote para manipulação de dados em Python. Outros pacotes de manipulação de dados, como o `Dask` e o `PySpark`, incorporam outros recursos como parelelismo para lidar com grandes conjuntos de dados mas guardam grande semelhança com o Pandas em termos de programação. Além disso o Pandas fornece acesso a inúmeros formatos de dados, de planilhas a bancos de dados NoSQL, e  desse modo, conhecendo o Pandas você será capaz de manipular quaisquer dados em `Python`. \n",
        "\n",
        "O `Pandas` é um projeto de código aberto desenvolvido inicialmente por Wes McKinney a partir de 2008 que empregoou como base para seu desenvolvimento as estruturas de dataframes já presentes na linguagem R. "
      ]
    },
    {
      "cell_type": "markdown",
      "metadata": {
        "id": "ic9un7CzvRur"
      },
      "source": [
        "\n",
        "# Pandas\n",
        "\n",
        "O `Pandas` é um pacote `Python`, desenvolvido sobre `NumPy`, para manipulação e análise de dados orientada a colunas. Ele organiza os dados em dois tipos de estruturas, Séries e `DataFrames` e opera seleções e transformações sobre essas coleções de dados.\n",
        "\n",
        "* **`DataFrame`**: você pode imaginar como uma tabela de dados relacionais, com linhas e colunas nomeadas, como no Excel ou em SQL.\n",
        "* **`Series`**: é uma única coluna de dados, e o `DataFrame` contém um ou mais `Series` com um nome para cada uma delas.\n",
        "\n",
        "O `DataFrame`, implementado em `Python`, é uma abstração comumente usada para manipulação de dados que tem origem na linguagem R, mas você encontrará implementações similares também em outras linguagens.\n"
      ]
    },
    {
      "cell_type": "markdown",
      "metadata": {
        "id": "qkcO3Mc9vRuv"
      },
      "source": [
        "## Import da biblioteca"
      ]
    },
    {
      "cell_type": "code",
      "metadata": {
        "id": "i-mw_mV8vRuv"
      },
      "source": [
        "import pandas as pd\n",
        "import numpy as np"
      ],
      "execution_count": null,
      "outputs": []
    },
    {
      "cell_type": "markdown",
      "metadata": {
        "id": "o84zhf3TvRuw"
      },
      "source": [
        "## Criando um `pd.Series` e um `pd.DataFrame`"
      ]
    },
    {
      "cell_type": "markdown",
      "metadata": {
        "id": "3YQHBz7cvRuw"
      },
      "source": [
        "Uma `pd.Series` pode ser criada a partir de uma lista e um `pd.Dataframe` pode ser criado empregando-se uma estrutura de dicionário."
      ]
    },
    {
      "cell_type": "code",
      "metadata": {
        "colab": {
          "base_uri": "https://localhost:8080/",
          "height": 142
        },
        "id": "rCC4m-FjvRuw",
        "outputId": "92333126-f9ca-45f2-95f5-61108ff50ab8"
      },
      "source": [
        "# Séries\n",
        "student_names = pd.Series(['Adriana', 'Carol', 'Daniel'])\n",
        "age = pd.Series([18, 19, 19])\n",
        "\n",
        "# DataFrame\n",
        "students = pd.DataFrame({ 'Student Name': student_names, 'Age': age })\n",
        "students\n"
      ],
      "execution_count": null,
      "outputs": [
        {
          "output_type": "execute_result",
          "data": {
            "text/html": [
              "<div>\n",
              "<style scoped>\n",
              "    .dataframe tbody tr th:only-of-type {\n",
              "        vertical-align: middle;\n",
              "    }\n",
              "\n",
              "    .dataframe tbody tr th {\n",
              "        vertical-align: top;\n",
              "    }\n",
              "\n",
              "    .dataframe thead th {\n",
              "        text-align: right;\n",
              "    }\n",
              "</style>\n",
              "<table border=\"1\" class=\"dataframe\">\n",
              "  <thead>\n",
              "    <tr style=\"text-align: right;\">\n",
              "      <th></th>\n",
              "      <th>Student Name</th>\n",
              "      <th>Age</th>\n",
              "    </tr>\n",
              "  </thead>\n",
              "  <tbody>\n",
              "    <tr>\n",
              "      <th>0</th>\n",
              "      <td>Adriana</td>\n",
              "      <td>18</td>\n",
              "    </tr>\n",
              "    <tr>\n",
              "      <th>1</th>\n",
              "      <td>Carol</td>\n",
              "      <td>19</td>\n",
              "    </tr>\n",
              "    <tr>\n",
              "      <th>2</th>\n",
              "      <td>Daniel</td>\n",
              "      <td>19</td>\n",
              "    </tr>\n",
              "  </tbody>\n",
              "</table>\n",
              "</div>"
            ],
            "text/plain": [
              "  Student Name  Age\n",
              "0      Adriana   18\n",
              "1        Carol   19\n",
              "2       Daniel   19"
            ]
          },
          "metadata": {
            "tags": []
          },
          "execution_count": 2
        }
      ]
    },
    {
      "cell_type": "markdown",
      "metadata": {
        "id": "8ObVd0n5vRux"
      },
      "source": [
        "## Lendo um `DataFrame`\n",
        "\n",
        "O uso mais comum do `Pandas` que faremos é para o acesso a arquivos e bases de dados e o `Pandas` permite ler e gravar dados de diferetes fontes como arquivos `.csv, .json, .xlsx` e arquivos de bancos de dados `sql`, Mongo etc. \n",
        "\n",
        "\n",
        "| Format        | Read           | Save          |\n",
        "| ------------- |:--------------:| ----------------:|\n",
        "| csv           | `pd.read_csv()`  |`df.to_csv()`     |\n",
        "| json          | `pd.read_json()` |`df.to_json()`    |\n",
        "| xlsx          | `pd.read_excel()`|`df.to_excel()`   |\n",
        "| hdf           | `pd.read_hdf()`  |`df.to_hdf()`     |\n",
        "| sql           | `pd.read_sql()`  |`df.to_sql()`     |\n",
        "\n",
        "que podem ser acessados local ou pela internet.\n"
      ]
    },
    {
      "cell_type": "code",
      "metadata": {
        "colab": {
          "base_uri": "https://localhost:8080/",
          "height": 204
        },
        "id": "BYNZ8OATvRuy",
        "outputId": "91568ece-f4f3-4ab4-e0b9-752bf6940388"
      },
      "source": [
        "tips = pd.read_csv('https://raw.githubusercontent.com/Rogerio-mack/Visualizacao-de-Dados-em-Python/main/data/tips.csv')\n",
        "tips.head()\n"
      ],
      "execution_count": null,
      "outputs": [
        {
          "output_type": "execute_result",
          "data": {
            "text/html": [
              "<div>\n",
              "<style scoped>\n",
              "    .dataframe tbody tr th:only-of-type {\n",
              "        vertical-align: middle;\n",
              "    }\n",
              "\n",
              "    .dataframe tbody tr th {\n",
              "        vertical-align: top;\n",
              "    }\n",
              "\n",
              "    .dataframe thead th {\n",
              "        text-align: right;\n",
              "    }\n",
              "</style>\n",
              "<table border=\"1\" class=\"dataframe\">\n",
              "  <thead>\n",
              "    <tr style=\"text-align: right;\">\n",
              "      <th></th>\n",
              "      <th>total_bill</th>\n",
              "      <th>tip</th>\n",
              "      <th>sex</th>\n",
              "      <th>smoker</th>\n",
              "      <th>day</th>\n",
              "      <th>time</th>\n",
              "      <th>size</th>\n",
              "    </tr>\n",
              "  </thead>\n",
              "  <tbody>\n",
              "    <tr>\n",
              "      <th>0</th>\n",
              "      <td>16.99</td>\n",
              "      <td>1.01</td>\n",
              "      <td>Female</td>\n",
              "      <td>No</td>\n",
              "      <td>Sun</td>\n",
              "      <td>Dinner</td>\n",
              "      <td>2</td>\n",
              "    </tr>\n",
              "    <tr>\n",
              "      <th>1</th>\n",
              "      <td>10.34</td>\n",
              "      <td>1.66</td>\n",
              "      <td>Male</td>\n",
              "      <td>No</td>\n",
              "      <td>Sun</td>\n",
              "      <td>Dinner</td>\n",
              "      <td>3</td>\n",
              "    </tr>\n",
              "    <tr>\n",
              "      <th>2</th>\n",
              "      <td>21.01</td>\n",
              "      <td>3.50</td>\n",
              "      <td>Male</td>\n",
              "      <td>No</td>\n",
              "      <td>Sun</td>\n",
              "      <td>Dinner</td>\n",
              "      <td>3</td>\n",
              "    </tr>\n",
              "    <tr>\n",
              "      <th>3</th>\n",
              "      <td>23.68</td>\n",
              "      <td>3.31</td>\n",
              "      <td>Male</td>\n",
              "      <td>No</td>\n",
              "      <td>Sun</td>\n",
              "      <td>Dinner</td>\n",
              "      <td>2</td>\n",
              "    </tr>\n",
              "    <tr>\n",
              "      <th>4</th>\n",
              "      <td>24.59</td>\n",
              "      <td>3.61</td>\n",
              "      <td>Female</td>\n",
              "      <td>No</td>\n",
              "      <td>Sun</td>\n",
              "      <td>Dinner</td>\n",
              "      <td>4</td>\n",
              "    </tr>\n",
              "  </tbody>\n",
              "</table>\n",
              "</div>"
            ],
            "text/plain": [
              "   total_bill   tip     sex smoker  day    time  size\n",
              "0       16.99  1.01  Female     No  Sun  Dinner     2\n",
              "1       10.34  1.66    Male     No  Sun  Dinner     3\n",
              "2       21.01  3.50    Male     No  Sun  Dinner     3\n",
              "3       23.68  3.31    Male     No  Sun  Dinner     2\n",
              "4       24.59  3.61  Female     No  Sun  Dinner     4"
            ]
          },
          "metadata": {
            "tags": []
          },
          "execution_count": 3
        }
      ]
    },
    {
      "cell_type": "markdown",
      "metadata": {
        "id": "bLBgbbIC2-ZT"
      },
      "source": [
        "O comando `df.head()` permite exibir o aspecto inicial dos dados a partir de suas primeiras linhas.\n"
      ]
    },
    {
      "cell_type": "markdown",
      "metadata": {
        "id": "BaCkyg5CV5jF"
      },
      "source": [
        "## Upload de arquivos de seu sistema de arquivos local\n",
        "\n",
        "Se você estiver empregando o Google Colab e quiser acessar arquivos locais da sua máquina você pode *arrastar* os arquivos para o diretório da máquina virtual ou empregar uma API para acesso aos arquivos locais da sua máquina. `files.upload` retorna um dicionário dos arquivos que foram carregados. O dicionário é codificado pelo nome do arquivo e os valores são os dados que foram carregados.\n",
        "\n",
        "Essas instruções encontram-se comentadas abaixo."
      ]
    },
    {
      "cell_type": "code",
      "metadata": {
        "id": "vz-jH8T_Uk2c"
      },
      "source": [
        "# from google.colab import files\n",
        "\n",
        "# uploaded = files.upload()\n",
        "\n",
        "# for fn in uploaded.keys():\n",
        "#   print('User uploaded file \"{name}\" with length {length} bytes'.format(\n",
        "#       name=fn, length=len(uploaded[fn])))"
      ],
      "execution_count": null,
      "outputs": []
    },
    {
      "cell_type": "markdown",
      "metadata": {
        "id": "Y-L8hnuqvRuz"
      },
      "source": [
        "## Explorando a estrutura básica dos dados \n",
        "\n",
        "Antes de explorarmos o conteúdo dos dados é útil termos algumas informações sobre a estrutura dos dados que estamos lidando como os valores que assumem os dados, quantas linhas temos em uma tabela, o número de atributos, o tipo de dados etc. "
      ]
    },
    {
      "cell_type": "code",
      "metadata": {
        "colab": {
          "base_uri": "https://localhost:8080/"
        },
        "id": "S7H70tIfvRuz",
        "outputId": "a7a5d095-b546-402c-f599-041600363dea"
      },
      "source": [
        "tips.shape # nr de linhas e colunas"
      ],
      "execution_count": null,
      "outputs": [
        {
          "output_type": "execute_result",
          "data": {
            "text/plain": [
              "(244, 7)"
            ]
          },
          "metadata": {
            "tags": []
          },
          "execution_count": 4
        }
      ]
    },
    {
      "cell_type": "code",
      "metadata": {
        "colab": {
          "base_uri": "https://localhost:8080/"
        },
        "id": "oJWflcJAvRuz",
        "outputId": "3c8e5a73-8668-475c-8330-5b120fd4c86d"
      },
      "source": [
        "len(tips) # número de linhas"
      ],
      "execution_count": null,
      "outputs": [
        {
          "output_type": "execute_result",
          "data": {
            "text/plain": [
              "244"
            ]
          },
          "metadata": {
            "tags": []
          },
          "execution_count": 5
        }
      ]
    },
    {
      "cell_type": "code",
      "metadata": {
        "colab": {
          "base_uri": "https://localhost:8080/"
        },
        "id": "dOVCemDjvRu0",
        "outputId": "0e67c157-a277-4c9f-f3ef-3ca0d4e53a5a"
      },
      "source": [
        "tips.columns.to_list() # ou tips.columns"
      ],
      "execution_count": null,
      "outputs": [
        {
          "output_type": "execute_result",
          "data": {
            "text/plain": [
              "['total_bill', 'tip', 'sex', 'smoker', 'day', 'time', 'size']"
            ]
          },
          "metadata": {
            "tags": []
          },
          "execution_count": 6
        }
      ]
    },
    {
      "cell_type": "code",
      "metadata": {
        "colab": {
          "base_uri": "https://localhost:8080/"
        },
        "id": "Cs-oOZ-lvRu0",
        "outputId": "e468ed6b-01bb-4ec8-a830-d93887225c9b"
      },
      "source": [
        "tips.dtypes # tipo dos atributos"
      ],
      "execution_count": null,
      "outputs": [
        {
          "output_type": "execute_result",
          "data": {
            "text/plain": [
              "total_bill    float64\n",
              "tip           float64\n",
              "sex            object\n",
              "smoker         object\n",
              "day            object\n",
              "time           object\n",
              "size            int64\n",
              "dtype: object"
            ]
          },
          "metadata": {
            "tags": []
          },
          "execution_count": 7
        }
      ]
    },
    {
      "cell_type": "markdown",
      "metadata": {
        "id": "cvcl1l1xvRu1"
      },
      "source": [
        "O comando `describe()` exibe informações estatísticas sumarizadas dos dados."
      ]
    },
    {
      "cell_type": "code",
      "metadata": {
        "colab": {
          "base_uri": "https://localhost:8080/",
          "height": 390
        },
        "id": "5QQJH14AvRu2",
        "outputId": "63c8f570-906b-4e5b-83ca-fe2cec4f6b50"
      },
      "source": [
        "tips.describe(include='all')"
      ],
      "execution_count": null,
      "outputs": [
        {
          "output_type": "execute_result",
          "data": {
            "text/html": [
              "<div>\n",
              "<style scoped>\n",
              "    .dataframe tbody tr th:only-of-type {\n",
              "        vertical-align: middle;\n",
              "    }\n",
              "\n",
              "    .dataframe tbody tr th {\n",
              "        vertical-align: top;\n",
              "    }\n",
              "\n",
              "    .dataframe thead th {\n",
              "        text-align: right;\n",
              "    }\n",
              "</style>\n",
              "<table border=\"1\" class=\"dataframe\">\n",
              "  <thead>\n",
              "    <tr style=\"text-align: right;\">\n",
              "      <th></th>\n",
              "      <th>total_bill</th>\n",
              "      <th>tip</th>\n",
              "      <th>sex</th>\n",
              "      <th>smoker</th>\n",
              "      <th>day</th>\n",
              "      <th>time</th>\n",
              "      <th>size</th>\n",
              "    </tr>\n",
              "  </thead>\n",
              "  <tbody>\n",
              "    <tr>\n",
              "      <th>count</th>\n",
              "      <td>244.000000</td>\n",
              "      <td>244.000000</td>\n",
              "      <td>244</td>\n",
              "      <td>244</td>\n",
              "      <td>244</td>\n",
              "      <td>244</td>\n",
              "      <td>244.000000</td>\n",
              "    </tr>\n",
              "    <tr>\n",
              "      <th>unique</th>\n",
              "      <td>NaN</td>\n",
              "      <td>NaN</td>\n",
              "      <td>2</td>\n",
              "      <td>2</td>\n",
              "      <td>4</td>\n",
              "      <td>2</td>\n",
              "      <td>NaN</td>\n",
              "    </tr>\n",
              "    <tr>\n",
              "      <th>top</th>\n",
              "      <td>NaN</td>\n",
              "      <td>NaN</td>\n",
              "      <td>Male</td>\n",
              "      <td>No</td>\n",
              "      <td>Sat</td>\n",
              "      <td>Dinner</td>\n",
              "      <td>NaN</td>\n",
              "    </tr>\n",
              "    <tr>\n",
              "      <th>freq</th>\n",
              "      <td>NaN</td>\n",
              "      <td>NaN</td>\n",
              "      <td>157</td>\n",
              "      <td>151</td>\n",
              "      <td>87</td>\n",
              "      <td>176</td>\n",
              "      <td>NaN</td>\n",
              "    </tr>\n",
              "    <tr>\n",
              "      <th>mean</th>\n",
              "      <td>19.785943</td>\n",
              "      <td>2.998279</td>\n",
              "      <td>NaN</td>\n",
              "      <td>NaN</td>\n",
              "      <td>NaN</td>\n",
              "      <td>NaN</td>\n",
              "      <td>2.569672</td>\n",
              "    </tr>\n",
              "    <tr>\n",
              "      <th>std</th>\n",
              "      <td>8.902412</td>\n",
              "      <td>1.383638</td>\n",
              "      <td>NaN</td>\n",
              "      <td>NaN</td>\n",
              "      <td>NaN</td>\n",
              "      <td>NaN</td>\n",
              "      <td>0.951100</td>\n",
              "    </tr>\n",
              "    <tr>\n",
              "      <th>min</th>\n",
              "      <td>3.070000</td>\n",
              "      <td>1.000000</td>\n",
              "      <td>NaN</td>\n",
              "      <td>NaN</td>\n",
              "      <td>NaN</td>\n",
              "      <td>NaN</td>\n",
              "      <td>1.000000</td>\n",
              "    </tr>\n",
              "    <tr>\n",
              "      <th>25%</th>\n",
              "      <td>13.347500</td>\n",
              "      <td>2.000000</td>\n",
              "      <td>NaN</td>\n",
              "      <td>NaN</td>\n",
              "      <td>NaN</td>\n",
              "      <td>NaN</td>\n",
              "      <td>2.000000</td>\n",
              "    </tr>\n",
              "    <tr>\n",
              "      <th>50%</th>\n",
              "      <td>17.795000</td>\n",
              "      <td>2.900000</td>\n",
              "      <td>NaN</td>\n",
              "      <td>NaN</td>\n",
              "      <td>NaN</td>\n",
              "      <td>NaN</td>\n",
              "      <td>2.000000</td>\n",
              "    </tr>\n",
              "    <tr>\n",
              "      <th>75%</th>\n",
              "      <td>24.127500</td>\n",
              "      <td>3.562500</td>\n",
              "      <td>NaN</td>\n",
              "      <td>NaN</td>\n",
              "      <td>NaN</td>\n",
              "      <td>NaN</td>\n",
              "      <td>3.000000</td>\n",
              "    </tr>\n",
              "    <tr>\n",
              "      <th>max</th>\n",
              "      <td>50.810000</td>\n",
              "      <td>10.000000</td>\n",
              "      <td>NaN</td>\n",
              "      <td>NaN</td>\n",
              "      <td>NaN</td>\n",
              "      <td>NaN</td>\n",
              "      <td>6.000000</td>\n",
              "    </tr>\n",
              "  </tbody>\n",
              "</table>\n",
              "</div>"
            ],
            "text/plain": [
              "        total_bill         tip   sex smoker  day    time        size\n",
              "count   244.000000  244.000000   244    244  244     244  244.000000\n",
              "unique         NaN         NaN     2      2    4       2         NaN\n",
              "top            NaN         NaN  Male     No  Sat  Dinner         NaN\n",
              "freq           NaN         NaN   157    151   87     176         NaN\n",
              "mean     19.785943    2.998279   NaN    NaN  NaN     NaN    2.569672\n",
              "std       8.902412    1.383638   NaN    NaN  NaN     NaN    0.951100\n",
              "min       3.070000    1.000000   NaN    NaN  NaN     NaN    1.000000\n",
              "25%      13.347500    2.000000   NaN    NaN  NaN     NaN    2.000000\n",
              "50%      17.795000    2.900000   NaN    NaN  NaN     NaN    2.000000\n",
              "75%      24.127500    3.562500   NaN    NaN  NaN     NaN    3.000000\n",
              "max      50.810000   10.000000   NaN    NaN  NaN     NaN    6.000000"
            ]
          },
          "metadata": {
            "tags": []
          },
          "execution_count": 8
        }
      ]
    },
    {
      "cell_type": "markdown",
      "metadata": {
        "id": "_DAhH5OgvRu2"
      },
      "source": [
        "# Selecionando Dados\n",
        "\n",
        "Seleções dos dados são bastante importantes. Você nem sempre estará interessado em exibir ou analisar todos os dados. Por exemplo, você pode ter dados de produção de várias unidades de uma fábrica, mas estar interessado somente em dados das unidades de São Paulo (seleção de linhas ou casos). Ou, você pode ter dados de vendas com diversas informações dos produtos (cor, modelo etc.) e dos clientes (nome, CPF etc.) e querer apenas dados de peso e dimensões do produto, e da origem e destino da compra para analisar os preços de frete (seleção de colunas ou atributos). Mais frequentemente ainda você vai realizar as duas seleções criando *slices* dos dados.\n",
        "\n"
      ]
    },
    {
      "cell_type": "markdown",
      "metadata": {
        "id": "CxQVxpOS93Bx"
      },
      "source": [
        "## Seleção de Colunas, Seleção de Linhas e de Linhas e Colunas\n",
        "\n",
        "<img src=\"https://pandas.pydata.org/docs/_images/03_subset_columns.svg\" width=320, align=\"center\">\n",
        "<img src=\"https://pandas.pydata.org/docs/_images/03_subset_rows.svg\" width=320, align=\"center\">\n",
        "<img src=\"https://pandas.pydata.org/docs/_images/03_subset_columns_rows.svg\" width=320, align=\"center\">\n",
        "\n"
      ]
    },
    {
      "cell_type": "markdown",
      "metadata": {
        "id": "PjfCFtTavRu2"
      },
      "source": [
        "## Selecionando colunas de dados como `pd.Series`\n",
        "\n",
        "Como vimos, as colunas de um `DataFrame` são séries do `Pandas` e podemos selecionar e operar com cada uma das séries de um `DataFrame`. Existem dois modos de seleção\n",
        "\n",
        "```\n",
        "df.<nome do atributo>\n",
        "\n",
        "df['<nome do atributo>']\n",
        "```\n",
        "\n",
        "eles retornam o mesmo resultado e a segunda forma é sempre necessária quando temos nomes de atributos com espaços ou caracteres especiais.\n"
      ]
    },
    {
      "cell_type": "code",
      "metadata": {
        "colab": {
          "base_uri": "https://localhost:8080/"
        },
        "id": "1--P-QJjvRu3",
        "outputId": "e4e93b3f-e66f-4ceb-cd66-bf2d3b1703f0"
      },
      "source": [
        "print(tips.tip)\n",
        "# ou\n",
        "# print(tips['tip'])"
      ],
      "execution_count": null,
      "outputs": [
        {
          "output_type": "stream",
          "text": [
            "0      1.01\n",
            "1      1.66\n",
            "2      3.50\n",
            "3      3.31\n",
            "4      3.61\n",
            "       ... \n",
            "239    5.92\n",
            "240    2.00\n",
            "241    2.00\n",
            "242    1.75\n",
            "243    3.00\n",
            "Name: tip, Length: 244, dtype: float64\n"
          ],
          "name": "stdout"
        }
      ]
    },
    {
      "cell_type": "markdown",
      "metadata": {
        "id": "5BU19CoSvRu3"
      },
      "source": [
        "Esse conjunto de dados é um `pd.Series` e podemos fazer uma série de operações sobre essa coleção de dados, como calcular a soma ou a média de valores."
      ]
    },
    {
      "cell_type": "code",
      "metadata": {
        "colab": {
          "base_uri": "https://localhost:8080/"
        },
        "id": "JscNblpzvRu3",
        "outputId": "959af6a4-2cc1-46eb-ef49-d8a018c76959"
      },
      "source": [
        "tip_series = tips['tip']\n",
        "print(f'Média das gorjetas: USD {tip_series.mean() :.2f} e Total das gorjetas: USD {tip_series.sum() :.2f}')"
      ],
      "execution_count": null,
      "outputs": [
        {
          "output_type": "stream",
          "text": [
            "Média das gorjetas: USD 3.00 e Total das gorjetas: USD 731.58\n"
          ],
          "name": "stdout"
        }
      ]
    },
    {
      "cell_type": "markdown",
      "metadata": {
        "id": "O5kN7vwxvRu3"
      },
      "source": [
        "Pode ser útil também você transformar uma `pd.Series` em uma lista `Python` para que você possa realizar as operações de listas que você já conhece."
      ]
    },
    {
      "cell_type": "code",
      "metadata": {
        "colab": {
          "base_uri": "https://localhost:8080/"
        },
        "id": "vi6js-s7vRu4",
        "outputId": "ff66b1f5-0564-4e71-e31d-f5c4b5e3a9c6"
      },
      "source": [
        "dias = tips.day\n",
        "dias = dias.to_list()\n",
        "dias.count('Sat')"
      ],
      "execution_count": null,
      "outputs": [
        {
          "output_type": "execute_result",
          "data": {
            "text/plain": [
              "87"
            ]
          },
          "metadata": {
            "tags": []
          },
          "execution_count": 11
        }
      ]
    },
    {
      "cell_type": "markdown",
      "metadata": {
        "id": "TlifCCSXvRu4"
      },
      "source": [
        "## Selecionando uma ou Mais Colunas como `pd.DataFrame`\n",
        "\n",
        "<img src=\"https://pandas.pydata.org/docs/_images/03_subset_columns.svg\" width=320, align=\"center\">\n",
        "\n",
        "Mas você pode estar interessado na seleção de *mais que uma coluna* de dados. Para isso você pode simplesmente informar para o `Pandas` uma **lista de atributos** a serem selecionados. \n",
        "\n",
        "```\n",
        "\n",
        "df [ [ <lista-de-colunas> ] ]\n",
        "\n",
        "```\n",
        "\n",
        "Diferentemente da seleção anterior que retorna um Série do `Pandas`, a seleção desse modo, com uma ou mais colunas informadas em uma lista, retorna um `DataFrame`. \n",
        "\n"
      ]
    },
    {
      "cell_type": "markdown",
      "metadata": {
        "id": "o0g-7UjhvRu4"
      },
      "source": [
        "A seleção como `DataFrame` permite a seleção de várias séries de dados (atributos) para construírmos subconjuntos de dados de interesse. Essas seleções de dados também são `DataFrame` e todas as operações de `DataFrame` são aplicáveis. "
      ]
    },
    {
      "cell_type": "code",
      "metadata": {
        "colab": {
          "base_uri": "https://localhost:8080/"
        },
        "id": "EIOpDMitvRu4",
        "outputId": "8f4d50de-be5c-463c-e79e-92f39eb66fff"
      },
      "source": [
        "tips.columns"
      ],
      "execution_count": null,
      "outputs": [
        {
          "output_type": "execute_result",
          "data": {
            "text/plain": [
              "Index(['total_bill', 'tip', 'sex', 'smoker', 'day', 'time', 'size'], dtype='object')"
            ]
          },
          "metadata": {
            "tags": []
          },
          "execution_count": 12
        }
      ]
    },
    {
      "cell_type": "code",
      "metadata": {
        "colab": {
          "base_uri": "https://localhost:8080/",
          "height": 204
        },
        "id": "Z8pD2zDQvRu4",
        "outputId": "ae6aa6f3-85c0-4f4d-dba3-fdd35488e520"
      },
      "source": [
        "selected_tips = tips[['total_bill', 'tip', 'size']]\n",
        "\n",
        "selected_tips.head() # um novo dataframe com atributos selecionados"
      ],
      "execution_count": null,
      "outputs": [
        {
          "output_type": "execute_result",
          "data": {
            "text/html": [
              "<div>\n",
              "<style scoped>\n",
              "    .dataframe tbody tr th:only-of-type {\n",
              "        vertical-align: middle;\n",
              "    }\n",
              "\n",
              "    .dataframe tbody tr th {\n",
              "        vertical-align: top;\n",
              "    }\n",
              "\n",
              "    .dataframe thead th {\n",
              "        text-align: right;\n",
              "    }\n",
              "</style>\n",
              "<table border=\"1\" class=\"dataframe\">\n",
              "  <thead>\n",
              "    <tr style=\"text-align: right;\">\n",
              "      <th></th>\n",
              "      <th>total_bill</th>\n",
              "      <th>tip</th>\n",
              "      <th>size</th>\n",
              "    </tr>\n",
              "  </thead>\n",
              "  <tbody>\n",
              "    <tr>\n",
              "      <th>0</th>\n",
              "      <td>16.99</td>\n",
              "      <td>1.01</td>\n",
              "      <td>2</td>\n",
              "    </tr>\n",
              "    <tr>\n",
              "      <th>1</th>\n",
              "      <td>10.34</td>\n",
              "      <td>1.66</td>\n",
              "      <td>3</td>\n",
              "    </tr>\n",
              "    <tr>\n",
              "      <th>2</th>\n",
              "      <td>21.01</td>\n",
              "      <td>3.50</td>\n",
              "      <td>3</td>\n",
              "    </tr>\n",
              "    <tr>\n",
              "      <th>3</th>\n",
              "      <td>23.68</td>\n",
              "      <td>3.31</td>\n",
              "      <td>2</td>\n",
              "    </tr>\n",
              "    <tr>\n",
              "      <th>4</th>\n",
              "      <td>24.59</td>\n",
              "      <td>3.61</td>\n",
              "      <td>4</td>\n",
              "    </tr>\n",
              "  </tbody>\n",
              "</table>\n",
              "</div>"
            ],
            "text/plain": [
              "   total_bill   tip  size\n",
              "0       16.99  1.01     2\n",
              "1       10.34  1.66     3\n",
              "2       21.01  3.50     3\n",
              "3       23.68  3.31     2\n",
              "4       24.59  3.61     4"
            ]
          },
          "metadata": {
            "tags": []
          },
          "execution_count": 13
        }
      ]
    },
    {
      "cell_type": "markdown",
      "metadata": {
        "id": "BRsdhyMP5zdj"
      },
      "source": [
        "> $\\bigstar \\text{  }$ *A seleção com uma ou mais colunas informadas em uma lista, retorna um `DataFrame`. Note que `df['tip']` retorna um `pd.Series`, enquanto, selecionar `df[['tip']]` retorna um `pd.DataFrame` de uma única coluna.*\n",
        "\n"
      ]
    },
    {
      "cell_type": "markdown",
      "metadata": {
        "id": "35y_uNnEvRu5"
      },
      "source": [
        "De modo geral, você pode empreguar a seleção de `pd.Series` para selecionar um único atributo, e empregar a seleção `pd.DataFrame` quando estiver interessado na criação de subconjuntos de dados. "
      ]
    },
    {
      "cell_type": "markdown",
      "metadata": {
        "id": "QMyJ_ROYvRu5"
      },
      "source": [
        "## Selecionando Maiores e Menores\n",
        "\n",
        "Veremos mais adiante como fazer seleção de linhas, mas aqui é oportuno vermos como selecionar linhas que contenham os maiores e os menores valores da coleção."
      ]
    },
    {
      "cell_type": "code",
      "metadata": {
        "colab": {
          "base_uri": "https://localhost:8080/",
          "height": 204
        },
        "id": "9ErC_tXovRu5",
        "outputId": "ada7b09d-5d82-4e6a-c9a0-fed7240f0bd3"
      },
      "source": [
        "tips.nsmallest(5,'total_bill')"
      ],
      "execution_count": null,
      "outputs": [
        {
          "output_type": "execute_result",
          "data": {
            "text/html": [
              "<div>\n",
              "<style scoped>\n",
              "    .dataframe tbody tr th:only-of-type {\n",
              "        vertical-align: middle;\n",
              "    }\n",
              "\n",
              "    .dataframe tbody tr th {\n",
              "        vertical-align: top;\n",
              "    }\n",
              "\n",
              "    .dataframe thead th {\n",
              "        text-align: right;\n",
              "    }\n",
              "</style>\n",
              "<table border=\"1\" class=\"dataframe\">\n",
              "  <thead>\n",
              "    <tr style=\"text-align: right;\">\n",
              "      <th></th>\n",
              "      <th>total_bill</th>\n",
              "      <th>tip</th>\n",
              "      <th>sex</th>\n",
              "      <th>smoker</th>\n",
              "      <th>day</th>\n",
              "      <th>time</th>\n",
              "      <th>size</th>\n",
              "    </tr>\n",
              "  </thead>\n",
              "  <tbody>\n",
              "    <tr>\n",
              "      <th>67</th>\n",
              "      <td>3.07</td>\n",
              "      <td>1.00</td>\n",
              "      <td>Female</td>\n",
              "      <td>Yes</td>\n",
              "      <td>Sat</td>\n",
              "      <td>Dinner</td>\n",
              "      <td>1</td>\n",
              "    </tr>\n",
              "    <tr>\n",
              "      <th>92</th>\n",
              "      <td>5.75</td>\n",
              "      <td>1.00</td>\n",
              "      <td>Female</td>\n",
              "      <td>Yes</td>\n",
              "      <td>Fri</td>\n",
              "      <td>Dinner</td>\n",
              "      <td>2</td>\n",
              "    </tr>\n",
              "    <tr>\n",
              "      <th>111</th>\n",
              "      <td>7.25</td>\n",
              "      <td>1.00</td>\n",
              "      <td>Female</td>\n",
              "      <td>No</td>\n",
              "      <td>Sat</td>\n",
              "      <td>Dinner</td>\n",
              "      <td>1</td>\n",
              "    </tr>\n",
              "    <tr>\n",
              "      <th>172</th>\n",
              "      <td>7.25</td>\n",
              "      <td>5.15</td>\n",
              "      <td>Male</td>\n",
              "      <td>Yes</td>\n",
              "      <td>Sun</td>\n",
              "      <td>Dinner</td>\n",
              "      <td>2</td>\n",
              "    </tr>\n",
              "    <tr>\n",
              "      <th>149</th>\n",
              "      <td>7.51</td>\n",
              "      <td>2.00</td>\n",
              "      <td>Male</td>\n",
              "      <td>No</td>\n",
              "      <td>Thur</td>\n",
              "      <td>Lunch</td>\n",
              "      <td>2</td>\n",
              "    </tr>\n",
              "  </tbody>\n",
              "</table>\n",
              "</div>"
            ],
            "text/plain": [
              "     total_bill   tip     sex smoker   day    time  size\n",
              "67         3.07  1.00  Female    Yes   Sat  Dinner     1\n",
              "92         5.75  1.00  Female    Yes   Fri  Dinner     2\n",
              "111        7.25  1.00  Female     No   Sat  Dinner     1\n",
              "172        7.25  5.15    Male    Yes   Sun  Dinner     2\n",
              "149        7.51  2.00    Male     No  Thur   Lunch     2"
            ]
          },
          "metadata": {
            "tags": []
          },
          "execution_count": 14
        }
      ]
    },
    {
      "cell_type": "code",
      "metadata": {
        "colab": {
          "base_uri": "https://localhost:8080/",
          "height": 142
        },
        "id": "4rK4Sid8vRu6",
        "outputId": "6f6c2f96-d490-4e89-84ed-f9068a9d0b47"
      },
      "source": [
        "tips_top3 = tips.nlargest(3,'total_bill')\n",
        "tips_top3"
      ],
      "execution_count": null,
      "outputs": [
        {
          "output_type": "execute_result",
          "data": {
            "text/html": [
              "<div>\n",
              "<style scoped>\n",
              "    .dataframe tbody tr th:only-of-type {\n",
              "        vertical-align: middle;\n",
              "    }\n",
              "\n",
              "    .dataframe tbody tr th {\n",
              "        vertical-align: top;\n",
              "    }\n",
              "\n",
              "    .dataframe thead th {\n",
              "        text-align: right;\n",
              "    }\n",
              "</style>\n",
              "<table border=\"1\" class=\"dataframe\">\n",
              "  <thead>\n",
              "    <tr style=\"text-align: right;\">\n",
              "      <th></th>\n",
              "      <th>total_bill</th>\n",
              "      <th>tip</th>\n",
              "      <th>sex</th>\n",
              "      <th>smoker</th>\n",
              "      <th>day</th>\n",
              "      <th>time</th>\n",
              "      <th>size</th>\n",
              "    </tr>\n",
              "  </thead>\n",
              "  <tbody>\n",
              "    <tr>\n",
              "      <th>170</th>\n",
              "      <td>50.81</td>\n",
              "      <td>10.00</td>\n",
              "      <td>Male</td>\n",
              "      <td>Yes</td>\n",
              "      <td>Sat</td>\n",
              "      <td>Dinner</td>\n",
              "      <td>3</td>\n",
              "    </tr>\n",
              "    <tr>\n",
              "      <th>212</th>\n",
              "      <td>48.33</td>\n",
              "      <td>9.00</td>\n",
              "      <td>Male</td>\n",
              "      <td>No</td>\n",
              "      <td>Sat</td>\n",
              "      <td>Dinner</td>\n",
              "      <td>4</td>\n",
              "    </tr>\n",
              "    <tr>\n",
              "      <th>59</th>\n",
              "      <td>48.27</td>\n",
              "      <td>6.73</td>\n",
              "      <td>Male</td>\n",
              "      <td>No</td>\n",
              "      <td>Sat</td>\n",
              "      <td>Dinner</td>\n",
              "      <td>4</td>\n",
              "    </tr>\n",
              "  </tbody>\n",
              "</table>\n",
              "</div>"
            ],
            "text/plain": [
              "     total_bill    tip   sex smoker  day    time  size\n",
              "170       50.81  10.00  Male    Yes  Sat  Dinner     3\n",
              "212       48.33   9.00  Male     No  Sat  Dinner     4\n",
              "59        48.27   6.73  Male     No  Sat  Dinner     4"
            ]
          },
          "metadata": {
            "tags": []
          },
          "execution_count": 15
        }
      ]
    },
    {
      "cell_type": "markdown",
      "metadata": {
        "id": "YtNCRMfQvRu6"
      },
      "source": [
        "## Alterando e Incluindo Colunas de Dados\n",
        "\n",
        "Muitas vezes é necessário você criar atributos derivados a partir dos dados originais, como converter os valores para R\\$ , criar um atributo com o valor das contas descontado a gorjeta ou o valor da conta divido pelos participantes da mesa. Essa é uma grande facilidade do `Pandas` que, a exemplo do `NumPy`,  permite fazer essas operações com um único comando sobre toda uma coleção de dados sem a necessidade de laços de programa. "
      ]
    },
    {
      "cell_type": "code",
      "metadata": {
        "colab": {
          "base_uri": "https://localhost:8080/",
          "height": 204
        },
        "id": "mEL4FY-vvRu6",
        "outputId": "e85b1859-9185-4ba4-8eb9-2c9400208a44"
      },
      "source": [
        "dolar_real_rate = 5.8\n",
        "tips['total_bill'] = tips['total_bill'] * dolar_real_rate         # alterando    \n",
        "tips['tip'] = tips['tip'] * dolar_real_rate                       # alterando\n",
        "\n",
        "tips['total_bill_minus_tips'] = tips['total_bill'] - tips['tip']    # incluindo um novo atributo\n",
        "tips['bill_by_head'] = tips['total_bill'] / tips['size']            # incluindo um novo atributo\n",
        "tips.head()"
      ],
      "execution_count": null,
      "outputs": [
        {
          "output_type": "execute_result",
          "data": {
            "text/html": [
              "<div>\n",
              "<style scoped>\n",
              "    .dataframe tbody tr th:only-of-type {\n",
              "        vertical-align: middle;\n",
              "    }\n",
              "\n",
              "    .dataframe tbody tr th {\n",
              "        vertical-align: top;\n",
              "    }\n",
              "\n",
              "    .dataframe thead th {\n",
              "        text-align: right;\n",
              "    }\n",
              "</style>\n",
              "<table border=\"1\" class=\"dataframe\">\n",
              "  <thead>\n",
              "    <tr style=\"text-align: right;\">\n",
              "      <th></th>\n",
              "      <th>total_bill</th>\n",
              "      <th>tip</th>\n",
              "      <th>sex</th>\n",
              "      <th>smoker</th>\n",
              "      <th>day</th>\n",
              "      <th>time</th>\n",
              "      <th>size</th>\n",
              "      <th>total_bill_minus_tips</th>\n",
              "      <th>bill_by_head</th>\n",
              "    </tr>\n",
              "  </thead>\n",
              "  <tbody>\n",
              "    <tr>\n",
              "      <th>0</th>\n",
              "      <td>98.542</td>\n",
              "      <td>5.858</td>\n",
              "      <td>Female</td>\n",
              "      <td>No</td>\n",
              "      <td>Sun</td>\n",
              "      <td>Dinner</td>\n",
              "      <td>2</td>\n",
              "      <td>92.684</td>\n",
              "      <td>49.271000</td>\n",
              "    </tr>\n",
              "    <tr>\n",
              "      <th>1</th>\n",
              "      <td>59.972</td>\n",
              "      <td>9.628</td>\n",
              "      <td>Male</td>\n",
              "      <td>No</td>\n",
              "      <td>Sun</td>\n",
              "      <td>Dinner</td>\n",
              "      <td>3</td>\n",
              "      <td>50.344</td>\n",
              "      <td>19.990667</td>\n",
              "    </tr>\n",
              "    <tr>\n",
              "      <th>2</th>\n",
              "      <td>121.858</td>\n",
              "      <td>20.300</td>\n",
              "      <td>Male</td>\n",
              "      <td>No</td>\n",
              "      <td>Sun</td>\n",
              "      <td>Dinner</td>\n",
              "      <td>3</td>\n",
              "      <td>101.558</td>\n",
              "      <td>40.619333</td>\n",
              "    </tr>\n",
              "    <tr>\n",
              "      <th>3</th>\n",
              "      <td>137.344</td>\n",
              "      <td>19.198</td>\n",
              "      <td>Male</td>\n",
              "      <td>No</td>\n",
              "      <td>Sun</td>\n",
              "      <td>Dinner</td>\n",
              "      <td>2</td>\n",
              "      <td>118.146</td>\n",
              "      <td>68.672000</td>\n",
              "    </tr>\n",
              "    <tr>\n",
              "      <th>4</th>\n",
              "      <td>142.622</td>\n",
              "      <td>20.938</td>\n",
              "      <td>Female</td>\n",
              "      <td>No</td>\n",
              "      <td>Sun</td>\n",
              "      <td>Dinner</td>\n",
              "      <td>4</td>\n",
              "      <td>121.684</td>\n",
              "      <td>35.655500</td>\n",
              "    </tr>\n",
              "  </tbody>\n",
              "</table>\n",
              "</div>"
            ],
            "text/plain": [
              "   total_bill     tip     sex  ... size total_bill_minus_tips bill_by_head\n",
              "0      98.542   5.858  Female  ...    2                92.684    49.271000\n",
              "1      59.972   9.628    Male  ...    3                50.344    19.990667\n",
              "2     121.858  20.300    Male  ...    3               101.558    40.619333\n",
              "3     137.344  19.198    Male  ...    2               118.146    68.672000\n",
              "4     142.622  20.938  Female  ...    4               121.684    35.655500\n",
              "\n",
              "[5 rows x 9 columns]"
            ]
          },
          "metadata": {
            "tags": []
          },
          "execution_count": 16
        }
      ]
    },
    {
      "cell_type": "markdown",
      "metadata": {
        "id": "ZmyA_uvgvRu6"
      },
      "source": [
        "## Selecionar Linhas \n",
        "\n",
        "<img src=\"https://pandas.pydata.org/docs/_images/03_subset_rows.svg\" width=320, align=\"center\">\n",
        "\n",
        "A seleção de linhas é mais interessante por que podemos especificar condições para os valores que buscamos. Por exemplo, você pode selecionar o tipo de peças que deseja ver em um `DataFrame` com dados de vários componentes, ou selecionar a as unidades de fábrica de uma certa cidade que você tem os dados de produção.\n",
        "\n",
        "O critério de seleção é um predicado lógico e você deve empregar a seguinte sintaxe: \n",
        "\n",
        "```\n",
        "df [ <critério de seleção> ]\n",
        "```\n",
        "\n",
        "Exemplos\n",
        "\n",
        "```\n",
        "df [ nome_coluna == valor ]\n",
        "df [ nome_coluna != valor ]\n",
        "df [ nome_coluna > valor ]\n",
        "```"
      ]
    },
    {
      "cell_type": "markdown",
      "metadata": {
        "id": "4hP1xlOrvRu7"
      },
      "source": [
        "Assim, podemos selecionar os dados somente dos não fumantes ou não fumantes:"
      ]
    },
    {
      "cell_type": "code",
      "metadata": {
        "id": "bIPMWyjNvRu7"
      },
      "source": [
        "tips_nao_fumantes = tips[ tips.smoker == 'No' ]\n",
        "tips_fumantes = tips[ tips.smoker == 'Yes' ]"
      ],
      "execution_count": null,
      "outputs": []
    },
    {
      "cell_type": "markdown",
      "metadata": {
        "id": "5_MMmTqgvRu7"
      },
      "source": [
        "E podemos com isso já responder algumas questões interessantes que envolvem a proporção dos dados de fumantes e não fumantes."
      ]
    },
    {
      "cell_type": "code",
      "metadata": {
        "colab": {
          "base_uri": "https://localhost:8080/"
        },
        "id": "EukjeLxs_jL4",
        "outputId": "e4c9d2ae-52db-4d09-90b3-3706dc4af484"
      },
      "source": [
        "print(f'Percentual de Clientes Fumantes {len( tips_fumantes ) / len( tips ) :.2f} %')"
      ],
      "execution_count": null,
      "outputs": [
        {
          "output_type": "stream",
          "text": [
            "Percentual de Clientes Fumantes 0.38 %\n"
          ],
          "name": "stdout"
        }
      ]
    },
    {
      "cell_type": "markdown",
      "metadata": {
        "id": "_ZxKla4vvRu7"
      },
      "source": [
        "## Seleção de Linhas e Colunas\n",
        "\n",
        "<img src=\"https://pandas.pydata.org/docs/_images/03_subset_columns_rows.svg\" width=320, align=\"center\">\n",
        "\n",
        "O uso mais geral das seleções é quando fazemos seleções de linhas e colunas dos dados, e às vezes nos referimos a esse subconjunto dos dados de *slice* (fatia) dos dados.\n",
        "\n",
        "A boa prática indica que sempre faremos primeiro a seleção das linhas,\n",
        "\n",
        "```\n",
        "df [ <critério de seleção> ] ...\n",
        "\n",
        "...Selecionando uma coluna\n",
        "df [ <critério de seleção> ].nome_coluna                  pd.Series\n",
        "df [ <critério de seleção> ]['nome_coluna']\n",
        "\n",
        "...Selecionando uma ou mais colunas\n",
        "df [ <critério de seleção> ][ [<lista-de-colunas>] ]      pd.DataFrame\n",
        "\n",
        "```\n"
      ]
    },
    {
      "cell_type": "markdown",
      "metadata": {
        "id": "TJkjhTHAvRu8"
      },
      "source": [
        "Com isso podemos fazer inúmeras seleções de dados que temos interesse em visualizar ou analisar, e responder a muitas perguntas sobre os dados."
      ]
    },
    {
      "cell_type": "markdown",
      "metadata": {
        "id": "_31YgxY-vRu8"
      },
      "source": [
        "Fumantes ou Mulheres, pagam mais gorjeta (em média) ?"
      ]
    },
    {
      "cell_type": "code",
      "metadata": {
        "colab": {
          "base_uri": "https://localhost:8080/"
        },
        "id": "TfHTuNLVvRu8",
        "outputId": "e33c676a-944b-4eb8-9990-d034561d6cb9"
      },
      "source": [
        "tips[ tips.smoker == 'Yes' ]['tip'].mean() > tips[ tips.smoker == 'No' ]['tip'].mean()  "
      ],
      "execution_count": null,
      "outputs": [
        {
          "output_type": "execute_result",
          "data": {
            "text/plain": [
              "True"
            ]
          },
          "metadata": {
            "tags": []
          },
          "execution_count": 19
        }
      ]
    },
    {
      "cell_type": "code",
      "metadata": {
        "colab": {
          "base_uri": "https://localhost:8080/"
        },
        "id": "P25kOuvjAR07",
        "outputId": "93adb121-3b5d-46f8-e4f4-6991df9efca8"
      },
      "source": [
        "tips[ tips.sex == 'Female' ]['tip'].mean() > tips[ tips.sex == 'Male' ]['tip'].mean()  "
      ],
      "execution_count": null,
      "outputs": [
        {
          "output_type": "execute_result",
          "data": {
            "text/plain": [
              "False"
            ]
          },
          "metadata": {
            "tags": []
          },
          "execution_count": 20
        }
      ]
    },
    {
      "cell_type": "markdown",
      "metadata": {
        "id": "hsUjNahCA0W9"
      },
      "source": [
        "As selecões de subconjuntos de dados, com veremos, tem uma papel importante na construção de visualizações e entendimento dos dados pois, muitas vezes, estamos interessados em comparar diferentes classes ou subconjuntos dados, como no exemplo abaixo em que observamos os valores das gorjetas de homens e mulheres. "
      ]
    },
    {
      "cell_type": "code",
      "metadata": {
        "colab": {
          "base_uri": "https://localhost:8080/",
          "height": 296
        },
        "id": "9l_-Ig1HA8ji",
        "outputId": "6c7891f1-e9f5-4df5-95a0-1a229c800d2a"
      },
      "source": [
        "import matplotlib.pyplot as plt\n",
        "plt.hist(tips[ tips.sex == 'Male' ]['tip'], label='Homens')\n",
        "plt.hist(tips[ tips.sex == 'Female' ]['tip'], label='Mulheres')\n",
        "\n",
        "plt.xlabel('Valor das Gorjetas')\n",
        "plt.ylabel('Quantidades Pagas')\n",
        "plt.title('Distribuição das Gorjetas', fontsize=14, weight='bold')\n",
        "plt.legend(title='$\\\\bf{Gorjetas}$')\n",
        "plt.show()"
      ],
      "execution_count": null,
      "outputs": [
        {
          "output_type": "display_data",
          "data": {
            "image/png": "[encoded data removed]",
            "text/plain": [
              "<Figure size 432x288 with 1 Axes>"
            ]
          },
          "metadata": {
            "tags": [],
            "needs_background": "light"
          }
        }
      ]
    },
    {
      "cell_type": "markdown",
      "metadata": {
        "id": "EBRZgUtswHcp"
      },
      "source": [
        "O `Pandas` ainda conta com uma série de operações para manipulação e transformação dos dados como funções de joins e merge de tabelas, groupby etc. empregaremos eventualmente essas operações ao longo do texto e para maiores detalhes você poderá consultar a documentação do `Pandas` ou outras referências online."
      ]
    },
    {
      "cell_type": "markdown",
      "metadata": {
        "id": "ZzaZM8nwZntQ"
      },
      "source": [
        "# Agregações de dados\n",
        "\n",
        "Muitas vezes estamos interessados e aplicar uma função ou obter uma estatística dos dados para diferentes *classes* ou grupos de dados simultaneamente. O `Pandas` oferece uma operação de `groupby`, que permite manipular e resumir conjuntos de dados dessa forma. \n",
        "\n",
        "Você já aprendeu que pode aplicar operações como média e máximo para sumarizar estatísticas, por exemplo de uma `Serie` de dados contendo a idade em um `DataFrame` de cliente ou o preço do metro quadrado em um `DataFrame`de Imóveis.\n",
        "\n",
        "<img src=\"https://pandas.pydata.org/docs/_images/06_aggregate.svg\" width=320, align=\"center\">\n",
        "\n",
        "Mas como podemos obter as médias de idade por sexo ou o preço máximo do m2 dos imóveis por região? \n",
        "\n",
        "<img src=\"https://pandas.pydata.org/docs/_images/06_reduction.svg\" width=320, align=\"center\">\n",
        "\n",
        "O `groupby` é a função que permite agregar esses dados e obter estatísticas ou aplicar funções a várias classes ou grupos de dados.\n",
        "\n"
      ]
    },
    {
      "cell_type": "markdown",
      "metadata": {
        "id": "KZ6f-w7aGAqx"
      },
      "source": [
        "Se você está familiarizado com SQL ou o Excel, o resultado do `groupby` em `Pandas` é bastante semelhante ao que você obtém com o `groupby` do SQL e as tabelas dinâmicas do Excel. "
      ]
    },
    {
      "cell_type": "markdown",
      "metadata": {
        "id": "lOVSuwyNbClW"
      },
      "source": [
        "## Funcionamento do GroupBy\n",
        "\n",
        "A operação de `groupby` consiste em geral de 3 etapas:\n",
        "\n",
        "1. Divisão dividir e agrupar dos dados  dependendo de um valor de chave especificada.\n",
        "2. Aplicar uma computação, em geralmente uma estatística agregada como média, *count* ou max, uma transformação ou filtragem para os grupos individuais.\n",
        "3. Combinar os resultados dessas operações em uma saída única."
      ]
    },
    {
      "cell_type": "code",
      "metadata": {
        "colab": {
          "base_uri": "https://localhost:8080/",
          "height": 463
        },
        "id": "X3besAb8AsgK",
        "outputId": "8cee9e9e-51e6-4187-9d54-66e135462f3d"
      },
      "source": [
        "# source: https://jakevdp.github.io/PythonDataScienceHandbook/\n",
        "import pandas as pd\n",
        "import numpy as np\n",
        "import matplotlib.pyplot as plt\n",
        "%matplotlib inline\n",
        "\n",
        "def draw_dataframe(df, loc=None, width=None, ax=None, linestyle=None,\n",
        "                   textstyle=None):\n",
        "    loc = loc or [0, 0]\n",
        "    width = width or 1\n",
        "\n",
        "    x, y = loc\n",
        "\n",
        "    if ax is None:\n",
        "        ax = plt.gca()\n",
        "\n",
        "    ncols = len(df.columns) + 1\n",
        "    nrows = len(df.index) + 1\n",
        "\n",
        "    dx = dy = width / ncols\n",
        "\n",
        "    if linestyle is None:\n",
        "        linestyle = {'color':'black'}\n",
        "\n",
        "    if textstyle is None:\n",
        "        textstyle = {'size': 12}\n",
        "\n",
        "    textstyle.update({'ha':'center', 'va':'center'})\n",
        "\n",
        "    # draw vertical lines\n",
        "    for i in range(ncols + 1):\n",
        "        plt.plot(2 * [x + i * dx], [y, y + dy * nrows], **linestyle)\n",
        "\n",
        "    # draw horizontal lines\n",
        "    for i in range(nrows + 1):\n",
        "        plt.plot([x, x + dx * ncols], 2 * [y + i * dy], **linestyle)\n",
        "\n",
        "    # Create index labels\n",
        "    for i in range(nrows - 1):\n",
        "        plt.text(x + 0.5 * dx, y + (i + 0.5) * dy,\n",
        "                 str(df.index[::-1][i]), **textstyle)\n",
        "\n",
        "    # Create column labels\n",
        "    for i in range(ncols - 1):\n",
        "        plt.text(x + (i + 1.5) * dx, y + (nrows - 0.5) * dy,\n",
        "                 str(df.columns[i]), style='italic', **textstyle)\n",
        "        \n",
        "    # Add index label\n",
        "    if df.index.name:\n",
        "        plt.text(x + 0.5 * dx, y + (nrows - 0.5) * dy,\n",
        "                 str(df.index.name), style='italic', **textstyle)\n",
        "\n",
        "    # Insert data\n",
        "    for i in range(nrows - 1):\n",
        "        for j in range(ncols - 1):\n",
        "            plt.text(x + (j + 1.5) * dx,\n",
        "                     y + (i + 0.5) * dy,\n",
        "                     str(df.values[::-1][i, j]), **textstyle)\n",
        "\n",
        "\n",
        "#----------------------------------------------------------\n",
        "# Draw figure\n",
        "\n",
        "import pandas as pd\n",
        "df = pd.DataFrame({'data': [1, 2, 3, 4, 5, 6]},\n",
        "                   index=['A', 'B', 'C', 'A', 'B', 'C'])\n",
        "df.index.name = 'key'\n",
        "\n",
        "\n",
        "fig = plt.figure(figsize=(8, 6), facecolor='white')\n",
        "ax = plt.axes([0, 0, 1, 1])\n",
        "\n",
        "ax.axis('off')\n",
        "\n",
        "draw_dataframe(df, [0, 0])\n",
        "\n",
        "for y, ind in zip([3, 1, -1], 'ABC'):\n",
        "    split = df[df.index == ind]\n",
        "    draw_dataframe(split, [2, y])\n",
        "\n",
        "    sum = pd.DataFrame(split.sum()).T\n",
        "    sum.index = [ind]\n",
        "    sum.index.name = 'key'\n",
        "    sum.columns = ['data']\n",
        "    draw_dataframe(sum, [4, y + 0.25])\n",
        "    \n",
        "result = df.groupby(df.index).sum()\n",
        "draw_dataframe(result, [6, 0.75])\n",
        "\n",
        "style = dict(fontsize=14, ha='center', weight='bold')\n",
        "plt.text(0.5, 3.6, \"Input\", **style)\n",
        "plt.text(2.5, 4.6, \"Split\", **style)\n",
        "plt.text(4.5, 4.35, \"Apply (sum)\", **style)\n",
        "plt.text(6.5, 2.85, \"Combine\", **style)\n",
        "\n",
        "arrowprops = dict(facecolor='black', width=1, headwidth=6)\n",
        "plt.annotate('', (1.8, 3.6), (1.2, 2.8), arrowprops=arrowprops)\n",
        "plt.annotate('', (1.8, 1.75), (1.2, 1.75), arrowprops=arrowprops)\n",
        "plt.annotate('', (1.8, -0.1), (1.2, 0.7), arrowprops=arrowprops)\n",
        "\n",
        "plt.annotate('', (3.8, 3.8), (3.2, 3.8), arrowprops=arrowprops)\n",
        "plt.annotate('', (3.8, 1.75), (3.2, 1.75), arrowprops=arrowprops)\n",
        "plt.annotate('', (3.8, -0.3), (3.2, -0.3), arrowprops=arrowprops)\n",
        "\n",
        "plt.annotate('', (5.8, 2.8), (5.2, 3.6), arrowprops=arrowprops)\n",
        "plt.annotate('', (5.8, 1.75), (5.2, 1.75), arrowprops=arrowprops)\n",
        "plt.annotate('', (5.8, 0.7), (5.2, -0.1), arrowprops=arrowprops)\n",
        "    \n",
        "plt.axis('equal')\n",
        "plt.ylim(-1.5, 5);\n",
        "\n",
        "fig.savefig('03.08-split-apply-combine.png')"
      ],
      "execution_count": null,
      "outputs": [
        {
          "output_type": "display_data",
          "data": {
            "image/png": "[encoded data removed]",
            "text/plain": [
              "<Figure size 576x432 with 1 Axes>"
            ]
          },
          "metadata": {
            "tags": []
          }
        }
      ]
    },
    {
      "cell_type": "markdown",
      "metadata": {
        "id": "uM8nd5Df7V30"
      },
      "source": [
        "No exemplo acima, \n",
        "\n",
        "1. Dividimos os dados nas classes A, B e C\n",
        "2. Em seguida aplicamos a cada grupo uma função de agregação sobre o valor. No caso aplicamos a `sum()`, mas poderíamos aplicar outras funções de agregação como `count()`, `mean()`, `std()` etc.\n",
        "3. Combinamos então esses dados em uma única saída.\n",
        "\n",
        "Em uma única linha, todas as operação são executadas pela função `groupby()`,\n"
      ]
    },
    {
      "cell_type": "code",
      "metadata": {
        "colab": {
          "base_uri": "https://localhost:8080/",
          "height": 173
        },
        "id": "8NfwJ0ch8d7L",
        "outputId": "67f641bd-af6e-4376-a0fa-ea96053d659f"
      },
      "source": [
        "df.groupby(df.index).sum()"
      ],
      "execution_count": null,
      "outputs": [
        {
          "output_type": "execute_result",
          "data": {
            "text/html": [
              "<div>\n",
              "<style scoped>\n",
              "    .dataframe tbody tr th:only-of-type {\n",
              "        vertical-align: middle;\n",
              "    }\n",
              "\n",
              "    .dataframe tbody tr th {\n",
              "        vertical-align: top;\n",
              "    }\n",
              "\n",
              "    .dataframe thead th {\n",
              "        text-align: right;\n",
              "    }\n",
              "</style>\n",
              "<table border=\"1\" class=\"dataframe\">\n",
              "  <thead>\n",
              "    <tr style=\"text-align: right;\">\n",
              "      <th></th>\n",
              "      <th>data</th>\n",
              "    </tr>\n",
              "    <tr>\n",
              "      <th>key</th>\n",
              "      <th></th>\n",
              "    </tr>\n",
              "  </thead>\n",
              "  <tbody>\n",
              "    <tr>\n",
              "      <th>A</th>\n",
              "      <td>5</td>\n",
              "    </tr>\n",
              "    <tr>\n",
              "      <th>B</th>\n",
              "      <td>7</td>\n",
              "    </tr>\n",
              "    <tr>\n",
              "      <th>C</th>\n",
              "      <td>9</td>\n",
              "    </tr>\n",
              "  </tbody>\n",
              "</table>\n",
              "</div>"
            ],
            "text/plain": [
              "     data\n",
              "key      \n",
              "A       5\n",
              "B       7\n",
              "C       9"
            ]
          },
          "metadata": {
            "tags": []
          },
          "execution_count": 23
        }
      ]
    },
    {
      "cell_type": "markdown",
      "metadata": {
        "id": "GkwWhJMb-UMy"
      },
      "source": [
        "Aqui é empregado o índice do `DataFrame`. Não daremos muita atenção aqui nesta introdução ao `Pandas` ao uso de índices. Eles tem um papel mais importante no desempenho de algumas operações sobre os dados mas, para os nossos propósitos, é suficiente entendermos os índices como mais um atributo dos dados e que podemos referenciar como `df.index`. \n",
        "\n",
        "Outras operações de agregação além do `sum()` podem ser então igualmente aplicadas a quaisquer atributos desde que façam sentido para os seus valores (posso ter o valor máximo de um atributo do tipo String, mas não um valor de média)."
      ]
    },
    {
      "cell_type": "code",
      "metadata": {
        "colab": {
          "base_uri": "https://localhost:8080/",
          "height": 485
        },
        "id": "3MuXRK9I-RVn",
        "outputId": "a9182cc9-7ced-4cd1-f852-88ce78d456db"
      },
      "source": [
        "display( df.groupby(df.index).mean() )\n",
        "display( df.groupby(df.index).std() )\n",
        "display( df.groupby(df.index).min() )\n"
      ],
      "execution_count": null,
      "outputs": [
        {
          "output_type": "display_data",
          "data": {
            "text/html": [
              "<div>\n",
              "<style scoped>\n",
              "    .dataframe tbody tr th:only-of-type {\n",
              "        vertical-align: middle;\n",
              "    }\n",
              "\n",
              "    .dataframe tbody tr th {\n",
              "        vertical-align: top;\n",
              "    }\n",
              "\n",
              "    .dataframe thead th {\n",
              "        text-align: right;\n",
              "    }\n",
              "</style>\n",
              "<table border=\"1\" class=\"dataframe\">\n",
              "  <thead>\n",
              "    <tr style=\"text-align: right;\">\n",
              "      <th></th>\n",
              "      <th>data</th>\n",
              "    </tr>\n",
              "    <tr>\n",
              "      <th>key</th>\n",
              "      <th></th>\n",
              "    </tr>\n",
              "  </thead>\n",
              "  <tbody>\n",
              "    <tr>\n",
              "      <th>A</th>\n",
              "      <td>2.5</td>\n",
              "    </tr>\n",
              "    <tr>\n",
              "      <th>B</th>\n",
              "      <td>3.5</td>\n",
              "    </tr>\n",
              "    <tr>\n",
              "      <th>C</th>\n",
              "      <td>4.5</td>\n",
              "    </tr>\n",
              "  </tbody>\n",
              "</table>\n",
              "</div>"
            ],
            "text/plain": [
              "     data\n",
              "key      \n",
              "A     2.5\n",
              "B     3.5\n",
              "C     4.5"
            ]
          },
          "metadata": {
            "tags": []
          }
        },
        {
          "output_type": "display_data",
          "data": {
            "text/html": [
              "<div>\n",
              "<style scoped>\n",
              "    .dataframe tbody tr th:only-of-type {\n",
              "        vertical-align: middle;\n",
              "    }\n",
              "\n",
              "    .dataframe tbody tr th {\n",
              "        vertical-align: top;\n",
              "    }\n",
              "\n",
              "    .dataframe thead th {\n",
              "        text-align: right;\n",
              "    }\n",
              "</style>\n",
              "<table border=\"1\" class=\"dataframe\">\n",
              "  <thead>\n",
              "    <tr style=\"text-align: right;\">\n",
              "      <th></th>\n",
              "      <th>data</th>\n",
              "    </tr>\n",
              "    <tr>\n",
              "      <th>key</th>\n",
              "      <th></th>\n",
              "    </tr>\n",
              "  </thead>\n",
              "  <tbody>\n",
              "    <tr>\n",
              "      <th>A</th>\n",
              "      <td>2.12132</td>\n",
              "    </tr>\n",
              "    <tr>\n",
              "      <th>B</th>\n",
              "      <td>2.12132</td>\n",
              "    </tr>\n",
              "    <tr>\n",
              "      <th>C</th>\n",
              "      <td>2.12132</td>\n",
              "    </tr>\n",
              "  </tbody>\n",
              "</table>\n",
              "</div>"
            ],
            "text/plain": [
              "        data\n",
              "key         \n",
              "A    2.12132\n",
              "B    2.12132\n",
              "C    2.12132"
            ]
          },
          "metadata": {
            "tags": []
          }
        },
        {
          "output_type": "display_data",
          "data": {
            "text/html": [
              "<div>\n",
              "<style scoped>\n",
              "    .dataframe tbody tr th:only-of-type {\n",
              "        vertical-align: middle;\n",
              "    }\n",
              "\n",
              "    .dataframe tbody tr th {\n",
              "        vertical-align: top;\n",
              "    }\n",
              "\n",
              "    .dataframe thead th {\n",
              "        text-align: right;\n",
              "    }\n",
              "</style>\n",
              "<table border=\"1\" class=\"dataframe\">\n",
              "  <thead>\n",
              "    <tr style=\"text-align: right;\">\n",
              "      <th></th>\n",
              "      <th>data</th>\n",
              "    </tr>\n",
              "    <tr>\n",
              "      <th>key</th>\n",
              "      <th></th>\n",
              "    </tr>\n",
              "  </thead>\n",
              "  <tbody>\n",
              "    <tr>\n",
              "      <th>A</th>\n",
              "      <td>1</td>\n",
              "    </tr>\n",
              "    <tr>\n",
              "      <th>B</th>\n",
              "      <td>2</td>\n",
              "    </tr>\n",
              "    <tr>\n",
              "      <th>C</th>\n",
              "      <td>3</td>\n",
              "    </tr>\n",
              "  </tbody>\n",
              "</table>\n",
              "</div>"
            ],
            "text/plain": [
              "     data\n",
              "key      \n",
              "A       1\n",
              "B       2\n",
              "C       3"
            ]
          },
          "metadata": {
            "tags": []
          }
        }
      ]
    },
    {
      "cell_type": "markdown",
      "metadata": {
        "id": "D9Ty3bniBMlT"
      },
      "source": [
        "Ou ainda,"
      ]
    },
    {
      "cell_type": "code",
      "metadata": {
        "colab": {
          "base_uri": "https://localhost:8080/",
          "height": 204
        },
        "id": "wCxeR74rAGek",
        "outputId": "2cea237c-63e9-4922-a1f7-79e916e934b2"
      },
      "source": [
        "display( df.groupby(df.index).agg(['mean', 'std', 'min']) )"
      ],
      "execution_count": null,
      "outputs": [
        {
          "output_type": "display_data",
          "data": {
            "text/html": [
              "<div>\n",
              "<style scoped>\n",
              "    .dataframe tbody tr th:only-of-type {\n",
              "        vertical-align: middle;\n",
              "    }\n",
              "\n",
              "    .dataframe tbody tr th {\n",
              "        vertical-align: top;\n",
              "    }\n",
              "\n",
              "    .dataframe thead tr th {\n",
              "        text-align: left;\n",
              "    }\n",
              "\n",
              "    .dataframe thead tr:last-of-type th {\n",
              "        text-align: right;\n",
              "    }\n",
              "</style>\n",
              "<table border=\"1\" class=\"dataframe\">\n",
              "  <thead>\n",
              "    <tr>\n",
              "      <th></th>\n",
              "      <th colspan=\"3\" halign=\"left\">data</th>\n",
              "    </tr>\n",
              "    <tr>\n",
              "      <th></th>\n",
              "      <th>mean</th>\n",
              "      <th>std</th>\n",
              "      <th>min</th>\n",
              "    </tr>\n",
              "    <tr>\n",
              "      <th>key</th>\n",
              "      <th></th>\n",
              "      <th></th>\n",
              "      <th></th>\n",
              "    </tr>\n",
              "  </thead>\n",
              "  <tbody>\n",
              "    <tr>\n",
              "      <th>A</th>\n",
              "      <td>2.5</td>\n",
              "      <td>2.12132</td>\n",
              "      <td>1</td>\n",
              "    </tr>\n",
              "    <tr>\n",
              "      <th>B</th>\n",
              "      <td>3.5</td>\n",
              "      <td>2.12132</td>\n",
              "      <td>2</td>\n",
              "    </tr>\n",
              "    <tr>\n",
              "      <th>C</th>\n",
              "      <td>4.5</td>\n",
              "      <td>2.12132</td>\n",
              "      <td>3</td>\n",
              "    </tr>\n",
              "  </tbody>\n",
              "</table>\n",
              "</div>"
            ],
            "text/plain": [
              "    data             \n",
              "    mean      std min\n",
              "key                  \n",
              "A    2.5  2.12132   1\n",
              "B    3.5  2.12132   2\n",
              "C    4.5  2.12132   3"
            ]
          },
          "metadata": {
            "tags": []
          }
        }
      ]
    },
    {
      "cell_type": "markdown",
      "metadata": {
        "id": "QEvMU4xkBX9Z"
      },
      "source": [
        "Veja, por exemplo, a aplicação em um conjunto de dados mais prático."
      ]
    },
    {
      "cell_type": "code",
      "metadata": {
        "colab": {
          "base_uri": "https://localhost:8080/",
          "height": 328
        },
        "id": "6S5eU9_BBzLt",
        "outputId": "89e001cc-051d-4c61-a6aa-80648bee8f97"
      },
      "source": [
        "pedidos = pd.DataFrame( {'Pedido': pd.Series([ 1, 1, 1, 2, 2, 2, 2, 3, 3]),\n",
        "                         'Itens': pd.Series([ 'Tênis Corrida', 'Tênis Caminhada', 'Camiseta', 'Tênis Caminhada', 'Camiseta', 'Boné' , 'Keds' ,'Tênis Caminhada', 'Camiseta' ]),\n",
        "                         'Preco Unidade': pd.Series([ 300, 250, 90, 250, 90, 60, 250, 250, 90]),\n",
        "                         'Quantidade': pd.Series([ 1, 2, 3, 2, 1, 1, 3, 2, 1]) } )\n",
        "pedidos\n"
      ],
      "execution_count": null,
      "outputs": [
        {
          "output_type": "execute_result",
          "data": {
            "text/html": [
              "<div>\n",
              "<style scoped>\n",
              "    .dataframe tbody tr th:only-of-type {\n",
              "        vertical-align: middle;\n",
              "    }\n",
              "\n",
              "    .dataframe tbody tr th {\n",
              "        vertical-align: top;\n",
              "    }\n",
              "\n",
              "    .dataframe thead th {\n",
              "        text-align: right;\n",
              "    }\n",
              "</style>\n",
              "<table border=\"1\" class=\"dataframe\">\n",
              "  <thead>\n",
              "    <tr style=\"text-align: right;\">\n",
              "      <th></th>\n",
              "      <th>Pedido</th>\n",
              "      <th>Itens</th>\n",
              "      <th>Preco Unidade</th>\n",
              "      <th>Quantidade</th>\n",
              "    </tr>\n",
              "  </thead>\n",
              "  <tbody>\n",
              "    <tr>\n",
              "      <th>0</th>\n",
              "      <td>1</td>\n",
              "      <td>Tênis Corrida</td>\n",
              "      <td>300</td>\n",
              "      <td>1</td>\n",
              "    </tr>\n",
              "    <tr>\n",
              "      <th>1</th>\n",
              "      <td>1</td>\n",
              "      <td>Tênis Caminhada</td>\n",
              "      <td>250</td>\n",
              "      <td>2</td>\n",
              "    </tr>\n",
              "    <tr>\n",
              "      <th>2</th>\n",
              "      <td>1</td>\n",
              "      <td>Camiseta</td>\n",
              "      <td>90</td>\n",
              "      <td>3</td>\n",
              "    </tr>\n",
              "    <tr>\n",
              "      <th>3</th>\n",
              "      <td>2</td>\n",
              "      <td>Tênis Caminhada</td>\n",
              "      <td>250</td>\n",
              "      <td>2</td>\n",
              "    </tr>\n",
              "    <tr>\n",
              "      <th>4</th>\n",
              "      <td>2</td>\n",
              "      <td>Camiseta</td>\n",
              "      <td>90</td>\n",
              "      <td>1</td>\n",
              "    </tr>\n",
              "    <tr>\n",
              "      <th>5</th>\n",
              "      <td>2</td>\n",
              "      <td>Boné</td>\n",
              "      <td>60</td>\n",
              "      <td>1</td>\n",
              "    </tr>\n",
              "    <tr>\n",
              "      <th>6</th>\n",
              "      <td>2</td>\n",
              "      <td>Keds</td>\n",
              "      <td>250</td>\n",
              "      <td>3</td>\n",
              "    </tr>\n",
              "    <tr>\n",
              "      <th>7</th>\n",
              "      <td>3</td>\n",
              "      <td>Tênis Caminhada</td>\n",
              "      <td>250</td>\n",
              "      <td>2</td>\n",
              "    </tr>\n",
              "    <tr>\n",
              "      <th>8</th>\n",
              "      <td>3</td>\n",
              "      <td>Camiseta</td>\n",
              "      <td>90</td>\n",
              "      <td>1</td>\n",
              "    </tr>\n",
              "  </tbody>\n",
              "</table>\n",
              "</div>"
            ],
            "text/plain": [
              "   Pedido            Itens  Preco Unidade  Quantidade\n",
              "0       1    Tênis Corrida            300           1\n",
              "1       1  Tênis Caminhada            250           2\n",
              "2       1         Camiseta             90           3\n",
              "3       2  Tênis Caminhada            250           2\n",
              "4       2         Camiseta             90           1\n",
              "5       2             Boné             60           1\n",
              "6       2             Keds            250           3\n",
              "7       3  Tênis Caminhada            250           2\n",
              "8       3         Camiseta             90           1"
            ]
          },
          "metadata": {
            "tags": []
          },
          "execution_count": 26
        }
      ]
    },
    {
      "cell_type": "markdown",
      "metadata": {
        "id": "JwVLGCAhEGEK"
      },
      "source": [
        "Aqui as operações são aplicáveis somente a valores numéricos,"
      ]
    },
    {
      "cell_type": "code",
      "metadata": {
        "colab": {
          "base_uri": "https://localhost:8080/",
          "height": 204
        },
        "id": "ba107XDdCCXO",
        "outputId": "e5b0bb4c-31dc-48f9-abbc-3fb19ee79140"
      },
      "source": [
        "display( pedidos.groupby('Pedido').agg(['mean', 'std', 'min']) )"
      ],
      "execution_count": null,
      "outputs": [
        {
          "output_type": "display_data",
          "data": {
            "text/html": [
              "<div>\n",
              "<style scoped>\n",
              "    .dataframe tbody tr th:only-of-type {\n",
              "        vertical-align: middle;\n",
              "    }\n",
              "\n",
              "    .dataframe tbody tr th {\n",
              "        vertical-align: top;\n",
              "    }\n",
              "\n",
              "    .dataframe thead tr th {\n",
              "        text-align: left;\n",
              "    }\n",
              "\n",
              "    .dataframe thead tr:last-of-type th {\n",
              "        text-align: right;\n",
              "    }\n",
              "</style>\n",
              "<table border=\"1\" class=\"dataframe\">\n",
              "  <thead>\n",
              "    <tr>\n",
              "      <th></th>\n",
              "      <th colspan=\"3\" halign=\"left\">Preco Unidade</th>\n",
              "      <th colspan=\"3\" halign=\"left\">Quantidade</th>\n",
              "    </tr>\n",
              "    <tr>\n",
              "      <th></th>\n",
              "      <th>mean</th>\n",
              "      <th>std</th>\n",
              "      <th>min</th>\n",
              "      <th>mean</th>\n",
              "      <th>std</th>\n",
              "      <th>min</th>\n",
              "    </tr>\n",
              "    <tr>\n",
              "      <th>Pedido</th>\n",
              "      <th></th>\n",
              "      <th></th>\n",
              "      <th></th>\n",
              "      <th></th>\n",
              "      <th></th>\n",
              "      <th></th>\n",
              "    </tr>\n",
              "  </thead>\n",
              "  <tbody>\n",
              "    <tr>\n",
              "      <th>1</th>\n",
              "      <td>213.333333</td>\n",
              "      <td>109.696551</td>\n",
              "      <td>90</td>\n",
              "      <td>2.00</td>\n",
              "      <td>1.000000</td>\n",
              "      <td>1</td>\n",
              "    </tr>\n",
              "    <tr>\n",
              "      <th>2</th>\n",
              "      <td>162.500000</td>\n",
              "      <td>101.775898</td>\n",
              "      <td>60</td>\n",
              "      <td>1.75</td>\n",
              "      <td>0.957427</td>\n",
              "      <td>1</td>\n",
              "    </tr>\n",
              "    <tr>\n",
              "      <th>3</th>\n",
              "      <td>170.000000</td>\n",
              "      <td>113.137085</td>\n",
              "      <td>90</td>\n",
              "      <td>1.50</td>\n",
              "      <td>0.707107</td>\n",
              "      <td>1</td>\n",
              "    </tr>\n",
              "  </tbody>\n",
              "</table>\n",
              "</div>"
            ],
            "text/plain": [
              "       Preco Unidade                 Quantidade              \n",
              "                mean         std min       mean       std min\n",
              "Pedido                                                       \n",
              "1         213.333333  109.696551  90       2.00  1.000000   1\n",
              "2         162.500000  101.775898  60       1.75  0.957427   1\n",
              "3         170.000000  113.137085  90       1.50  0.707107   1"
            ]
          },
          "metadata": {
            "tags": []
          }
        }
      ]
    },
    {
      "cell_type": "markdown",
      "metadata": {
        "id": "Ida8X7VOER3C"
      },
      "source": [
        "Mas as funções, se aplicáveis, podem envolver também atributos categóricos,"
      ]
    },
    {
      "cell_type": "code",
      "metadata": {
        "colab": {
          "base_uri": "https://localhost:8080/",
          "height": 173
        },
        "id": "guixajyICp_r",
        "outputId": "5fd7294b-bb87-445e-8789-304fe9aa38c0"
      },
      "source": [
        "display( pedidos.groupby('Pedido').max() )"
      ],
      "execution_count": null,
      "outputs": [
        {
          "output_type": "display_data",
          "data": {
            "text/html": [
              "<div>\n",
              "<style scoped>\n",
              "    .dataframe tbody tr th:only-of-type {\n",
              "        vertical-align: middle;\n",
              "    }\n",
              "\n",
              "    .dataframe tbody tr th {\n",
              "        vertical-align: top;\n",
              "    }\n",
              "\n",
              "    .dataframe thead th {\n",
              "        text-align: right;\n",
              "    }\n",
              "</style>\n",
              "<table border=\"1\" class=\"dataframe\">\n",
              "  <thead>\n",
              "    <tr style=\"text-align: right;\">\n",
              "      <th></th>\n",
              "      <th>Itens</th>\n",
              "      <th>Preco Unidade</th>\n",
              "      <th>Quantidade</th>\n",
              "    </tr>\n",
              "    <tr>\n",
              "      <th>Pedido</th>\n",
              "      <th></th>\n",
              "      <th></th>\n",
              "      <th></th>\n",
              "    </tr>\n",
              "  </thead>\n",
              "  <tbody>\n",
              "    <tr>\n",
              "      <th>1</th>\n",
              "      <td>Tênis Corrida</td>\n",
              "      <td>300</td>\n",
              "      <td>3</td>\n",
              "    </tr>\n",
              "    <tr>\n",
              "      <th>2</th>\n",
              "      <td>Tênis Caminhada</td>\n",
              "      <td>250</td>\n",
              "      <td>3</td>\n",
              "    </tr>\n",
              "    <tr>\n",
              "      <th>3</th>\n",
              "      <td>Tênis Caminhada</td>\n",
              "      <td>250</td>\n",
              "      <td>2</td>\n",
              "    </tr>\n",
              "  </tbody>\n",
              "</table>\n",
              "</div>"
            ],
            "text/plain": [
              "                  Itens  Preco Unidade  Quantidade\n",
              "Pedido                                            \n",
              "1         Tênis Corrida            300           3\n",
              "2       Tênis Caminhada            250           3\n",
              "3       Tênis Caminhada            250           2"
            ]
          },
          "metadata": {
            "tags": []
          }
        }
      ]
    },
    {
      "cell_type": "markdown",
      "metadata": {
        "id": "_baKFDX6EfHa"
      },
      "source": [
        "Podemos também selecionar os atributos,"
      ]
    },
    {
      "cell_type": "code",
      "metadata": {
        "colab": {
          "base_uri": "https://localhost:8080/",
          "height": 235
        },
        "id": "SV3FESkmCejk",
        "outputId": "c5f138f5-27d9-4294-afc6-b4cd3848d99f"
      },
      "source": [
        "display( pedidos.groupby('Itens')['Quantidade'].agg(['mean', 'std', 'min', 'count']) )\n",
        "\n",
        "# Experimente aqui, faz pouco sentido obter esses valores para Pedido\n",
        "# display( pedidos.groupby('Itens').agg(['mean', 'std', 'min', 'count']) )"
      ],
      "execution_count": null,
      "outputs": [
        {
          "output_type": "display_data",
          "data": {
            "text/html": [
              "<div>\n",
              "<style scoped>\n",
              "    .dataframe tbody tr th:only-of-type {\n",
              "        vertical-align: middle;\n",
              "    }\n",
              "\n",
              "    .dataframe tbody tr th {\n",
              "        vertical-align: top;\n",
              "    }\n",
              "\n",
              "    .dataframe thead th {\n",
              "        text-align: right;\n",
              "    }\n",
              "</style>\n",
              "<table border=\"1\" class=\"dataframe\">\n",
              "  <thead>\n",
              "    <tr style=\"text-align: right;\">\n",
              "      <th></th>\n",
              "      <th>mean</th>\n",
              "      <th>std</th>\n",
              "      <th>min</th>\n",
              "      <th>count</th>\n",
              "    </tr>\n",
              "    <tr>\n",
              "      <th>Itens</th>\n",
              "      <th></th>\n",
              "      <th></th>\n",
              "      <th></th>\n",
              "      <th></th>\n",
              "    </tr>\n",
              "  </thead>\n",
              "  <tbody>\n",
              "    <tr>\n",
              "      <th>Boné</th>\n",
              "      <td>1.000000</td>\n",
              "      <td>NaN</td>\n",
              "      <td>1</td>\n",
              "      <td>1</td>\n",
              "    </tr>\n",
              "    <tr>\n",
              "      <th>Camiseta</th>\n",
              "      <td>1.666667</td>\n",
              "      <td>1.154701</td>\n",
              "      <td>1</td>\n",
              "      <td>3</td>\n",
              "    </tr>\n",
              "    <tr>\n",
              "      <th>Keds</th>\n",
              "      <td>3.000000</td>\n",
              "      <td>NaN</td>\n",
              "      <td>3</td>\n",
              "      <td>1</td>\n",
              "    </tr>\n",
              "    <tr>\n",
              "      <th>Tênis Caminhada</th>\n",
              "      <td>2.000000</td>\n",
              "      <td>0.000000</td>\n",
              "      <td>2</td>\n",
              "      <td>3</td>\n",
              "    </tr>\n",
              "    <tr>\n",
              "      <th>Tênis Corrida</th>\n",
              "      <td>1.000000</td>\n",
              "      <td>NaN</td>\n",
              "      <td>1</td>\n",
              "      <td>1</td>\n",
              "    </tr>\n",
              "  </tbody>\n",
              "</table>\n",
              "</div>"
            ],
            "text/plain": [
              "                     mean       std  min  count\n",
              "Itens                                          \n",
              "Boné             1.000000       NaN    1      1\n",
              "Camiseta         1.666667  1.154701    1      3\n",
              "Keds             3.000000       NaN    3      1\n",
              "Tênis Caminhada  2.000000  0.000000    2      3\n",
              "Tênis Corrida    1.000000       NaN    1      1"
            ]
          },
          "metadata": {
            "tags": []
          }
        }
      ]
    },
    {
      "cell_type": "markdown",
      "metadata": {
        "id": "NiEsCckLGn8B"
      },
      "source": [
        "E, finalmente, as agregações também podem envolver mais que um nível de valores chave,\n"
      ]
    },
    {
      "cell_type": "code",
      "metadata": {
        "colab": {
          "base_uri": "https://localhost:8080/",
          "height": 390
        },
        "id": "iwh1iw_8GxST",
        "outputId": "66f54b78-65af-4e5e-be01-021290ac99c8"
      },
      "source": [
        "display( pedidos.groupby( ['Itens','Pedido'] ).agg(['min','max']) )"
      ],
      "execution_count": null,
      "outputs": [
        {
          "output_type": "display_data",
          "data": {
            "text/html": [
              "<div>\n",
              "<style scoped>\n",
              "    .dataframe tbody tr th:only-of-type {\n",
              "        vertical-align: middle;\n",
              "    }\n",
              "\n",
              "    .dataframe tbody tr th {\n",
              "        vertical-align: top;\n",
              "    }\n",
              "\n",
              "    .dataframe thead tr th {\n",
              "        text-align: left;\n",
              "    }\n",
              "\n",
              "    .dataframe thead tr:last-of-type th {\n",
              "        text-align: right;\n",
              "    }\n",
              "</style>\n",
              "<table border=\"1\" class=\"dataframe\">\n",
              "  <thead>\n",
              "    <tr>\n",
              "      <th></th>\n",
              "      <th></th>\n",
              "      <th colspan=\"2\" halign=\"left\">Preco Unidade</th>\n",
              "      <th colspan=\"2\" halign=\"left\">Quantidade</th>\n",
              "    </tr>\n",
              "    <tr>\n",
              "      <th></th>\n",
              "      <th></th>\n",
              "      <th>min</th>\n",
              "      <th>max</th>\n",
              "      <th>min</th>\n",
              "      <th>max</th>\n",
              "    </tr>\n",
              "    <tr>\n",
              "      <th>Itens</th>\n",
              "      <th>Pedido</th>\n",
              "      <th></th>\n",
              "      <th></th>\n",
              "      <th></th>\n",
              "      <th></th>\n",
              "    </tr>\n",
              "  </thead>\n",
              "  <tbody>\n",
              "    <tr>\n",
              "      <th>Boné</th>\n",
              "      <th>2</th>\n",
              "      <td>60</td>\n",
              "      <td>60</td>\n",
              "      <td>1</td>\n",
              "      <td>1</td>\n",
              "    </tr>\n",
              "    <tr>\n",
              "      <th rowspan=\"3\" valign=\"top\">Camiseta</th>\n",
              "      <th>1</th>\n",
              "      <td>90</td>\n",
              "      <td>90</td>\n",
              "      <td>3</td>\n",
              "      <td>3</td>\n",
              "    </tr>\n",
              "    <tr>\n",
              "      <th>2</th>\n",
              "      <td>90</td>\n",
              "      <td>90</td>\n",
              "      <td>1</td>\n",
              "      <td>1</td>\n",
              "    </tr>\n",
              "    <tr>\n",
              "      <th>3</th>\n",
              "      <td>90</td>\n",
              "      <td>90</td>\n",
              "      <td>1</td>\n",
              "      <td>1</td>\n",
              "    </tr>\n",
              "    <tr>\n",
              "      <th>Keds</th>\n",
              "      <th>2</th>\n",
              "      <td>250</td>\n",
              "      <td>250</td>\n",
              "      <td>3</td>\n",
              "      <td>3</td>\n",
              "    </tr>\n",
              "    <tr>\n",
              "      <th rowspan=\"3\" valign=\"top\">Tênis Caminhada</th>\n",
              "      <th>1</th>\n",
              "      <td>250</td>\n",
              "      <td>250</td>\n",
              "      <td>2</td>\n",
              "      <td>2</td>\n",
              "    </tr>\n",
              "    <tr>\n",
              "      <th>2</th>\n",
              "      <td>250</td>\n",
              "      <td>250</td>\n",
              "      <td>2</td>\n",
              "      <td>2</td>\n",
              "    </tr>\n",
              "    <tr>\n",
              "      <th>3</th>\n",
              "      <td>250</td>\n",
              "      <td>250</td>\n",
              "      <td>2</td>\n",
              "      <td>2</td>\n",
              "    </tr>\n",
              "    <tr>\n",
              "      <th>Tênis Corrida</th>\n",
              "      <th>1</th>\n",
              "      <td>300</td>\n",
              "      <td>300</td>\n",
              "      <td>1</td>\n",
              "      <td>1</td>\n",
              "    </tr>\n",
              "  </tbody>\n",
              "</table>\n",
              "</div>"
            ],
            "text/plain": [
              "                       Preco Unidade      Quantidade    \n",
              "                                 min  max        min max\n",
              "Itens           Pedido                                  \n",
              "Boné            2                 60   60          1   1\n",
              "Camiseta        1                 90   90          3   3\n",
              "                2                 90   90          1   1\n",
              "                3                 90   90          1   1\n",
              "Keds            2                250  250          3   3\n",
              "Tênis Caminhada 1                250  250          2   2\n",
              "                2                250  250          2   2\n",
              "                3                250  250          2   2\n",
              "Tênis Corrida   1                300  300          1   1"
            ]
          },
          "metadata": {
            "tags": []
          }
        }
      ]
    },
    {
      "cell_type": "markdown",
      "metadata": {
        "id": "GE5BelzzFmE9"
      },
      "source": [
        "## Acessando Chaves e Valores dos Grupos\n",
        "\n",
        "O método `groupby` retorna um objeto do tipo `DataFrameGroupBy` e não um `DataFrame` e essa é uma grande diferença entre essa função no `Pandas` e no SQL. Os métodos de `DataFrame` não podem ser aplicados a um obejto do tipo `DataFrameGroupBy`, enquanto na SQL um SELECT com GROUPY no SQL retorna uma tabela e todas as operações de tabela são aplicáveis.  "
      ]
    },
    {
      "cell_type": "code",
      "metadata": {
        "colab": {
          "base_uri": "https://localhost:8080/"
        },
        "id": "ijLB5QJ0DJlu",
        "outputId": "e7cfc67e-8875-45f5-ccd1-ea5ec602e73a"
      },
      "source": [
        "pedidos.groupby('Itens') "
      ],
      "execution_count": null,
      "outputs": [
        {
          "output_type": "execute_result",
          "data": {
            "text/plain": [
              "<pandas.core.groupby.generic.DataFrameGroupBy object at 0x7f58f17ccdd0>"
            ]
          },
          "metadata": {
            "tags": []
          },
          "execution_count": 31
        }
      ]
    },
    {
      "cell_type": "markdown",
      "metadata": {
        "id": "UKMZYOXTJ5d2"
      },
      "source": [
        "A estrutura desses dados é basicamente na forma de um dicionário e você pode acessar as chaves e os seus valores."
      ]
    },
    {
      "cell_type": "code",
      "metadata": {
        "colab": {
          "base_uri": "https://localhost:8080/"
        },
        "id": "O98lblHEJMnl",
        "outputId": "aaa81568-369d-4dbb-8d7f-9ced6069b2fb"
      },
      "source": [
        "grupos_itens = pedidos.groupby('Itens')\n",
        "print ( grupos_itens )\n",
        "print ( grupos_itens.groups )\n",
        "print ( grupos_itens.groups.keys() )\n",
        "print ( grupos_itens.groups.values() )"
      ],
      "execution_count": null,
      "outputs": [
        {
          "output_type": "stream",
          "text": [
            "<pandas.core.groupby.generic.DataFrameGroupBy object at 0x7f58f15a0390>\n",
            "{'Boné': [5], 'Camiseta': [2, 4, 8], 'Keds': [6], 'Tênis Caminhada': [1, 3, 7], 'Tênis Corrida': [0]}\n",
            "dict_keys(['Boné', 'Camiseta', 'Keds', 'Tênis Caminhada', 'Tênis Corrida'])\n",
            "dict_values([Int64Index([5], dtype='int64'), Int64Index([2, 4, 8], dtype='int64'), Int64Index([6], dtype='int64'), Int64Index([1, 3, 7], dtype='int64'), Int64Index([0], dtype='int64')])\n"
          ],
          "name": "stdout"
        }
      ]
    },
    {
      "cell_type": "markdown",
      "metadata": {
        "id": "AQXRoT_XKlRo"
      },
      "source": [
        "### Iterando sobre grupos\n",
        "\n",
        "Você pode, então, fazer iterações sobre esses valores ou aplicar funções de agregação,"
      ]
    },
    {
      "cell_type": "code",
      "metadata": {
        "colab": {
          "base_uri": "https://localhost:8080/"
        },
        "id": "OEKHnYCqDn-l",
        "outputId": "38dd0236-63d0-4e56-d5d3-b30021ec660d"
      },
      "source": [
        "for chave in pedidos.groupby('Itens').groups.keys():\n",
        "  print(chave)\n",
        "\n",
        "# que é o mesmo que,\n",
        "#\n",
        "# for chave in grupos_itens.groups.keys():\n",
        "#  print(chave)\n",
        "\n",
        "for chave, grupo in pedidos.groupby('Itens'):\n",
        "  print(chave)\n",
        "  print(grupo)\n",
        "\n"
      ],
      "execution_count": null,
      "outputs": [
        {
          "output_type": "stream",
          "text": [
            "Boné\n",
            "Camiseta\n",
            "Keds\n",
            "Tênis Caminhada\n",
            "Tênis Corrida\n",
            "Boné\n",
            "   Pedido Itens  Preco Unidade  Quantidade\n",
            "5       2  Boné             60           1\n",
            "Camiseta\n",
            "   Pedido     Itens  Preco Unidade  Quantidade\n",
            "2       1  Camiseta             90           3\n",
            "4       2  Camiseta             90           1\n",
            "8       3  Camiseta             90           1\n",
            "Keds\n",
            "   Pedido Itens  Preco Unidade  Quantidade\n",
            "6       2  Keds            250           3\n",
            "Tênis Caminhada\n",
            "   Pedido            Itens  Preco Unidade  Quantidade\n",
            "1       1  Tênis Caminhada            250           2\n",
            "3       2  Tênis Caminhada            250           2\n",
            "7       3  Tênis Caminhada            250           2\n",
            "Tênis Corrida\n",
            "   Pedido          Itens  Preco Unidade  Quantidade\n",
            "0       1  Tênis Corrida            300           1\n"
          ],
          "name": "stdout"
        }
      ]
    },
    {
      "cell_type": "code",
      "metadata": {
        "colab": {
          "base_uri": "https://localhost:8080/"
        },
        "id": "D11DCqN3FzU7",
        "outputId": "acecc7d6-5601-466c-8d27-20dc5be8c36f"
      },
      "source": [
        "pedidos.groupby('Itens').Quantidade.sum() # total de quantidades por item\n",
        "\n",
        "# que é o mesmo que,\n",
        "# grupos_itens.Quantidade.sum() # total de quantidades por item"
      ],
      "execution_count": null,
      "outputs": [
        {
          "output_type": "execute_result",
          "data": {
            "text/plain": [
              "Itens\n",
              "Boné               1\n",
              "Camiseta           5\n",
              "Keds               3\n",
              "Tênis Caminhada    6\n",
              "Tênis Corrida      1\n",
              "Name: Quantidade, dtype: int64"
            ]
          },
          "metadata": {
            "tags": []
          },
          "execution_count": 34
        }
      ]
    },
    {
      "cell_type": "markdown",
      "metadata": {
        "id": "mW1txXwEM_Lz"
      },
      "source": [
        "### Acessando os valores \n",
        "\n",
        "Você pode referenciar diretamente o atributo em um grupo para obter uma `Serie` `Pandas` e, então, operar esses valores como abaixo,"
      ]
    },
    {
      "cell_type": "code",
      "metadata": {
        "colab": {
          "base_uri": "https://localhost:8080/",
          "height": 235
        },
        "id": "Twcx8-XVOgBm",
        "outputId": "53b48186-bafc-4bb7-ad0e-3eef9d4ae116"
      },
      "source": [
        "pedidos.groupby('Itens')[['Quantidade','Preco Unidade']].sum()"
      ],
      "execution_count": null,
      "outputs": [
        {
          "output_type": "execute_result",
          "data": {
            "text/html": [
              "<div>\n",
              "<style scoped>\n",
              "    .dataframe tbody tr th:only-of-type {\n",
              "        vertical-align: middle;\n",
              "    }\n",
              "\n",
              "    .dataframe tbody tr th {\n",
              "        vertical-align: top;\n",
              "    }\n",
              "\n",
              "    .dataframe thead th {\n",
              "        text-align: right;\n",
              "    }\n",
              "</style>\n",
              "<table border=\"1\" class=\"dataframe\">\n",
              "  <thead>\n",
              "    <tr style=\"text-align: right;\">\n",
              "      <th></th>\n",
              "      <th>Quantidade</th>\n",
              "      <th>Preco Unidade</th>\n",
              "    </tr>\n",
              "    <tr>\n",
              "      <th>Itens</th>\n",
              "      <th></th>\n",
              "      <th></th>\n",
              "    </tr>\n",
              "  </thead>\n",
              "  <tbody>\n",
              "    <tr>\n",
              "      <th>Boné</th>\n",
              "      <td>1</td>\n",
              "      <td>60</td>\n",
              "    </tr>\n",
              "    <tr>\n",
              "      <th>Camiseta</th>\n",
              "      <td>5</td>\n",
              "      <td>270</td>\n",
              "    </tr>\n",
              "    <tr>\n",
              "      <th>Keds</th>\n",
              "      <td>3</td>\n",
              "      <td>250</td>\n",
              "    </tr>\n",
              "    <tr>\n",
              "      <th>Tênis Caminhada</th>\n",
              "      <td>6</td>\n",
              "      <td>750</td>\n",
              "    </tr>\n",
              "    <tr>\n",
              "      <th>Tênis Corrida</th>\n",
              "      <td>1</td>\n",
              "      <td>300</td>\n",
              "    </tr>\n",
              "  </tbody>\n",
              "</table>\n",
              "</div>"
            ],
            "text/plain": [
              "                 Quantidade  Preco Unidade\n",
              "Itens                                     \n",
              "Boné                      1             60\n",
              "Camiseta                  5            270\n",
              "Keds                      3            250\n",
              "Tênis Caminhada           6            750\n",
              "Tênis Corrida             1            300"
            ]
          },
          "metadata": {
            "tags": []
          },
          "execution_count": 35
        }
      ]
    },
    {
      "cell_type": "code",
      "metadata": {
        "colab": {
          "base_uri": "https://localhost:8080/"
        },
        "id": "fDqnPqrDOvIj",
        "outputId": "2755d249-2a1b-4267-fdb7-f234a981d914"
      },
      "source": [
        "pedidos.groupby('Itens')[['Quantidade','Preco Unidade']].sum()['Quantidade']"
      ],
      "execution_count": null,
      "outputs": [
        {
          "output_type": "execute_result",
          "data": {
            "text/plain": [
              "Itens\n",
              "Boné               1\n",
              "Camiseta           5\n",
              "Keds               3\n",
              "Tênis Caminhada    6\n",
              "Tênis Corrida      1\n",
              "Name: Quantidade, dtype: int64"
            ]
          },
          "metadata": {
            "tags": []
          },
          "execution_count": 36
        }
      ]
    },
    {
      "cell_type": "code",
      "metadata": {
        "colab": {
          "base_uri": "https://localhost:8080/"
        },
        "id": "54BypGp9PQ-g",
        "outputId": "0e9a0ab2-f8ed-43f6-8b49-60a46b749431"
      },
      "source": [
        "type( pedidos.groupby('Itens')[['Quantidade','Preco Unidade']].sum()['Quantidade'] )"
      ],
      "execution_count": null,
      "outputs": [
        {
          "output_type": "execute_result",
          "data": {
            "text/plain": [
              "pandas.core.series.Series"
            ]
          },
          "metadata": {
            "tags": []
          },
          "execution_count": 37
        }
      ]
    },
    {
      "cell_type": "code",
      "metadata": {
        "colab": {
          "base_uri": "https://localhost:8080/"
        },
        "id": "MBw0UXStPKC2",
        "outputId": "9cfaad7d-6af3-4297-f753-af318cbfa813"
      },
      "source": [
        "pedidos.groupby('Itens')[['Quantidade','Preco Unidade']].sum()['Quantidade'].mean()"
      ],
      "execution_count": null,
      "outputs": [
        {
          "output_type": "execute_result",
          "data": {
            "text/plain": [
              "3.2"
            ]
          },
          "metadata": {
            "tags": []
          },
          "execution_count": 38
        }
      ]
    },
    {
      "cell_type": "markdown",
      "metadata": {
        "id": "ttI9-pxOPx5T"
      },
      "source": [
        "Mas um artíficio bastante prático que você pode empregar, se não estiver preocupado com o desempenho e uso de recursos de memória das operações, é transformar o seu agrupamento em um `DataFrame` para que você possa aplicar as operações que já conhece para essa classe diretamente, "
      ]
    },
    {
      "cell_type": "code",
      "metadata": {
        "colab": {
          "base_uri": "https://localhost:8080/",
          "height": 204
        },
        "id": "0egNG8mANCx4",
        "outputId": "afe4c46d-2e54-4801-f9c0-a7f7eaf7ba29"
      },
      "source": [
        "df = pd.DataFrame( pedidos.groupby('Itens')[['Quantidade','Preco Unidade']].sum() ).reset_index()\n",
        "df.head()"
      ],
      "execution_count": null,
      "outputs": [
        {
          "output_type": "execute_result",
          "data": {
            "text/html": [
              "<div>\n",
              "<style scoped>\n",
              "    .dataframe tbody tr th:only-of-type {\n",
              "        vertical-align: middle;\n",
              "    }\n",
              "\n",
              "    .dataframe tbody tr th {\n",
              "        vertical-align: top;\n",
              "    }\n",
              "\n",
              "    .dataframe thead th {\n",
              "        text-align: right;\n",
              "    }\n",
              "</style>\n",
              "<table border=\"1\" class=\"dataframe\">\n",
              "  <thead>\n",
              "    <tr style=\"text-align: right;\">\n",
              "      <th></th>\n",
              "      <th>Itens</th>\n",
              "      <th>Quantidade</th>\n",
              "      <th>Preco Unidade</th>\n",
              "    </tr>\n",
              "  </thead>\n",
              "  <tbody>\n",
              "    <tr>\n",
              "      <th>0</th>\n",
              "      <td>Boné</td>\n",
              "      <td>1</td>\n",
              "      <td>60</td>\n",
              "    </tr>\n",
              "    <tr>\n",
              "      <th>1</th>\n",
              "      <td>Camiseta</td>\n",
              "      <td>5</td>\n",
              "      <td>270</td>\n",
              "    </tr>\n",
              "    <tr>\n",
              "      <th>2</th>\n",
              "      <td>Keds</td>\n",
              "      <td>3</td>\n",
              "      <td>250</td>\n",
              "    </tr>\n",
              "    <tr>\n",
              "      <th>3</th>\n",
              "      <td>Tênis Caminhada</td>\n",
              "      <td>6</td>\n",
              "      <td>750</td>\n",
              "    </tr>\n",
              "    <tr>\n",
              "      <th>4</th>\n",
              "      <td>Tênis Corrida</td>\n",
              "      <td>1</td>\n",
              "      <td>300</td>\n",
              "    </tr>\n",
              "  </tbody>\n",
              "</table>\n",
              "</div>"
            ],
            "text/plain": [
              "             Itens  Quantidade  Preco Unidade\n",
              "0             Boné           1             60\n",
              "1         Camiseta           5            270\n",
              "2             Keds           3            250\n",
              "3  Tênis Caminhada           6            750\n",
              "4    Tênis Corrida           1            300"
            ]
          },
          "metadata": {
            "tags": []
          },
          "execution_count": 39
        }
      ]
    },
    {
      "cell_type": "markdown",
      "metadata": {
        "id": "lvwz8YbFj3LI"
      },
      "source": [
        "# Combinações de Dados\n",
        "\n",
        "Muitas vezes você pode estar lidando com mais de uma tabela ou conjunto de dados. Assim, operações para combinar esses dados são muito úteis.\n",
        "\n",
        "Existem vários formas de combinar conjuntos de dados com Pandas. Aqui vamos nos concentrar nas operações de concatenação e de junções (joins) de dados. \n",
        "\n",
        "O código abaixo tem apenas a finalidade de produzir as exibições de dados a seguir e você não precisa se preocupar com ele. Nos exemplos que seguem vamos empregar os `DataFrames` `df1`, `df2` e `df3` como abaixo."
      ]
    },
    {
      "cell_type": "code",
      "metadata": {
        "id": "kg9FnDRJUYza"
      },
      "source": [
        "class display(object):\n",
        "    # Adaptado de https://jakevdp.github.io/PythonDataScienceHandbook/index.html\n",
        "    \"\"\"Display HTML representation of multiple objects\"\"\"\n",
        "    template = \"\"\"<div style=\"float: left; padding: 10px;\">\n",
        "    <hr>\n",
        "    <p style='font-family:\"Courier New\", Courier, monospace'>{0}</p><hr>{1}\n",
        "    </div>\"\"\"\n",
        "    def __init__(self, *args):\n",
        "        self.args = args\n",
        "        \n",
        "    def _repr_html_(self):\n",
        "        return '\\n'.join(self.template.format(a, eval(a)._repr_html_())\n",
        "                         for a in self.args)\n",
        "    \n",
        "    def __repr__(self):\n",
        "        return '\\n\\n'.join(a + '\\n' + repr(eval(a))\n",
        "                           for a in self.args)"
      ],
      "execution_count": null,
      "outputs": []
    },
    {
      "cell_type": "code",
      "metadata": {
        "colab": {
          "base_uri": "https://localhost:8080/",
          "height": 273
        },
        "id": "XsQTj0sFhi-T",
        "outputId": "857310c1-2f78-4d6b-ef2f-de3bf59dfc5e"
      },
      "source": [
        "import pandas as pd\n",
        "\n",
        "# Escola 1\n",
        "df = pd.DataFrame({'Nome': ['Adriana', 'Daniel', 'Henrique'],\n",
        "                   'Curso': ['Graduação','Graduação','Ensino Médio'],\n",
        "                   'Idade': [34, 25, 17]})\n",
        "\n",
        "# Escola 2\n",
        "df2 = pd.DataFrame({'Nome': ['Beatriz', 'Anna'],\n",
        "                   'Curso': ['Graduação', 'Ensino Médio'],\n",
        "                   'Idade': [34, 17],\n",
        "                   'Ingresso': [2018, 2020]})\n",
        "\n",
        "# Preferências\n",
        "df3 = pd.DataFrame({'Nome': ['Adriana', 'Daniel', 'Henrique', 'Beatriz', 'Anna'],\n",
        "                   'Musica': ['Rock', 'MPB', 'HipHop', 'Jazz', 'Jazz']})\n",
        "\n",
        "display('df', 'df2', 'df3')"
      ],
      "execution_count": null,
      "outputs": [
        {
          "output_type": "execute_result",
          "data": {
            "text/html": [
              "<div style=\"float: left; padding: 10px;\">\n",
              "    <hr>\n",
              "    <p style='font-family:\"Courier New\", Courier, monospace'>df</p><hr><div>\n",
              "<style scoped>\n",
              "    .dataframe tbody tr th:only-of-type {\n",
              "        vertical-align: middle;\n",
              "    }\n",
              "\n",
              "    .dataframe tbody tr th {\n",
              "        vertical-align: top;\n",
              "    }\n",
              "\n",
              "    .dataframe thead th {\n",
              "        text-align: right;\n",
              "    }\n",
              "</style>\n",
              "<table border=\"1\" class=\"dataframe\">\n",
              "  <thead>\n",
              "    <tr style=\"text-align: right;\">\n",
              "      <th></th>\n",
              "      <th>Nome</th>\n",
              "      <th>Curso</th>\n",
              "      <th>Idade</th>\n",
              "    </tr>\n",
              "  </thead>\n",
              "  <tbody>\n",
              "    <tr>\n",
              "      <th>0</th>\n",
              "      <td>Adriana</td>\n",
              "      <td>Graduação</td>\n",
              "      <td>34</td>\n",
              "    </tr>\n",
              "    <tr>\n",
              "      <th>1</th>\n",
              "      <td>Daniel</td>\n",
              "      <td>Graduação</td>\n",
              "      <td>25</td>\n",
              "    </tr>\n",
              "    <tr>\n",
              "      <th>2</th>\n",
              "      <td>Henrique</td>\n",
              "      <td>Ensino Médio</td>\n",
              "      <td>17</td>\n",
              "    </tr>\n",
              "  </tbody>\n",
              "</table>\n",
              "</div>\n",
              "    </div>\n",
              "<div style=\"float: left; padding: 10px;\">\n",
              "    <hr>\n",
              "    <p style='font-family:\"Courier New\", Courier, monospace'>df2</p><hr><div>\n",
              "<style scoped>\n",
              "    .dataframe tbody tr th:only-of-type {\n",
              "        vertical-align: middle;\n",
              "    }\n",
              "\n",
              "    .dataframe tbody tr th {\n",
              "        vertical-align: top;\n",
              "    }\n",
              "\n",
              "    .dataframe thead th {\n",
              "        text-align: right;\n",
              "    }\n",
              "</style>\n",
              "<table border=\"1\" class=\"dataframe\">\n",
              "  <thead>\n",
              "    <tr style=\"text-align: right;\">\n",
              "      <th></th>\n",
              "      <th>Nome</th>\n",
              "      <th>Curso</th>\n",
              "      <th>Idade</th>\n",
              "      <th>Ingresso</th>\n",
              "    </tr>\n",
              "  </thead>\n",
              "  <tbody>\n",
              "    <tr>\n",
              "      <th>0</th>\n",
              "      <td>Beatriz</td>\n",
              "      <td>Graduação</td>\n",
              "      <td>34</td>\n",
              "      <td>2018</td>\n",
              "    </tr>\n",
              "    <tr>\n",
              "      <th>1</th>\n",
              "      <td>Anna</td>\n",
              "      <td>Ensino Médio</td>\n",
              "      <td>17</td>\n",
              "      <td>2020</td>\n",
              "    </tr>\n",
              "  </tbody>\n",
              "</table>\n",
              "</div>\n",
              "    </div>\n",
              "<div style=\"float: left; padding: 10px;\">\n",
              "    <hr>\n",
              "    <p style='font-family:\"Courier New\", Courier, monospace'>df3</p><hr><div>\n",
              "<style scoped>\n",
              "    .dataframe tbody tr th:only-of-type {\n",
              "        vertical-align: middle;\n",
              "    }\n",
              "\n",
              "    .dataframe tbody tr th {\n",
              "        vertical-align: top;\n",
              "    }\n",
              "\n",
              "    .dataframe thead th {\n",
              "        text-align: right;\n",
              "    }\n",
              "</style>\n",
              "<table border=\"1\" class=\"dataframe\">\n",
              "  <thead>\n",
              "    <tr style=\"text-align: right;\">\n",
              "      <th></th>\n",
              "      <th>Nome</th>\n",
              "      <th>Musica</th>\n",
              "    </tr>\n",
              "  </thead>\n",
              "  <tbody>\n",
              "    <tr>\n",
              "      <th>0</th>\n",
              "      <td>Adriana</td>\n",
              "      <td>Rock</td>\n",
              "    </tr>\n",
              "    <tr>\n",
              "      <th>1</th>\n",
              "      <td>Daniel</td>\n",
              "      <td>MPB</td>\n",
              "    </tr>\n",
              "    <tr>\n",
              "      <th>2</th>\n",
              "      <td>Henrique</td>\n",
              "      <td>HipHop</td>\n",
              "    </tr>\n",
              "    <tr>\n",
              "      <th>3</th>\n",
              "      <td>Beatriz</td>\n",
              "      <td>Jazz</td>\n",
              "    </tr>\n",
              "    <tr>\n",
              "      <th>4</th>\n",
              "      <td>Anna</td>\n",
              "      <td>Jazz</td>\n",
              "    </tr>\n",
              "  </tbody>\n",
              "</table>\n",
              "</div>\n",
              "    </div>"
            ],
            "text/plain": [
              "df\n",
              "       Nome         Curso  Idade\n",
              "0   Adriana     Graduação     34\n",
              "1    Daniel     Graduação     25\n",
              "2  Henrique  Ensino Médio     17\n",
              "\n",
              "df2\n",
              "      Nome         Curso  Idade  Ingresso\n",
              "0  Beatriz     Graduação     34      2018\n",
              "1     Anna  Ensino Médio     17      2020\n",
              "\n",
              "df3\n",
              "       Nome  Musica\n",
              "0   Adriana    Rock\n",
              "1    Daniel     MPB\n",
              "2  Henrique  HipHop\n",
              "3   Beatriz    Jazz\n",
              "4      Anna    Jazz"
            ]
          },
          "metadata": {
            "tags": []
          },
          "execution_count": 41
        }
      ]
    },
    {
      "cell_type": "markdown",
      "metadata": {
        "id": "5q6bTWuUfvUs"
      },
      "source": [
        "## Concatenação\n",
        "\n",
        "Você pode concatenar tabelas de dados no sentido das linhas ou das colunas. O caso 'feliz' nessas operações é quando o número de colunas é o mesmo (concatenação  no sentido das linhas) ou quando o número de linhas é o mesmo (concatenação  no sentido das colunas)."
      ]
    },
    {
      "cell_type": "markdown",
      "metadata": {
        "id": "KICE2zgdlRcz"
      },
      "source": [
        "### `pd.concat([df1,df2], axis=0)`, concatena linhas"
      ]
    },
    {
      "cell_type": "code",
      "metadata": {
        "colab": {
          "base_uri": "https://localhost:8080/",
          "height": 273
        },
        "id": "yi2rUhOTmRYL",
        "outputId": "bbf6af5d-977d-4f3e-a017-ed98ebfbe4fe"
      },
      "source": [
        "df4 = df2[['Nome','Curso','Idade']] \n",
        "\n",
        "display('df', 'df4',\n",
        "        \"pd.concat([df,df4])\")"
      ],
      "execution_count": null,
      "outputs": [
        {
          "output_type": "execute_result",
          "data": {
            "text/html": [
              "<div style=\"float: left; padding: 10px;\">\n",
              "    <hr>\n",
              "    <p style='font-family:\"Courier New\", Courier, monospace'>df</p><hr><div>\n",
              "<style scoped>\n",
              "    .dataframe tbody tr th:only-of-type {\n",
              "        vertical-align: middle;\n",
              "    }\n",
              "\n",
              "    .dataframe tbody tr th {\n",
              "        vertical-align: top;\n",
              "    }\n",
              "\n",
              "    .dataframe thead th {\n",
              "        text-align: right;\n",
              "    }\n",
              "</style>\n",
              "<table border=\"1\" class=\"dataframe\">\n",
              "  <thead>\n",
              "    <tr style=\"text-align: right;\">\n",
              "      <th></th>\n",
              "      <th>Nome</th>\n",
              "      <th>Curso</th>\n",
              "      <th>Idade</th>\n",
              "    </tr>\n",
              "  </thead>\n",
              "  <tbody>\n",
              "    <tr>\n",
              "      <th>0</th>\n",
              "      <td>Adriana</td>\n",
              "      <td>Graduação</td>\n",
              "      <td>34</td>\n",
              "    </tr>\n",
              "    <tr>\n",
              "      <th>1</th>\n",
              "      <td>Daniel</td>\n",
              "      <td>Graduação</td>\n",
              "      <td>25</td>\n",
              "    </tr>\n",
              "    <tr>\n",
              "      <th>2</th>\n",
              "      <td>Henrique</td>\n",
              "      <td>Ensino Médio</td>\n",
              "      <td>17</td>\n",
              "    </tr>\n",
              "  </tbody>\n",
              "</table>\n",
              "</div>\n",
              "    </div>\n",
              "<div style=\"float: left; padding: 10px;\">\n",
              "    <hr>\n",
              "    <p style='font-family:\"Courier New\", Courier, monospace'>df4</p><hr><div>\n",
              "<style scoped>\n",
              "    .dataframe tbody tr th:only-of-type {\n",
              "        vertical-align: middle;\n",
              "    }\n",
              "\n",
              "    .dataframe tbody tr th {\n",
              "        vertical-align: top;\n",
              "    }\n",
              "\n",
              "    .dataframe thead th {\n",
              "        text-align: right;\n",
              "    }\n",
              "</style>\n",
              "<table border=\"1\" class=\"dataframe\">\n",
              "  <thead>\n",
              "    <tr style=\"text-align: right;\">\n",
              "      <th></th>\n",
              "      <th>Nome</th>\n",
              "      <th>Curso</th>\n",
              "      <th>Idade</th>\n",
              "    </tr>\n",
              "  </thead>\n",
              "  <tbody>\n",
              "    <tr>\n",
              "      <th>0</th>\n",
              "      <td>Beatriz</td>\n",
              "      <td>Graduação</td>\n",
              "      <td>34</td>\n",
              "    </tr>\n",
              "    <tr>\n",
              "      <th>1</th>\n",
              "      <td>Anna</td>\n",
              "      <td>Ensino Médio</td>\n",
              "      <td>17</td>\n",
              "    </tr>\n",
              "  </tbody>\n",
              "</table>\n",
              "</div>\n",
              "    </div>\n",
              "<div style=\"float: left; padding: 10px;\">\n",
              "    <hr>\n",
              "    <p style='font-family:\"Courier New\", Courier, monospace'>pd.concat([df,df4])</p><hr><div>\n",
              "<style scoped>\n",
              "    .dataframe tbody tr th:only-of-type {\n",
              "        vertical-align: middle;\n",
              "    }\n",
              "\n",
              "    .dataframe tbody tr th {\n",
              "        vertical-align: top;\n",
              "    }\n",
              "\n",
              "    .dataframe thead th {\n",
              "        text-align: right;\n",
              "    }\n",
              "</style>\n",
              "<table border=\"1\" class=\"dataframe\">\n",
              "  <thead>\n",
              "    <tr style=\"text-align: right;\">\n",
              "      <th></th>\n",
              "      <th>Nome</th>\n",
              "      <th>Curso</th>\n",
              "      <th>Idade</th>\n",
              "    </tr>\n",
              "  </thead>\n",
              "  <tbody>\n",
              "    <tr>\n",
              "      <th>0</th>\n",
              "      <td>Adriana</td>\n",
              "      <td>Graduação</td>\n",
              "      <td>34</td>\n",
              "    </tr>\n",
              "    <tr>\n",
              "      <th>1</th>\n",
              "      <td>Daniel</td>\n",
              "      <td>Graduação</td>\n",
              "      <td>25</td>\n",
              "    </tr>\n",
              "    <tr>\n",
              "      <th>2</th>\n",
              "      <td>Henrique</td>\n",
              "      <td>Ensino Médio</td>\n",
              "      <td>17</td>\n",
              "    </tr>\n",
              "    <tr>\n",
              "      <th>0</th>\n",
              "      <td>Beatriz</td>\n",
              "      <td>Graduação</td>\n",
              "      <td>34</td>\n",
              "    </tr>\n",
              "    <tr>\n",
              "      <th>1</th>\n",
              "      <td>Anna</td>\n",
              "      <td>Ensino Médio</td>\n",
              "      <td>17</td>\n",
              "    </tr>\n",
              "  </tbody>\n",
              "</table>\n",
              "</div>\n",
              "    </div>"
            ],
            "text/plain": [
              "df\n",
              "       Nome         Curso  Idade\n",
              "0   Adriana     Graduação     34\n",
              "1    Daniel     Graduação     25\n",
              "2  Henrique  Ensino Médio     17\n",
              "\n",
              "df4\n",
              "      Nome         Curso  Idade\n",
              "0  Beatriz     Graduação     34\n",
              "1     Anna  Ensino Médio     17\n",
              "\n",
              "pd.concat([df,df4])\n",
              "       Nome         Curso  Idade\n",
              "0   Adriana     Graduação     34\n",
              "1    Daniel     Graduação     25\n",
              "2  Henrique  Ensino Médio     17\n",
              "0   Beatriz     Graduação     34\n",
              "1      Anna  Ensino Médio     17"
            ]
          },
          "metadata": {
            "tags": []
          },
          "execution_count": 42
        }
      ]
    },
    {
      "cell_type": "markdown",
      "metadata": {
        "id": "jNhCfyeNnnjB"
      },
      "source": [
        "### `pd.concat([df1,df2], axis=1)`, concatena colunas\n"
      ]
    },
    {
      "cell_type": "code",
      "metadata": {
        "colab": {
          "base_uri": "https://localhost:8080/",
          "height": 211
        },
        "id": "MYgz9k7siZ3a",
        "outputId": "11b261e1-bb62-4a4a-84b1-4ac4f35b8d79"
      },
      "source": [
        "df5 = df3[['Musica']].head(3)\n",
        "\n",
        "display('df', 'df5',\n",
        "        \"pd.concat([df,df5],axis=1)\")\n",
        "\n"
      ],
      "execution_count": null,
      "outputs": [
        {
          "output_type": "execute_result",
          "data": {
            "text/html": [
              "<div style=\"float: left; padding: 10px;\">\n",
              "    <hr>\n",
              "    <p style='font-family:\"Courier New\", Courier, monospace'>df</p><hr><div>\n",
              "<style scoped>\n",
              "    .dataframe tbody tr th:only-of-type {\n",
              "        vertical-align: middle;\n",
              "    }\n",
              "\n",
              "    .dataframe tbody tr th {\n",
              "        vertical-align: top;\n",
              "    }\n",
              "\n",
              "    .dataframe thead th {\n",
              "        text-align: right;\n",
              "    }\n",
              "</style>\n",
              "<table border=\"1\" class=\"dataframe\">\n",
              "  <thead>\n",
              "    <tr style=\"text-align: right;\">\n",
              "      <th></th>\n",
              "      <th>Nome</th>\n",
              "      <th>Curso</th>\n",
              "      <th>Idade</th>\n",
              "    </tr>\n",
              "  </thead>\n",
              "  <tbody>\n",
              "    <tr>\n",
              "      <th>0</th>\n",
              "      <td>Adriana</td>\n",
              "      <td>Graduação</td>\n",
              "      <td>34</td>\n",
              "    </tr>\n",
              "    <tr>\n",
              "      <th>1</th>\n",
              "      <td>Daniel</td>\n",
              "      <td>Graduação</td>\n",
              "      <td>25</td>\n",
              "    </tr>\n",
              "    <tr>\n",
              "      <th>2</th>\n",
              "      <td>Henrique</td>\n",
              "      <td>Ensino Médio</td>\n",
              "      <td>17</td>\n",
              "    </tr>\n",
              "  </tbody>\n",
              "</table>\n",
              "</div>\n",
              "    </div>\n",
              "<div style=\"float: left; padding: 10px;\">\n",
              "    <hr>\n",
              "    <p style='font-family:\"Courier New\", Courier, monospace'>df5</p><hr><div>\n",
              "<style scoped>\n",
              "    .dataframe tbody tr th:only-of-type {\n",
              "        vertical-align: middle;\n",
              "    }\n",
              "\n",
              "    .dataframe tbody tr th {\n",
              "        vertical-align: top;\n",
              "    }\n",
              "\n",
              "    .dataframe thead th {\n",
              "        text-align: right;\n",
              "    }\n",
              "</style>\n",
              "<table border=\"1\" class=\"dataframe\">\n",
              "  <thead>\n",
              "    <tr style=\"text-align: right;\">\n",
              "      <th></th>\n",
              "      <th>Musica</th>\n",
              "    </tr>\n",
              "  </thead>\n",
              "  <tbody>\n",
              "    <tr>\n",
              "      <th>0</th>\n",
              "      <td>Rock</td>\n",
              "    </tr>\n",
              "    <tr>\n",
              "      <th>1</th>\n",
              "      <td>MPB</td>\n",
              "    </tr>\n",
              "    <tr>\n",
              "      <th>2</th>\n",
              "      <td>HipHop</td>\n",
              "    </tr>\n",
              "  </tbody>\n",
              "</table>\n",
              "</div>\n",
              "    </div>\n",
              "<div style=\"float: left; padding: 10px;\">\n",
              "    <hr>\n",
              "    <p style='font-family:\"Courier New\", Courier, monospace'>pd.concat([df,df5],axis=1)</p><hr><div>\n",
              "<style scoped>\n",
              "    .dataframe tbody tr th:only-of-type {\n",
              "        vertical-align: middle;\n",
              "    }\n",
              "\n",
              "    .dataframe tbody tr th {\n",
              "        vertical-align: top;\n",
              "    }\n",
              "\n",
              "    .dataframe thead th {\n",
              "        text-align: right;\n",
              "    }\n",
              "</style>\n",
              "<table border=\"1\" class=\"dataframe\">\n",
              "  <thead>\n",
              "    <tr style=\"text-align: right;\">\n",
              "      <th></th>\n",
              "      <th>Nome</th>\n",
              "      <th>Curso</th>\n",
              "      <th>Idade</th>\n",
              "      <th>Musica</th>\n",
              "    </tr>\n",
              "  </thead>\n",
              "  <tbody>\n",
              "    <tr>\n",
              "      <th>0</th>\n",
              "      <td>Adriana</td>\n",
              "      <td>Graduação</td>\n",
              "      <td>34</td>\n",
              "      <td>Rock</td>\n",
              "    </tr>\n",
              "    <tr>\n",
              "      <th>1</th>\n",
              "      <td>Daniel</td>\n",
              "      <td>Graduação</td>\n",
              "      <td>25</td>\n",
              "      <td>MPB</td>\n",
              "    </tr>\n",
              "    <tr>\n",
              "      <th>2</th>\n",
              "      <td>Henrique</td>\n",
              "      <td>Ensino Médio</td>\n",
              "      <td>17</td>\n",
              "      <td>HipHop</td>\n",
              "    </tr>\n",
              "  </tbody>\n",
              "</table>\n",
              "</div>\n",
              "    </div>"
            ],
            "text/plain": [
              "df\n",
              "       Nome         Curso  Idade\n",
              "0   Adriana     Graduação     34\n",
              "1    Daniel     Graduação     25\n",
              "2  Henrique  Ensino Médio     17\n",
              "\n",
              "df5\n",
              "   Musica\n",
              "0    Rock\n",
              "1     MPB\n",
              "2  HipHop\n",
              "\n",
              "pd.concat([df,df5],axis=1)\n",
              "       Nome         Curso  Idade  Musica\n",
              "0   Adriana     Graduação     34    Rock\n",
              "1    Daniel     Graduação     25     MPB\n",
              "2  Henrique  Ensino Médio     17  HipHop"
            ]
          },
          "metadata": {
            "tags": []
          },
          "execution_count": 43
        }
      ]
    },
    {
      "cell_type": "markdown",
      "metadata": {
        "id": "zmoWndP6n39J"
      },
      "source": [
        "No caso de não termos as quantidades de linhas ou colunas iguais conforme o sentido da combinação, os valores ausentes são preenchidos com NaN."
      ]
    },
    {
      "cell_type": "code",
      "metadata": {
        "colab": {
          "base_uri": "https://localhost:8080/",
          "height": 273
        },
        "id": "bQvPuDvCoN7O",
        "outputId": "f5c14dc5-f260-4395-ee9d-8d58b342f950"
      },
      "source": [
        "display('df', 'df2',\n",
        "        \"pd.concat([df,df2])\")"
      ],
      "execution_count": null,
      "outputs": [
        {
          "output_type": "execute_result",
          "data": {
            "text/html": [
              "<div style=\"float: left; padding: 10px;\">\n",
              "    <hr>\n",
              "    <p style='font-family:\"Courier New\", Courier, monospace'>df</p><hr><div>\n",
              "<style scoped>\n",
              "    .dataframe tbody tr th:only-of-type {\n",
              "        vertical-align: middle;\n",
              "    }\n",
              "\n",
              "    .dataframe tbody tr th {\n",
              "        vertical-align: top;\n",
              "    }\n",
              "\n",
              "    .dataframe thead th {\n",
              "        text-align: right;\n",
              "    }\n",
              "</style>\n",
              "<table border=\"1\" class=\"dataframe\">\n",
              "  <thead>\n",
              "    <tr style=\"text-align: right;\">\n",
              "      <th></th>\n",
              "      <th>Nome</th>\n",
              "      <th>Curso</th>\n",
              "      <th>Idade</th>\n",
              "    </tr>\n",
              "  </thead>\n",
              "  <tbody>\n",
              "    <tr>\n",
              "      <th>0</th>\n",
              "      <td>Adriana</td>\n",
              "      <td>Graduação</td>\n",
              "      <td>34</td>\n",
              "    </tr>\n",
              "    <tr>\n",
              "      <th>1</th>\n",
              "      <td>Daniel</td>\n",
              "      <td>Graduação</td>\n",
              "      <td>25</td>\n",
              "    </tr>\n",
              "    <tr>\n",
              "      <th>2</th>\n",
              "      <td>Henrique</td>\n",
              "      <td>Ensino Médio</td>\n",
              "      <td>17</td>\n",
              "    </tr>\n",
              "  </tbody>\n",
              "</table>\n",
              "</div>\n",
              "    </div>\n",
              "<div style=\"float: left; padding: 10px;\">\n",
              "    <hr>\n",
              "    <p style='font-family:\"Courier New\", Courier, monospace'>df2</p><hr><div>\n",
              "<style scoped>\n",
              "    .dataframe tbody tr th:only-of-type {\n",
              "        vertical-align: middle;\n",
              "    }\n",
              "\n",
              "    .dataframe tbody tr th {\n",
              "        vertical-align: top;\n",
              "    }\n",
              "\n",
              "    .dataframe thead th {\n",
              "        text-align: right;\n",
              "    }\n",
              "</style>\n",
              "<table border=\"1\" class=\"dataframe\">\n",
              "  <thead>\n",
              "    <tr style=\"text-align: right;\">\n",
              "      <th></th>\n",
              "      <th>Nome</th>\n",
              "      <th>Curso</th>\n",
              "      <th>Idade</th>\n",
              "      <th>Ingresso</th>\n",
              "    </tr>\n",
              "  </thead>\n",
              "  <tbody>\n",
              "    <tr>\n",
              "      <th>0</th>\n",
              "      <td>Beatriz</td>\n",
              "      <td>Graduação</td>\n",
              "      <td>34</td>\n",
              "      <td>2018</td>\n",
              "    </tr>\n",
              "    <tr>\n",
              "      <th>1</th>\n",
              "      <td>Anna</td>\n",
              "      <td>Ensino Médio</td>\n",
              "      <td>17</td>\n",
              "      <td>2020</td>\n",
              "    </tr>\n",
              "  </tbody>\n",
              "</table>\n",
              "</div>\n",
              "    </div>\n",
              "<div style=\"float: left; padding: 10px;\">\n",
              "    <hr>\n",
              "    <p style='font-family:\"Courier New\", Courier, monospace'>pd.concat([df,df2])</p><hr><div>\n",
              "<style scoped>\n",
              "    .dataframe tbody tr th:only-of-type {\n",
              "        vertical-align: middle;\n",
              "    }\n",
              "\n",
              "    .dataframe tbody tr th {\n",
              "        vertical-align: top;\n",
              "    }\n",
              "\n",
              "    .dataframe thead th {\n",
              "        text-align: right;\n",
              "    }\n",
              "</style>\n",
              "<table border=\"1\" class=\"dataframe\">\n",
              "  <thead>\n",
              "    <tr style=\"text-align: right;\">\n",
              "      <th></th>\n",
              "      <th>Nome</th>\n",
              "      <th>Curso</th>\n",
              "      <th>Idade</th>\n",
              "      <th>Ingresso</th>\n",
              "    </tr>\n",
              "  </thead>\n",
              "  <tbody>\n",
              "    <tr>\n",
              "      <th>0</th>\n",
              "      <td>Adriana</td>\n",
              "      <td>Graduação</td>\n",
              "      <td>34</td>\n",
              "      <td>NaN</td>\n",
              "    </tr>\n",
              "    <tr>\n",
              "      <th>1</th>\n",
              "      <td>Daniel</td>\n",
              "      <td>Graduação</td>\n",
              "      <td>25</td>\n",
              "      <td>NaN</td>\n",
              "    </tr>\n",
              "    <tr>\n",
              "      <th>2</th>\n",
              "      <td>Henrique</td>\n",
              "      <td>Ensino Médio</td>\n",
              "      <td>17</td>\n",
              "      <td>NaN</td>\n",
              "    </tr>\n",
              "    <tr>\n",
              "      <th>0</th>\n",
              "      <td>Beatriz</td>\n",
              "      <td>Graduação</td>\n",
              "      <td>34</td>\n",
              "      <td>2018.0</td>\n",
              "    </tr>\n",
              "    <tr>\n",
              "      <th>1</th>\n",
              "      <td>Anna</td>\n",
              "      <td>Ensino Médio</td>\n",
              "      <td>17</td>\n",
              "      <td>2020.0</td>\n",
              "    </tr>\n",
              "  </tbody>\n",
              "</table>\n",
              "</div>\n",
              "    </div>"
            ],
            "text/plain": [
              "df\n",
              "       Nome         Curso  Idade\n",
              "0   Adriana     Graduação     34\n",
              "1    Daniel     Graduação     25\n",
              "2  Henrique  Ensino Médio     17\n",
              "\n",
              "df2\n",
              "      Nome         Curso  Idade  Ingresso\n",
              "0  Beatriz     Graduação     34      2018\n",
              "1     Anna  Ensino Médio     17      2020\n",
              "\n",
              "pd.concat([df,df2])\n",
              "       Nome         Curso  Idade  Ingresso\n",
              "0   Adriana     Graduação     34       NaN\n",
              "1    Daniel     Graduação     25       NaN\n",
              "2  Henrique  Ensino Médio     17       NaN\n",
              "0   Beatriz     Graduação     34    2018.0\n",
              "1      Anna  Ensino Médio     17    2020.0"
            ]
          },
          "metadata": {
            "tags": []
          },
          "execution_count": 44
        }
      ]
    },
    {
      "cell_type": "markdown",
      "metadata": {
        "id": "AvMIcCuRoRRb"
      },
      "source": [
        "Essa operação, embora possa ser usada desse modo. Mas, a menos que os conjuntos de dados tenham índices únicos e distintos, pode gerar índices duplicados como você pode ver acima. Neste caso pode ser útil redefinir o índice como abaixo. "
      ]
    },
    {
      "cell_type": "code",
      "metadata": {
        "colab": {
          "base_uri": "https://localhost:8080/",
          "height": 273
        },
        "id": "GJaTMll6jHwS",
        "outputId": "14e1f073-ae65-48ca-923b-49250eccf2ff"
      },
      "source": [
        "display('df', 'df2',\n",
        "        \"pd.concat([df,df2]).reset_index(drop=True)\")\n",
        "\n"
      ],
      "execution_count": null,
      "outputs": [
        {
          "output_type": "execute_result",
          "data": {
            "text/html": [
              "<div style=\"float: left; padding: 10px;\">\n",
              "    <hr>\n",
              "    <p style='font-family:\"Courier New\", Courier, monospace'>df</p><hr><div>\n",
              "<style scoped>\n",
              "    .dataframe tbody tr th:only-of-type {\n",
              "        vertical-align: middle;\n",
              "    }\n",
              "\n",
              "    .dataframe tbody tr th {\n",
              "        vertical-align: top;\n",
              "    }\n",
              "\n",
              "    .dataframe thead th {\n",
              "        text-align: right;\n",
              "    }\n",
              "</style>\n",
              "<table border=\"1\" class=\"dataframe\">\n",
              "  <thead>\n",
              "    <tr style=\"text-align: right;\">\n",
              "      <th></th>\n",
              "      <th>Nome</th>\n",
              "      <th>Curso</th>\n",
              "      <th>Idade</th>\n",
              "    </tr>\n",
              "  </thead>\n",
              "  <tbody>\n",
              "    <tr>\n",
              "      <th>0</th>\n",
              "      <td>Adriana</td>\n",
              "      <td>Graduação</td>\n",
              "      <td>34</td>\n",
              "    </tr>\n",
              "    <tr>\n",
              "      <th>1</th>\n",
              "      <td>Daniel</td>\n",
              "      <td>Graduação</td>\n",
              "      <td>25</td>\n",
              "    </tr>\n",
              "    <tr>\n",
              "      <th>2</th>\n",
              "      <td>Henrique</td>\n",
              "      <td>Ensino Médio</td>\n",
              "      <td>17</td>\n",
              "    </tr>\n",
              "  </tbody>\n",
              "</table>\n",
              "</div>\n",
              "    </div>\n",
              "<div style=\"float: left; padding: 10px;\">\n",
              "    <hr>\n",
              "    <p style='font-family:\"Courier New\", Courier, monospace'>df2</p><hr><div>\n",
              "<style scoped>\n",
              "    .dataframe tbody tr th:only-of-type {\n",
              "        vertical-align: middle;\n",
              "    }\n",
              "\n",
              "    .dataframe tbody tr th {\n",
              "        vertical-align: top;\n",
              "    }\n",
              "\n",
              "    .dataframe thead th {\n",
              "        text-align: right;\n",
              "    }\n",
              "</style>\n",
              "<table border=\"1\" class=\"dataframe\">\n",
              "  <thead>\n",
              "    <tr style=\"text-align: right;\">\n",
              "      <th></th>\n",
              "      <th>Nome</th>\n",
              "      <th>Curso</th>\n",
              "      <th>Idade</th>\n",
              "      <th>Ingresso</th>\n",
              "    </tr>\n",
              "  </thead>\n",
              "  <tbody>\n",
              "    <tr>\n",
              "      <th>0</th>\n",
              "      <td>Beatriz</td>\n",
              "      <td>Graduação</td>\n",
              "      <td>34</td>\n",
              "      <td>2018</td>\n",
              "    </tr>\n",
              "    <tr>\n",
              "      <th>1</th>\n",
              "      <td>Anna</td>\n",
              "      <td>Ensino Médio</td>\n",
              "      <td>17</td>\n",
              "      <td>2020</td>\n",
              "    </tr>\n",
              "  </tbody>\n",
              "</table>\n",
              "</div>\n",
              "    </div>\n",
              "<div style=\"float: left; padding: 10px;\">\n",
              "    <hr>\n",
              "    <p style='font-family:\"Courier New\", Courier, monospace'>pd.concat([df,df2]).reset_index(drop=True)</p><hr><div>\n",
              "<style scoped>\n",
              "    .dataframe tbody tr th:only-of-type {\n",
              "        vertical-align: middle;\n",
              "    }\n",
              "\n",
              "    .dataframe tbody tr th {\n",
              "        vertical-align: top;\n",
              "    }\n",
              "\n",
              "    .dataframe thead th {\n",
              "        text-align: right;\n",
              "    }\n",
              "</style>\n",
              "<table border=\"1\" class=\"dataframe\">\n",
              "  <thead>\n",
              "    <tr style=\"text-align: right;\">\n",
              "      <th></th>\n",
              "      <th>Nome</th>\n",
              "      <th>Curso</th>\n",
              "      <th>Idade</th>\n",
              "      <th>Ingresso</th>\n",
              "    </tr>\n",
              "  </thead>\n",
              "  <tbody>\n",
              "    <tr>\n",
              "      <th>0</th>\n",
              "      <td>Adriana</td>\n",
              "      <td>Graduação</td>\n",
              "      <td>34</td>\n",
              "      <td>NaN</td>\n",
              "    </tr>\n",
              "    <tr>\n",
              "      <th>1</th>\n",
              "      <td>Daniel</td>\n",
              "      <td>Graduação</td>\n",
              "      <td>25</td>\n",
              "      <td>NaN</td>\n",
              "    </tr>\n",
              "    <tr>\n",
              "      <th>2</th>\n",
              "      <td>Henrique</td>\n",
              "      <td>Ensino Médio</td>\n",
              "      <td>17</td>\n",
              "      <td>NaN</td>\n",
              "    </tr>\n",
              "    <tr>\n",
              "      <th>3</th>\n",
              "      <td>Beatriz</td>\n",
              "      <td>Graduação</td>\n",
              "      <td>34</td>\n",
              "      <td>2018.0</td>\n",
              "    </tr>\n",
              "    <tr>\n",
              "      <th>4</th>\n",
              "      <td>Anna</td>\n",
              "      <td>Ensino Médio</td>\n",
              "      <td>17</td>\n",
              "      <td>2020.0</td>\n",
              "    </tr>\n",
              "  </tbody>\n",
              "</table>\n",
              "</div>\n",
              "    </div>"
            ],
            "text/plain": [
              "df\n",
              "       Nome         Curso  Idade\n",
              "0   Adriana     Graduação     34\n",
              "1    Daniel     Graduação     25\n",
              "2  Henrique  Ensino Médio     17\n",
              "\n",
              "df2\n",
              "      Nome         Curso  Idade  Ingresso\n",
              "0  Beatriz     Graduação     34      2018\n",
              "1     Anna  Ensino Médio     17      2020\n",
              "\n",
              "pd.concat([df,df2]).reset_index(drop=True)\n",
              "       Nome         Curso  Idade  Ingresso\n",
              "0   Adriana     Graduação     34       NaN\n",
              "1    Daniel     Graduação     25       NaN\n",
              "2  Henrique  Ensino Médio     17       NaN\n",
              "3   Beatriz     Graduação     34    2018.0\n",
              "4      Anna  Ensino Médio     17    2020.0"
            ]
          },
          "metadata": {
            "tags": []
          },
          "execution_count": 45
        }
      ]
    },
    {
      "cell_type": "markdown",
      "metadata": {
        "id": "u-yydeXUonKT"
      },
      "source": [
        "Problema semelhante pode ocorrer com a concatenação de colunas de dados quanto existem nomes de atributos (colunas) duplicados."
      ]
    },
    {
      "cell_type": "code",
      "metadata": {
        "colab": {
          "base_uri": "https://localhost:8080/",
          "height": 211
        },
        "id": "yYQt0ZgHjZea",
        "outputId": "ab4af4c1-669e-4d3e-f2b9-dc5a366fa4cf"
      },
      "source": [
        "display('df', 'df2',\n",
        "        \"pd.concat([df,df2],axis=1)\")"
      ],
      "execution_count": null,
      "outputs": [
        {
          "output_type": "execute_result",
          "data": {
            "text/html": [
              "<div style=\"float: left; padding: 10px;\">\n",
              "    <hr>\n",
              "    <p style='font-family:\"Courier New\", Courier, monospace'>df</p><hr><div>\n",
              "<style scoped>\n",
              "    .dataframe tbody tr th:only-of-type {\n",
              "        vertical-align: middle;\n",
              "    }\n",
              "\n",
              "    .dataframe tbody tr th {\n",
              "        vertical-align: top;\n",
              "    }\n",
              "\n",
              "    .dataframe thead th {\n",
              "        text-align: right;\n",
              "    }\n",
              "</style>\n",
              "<table border=\"1\" class=\"dataframe\">\n",
              "  <thead>\n",
              "    <tr style=\"text-align: right;\">\n",
              "      <th></th>\n",
              "      <th>Nome</th>\n",
              "      <th>Curso</th>\n",
              "      <th>Idade</th>\n",
              "    </tr>\n",
              "  </thead>\n",
              "  <tbody>\n",
              "    <tr>\n",
              "      <th>0</th>\n",
              "      <td>Adriana</td>\n",
              "      <td>Graduação</td>\n",
              "      <td>34</td>\n",
              "    </tr>\n",
              "    <tr>\n",
              "      <th>1</th>\n",
              "      <td>Daniel</td>\n",
              "      <td>Graduação</td>\n",
              "      <td>25</td>\n",
              "    </tr>\n",
              "    <tr>\n",
              "      <th>2</th>\n",
              "      <td>Henrique</td>\n",
              "      <td>Ensino Médio</td>\n",
              "      <td>17</td>\n",
              "    </tr>\n",
              "  </tbody>\n",
              "</table>\n",
              "</div>\n",
              "    </div>\n",
              "<div style=\"float: left; padding: 10px;\">\n",
              "    <hr>\n",
              "    <p style='font-family:\"Courier New\", Courier, monospace'>df2</p><hr><div>\n",
              "<style scoped>\n",
              "    .dataframe tbody tr th:only-of-type {\n",
              "        vertical-align: middle;\n",
              "    }\n",
              "\n",
              "    .dataframe tbody tr th {\n",
              "        vertical-align: top;\n",
              "    }\n",
              "\n",
              "    .dataframe thead th {\n",
              "        text-align: right;\n",
              "    }\n",
              "</style>\n",
              "<table border=\"1\" class=\"dataframe\">\n",
              "  <thead>\n",
              "    <tr style=\"text-align: right;\">\n",
              "      <th></th>\n",
              "      <th>Nome</th>\n",
              "      <th>Curso</th>\n",
              "      <th>Idade</th>\n",
              "      <th>Ingresso</th>\n",
              "    </tr>\n",
              "  </thead>\n",
              "  <tbody>\n",
              "    <tr>\n",
              "      <th>0</th>\n",
              "      <td>Beatriz</td>\n",
              "      <td>Graduação</td>\n",
              "      <td>34</td>\n",
              "      <td>2018</td>\n",
              "    </tr>\n",
              "    <tr>\n",
              "      <th>1</th>\n",
              "      <td>Anna</td>\n",
              "      <td>Ensino Médio</td>\n",
              "      <td>17</td>\n",
              "      <td>2020</td>\n",
              "    </tr>\n",
              "  </tbody>\n",
              "</table>\n",
              "</div>\n",
              "    </div>\n",
              "<div style=\"float: left; padding: 10px;\">\n",
              "    <hr>\n",
              "    <p style='font-family:\"Courier New\", Courier, monospace'>pd.concat([df,df2],axis=1)</p><hr><div>\n",
              "<style scoped>\n",
              "    .dataframe tbody tr th:only-of-type {\n",
              "        vertical-align: middle;\n",
              "    }\n",
              "\n",
              "    .dataframe tbody tr th {\n",
              "        vertical-align: top;\n",
              "    }\n",
              "\n",
              "    .dataframe thead th {\n",
              "        text-align: right;\n",
              "    }\n",
              "</style>\n",
              "<table border=\"1\" class=\"dataframe\">\n",
              "  <thead>\n",
              "    <tr style=\"text-align: right;\">\n",
              "      <th></th>\n",
              "      <th>Nome</th>\n",
              "      <th>Curso</th>\n",
              "      <th>Idade</th>\n",
              "      <th>Nome</th>\n",
              "      <th>Curso</th>\n",
              "      <th>Idade</th>\n",
              "      <th>Ingresso</th>\n",
              "    </tr>\n",
              "  </thead>\n",
              "  <tbody>\n",
              "    <tr>\n",
              "      <th>0</th>\n",
              "      <td>Adriana</td>\n",
              "      <td>Graduação</td>\n",
              "      <td>34</td>\n",
              "      <td>Beatriz</td>\n",
              "      <td>Graduação</td>\n",
              "      <td>34.0</td>\n",
              "      <td>2018.0</td>\n",
              "    </tr>\n",
              "    <tr>\n",
              "      <th>1</th>\n",
              "      <td>Daniel</td>\n",
              "      <td>Graduação</td>\n",
              "      <td>25</td>\n",
              "      <td>Anna</td>\n",
              "      <td>Ensino Médio</td>\n",
              "      <td>17.0</td>\n",
              "      <td>2020.0</td>\n",
              "    </tr>\n",
              "    <tr>\n",
              "      <th>2</th>\n",
              "      <td>Henrique</td>\n",
              "      <td>Ensino Médio</td>\n",
              "      <td>17</td>\n",
              "      <td>NaN</td>\n",
              "      <td>NaN</td>\n",
              "      <td>NaN</td>\n",
              "      <td>NaN</td>\n",
              "    </tr>\n",
              "  </tbody>\n",
              "</table>\n",
              "</div>\n",
              "    </div>"
            ],
            "text/plain": [
              "df\n",
              "       Nome         Curso  Idade\n",
              "0   Adriana     Graduação     34\n",
              "1    Daniel     Graduação     25\n",
              "2  Henrique  Ensino Médio     17\n",
              "\n",
              "df2\n",
              "      Nome         Curso  Idade  Ingresso\n",
              "0  Beatriz     Graduação     34      2018\n",
              "1     Anna  Ensino Médio     17      2020\n",
              "\n",
              "pd.concat([df,df2],axis=1)\n",
              "       Nome         Curso  Idade     Nome         Curso  Idade  Ingresso\n",
              "0   Adriana     Graduação     34  Beatriz     Graduação   34.0    2018.0\n",
              "1    Daniel     Graduação     25     Anna  Ensino Médio   17.0    2020.0\n",
              "2  Henrique  Ensino Médio     17      NaN           NaN    NaN       NaN"
            ]
          },
          "metadata": {
            "tags": []
          },
          "execution_count": 46
        }
      ]
    },
    {
      "cell_type": "markdown",
      "metadata": {
        "id": "8RPXG1gaosRd"
      },
      "source": [
        "Com o mesmo nome os atributos não podem ser diferenciados e precisamos usar a *localização* dos atributos se quisermos recuperá-los (uma forma que não detalharemos aqui em detalhe)."
      ]
    },
    {
      "cell_type": "code",
      "metadata": {
        "colab": {
          "base_uri": "https://localhost:8080/",
          "height": 142
        },
        "id": "QfsYUGChjfQW",
        "outputId": "9b404fad-296e-4957-975a-9ff660de90e8"
      },
      "source": [
        "df3 = pd.concat([df,df2],axis=1)\n",
        "df3['Nome']"
      ],
      "execution_count": null,
      "outputs": [
        {
          "output_type": "execute_result",
          "data": {
            "text/html": [
              "<div>\n",
              "<style scoped>\n",
              "    .dataframe tbody tr th:only-of-type {\n",
              "        vertical-align: middle;\n",
              "    }\n",
              "\n",
              "    .dataframe tbody tr th {\n",
              "        vertical-align: top;\n",
              "    }\n",
              "\n",
              "    .dataframe thead th {\n",
              "        text-align: right;\n",
              "    }\n",
              "</style>\n",
              "<table border=\"1\" class=\"dataframe\">\n",
              "  <thead>\n",
              "    <tr style=\"text-align: right;\">\n",
              "      <th></th>\n",
              "      <th>Nome</th>\n",
              "      <th>Nome</th>\n",
              "    </tr>\n",
              "  </thead>\n",
              "  <tbody>\n",
              "    <tr>\n",
              "      <th>0</th>\n",
              "      <td>Adriana</td>\n",
              "      <td>Beatriz</td>\n",
              "    </tr>\n",
              "    <tr>\n",
              "      <th>1</th>\n",
              "      <td>Daniel</td>\n",
              "      <td>Anna</td>\n",
              "    </tr>\n",
              "    <tr>\n",
              "      <th>2</th>\n",
              "      <td>Henrique</td>\n",
              "      <td>NaN</td>\n",
              "    </tr>\n",
              "  </tbody>\n",
              "</table>\n",
              "</div>"
            ],
            "text/plain": [
              "       Nome     Nome\n",
              "0   Adriana  Beatriz\n",
              "1    Daniel     Anna\n",
              "2  Henrique      NaN"
            ]
          },
          "metadata": {
            "tags": []
          },
          "execution_count": 47
        }
      ]
    },
    {
      "cell_type": "code",
      "metadata": {
        "colab": {
          "base_uri": "https://localhost:8080/"
        },
        "id": "EDoFQCFgjqh8",
        "outputId": "7f3ffe0e-2afa-4be1-d52e-e6139cb02ec9"
      },
      "source": [
        "print(df3.loc[0][0])\n",
        "print(df3.loc[0][3])"
      ],
      "execution_count": null,
      "outputs": [
        {
          "output_type": "stream",
          "text": [
            "Adriana\n",
            "Beatriz\n"
          ],
          "name": "stdout"
        }
      ]
    },
    {
      "cell_type": "markdown",
      "metadata": {
        "id": "Ze1D7zmHiXEU"
      },
      "source": [
        "A solução mais simples para isso é simplesmente fazer o rename das colunas após a operação. Isso pode ser feito do modo abaixo, ou você pode empregar o método `df.remane(columns=...)`. "
      ]
    },
    {
      "cell_type": "code",
      "metadata": {
        "colab": {
          "base_uri": "https://localhost:8080/",
          "height": 142
        },
        "id": "ksF0F-8do60L",
        "outputId": "1ea0b3cd-2fbd-4541-c6e7-2c4c027d3a6f"
      },
      "source": [
        "df3.columns = ['Nome', 'Curso', 'Idade', 'Nome2', 'Curso2', 'Idade2', 'Ingresso']\n",
        "df3"
      ],
      "execution_count": null,
      "outputs": [
        {
          "output_type": "execute_result",
          "data": {
            "text/html": [
              "<div>\n",
              "<style scoped>\n",
              "    .dataframe tbody tr th:only-of-type {\n",
              "        vertical-align: middle;\n",
              "    }\n",
              "\n",
              "    .dataframe tbody tr th {\n",
              "        vertical-align: top;\n",
              "    }\n",
              "\n",
              "    .dataframe thead th {\n",
              "        text-align: right;\n",
              "    }\n",
              "</style>\n",
              "<table border=\"1\" class=\"dataframe\">\n",
              "  <thead>\n",
              "    <tr style=\"text-align: right;\">\n",
              "      <th></th>\n",
              "      <th>Nome</th>\n",
              "      <th>Curso</th>\n",
              "      <th>Idade</th>\n",
              "      <th>Nome2</th>\n",
              "      <th>Curso2</th>\n",
              "      <th>Idade2</th>\n",
              "      <th>Ingresso</th>\n",
              "    </tr>\n",
              "  </thead>\n",
              "  <tbody>\n",
              "    <tr>\n",
              "      <th>0</th>\n",
              "      <td>Adriana</td>\n",
              "      <td>Graduação</td>\n",
              "      <td>34</td>\n",
              "      <td>Beatriz</td>\n",
              "      <td>Graduação</td>\n",
              "      <td>34.0</td>\n",
              "      <td>2018.0</td>\n",
              "    </tr>\n",
              "    <tr>\n",
              "      <th>1</th>\n",
              "      <td>Daniel</td>\n",
              "      <td>Graduação</td>\n",
              "      <td>25</td>\n",
              "      <td>Anna</td>\n",
              "      <td>Ensino Médio</td>\n",
              "      <td>17.0</td>\n",
              "      <td>2020.0</td>\n",
              "    </tr>\n",
              "    <tr>\n",
              "      <th>2</th>\n",
              "      <td>Henrique</td>\n",
              "      <td>Ensino Médio</td>\n",
              "      <td>17</td>\n",
              "      <td>NaN</td>\n",
              "      <td>NaN</td>\n",
              "      <td>NaN</td>\n",
              "      <td>NaN</td>\n",
              "    </tr>\n",
              "  </tbody>\n",
              "</table>\n",
              "</div>"
            ],
            "text/plain": [
              "       Nome         Curso  Idade    Nome2        Curso2  Idade2  Ingresso\n",
              "0   Adriana     Graduação     34  Beatriz     Graduação    34.0    2018.0\n",
              "1    Daniel     Graduação     25     Anna  Ensino Médio    17.0    2020.0\n",
              "2  Henrique  Ensino Médio     17      NaN           NaN     NaN       NaN"
            ]
          },
          "metadata": {
            "tags": []
          },
          "execution_count": 49
        }
      ]
    },
    {
      "cell_type": "markdown",
      "metadata": {
        "id": "AXZ22SZjpk1b"
      },
      "source": [
        "O comando `concat` ainda pode ser empregado com o parâmetro `inneer`, `pd.concat([df1,df2], axis=0|1, join='inner')`, que concatena linhas ou colunas\n",
        "mas garante que somente os elementos *inner* (mesmas colunas ou índices), dentro das duas tabelas participarão da concatenação. Não nos deteremos sobre esses comandos aqui, mas você pode experimentar a execução deles e ver os resultados obtidos. Mas atenção, não confunda essa operação com a junção de dados. Os Joins é o que veremos a seguir."
      ]
    },
    {
      "cell_type": "markdown",
      "metadata": {
        "id": "ukcE1wH4Q764"
      },
      "source": [
        "## Junções \n",
        "\n",
        "As junções empregam um atributo *chave* para *match* ou junção dos dados e desempenham um papel muito importante na combinações de diferentes dados. Aqui as operações seguem o mesmo princípio dos joins da SQL e os seus resultados também são novos `DataFrames`, incluindo os conceitos *inner* e *outter* joins.  \n",
        "\n",
        "Temos 3 tipos de junções:\n",
        "\n",
        "> * **Inner**, incluímos somente linhas com *match* das chaves nas duas tabelas\n",
        "> * **Outter**, incluímos linhas independente do *match* das chaves nas duas tabelas\n",
        ">> * **Left**, incluímos linhas com *match* das chaves nas duas tabelas + linhas da tabela à esquerda independente de match\n",
        ">> * **Right**, incluímos linhas com *match* das chaves nas duas tabelas + linhas da tabela à direita independente de *match*\n",
        "\n"
      ]
    },
    {
      "cell_type": "markdown",
      "metadata": {
        "id": "A1DM68hdoaz-"
      },
      "source": [
        "### `Inner Joins`"
      ]
    },
    {
      "cell_type": "code",
      "metadata": {
        "id": "M1VjLSiIoaJM"
      },
      "source": [
        ""
      ],
      "execution_count": null,
      "outputs": []
    },
    {
      "cell_type": "code",
      "metadata": {
        "id": "kadvJQGQrLQZ",
        "colab": {
          "base_uri": "https://localhost:8080/",
          "height": 242
        },
        "outputId": "24184fea-46da-48aa-c76d-3112c9fb7512"
      },
      "source": [
        "df1 = pd.DataFrame({'employee': ['Bob', 'Jake', 'Lisa', 'Sue'],\n",
        "                    'group': ['Accounting', 'Engineering', 'Engineering', 'HR']})\n",
        "df2 = pd.DataFrame({'employee': ['Lisa', 'Bob', 'Jake', 'Sue'],\n",
        "                    'hire_date': [2004, 2008, 2012, 2014]})\n",
        "df3 = pd.DataFrame({'group': ['Accounting', 'Engineering', 'HR'],\n",
        "                    'supervisor': ['Carly', 'Guido', 'Steve']})\n",
        "display('df1', 'df2', 'df3')"
      ],
      "execution_count": null,
      "outputs": [
        {
          "output_type": "execute_result",
          "data": {
            "text/html": [
              "<div style=\"float: left; padding: 10px;\">\n",
              "    <hr>\n",
              "    <p style='font-family:\"Courier New\", Courier, monospace'>df1</p><hr><div>\n",
              "<style scoped>\n",
              "    .dataframe tbody tr th:only-of-type {\n",
              "        vertical-align: middle;\n",
              "    }\n",
              "\n",
              "    .dataframe tbody tr th {\n",
              "        vertical-align: top;\n",
              "    }\n",
              "\n",
              "    .dataframe thead th {\n",
              "        text-align: right;\n",
              "    }\n",
              "</style>\n",
              "<table border=\"1\" class=\"dataframe\">\n",
              "  <thead>\n",
              "    <tr style=\"text-align: right;\">\n",
              "      <th></th>\n",
              "      <th>employee</th>\n",
              "      <th>group</th>\n",
              "    </tr>\n",
              "  </thead>\n",
              "  <tbody>\n",
              "    <tr>\n",
              "      <th>0</th>\n",
              "      <td>Bob</td>\n",
              "      <td>Accounting</td>\n",
              "    </tr>\n",
              "    <tr>\n",
              "      <th>1</th>\n",
              "      <td>Jake</td>\n",
              "      <td>Engineering</td>\n",
              "    </tr>\n",
              "    <tr>\n",
              "      <th>2</th>\n",
              "      <td>Lisa</td>\n",
              "      <td>Engineering</td>\n",
              "    </tr>\n",
              "    <tr>\n",
              "      <th>3</th>\n",
              "      <td>Sue</td>\n",
              "      <td>HR</td>\n",
              "    </tr>\n",
              "  </tbody>\n",
              "</table>\n",
              "</div>\n",
              "    </div>\n",
              "<div style=\"float: left; padding: 10px;\">\n",
              "    <hr>\n",
              "    <p style='font-family:\"Courier New\", Courier, monospace'>df2</p><hr><div>\n",
              "<style scoped>\n",
              "    .dataframe tbody tr th:only-of-type {\n",
              "        vertical-align: middle;\n",
              "    }\n",
              "\n",
              "    .dataframe tbody tr th {\n",
              "        vertical-align: top;\n",
              "    }\n",
              "\n",
              "    .dataframe thead th {\n",
              "        text-align: right;\n",
              "    }\n",
              "</style>\n",
              "<table border=\"1\" class=\"dataframe\">\n",
              "  <thead>\n",
              "    <tr style=\"text-align: right;\">\n",
              "      <th></th>\n",
              "      <th>employee</th>\n",
              "      <th>hire_date</th>\n",
              "    </tr>\n",
              "  </thead>\n",
              "  <tbody>\n",
              "    <tr>\n",
              "      <th>0</th>\n",
              "      <td>Lisa</td>\n",
              "      <td>2004</td>\n",
              "    </tr>\n",
              "    <tr>\n",
              "      <th>1</th>\n",
              "      <td>Bob</td>\n",
              "      <td>2008</td>\n",
              "    </tr>\n",
              "    <tr>\n",
              "      <th>2</th>\n",
              "      <td>Jake</td>\n",
              "      <td>2012</td>\n",
              "    </tr>\n",
              "    <tr>\n",
              "      <th>3</th>\n",
              "      <td>Sue</td>\n",
              "      <td>2014</td>\n",
              "    </tr>\n",
              "  </tbody>\n",
              "</table>\n",
              "</div>\n",
              "    </div>\n",
              "<div style=\"float: left; padding: 10px;\">\n",
              "    <hr>\n",
              "    <p style='font-family:\"Courier New\", Courier, monospace'>df3</p><hr><div>\n",
              "<style scoped>\n",
              "    .dataframe tbody tr th:only-of-type {\n",
              "        vertical-align: middle;\n",
              "    }\n",
              "\n",
              "    .dataframe tbody tr th {\n",
              "        vertical-align: top;\n",
              "    }\n",
              "\n",
              "    .dataframe thead th {\n",
              "        text-align: right;\n",
              "    }\n",
              "</style>\n",
              "<table border=\"1\" class=\"dataframe\">\n",
              "  <thead>\n",
              "    <tr style=\"text-align: right;\">\n",
              "      <th></th>\n",
              "      <th>group</th>\n",
              "      <th>supervisor</th>\n",
              "    </tr>\n",
              "  </thead>\n",
              "  <tbody>\n",
              "    <tr>\n",
              "      <th>0</th>\n",
              "      <td>Accounting</td>\n",
              "      <td>Carly</td>\n",
              "    </tr>\n",
              "    <tr>\n",
              "      <th>1</th>\n",
              "      <td>Engineering</td>\n",
              "      <td>Guido</td>\n",
              "    </tr>\n",
              "    <tr>\n",
              "      <th>2</th>\n",
              "      <td>HR</td>\n",
              "      <td>Steve</td>\n",
              "    </tr>\n",
              "  </tbody>\n",
              "</table>\n",
              "</div>\n",
              "    </div>"
            ],
            "text/plain": [
              "df1\n",
              "  employee        group\n",
              "0      Bob   Accounting\n",
              "1     Jake  Engineering\n",
              "2     Lisa  Engineering\n",
              "3      Sue           HR\n",
              "\n",
              "df2\n",
              "  employee  hire_date\n",
              "0     Lisa       2004\n",
              "1      Bob       2008\n",
              "2     Jake       2012\n",
              "3      Sue       2014\n",
              "\n",
              "df3\n",
              "         group supervisor\n",
              "0   Accounting      Carly\n",
              "1  Engineering      Guido\n",
              "2           HR      Steve"
            ]
          },
          "metadata": {
            "tags": []
          },
          "execution_count": 50
        }
      ]
    },
    {
      "cell_type": "markdown",
      "metadata": {
        "id": "16fnWSRYlNrc"
      },
      "source": [
        "No primeiro exemplo a junção é feita empregando o atributo `employee` para *match* dos dados. Os três comandos primeiros comandos abaixo produzem os mesmos resultados."
      ]
    },
    {
      "cell_type": "code",
      "metadata": {
        "id": "1Dbl05THrLQb",
        "colab": {
          "base_uri": "https://localhost:8080/",
          "height": 242
        },
        "outputId": "584f14cc-2cab-4c0e-aa61-6d2fea3d0a33"
      },
      "source": [
        "df4 = pd.merge(df1, df2)\n",
        "df4 = pd.merge(df1, df2, left_on='employee', right_on='employee')\n",
        "df4 = pd.merge(df1, df2, on='employee')\n",
        "display('df4')"
      ],
      "execution_count": null,
      "outputs": [
        {
          "output_type": "execute_result",
          "data": {
            "text/html": [
              "<div style=\"float: left; padding: 10px;\">\n",
              "    <hr>\n",
              "    <p style='font-family:\"Courier New\", Courier, monospace'>df4</p><hr><div>\n",
              "<style scoped>\n",
              "    .dataframe tbody tr th:only-of-type {\n",
              "        vertical-align: middle;\n",
              "    }\n",
              "\n",
              "    .dataframe tbody tr th {\n",
              "        vertical-align: top;\n",
              "    }\n",
              "\n",
              "    .dataframe thead th {\n",
              "        text-align: right;\n",
              "    }\n",
              "</style>\n",
              "<table border=\"1\" class=\"dataframe\">\n",
              "  <thead>\n",
              "    <tr style=\"text-align: right;\">\n",
              "      <th></th>\n",
              "      <th>employee</th>\n",
              "      <th>group</th>\n",
              "      <th>hire_date</th>\n",
              "    </tr>\n",
              "  </thead>\n",
              "  <tbody>\n",
              "    <tr>\n",
              "      <th>0</th>\n",
              "      <td>Bob</td>\n",
              "      <td>Accounting</td>\n",
              "      <td>2008</td>\n",
              "    </tr>\n",
              "    <tr>\n",
              "      <th>1</th>\n",
              "      <td>Jake</td>\n",
              "      <td>Engineering</td>\n",
              "      <td>2012</td>\n",
              "    </tr>\n",
              "    <tr>\n",
              "      <th>2</th>\n",
              "      <td>Lisa</td>\n",
              "      <td>Engineering</td>\n",
              "      <td>2004</td>\n",
              "    </tr>\n",
              "    <tr>\n",
              "      <th>3</th>\n",
              "      <td>Sue</td>\n",
              "      <td>HR</td>\n",
              "      <td>2014</td>\n",
              "    </tr>\n",
              "  </tbody>\n",
              "</table>\n",
              "</div>\n",
              "    </div>"
            ],
            "text/plain": [
              "df4\n",
              "  employee        group  hire_date\n",
              "0      Bob   Accounting       2008\n",
              "1     Jake  Engineering       2012\n",
              "2     Lisa  Engineering       2004\n",
              "3      Sue           HR       2014"
            ]
          },
          "metadata": {
            "tags": []
          },
          "execution_count": 51
        }
      ]
    },
    {
      "cell_type": "markdown",
      "metadata": {
        "id": "3xcZBEf2nqYL"
      },
      "source": [
        "Os demais exemplos apresentam várias formas de junções dos dados."
      ]
    },
    {
      "cell_type": "code",
      "metadata": {
        "id": "3CLQbVZxrLQc",
        "colab": {
          "base_uri": "https://localhost:8080/",
          "height": 242
        },
        "outputId": "38b3cf94-ab0c-4bf3-e0c9-87d7280c2d93"
      },
      "source": [
        "display('df3', 'df4', 'pd.merge(df3, df4)')"
      ],
      "execution_count": null,
      "outputs": [
        {
          "output_type": "execute_result",
          "data": {
            "text/html": [
              "<div style=\"float: left; padding: 10px;\">\n",
              "    <hr>\n",
              "    <p style='font-family:\"Courier New\", Courier, monospace'>df3</p><hr><div>\n",
              "<style scoped>\n",
              "    .dataframe tbody tr th:only-of-type {\n",
              "        vertical-align: middle;\n",
              "    }\n",
              "\n",
              "    .dataframe tbody tr th {\n",
              "        vertical-align: top;\n",
              "    }\n",
              "\n",
              "    .dataframe thead th {\n",
              "        text-align: right;\n",
              "    }\n",
              "</style>\n",
              "<table border=\"1\" class=\"dataframe\">\n",
              "  <thead>\n",
              "    <tr style=\"text-align: right;\">\n",
              "      <th></th>\n",
              "      <th>group</th>\n",
              "      <th>supervisor</th>\n",
              "    </tr>\n",
              "  </thead>\n",
              "  <tbody>\n",
              "    <tr>\n",
              "      <th>0</th>\n",
              "      <td>Accounting</td>\n",
              "      <td>Carly</td>\n",
              "    </tr>\n",
              "    <tr>\n",
              "      <th>1</th>\n",
              "      <td>Engineering</td>\n",
              "      <td>Guido</td>\n",
              "    </tr>\n",
              "    <tr>\n",
              "      <th>2</th>\n",
              "      <td>HR</td>\n",
              "      <td>Steve</td>\n",
              "    </tr>\n",
              "  </tbody>\n",
              "</table>\n",
              "</div>\n",
              "    </div>\n",
              "<div style=\"float: left; padding: 10px;\">\n",
              "    <hr>\n",
              "    <p style='font-family:\"Courier New\", Courier, monospace'>df4</p><hr><div>\n",
              "<style scoped>\n",
              "    .dataframe tbody tr th:only-of-type {\n",
              "        vertical-align: middle;\n",
              "    }\n",
              "\n",
              "    .dataframe tbody tr th {\n",
              "        vertical-align: top;\n",
              "    }\n",
              "\n",
              "    .dataframe thead th {\n",
              "        text-align: right;\n",
              "    }\n",
              "</style>\n",
              "<table border=\"1\" class=\"dataframe\">\n",
              "  <thead>\n",
              "    <tr style=\"text-align: right;\">\n",
              "      <th></th>\n",
              "      <th>employee</th>\n",
              "      <th>group</th>\n",
              "      <th>hire_date</th>\n",
              "    </tr>\n",
              "  </thead>\n",
              "  <tbody>\n",
              "    <tr>\n",
              "      <th>0</th>\n",
              "      <td>Bob</td>\n",
              "      <td>Accounting</td>\n",
              "      <td>2008</td>\n",
              "    </tr>\n",
              "    <tr>\n",
              "      <th>1</th>\n",
              "      <td>Jake</td>\n",
              "      <td>Engineering</td>\n",
              "      <td>2012</td>\n",
              "    </tr>\n",
              "    <tr>\n",
              "      <th>2</th>\n",
              "      <td>Lisa</td>\n",
              "      <td>Engineering</td>\n",
              "      <td>2004</td>\n",
              "    </tr>\n",
              "    <tr>\n",
              "      <th>3</th>\n",
              "      <td>Sue</td>\n",
              "      <td>HR</td>\n",
              "      <td>2014</td>\n",
              "    </tr>\n",
              "  </tbody>\n",
              "</table>\n",
              "</div>\n",
              "    </div>\n",
              "<div style=\"float: left; padding: 10px;\">\n",
              "    <hr>\n",
              "    <p style='font-family:\"Courier New\", Courier, monospace'>pd.merge(df3, df4)</p><hr><div>\n",
              "<style scoped>\n",
              "    .dataframe tbody tr th:only-of-type {\n",
              "        vertical-align: middle;\n",
              "    }\n",
              "\n",
              "    .dataframe tbody tr th {\n",
              "        vertical-align: top;\n",
              "    }\n",
              "\n",
              "    .dataframe thead th {\n",
              "        text-align: right;\n",
              "    }\n",
              "</style>\n",
              "<table border=\"1\" class=\"dataframe\">\n",
              "  <thead>\n",
              "    <tr style=\"text-align: right;\">\n",
              "      <th></th>\n",
              "      <th>group</th>\n",
              "      <th>supervisor</th>\n",
              "      <th>employee</th>\n",
              "      <th>hire_date</th>\n",
              "    </tr>\n",
              "  </thead>\n",
              "  <tbody>\n",
              "    <tr>\n",
              "      <th>0</th>\n",
              "      <td>Accounting</td>\n",
              "      <td>Carly</td>\n",
              "      <td>Bob</td>\n",
              "      <td>2008</td>\n",
              "    </tr>\n",
              "    <tr>\n",
              "      <th>1</th>\n",
              "      <td>Engineering</td>\n",
              "      <td>Guido</td>\n",
              "      <td>Jake</td>\n",
              "      <td>2012</td>\n",
              "    </tr>\n",
              "    <tr>\n",
              "      <th>2</th>\n",
              "      <td>Engineering</td>\n",
              "      <td>Guido</td>\n",
              "      <td>Lisa</td>\n",
              "      <td>2004</td>\n",
              "    </tr>\n",
              "    <tr>\n",
              "      <th>3</th>\n",
              "      <td>HR</td>\n",
              "      <td>Steve</td>\n",
              "      <td>Sue</td>\n",
              "      <td>2014</td>\n",
              "    </tr>\n",
              "  </tbody>\n",
              "</table>\n",
              "</div>\n",
              "    </div>"
            ],
            "text/plain": [
              "df3\n",
              "         group supervisor\n",
              "0   Accounting      Carly\n",
              "1  Engineering      Guido\n",
              "2           HR      Steve\n",
              "\n",
              "df4\n",
              "  employee        group  hire_date\n",
              "0      Bob   Accounting       2008\n",
              "1     Jake  Engineering       2012\n",
              "2     Lisa  Engineering       2004\n",
              "3      Sue           HR       2014\n",
              "\n",
              "pd.merge(df3, df4)\n",
              "         group supervisor employee  hire_date\n",
              "0   Accounting      Carly      Bob       2008\n",
              "1  Engineering      Guido     Jake       2012\n",
              "2  Engineering      Guido     Lisa       2004\n",
              "3           HR      Steve      Sue       2014"
            ]
          },
          "metadata": {
            "tags": []
          },
          "execution_count": 52
        }
      ]
    },
    {
      "cell_type": "code",
      "metadata": {
        "id": "kBWGaDIbrLQd",
        "colab": {
          "base_uri": "https://localhost:8080/",
          "height": 366
        },
        "outputId": "ced983a8-5e91-4732-99cf-a8cf8c13e6aa"
      },
      "source": [
        "df5 = pd.DataFrame({'group': ['Accounting', 'Accounting',\n",
        "                              'Engineering', 'Engineering', 'HR', 'HR'],\n",
        "                    'skills': ['math', 'spreadsheets', 'coding', 'linux',\n",
        "                               'spreadsheets', 'organization']})\n",
        "display('df1', 'df5', \"pd.merge(df1, df5)\")"
      ],
      "execution_count": null,
      "outputs": [
        {
          "output_type": "execute_result",
          "data": {
            "text/html": [
              "<div style=\"float: left; padding: 10px;\">\n",
              "    <hr>\n",
              "    <p style='font-family:\"Courier New\", Courier, monospace'>df1</p><hr><div>\n",
              "<style scoped>\n",
              "    .dataframe tbody tr th:only-of-type {\n",
              "        vertical-align: middle;\n",
              "    }\n",
              "\n",
              "    .dataframe tbody tr th {\n",
              "        vertical-align: top;\n",
              "    }\n",
              "\n",
              "    .dataframe thead th {\n",
              "        text-align: right;\n",
              "    }\n",
              "</style>\n",
              "<table border=\"1\" class=\"dataframe\">\n",
              "  <thead>\n",
              "    <tr style=\"text-align: right;\">\n",
              "      <th></th>\n",
              "      <th>employee</th>\n",
              "      <th>group</th>\n",
              "    </tr>\n",
              "  </thead>\n",
              "  <tbody>\n",
              "    <tr>\n",
              "      <th>0</th>\n",
              "      <td>Bob</td>\n",
              "      <td>Accounting</td>\n",
              "    </tr>\n",
              "    <tr>\n",
              "      <th>1</th>\n",
              "      <td>Jake</td>\n",
              "      <td>Engineering</td>\n",
              "    </tr>\n",
              "    <tr>\n",
              "      <th>2</th>\n",
              "      <td>Lisa</td>\n",
              "      <td>Engineering</td>\n",
              "    </tr>\n",
              "    <tr>\n",
              "      <th>3</th>\n",
              "      <td>Sue</td>\n",
              "      <td>HR</td>\n",
              "    </tr>\n",
              "  </tbody>\n",
              "</table>\n",
              "</div>\n",
              "    </div>\n",
              "<div style=\"float: left; padding: 10px;\">\n",
              "    <hr>\n",
              "    <p style='font-family:\"Courier New\", Courier, monospace'>df5</p><hr><div>\n",
              "<style scoped>\n",
              "    .dataframe tbody tr th:only-of-type {\n",
              "        vertical-align: middle;\n",
              "    }\n",
              "\n",
              "    .dataframe tbody tr th {\n",
              "        vertical-align: top;\n",
              "    }\n",
              "\n",
              "    .dataframe thead th {\n",
              "        text-align: right;\n",
              "    }\n",
              "</style>\n",
              "<table border=\"1\" class=\"dataframe\">\n",
              "  <thead>\n",
              "    <tr style=\"text-align: right;\">\n",
              "      <th></th>\n",
              "      <th>group</th>\n",
              "      <th>skills</th>\n",
              "    </tr>\n",
              "  </thead>\n",
              "  <tbody>\n",
              "    <tr>\n",
              "      <th>0</th>\n",
              "      <td>Accounting</td>\n",
              "      <td>math</td>\n",
              "    </tr>\n",
              "    <tr>\n",
              "      <th>1</th>\n",
              "      <td>Accounting</td>\n",
              "      <td>spreadsheets</td>\n",
              "    </tr>\n",
              "    <tr>\n",
              "      <th>2</th>\n",
              "      <td>Engineering</td>\n",
              "      <td>coding</td>\n",
              "    </tr>\n",
              "    <tr>\n",
              "      <th>3</th>\n",
              "      <td>Engineering</td>\n",
              "      <td>linux</td>\n",
              "    </tr>\n",
              "    <tr>\n",
              "      <th>4</th>\n",
              "      <td>HR</td>\n",
              "      <td>spreadsheets</td>\n",
              "    </tr>\n",
              "    <tr>\n",
              "      <th>5</th>\n",
              "      <td>HR</td>\n",
              "      <td>organization</td>\n",
              "    </tr>\n",
              "  </tbody>\n",
              "</table>\n",
              "</div>\n",
              "    </div>\n",
              "<div style=\"float: left; padding: 10px;\">\n",
              "    <hr>\n",
              "    <p style='font-family:\"Courier New\", Courier, monospace'>pd.merge(df1, df5)</p><hr><div>\n",
              "<style scoped>\n",
              "    .dataframe tbody tr th:only-of-type {\n",
              "        vertical-align: middle;\n",
              "    }\n",
              "\n",
              "    .dataframe tbody tr th {\n",
              "        vertical-align: top;\n",
              "    }\n",
              "\n",
              "    .dataframe thead th {\n",
              "        text-align: right;\n",
              "    }\n",
              "</style>\n",
              "<table border=\"1\" class=\"dataframe\">\n",
              "  <thead>\n",
              "    <tr style=\"text-align: right;\">\n",
              "      <th></th>\n",
              "      <th>employee</th>\n",
              "      <th>group</th>\n",
              "      <th>skills</th>\n",
              "    </tr>\n",
              "  </thead>\n",
              "  <tbody>\n",
              "    <tr>\n",
              "      <th>0</th>\n",
              "      <td>Bob</td>\n",
              "      <td>Accounting</td>\n",
              "      <td>math</td>\n",
              "    </tr>\n",
              "    <tr>\n",
              "      <th>1</th>\n",
              "      <td>Bob</td>\n",
              "      <td>Accounting</td>\n",
              "      <td>spreadsheets</td>\n",
              "    </tr>\n",
              "    <tr>\n",
              "      <th>2</th>\n",
              "      <td>Jake</td>\n",
              "      <td>Engineering</td>\n",
              "      <td>coding</td>\n",
              "    </tr>\n",
              "    <tr>\n",
              "      <th>3</th>\n",
              "      <td>Jake</td>\n",
              "      <td>Engineering</td>\n",
              "      <td>linux</td>\n",
              "    </tr>\n",
              "    <tr>\n",
              "      <th>4</th>\n",
              "      <td>Lisa</td>\n",
              "      <td>Engineering</td>\n",
              "      <td>coding</td>\n",
              "    </tr>\n",
              "    <tr>\n",
              "      <th>5</th>\n",
              "      <td>Lisa</td>\n",
              "      <td>Engineering</td>\n",
              "      <td>linux</td>\n",
              "    </tr>\n",
              "    <tr>\n",
              "      <th>6</th>\n",
              "      <td>Sue</td>\n",
              "      <td>HR</td>\n",
              "      <td>spreadsheets</td>\n",
              "    </tr>\n",
              "    <tr>\n",
              "      <th>7</th>\n",
              "      <td>Sue</td>\n",
              "      <td>HR</td>\n",
              "      <td>organization</td>\n",
              "    </tr>\n",
              "  </tbody>\n",
              "</table>\n",
              "</div>\n",
              "    </div>"
            ],
            "text/plain": [
              "df1\n",
              "  employee        group\n",
              "0      Bob   Accounting\n",
              "1     Jake  Engineering\n",
              "2     Lisa  Engineering\n",
              "3      Sue           HR\n",
              "\n",
              "df5\n",
              "         group        skills\n",
              "0   Accounting          math\n",
              "1   Accounting  spreadsheets\n",
              "2  Engineering        coding\n",
              "3  Engineering         linux\n",
              "4           HR  spreadsheets\n",
              "5           HR  organization\n",
              "\n",
              "pd.merge(df1, df5)\n",
              "  employee        group        skills\n",
              "0      Bob   Accounting          math\n",
              "1      Bob   Accounting  spreadsheets\n",
              "2     Jake  Engineering        coding\n",
              "3     Jake  Engineering         linux\n",
              "4     Lisa  Engineering        coding\n",
              "5     Lisa  Engineering         linux\n",
              "6      Sue           HR  spreadsheets\n",
              "7      Sue           HR  organization"
            ]
          },
          "metadata": {
            "tags": []
          },
          "execution_count": 53
        }
      ]
    },
    {
      "cell_type": "code",
      "metadata": {
        "id": "n0gITapwrLQg",
        "colab": {
          "base_uri": "https://localhost:8080/",
          "height": 173
        },
        "outputId": "295be201-fd7c-4a07-df8b-0d1bc4c81e63"
      },
      "source": [
        "df6 = pd.DataFrame({'name': ['Bob', 'Jake', 'Lisa', 'Sue'],\n",
        "                    'salary': [70000, 80000, 120000, 90000]})\n",
        "pd.merge(df1, df6, left_on=\"employee\", right_on=\"name\").drop('name', axis=1)"
      ],
      "execution_count": null,
      "outputs": [
        {
          "output_type": "execute_result",
          "data": {
            "text/html": [
              "<div>\n",
              "<style scoped>\n",
              "    .dataframe tbody tr th:only-of-type {\n",
              "        vertical-align: middle;\n",
              "    }\n",
              "\n",
              "    .dataframe tbody tr th {\n",
              "        vertical-align: top;\n",
              "    }\n",
              "\n",
              "    .dataframe thead th {\n",
              "        text-align: right;\n",
              "    }\n",
              "</style>\n",
              "<table border=\"1\" class=\"dataframe\">\n",
              "  <thead>\n",
              "    <tr style=\"text-align: right;\">\n",
              "      <th></th>\n",
              "      <th>employee</th>\n",
              "      <th>group</th>\n",
              "      <th>salary</th>\n",
              "    </tr>\n",
              "  </thead>\n",
              "  <tbody>\n",
              "    <tr>\n",
              "      <th>0</th>\n",
              "      <td>Bob</td>\n",
              "      <td>Accounting</td>\n",
              "      <td>70000</td>\n",
              "    </tr>\n",
              "    <tr>\n",
              "      <th>1</th>\n",
              "      <td>Jake</td>\n",
              "      <td>Engineering</td>\n",
              "      <td>80000</td>\n",
              "    </tr>\n",
              "    <tr>\n",
              "      <th>2</th>\n",
              "      <td>Lisa</td>\n",
              "      <td>Engineering</td>\n",
              "      <td>120000</td>\n",
              "    </tr>\n",
              "    <tr>\n",
              "      <th>3</th>\n",
              "      <td>Sue</td>\n",
              "      <td>HR</td>\n",
              "      <td>90000</td>\n",
              "    </tr>\n",
              "  </tbody>\n",
              "</table>\n",
              "</div>"
            ],
            "text/plain": [
              "  employee        group  salary\n",
              "0      Bob   Accounting   70000\n",
              "1     Jake  Engineering   80000\n",
              "2     Lisa  Engineering  120000\n",
              "3      Sue           HR   90000"
            ]
          },
          "metadata": {
            "tags": []
          },
          "execution_count": 54
        }
      ]
    },
    {
      "cell_type": "markdown",
      "metadata": {
        "id": "05d83kRWoS--"
      },
      "source": [
        "### `Right` `Left` ` Joins`\n",
        "\n",
        "`Right` e `Left` ` Joins` são empregados quando queremos adicionar à combinação dos dados elementos independentemente de fazerem *match* com as chaves de dados ou não. "
      ]
    },
    {
      "cell_type": "code",
      "metadata": {
        "id": "oIAN_E9yvUfd"
      },
      "source": [
        "df7 = pd.DataFrame({'employee': ['Bob', 'Jake', 'Lisa', 'Sue', 'Adriana'],\n",
        "                    'group': ['Accounting', 'Engineering', 'Engineering', 'HR', 'Commercial']})\n",
        "\n",
        "df8 = pd.DataFrame({'group': ['Accounting', 'Accounting',\n",
        "                              'Engineering', 'Engineering', 'HR', 'HR', 'Research'],\n",
        "                    'skills': ['math', 'spreadsheets', 'coding', 'linux',\n",
        "                               'spreadsheets', 'organization', 'Data Science']})\n"
      ],
      "execution_count": null,
      "outputs": []
    },
    {
      "cell_type": "code",
      "metadata": {
        "colab": {
          "base_uri": "https://localhost:8080/",
          "height": 366
        },
        "id": "hYoZ07KCvjnH",
        "outputId": "2e6dcbab-0837-431b-ac21-895e2eb25f3a"
      },
      "source": [
        "display('df7','df8',\n",
        "        'pd.merge(df7,df8)')"
      ],
      "execution_count": null,
      "outputs": [
        {
          "output_type": "execute_result",
          "data": {
            "text/html": [
              "<div style=\"float: left; padding: 10px;\">\n",
              "    <hr>\n",
              "    <p style='font-family:\"Courier New\", Courier, monospace'>df7</p><hr><div>\n",
              "<style scoped>\n",
              "    .dataframe tbody tr th:only-of-type {\n",
              "        vertical-align: middle;\n",
              "    }\n",
              "\n",
              "    .dataframe tbody tr th {\n",
              "        vertical-align: top;\n",
              "    }\n",
              "\n",
              "    .dataframe thead th {\n",
              "        text-align: right;\n",
              "    }\n",
              "</style>\n",
              "<table border=\"1\" class=\"dataframe\">\n",
              "  <thead>\n",
              "    <tr style=\"text-align: right;\">\n",
              "      <th></th>\n",
              "      <th>employee</th>\n",
              "      <th>group</th>\n",
              "    </tr>\n",
              "  </thead>\n",
              "  <tbody>\n",
              "    <tr>\n",
              "      <th>0</th>\n",
              "      <td>Bob</td>\n",
              "      <td>Accounting</td>\n",
              "    </tr>\n",
              "    <tr>\n",
              "      <th>1</th>\n",
              "      <td>Jake</td>\n",
              "      <td>Engineering</td>\n",
              "    </tr>\n",
              "    <tr>\n",
              "      <th>2</th>\n",
              "      <td>Lisa</td>\n",
              "      <td>Engineering</td>\n",
              "    </tr>\n",
              "    <tr>\n",
              "      <th>3</th>\n",
              "      <td>Sue</td>\n",
              "      <td>HR</td>\n",
              "    </tr>\n",
              "    <tr>\n",
              "      <th>4</th>\n",
              "      <td>Adriana</td>\n",
              "      <td>Commercial</td>\n",
              "    </tr>\n",
              "  </tbody>\n",
              "</table>\n",
              "</div>\n",
              "    </div>\n",
              "<div style=\"float: left; padding: 10px;\">\n",
              "    <hr>\n",
              "    <p style='font-family:\"Courier New\", Courier, monospace'>df8</p><hr><div>\n",
              "<style scoped>\n",
              "    .dataframe tbody tr th:only-of-type {\n",
              "        vertical-align: middle;\n",
              "    }\n",
              "\n",
              "    .dataframe tbody tr th {\n",
              "        vertical-align: top;\n",
              "    }\n",
              "\n",
              "    .dataframe thead th {\n",
              "        text-align: right;\n",
              "    }\n",
              "</style>\n",
              "<table border=\"1\" class=\"dataframe\">\n",
              "  <thead>\n",
              "    <tr style=\"text-align: right;\">\n",
              "      <th></th>\n",
              "      <th>group</th>\n",
              "      <th>skills</th>\n",
              "    </tr>\n",
              "  </thead>\n",
              "  <tbody>\n",
              "    <tr>\n",
              "      <th>0</th>\n",
              "      <td>Accounting</td>\n",
              "      <td>math</td>\n",
              "    </tr>\n",
              "    <tr>\n",
              "      <th>1</th>\n",
              "      <td>Accounting</td>\n",
              "      <td>spreadsheets</td>\n",
              "    </tr>\n",
              "    <tr>\n",
              "      <th>2</th>\n",
              "      <td>Engineering</td>\n",
              "      <td>coding</td>\n",
              "    </tr>\n",
              "    <tr>\n",
              "      <th>3</th>\n",
              "      <td>Engineering</td>\n",
              "      <td>linux</td>\n",
              "    </tr>\n",
              "    <tr>\n",
              "      <th>4</th>\n",
              "      <td>HR</td>\n",
              "      <td>spreadsheets</td>\n",
              "    </tr>\n",
              "    <tr>\n",
              "      <th>5</th>\n",
              "      <td>HR</td>\n",
              "      <td>organization</td>\n",
              "    </tr>\n",
              "    <tr>\n",
              "      <th>6</th>\n",
              "      <td>Research</td>\n",
              "      <td>Data Science</td>\n",
              "    </tr>\n",
              "  </tbody>\n",
              "</table>\n",
              "</div>\n",
              "    </div>\n",
              "<div style=\"float: left; padding: 10px;\">\n",
              "    <hr>\n",
              "    <p style='font-family:\"Courier New\", Courier, monospace'>pd.merge(df7,df8)</p><hr><div>\n",
              "<style scoped>\n",
              "    .dataframe tbody tr th:only-of-type {\n",
              "        vertical-align: middle;\n",
              "    }\n",
              "\n",
              "    .dataframe tbody tr th {\n",
              "        vertical-align: top;\n",
              "    }\n",
              "\n",
              "    .dataframe thead th {\n",
              "        text-align: right;\n",
              "    }\n",
              "</style>\n",
              "<table border=\"1\" class=\"dataframe\">\n",
              "  <thead>\n",
              "    <tr style=\"text-align: right;\">\n",
              "      <th></th>\n",
              "      <th>employee</th>\n",
              "      <th>group</th>\n",
              "      <th>skills</th>\n",
              "    </tr>\n",
              "  </thead>\n",
              "  <tbody>\n",
              "    <tr>\n",
              "      <th>0</th>\n",
              "      <td>Bob</td>\n",
              "      <td>Accounting</td>\n",
              "      <td>math</td>\n",
              "    </tr>\n",
              "    <tr>\n",
              "      <th>1</th>\n",
              "      <td>Bob</td>\n",
              "      <td>Accounting</td>\n",
              "      <td>spreadsheets</td>\n",
              "    </tr>\n",
              "    <tr>\n",
              "      <th>2</th>\n",
              "      <td>Jake</td>\n",
              "      <td>Engineering</td>\n",
              "      <td>coding</td>\n",
              "    </tr>\n",
              "    <tr>\n",
              "      <th>3</th>\n",
              "      <td>Jake</td>\n",
              "      <td>Engineering</td>\n",
              "      <td>linux</td>\n",
              "    </tr>\n",
              "    <tr>\n",
              "      <th>4</th>\n",
              "      <td>Lisa</td>\n",
              "      <td>Engineering</td>\n",
              "      <td>coding</td>\n",
              "    </tr>\n",
              "    <tr>\n",
              "      <th>5</th>\n",
              "      <td>Lisa</td>\n",
              "      <td>Engineering</td>\n",
              "      <td>linux</td>\n",
              "    </tr>\n",
              "    <tr>\n",
              "      <th>6</th>\n",
              "      <td>Sue</td>\n",
              "      <td>HR</td>\n",
              "      <td>spreadsheets</td>\n",
              "    </tr>\n",
              "    <tr>\n",
              "      <th>7</th>\n",
              "      <td>Sue</td>\n",
              "      <td>HR</td>\n",
              "      <td>organization</td>\n",
              "    </tr>\n",
              "  </tbody>\n",
              "</table>\n",
              "</div>\n",
              "    </div>"
            ],
            "text/plain": [
              "df7\n",
              "  employee        group\n",
              "0      Bob   Accounting\n",
              "1     Jake  Engineering\n",
              "2     Lisa  Engineering\n",
              "3      Sue           HR\n",
              "4  Adriana   Commercial\n",
              "\n",
              "df8\n",
              "         group        skills\n",
              "0   Accounting          math\n",
              "1   Accounting  spreadsheets\n",
              "2  Engineering        coding\n",
              "3  Engineering         linux\n",
              "4           HR  spreadsheets\n",
              "5           HR  organization\n",
              "6     Research  Data Science\n",
              "\n",
              "pd.merge(df7,df8)\n",
              "  employee        group        skills\n",
              "0      Bob   Accounting          math\n",
              "1      Bob   Accounting  spreadsheets\n",
              "2     Jake  Engineering        coding\n",
              "3     Jake  Engineering         linux\n",
              "4     Lisa  Engineering        coding\n",
              "5     Lisa  Engineering         linux\n",
              "6      Sue           HR  spreadsheets\n",
              "7      Sue           HR  organization"
            ]
          },
          "metadata": {
            "tags": []
          },
          "execution_count": 56
        }
      ]
    },
    {
      "cell_type": "markdown",
      "metadata": {
        "id": "alr_zwL9puUt"
      },
      "source": [
        "Na junção acima você não encontra a funcionária *Adriana* por que a chave (atributo *group*) *Commercial* só está presente na tabela à **esquerda** da junção. Para incluí-la, podemos fazer uma junção `Left`,"
      ]
    },
    {
      "cell_type": "code",
      "metadata": {
        "colab": {
          "base_uri": "https://localhost:8080/",
          "height": 397
        },
        "id": "UguT33RAv41f",
        "outputId": "1b8b2627-c942-4b39-eb2a-10ae2bcc3cad"
      },
      "source": [
        "display('df7','df8',\n",
        "        \"pd.merge(df7,df8,how='left')\")"
      ],
      "execution_count": null,
      "outputs": [
        {
          "output_type": "execute_result",
          "data": {
            "text/html": [
              "<div style=\"float: left; padding: 10px;\">\n",
              "    <hr>\n",
              "    <p style='font-family:\"Courier New\", Courier, monospace'>df7</p><hr><div>\n",
              "<style scoped>\n",
              "    .dataframe tbody tr th:only-of-type {\n",
              "        vertical-align: middle;\n",
              "    }\n",
              "\n",
              "    .dataframe tbody tr th {\n",
              "        vertical-align: top;\n",
              "    }\n",
              "\n",
              "    .dataframe thead th {\n",
              "        text-align: right;\n",
              "    }\n",
              "</style>\n",
              "<table border=\"1\" class=\"dataframe\">\n",
              "  <thead>\n",
              "    <tr style=\"text-align: right;\">\n",
              "      <th></th>\n",
              "      <th>employee</th>\n",
              "      <th>group</th>\n",
              "    </tr>\n",
              "  </thead>\n",
              "  <tbody>\n",
              "    <tr>\n",
              "      <th>0</th>\n",
              "      <td>Bob</td>\n",
              "      <td>Accounting</td>\n",
              "    </tr>\n",
              "    <tr>\n",
              "      <th>1</th>\n",
              "      <td>Jake</td>\n",
              "      <td>Engineering</td>\n",
              "    </tr>\n",
              "    <tr>\n",
              "      <th>2</th>\n",
              "      <td>Lisa</td>\n",
              "      <td>Engineering</td>\n",
              "    </tr>\n",
              "    <tr>\n",
              "      <th>3</th>\n",
              "      <td>Sue</td>\n",
              "      <td>HR</td>\n",
              "    </tr>\n",
              "    <tr>\n",
              "      <th>4</th>\n",
              "      <td>Adriana</td>\n",
              "      <td>Commercial</td>\n",
              "    </tr>\n",
              "  </tbody>\n",
              "</table>\n",
              "</div>\n",
              "    </div>\n",
              "<div style=\"float: left; padding: 10px;\">\n",
              "    <hr>\n",
              "    <p style='font-family:\"Courier New\", Courier, monospace'>df8</p><hr><div>\n",
              "<style scoped>\n",
              "    .dataframe tbody tr th:only-of-type {\n",
              "        vertical-align: middle;\n",
              "    }\n",
              "\n",
              "    .dataframe tbody tr th {\n",
              "        vertical-align: top;\n",
              "    }\n",
              "\n",
              "    .dataframe thead th {\n",
              "        text-align: right;\n",
              "    }\n",
              "</style>\n",
              "<table border=\"1\" class=\"dataframe\">\n",
              "  <thead>\n",
              "    <tr style=\"text-align: right;\">\n",
              "      <th></th>\n",
              "      <th>group</th>\n",
              "      <th>skills</th>\n",
              "    </tr>\n",
              "  </thead>\n",
              "  <tbody>\n",
              "    <tr>\n",
              "      <th>0</th>\n",
              "      <td>Accounting</td>\n",
              "      <td>math</td>\n",
              "    </tr>\n",
              "    <tr>\n",
              "      <th>1</th>\n",
              "      <td>Accounting</td>\n",
              "      <td>spreadsheets</td>\n",
              "    </tr>\n",
              "    <tr>\n",
              "      <th>2</th>\n",
              "      <td>Engineering</td>\n",
              "      <td>coding</td>\n",
              "    </tr>\n",
              "    <tr>\n",
              "      <th>3</th>\n",
              "      <td>Engineering</td>\n",
              "      <td>linux</td>\n",
              "    </tr>\n",
              "    <tr>\n",
              "      <th>4</th>\n",
              "      <td>HR</td>\n",
              "      <td>spreadsheets</td>\n",
              "    </tr>\n",
              "    <tr>\n",
              "      <th>5</th>\n",
              "      <td>HR</td>\n",
              "      <td>organization</td>\n",
              "    </tr>\n",
              "    <tr>\n",
              "      <th>6</th>\n",
              "      <td>Research</td>\n",
              "      <td>Data Science</td>\n",
              "    </tr>\n",
              "  </tbody>\n",
              "</table>\n",
              "</div>\n",
              "    </div>\n",
              "<div style=\"float: left; padding: 10px;\">\n",
              "    <hr>\n",
              "    <p style='font-family:\"Courier New\", Courier, monospace'>pd.merge(df7,df8,how='left')</p><hr><div>\n",
              "<style scoped>\n",
              "    .dataframe tbody tr th:only-of-type {\n",
              "        vertical-align: middle;\n",
              "    }\n",
              "\n",
              "    .dataframe tbody tr th {\n",
              "        vertical-align: top;\n",
              "    }\n",
              "\n",
              "    .dataframe thead th {\n",
              "        text-align: right;\n",
              "    }\n",
              "</style>\n",
              "<table border=\"1\" class=\"dataframe\">\n",
              "  <thead>\n",
              "    <tr style=\"text-align: right;\">\n",
              "      <th></th>\n",
              "      <th>employee</th>\n",
              "      <th>group</th>\n",
              "      <th>skills</th>\n",
              "    </tr>\n",
              "  </thead>\n",
              "  <tbody>\n",
              "    <tr>\n",
              "      <th>0</th>\n",
              "      <td>Bob</td>\n",
              "      <td>Accounting</td>\n",
              "      <td>math</td>\n",
              "    </tr>\n",
              "    <tr>\n",
              "      <th>1</th>\n",
              "      <td>Bob</td>\n",
              "      <td>Accounting</td>\n",
              "      <td>spreadsheets</td>\n",
              "    </tr>\n",
              "    <tr>\n",
              "      <th>2</th>\n",
              "      <td>Jake</td>\n",
              "      <td>Engineering</td>\n",
              "      <td>coding</td>\n",
              "    </tr>\n",
              "    <tr>\n",
              "      <th>3</th>\n",
              "      <td>Jake</td>\n",
              "      <td>Engineering</td>\n",
              "      <td>linux</td>\n",
              "    </tr>\n",
              "    <tr>\n",
              "      <th>4</th>\n",
              "      <td>Lisa</td>\n",
              "      <td>Engineering</td>\n",
              "      <td>coding</td>\n",
              "    </tr>\n",
              "    <tr>\n",
              "      <th>5</th>\n",
              "      <td>Lisa</td>\n",
              "      <td>Engineering</td>\n",
              "      <td>linux</td>\n",
              "    </tr>\n",
              "    <tr>\n",
              "      <th>6</th>\n",
              "      <td>Sue</td>\n",
              "      <td>HR</td>\n",
              "      <td>spreadsheets</td>\n",
              "    </tr>\n",
              "    <tr>\n",
              "      <th>7</th>\n",
              "      <td>Sue</td>\n",
              "      <td>HR</td>\n",
              "      <td>organization</td>\n",
              "    </tr>\n",
              "    <tr>\n",
              "      <th>8</th>\n",
              "      <td>Adriana</td>\n",
              "      <td>Commercial</td>\n",
              "      <td>NaN</td>\n",
              "    </tr>\n",
              "  </tbody>\n",
              "</table>\n",
              "</div>\n",
              "    </div>"
            ],
            "text/plain": [
              "df7\n",
              "  employee        group\n",
              "0      Bob   Accounting\n",
              "1     Jake  Engineering\n",
              "2     Lisa  Engineering\n",
              "3      Sue           HR\n",
              "4  Adriana   Commercial\n",
              "\n",
              "df8\n",
              "         group        skills\n",
              "0   Accounting          math\n",
              "1   Accounting  spreadsheets\n",
              "2  Engineering        coding\n",
              "3  Engineering         linux\n",
              "4           HR  spreadsheets\n",
              "5           HR  organization\n",
              "6     Research  Data Science\n",
              "\n",
              "pd.merge(df7,df8,how='left')\n",
              "  employee        group        skills\n",
              "0      Bob   Accounting          math\n",
              "1      Bob   Accounting  spreadsheets\n",
              "2     Jake  Engineering        coding\n",
              "3     Jake  Engineering         linux\n",
              "4     Lisa  Engineering        coding\n",
              "5     Lisa  Engineering         linux\n",
              "6      Sue           HR  spreadsheets\n",
              "7      Sue           HR  organization\n",
              "8  Adriana   Commercial           NaN"
            ]
          },
          "metadata": {
            "tags": []
          },
          "execution_count": 57
        }
      ]
    },
    {
      "cell_type": "markdown",
      "metadata": {
        "id": "3mcSxshmqYJC"
      },
      "source": [
        "Do mesmo modo o skill *Data Science* não aparece na junção inicial por que a chave (atributo *group*) *Research* só está presente na tabela à **direita** da junção. Para incluí-la, podemos fazer uma junção `Right`,"
      ]
    },
    {
      "cell_type": "code",
      "metadata": {
        "colab": {
          "base_uri": "https://localhost:8080/",
          "height": 397
        },
        "id": "CfxbWTShwLK2",
        "outputId": "72ded180-2874-4175-a7a6-f595eef68707"
      },
      "source": [
        "display('df7','df8',\n",
        "        \"pd.merge(df7,df8,how='right')\")"
      ],
      "execution_count": null,
      "outputs": [
        {
          "output_type": "execute_result",
          "data": {
            "text/html": [
              "<div style=\"float: left; padding: 10px;\">\n",
              "    <hr>\n",
              "    <p style='font-family:\"Courier New\", Courier, monospace'>df7</p><hr><div>\n",
              "<style scoped>\n",
              "    .dataframe tbody tr th:only-of-type {\n",
              "        vertical-align: middle;\n",
              "    }\n",
              "\n",
              "    .dataframe tbody tr th {\n",
              "        vertical-align: top;\n",
              "    }\n",
              "\n",
              "    .dataframe thead th {\n",
              "        text-align: right;\n",
              "    }\n",
              "</style>\n",
              "<table border=\"1\" class=\"dataframe\">\n",
              "  <thead>\n",
              "    <tr style=\"text-align: right;\">\n",
              "      <th></th>\n",
              "      <th>employee</th>\n",
              "      <th>group</th>\n",
              "    </tr>\n",
              "  </thead>\n",
              "  <tbody>\n",
              "    <tr>\n",
              "      <th>0</th>\n",
              "      <td>Bob</td>\n",
              "      <td>Accounting</td>\n",
              "    </tr>\n",
              "    <tr>\n",
              "      <th>1</th>\n",
              "      <td>Jake</td>\n",
              "      <td>Engineering</td>\n",
              "    </tr>\n",
              "    <tr>\n",
              "      <th>2</th>\n",
              "      <td>Lisa</td>\n",
              "      <td>Engineering</td>\n",
              "    </tr>\n",
              "    <tr>\n",
              "      <th>3</th>\n",
              "      <td>Sue</td>\n",
              "      <td>HR</td>\n",
              "    </tr>\n",
              "    <tr>\n",
              "      <th>4</th>\n",
              "      <td>Adriana</td>\n",
              "      <td>Commercial</td>\n",
              "    </tr>\n",
              "  </tbody>\n",
              "</table>\n",
              "</div>\n",
              "    </div>\n",
              "<div style=\"float: left; padding: 10px;\">\n",
              "    <hr>\n",
              "    <p style='font-family:\"Courier New\", Courier, monospace'>df8</p><hr><div>\n",
              "<style scoped>\n",
              "    .dataframe tbody tr th:only-of-type {\n",
              "        vertical-align: middle;\n",
              "    }\n",
              "\n",
              "    .dataframe tbody tr th {\n",
              "        vertical-align: top;\n",
              "    }\n",
              "\n",
              "    .dataframe thead th {\n",
              "        text-align: right;\n",
              "    }\n",
              "</style>\n",
              "<table border=\"1\" class=\"dataframe\">\n",
              "  <thead>\n",
              "    <tr style=\"text-align: right;\">\n",
              "      <th></th>\n",
              "      <th>group</th>\n",
              "      <th>skills</th>\n",
              "    </tr>\n",
              "  </thead>\n",
              "  <tbody>\n",
              "    <tr>\n",
              "      <th>0</th>\n",
              "      <td>Accounting</td>\n",
              "      <td>math</td>\n",
              "    </tr>\n",
              "    <tr>\n",
              "      <th>1</th>\n",
              "      <td>Accounting</td>\n",
              "      <td>spreadsheets</td>\n",
              "    </tr>\n",
              "    <tr>\n",
              "      <th>2</th>\n",
              "      <td>Engineering</td>\n",
              "      <td>coding</td>\n",
              "    </tr>\n",
              "    <tr>\n",
              "      <th>3</th>\n",
              "      <td>Engineering</td>\n",
              "      <td>linux</td>\n",
              "    </tr>\n",
              "    <tr>\n",
              "      <th>4</th>\n",
              "      <td>HR</td>\n",
              "      <td>spreadsheets</td>\n",
              "    </tr>\n",
              "    <tr>\n",
              "      <th>5</th>\n",
              "      <td>HR</td>\n",
              "      <td>organization</td>\n",
              "    </tr>\n",
              "    <tr>\n",
              "      <th>6</th>\n",
              "      <td>Research</td>\n",
              "      <td>Data Science</td>\n",
              "    </tr>\n",
              "  </tbody>\n",
              "</table>\n",
              "</div>\n",
              "    </div>\n",
              "<div style=\"float: left; padding: 10px;\">\n",
              "    <hr>\n",
              "    <p style='font-family:\"Courier New\", Courier, monospace'>pd.merge(df7,df8,how='right')</p><hr><div>\n",
              "<style scoped>\n",
              "    .dataframe tbody tr th:only-of-type {\n",
              "        vertical-align: middle;\n",
              "    }\n",
              "\n",
              "    .dataframe tbody tr th {\n",
              "        vertical-align: top;\n",
              "    }\n",
              "\n",
              "    .dataframe thead th {\n",
              "        text-align: right;\n",
              "    }\n",
              "</style>\n",
              "<table border=\"1\" class=\"dataframe\">\n",
              "  <thead>\n",
              "    <tr style=\"text-align: right;\">\n",
              "      <th></th>\n",
              "      <th>employee</th>\n",
              "      <th>group</th>\n",
              "      <th>skills</th>\n",
              "    </tr>\n",
              "  </thead>\n",
              "  <tbody>\n",
              "    <tr>\n",
              "      <th>0</th>\n",
              "      <td>Bob</td>\n",
              "      <td>Accounting</td>\n",
              "      <td>math</td>\n",
              "    </tr>\n",
              "    <tr>\n",
              "      <th>1</th>\n",
              "      <td>Bob</td>\n",
              "      <td>Accounting</td>\n",
              "      <td>spreadsheets</td>\n",
              "    </tr>\n",
              "    <tr>\n",
              "      <th>2</th>\n",
              "      <td>Jake</td>\n",
              "      <td>Engineering</td>\n",
              "      <td>coding</td>\n",
              "    </tr>\n",
              "    <tr>\n",
              "      <th>3</th>\n",
              "      <td>Lisa</td>\n",
              "      <td>Engineering</td>\n",
              "      <td>coding</td>\n",
              "    </tr>\n",
              "    <tr>\n",
              "      <th>4</th>\n",
              "      <td>Jake</td>\n",
              "      <td>Engineering</td>\n",
              "      <td>linux</td>\n",
              "    </tr>\n",
              "    <tr>\n",
              "      <th>5</th>\n",
              "      <td>Lisa</td>\n",
              "      <td>Engineering</td>\n",
              "      <td>linux</td>\n",
              "    </tr>\n",
              "    <tr>\n",
              "      <th>6</th>\n",
              "      <td>Sue</td>\n",
              "      <td>HR</td>\n",
              "      <td>spreadsheets</td>\n",
              "    </tr>\n",
              "    <tr>\n",
              "      <th>7</th>\n",
              "      <td>Sue</td>\n",
              "      <td>HR</td>\n",
              "      <td>organization</td>\n",
              "    </tr>\n",
              "    <tr>\n",
              "      <th>8</th>\n",
              "      <td>NaN</td>\n",
              "      <td>Research</td>\n",
              "      <td>Data Science</td>\n",
              "    </tr>\n",
              "  </tbody>\n",
              "</table>\n",
              "</div>\n",
              "    </div>"
            ],
            "text/plain": [
              "df7\n",
              "  employee        group\n",
              "0      Bob   Accounting\n",
              "1     Jake  Engineering\n",
              "2     Lisa  Engineering\n",
              "3      Sue           HR\n",
              "4  Adriana   Commercial\n",
              "\n",
              "df8\n",
              "         group        skills\n",
              "0   Accounting          math\n",
              "1   Accounting  spreadsheets\n",
              "2  Engineering        coding\n",
              "3  Engineering         linux\n",
              "4           HR  spreadsheets\n",
              "5           HR  organization\n",
              "6     Research  Data Science\n",
              "\n",
              "pd.merge(df7,df8,how='right')\n",
              "  employee        group        skills\n",
              "0      Bob   Accounting          math\n",
              "1      Bob   Accounting  spreadsheets\n",
              "2     Jake  Engineering        coding\n",
              "3     Lisa  Engineering        coding\n",
              "4     Jake  Engineering         linux\n",
              "5     Lisa  Engineering         linux\n",
              "6      Sue           HR  spreadsheets\n",
              "7      Sue           HR  organization\n",
              "8      NaN     Research  Data Science"
            ]
          },
          "metadata": {
            "tags": []
          },
          "execution_count": 58
        }
      ]
    },
    {
      "cell_type": "markdown",
      "metadata": {
        "id": "v7qeESy4q6Z1"
      },
      "source": [
        "Para inclusão de dados de ambas as tabelas podemos empregar o *full* outter joins das tabelas, "
      ]
    },
    {
      "cell_type": "code",
      "metadata": {
        "colab": {
          "base_uri": "https://localhost:8080/",
          "height": 366
        },
        "id": "yAR89H9BwPtO",
        "outputId": "532de988-d62c-4e2d-bc51-2bc97e87fb63"
      },
      "source": [
        "display('df1','df5',\n",
        "        \"pd.merge(df1,df5,how='outer')\")"
      ],
      "execution_count": null,
      "outputs": [
        {
          "output_type": "execute_result",
          "data": {
            "text/html": [
              "<div style=\"float: left; padding: 10px;\">\n",
              "    <hr>\n",
              "    <p style='font-family:\"Courier New\", Courier, monospace'>df1</p><hr><div>\n",
              "<style scoped>\n",
              "    .dataframe tbody tr th:only-of-type {\n",
              "        vertical-align: middle;\n",
              "    }\n",
              "\n",
              "    .dataframe tbody tr th {\n",
              "        vertical-align: top;\n",
              "    }\n",
              "\n",
              "    .dataframe thead th {\n",
              "        text-align: right;\n",
              "    }\n",
              "</style>\n",
              "<table border=\"1\" class=\"dataframe\">\n",
              "  <thead>\n",
              "    <tr style=\"text-align: right;\">\n",
              "      <th></th>\n",
              "      <th>employee</th>\n",
              "      <th>group</th>\n",
              "    </tr>\n",
              "  </thead>\n",
              "  <tbody>\n",
              "    <tr>\n",
              "      <th>0</th>\n",
              "      <td>Bob</td>\n",
              "      <td>Accounting</td>\n",
              "    </tr>\n",
              "    <tr>\n",
              "      <th>1</th>\n",
              "      <td>Jake</td>\n",
              "      <td>Engineering</td>\n",
              "    </tr>\n",
              "    <tr>\n",
              "      <th>2</th>\n",
              "      <td>Lisa</td>\n",
              "      <td>Engineering</td>\n",
              "    </tr>\n",
              "    <tr>\n",
              "      <th>3</th>\n",
              "      <td>Sue</td>\n",
              "      <td>HR</td>\n",
              "    </tr>\n",
              "  </tbody>\n",
              "</table>\n",
              "</div>\n",
              "    </div>\n",
              "<div style=\"float: left; padding: 10px;\">\n",
              "    <hr>\n",
              "    <p style='font-family:\"Courier New\", Courier, monospace'>df5</p><hr><div>\n",
              "<style scoped>\n",
              "    .dataframe tbody tr th:only-of-type {\n",
              "        vertical-align: middle;\n",
              "    }\n",
              "\n",
              "    .dataframe tbody tr th {\n",
              "        vertical-align: top;\n",
              "    }\n",
              "\n",
              "    .dataframe thead th {\n",
              "        text-align: right;\n",
              "    }\n",
              "</style>\n",
              "<table border=\"1\" class=\"dataframe\">\n",
              "  <thead>\n",
              "    <tr style=\"text-align: right;\">\n",
              "      <th></th>\n",
              "      <th>group</th>\n",
              "      <th>skills</th>\n",
              "    </tr>\n",
              "  </thead>\n",
              "  <tbody>\n",
              "    <tr>\n",
              "      <th>0</th>\n",
              "      <td>Accounting</td>\n",
              "      <td>math</td>\n",
              "    </tr>\n",
              "    <tr>\n",
              "      <th>1</th>\n",
              "      <td>Accounting</td>\n",
              "      <td>spreadsheets</td>\n",
              "    </tr>\n",
              "    <tr>\n",
              "      <th>2</th>\n",
              "      <td>Engineering</td>\n",
              "      <td>coding</td>\n",
              "    </tr>\n",
              "    <tr>\n",
              "      <th>3</th>\n",
              "      <td>Engineering</td>\n",
              "      <td>linux</td>\n",
              "    </tr>\n",
              "    <tr>\n",
              "      <th>4</th>\n",
              "      <td>HR</td>\n",
              "      <td>spreadsheets</td>\n",
              "    </tr>\n",
              "    <tr>\n",
              "      <th>5</th>\n",
              "      <td>HR</td>\n",
              "      <td>organization</td>\n",
              "    </tr>\n",
              "  </tbody>\n",
              "</table>\n",
              "</div>\n",
              "    </div>\n",
              "<div style=\"float: left; padding: 10px;\">\n",
              "    <hr>\n",
              "    <p style='font-family:\"Courier New\", Courier, monospace'>pd.merge(df1,df5,how='outer')</p><hr><div>\n",
              "<style scoped>\n",
              "    .dataframe tbody tr th:only-of-type {\n",
              "        vertical-align: middle;\n",
              "    }\n",
              "\n",
              "    .dataframe tbody tr th {\n",
              "        vertical-align: top;\n",
              "    }\n",
              "\n",
              "    .dataframe thead th {\n",
              "        text-align: right;\n",
              "    }\n",
              "</style>\n",
              "<table border=\"1\" class=\"dataframe\">\n",
              "  <thead>\n",
              "    <tr style=\"text-align: right;\">\n",
              "      <th></th>\n",
              "      <th>employee</th>\n",
              "      <th>group</th>\n",
              "      <th>skills</th>\n",
              "    </tr>\n",
              "  </thead>\n",
              "  <tbody>\n",
              "    <tr>\n",
              "      <th>0</th>\n",
              "      <td>Bob</td>\n",
              "      <td>Accounting</td>\n",
              "      <td>math</td>\n",
              "    </tr>\n",
              "    <tr>\n",
              "      <th>1</th>\n",
              "      <td>Bob</td>\n",
              "      <td>Accounting</td>\n",
              "      <td>spreadsheets</td>\n",
              "    </tr>\n",
              "    <tr>\n",
              "      <th>2</th>\n",
              "      <td>Jake</td>\n",
              "      <td>Engineering</td>\n",
              "      <td>coding</td>\n",
              "    </tr>\n",
              "    <tr>\n",
              "      <th>3</th>\n",
              "      <td>Jake</td>\n",
              "      <td>Engineering</td>\n",
              "      <td>linux</td>\n",
              "    </tr>\n",
              "    <tr>\n",
              "      <th>4</th>\n",
              "      <td>Lisa</td>\n",
              "      <td>Engineering</td>\n",
              "      <td>coding</td>\n",
              "    </tr>\n",
              "    <tr>\n",
              "      <th>5</th>\n",
              "      <td>Lisa</td>\n",
              "      <td>Engineering</td>\n",
              "      <td>linux</td>\n",
              "    </tr>\n",
              "    <tr>\n",
              "      <th>6</th>\n",
              "      <td>Sue</td>\n",
              "      <td>HR</td>\n",
              "      <td>spreadsheets</td>\n",
              "    </tr>\n",
              "    <tr>\n",
              "      <th>7</th>\n",
              "      <td>Sue</td>\n",
              "      <td>HR</td>\n",
              "      <td>organization</td>\n",
              "    </tr>\n",
              "  </tbody>\n",
              "</table>\n",
              "</div>\n",
              "    </div>"
            ],
            "text/plain": [
              "df1\n",
              "  employee        group\n",
              "0      Bob   Accounting\n",
              "1     Jake  Engineering\n",
              "2     Lisa  Engineering\n",
              "3      Sue           HR\n",
              "\n",
              "df5\n",
              "         group        skills\n",
              "0   Accounting          math\n",
              "1   Accounting  spreadsheets\n",
              "2  Engineering        coding\n",
              "3  Engineering         linux\n",
              "4           HR  spreadsheets\n",
              "5           HR  organization\n",
              "\n",
              "pd.merge(df1,df5,how='outer')\n",
              "  employee        group        skills\n",
              "0      Bob   Accounting          math\n",
              "1      Bob   Accounting  spreadsheets\n",
              "2     Jake  Engineering        coding\n",
              "3     Jake  Engineering         linux\n",
              "4     Lisa  Engineering        coding\n",
              "5     Lisa  Engineering         linux\n",
              "6      Sue           HR  spreadsheets\n",
              "7      Sue           HR  organization"
            ]
          },
          "metadata": {
            "tags": []
          },
          "execution_count": 59
        }
      ]
    },
    {
      "cell_type": "markdown",
      "metadata": {
        "id": "0SOGo8EErMwi"
      },
      "source": [
        "# Reshape dos dados\n",
        "\n",
        "Vamos concluir falando sobre operações de reshape, ou de alteração da forma dos dados. \n",
        "\n",
        "Em muitos casos práticos os dados não estarão exatamente no melhor formato para sua análise. Podemos ter dados em colunas quanto queríamos que estivessem em linhas ou vice-versa. Empregamos então transformações para *reshape* dos dados. O `Pandas` fornece duas funções úteis para isso, o `melt` para levar dados de colunas para linhas e `pivot` para trazer dados de linhas para colunas. "
      ]
    },
    {
      "cell_type": "markdown",
      "metadata": {
        "id": "yhFd9MMkWbu6"
      },
      "source": [
        "## Melt, `pd.melt(df, id_vars = , value_vars = )`\n",
        "\n",
        "Esta função incluirá para cada `id` uma nova variável com os valores do campo `value_vars`. "
      ]
    },
    {
      "cell_type": "code",
      "metadata": {
        "colab": {
          "base_uri": "https://localhost:8080/",
          "height": 211
        },
        "id": "LXM977xHTJph",
        "outputId": "90acfcc2-064f-44b0-cfe8-83ccdc6a1728"
      },
      "source": [
        "display('df', \n",
        "        \"pd.melt(df, id_vars =['Nome'], value_vars =['Curso'])\")\n"
      ],
      "execution_count": null,
      "outputs": [
        {
          "output_type": "execute_result",
          "data": {
            "text/html": [
              "<div style=\"float: left; padding: 10px;\">\n",
              "    <hr>\n",
              "    <p style='font-family:\"Courier New\", Courier, monospace'>df</p><hr><div>\n",
              "<style scoped>\n",
              "    .dataframe tbody tr th:only-of-type {\n",
              "        vertical-align: middle;\n",
              "    }\n",
              "\n",
              "    .dataframe tbody tr th {\n",
              "        vertical-align: top;\n",
              "    }\n",
              "\n",
              "    .dataframe thead th {\n",
              "        text-align: right;\n",
              "    }\n",
              "</style>\n",
              "<table border=\"1\" class=\"dataframe\">\n",
              "  <thead>\n",
              "    <tr style=\"text-align: right;\">\n",
              "      <th></th>\n",
              "      <th>Nome</th>\n",
              "      <th>Curso</th>\n",
              "      <th>Idade</th>\n",
              "    </tr>\n",
              "  </thead>\n",
              "  <tbody>\n",
              "    <tr>\n",
              "      <th>0</th>\n",
              "      <td>Adriana</td>\n",
              "      <td>Graduação</td>\n",
              "      <td>34</td>\n",
              "    </tr>\n",
              "    <tr>\n",
              "      <th>1</th>\n",
              "      <td>Daniel</td>\n",
              "      <td>Graduação</td>\n",
              "      <td>25</td>\n",
              "    </tr>\n",
              "    <tr>\n",
              "      <th>2</th>\n",
              "      <td>Henrique</td>\n",
              "      <td>Ensino Médio</td>\n",
              "      <td>17</td>\n",
              "    </tr>\n",
              "  </tbody>\n",
              "</table>\n",
              "</div>\n",
              "    </div>\n",
              "<div style=\"float: left; padding: 10px;\">\n",
              "    <hr>\n",
              "    <p style='font-family:\"Courier New\", Courier, monospace'>pd.melt(df, id_vars =['Nome'], value_vars =['Curso'])</p><hr><div>\n",
              "<style scoped>\n",
              "    .dataframe tbody tr th:only-of-type {\n",
              "        vertical-align: middle;\n",
              "    }\n",
              "\n",
              "    .dataframe tbody tr th {\n",
              "        vertical-align: top;\n",
              "    }\n",
              "\n",
              "    .dataframe thead th {\n",
              "        text-align: right;\n",
              "    }\n",
              "</style>\n",
              "<table border=\"1\" class=\"dataframe\">\n",
              "  <thead>\n",
              "    <tr style=\"text-align: right;\">\n",
              "      <th></th>\n",
              "      <th>Nome</th>\n",
              "      <th>variable</th>\n",
              "      <th>value</th>\n",
              "    </tr>\n",
              "  </thead>\n",
              "  <tbody>\n",
              "    <tr>\n",
              "      <th>0</th>\n",
              "      <td>Adriana</td>\n",
              "      <td>Curso</td>\n",
              "      <td>Graduação</td>\n",
              "    </tr>\n",
              "    <tr>\n",
              "      <th>1</th>\n",
              "      <td>Daniel</td>\n",
              "      <td>Curso</td>\n",
              "      <td>Graduação</td>\n",
              "    </tr>\n",
              "    <tr>\n",
              "      <th>2</th>\n",
              "      <td>Henrique</td>\n",
              "      <td>Curso</td>\n",
              "      <td>Ensino Médio</td>\n",
              "    </tr>\n",
              "  </tbody>\n",
              "</table>\n",
              "</div>\n",
              "    </div>"
            ],
            "text/plain": [
              "df\n",
              "       Nome         Curso  Idade\n",
              "0   Adriana     Graduação     34\n",
              "1    Daniel     Graduação     25\n",
              "2  Henrique  Ensino Médio     17\n",
              "\n",
              "pd.melt(df, id_vars =['Nome'], value_vars =['Curso'])\n",
              "       Nome variable         value\n",
              "0   Adriana    Curso     Graduação\n",
              "1    Daniel    Curso     Graduação\n",
              "2  Henrique    Curso  Ensino Médio"
            ]
          },
          "metadata": {
            "tags": []
          },
          "execution_count": 60
        }
      ]
    },
    {
      "cell_type": "code",
      "metadata": {
        "colab": {
          "base_uri": "https://localhost:8080/",
          "height": 304
        },
        "id": "v2lu9YXrXDVq",
        "outputId": "2aba327e-936f-46ec-9e1d-aa6a36f6bd3c"
      },
      "source": [
        "display('df', \n",
        "        \"pd.melt(df, id_vars =['Nome'], value_vars =['Curso','Idade'])\")"
      ],
      "execution_count": null,
      "outputs": [
        {
          "output_type": "execute_result",
          "data": {
            "text/html": [
              "<div style=\"float: left; padding: 10px;\">\n",
              "    <hr>\n",
              "    <p style='font-family:\"Courier New\", Courier, monospace'>df</p><hr><div>\n",
              "<style scoped>\n",
              "    .dataframe tbody tr th:only-of-type {\n",
              "        vertical-align: middle;\n",
              "    }\n",
              "\n",
              "    .dataframe tbody tr th {\n",
              "        vertical-align: top;\n",
              "    }\n",
              "\n",
              "    .dataframe thead th {\n",
              "        text-align: right;\n",
              "    }\n",
              "</style>\n",
              "<table border=\"1\" class=\"dataframe\">\n",
              "  <thead>\n",
              "    <tr style=\"text-align: right;\">\n",
              "      <th></th>\n",
              "      <th>Nome</th>\n",
              "      <th>Curso</th>\n",
              "      <th>Idade</th>\n",
              "    </tr>\n",
              "  </thead>\n",
              "  <tbody>\n",
              "    <tr>\n",
              "      <th>0</th>\n",
              "      <td>Adriana</td>\n",
              "      <td>Graduação</td>\n",
              "      <td>34</td>\n",
              "    </tr>\n",
              "    <tr>\n",
              "      <th>1</th>\n",
              "      <td>Daniel</td>\n",
              "      <td>Graduação</td>\n",
              "      <td>25</td>\n",
              "    </tr>\n",
              "    <tr>\n",
              "      <th>2</th>\n",
              "      <td>Henrique</td>\n",
              "      <td>Ensino Médio</td>\n",
              "      <td>17</td>\n",
              "    </tr>\n",
              "  </tbody>\n",
              "</table>\n",
              "</div>\n",
              "    </div>\n",
              "<div style=\"float: left; padding: 10px;\">\n",
              "    <hr>\n",
              "    <p style='font-family:\"Courier New\", Courier, monospace'>pd.melt(df, id_vars =['Nome'], value_vars =['Curso','Idade'])</p><hr><div>\n",
              "<style scoped>\n",
              "    .dataframe tbody tr th:only-of-type {\n",
              "        vertical-align: middle;\n",
              "    }\n",
              "\n",
              "    .dataframe tbody tr th {\n",
              "        vertical-align: top;\n",
              "    }\n",
              "\n",
              "    .dataframe thead th {\n",
              "        text-align: right;\n",
              "    }\n",
              "</style>\n",
              "<table border=\"1\" class=\"dataframe\">\n",
              "  <thead>\n",
              "    <tr style=\"text-align: right;\">\n",
              "      <th></th>\n",
              "      <th>Nome</th>\n",
              "      <th>variable</th>\n",
              "      <th>value</th>\n",
              "    </tr>\n",
              "  </thead>\n",
              "  <tbody>\n",
              "    <tr>\n",
              "      <th>0</th>\n",
              "      <td>Adriana</td>\n",
              "      <td>Curso</td>\n",
              "      <td>Graduação</td>\n",
              "    </tr>\n",
              "    <tr>\n",
              "      <th>1</th>\n",
              "      <td>Daniel</td>\n",
              "      <td>Curso</td>\n",
              "      <td>Graduação</td>\n",
              "    </tr>\n",
              "    <tr>\n",
              "      <th>2</th>\n",
              "      <td>Henrique</td>\n",
              "      <td>Curso</td>\n",
              "      <td>Ensino Médio</td>\n",
              "    </tr>\n",
              "    <tr>\n",
              "      <th>3</th>\n",
              "      <td>Adriana</td>\n",
              "      <td>Idade</td>\n",
              "      <td>34</td>\n",
              "    </tr>\n",
              "    <tr>\n",
              "      <th>4</th>\n",
              "      <td>Daniel</td>\n",
              "      <td>Idade</td>\n",
              "      <td>25</td>\n",
              "    </tr>\n",
              "    <tr>\n",
              "      <th>5</th>\n",
              "      <td>Henrique</td>\n",
              "      <td>Idade</td>\n",
              "      <td>17</td>\n",
              "    </tr>\n",
              "  </tbody>\n",
              "</table>\n",
              "</div>\n",
              "    </div>"
            ],
            "text/plain": [
              "df\n",
              "       Nome         Curso  Idade\n",
              "0   Adriana     Graduação     34\n",
              "1    Daniel     Graduação     25\n",
              "2  Henrique  Ensino Médio     17\n",
              "\n",
              "pd.melt(df, id_vars =['Nome'], value_vars =['Curso','Idade'])\n",
              "       Nome variable         value\n",
              "0   Adriana    Curso     Graduação\n",
              "1    Daniel    Curso     Graduação\n",
              "2  Henrique    Curso  Ensino Médio\n",
              "3   Adriana    Idade            34\n",
              "4    Daniel    Idade            25\n",
              "5  Henrique    Idade            17"
            ]
          },
          "metadata": {
            "tags": []
          },
          "execution_count": 61
        }
      ]
    },
    {
      "cell_type": "markdown",
      "metadata": {
        "id": "p1TDLFQnswUI"
      },
      "source": [
        "Os parâmetros `var_name` e `value_name` podem ser empregados para alterar o nome dos atributos criados."
      ]
    },
    {
      "cell_type": "code",
      "metadata": {
        "colab": {
          "base_uri": "https://localhost:8080/",
          "height": 211
        },
        "id": "M0cKRqOKXR8p",
        "outputId": "6fd7fe7b-0294-4929-dccb-5fa5e7041f7f"
      },
      "source": [
        "display('df', \n",
        "        \"pd.melt(df, id_vars =['Nome'], value_vars =['Idade'], var_name ='Tipo_atributo', value_name ='Valor_atributo')\")"
      ],
      "execution_count": null,
      "outputs": [
        {
          "output_type": "execute_result",
          "data": {
            "text/html": [
              "<div style=\"float: left; padding: 10px;\">\n",
              "    <hr>\n",
              "    <p style='font-family:\"Courier New\", Courier, monospace'>df</p><hr><div>\n",
              "<style scoped>\n",
              "    .dataframe tbody tr th:only-of-type {\n",
              "        vertical-align: middle;\n",
              "    }\n",
              "\n",
              "    .dataframe tbody tr th {\n",
              "        vertical-align: top;\n",
              "    }\n",
              "\n",
              "    .dataframe thead th {\n",
              "        text-align: right;\n",
              "    }\n",
              "</style>\n",
              "<table border=\"1\" class=\"dataframe\">\n",
              "  <thead>\n",
              "    <tr style=\"text-align: right;\">\n",
              "      <th></th>\n",
              "      <th>Nome</th>\n",
              "      <th>Curso</th>\n",
              "      <th>Idade</th>\n",
              "    </tr>\n",
              "  </thead>\n",
              "  <tbody>\n",
              "    <tr>\n",
              "      <th>0</th>\n",
              "      <td>Adriana</td>\n",
              "      <td>Graduação</td>\n",
              "      <td>34</td>\n",
              "    </tr>\n",
              "    <tr>\n",
              "      <th>1</th>\n",
              "      <td>Daniel</td>\n",
              "      <td>Graduação</td>\n",
              "      <td>25</td>\n",
              "    </tr>\n",
              "    <tr>\n",
              "      <th>2</th>\n",
              "      <td>Henrique</td>\n",
              "      <td>Ensino Médio</td>\n",
              "      <td>17</td>\n",
              "    </tr>\n",
              "  </tbody>\n",
              "</table>\n",
              "</div>\n",
              "    </div>\n",
              "<div style=\"float: left; padding: 10px;\">\n",
              "    <hr>\n",
              "    <p style='font-family:\"Courier New\", Courier, monospace'>pd.melt(df, id_vars =['Nome'], value_vars =['Idade'], var_name ='Tipo_atributo', value_name ='Valor_atributo')</p><hr><div>\n",
              "<style scoped>\n",
              "    .dataframe tbody tr th:only-of-type {\n",
              "        vertical-align: middle;\n",
              "    }\n",
              "\n",
              "    .dataframe tbody tr th {\n",
              "        vertical-align: top;\n",
              "    }\n",
              "\n",
              "    .dataframe thead th {\n",
              "        text-align: right;\n",
              "    }\n",
              "</style>\n",
              "<table border=\"1\" class=\"dataframe\">\n",
              "  <thead>\n",
              "    <tr style=\"text-align: right;\">\n",
              "      <th></th>\n",
              "      <th>Nome</th>\n",
              "      <th>Tipo_atributo</th>\n",
              "      <th>Valor_atributo</th>\n",
              "    </tr>\n",
              "  </thead>\n",
              "  <tbody>\n",
              "    <tr>\n",
              "      <th>0</th>\n",
              "      <td>Adriana</td>\n",
              "      <td>Idade</td>\n",
              "      <td>34</td>\n",
              "    </tr>\n",
              "    <tr>\n",
              "      <th>1</th>\n",
              "      <td>Daniel</td>\n",
              "      <td>Idade</td>\n",
              "      <td>25</td>\n",
              "    </tr>\n",
              "    <tr>\n",
              "      <th>2</th>\n",
              "      <td>Henrique</td>\n",
              "      <td>Idade</td>\n",
              "      <td>17</td>\n",
              "    </tr>\n",
              "  </tbody>\n",
              "</table>\n",
              "</div>\n",
              "    </div>"
            ],
            "text/plain": [
              "df\n",
              "       Nome         Curso  Idade\n",
              "0   Adriana     Graduação     34\n",
              "1    Daniel     Graduação     25\n",
              "2  Henrique  Ensino Médio     17\n",
              "\n",
              "pd.melt(df, id_vars =['Nome'], value_vars =['Idade'], var_name ='Tipo_atributo', value_name ='Valor_atributo')\n",
              "       Nome Tipo_atributo  Valor_atributo\n",
              "0   Adriana         Idade              34\n",
              "1    Daniel         Idade              25\n",
              "2  Henrique         Idade              17"
            ]
          },
          "metadata": {
            "tags": []
          },
          "execution_count": 62
        }
      ]
    },
    {
      "cell_type": "markdown",
      "metadata": {
        "id": "EBo70m3BYaqh"
      },
      "source": [
        "## `pd.pivot(df, index= , columns= , values= )`\n",
        "\n",
        "Esta função cria para cada valor de uma coluna uma linha com os valores correspondentes,"
      ]
    },
    {
      "cell_type": "code",
      "metadata": {
        "colab": {
          "base_uri": "https://localhost:8080/",
          "height": 242
        },
        "id": "8z7EESmwTQhH",
        "outputId": "6cd4d6e9-eec2-4191-8602-254eccfbb3de"
      },
      "source": [
        "display('df', \n",
        "        \"pd.pivot(df, 'Nome', 'Curso', 'Idade')\")"
      ],
      "execution_count": null,
      "outputs": [
        {
          "output_type": "execute_result",
          "data": {
            "text/html": [
              "<div style=\"float: left; padding: 10px;\">\n",
              "    <hr>\n",
              "    <p style='font-family:\"Courier New\", Courier, monospace'>df</p><hr><div>\n",
              "<style scoped>\n",
              "    .dataframe tbody tr th:only-of-type {\n",
              "        vertical-align: middle;\n",
              "    }\n",
              "\n",
              "    .dataframe tbody tr th {\n",
              "        vertical-align: top;\n",
              "    }\n",
              "\n",
              "    .dataframe thead th {\n",
              "        text-align: right;\n",
              "    }\n",
              "</style>\n",
              "<table border=\"1\" class=\"dataframe\">\n",
              "  <thead>\n",
              "    <tr style=\"text-align: right;\">\n",
              "      <th></th>\n",
              "      <th>Nome</th>\n",
              "      <th>Curso</th>\n",
              "      <th>Idade</th>\n",
              "    </tr>\n",
              "  </thead>\n",
              "  <tbody>\n",
              "    <tr>\n",
              "      <th>0</th>\n",
              "      <td>Adriana</td>\n",
              "      <td>Graduação</td>\n",
              "      <td>34</td>\n",
              "    </tr>\n",
              "    <tr>\n",
              "      <th>1</th>\n",
              "      <td>Daniel</td>\n",
              "      <td>Graduação</td>\n",
              "      <td>25</td>\n",
              "    </tr>\n",
              "    <tr>\n",
              "      <th>2</th>\n",
              "      <td>Henrique</td>\n",
              "      <td>Ensino Médio</td>\n",
              "      <td>17</td>\n",
              "    </tr>\n",
              "  </tbody>\n",
              "</table>\n",
              "</div>\n",
              "    </div>\n",
              "<div style=\"float: left; padding: 10px;\">\n",
              "    <hr>\n",
              "    <p style='font-family:\"Courier New\", Courier, monospace'>pd.pivot(df, 'Nome', 'Curso', 'Idade')</p><hr><div>\n",
              "<style scoped>\n",
              "    .dataframe tbody tr th:only-of-type {\n",
              "        vertical-align: middle;\n",
              "    }\n",
              "\n",
              "    .dataframe tbody tr th {\n",
              "        vertical-align: top;\n",
              "    }\n",
              "\n",
              "    .dataframe thead th {\n",
              "        text-align: right;\n",
              "    }\n",
              "</style>\n",
              "<table border=\"1\" class=\"dataframe\">\n",
              "  <thead>\n",
              "    <tr style=\"text-align: right;\">\n",
              "      <th>Curso</th>\n",
              "      <th>Ensino Médio</th>\n",
              "      <th>Graduação</th>\n",
              "    </tr>\n",
              "    <tr>\n",
              "      <th>Nome</th>\n",
              "      <th></th>\n",
              "      <th></th>\n",
              "    </tr>\n",
              "  </thead>\n",
              "  <tbody>\n",
              "    <tr>\n",
              "      <th>Adriana</th>\n",
              "      <td>NaN</td>\n",
              "      <td>34.0</td>\n",
              "    </tr>\n",
              "    <tr>\n",
              "      <th>Daniel</th>\n",
              "      <td>NaN</td>\n",
              "      <td>25.0</td>\n",
              "    </tr>\n",
              "    <tr>\n",
              "      <th>Henrique</th>\n",
              "      <td>17.0</td>\n",
              "      <td>NaN</td>\n",
              "    </tr>\n",
              "  </tbody>\n",
              "</table>\n",
              "</div>\n",
              "    </div>"
            ],
            "text/plain": [
              "df\n",
              "       Nome         Curso  Idade\n",
              "0   Adriana     Graduação     34\n",
              "1    Daniel     Graduação     25\n",
              "2  Henrique  Ensino Médio     17\n",
              "\n",
              "pd.pivot(df, 'Nome', 'Curso', 'Idade')\n",
              "Curso     Ensino Médio  Graduação\n",
              "Nome                             \n",
              "Adriana            NaN       34.0\n",
              "Daniel             NaN       25.0\n",
              "Henrique          17.0        NaN"
            ]
          },
          "metadata": {
            "tags": []
          },
          "execution_count": 63
        }
      ]
    },
    {
      "cell_type": "markdown",
      "metadata": {
        "id": "djVTWCCntdGa"
      },
      "source": [
        "E você pode achar útil empregar o `reset_index()` ao conjunto de dados criado,"
      ]
    },
    {
      "cell_type": "code",
      "metadata": {
        "colab": {
          "base_uri": "https://localhost:8080/",
          "height": 276
        },
        "id": "GnjSo0b5epGb",
        "outputId": "48f1c6fc-9e3f-44eb-be17-08d114809756"
      },
      "source": [
        "df2 = pd.pivot(df, 'Nome', 'Curso', 'Idade')\n",
        "df3 = pd.pivot(df, 'Nome', 'Curso', 'Idade').reset_index()\n",
        "df3.columns.name = ''\n",
        "\n",
        "print(df2.columns)\n",
        "print(df3.columns)\n",
        "\n",
        "display('df2','df3')\n"
      ],
      "execution_count": null,
      "outputs": [
        {
          "output_type": "stream",
          "text": [
            "Index(['Ensino Médio', 'Graduação'], dtype='object', name='Curso')\n",
            "Index(['Nome', 'Ensino Médio', 'Graduação'], dtype='object', name='')\n"
          ],
          "name": "stdout"
        },
        {
          "output_type": "execute_result",
          "data": {
            "text/html": [
              "<div style=\"float: left; padding: 10px;\">\n",
              "    <hr>\n",
              "    <p style='font-family:\"Courier New\", Courier, monospace'>df2</p><hr><div>\n",
              "<style scoped>\n",
              "    .dataframe tbody tr th:only-of-type {\n",
              "        vertical-align: middle;\n",
              "    }\n",
              "\n",
              "    .dataframe tbody tr th {\n",
              "        vertical-align: top;\n",
              "    }\n",
              "\n",
              "    .dataframe thead th {\n",
              "        text-align: right;\n",
              "    }\n",
              "</style>\n",
              "<table border=\"1\" class=\"dataframe\">\n",
              "  <thead>\n",
              "    <tr style=\"text-align: right;\">\n",
              "      <th>Curso</th>\n",
              "      <th>Ensino Médio</th>\n",
              "      <th>Graduação</th>\n",
              "    </tr>\n",
              "    <tr>\n",
              "      <th>Nome</th>\n",
              "      <th></th>\n",
              "      <th></th>\n",
              "    </tr>\n",
              "  </thead>\n",
              "  <tbody>\n",
              "    <tr>\n",
              "      <th>Adriana</th>\n",
              "      <td>NaN</td>\n",
              "      <td>34.0</td>\n",
              "    </tr>\n",
              "    <tr>\n",
              "      <th>Daniel</th>\n",
              "      <td>NaN</td>\n",
              "      <td>25.0</td>\n",
              "    </tr>\n",
              "    <tr>\n",
              "      <th>Henrique</th>\n",
              "      <td>17.0</td>\n",
              "      <td>NaN</td>\n",
              "    </tr>\n",
              "  </tbody>\n",
              "</table>\n",
              "</div>\n",
              "    </div>\n",
              "<div style=\"float: left; padding: 10px;\">\n",
              "    <hr>\n",
              "    <p style='font-family:\"Courier New\", Courier, monospace'>df3</p><hr><div>\n",
              "<style scoped>\n",
              "    .dataframe tbody tr th:only-of-type {\n",
              "        vertical-align: middle;\n",
              "    }\n",
              "\n",
              "    .dataframe tbody tr th {\n",
              "        vertical-align: top;\n",
              "    }\n",
              "\n",
              "    .dataframe thead th {\n",
              "        text-align: right;\n",
              "    }\n",
              "</style>\n",
              "<table border=\"1\" class=\"dataframe\">\n",
              "  <thead>\n",
              "    <tr style=\"text-align: right;\">\n",
              "      <th></th>\n",
              "      <th>Nome</th>\n",
              "      <th>Ensino Médio</th>\n",
              "      <th>Graduação</th>\n",
              "    </tr>\n",
              "  </thead>\n",
              "  <tbody>\n",
              "    <tr>\n",
              "      <th>0</th>\n",
              "      <td>Adriana</td>\n",
              "      <td>NaN</td>\n",
              "      <td>34.0</td>\n",
              "    </tr>\n",
              "    <tr>\n",
              "      <th>1</th>\n",
              "      <td>Daniel</td>\n",
              "      <td>NaN</td>\n",
              "      <td>25.0</td>\n",
              "    </tr>\n",
              "    <tr>\n",
              "      <th>2</th>\n",
              "      <td>Henrique</td>\n",
              "      <td>17.0</td>\n",
              "      <td>NaN</td>\n",
              "    </tr>\n",
              "  </tbody>\n",
              "</table>\n",
              "</div>\n",
              "    </div>"
            ],
            "text/plain": [
              "df2\n",
              "Curso     Ensino Médio  Graduação\n",
              "Nome                             \n",
              "Adriana            NaN       34.0\n",
              "Daniel             NaN       25.0\n",
              "Henrique          17.0        NaN\n",
              "\n",
              "df3\n",
              "       Nome  Ensino Médio  Graduação\n",
              "0   Adriana           NaN       34.0\n",
              "1    Daniel           NaN       25.0\n",
              "2  Henrique          17.0        NaN"
            ]
          },
          "metadata": {
            "tags": []
          },
          "execution_count": 64
        }
      ]
    },
    {
      "cell_type": "markdown",
      "metadata": {
        "id": "hlJDeAY3OGTb"
      },
      "source": [
        "# Síntese\n",
        "\n",
        "Nesta trilha você aprendeu como manipular dados com o `Pandas`. \n",
        "\n",
        "As operações de consulta envolvem obter informações sobre a estrutura dos dados (tamanho, formatos etc.) e seleções de dados. As seleções podem se referir a atributos ou instâncias de dados que contenham valores segundo algum critério de seleção (valores iguais a, menores que, etc.). Podemos ainda fazer agregações dos dados e obter informações sobre essas agregações (valores médios, quantidades etc.). \n",
        "\n",
        "Quando temos dados de duas ou mais tabelas as combinações de dados podem ser empregadas tanto para consulta como para criação de novos conjuntos de dados e, aqui, você aprendeu como fazer concatenações e junções de tabelas com o `Pandas`.\n",
        "\n",
        "Por último, você aprendeu a empregar o `Pandas` para alterar a estrutura de linhas e colunas dos dados (instruções `melt` e `pivot`).\n",
        "\n",
        "Essas operações sobre os dados desempenham um papel bastante importante na análise e na ciência de dados e é comum, nos processos de análise de dados industrializados, criarmos `pipelines` de dados em que várias operações como seleções, junções e transformações dos dados, são programadas e automatizadas.\n"
      ]
    },
    {
      "cell_type": "markdown",
      "metadata": {
        "id": "-Rh3-Vt9Nev9"
      },
      "source": [
        "## Para saber mais\n",
        "\n",
        "Acesse **Pandas GroupBy: Your Guide to Grouping Data in Python** em: https://realpython.com/pandas-groupby/ e entenda mais como criar e manipular grupos de dados com `Python`.\n",
        "\n",
        "Veja aqui uma palestra recente de Wes McKinney, o desenvolvedor inicial do `Pandas`, **Wes McKinney - Keynote - PyCon Colombia 2020**, em: https://youtu.be/ZTXFQ2sEarQ\n",
        "\n",
        "Revise aqui o essencial em **Pandas Cheat Sheet for Data Science in Python**, em: https://www.datacamp.com/community/blog/python-pandas-cheat-sheet um rápido tutorial de Karlijn Willems ou ainda pode acessar o Tutorial do Pandas, https://pandas.pydata.org/pandas-docs/stable/getting_started/index.html"
      ]
    },
    {
      "cell_type": "markdown",
      "metadata": {
        "id": "h_6fwcVkCsLf"
      },
      "source": [
        "## Referências\n",
        "\n",
        "1. Phuong, Vo. T.H.; Czygan, Martin. **Getting Started with Python Data Analysis**. Birmingham: Packt Publishing, 2015.\n",
        "\n",
        "2. McKinney Wes. **Python for data analysis (1st. ed.)**. O'Reilly Media, Inc. (2012). \n",
        "\n",
        "3. Jake VanderPlas. **Python Data Science Handbook**. O'Reilly Media, Inc. (2016). ISBN: 9781491912058. Disponível em: https://jakevdp.github.io/PythonDataScienceHandbook/. Acesso: 17.05.2021.\n",
        "\n",
        "4. ___. **Python**. https://www.python.org/\n",
        "\n",
        "5. ___. **Pandas**. https://pandas.pydata.org/\n",
        "\n",
        "\n",
        "\n",
        "\n",
        "\n",
        "\n",
        "\n"
      ]
    }
  ]
}