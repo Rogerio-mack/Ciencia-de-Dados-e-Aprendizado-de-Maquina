{
  "nbformat": 4,
  "nbformat_minor": 0,
  "metadata": {
    "kernelspec": {
      "display_name": "Python 3",
      "language": "python",
      "name": "python3"
    },
    "language_info": {
      "codemirror_mode": {
        "name": "ipython",
        "version": 3
      },
      "file_extension": ".py",
      "mimetype": "text/x-python",
      "name": "python",
      "nbconvert_exporter": "python",
      "pygments_lexer": "ipython3",
      "version": "3.7.4"
    },
    "colab": {
      "name": "A1_Lab.ipynb",
      "provenance": [],
      "include_colab_link": true
    }
  },
  "cells": [
    {
      "cell_type": "markdown",
      "metadata": {
        "id": "view-in-github",
        "colab_type": "text"
      },
      "source": [
        "<a href=\"https://colab.research.google.com/github/Rogerio-mack/Ciencia-de-Dados-e-Aprendizado-de-Maquina/blob/main/A1_Lab.ipynb\" target=\"_parent\"><img src=\"https://colab.research.google.com/assets/colab-badge.svg\" alt=\"Open In Colab\"/></a>"
      ]
    },
    {
      "cell_type": "markdown",
      "metadata": {
        "id": "pqEhMdFQO3A-"
      },
      "source": [
        "<head>\n",
        "  <meta name=\"author\" content=\"Rogério de Oliveira\">\n",
        "  <meta institution=\"author\" content=\"Universidade Presbiteriana Mackenzie\">\n",
        "</head>\n",
        "\n",
        "<img src=\"http://meusite.mackenzie.br/rogerio/mackenzie_logo/UPM.2_horizontal_vermelho.jpg\" width=300, align=\"right\"> \n",
        "<!-- <h1 align=left><font size = 6, style=\"color:rgb(200,0,0)\"> optional title </font></h1> -->\n",
        "\n",
        "<br>\n",
        "<br>\n",
        "<br>\n",
        "<br>\n",
        "<br>\n",
        "\n",
        "# A1 Lab Caso: **Controle de Qualidade de Peças de uma Indústria** \n",
        "---"
      ]
    },
    {
      "cell_type": "markdown",
      "metadata": {
        "id": "ZOkn7SvMHTOp"
      },
      "source": [
        "**pieces** é um data set para o controle de qualidade de peças produzidas por uma indústria. São empregadas quatro medidas (A, B, C e D) para o controle da qualidade das peças. As peças são então *Accept, Refurbish* ou *Reject* segundo o controle de qualidade (atributo `Quality`). A indústria ainda conta com 3 unidades para a produção dessas peças (atributo `Unit`). \n",
        "\n",
        "Seu trabalho é criar modelos supervisionados de classificação para predição da qualidade das peças e empregar o melhor modelo obtido (maior acuracidade) na predição da qualidade de novos casos. Em seguida você empregará um modelo de regressão linear para predição de medidas das peças.\n",
        "\n",
        "<br>\n",
        "\n",
        "***\n",
        "\n",
        "<br>\n",
        "\n",
        "Empregue os arquivos e crie os modelos conforme o final do seu TIA:\n",
        "\n",
        "* TIA final 1,2: Arquivo [\\*] = **1**, e Modelos: **Knn k=7** e **Árvore de Decisão**\n",
        "* TIA final 3,4: Arquivo [\\*] = **2** e Modelos: **Knn k=5** e **Árvore de Decisão**\n",
        "* TIA final 5,6: Arquivo [\\*] = **3** e Modelos: **Knn k=7** e **Regressão Logística**\n",
        "* TIA final 7,8: Arquivo [\\*] = **4** e Modelos: **Knn k=9** e  **Regressão Logística**\n",
        "* TIA final 9,0: Arquivo [\\*] = **5** e  Modelos: **Knn k=5** e **Árvore de Decisão com criterion='entropy'**\n",
        "\n",
        "> Arquivo de Exemplos: http://meusite.mackenzie.br/rogerio/TIC/pieces[*].csv\n",
        "\n",
        "> Arquivo de Novos Casos: http://meusite.mackenzie.br/rogerio/TIC/pieces[*]_new.csv\n",
        "\n",
        "Nos modelos não empregue nenhum ou parâmetro além dos informados.\n",
        "\n",
        "\n",
        "<br>\n",
        "\n",
        "***\n"
      ]
    },
    {
      "cell_type": "markdown",
      "metadata": {
        "id": "DhqXMyulSJnh"
      },
      "source": [
        "# Q0. Aquisição dos Dados"
      ]
    },
    {
      "cell_type": "code",
      "metadata": {
        "id": "iY3TLR1KyRz8"
      },
      "source": [
        "import pandas as pd\n",
        "\n",
        "..."
      ],
      "execution_count": null,
      "outputs": []
    },
    {
      "cell_type": "markdown",
      "metadata": {
        "id": "GdCBuPmJRnbJ"
      },
      "source": [
        "# Q1. Exploração e Preparação dos Dados\n",
        "\n",
        "1. Explore seu data set.\n",
        "2. Se houverem, elimine atributos que não devem fazer parte do modelo (treinamento).\n",
        "3. Se existirem valores nulos elimine as linhas desses casos.\n",
        "4. Faça o hot encode do atributo categórico `Unit` para o uso nos modelos. Em seguida exclua o atributo `Unit` original.\n",
        "5. NÃO NORMALIZE dados ou faça outras transformações não solicitadas (troca da ordem de atributos por exemplo não são recomendadas!).\n",
        "\n",
        "\n",
        "\n"
      ]
    },
    {
      "cell_type": "code",
      "metadata": {
        "id": "iYEySGnKIJNI"
      },
      "source": [
        "... "
      ],
      "execution_count": null,
      "outputs": []
    },
    {
      "cell_type": "markdown",
      "metadata": {
        "id": "RT6oxI5KIp8q"
      },
      "source": [
        "# Q2-Q3. Crie e Avalie os diferentes Modelos de Classificação\n",
        "\n",
        "Crie os modelos conforme o final do seu TIA. Empregue o modelo de maior acurácia para predição dos novos casos. Em todos casos:\n",
        "\n",
        "1. Empregue o `seed=1984` para a geração dos dados de treinamento e teste e para o `random_state` das Árvores de Decisão.\n",
        "2. Crie os conjuntos de treinamento e teste com 0.3 para teste e dados estratificados.\n",
        "3. Não empregue outros parâmetros não solicitados nos modelos.\n",
        "4. Para os modelos de regressão logística ignore eventuais comentários, warnings produzidos pelo modelo.\n",
        "\n"
      ]
    },
    {
      "cell_type": "code",
      "metadata": {
        "id": "R4jlp_dPoTas"
      },
      "source": [
        "...\n"
      ],
      "execution_count": null,
      "outputs": []
    },
    {
      "cell_type": "markdown",
      "metadata": {
        "id": "O5QSZQjaQT-t"
      },
      "source": [
        "# Q4. Predição com o Melhor Modelo (Acurácia Geral)"
      ]
    },
    {
      "cell_type": "code",
      "metadata": {
        "id": "qX3CnuZSoPoU"
      },
      "source": [
        "..."
      ],
      "execution_count": null,
      "outputs": []
    },
    {
      "cell_type": "markdown",
      "metadata": {
        "id": "MrawHk_dicHl"
      },
      "source": [
        "# Q5. Regressão Linear\n",
        "\n",
        "Crie um modelo de Regressão Linear para o Cálculo da medida C das peças com base nas demais medidas. Empregue o modelo para estimar a medida dos C das novas peças."
      ]
    },
    {
      "cell_type": "code",
      "metadata": {
        "id": "gqnwjpdpifeN"
      },
      "source": [
        "...\n"
      ],
      "execution_count": null,
      "outputs": []
    }
  ]
}